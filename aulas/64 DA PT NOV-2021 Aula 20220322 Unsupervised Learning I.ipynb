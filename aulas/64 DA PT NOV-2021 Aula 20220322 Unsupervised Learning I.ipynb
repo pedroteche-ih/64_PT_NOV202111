{
 "cells": [
  {
   "cell_type": "code",
   "execution_count": null,
   "metadata": {
    "ExecuteTime": {
     "end_time": "2022-03-22T13:50:10.155763Z",
     "start_time": "2022-03-22T13:50:09.083013Z"
    }
   },
   "outputs": [],
   "source": [
    "import pandas as pd\n",
    "import numpy as np\n",
    "import seaborn as sns\n",
    "from matplotlib import pyplot as plt"
   ]
  },
  {
   "cell_type": "markdown",
   "metadata": {},
   "source": [
    "# Clustering"
   ]
  },
  {
   "cell_type": "markdown",
   "metadata": {},
   "source": [
    "Até o momento exploramos uma area de aprendizagem não supervisionada: **redução de dimensionalidade** através de PCA.\n",
    "\n",
    "Hoje olharemos outra classe de algoritmos que se enquadram neste tipo de aprendizagem: **algoritmos de clusterização**. Algoritmos de clusterização buscam aprender, a partir das variáveis observadas, uma categorização ótima dos pontos em grupos distintos."
   ]
  },
  {
   "cell_type": "markdown",
   "metadata": {},
   "source": [
    "# Conhecendo KMeans"
   ]
  },
  {
   "cell_type": "markdown",
   "metadata": {},
   "source": [
    "## KMeans in 2-Dimensions"
   ]
  },
  {
   "cell_type": "markdown",
   "metadata": {},
   "source": [
    "Vamos analisar um problema simples (em 2 variáveis) a partir de dados simulados."
   ]
  },
  {
   "cell_type": "code",
   "execution_count": null,
   "metadata": {
    "ExecuteTime": {
     "end_time": "2022-03-22T13:50:11.152304Z",
     "start_time": "2022-03-22T13:50:10.862025Z"
    }
   },
   "outputs": [],
   "source": [
    "# from sklearn.datasets.samples_generator import make_blobs\n",
    "from sklearn.datasets import make_blobs\n",
    "\n",
    "\n",
    "X, y_true = make_blobs(n_samples=300, centers=4,\n",
    "                       cluster_std=0.6, random_state=0)\n",
    "\n",
    "tb_blob = pd.DataFrame(X)\n",
    "tb_blob.columns = ['X1', 'X2']\n",
    "sns.scatterplot(data = tb_blob, x = 'X1', y = 'X2');"
   ]
  },
  {
   "cell_type": "markdown",
   "metadata": {},
   "source": [
    "A partir do gráfico acima podemos inferir que deveria ser possível separar os pontos, através destas duas variáveis, em 4 grupos distintos."
   ]
  },
  {
   "cell_type": "markdown",
   "metadata": {},
   "source": [
    "## O que são Centroides?"
   ]
  },
  {
   "cell_type": "markdown",
   "metadata": {},
   "source": [
    "Os centroides são o centro de massa de cada grupo que vamos calcular."
   ]
  },
  {
   "cell_type": "markdown",
   "metadata": {},
   "source": [
    "No algoritmo **KMeans**, devemos especificar quantos grupos iremos buscar através do parametro **n_clusters**."
   ]
  },
  {
   "cell_type": "code",
   "execution_count": null,
   "metadata": {
    "ExecuteTime": {
     "end_time": "2022-03-22T13:50:12.715436Z",
     "start_time": "2022-03-22T13:50:12.580746Z"
    }
   },
   "outputs": [],
   "source": [
    "from sklearn.cluster import KMeans"
   ]
  },
  {
   "cell_type": "code",
   "execution_count": null,
   "metadata": {
    "ExecuteTime": {
     "end_time": "2022-03-22T13:50:12.966902Z",
     "start_time": "2022-03-22T13:50:12.960888Z"
    }
   },
   "outputs": [],
   "source": [
    "clu_fit = KMeans(n_clusters = 4)"
   ]
  },
  {
   "cell_type": "markdown",
   "metadata": {},
   "source": [
    "Quando utilizamos o algoritmo **KMeans** na implatanção da Scikit-Learn, os principais resultados são armazenados nos atributos **kmeans.cluster_centers_** e **kmeans.labels_**"
   ]
  },
  {
   "cell_type": "markdown",
   "metadata": {},
   "source": [
    "O atributo **kmeans.labels_** guarda as previsões dos agrupamentos para o dataset que utilizamos durante a etapa de aprendizagem. Podemos utilizar o método **kmeans.predict(X)** para obter a mesma variável categórica resultante."
   ]
  },
  {
   "cell_type": "code",
   "execution_count": null,
   "metadata": {
    "ExecuteTime": {
     "end_time": "2022-03-22T13:50:14.319841Z",
     "start_time": "2022-03-22T13:50:14.138767Z"
    }
   },
   "outputs": [],
   "source": [
    "clu_fit.fit(tb_blob[['X1', 'X2']])\n",
    "tb_blob['pred_cluster'] = clu_fit.predict(tb_blob[['X1', 'X2']])\n",
    "# Também poderíamos usar tb_blob['pred_cluster'] = clu_fit.labels_\n",
    "tb_blob['pred_cluster'] = tb_blob['pred_cluster'].astype(str)\n",
    "centroids = pd.DataFrame(clu_fit.cluster_centers_)\n",
    "centroids.columns = ['X1', 'X2']"
   ]
  },
  {
   "cell_type": "code",
   "execution_count": null,
   "metadata": {
    "ExecuteTime": {
     "end_time": "2022-03-22T13:50:14.809355Z",
     "start_time": "2022-03-22T13:50:14.555251Z"
    }
   },
   "outputs": [],
   "source": [
    "print(clu_fit.cluster_centers_)\n",
    "plt.figure(figsize=(8,8))\n",
    "sns.scatterplot(data = tb_blob, x = 'X1', y = 'X2', hue = 'pred_cluster', s = 100);\n",
    "sns.scatterplot(data = centroids, x = 'X1', y = 'X2', color = 'black', s = 250);"
   ]
  },
  {
   "cell_type": "markdown",
   "metadata": {},
   "source": [
    "## Os passos de KMeans"
   ]
  },
  {
   "cell_type": "markdown",
   "metadata": {},
   "source": [
    "### Primeira Iteração"
   ]
  },
  {
   "cell_type": "markdown",
   "metadata": {},
   "source": [
    "Começamos inicializando um vetor de centroides aleatórios."
   ]
  },
  {
   "cell_type": "code",
   "execution_count": null,
   "metadata": {
    "ExecuteTime": {
     "end_time": "2022-03-22T13:50:15.560798Z",
     "start_time": "2022-03-22T13:50:15.549855Z"
    }
   },
   "outputs": [],
   "source": [
    "X1_guess = np.random.uniform(min(tb_blob['X1']), max(tb_blob['X1']), size = 4)\n",
    "X2_guess = np.random.uniform(min(tb_blob['X2']), max(tb_blob['X2']), size = 4)\n",
    "centroids_guess = pd.DataFrame({'X1' : X1_guess, 'X2' : X2_guess})\n",
    "centroids_guess['iteracao']  = 'IT_0'"
   ]
  },
  {
   "cell_type": "code",
   "execution_count": null,
   "metadata": {
    "ExecuteTime": {
     "end_time": "2022-03-22T13:50:15.901298Z",
     "start_time": "2022-03-22T13:50:15.746618Z"
    }
   },
   "outputs": [],
   "source": [
    "plt.figure(figsize=(8,8))\n",
    "sns.scatterplot(data = tb_blob, x = 'X1', y = 'X2', s = 100);\n",
    "sns.scatterplot(data = centroids_guess, x = 'X1', y = 'X2', s = 100);"
   ]
  },
  {
   "cell_type": "markdown",
   "metadata": {},
   "source": [
    "Usaremos o parâmetro `init=` para especificar que o algoritmo deve iniciar nos nossos centróides."
   ]
  },
  {
   "cell_type": "code",
   "execution_count": null,
   "metadata": {
    "ExecuteTime": {
     "end_time": "2022-03-22T13:50:16.026932Z",
     "start_time": "2022-03-22T13:50:15.942159Z"
    }
   },
   "outputs": [],
   "source": [
    "clu2_fit = KMeans(n_clusters=4, max_iter=1, init=centroids_guess[['X1', 'X2']], n_init=1)\n",
    "clu2_fit.fit(tb_blob[['X1', 'X2']])\n",
    "tb_blob['pred_cluster'] = clu2_fit.predict(tb_blob[['X1', 'X2']])\n",
    "tb_blob['pred_cluster'] = tb_blob['pred_cluster'].astype(str)\n",
    "centroids_1it = pd.DataFrame(clu2_fit.cluster_centers_)\n",
    "centroids_1it.columns = ['X1', 'X2']\n",
    "centroids_1it['iteracao']  = 'IT_1'"
   ]
  },
  {
   "cell_type": "markdown",
   "metadata": {},
   "source": [
    "O algoritmo coloca cada ponto do nosso dataset em um cluster a partir da pr o vetor de clusterização a partir dos centróides e então recalcu-la novos centróides a partir da média dos clusters calculados."
   ]
  },
  {
   "cell_type": "code",
   "execution_count": null,
   "metadata": {
    "ExecuteTime": {
     "end_time": "2022-03-22T13:50:16.371014Z",
     "start_time": "2022-03-22T13:50:16.114699Z"
    }
   },
   "outputs": [],
   "source": [
    "plt.figure(figsize=(8,8))\n",
    "sns.scatterplot(data = tb_blob, x = 'X1', y = 'X2', hue = 'pred_cluster', s = 100);\n",
    "sns.scatterplot(data = centroids_1it, x = 'X1', y = 'X2', color = 'black', s = 250);"
   ]
  },
  {
   "cell_type": "markdown",
   "metadata": {},
   "source": [
    "### Segunda Iteração"
   ]
  },
  {
   "cell_type": "code",
   "execution_count": null,
   "metadata": {
    "ExecuteTime": {
     "end_time": "2022-03-22T13:50:16.605741Z",
     "start_time": "2022-03-22T13:50:16.518974Z"
    }
   },
   "outputs": [],
   "source": [
    "clu3_fit = KMeans(n_clusters=4, max_iter=1, init=centroids_1it[['X1', 'X2']], n_init=1)\n",
    "clu3_fit.fit(tb_blob[['X1', 'X2']])\n",
    "tb_blob['pred_cluster'] = clu3_fit.predict(tb_blob[['X1', 'X2']])\n",
    "tb_blob['pred_cluster'] = tb_blob['pred_cluster'].astype(str)\n",
    "centroids_2it = pd.DataFrame(clu3_fit.cluster_centers_)\n",
    "centroids_2it.columns = ['X1', 'X2']\n",
    "centroids_2it['iteracao']  = 'IT_2'"
   ]
  },
  {
   "cell_type": "code",
   "execution_count": null,
   "metadata": {
    "ExecuteTime": {
     "end_time": "2022-03-22T13:50:16.997774Z",
     "start_time": "2022-03-22T13:50:16.738388Z"
    }
   },
   "outputs": [],
   "source": [
    "plt.figure(figsize=(8,8))\n",
    "sns.scatterplot(data = tb_blob, x = 'X1', y = 'X2', hue = 'pred_cluster', s = 100);\n",
    "sns.scatterplot(data = centroids_2it, x = 'X1', y = 'X2', color = 'black', s = 250);"
   ]
  },
  {
   "cell_type": "markdown",
   "metadata": {},
   "source": [
    "### Terceira Iteração"
   ]
  },
  {
   "cell_type": "code",
   "execution_count": null,
   "metadata": {
    "ExecuteTime": {
     "end_time": "2022-03-22T13:50:17.250695Z",
     "start_time": "2022-03-22T13:50:17.169911Z"
    }
   },
   "outputs": [],
   "source": [
    "clu4_fit = KMeans(n_clusters=4, max_iter=1, init=centroids_2it[['X1', 'X2']], n_init=1)\n",
    "clu4_fit.fit(X)\n",
    "tb_blob['pred_cluster'] = clu4_fit.predict(tb_blob[['X1', 'X2']])\n",
    "tb_blob['pred_cluster'] = tb_blob['pred_cluster'].astype(str)\n",
    "centroids_3it = pd.DataFrame(clu4_fit.cluster_centers_)\n",
    "centroids_3it.columns = ['X1', 'X2']\n",
    "centroids_3it['iteracao']  = 'IT_3'"
   ]
  },
  {
   "cell_type": "code",
   "execution_count": null,
   "metadata": {
    "ExecuteTime": {
     "end_time": "2022-03-22T13:50:17.640191Z",
     "start_time": "2022-03-22T13:50:17.340455Z"
    }
   },
   "outputs": [],
   "source": [
    "plt.figure(figsize=(8,8))\n",
    "sns.scatterplot(data = tb_blob, x = 'X1', y = 'X2', hue = 'pred_cluster', s = 100);\n",
    "sns.scatterplot(data = centroids_2it, x = 'X1', y = 'X2', color = 'black', s = 250);"
   ]
  },
  {
   "cell_type": "markdown",
   "metadata": {},
   "source": [
    "### 10 Steps at Once"
   ]
  },
  {
   "cell_type": "code",
   "execution_count": null,
   "metadata": {
    "ExecuteTime": {
     "end_time": "2022-03-22T13:50:38.045184Z",
     "start_time": "2022-03-22T13:50:35.951663Z"
    }
   },
   "outputs": [],
   "source": [
    "fig, axes = plt.subplots(3,3, figsize=(14,8))\n",
    "\n",
    "X1_guess = np.random.uniform(min(tb_blob['X1']), max(tb_blob['X1']), size = 4)\n",
    "X2_guess = np.random.uniform(min(tb_blob['X2']), max(tb_blob['X2']), size = 4)\n",
    "centroids = pd.DataFrame({'X1' : X1_guess, 'X2' : X2_guess})\n",
    "\n",
    "for i in range(3):\n",
    "    for j in range(3):\n",
    "    \n",
    "        n_iterations = i + j + 1\n",
    "        \n",
    "\n",
    "        clu_fit = KMeans(4, max_iter=1, init=centroids, n_init=1)\n",
    "        clu_fit.fit(tb_blob[['X1', 'X2']])\n",
    "        tb_blob['pred_cluster'] = clu_fit.labels_\n",
    "        tb_blob['pred_cluster'] = tb_blob['pred_cluster'].astype(str)\n",
    "        \n",
    "        centroids = pd.DataFrame(clu_fit.cluster_centers_)\n",
    "        centroids.columns = ['X1', 'X2']\n",
    "        \n",
    "        sns.scatterplot(data = tb_blob, x = 'X1', y = 'X2', hue = 'pred_cluster', ax = axes[i,j])\n",
    "        sns.scatterplot(data = centroids, x = 'X1', y = 'X2', color = 'black', ax = axes[i,j])"
   ]
  },
  {
   "cell_type": "markdown",
   "metadata": {},
   "source": [
    "## Problemas do KMeans"
   ]
  },
  {
   "cell_type": "markdown",
   "metadata": {},
   "source": [
    "### Convergência"
   ]
  },
  {
   "cell_type": "markdown",
   "metadata": {},
   "source": [
    "Temos duas ferramentas para garantir a convergência do algoritmo KMeans:\n",
    "* Melhorar a seleção dos centroides iniciais\n",
    "* Processar mais que um conjunto de centroides e selecionar o melhor conjunto\n",
    "\n",
    "A execução 'padrão' da biblioteca SKLEARN implementa as duas estratégias automaticamente através dos parâmetros `init = 'k-means++'`, utilizando o algoritmo k-means++ para seleção inicial de centroides, e `n_init = 10`, processando 10 conjuntos de centroides diferentes e escolhendo o com clusters mais estáveis."
   ]
  },
  {
   "cell_type": "code",
   "execution_count": null,
   "metadata": {
    "ExecuteTime": {
     "end_time": "2022-03-22T13:50:43.575252Z",
     "start_time": "2022-03-22T13:50:43.155650Z"
    }
   },
   "outputs": [],
   "source": [
    "clu_fit = KMeans(n_clusters = 4, init = 'k-means++', n_init = 10)\n",
    "clu_fit.fit(tb_blob[['X1', 'X2']])\n",
    "tb_blob['pred_cluster'] = clu_fit.predict(tb_blob[['X1', 'X2']])\n",
    "tb_blob['pred_cluster'] = tb_blob['pred_cluster'].astype(str)\n",
    "centroids = pd.DataFrame(clu_fit.cluster_centers_)\n",
    "centroids.columns = ['X1', 'X2']\n",
    "plt.figure(figsize=(8,8))\n",
    "sns.scatterplot(data = tb_blob, x = 'X1', y = 'X2', hue = 'pred_cluster', s = 100);\n",
    "sns.scatterplot(data = centroids, x = 'X1', y = 'X2', color = 'black', s = 250);"
   ]
  },
  {
   "cell_type": "markdown",
   "metadata": {},
   "source": [
    "### Selecionando K"
   ]
  },
  {
   "cell_type": "code",
   "execution_count": null,
   "metadata": {
    "ExecuteTime": {
     "end_time": "2022-03-22T13:50:46.648870Z",
     "start_time": "2022-03-22T13:50:46.300772Z"
    }
   },
   "outputs": [],
   "source": [
    "clu_fit = KMeans(n_clusters = 2, init = 'k-means++', n_init = 10)\n",
    "clu_fit.fit(tb_blob[['X1', 'X2']])\n",
    "tb_blob['pred_cluster'] = clu_fit.predict(tb_blob[['X1', 'X2']])\n",
    "tb_blob['pred_cluster'] = tb_blob['pred_cluster'].astype(str)\n",
    "centroids = pd.DataFrame(clu_fit.cluster_centers_)\n",
    "centroids.columns = ['X1', 'X2']\n",
    "plt.figure(figsize=(8,8))\n",
    "sns.scatterplot(data = tb_blob, x = 'X1', y = 'X2', hue = 'pred_cluster', s = 100);\n",
    "sns.scatterplot(data = centroids, x = 'X1', y = 'X2', color = 'black', s = 250);"
   ]
  },
  {
   "cell_type": "code",
   "execution_count": null,
   "metadata": {
    "ExecuteTime": {
     "end_time": "2022-03-22T13:50:47.968744Z",
     "start_time": "2022-03-22T13:50:47.419743Z"
    }
   },
   "outputs": [],
   "source": [
    "clu_fit = KMeans(n_clusters = 10)\n",
    "clu_fit.fit(tb_blob[['X1', 'X2']])\n",
    "tb_blob['pred_cluster'] = clu_fit.predict(tb_blob[['X1', 'X2']])\n",
    "tb_blob['pred_cluster'] = tb_blob['pred_cluster'].astype(str)\n",
    "centroids = pd.DataFrame(clu_fit.cluster_centers_)\n",
    "centroids.columns = ['X1', 'X2']\n",
    "plt.figure(figsize=(8,8))\n",
    "sns.scatterplot(data = tb_blob, x = 'X1', y = 'X2', hue = 'pred_cluster', s = 100);\n",
    "sns.scatterplot(data = centroids, x = 'X1', y = 'X2', color = 'black', s = 250);"
   ]
  },
  {
   "cell_type": "markdown",
   "metadata": {},
   "source": [
    "#### Inércia"
   ]
  },
  {
   "cell_type": "markdown",
   "metadata": {},
   "source": [
    "A inércia é uma medida da coesão interna de um cluster: ela mede o quão parecido os pontos de um dado grupo são entre si e é uma medida de distorção (quanto maior, piores os clusters). Ela é medida como a soma do quadrado da distância de cada ponto ao centroide de seu cluster.\n",
    "\n",
    "https://towardsdatascience.com/clustering-how-to-find-hyperparameters-using-inertia-b0343c6fe819"
   ]
  },
  {
   "cell_type": "code",
   "execution_count": null,
   "metadata": {
    "ExecuteTime": {
     "end_time": "2022-03-22T13:53:30.241466Z",
     "start_time": "2022-03-22T13:53:29.611969Z"
    }
   },
   "outputs": [],
   "source": [
    "inertia_list = []\n",
    "\n",
    "for i in range(2, 11):\n",
    "    clu_fit = KMeans(n_clusters = i)\n",
    "    clu_fit.fit(tb_blob[['X1', 'X2']])\n",
    "    inertia_list.append(clu_fit.inertia_)\n",
    "    \n",
    "tb_inertia = pd.DataFrame({'k' : list(range(2, 11)), 'inertia' : inertia_list})\n",
    "sns.lineplot(data = tb_inertia, x = 'k', y = 'inertia');"
   ]
  },
  {
   "cell_type": "code",
   "execution_count": null,
   "metadata": {
    "ExecuteTime": {
     "end_time": "2022-03-22T13:53:31.789858Z",
     "start_time": "2022-03-22T13:53:31.772902Z"
    }
   },
   "outputs": [],
   "source": [
    "from yellowbrick.cluster import KElbowVisualizer"
   ]
  },
  {
   "cell_type": "code",
   "execution_count": null,
   "metadata": {
    "ExecuteTime": {
     "end_time": "2022-03-22T13:53:32.965171Z",
     "start_time": "2022-03-22T13:53:32.250531Z"
    }
   },
   "outputs": [],
   "source": [
    "model = KMeans()\n",
    "visualizer = KElbowVisualizer(model, k=(2,10))\n",
    "\n",
    "visualizer.fit(tb_blob[['X1', 'X2']])\n",
    "visualizer.show();"
   ]
  },
  {
   "cell_type": "markdown",
   "metadata": {},
   "source": [
    "#### Silhueta"
   ]
  },
  {
   "cell_type": "markdown",
   "metadata": {},
   "source": [
    "Embora a inércia seja uma ótima medida de quanto cada ponto pertence ao seu cluster ela não leva em conta o quão parecido cada ponto é com os outros clusters. A silhueta é uma medida associada à cada ponto do nosso conjunto de dados que mede a relação entre *o quão parecido cada ponto é com seu proprio cluster* e o *quão parecido cada ponto é com o cluster mais próximo ao qual ele não pertence*. Ela é definida como a diferença entre a distância média de um ponto para cada elemento de seu cluter e a distância de um ponto para cada elemento do cluster mais próximo (que não aquele ao qual ele pertence) normalizada pelo máximo entre essas duas distâncias.\n",
    "\n",
    "Como ela é medida por ponto, podemos utiliza-la para avaliar quão bem *enquadrado* cada um está em seu cluster - os pontos com silhueta = 1 são os melhores enquadrados, os com silhueta = -1 os piores.\n",
    "\n",
    "https://towardsdatascience.com/silhouette-method-better-than-elbow-method-to-find-optimal-clusters-378d62ff6891"
   ]
  },
  {
   "cell_type": "code",
   "execution_count": null,
   "metadata": {
    "ExecuteTime": {
     "end_time": "2022-03-22T14:08:12.890086Z",
     "start_time": "2022-03-22T14:08:12.781378Z"
    }
   },
   "outputs": [],
   "source": [
    "clu_fit = KMeans(n_clusters = 2)\n",
    "clu_fit.fit(tb_blob[['X1', 'X2']])\n",
    "tb_blob['pc_k2'] = clu_fit.predict(tb_blob[['X1', 'X2']])\n",
    "tb_blob['pc_k2'] = tb_blob['pc_k2'].astype(str)"
   ]
  },
  {
   "cell_type": "code",
   "execution_count": null,
   "metadata": {
    "ExecuteTime": {
     "end_time": "2022-03-22T14:08:13.328379Z",
     "start_time": "2022-03-22T14:08:13.144364Z"
    }
   },
   "outputs": [],
   "source": [
    "clu_fit = KMeans(n_clusters = 10)\n",
    "clu_fit.fit(tb_blob[['X1', 'X2']])\n",
    "tb_blob['pc_k10'] = clu_fit.predict(tb_blob[['X1', 'X2']])\n",
    "tb_blob['pc_k10'] = tb_blob['pc_k10'].astype(str)"
   ]
  },
  {
   "cell_type": "code",
   "execution_count": null,
   "metadata": {
    "ExecuteTime": {
     "end_time": "2022-03-22T14:08:13.685011Z",
     "start_time": "2022-03-22T14:08:13.673040Z"
    }
   },
   "outputs": [],
   "source": [
    "from sklearn.metrics import silhouette_samples"
   ]
  },
  {
   "cell_type": "code",
   "execution_count": null,
   "metadata": {
    "ExecuteTime": {
     "end_time": "2022-03-22T14:08:14.057108Z",
     "start_time": "2022-03-22T14:08:14.028159Z"
    }
   },
   "outputs": [],
   "source": [
    "tb_blob['sil_k2'] = silhouette_samples(tb_blob[['X1', 'X2']], tb_blob['pc_k2'])\n",
    "tb_blob['sil_k10'] = silhouette_samples(tb_blob[['X1', 'X2']], tb_blob['pc_k10'])"
   ]
  },
  {
   "cell_type": "code",
   "execution_count": null,
   "metadata": {
    "ExecuteTime": {
     "end_time": "2022-03-22T14:09:35.652417Z",
     "start_time": "2022-03-22T14:09:35.352194Z"
    }
   },
   "outputs": [],
   "source": [
    "plt.figure(figsize=(8,8))\n",
    "sns.scatterplot(data = tb_blob, x = 'X1', y = 'X2', hue = 'pc_k2', size = 'sil_k2', sizes = (10, 150));"
   ]
  },
  {
   "cell_type": "code",
   "execution_count": null,
   "metadata": {
    "ExecuteTime": {
     "end_time": "2022-03-22T14:10:06.711867Z",
     "start_time": "2022-03-22T14:10:06.246356Z"
    }
   },
   "outputs": [],
   "source": [
    "plt.figure(figsize=(8,8))\n",
    "sns.scatterplot(data = tb_blob, x = 'X1', y = 'X2', hue = 'pc_k10', size = 'sil_k10', sizes = (10, 150));"
   ]
  },
  {
   "cell_type": "code",
   "execution_count": null,
   "metadata": {
    "ExecuteTime": {
     "end_time": "2022-03-22T14:15:42.327171Z",
     "start_time": "2022-03-22T14:15:41.643167Z"
    }
   },
   "outputs": [],
   "source": [
    "from sklearn.metrics import silhouette_score\n",
    "sil_list = []\n",
    "\n",
    "for i in range(2, 11):\n",
    "    clu_fit = KMeans(n_clusters = i)\n",
    "    clu_fit.fit(tb_blob[['X1', 'X2']])\n",
    "    sil = silhouette_score(tb_blob[['X1', 'X2']], clu_fit.labels_)\n",
    "    sil_list.append(sil)\n",
    "    \n",
    "tb_inertia = pd.DataFrame({'k' : list(range(2, 11)), 'silhouette' : sil_list})\n",
    "sns.lineplot(data = tb_inertia, x = 'k', y = 'silhouette');"
   ]
  },
  {
   "cell_type": "code",
   "execution_count": null,
   "metadata": {
    "ExecuteTime": {
     "end_time": "2022-03-22T14:16:40.044101Z",
     "start_time": "2022-03-22T14:16:39.723975Z"
    }
   },
   "outputs": [],
   "source": [
    "from yellowbrick.cluster import SilhouetteVisualizer\n",
    "\n",
    "model = KMeans(4, random_state=42)\n",
    "visualizer = SilhouetteVisualizer(model, colors='yellowbrick')\n",
    "\n",
    "visualizer.fit(tb_blob[['X1', 'X2']])\n",
    "visualizer.show();"
   ]
  },
  {
   "cell_type": "markdown",
   "metadata": {
    "ExecuteTime": {
     "end_time": "2020-07-12T23:15:52.519913Z",
     "start_time": "2020-07-12T23:15:52.516922Z"
    }
   },
   "source": [
    "# Um exemplo prático"
   ]
  },
  {
   "cell_type": "code",
   "execution_count": null,
   "metadata": {
    "ExecuteTime": {
     "end_time": "2022-03-22T14:17:33.743848Z",
     "start_time": "2022-03-22T14:17:33.719912Z"
    }
   },
   "outputs": [],
   "source": [
    "tb_usarrests = pd.read_csv('data/USArrests.csv', index_col=0)\n",
    "tb_usarrests.head()"
   ]
  },
  {
   "cell_type": "code",
   "execution_count": null,
   "metadata": {
    "ExecuteTime": {
     "end_time": "2022-03-22T14:17:36.104743Z",
     "start_time": "2022-03-22T14:17:34.222792Z"
    }
   },
   "outputs": [],
   "source": [
    "sns.pairplot(data = tb_usarrests)"
   ]
  },
  {
   "cell_type": "code",
   "execution_count": null,
   "metadata": {
    "ExecuteTime": {
     "end_time": "2022-03-22T14:17:36.120721Z",
     "start_time": "2022-03-22T14:17:36.105718Z"
    }
   },
   "outputs": [],
   "source": [
    "from sklearn.decomposition import PCA\n",
    "from sklearn.preprocessing import StandardScaler"
   ]
  },
  {
   "cell_type": "markdown",
   "metadata": {},
   "source": [
    "## Padronizar os dados"
   ]
  },
  {
   "cell_type": "code",
   "execution_count": null,
   "metadata": {
    "ExecuteTime": {
     "end_time": "2022-03-22T14:17:36.136653Z",
     "start_time": "2022-03-22T14:17:36.121674Z"
    }
   },
   "outputs": [],
   "source": [
    "scaler = StandardScaler().fit(tb_usarrests)\n",
    "tb_std_usa = pd.DataFrame(scaler.transform(tb_usarrests), columns = tb_usarrests.columns)"
   ]
  },
  {
   "cell_type": "code",
   "execution_count": null,
   "metadata": {
    "ExecuteTime": {
     "end_time": "2022-03-22T14:17:36.261955Z",
     "start_time": "2022-03-22T14:17:36.235027Z"
    }
   },
   "outputs": [],
   "source": [
    "tb_std_usa.head()"
   ]
  },
  {
   "cell_type": "markdown",
   "metadata": {},
   "source": [
    "## Como visualizar relações em mais do que 2 dimensões?"
   ]
  },
  {
   "cell_type": "code",
   "execution_count": null,
   "metadata": {
    "ExecuteTime": {
     "end_time": "2022-03-22T14:17:37.602822Z",
     "start_time": "2022-03-22T14:17:37.583841Z"
    }
   },
   "outputs": [],
   "source": [
    "pca_fit = PCA()\n",
    "pca_fit.fit(tb_std_usa);\n",
    "print(np.cumsum(pca_fit.explained_variance_ratio_))\n",
    "tb_pca_usa = pd.DataFrame(pca_fit.transform(tb_std_usa),\n",
    "                          columns = ['PC1', 'PC2', 'PC3', 'PC4'])"
   ]
  },
  {
   "cell_type": "code",
   "execution_count": null,
   "metadata": {
    "ExecuteTime": {
     "end_time": "2022-03-22T14:18:00.136984Z",
     "start_time": "2022-03-22T14:17:59.974835Z"
    }
   },
   "outputs": [],
   "source": [
    "sns.scatterplot(data = tb_pca_usa, x = 'PC1', y = 'PC2')"
   ]
  },
  {
   "cell_type": "markdown",
   "metadata": {},
   "source": [
    "## Escolhendo K"
   ]
  },
  {
   "cell_type": "code",
   "execution_count": null,
   "metadata": {
    "ExecuteTime": {
     "end_time": "2022-03-22T14:18:35.546050Z",
     "start_time": "2022-03-22T14:18:34.872758Z"
    }
   },
   "outputs": [],
   "source": [
    "model = KMeans()\n",
    "visualizer = KElbowVisualizer(model, k=(2,10))\n",
    "\n",
    "visualizer.fit(tb_pca_usa)\n",
    "visualizer.show();"
   ]
  },
  {
   "cell_type": "code",
   "execution_count": null,
   "metadata": {
    "ExecuteTime": {
     "end_time": "2022-03-22T14:19:50.041456Z",
     "start_time": "2022-03-22T14:19:49.475955Z"
    }
   },
   "outputs": [],
   "source": [
    "sil_list = []\n",
    "\n",
    "for i in range(2, 11):\n",
    "    clu_fit = KMeans(n_clusters = i)\n",
    "    clu_fit.fit(tb_pca_usa)\n",
    "    sil = silhouette_score(tb_pca_usa, clu_fit.labels_)\n",
    "    sil_list.append(sil)\n",
    "    \n",
    "tb_inertia = pd.DataFrame({'k' : list(range(2, 11)), 'silhouette' : sil_list})\n",
    "sns.lineplot(data = tb_inertia, x = 'k', y = 'silhouette');"
   ]
  },
  {
   "cell_type": "code",
   "execution_count": null,
   "metadata": {
    "ExecuteTime": {
     "end_time": "2022-03-22T14:21:10.452847Z",
     "start_time": "2022-03-22T14:21:10.177580Z"
    }
   },
   "outputs": [],
   "source": [
    "from yellowbrick.cluster import SilhouetteVisualizer\n",
    "\n",
    "model = KMeans(2)\n",
    "visualizer = SilhouetteVisualizer(model, colors='yellowbrick')\n",
    "\n",
    "visualizer.fit(tb_pca_usa)\n",
    "visualizer.show();"
   ]
  },
  {
   "cell_type": "markdown",
   "metadata": {},
   "source": [
    "## Analisando os resultados finais"
   ]
  },
  {
   "cell_type": "code",
   "execution_count": null,
   "metadata": {
    "ExecuteTime": {
     "end_time": "2022-03-22T14:29:54.940508Z",
     "start_time": "2022-03-22T14:29:54.885656Z"
    }
   },
   "outputs": [],
   "source": [
    "clu_fit_final = KMeans(4)\n",
    "clu_fit_final.fit(tb_pca_usa)\n",
    "tb_pca_usa['cluster'] = clu_fit_final.labels_\n",
    "tb_pca_usa['cluster'] = tb_pca_usa['cluster'].astype(str)\n",
    "tb_usarrests['cluster'] = clu_fit_final.labels_\n",
    "tb_usarrests['cluster'] = tb_usarrests['cluster'].astype(str)"
   ]
  },
  {
   "cell_type": "code",
   "execution_count": null,
   "metadata": {
    "ExecuteTime": {
     "end_time": "2022-03-22T14:29:55.578091Z",
     "start_time": "2022-03-22T14:29:55.326670Z"
    }
   },
   "outputs": [],
   "source": [
    "sns.scatterplot(data = tb_pca_usa, x = 'PC1', y = 'PC2', hue = 'cluster', s = 100);"
   ]
  },
  {
   "cell_type": "code",
   "execution_count": null,
   "metadata": {
    "ExecuteTime": {
     "end_time": "2022-03-22T14:29:58.447238Z",
     "start_time": "2022-03-22T14:29:58.296649Z"
    }
   },
   "outputs": [],
   "source": [
    "sns.boxplot(data = tb_usarrests, x = 'cluster', y = 'Murder');"
   ]
  },
  {
   "cell_type": "code",
   "execution_count": null,
   "metadata": {
    "ExecuteTime": {
     "end_time": "2022-03-22T14:30:01.765101Z",
     "start_time": "2022-03-22T14:30:01.514646Z"
    }
   },
   "outputs": [],
   "source": [
    "sns.boxplot(data = tb_usarrests, x = 'cluster', y = 'Rape');"
   ]
  },
  {
   "cell_type": "code",
   "execution_count": null,
   "metadata": {
    "ExecuteTime": {
     "end_time": "2022-03-22T14:30:07.182095Z",
     "start_time": "2022-03-22T14:30:07.048453Z"
    }
   },
   "outputs": [],
   "source": [
    "sns.boxplot(data = tb_usarrests, x = 'cluster', y = 'Assault');"
   ]
  },
  {
   "cell_type": "code",
   "execution_count": null,
   "metadata": {
    "ExecuteTime": {
     "end_time": "2022-03-22T14:30:11.857342Z",
     "start_time": "2022-03-22T14:30:11.706655Z"
    }
   },
   "outputs": [],
   "source": [
    "sns.boxplot(data = tb_usarrests, x = 'cluster', y = 'UrbanPop');"
   ]
  },
  {
   "cell_type": "code",
   "execution_count": null,
   "metadata": {
    "ExecuteTime": {
     "end_time": "2022-03-22T15:00:56.820502Z",
     "start_time": "2022-03-22T15:00:56.798554Z"
    }
   },
   "outputs": [],
   "source": [
    "tb_usarrests[tb_usarrests['cluster'] == '3']"
   ]
  },
  {
   "cell_type": "code",
   "execution_count": null,
   "metadata": {},
   "outputs": [],
   "source": []
  }
 ],
 "metadata": {
  "hide_input": false,
  "kernelspec": {
   "display_name": "Python 3",
   "language": "python",
   "name": "python3"
  },
  "language_info": {
   "codemirror_mode": {
    "name": "ipython",
    "version": 3
   },
   "file_extension": ".py",
   "mimetype": "text/x-python",
   "name": "python",
   "nbconvert_exporter": "python",
   "pygments_lexer": "ipython3",
   "version": "3.8.8"
  },
  "toc": {
   "base_numbering": 1,
   "nav_menu": {},
   "number_sections": true,
   "sideBar": true,
   "skip_h1_title": false,
   "title_cell": "Table of Contents",
   "title_sidebar": "Contents",
   "toc_cell": false,
   "toc_position": {},
   "toc_section_display": true,
   "toc_window_display": false
  },
  "varInspector": {
   "cols": {
    "lenName": 16,
    "lenType": 16,
    "lenVar": 40
   },
   "kernels_config": {
    "python": {
     "delete_cmd_postfix": "",
     "delete_cmd_prefix": "del ",
     "library": "var_list.py",
     "varRefreshCmd": "print(var_dic_list())"
    },
    "r": {
     "delete_cmd_postfix": ") ",
     "delete_cmd_prefix": "rm(",
     "library": "var_list.r",
     "varRefreshCmd": "cat(var_dic_list()) "
    }
   },
   "types_to_exclude": [
    "module",
    "function",
    "builtin_function_or_method",
    "instance",
    "_Feature"
   ],
   "window_display": false
  }
 },
 "nbformat": 4,
 "nbformat_minor": 4
}
