{
 "cells": [
  {
   "cell_type": "code",
   "execution_count": 1,
   "metadata": {},
   "outputs": [
    {
     "ename": "ModuleNotFoundError",
     "evalue": "No module named 'pandas'",
     "output_type": "error",
     "traceback": [
      "\u001b[0;31m---------------------------------------------------------------------------\u001b[0m",
      "\u001b[0;31mModuleNotFoundError\u001b[0m                       Traceback (most recent call last)",
      "\u001b[1;32m/Users/pedroteche/Documents/GitHub/64_PT_NOV202111/aulas/64 DA PT NOV-2021 Aula 20220414 Sistemas de Recomendação.ipynb Cell 1'\u001b[0m in \u001b[0;36m<cell line: 1>\u001b[0;34m()\u001b[0m\n\u001b[0;32m----> <a href='vscode-notebook-cell:/Users/pedroteche/Documents/GitHub/64_PT_NOV202111/aulas/64%20DA%20PT%20NOV-2021%20Aula%2020220414%20Sistemas%20de%20Recomenda%C3%A7%C3%A3o.ipynb#ch0000000?line=0'>1</a>\u001b[0m \u001b[39mimport\u001b[39;00m \u001b[39mpandas\u001b[39;00m \u001b[39mas\u001b[39;00m \u001b[39mpd\u001b[39;00m\n\u001b[1;32m      <a href='vscode-notebook-cell:/Users/pedroteche/Documents/GitHub/64_PT_NOV202111/aulas/64%20DA%20PT%20NOV-2021%20Aula%2020220414%20Sistemas%20de%20Recomenda%C3%A7%C3%A3o.ipynb#ch0000000?line=1'>2</a>\u001b[0m \u001b[39mimport\u001b[39;00m \u001b[39mnumpy\u001b[39;00m \u001b[39mas\u001b[39;00m \u001b[39mnp\u001b[39;00m\n\u001b[1;32m      <a href='vscode-notebook-cell:/Users/pedroteche/Documents/GitHub/64_PT_NOV202111/aulas/64%20DA%20PT%20NOV-2021%20Aula%2020220414%20Sistemas%20de%20Recomenda%C3%A7%C3%A3o.ipynb#ch0000000?line=2'>3</a>\u001b[0m \u001b[39mimport\u001b[39;00m \u001b[39mseaborn\u001b[39;00m \u001b[39mas\u001b[39;00m \u001b[39msns\u001b[39;00m\n",
      "\u001b[0;31mModuleNotFoundError\u001b[0m: No module named 'pandas'"
     ]
    }
   ],
   "source": [
    "import pandas as pd\n",
    "import numpy as np\n",
    "import seaborn as sns\n",
    "import matplotlib.pyplot as plt\n",
    "import sklearn.linear_model as lm\n",
    "from sklearn.decomposition import PCA1"
   ]
  },
  {
   "cell_type": "markdown",
   "metadata": {},
   "source": [
    "# Sistemas de Recomendação\n",
    "\n",
    "O que é um sistema de recomendação? Um sistema de recomendação é um algoritmo que busca, a partir do comportamento histórico de um conjunto de usuários, fazer recomedações de comportamentos futuros. Essa definição abrangente mostra como essa classe de algoritmos de ML tem uma enormidade de diferentes aplicações:\n",
    "\n",
    "* **Redes Socias**: sistemas de recomendação estão por trás de varias partes de qualquer rede social, da sugestão de novas amizades à decisão de quais updates mostrar no feed principal do usuáriostão por trás de varias partes de qualquer rede social, da sugestão de novas amizades à decisão de quais updates mostrar no feed principal do usuário;\n",
    "* **eCommerce**: junto com as redes sociais foram um dos pioneiros da adoção de sistemas de recomendação, onde são utilizados para gerar ofertas customizadas de produtos para cada usuário;\n",
    "* **Serviços de Streaming**: assim como os sistemas de ecommerce, as plataformas de streaming buscam aumentar a fidelidade do cliente fazendo sugestões de novos conteúdos que podem interessar ao usuário através de sistemas de recomendação;\n",
    "* **Corretores de Texto**: muitos corretores de texto em plataforma mobile utilizam algoritmos semelhantes à sistemas de recomendação para otimizar as sugestões de correção para cada usuário.\n",
    "\n",
    "Como podemos ver, o campo de aplicação destes algoritmos é enorme. Hoje vamos analisar uma utilização particular mas que pode ser extendida para diversos tipos diferentes de problemas."
   ]
  },
  {
   "cell_type": "markdown",
   "metadata": {},
   "source": [
    "## Construindo a matriz usuário-item\n",
    "\n",
    "Vamos retomar um problema antigo para explorar a construção de um sistema de recomendação: vamos analisar os dados de sellers a categorias da Olist."
   ]
  },
  {
   "cell_type": "code",
   "execution_count": 77,
   "metadata": {},
   "outputs": [],
   "source": [
    "tb_seller_cat_full = pd.read_csv('data/tb_seller_cat_olist.csv')"
   ]
  },
  {
   "cell_type": "markdown",
   "metadata": {},
   "source": [
    "Para testarmos um modelo de recomendação precisamos utilizar uma estratégia um pouco diferente da que implementamos até agora. Inicialmente precisaremos selecionar apenas alguns sellers para o conjunto de teste e outros para train."
   ]
  },
  {
   "cell_type": "code",
   "execution_count": 86,
   "metadata": {},
   "outputs": [
    {
     "data": {
      "text/plain": [
       "3095"
      ]
     },
     "execution_count": 86,
     "metadata": {},
     "output_type": "execute_result"
    }
   ],
   "source": [
    "lista_sellers = tb_seller_cat_full['seller_id'].unique()\n",
    "len(lista_sellers)"
   ]
  },
  {
   "cell_type": "code",
   "execution_count": 87,
   "metadata": {},
   "outputs": [],
   "source": [
    "lista_sellers_train = pd.DataFrame(lista_sellers[0:int(len(lista_sellers) * 0.9)], columns = ['seller_id'])\n",
    "lista_sellers_test = pd.DataFrame(lista_sellers[int(len(lista_sellers) * 0.9):], columns = ['seller_id'])"
   ]
  },
  {
   "cell_type": "code",
   "execution_count": 88,
   "metadata": {},
   "outputs": [],
   "source": [
    "tb_seller_cat = tb_seller_cat_full.merge(lista_sellers_train, on = 'seller_id')\n",
    "tb_seller_test = tb_seller_cat_full.merge(lista_sellers_test, on = 'seller_id')"
   ]
  },
  {
   "cell_type": "markdown",
   "metadata": {},
   "source": [
    "O ponto de partida fundamental de qualquer modelo de recomendação é a matriz de item-usuário - essa matriz contém os usuários nas linhas e os itens nas colunas. Como dado, teremos o valor binário se o usuário compra o item.\n",
    "\n",
    "No nosso caso o usuário é o seller, os itens são as categorias dos produtos, e a matriz contém a informação binária de se o seller vende ou não a categoria."
   ]
  },
  {
   "cell_type": "code",
   "execution_count": 89,
   "metadata": {},
   "outputs": [
    {
     "data": {
      "text/html": [
       "<div>\n",
       "<style scoped>\n",
       "    .dataframe tbody tr th:only-of-type {\n",
       "        vertical-align: middle;\n",
       "    }\n",
       "\n",
       "    .dataframe tbody tr th {\n",
       "        vertical-align: top;\n",
       "    }\n",
       "\n",
       "    .dataframe thead th {\n",
       "        text-align: right;\n",
       "    }\n",
       "</style>\n",
       "<table border=\"1\" class=\"dataframe\">\n",
       "  <thead>\n",
       "    <tr style=\"text-align: right;\">\n",
       "      <th></th>\n",
       "      <th>seller_id</th>\n",
       "      <th>product_category_name</th>\n",
       "      <th>rb</th>\n",
       "      <th>vende_cat</th>\n",
       "    </tr>\n",
       "  </thead>\n",
       "  <tbody>\n",
       "    <tr>\n",
       "      <th>0</th>\n",
       "      <td>66dc1b1632bd6a3e508510c5b3492107</td>\n",
       "      <td>automotivo</td>\n",
       "      <td>895.80</td>\n",
       "      <td>1</td>\n",
       "    </tr>\n",
       "    <tr>\n",
       "      <th>1</th>\n",
       "      <td>66dc1b1632bd6a3e508510c5b3492107</td>\n",
       "      <td>telefonia</td>\n",
       "      <td>523.80</td>\n",
       "      <td>1</td>\n",
       "    </tr>\n",
       "    <tr>\n",
       "      <th>2</th>\n",
       "      <td>66dc1b1632bd6a3e508510c5b3492107</td>\n",
       "      <td>beleza_saude</td>\n",
       "      <td>409.70</td>\n",
       "      <td>1</td>\n",
       "    </tr>\n",
       "    <tr>\n",
       "      <th>3</th>\n",
       "      <td>66dc1b1632bd6a3e508510c5b3492107</td>\n",
       "      <td>esporte_lazer</td>\n",
       "      <td>854.39</td>\n",
       "      <td>1</td>\n",
       "    </tr>\n",
       "    <tr>\n",
       "      <th>4</th>\n",
       "      <td>66dc1b1632bd6a3e508510c5b3492107</td>\n",
       "      <td>brinquedos</td>\n",
       "      <td>49.90</td>\n",
       "      <td>1</td>\n",
       "    </tr>\n",
       "  </tbody>\n",
       "</table>\n",
       "</div>"
      ],
      "text/plain": [
       "                          seller_id product_category_name      rb  vende_cat\n",
       "0  66dc1b1632bd6a3e508510c5b3492107            automotivo  895.80          1\n",
       "1  66dc1b1632bd6a3e508510c5b3492107             telefonia  523.80          1\n",
       "2  66dc1b1632bd6a3e508510c5b3492107          beleza_saude  409.70          1\n",
       "3  66dc1b1632bd6a3e508510c5b3492107         esporte_lazer  854.39          1\n",
       "4  66dc1b1632bd6a3e508510c5b3492107            brinquedos   49.90          1"
      ]
     },
     "execution_count": 89,
     "metadata": {},
     "output_type": "execute_result"
    }
   ],
   "source": [
    "tb_seller_cat['vende_cat'] = np.where(tb_seller_cat['rb'] > 0, 1, 0)\n",
    "tb_seller_cat.head()"
   ]
  },
  {
   "cell_type": "code",
   "execution_count": 90,
   "metadata": {},
   "outputs": [
    {
     "data": {
      "text/html": [
       "<div>\n",
       "<style scoped>\n",
       "    .dataframe tbody tr th:only-of-type {\n",
       "        vertical-align: middle;\n",
       "    }\n",
       "\n",
       "    .dataframe tbody tr th {\n",
       "        vertical-align: top;\n",
       "    }\n",
       "\n",
       "    .dataframe thead th {\n",
       "        text-align: right;\n",
       "    }\n",
       "</style>\n",
       "<table border=\"1\" class=\"dataframe\">\n",
       "  <thead>\n",
       "    <tr style=\"text-align: right;\">\n",
       "      <th>product_category_name</th>\n",
       "      <th>seller_id</th>\n",
       "      <th>agro_industria_e_comercio</th>\n",
       "      <th>alimentos</th>\n",
       "      <th>alimentos_bebidas</th>\n",
       "      <th>artes</th>\n",
       "      <th>artes_e_artesanato</th>\n",
       "      <th>artigos_de_festas</th>\n",
       "      <th>artigos_de_natal</th>\n",
       "      <th>audio</th>\n",
       "      <th>automotivo</th>\n",
       "      <th>...</th>\n",
       "      <th>pet_shop</th>\n",
       "      <th>portateis_casa_forno_e_cafe</th>\n",
       "      <th>portateis_cozinha_e_preparadores_de_alimentos</th>\n",
       "      <th>relogios_presentes</th>\n",
       "      <th>seguros_e_servicos</th>\n",
       "      <th>sinalizacao_e_seguranca</th>\n",
       "      <th>tablets_impressao_imagem</th>\n",
       "      <th>telefonia</th>\n",
       "      <th>telefonia_fixa</th>\n",
       "      <th>utilidades_domesticas</th>\n",
       "    </tr>\n",
       "  </thead>\n",
       "  <tbody>\n",
       "    <tr>\n",
       "      <th>0</th>\n",
       "      <td>0015a82c2db000af6aaaf3ae2ecb0532</td>\n",
       "      <td>0</td>\n",
       "      <td>0</td>\n",
       "      <td>0</td>\n",
       "      <td>0</td>\n",
       "      <td>0</td>\n",
       "      <td>0</td>\n",
       "      <td>0</td>\n",
       "      <td>0</td>\n",
       "      <td>0</td>\n",
       "      <td>...</td>\n",
       "      <td>0</td>\n",
       "      <td>0</td>\n",
       "      <td>0</td>\n",
       "      <td>0</td>\n",
       "      <td>0</td>\n",
       "      <td>0</td>\n",
       "      <td>0</td>\n",
       "      <td>0</td>\n",
       "      <td>0</td>\n",
       "      <td>0</td>\n",
       "    </tr>\n",
       "    <tr>\n",
       "      <th>1</th>\n",
       "      <td>001cca7ae9ae17fb1caed9dfb1094831</td>\n",
       "      <td>0</td>\n",
       "      <td>0</td>\n",
       "      <td>0</td>\n",
       "      <td>0</td>\n",
       "      <td>0</td>\n",
       "      <td>0</td>\n",
       "      <td>0</td>\n",
       "      <td>0</td>\n",
       "      <td>0</td>\n",
       "      <td>...</td>\n",
       "      <td>0</td>\n",
       "      <td>0</td>\n",
       "      <td>0</td>\n",
       "      <td>0</td>\n",
       "      <td>0</td>\n",
       "      <td>0</td>\n",
       "      <td>0</td>\n",
       "      <td>0</td>\n",
       "      <td>0</td>\n",
       "      <td>0</td>\n",
       "    </tr>\n",
       "    <tr>\n",
       "      <th>2</th>\n",
       "      <td>004c9cd9d87a3c30c522c48c4fc07416</td>\n",
       "      <td>0</td>\n",
       "      <td>0</td>\n",
       "      <td>0</td>\n",
       "      <td>0</td>\n",
       "      <td>0</td>\n",
       "      <td>0</td>\n",
       "      <td>0</td>\n",
       "      <td>0</td>\n",
       "      <td>0</td>\n",
       "      <td>...</td>\n",
       "      <td>0</td>\n",
       "      <td>0</td>\n",
       "      <td>0</td>\n",
       "      <td>0</td>\n",
       "      <td>0</td>\n",
       "      <td>0</td>\n",
       "      <td>0</td>\n",
       "      <td>0</td>\n",
       "      <td>0</td>\n",
       "      <td>0</td>\n",
       "    </tr>\n",
       "    <tr>\n",
       "      <th>3</th>\n",
       "      <td>00720abe85ba0859807595bbf045a33b</td>\n",
       "      <td>0</td>\n",
       "      <td>0</td>\n",
       "      <td>0</td>\n",
       "      <td>0</td>\n",
       "      <td>0</td>\n",
       "      <td>0</td>\n",
       "      <td>0</td>\n",
       "      <td>0</td>\n",
       "      <td>0</td>\n",
       "      <td>...</td>\n",
       "      <td>0</td>\n",
       "      <td>0</td>\n",
       "      <td>0</td>\n",
       "      <td>0</td>\n",
       "      <td>0</td>\n",
       "      <td>0</td>\n",
       "      <td>0</td>\n",
       "      <td>0</td>\n",
       "      <td>0</td>\n",
       "      <td>1</td>\n",
       "    </tr>\n",
       "    <tr>\n",
       "      <th>4</th>\n",
       "      <td>00d8b143d12632bad99c0ad66ad52825</td>\n",
       "      <td>0</td>\n",
       "      <td>0</td>\n",
       "      <td>0</td>\n",
       "      <td>0</td>\n",
       "      <td>0</td>\n",
       "      <td>0</td>\n",
       "      <td>0</td>\n",
       "      <td>0</td>\n",
       "      <td>0</td>\n",
       "      <td>...</td>\n",
       "      <td>0</td>\n",
       "      <td>0</td>\n",
       "      <td>0</td>\n",
       "      <td>0</td>\n",
       "      <td>0</td>\n",
       "      <td>0</td>\n",
       "      <td>0</td>\n",
       "      <td>0</td>\n",
       "      <td>0</td>\n",
       "      <td>0</td>\n",
       "    </tr>\n",
       "  </tbody>\n",
       "</table>\n",
       "<p>5 rows × 74 columns</p>\n",
       "</div>"
      ],
      "text/plain": [
       "product_category_name                         seller_id  \\\n",
       "0                      0015a82c2db000af6aaaf3ae2ecb0532   \n",
       "1                      001cca7ae9ae17fb1caed9dfb1094831   \n",
       "2                      004c9cd9d87a3c30c522c48c4fc07416   \n",
       "3                      00720abe85ba0859807595bbf045a33b   \n",
       "4                      00d8b143d12632bad99c0ad66ad52825   \n",
       "\n",
       "product_category_name  agro_industria_e_comercio  alimentos  \\\n",
       "0                                              0          0   \n",
       "1                                              0          0   \n",
       "2                                              0          0   \n",
       "3                                              0          0   \n",
       "4                                              0          0   \n",
       "\n",
       "product_category_name  alimentos_bebidas  artes  artes_e_artesanato  \\\n",
       "0                                      0      0                   0   \n",
       "1                                      0      0                   0   \n",
       "2                                      0      0                   0   \n",
       "3                                      0      0                   0   \n",
       "4                                      0      0                   0   \n",
       "\n",
       "product_category_name  artigos_de_festas  artigos_de_natal  audio  automotivo  \\\n",
       "0                                      0                 0      0           0   \n",
       "1                                      0                 0      0           0   \n",
       "2                                      0                 0      0           0   \n",
       "3                                      0                 0      0           0   \n",
       "4                                      0                 0      0           0   \n",
       "\n",
       "product_category_name  ...  pet_shop  portateis_casa_forno_e_cafe  \\\n",
       "0                      ...         0                            0   \n",
       "1                      ...         0                            0   \n",
       "2                      ...         0                            0   \n",
       "3                      ...         0                            0   \n",
       "4                      ...         0                            0   \n",
       "\n",
       "product_category_name  portateis_cozinha_e_preparadores_de_alimentos  \\\n",
       "0                                                                  0   \n",
       "1                                                                  0   \n",
       "2                                                                  0   \n",
       "3                                                                  0   \n",
       "4                                                                  0   \n",
       "\n",
       "product_category_name  relogios_presentes  seguros_e_servicos  \\\n",
       "0                                       0                   0   \n",
       "1                                       0                   0   \n",
       "2                                       0                   0   \n",
       "3                                       0                   0   \n",
       "4                                       0                   0   \n",
       "\n",
       "product_category_name  sinalizacao_e_seguranca  tablets_impressao_imagem  \\\n",
       "0                                            0                         0   \n",
       "1                                            0                         0   \n",
       "2                                            0                         0   \n",
       "3                                            0                         0   \n",
       "4                                            0                         0   \n",
       "\n",
       "product_category_name  telefonia  telefonia_fixa  utilidades_domesticas  \n",
       "0                              0               0                      0  \n",
       "1                              0               0                      0  \n",
       "2                              0               0                      0  \n",
       "3                              0               0                      1  \n",
       "4                              0               0                      0  \n",
       "\n",
       "[5 rows x 74 columns]"
      ]
     },
     "execution_count": 90,
     "metadata": {},
     "output_type": "execute_result"
    }
   ],
   "source": [
    "tb_seller = tb_seller_cat.pivot_table(values = 'vende_cat', index = 'seller_id', columns = 'product_category_name', aggfunc = 'sum', fill_value = 0).reset_index()\n",
    "tb_seller.head()"
   ]
  },
  {
   "cell_type": "code",
   "execution_count": 91,
   "metadata": {},
   "outputs": [
    {
     "data": {
      "text/plain": [
       "Index(['seller_id', 'agro_industria_e_comercio', 'alimentos',\n",
       "       'alimentos_bebidas', 'artes', 'artes_e_artesanato', 'artigos_de_festas',\n",
       "       'artigos_de_natal', 'audio', 'automotivo', 'bebes', 'bebidas',\n",
       "       'beleza_saude', 'brinquedos', 'cama_mesa_banho', 'casa_conforto',\n",
       "       'casa_conforto_2', 'casa_construcao', 'cds_dvds_musicais', 'cine_foto',\n",
       "       'climatizacao', 'consoles_games', 'construcao_ferramentas_construcao',\n",
       "       'construcao_ferramentas_ferramentas',\n",
       "       'construcao_ferramentas_iluminacao', 'construcao_ferramentas_jardim',\n",
       "       'construcao_ferramentas_seguranca', 'cool_stuff', 'dvds_blu_ray',\n",
       "       'eletrodomesticos', 'eletrodomesticos_2', 'eletronicos',\n",
       "       'eletroportateis', 'esporte_lazer', 'fashion_bolsas_e_acessorios',\n",
       "       'fashion_calcados', 'fashion_esporte', 'fashion_roupa_feminina',\n",
       "       'fashion_roupa_infanto_juvenil', 'fashion_roupa_masculina',\n",
       "       'fashion_underwear_e_moda_praia', 'ferramentas_jardim', 'flores',\n",
       "       'fraldas_higiene', 'industria_comercio_e_negocios',\n",
       "       'informatica_acessorios', 'instrumentos_musicais', 'la_cuisine',\n",
       "       'livros_importados', 'livros_interesse_geral', 'livros_tecnicos',\n",
       "       'malas_acessorios', 'market_place', 'moveis_colchao_e_estofado',\n",
       "       'moveis_cozinha_area_de_servico_jantar_e_jardim', 'moveis_decoracao',\n",
       "       'moveis_escritorio', 'moveis_quarto', 'moveis_sala', 'musica',\n",
       "       'papelaria', 'pc_gamer', 'pcs', 'perfumaria', 'pet_shop',\n",
       "       'portateis_casa_forno_e_cafe',\n",
       "       'portateis_cozinha_e_preparadores_de_alimentos', 'relogios_presentes',\n",
       "       'seguros_e_servicos', 'sinalizacao_e_seguranca',\n",
       "       'tablets_impressao_imagem', 'telefonia', 'telefonia_fixa',\n",
       "       'utilidades_domesticas'],\n",
       "      dtype='object', name='product_category_name')"
      ]
     },
     "execution_count": 91,
     "metadata": {},
     "output_type": "execute_result"
    }
   ],
   "source": [
    "tb_seller.columns"
   ]
  },
  {
   "cell_type": "markdown",
   "metadata": {},
   "source": [
    "## Construindo a decomposição de itens\n",
    "A idéia por trás dos algoritmos de fatoração de matriz é que ao utilizar técnicas de decomposição como PCA na matriz de itens-usuários estaremos construindo componentes que representam itens que são comprados frequentemente pelos mesmos usuários. Vamos ver como, usando PCA, podemos gerar recomendações a partir dos componentes estimados."
   ]
  },
  {
   "cell_type": "code",
   "execution_count": 102,
   "metadata": {},
   "outputs": [],
   "source": [
    "pca_fit = PCA(5)\n",
    "tb_seller_pca = pca_fit.fit_transform(tb_seller.drop('seller_id', axis = 1))"
   ]
  },
  {
   "cell_type": "code",
   "execution_count": 103,
   "metadata": {},
   "outputs": [
    {
     "data": {
      "text/plain": [
       "array([[-0.3211169 , -0.04614114,  0.01943731,  0.0044536 ,  0.00815239],\n",
       "       [-0.16209302, -0.13806029,  0.08435071,  0.0147535 , -0.20081299],\n",
       "       [-0.36680883, -0.1199398 , -0.02393285, -0.04257987,  0.20019861],\n",
       "       ...,\n",
       "       [-0.3672327 , -0.0450754 ,  0.04889124, -0.0303737 , -0.00398975],\n",
       "       [ 0.18438799, -0.88169007, -0.64410721,  0.17428947, -0.20930816],\n",
       "       [ 0.60347405, -0.50283012,  0.24426052,  0.26106888, -0.90925421]])"
      ]
     },
     "execution_count": 103,
     "metadata": {},
     "output_type": "execute_result"
    }
   ],
   "source": [
    "tb_seller_pca"
   ]
  },
  {
   "cell_type": "markdown",
   "metadata": {},
   "source": [
    "Agora, vamos utilizar um método que não vimos até hoje: a transformação inversa. As transformações de decomposição são inversíveis, ou seja, assim como vamos das colunas originais para os componentes podemos voltar dos componentes para os componentes originais. No entanto essa transformação não resulta nas variáveis originais! Como estimamos menos componentes do que variáveis, introduziremos nova informação neste processo - e é justamente esta informação que utilizaremos para gerar recomendações!"
   ]
  },
  {
   "cell_type": "code",
   "execution_count": 104,
   "metadata": {},
   "outputs": [
    {
     "data": {
      "text/html": [
       "<div>\n",
       "<style scoped>\n",
       "    .dataframe tbody tr th:only-of-type {\n",
       "        vertical-align: middle;\n",
       "    }\n",
       "\n",
       "    .dataframe tbody tr th {\n",
       "        vertical-align: top;\n",
       "    }\n",
       "\n",
       "    .dataframe thead th {\n",
       "        text-align: right;\n",
       "    }\n",
       "</style>\n",
       "<table border=\"1\" class=\"dataframe\">\n",
       "  <thead>\n",
       "    <tr style=\"text-align: right;\">\n",
       "      <th>product_category_name</th>\n",
       "      <th>agro_industria_e_comercio</th>\n",
       "      <th>alimentos</th>\n",
       "      <th>alimentos_bebidas</th>\n",
       "      <th>artes</th>\n",
       "      <th>artes_e_artesanato</th>\n",
       "      <th>artigos_de_festas</th>\n",
       "      <th>artigos_de_natal</th>\n",
       "      <th>audio</th>\n",
       "      <th>automotivo</th>\n",
       "      <th>bebes</th>\n",
       "      <th>...</th>\n",
       "      <th>portateis_casa_forno_e_cafe</th>\n",
       "      <th>portateis_cozinha_e_preparadores_de_alimentos</th>\n",
       "      <th>relogios_presentes</th>\n",
       "      <th>seguros_e_servicos</th>\n",
       "      <th>sinalizacao_e_seguranca</th>\n",
       "      <th>tablets_impressao_imagem</th>\n",
       "      <th>telefonia</th>\n",
       "      <th>telefonia_fixa</th>\n",
       "      <th>utilidades_domesticas</th>\n",
       "      <th>seller_id</th>\n",
       "    </tr>\n",
       "  </thead>\n",
       "  <tbody>\n",
       "    <tr>\n",
       "      <th>0</th>\n",
       "      <td>0.004270</td>\n",
       "      <td>0.006259</td>\n",
       "      <td>0.011582</td>\n",
       "      <td>0.007947</td>\n",
       "      <td>0.003649</td>\n",
       "      <td>0.002826</td>\n",
       "      <td>0.001780</td>\n",
       "      <td>-0.012374</td>\n",
       "      <td>0.058271</td>\n",
       "      <td>0.027850</td>\n",
       "      <td>...</td>\n",
       "      <td>0.000479</td>\n",
       "      <td>0.001388</td>\n",
       "      <td>0.002382</td>\n",
       "      <td>-0.001256</td>\n",
       "      <td>0.005480</td>\n",
       "      <td>-0.001477</td>\n",
       "      <td>-0.002484</td>\n",
       "      <td>-0.002232</td>\n",
       "      <td>0.033573</td>\n",
       "      <td>0015a82c2db000af6aaaf3ae2ecb0532</td>\n",
       "    </tr>\n",
       "    <tr>\n",
       "      <th>1</th>\n",
       "      <td>0.011607</td>\n",
       "      <td>0.007291</td>\n",
       "      <td>0.008080</td>\n",
       "      <td>0.009525</td>\n",
       "      <td>0.004451</td>\n",
       "      <td>0.001667</td>\n",
       "      <td>0.003236</td>\n",
       "      <td>0.000318</td>\n",
       "      <td>0.230713</td>\n",
       "      <td>-0.028985</td>\n",
       "      <td>...</td>\n",
       "      <td>0.002590</td>\n",
       "      <td>0.002833</td>\n",
       "      <td>0.011522</td>\n",
       "      <td>0.000629</td>\n",
       "      <td>0.017900</td>\n",
       "      <td>0.001632</td>\n",
       "      <td>0.040417</td>\n",
       "      <td>0.013061</td>\n",
       "      <td>0.195314</td>\n",
       "      <td>001cca7ae9ae17fb1caed9dfb1094831</td>\n",
       "    </tr>\n",
       "    <tr>\n",
       "      <th>2</th>\n",
       "      <td>0.001163</td>\n",
       "      <td>0.002547</td>\n",
       "      <td>0.012146</td>\n",
       "      <td>0.009636</td>\n",
       "      <td>0.004053</td>\n",
       "      <td>0.005611</td>\n",
       "      <td>0.002461</td>\n",
       "      <td>-0.020877</td>\n",
       "      <td>-0.064865</td>\n",
       "      <td>0.102090</td>\n",
       "      <td>...</td>\n",
       "      <td>-0.000154</td>\n",
       "      <td>0.000649</td>\n",
       "      <td>0.001336</td>\n",
       "      <td>-0.002546</td>\n",
       "      <td>-0.001675</td>\n",
       "      <td>-0.003757</td>\n",
       "      <td>-0.033463</td>\n",
       "      <td>-0.013540</td>\n",
       "      <td>-0.005498</td>\n",
       "      <td>004c9cd9d87a3c30c522c48c4fc07416</td>\n",
       "    </tr>\n",
       "    <tr>\n",
       "      <th>3</th>\n",
       "      <td>0.022608</td>\n",
       "      <td>0.005554</td>\n",
       "      <td>0.006404</td>\n",
       "      <td>0.014376</td>\n",
       "      <td>0.005302</td>\n",
       "      <td>0.006584</td>\n",
       "      <td>0.009772</td>\n",
       "      <td>-0.016490</td>\n",
       "      <td>0.121568</td>\n",
       "      <td>-0.034852</td>\n",
       "      <td>...</td>\n",
       "      <td>0.005186</td>\n",
       "      <td>0.006058</td>\n",
       "      <td>0.007432</td>\n",
       "      <td>0.000326</td>\n",
       "      <td>0.031114</td>\n",
       "      <td>-0.003372</td>\n",
       "      <td>-0.041904</td>\n",
       "      <td>-0.017358</td>\n",
       "      <td>0.783705</td>\n",
       "      <td>00720abe85ba0859807595bbf045a33b</td>\n",
       "    </tr>\n",
       "    <tr>\n",
       "      <th>4</th>\n",
       "      <td>0.000631</td>\n",
       "      <td>0.003914</td>\n",
       "      <td>0.012870</td>\n",
       "      <td>0.007286</td>\n",
       "      <td>0.003562</td>\n",
       "      <td>0.003214</td>\n",
       "      <td>0.000876</td>\n",
       "      <td>-0.017857</td>\n",
       "      <td>0.013990</td>\n",
       "      <td>0.037706</td>\n",
       "      <td>...</td>\n",
       "      <td>-0.000723</td>\n",
       "      <td>0.000788</td>\n",
       "      <td>-0.000556</td>\n",
       "      <td>-0.002035</td>\n",
       "      <td>0.000660</td>\n",
       "      <td>-0.002445</td>\n",
       "      <td>-0.017747</td>\n",
       "      <td>-0.007463</td>\n",
       "      <td>-0.048945</td>\n",
       "      <td>00d8b143d12632bad99c0ad66ad52825</td>\n",
       "    </tr>\n",
       "  </tbody>\n",
       "</table>\n",
       "<p>5 rows × 74 columns</p>\n",
       "</div>"
      ],
      "text/plain": [
       "product_category_name  agro_industria_e_comercio  alimentos  \\\n",
       "0                                       0.004270   0.006259   \n",
       "1                                       0.011607   0.007291   \n",
       "2                                       0.001163   0.002547   \n",
       "3                                       0.022608   0.005554   \n",
       "4                                       0.000631   0.003914   \n",
       "\n",
       "product_category_name  alimentos_bebidas     artes  artes_e_artesanato  \\\n",
       "0                               0.011582  0.007947            0.003649   \n",
       "1                               0.008080  0.009525            0.004451   \n",
       "2                               0.012146  0.009636            0.004053   \n",
       "3                               0.006404  0.014376            0.005302   \n",
       "4                               0.012870  0.007286            0.003562   \n",
       "\n",
       "product_category_name  artigos_de_festas  artigos_de_natal     audio  \\\n",
       "0                               0.002826          0.001780 -0.012374   \n",
       "1                               0.001667          0.003236  0.000318   \n",
       "2                               0.005611          0.002461 -0.020877   \n",
       "3                               0.006584          0.009772 -0.016490   \n",
       "4                               0.003214          0.000876 -0.017857   \n",
       "\n",
       "product_category_name  automotivo     bebes  ...  portateis_casa_forno_e_cafe  \\\n",
       "0                        0.058271  0.027850  ...                     0.000479   \n",
       "1                        0.230713 -0.028985  ...                     0.002590   \n",
       "2                       -0.064865  0.102090  ...                    -0.000154   \n",
       "3                        0.121568 -0.034852  ...                     0.005186   \n",
       "4                        0.013990  0.037706  ...                    -0.000723   \n",
       "\n",
       "product_category_name  portateis_cozinha_e_preparadores_de_alimentos  \\\n",
       "0                                                           0.001388   \n",
       "1                                                           0.002833   \n",
       "2                                                           0.000649   \n",
       "3                                                           0.006058   \n",
       "4                                                           0.000788   \n",
       "\n",
       "product_category_name  relogios_presentes  seguros_e_servicos  \\\n",
       "0                                0.002382           -0.001256   \n",
       "1                                0.011522            0.000629   \n",
       "2                                0.001336           -0.002546   \n",
       "3                                0.007432            0.000326   \n",
       "4                               -0.000556           -0.002035   \n",
       "\n",
       "product_category_name  sinalizacao_e_seguranca  tablets_impressao_imagem  \\\n",
       "0                                     0.005480                 -0.001477   \n",
       "1                                     0.017900                  0.001632   \n",
       "2                                    -0.001675                 -0.003757   \n",
       "3                                     0.031114                 -0.003372   \n",
       "4                                     0.000660                 -0.002445   \n",
       "\n",
       "product_category_name  telefonia  telefonia_fixa  utilidades_domesticas  \\\n",
       "0                      -0.002484       -0.002232               0.033573   \n",
       "1                       0.040417        0.013061               0.195314   \n",
       "2                      -0.033463       -0.013540              -0.005498   \n",
       "3                      -0.041904       -0.017358               0.783705   \n",
       "4                      -0.017747       -0.007463              -0.048945   \n",
       "\n",
       "product_category_name                         seller_id  \n",
       "0                      0015a82c2db000af6aaaf3ae2ecb0532  \n",
       "1                      001cca7ae9ae17fb1caed9dfb1094831  \n",
       "2                      004c9cd9d87a3c30c522c48c4fc07416  \n",
       "3                      00720abe85ba0859807595bbf045a33b  \n",
       "4                      00d8b143d12632bad99c0ad66ad52825  \n",
       "\n",
       "[5 rows x 74 columns]"
      ]
     },
     "execution_count": 104,
     "metadata": {},
     "output_type": "execute_result"
    }
   ],
   "source": [
    "tb_seller_recom = pd.DataFrame(pca_fit.inverse_transform(tb_seller_pca), columns = tb_seller.columns[1:])\n",
    "tb_seller_recom['seller_id'] = tb_seller['seller_id']\n",
    "tb_seller_recom.head()"
   ]
  },
  {
   "cell_type": "markdown",
   "metadata": {},
   "source": [
    "Vamos desdobrar essa matriz para te-la no formato original."
   ]
  },
  {
   "cell_type": "code",
   "execution_count": 105,
   "metadata": {},
   "outputs": [
    {
     "data": {
      "text/html": [
       "<div>\n",
       "<style scoped>\n",
       "    .dataframe tbody tr th:only-of-type {\n",
       "        vertical-align: middle;\n",
       "    }\n",
       "\n",
       "    .dataframe tbody tr th {\n",
       "        vertical-align: top;\n",
       "    }\n",
       "\n",
       "    .dataframe thead th {\n",
       "        text-align: right;\n",
       "    }\n",
       "</style>\n",
       "<table border=\"1\" class=\"dataframe\">\n",
       "  <thead>\n",
       "    <tr style=\"text-align: right;\">\n",
       "      <th></th>\n",
       "      <th>seller_id</th>\n",
       "      <th>product_category_name</th>\n",
       "      <th>score_recom_seller</th>\n",
       "    </tr>\n",
       "  </thead>\n",
       "  <tbody>\n",
       "    <tr>\n",
       "      <th>0</th>\n",
       "      <td>0015a82c2db000af6aaaf3ae2ecb0532</td>\n",
       "      <td>agro_industria_e_comercio</td>\n",
       "      <td>0.004270</td>\n",
       "    </tr>\n",
       "    <tr>\n",
       "      <th>1</th>\n",
       "      <td>001cca7ae9ae17fb1caed9dfb1094831</td>\n",
       "      <td>agro_industria_e_comercio</td>\n",
       "      <td>0.011607</td>\n",
       "    </tr>\n",
       "    <tr>\n",
       "      <th>2</th>\n",
       "      <td>004c9cd9d87a3c30c522c48c4fc07416</td>\n",
       "      <td>agro_industria_e_comercio</td>\n",
       "      <td>0.001163</td>\n",
       "    </tr>\n",
       "    <tr>\n",
       "      <th>3</th>\n",
       "      <td>00720abe85ba0859807595bbf045a33b</td>\n",
       "      <td>agro_industria_e_comercio</td>\n",
       "      <td>0.022608</td>\n",
       "    </tr>\n",
       "    <tr>\n",
       "      <th>4</th>\n",
       "      <td>00d8b143d12632bad99c0ad66ad52825</td>\n",
       "      <td>agro_industria_e_comercio</td>\n",
       "      <td>0.000631</td>\n",
       "    </tr>\n",
       "  </tbody>\n",
       "</table>\n",
       "</div>"
      ],
      "text/plain": [
       "                          seller_id      product_category_name  \\\n",
       "0  0015a82c2db000af6aaaf3ae2ecb0532  agro_industria_e_comercio   \n",
       "1  001cca7ae9ae17fb1caed9dfb1094831  agro_industria_e_comercio   \n",
       "2  004c9cd9d87a3c30c522c48c4fc07416  agro_industria_e_comercio   \n",
       "3  00720abe85ba0859807595bbf045a33b  agro_industria_e_comercio   \n",
       "4  00d8b143d12632bad99c0ad66ad52825  agro_industria_e_comercio   \n",
       "\n",
       "   score_recom_seller  \n",
       "0            0.004270  \n",
       "1            0.011607  \n",
       "2            0.001163  \n",
       "3            0.022608  \n",
       "4            0.000631  "
      ]
     },
     "execution_count": 105,
     "metadata": {},
     "output_type": "execute_result"
    }
   ],
   "source": [
    "tb_seller_cat_recom = tb_seller_recom.melt(id_vars = 'seller_id').rename({'value' : 'score_recom_seller'}, axis = 1)\n",
    "tb_seller_cat_recom.head()"
   ]
  },
  {
   "cell_type": "code",
   "execution_count": 106,
   "metadata": {},
   "outputs": [
    {
     "data": {
      "text/html": [
       "<div>\n",
       "<style scoped>\n",
       "    .dataframe tbody tr th:only-of-type {\n",
       "        vertical-align: middle;\n",
       "    }\n",
       "\n",
       "    .dataframe tbody tr th {\n",
       "        vertical-align: top;\n",
       "    }\n",
       "\n",
       "    .dataframe thead th {\n",
       "        text-align: right;\n",
       "    }\n",
       "</style>\n",
       "<table border=\"1\" class=\"dataframe\">\n",
       "  <thead>\n",
       "    <tr style=\"text-align: right;\">\n",
       "      <th></th>\n",
       "      <th>seller_id</th>\n",
       "      <th>product_category_name</th>\n",
       "      <th>score_recom_seller</th>\n",
       "      <th>rb</th>\n",
       "      <th>vende_cat</th>\n",
       "    </tr>\n",
       "  </thead>\n",
       "  <tbody>\n",
       "    <tr>\n",
       "      <th>0</th>\n",
       "      <td>0015a82c2db000af6aaaf3ae2ecb0532</td>\n",
       "      <td>agro_industria_e_comercio</td>\n",
       "      <td>0.004270</td>\n",
       "      <td>0.0</td>\n",
       "      <td>0.0</td>\n",
       "    </tr>\n",
       "    <tr>\n",
       "      <th>1</th>\n",
       "      <td>001cca7ae9ae17fb1caed9dfb1094831</td>\n",
       "      <td>agro_industria_e_comercio</td>\n",
       "      <td>0.011607</td>\n",
       "      <td>0.0</td>\n",
       "      <td>0.0</td>\n",
       "    </tr>\n",
       "    <tr>\n",
       "      <th>2</th>\n",
       "      <td>004c9cd9d87a3c30c522c48c4fc07416</td>\n",
       "      <td>agro_industria_e_comercio</td>\n",
       "      <td>0.001163</td>\n",
       "      <td>0.0</td>\n",
       "      <td>0.0</td>\n",
       "    </tr>\n",
       "    <tr>\n",
       "      <th>3</th>\n",
       "      <td>00720abe85ba0859807595bbf045a33b</td>\n",
       "      <td>agro_industria_e_comercio</td>\n",
       "      <td>0.022608</td>\n",
       "      <td>0.0</td>\n",
       "      <td>0.0</td>\n",
       "    </tr>\n",
       "    <tr>\n",
       "      <th>4</th>\n",
       "      <td>00d8b143d12632bad99c0ad66ad52825</td>\n",
       "      <td>agro_industria_e_comercio</td>\n",
       "      <td>0.000631</td>\n",
       "      <td>0.0</td>\n",
       "      <td>0.0</td>\n",
       "    </tr>\n",
       "  </tbody>\n",
       "</table>\n",
       "</div>"
      ],
      "text/plain": [
       "                          seller_id      product_category_name  \\\n",
       "0  0015a82c2db000af6aaaf3ae2ecb0532  agro_industria_e_comercio   \n",
       "1  001cca7ae9ae17fb1caed9dfb1094831  agro_industria_e_comercio   \n",
       "2  004c9cd9d87a3c30c522c48c4fc07416  agro_industria_e_comercio   \n",
       "3  00720abe85ba0859807595bbf045a33b  agro_industria_e_comercio   \n",
       "4  00d8b143d12632bad99c0ad66ad52825  agro_industria_e_comercio   \n",
       "\n",
       "   score_recom_seller   rb  vende_cat  \n",
       "0            0.004270  0.0        0.0  \n",
       "1            0.011607  0.0        0.0  \n",
       "2            0.001163  0.0        0.0  \n",
       "3            0.022608  0.0        0.0  \n",
       "4            0.000631  0.0        0.0  "
      ]
     },
     "execution_count": 106,
     "metadata": {},
     "output_type": "execute_result"
    }
   ],
   "source": [
    "tb_eval_recom = tb_seller_cat_recom.merge(tb_seller_cat, on = ['seller_id', 'product_category_name'], how = 'left').fillna(0)\n",
    "tb_eval_recom.head()"
   ]
  },
  {
   "cell_type": "markdown",
   "metadata": {},
   "source": [
    "Vamos comparar o score contra o status de venda em cada categoria - se nosso sistema estiver funcionando o score deve ser muito maior nas categorias que cada seller compra."
   ]
  },
  {
   "cell_type": "code",
   "execution_count": 107,
   "metadata": {},
   "outputs": [
    {
     "data": {
      "text/plain": [
       "<AxesSubplot:xlabel='vende_cat', ylabel='score_recom_seller'>"
      ]
     },
     "execution_count": 107,
     "metadata": {},
     "output_type": "execute_result"
    },
    {
     "data": {
      "image/png": "[encoded data removed]",
      "text/plain": [
       "<Figure size 432x288 with 1 Axes>"
      ]
     },
     "metadata": {
      "needs_background": "light"
     },
     "output_type": "display_data"
    }
   ],
   "source": [
    "sns.boxplot(data = tb_eval_recom, x = 'vende_cat', y = 'score_recom_seller')"
   ]
  },
  {
   "cell_type": "markdown",
   "metadata": {},
   "source": [
    "Vamos utilizar uma regressão logística para visualizar o impacto do score na probabilidade de compra."
   ]
  },
  {
   "cell_type": "code",
   "execution_count": 108,
   "metadata": {},
   "outputs": [],
   "source": [
    "log_fit = lm.LogisticRegression()\n",
    "log_fit.fit(tb_eval_recom[['score_recom_seller']], tb_eval_recom['vende_cat'])\n",
    "tb_eval_recom['pred_proba'] = log_fit.predict_proba(tb_eval_recom[['score_recom_seller']])[:,-1]"
   ]
  },
  {
   "cell_type": "code",
   "execution_count": 109,
   "metadata": {},
   "outputs": [
    {
     "data": {
      "text/plain": [
       "<AxesSubplot:xlabel='score_recom_seller', ylabel='pred_proba'>"
      ]
     },
     "execution_count": 109,
     "metadata": {},
     "output_type": "execute_result"
    },
    {
     "data": {
      "image/png": "[encoded data removed]",
      "text/plain": [
       "<Figure size 432x288 with 1 Axes>"
      ]
     },
     "metadata": {
      "needs_background": "light"
     },
     "output_type": "display_data"
    }
   ],
   "source": [
    "sns.scatterplot(data = tb_eval_recom, x = 'score_recom_seller', y = 'pred_proba')"
   ]
  },
  {
   "cell_type": "markdown",
   "metadata": {},
   "source": [
    "## Construindo a decomposição de usuários\n",
    "Da mesma forma que podemos decompor a matriz de usuários podemos decompor a matriz de itens: vamos transpor a matriz de usuário-itens e aplicar o mesmo processo - decompor as colunas dessa matriz. No entanto, nesta nova matriz as colunas são os diferentes sellers. Então ao invés de encontrar produtos que são correlatos entre si, encontraremos usuários que tem comportamento semelhante."
   ]
  },
  {
   "cell_type": "code",
   "execution_count": 113,
   "metadata": {},
   "outputs": [
    {
     "data": {
      "text/html": [
       "<div>\n",
       "<style scoped>\n",
       "    .dataframe tbody tr th:only-of-type {\n",
       "        vertical-align: middle;\n",
       "    }\n",
       "\n",
       "    .dataframe tbody tr th {\n",
       "        vertical-align: top;\n",
       "    }\n",
       "\n",
       "    .dataframe thead th {\n",
       "        text-align: right;\n",
       "    }\n",
       "</style>\n",
       "<table border=\"1\" class=\"dataframe\">\n",
       "  <thead>\n",
       "    <tr style=\"text-align: right;\">\n",
       "      <th>seller_id</th>\n",
       "      <th>product_category_name</th>\n",
       "      <th>0015a82c2db000af6aaaf3ae2ecb0532</th>\n",
       "      <th>001cca7ae9ae17fb1caed9dfb1094831</th>\n",
       "      <th>004c9cd9d87a3c30c522c48c4fc07416</th>\n",
       "      <th>00720abe85ba0859807595bbf045a33b</th>\n",
       "      <th>00d8b143d12632bad99c0ad66ad52825</th>\n",
       "      <th>00ee68308b45bc5e2660cd833c3f81cc</th>\n",
       "      <th>010543a62bd80aa422851e79a3bc7540</th>\n",
       "      <th>011b0eaba87386a2ae96a7d32bb531d1</th>\n",
       "      <th>01266d4c46afa519678d16a8b683d325</th>\n",
       "      <th>...</th>\n",
       "      <th>ff4e2d38692ce827b1a4f4b8196e680d</th>\n",
       "      <th>ff69aa92bb6b1bf9b8b7a51c2ed9cf8b</th>\n",
       "      <th>ff82e8873fba613f2261a9acc896fd84</th>\n",
       "      <th>ffa6adafb71b807dc13159e26431354c</th>\n",
       "      <th>ffad1e7127fb622cb64a900751590acd</th>\n",
       "      <th>ffc470761de7d0232558ba5e786e57b7</th>\n",
       "      <th>ffdd9f82b9a447f6f8d4b91554cc7dd3</th>\n",
       "      <th>ffeee66ac5d5a62fe688b9d26f83f534</th>\n",
       "      <th>fffd5413c0700ac820c7069d66d98c89</th>\n",
       "      <th>ffff564a4f9085cd26170f4732393726</th>\n",
       "    </tr>\n",
       "  </thead>\n",
       "  <tbody>\n",
       "    <tr>\n",
       "      <th>0</th>\n",
       "      <td>agro_industria_e_comercio</td>\n",
       "      <td>0</td>\n",
       "      <td>0</td>\n",
       "      <td>0</td>\n",
       "      <td>0</td>\n",
       "      <td>0</td>\n",
       "      <td>0</td>\n",
       "      <td>0</td>\n",
       "      <td>0</td>\n",
       "      <td>0</td>\n",
       "      <td>...</td>\n",
       "      <td>0</td>\n",
       "      <td>0</td>\n",
       "      <td>0</td>\n",
       "      <td>0</td>\n",
       "      <td>0</td>\n",
       "      <td>0</td>\n",
       "      <td>0</td>\n",
       "      <td>0</td>\n",
       "      <td>0</td>\n",
       "      <td>0</td>\n",
       "    </tr>\n",
       "    <tr>\n",
       "      <th>1</th>\n",
       "      <td>alimentos</td>\n",
       "      <td>0</td>\n",
       "      <td>0</td>\n",
       "      <td>0</td>\n",
       "      <td>0</td>\n",
       "      <td>0</td>\n",
       "      <td>0</td>\n",
       "      <td>0</td>\n",
       "      <td>0</td>\n",
       "      <td>0</td>\n",
       "      <td>...</td>\n",
       "      <td>0</td>\n",
       "      <td>0</td>\n",
       "      <td>0</td>\n",
       "      <td>0</td>\n",
       "      <td>0</td>\n",
       "      <td>0</td>\n",
       "      <td>0</td>\n",
       "      <td>0</td>\n",
       "      <td>0</td>\n",
       "      <td>1</td>\n",
       "    </tr>\n",
       "    <tr>\n",
       "      <th>2</th>\n",
       "      <td>alimentos_bebidas</td>\n",
       "      <td>0</td>\n",
       "      <td>0</td>\n",
       "      <td>0</td>\n",
       "      <td>0</td>\n",
       "      <td>0</td>\n",
       "      <td>0</td>\n",
       "      <td>0</td>\n",
       "      <td>0</td>\n",
       "      <td>0</td>\n",
       "      <td>...</td>\n",
       "      <td>0</td>\n",
       "      <td>0</td>\n",
       "      <td>0</td>\n",
       "      <td>0</td>\n",
       "      <td>0</td>\n",
       "      <td>0</td>\n",
       "      <td>0</td>\n",
       "      <td>0</td>\n",
       "      <td>0</td>\n",
       "      <td>0</td>\n",
       "    </tr>\n",
       "    <tr>\n",
       "      <th>3</th>\n",
       "      <td>artes</td>\n",
       "      <td>0</td>\n",
       "      <td>0</td>\n",
       "      <td>0</td>\n",
       "      <td>0</td>\n",
       "      <td>0</td>\n",
       "      <td>0</td>\n",
       "      <td>0</td>\n",
       "      <td>0</td>\n",
       "      <td>0</td>\n",
       "      <td>...</td>\n",
       "      <td>0</td>\n",
       "      <td>0</td>\n",
       "      <td>0</td>\n",
       "      <td>0</td>\n",
       "      <td>0</td>\n",
       "      <td>0</td>\n",
       "      <td>0</td>\n",
       "      <td>0</td>\n",
       "      <td>0</td>\n",
       "      <td>0</td>\n",
       "    </tr>\n",
       "    <tr>\n",
       "      <th>4</th>\n",
       "      <td>artes_e_artesanato</td>\n",
       "      <td>0</td>\n",
       "      <td>0</td>\n",
       "      <td>0</td>\n",
       "      <td>0</td>\n",
       "      <td>0</td>\n",
       "      <td>0</td>\n",
       "      <td>0</td>\n",
       "      <td>0</td>\n",
       "      <td>0</td>\n",
       "      <td>...</td>\n",
       "      <td>0</td>\n",
       "      <td>0</td>\n",
       "      <td>0</td>\n",
       "      <td>0</td>\n",
       "      <td>0</td>\n",
       "      <td>0</td>\n",
       "      <td>0</td>\n",
       "      <td>0</td>\n",
       "      <td>0</td>\n",
       "      <td>0</td>\n",
       "    </tr>\n",
       "  </tbody>\n",
       "</table>\n",
       "<p>5 rows × 2741 columns</p>\n",
       "</div>"
      ],
      "text/plain": [
       "seller_id      product_category_name  0015a82c2db000af6aaaf3ae2ecb0532  \\\n",
       "0          agro_industria_e_comercio                                 0   \n",
       "1                          alimentos                                 0   \n",
       "2                  alimentos_bebidas                                 0   \n",
       "3                              artes                                 0   \n",
       "4                 artes_e_artesanato                                 0   \n",
       "\n",
       "seller_id  001cca7ae9ae17fb1caed9dfb1094831  004c9cd9d87a3c30c522c48c4fc07416  \\\n",
       "0                                         0                                 0   \n",
       "1                                         0                                 0   \n",
       "2                                         0                                 0   \n",
       "3                                         0                                 0   \n",
       "4                                         0                                 0   \n",
       "\n",
       "seller_id  00720abe85ba0859807595bbf045a33b  00d8b143d12632bad99c0ad66ad52825  \\\n",
       "0                                         0                                 0   \n",
       "1                                         0                                 0   \n",
       "2                                         0                                 0   \n",
       "3                                         0                                 0   \n",
       "4                                         0                                 0   \n",
       "\n",
       "seller_id  00ee68308b45bc5e2660cd833c3f81cc  010543a62bd80aa422851e79a3bc7540  \\\n",
       "0                                         0                                 0   \n",
       "1                                         0                                 0   \n",
       "2                                         0                                 0   \n",
       "3                                         0                                 0   \n",
       "4                                         0                                 0   \n",
       "\n",
       "seller_id  011b0eaba87386a2ae96a7d32bb531d1  01266d4c46afa519678d16a8b683d325  \\\n",
       "0                                         0                                 0   \n",
       "1                                         0                                 0   \n",
       "2                                         0                                 0   \n",
       "3                                         0                                 0   \n",
       "4                                         0                                 0   \n",
       "\n",
       "seller_id  ...  ff4e2d38692ce827b1a4f4b8196e680d  \\\n",
       "0          ...                                 0   \n",
       "1          ...                                 0   \n",
       "2          ...                                 0   \n",
       "3          ...                                 0   \n",
       "4          ...                                 0   \n",
       "\n",
       "seller_id  ff69aa92bb6b1bf9b8b7a51c2ed9cf8b  ff82e8873fba613f2261a9acc896fd84  \\\n",
       "0                                         0                                 0   \n",
       "1                                         0                                 0   \n",
       "2                                         0                                 0   \n",
       "3                                         0                                 0   \n",
       "4                                         0                                 0   \n",
       "\n",
       "seller_id  ffa6adafb71b807dc13159e26431354c  ffad1e7127fb622cb64a900751590acd  \\\n",
       "0                                         0                                 0   \n",
       "1                                         0                                 0   \n",
       "2                                         0                                 0   \n",
       "3                                         0                                 0   \n",
       "4                                         0                                 0   \n",
       "\n",
       "seller_id  ffc470761de7d0232558ba5e786e57b7  ffdd9f82b9a447f6f8d4b91554cc7dd3  \\\n",
       "0                                         0                                 0   \n",
       "1                                         0                                 0   \n",
       "2                                         0                                 0   \n",
       "3                                         0                                 0   \n",
       "4                                         0                                 0   \n",
       "\n",
       "seller_id  ffeee66ac5d5a62fe688b9d26f83f534  fffd5413c0700ac820c7069d66d98c89  \\\n",
       "0                                         0                                 0   \n",
       "1                                         0                                 0   \n",
       "2                                         0                                 0   \n",
       "3                                         0                                 0   \n",
       "4                                         0                                 0   \n",
       "\n",
       "seller_id  ffff564a4f9085cd26170f4732393726  \n",
       "0                                         0  \n",
       "1                                         1  \n",
       "2                                         0  \n",
       "3                                         0  \n",
       "4                                         0  \n",
       "\n",
       "[5 rows x 2741 columns]"
      ]
     },
     "execution_count": 113,
     "metadata": {},
     "output_type": "execute_result"
    }
   ],
   "source": [
    "tb_cat = tb_seller_cat.pivot_table(values = 'vende_cat', index = 'product_category_name', columns = 'seller_id', aggfunc = 'sum', fill_value = 0).reset_index()\n",
    "tb_cat.head()"
   ]
  },
  {
   "cell_type": "code",
   "execution_count": 114,
   "metadata": {},
   "outputs": [
    {
     "data": {
      "text/plain": [
       "(73, 2740)"
      ]
     },
     "execution_count": 114,
     "metadata": {},
     "output_type": "execute_result"
    }
   ],
   "source": [
    "tb_cat.drop('product_category_name', axis = 1).shape"
   ]
  },
  {
   "cell_type": "markdown",
   "metadata": {},
   "source": [
    "Vamos aumentar o número de componentes pois o número de sellers é muito maior que o número de categorias"
   ]
  },
  {
   "cell_type": "code",
   "execution_count": 115,
   "metadata": {},
   "outputs": [
    {
     "data": {
      "text/html": [
       "<div>\n",
       "<style scoped>\n",
       "    .dataframe tbody tr th:only-of-type {\n",
       "        vertical-align: middle;\n",
       "    }\n",
       "\n",
       "    .dataframe tbody tr th {\n",
       "        vertical-align: top;\n",
       "    }\n",
       "\n",
       "    .dataframe thead th {\n",
       "        text-align: right;\n",
       "    }\n",
       "</style>\n",
       "<table border=\"1\" class=\"dataframe\">\n",
       "  <thead>\n",
       "    <tr style=\"text-align: right;\">\n",
       "      <th>seller_id</th>\n",
       "      <th>0015a82c2db000af6aaaf3ae2ecb0532</th>\n",
       "      <th>001cca7ae9ae17fb1caed9dfb1094831</th>\n",
       "      <th>004c9cd9d87a3c30c522c48c4fc07416</th>\n",
       "      <th>00720abe85ba0859807595bbf045a33b</th>\n",
       "      <th>00d8b143d12632bad99c0ad66ad52825</th>\n",
       "      <th>00ee68308b45bc5e2660cd833c3f81cc</th>\n",
       "      <th>010543a62bd80aa422851e79a3bc7540</th>\n",
       "      <th>011b0eaba87386a2ae96a7d32bb531d1</th>\n",
       "      <th>01266d4c46afa519678d16a8b683d325</th>\n",
       "      <th>013900e863eace745d3ec7614cab5b1a</th>\n",
       "      <th>...</th>\n",
       "      <th>ff69aa92bb6b1bf9b8b7a51c2ed9cf8b</th>\n",
       "      <th>ff82e8873fba613f2261a9acc896fd84</th>\n",
       "      <th>ffa6adafb71b807dc13159e26431354c</th>\n",
       "      <th>ffad1e7127fb622cb64a900751590acd</th>\n",
       "      <th>ffc470761de7d0232558ba5e786e57b7</th>\n",
       "      <th>ffdd9f82b9a447f6f8d4b91554cc7dd3</th>\n",
       "      <th>ffeee66ac5d5a62fe688b9d26f83f534</th>\n",
       "      <th>fffd5413c0700ac820c7069d66d98c89</th>\n",
       "      <th>ffff564a4f9085cd26170f4732393726</th>\n",
       "      <th>product_category_name</th>\n",
       "    </tr>\n",
       "  </thead>\n",
       "  <tbody>\n",
       "    <tr>\n",
       "      <th>0</th>\n",
       "      <td>0.033277</td>\n",
       "      <td>-0.000801</td>\n",
       "      <td>-0.010996</td>\n",
       "      <td>0.015169</td>\n",
       "      <td>-0.028771</td>\n",
       "      <td>0.006921</td>\n",
       "      <td>0.007593</td>\n",
       "      <td>0.003187</td>\n",
       "      <td>0.017533</td>\n",
       "      <td>0.027779</td>\n",
       "      <td>...</td>\n",
       "      <td>-0.020761</td>\n",
       "      <td>-0.020761</td>\n",
       "      <td>-0.014907</td>\n",
       "      <td>-0.002589</td>\n",
       "      <td>0.052073</td>\n",
       "      <td>0.016809</td>\n",
       "      <td>0.025153</td>\n",
       "      <td>0.033095</td>\n",
       "      <td>0.058342</td>\n",
       "      <td>agro_industria_e_comercio</td>\n",
       "    </tr>\n",
       "    <tr>\n",
       "      <th>1</th>\n",
       "      <td>-0.000086</td>\n",
       "      <td>-0.024533</td>\n",
       "      <td>-0.000250</td>\n",
       "      <td>-0.006227</td>\n",
       "      <td>-0.066123</td>\n",
       "      <td>0.017900</td>\n",
       "      <td>-0.013599</td>\n",
       "      <td>0.045297</td>\n",
       "      <td>0.016447</td>\n",
       "      <td>0.039527</td>\n",
       "      <td>...</td>\n",
       "      <td>-0.004900</td>\n",
       "      <td>-0.004900</td>\n",
       "      <td>0.030446</td>\n",
       "      <td>0.008481</td>\n",
       "      <td>0.057252</td>\n",
       "      <td>-0.013916</td>\n",
       "      <td>0.016766</td>\n",
       "      <td>0.005807</td>\n",
       "      <td>0.021754</td>\n",
       "      <td>alimentos</td>\n",
       "    </tr>\n",
       "    <tr>\n",
       "      <th>2</th>\n",
       "      <td>-0.021472</td>\n",
       "      <td>-0.030236</td>\n",
       "      <td>-0.003043</td>\n",
       "      <td>-0.000948</td>\n",
       "      <td>-0.013097</td>\n",
       "      <td>0.019014</td>\n",
       "      <td>-0.008173</td>\n",
       "      <td>0.012821</td>\n",
       "      <td>0.017324</td>\n",
       "      <td>0.014629</td>\n",
       "      <td>...</td>\n",
       "      <td>0.005270</td>\n",
       "      <td>0.005270</td>\n",
       "      <td>0.010639</td>\n",
       "      <td>0.005273</td>\n",
       "      <td>-0.007981</td>\n",
       "      <td>-0.007019</td>\n",
       "      <td>0.012102</td>\n",
       "      <td>0.017732</td>\n",
       "      <td>-0.001317</td>\n",
       "      <td>alimentos_bebidas</td>\n",
       "    </tr>\n",
       "    <tr>\n",
       "      <th>3</th>\n",
       "      <td>0.014575</td>\n",
       "      <td>0.011691</td>\n",
       "      <td>-0.004871</td>\n",
       "      <td>-0.004749</td>\n",
       "      <td>-0.009793</td>\n",
       "      <td>0.014415</td>\n",
       "      <td>0.014695</td>\n",
       "      <td>0.000971</td>\n",
       "      <td>0.019201</td>\n",
       "      <td>0.035518</td>\n",
       "      <td>...</td>\n",
       "      <td>-0.012613</td>\n",
       "      <td>-0.012613</td>\n",
       "      <td>-0.001446</td>\n",
       "      <td>0.018611</td>\n",
       "      <td>0.048976</td>\n",
       "      <td>0.015967</td>\n",
       "      <td>0.017376</td>\n",
       "      <td>0.033643</td>\n",
       "      <td>0.001368</td>\n",
       "      <td>artes</td>\n",
       "    </tr>\n",
       "    <tr>\n",
       "      <th>4</th>\n",
       "      <td>-0.007146</td>\n",
       "      <td>-0.009016</td>\n",
       "      <td>-0.002128</td>\n",
       "      <td>-0.006538</td>\n",
       "      <td>-0.001959</td>\n",
       "      <td>0.018963</td>\n",
       "      <td>-0.001972</td>\n",
       "      <td>-0.001732</td>\n",
       "      <td>0.017934</td>\n",
       "      <td>0.042341</td>\n",
       "      <td>...</td>\n",
       "      <td>-0.023965</td>\n",
       "      <td>-0.023965</td>\n",
       "      <td>-0.003905</td>\n",
       "      <td>-0.006328</td>\n",
       "      <td>-0.003779</td>\n",
       "      <td>-0.003951</td>\n",
       "      <td>0.014837</td>\n",
       "      <td>0.019560</td>\n",
       "      <td>0.023507</td>\n",
       "      <td>artes_e_artesanato</td>\n",
       "    </tr>\n",
       "  </tbody>\n",
       "</table>\n",
       "<p>5 rows × 2741 columns</p>\n",
       "</div>"
      ],
      "text/plain": [
       "seller_id  0015a82c2db000af6aaaf3ae2ecb0532  001cca7ae9ae17fb1caed9dfb1094831  \\\n",
       "0                                  0.033277                         -0.000801   \n",
       "1                                 -0.000086                         -0.024533   \n",
       "2                                 -0.021472                         -0.030236   \n",
       "3                                  0.014575                          0.011691   \n",
       "4                                 -0.007146                         -0.009016   \n",
       "\n",
       "seller_id  004c9cd9d87a3c30c522c48c4fc07416  00720abe85ba0859807595bbf045a33b  \\\n",
       "0                                 -0.010996                          0.015169   \n",
       "1                                 -0.000250                         -0.006227   \n",
       "2                                 -0.003043                         -0.000948   \n",
       "3                                 -0.004871                         -0.004749   \n",
       "4                                 -0.002128                         -0.006538   \n",
       "\n",
       "seller_id  00d8b143d12632bad99c0ad66ad52825  00ee68308b45bc5e2660cd833c3f81cc  \\\n",
       "0                                 -0.028771                          0.006921   \n",
       "1                                 -0.066123                          0.017900   \n",
       "2                                 -0.013097                          0.019014   \n",
       "3                                 -0.009793                          0.014415   \n",
       "4                                 -0.001959                          0.018963   \n",
       "\n",
       "seller_id  010543a62bd80aa422851e79a3bc7540  011b0eaba87386a2ae96a7d32bb531d1  \\\n",
       "0                                  0.007593                          0.003187   \n",
       "1                                 -0.013599                          0.045297   \n",
       "2                                 -0.008173                          0.012821   \n",
       "3                                  0.014695                          0.000971   \n",
       "4                                 -0.001972                         -0.001732   \n",
       "\n",
       "seller_id  01266d4c46afa519678d16a8b683d325  013900e863eace745d3ec7614cab5b1a  \\\n",
       "0                                  0.017533                          0.027779   \n",
       "1                                  0.016447                          0.039527   \n",
       "2                                  0.017324                          0.014629   \n",
       "3                                  0.019201                          0.035518   \n",
       "4                                  0.017934                          0.042341   \n",
       "\n",
       "seller_id  ...  ff69aa92bb6b1bf9b8b7a51c2ed9cf8b  \\\n",
       "0          ...                         -0.020761   \n",
       "1          ...                         -0.004900   \n",
       "2          ...                          0.005270   \n",
       "3          ...                         -0.012613   \n",
       "4          ...                         -0.023965   \n",
       "\n",
       "seller_id  ff82e8873fba613f2261a9acc896fd84  ffa6adafb71b807dc13159e26431354c  \\\n",
       "0                                 -0.020761                         -0.014907   \n",
       "1                                 -0.004900                          0.030446   \n",
       "2                                  0.005270                          0.010639   \n",
       "3                                 -0.012613                         -0.001446   \n",
       "4                                 -0.023965                         -0.003905   \n",
       "\n",
       "seller_id  ffad1e7127fb622cb64a900751590acd  ffc470761de7d0232558ba5e786e57b7  \\\n",
       "0                                 -0.002589                          0.052073   \n",
       "1                                  0.008481                          0.057252   \n",
       "2                                  0.005273                         -0.007981   \n",
       "3                                  0.018611                          0.048976   \n",
       "4                                 -0.006328                         -0.003779   \n",
       "\n",
       "seller_id  ffdd9f82b9a447f6f8d4b91554cc7dd3  ffeee66ac5d5a62fe688b9d26f83f534  \\\n",
       "0                                  0.016809                          0.025153   \n",
       "1                                 -0.013916                          0.016766   \n",
       "2                                 -0.007019                          0.012102   \n",
       "3                                  0.015967                          0.017376   \n",
       "4                                 -0.003951                          0.014837   \n",
       "\n",
       "seller_id  fffd5413c0700ac820c7069d66d98c89  ffff564a4f9085cd26170f4732393726  \\\n",
       "0                                  0.033095                          0.058342   \n",
       "1                                  0.005807                          0.021754   \n",
       "2                                  0.017732                         -0.001317   \n",
       "3                                  0.033643                          0.001368   \n",
       "4                                  0.019560                          0.023507   \n",
       "\n",
       "seller_id      product_category_name  \n",
       "0          agro_industria_e_comercio  \n",
       "1                          alimentos  \n",
       "2                  alimentos_bebidas  \n",
       "3                              artes  \n",
       "4                 artes_e_artesanato  \n",
       "\n",
       "[5 rows x 2741 columns]"
      ]
     },
     "execution_count": 115,
     "metadata": {},
     "output_type": "execute_result"
    }
   ],
   "source": [
    "pca_fit = PCA(20)\n",
    "tb_cat_pca = pca_fit.fit_transform(tb_cat.drop('product_category_name', axis = 1))\n",
    "\n",
    "tb_cat_recom = pd.DataFrame(pca_fit.inverse_transform(tb_cat_pca), columns = tb_cat.columns[1:])\n",
    "tb_cat_recom['product_category_name'] = tb_cat['product_category_name']\n",
    "tb_cat_recom.head()"
   ]
  },
  {
   "cell_type": "code",
   "execution_count": 116,
   "metadata": {},
   "outputs": [
    {
     "data": {
      "text/html": [
       "<div>\n",
       "<style scoped>\n",
       "    .dataframe tbody tr th:only-of-type {\n",
       "        vertical-align: middle;\n",
       "    }\n",
       "\n",
       "    .dataframe tbody tr th {\n",
       "        vertical-align: top;\n",
       "    }\n",
       "\n",
       "    .dataframe thead th {\n",
       "        text-align: right;\n",
       "    }\n",
       "</style>\n",
       "<table border=\"1\" class=\"dataframe\">\n",
       "  <thead>\n",
       "    <tr style=\"text-align: right;\">\n",
       "      <th></th>\n",
       "      <th>product_category_name</th>\n",
       "      <th>seller_id</th>\n",
       "      <th>score_recom_cat</th>\n",
       "    </tr>\n",
       "  </thead>\n",
       "  <tbody>\n",
       "    <tr>\n",
       "      <th>0</th>\n",
       "      <td>agro_industria_e_comercio</td>\n",
       "      <td>0015a82c2db000af6aaaf3ae2ecb0532</td>\n",
       "      <td>0.033277</td>\n",
       "    </tr>\n",
       "    <tr>\n",
       "      <th>1</th>\n",
       "      <td>alimentos</td>\n",
       "      <td>0015a82c2db000af6aaaf3ae2ecb0532</td>\n",
       "      <td>-0.000086</td>\n",
       "    </tr>\n",
       "    <tr>\n",
       "      <th>2</th>\n",
       "      <td>alimentos_bebidas</td>\n",
       "      <td>0015a82c2db000af6aaaf3ae2ecb0532</td>\n",
       "      <td>-0.021472</td>\n",
       "    </tr>\n",
       "    <tr>\n",
       "      <th>3</th>\n",
       "      <td>artes</td>\n",
       "      <td>0015a82c2db000af6aaaf3ae2ecb0532</td>\n",
       "      <td>0.014575</td>\n",
       "    </tr>\n",
       "    <tr>\n",
       "      <th>4</th>\n",
       "      <td>artes_e_artesanato</td>\n",
       "      <td>0015a82c2db000af6aaaf3ae2ecb0532</td>\n",
       "      <td>-0.007146</td>\n",
       "    </tr>\n",
       "  </tbody>\n",
       "</table>\n",
       "</div>"
      ],
      "text/plain": [
       "       product_category_name                         seller_id  \\\n",
       "0  agro_industria_e_comercio  0015a82c2db000af6aaaf3ae2ecb0532   \n",
       "1                  alimentos  0015a82c2db000af6aaaf3ae2ecb0532   \n",
       "2          alimentos_bebidas  0015a82c2db000af6aaaf3ae2ecb0532   \n",
       "3                      artes  0015a82c2db000af6aaaf3ae2ecb0532   \n",
       "4         artes_e_artesanato  0015a82c2db000af6aaaf3ae2ecb0532   \n",
       "\n",
       "   score_recom_cat  \n",
       "0         0.033277  \n",
       "1        -0.000086  \n",
       "2        -0.021472  \n",
       "3         0.014575  \n",
       "4        -0.007146  "
      ]
     },
     "execution_count": 116,
     "metadata": {},
     "output_type": "execute_result"
    }
   ],
   "source": [
    "tb_cat_seller_recom = tb_cat_recom.melt(id_vars = 'product_category_name').rename({'value' : 'score_recom_cat'}, axis = 1)\n",
    "tb_cat_seller_recom.head()"
   ]
  },
  {
   "cell_type": "markdown",
   "metadata": {},
   "source": [
    "Agora, vamos agregar este novo score a nossa base original e comparar os dois scores e entender como podemos combina-los em um unico score de recomendação."
   ]
  },
  {
   "cell_type": "code",
   "execution_count": 117,
   "metadata": {},
   "outputs": [],
   "source": [
    "tb_eval_recom = tb_eval_recom.merge(tb_cat_seller_recom, on = ['seller_id', 'product_category_name'], how = 'left').fillna(0)"
   ]
  },
  {
   "cell_type": "markdown",
   "metadata": {},
   "source": [
    "## Combinando as duas projeções\n",
    "Agora temos dois scores de recomendação - um estimado a partir da semelhança entre categorias e outro a partir da semelhança entre usuários. Podemos combina-los de duas formas: de uma forma simples e direta ou utilizando um modelo."
   ]
  },
  {
   "cell_type": "code",
   "execution_count": 119,
   "metadata": {},
   "outputs": [
    {
     "data": {
      "text/html": [
       "<div>\n",
       "<style scoped>\n",
       "    .dataframe tbody tr th:only-of-type {\n",
       "        vertical-align: middle;\n",
       "    }\n",
       "\n",
       "    .dataframe tbody tr th {\n",
       "        vertical-align: top;\n",
       "    }\n",
       "\n",
       "    .dataframe thead th {\n",
       "        text-align: right;\n",
       "    }\n",
       "</style>\n",
       "<table border=\"1\" class=\"dataframe\">\n",
       "  <thead>\n",
       "    <tr style=\"text-align: right;\">\n",
       "      <th></th>\n",
       "      <th>seller_id</th>\n",
       "      <th>product_category_name</th>\n",
       "      <th>score_recom_seller</th>\n",
       "      <th>rb</th>\n",
       "      <th>vende_cat</th>\n",
       "      <th>pred_proba</th>\n",
       "      <th>score_recom_cat</th>\n",
       "    </tr>\n",
       "  </thead>\n",
       "  <tbody>\n",
       "    <tr>\n",
       "      <th>0</th>\n",
       "      <td>0015a82c2db000af6aaaf3ae2ecb0532</td>\n",
       "      <td>agro_industria_e_comercio</td>\n",
       "      <td>0.004270</td>\n",
       "      <td>0.0</td>\n",
       "      <td>0.0</td>\n",
       "      <td>0.010749</td>\n",
       "      <td>0.033277</td>\n",
       "    </tr>\n",
       "    <tr>\n",
       "      <th>1</th>\n",
       "      <td>001cca7ae9ae17fb1caed9dfb1094831</td>\n",
       "      <td>agro_industria_e_comercio</td>\n",
       "      <td>0.011607</td>\n",
       "      <td>0.0</td>\n",
       "      <td>0.0</td>\n",
       "      <td>0.011684</td>\n",
       "      <td>-0.000801</td>\n",
       "    </tr>\n",
       "    <tr>\n",
       "      <th>2</th>\n",
       "      <td>004c9cd9d87a3c30c522c48c4fc07416</td>\n",
       "      <td>agro_industria_e_comercio</td>\n",
       "      <td>0.001163</td>\n",
       "      <td>0.0</td>\n",
       "      <td>0.0</td>\n",
       "      <td>0.010376</td>\n",
       "      <td>-0.010996</td>\n",
       "    </tr>\n",
       "    <tr>\n",
       "      <th>3</th>\n",
       "      <td>00720abe85ba0859807595bbf045a33b</td>\n",
       "      <td>agro_industria_e_comercio</td>\n",
       "      <td>0.022608</td>\n",
       "      <td>0.0</td>\n",
       "      <td>0.0</td>\n",
       "      <td>0.013237</td>\n",
       "      <td>0.015169</td>\n",
       "    </tr>\n",
       "    <tr>\n",
       "      <th>4</th>\n",
       "      <td>00d8b143d12632bad99c0ad66ad52825</td>\n",
       "      <td>agro_industria_e_comercio</td>\n",
       "      <td>0.000631</td>\n",
       "      <td>0.0</td>\n",
       "      <td>0.0</td>\n",
       "      <td>0.010314</td>\n",
       "      <td>-0.028771</td>\n",
       "    </tr>\n",
       "  </tbody>\n",
       "</table>\n",
       "</div>"
      ],
      "text/plain": [
       "                          seller_id      product_category_name  \\\n",
       "0  0015a82c2db000af6aaaf3ae2ecb0532  agro_industria_e_comercio   \n",
       "1  001cca7ae9ae17fb1caed9dfb1094831  agro_industria_e_comercio   \n",
       "2  004c9cd9d87a3c30c522c48c4fc07416  agro_industria_e_comercio   \n",
       "3  00720abe85ba0859807595bbf045a33b  agro_industria_e_comercio   \n",
       "4  00d8b143d12632bad99c0ad66ad52825  agro_industria_e_comercio   \n",
       "\n",
       "   score_recom_seller   rb  vende_cat  pred_proba  score_recom_cat  \n",
       "0            0.004270  0.0        0.0    0.010749         0.033277  \n",
       "1            0.011607  0.0        0.0    0.011684        -0.000801  \n",
       "2            0.001163  0.0        0.0    0.010376        -0.010996  \n",
       "3            0.022608  0.0        0.0    0.013237         0.015169  \n",
       "4            0.000631  0.0        0.0    0.010314        -0.028771  "
      ]
     },
     "execution_count": 119,
     "metadata": {},
     "output_type": "execute_result"
    }
   ],
   "source": [
    "tb_eval_recom.head()"
   ]
  },
  {
   "cell_type": "code",
   "execution_count": 125,
   "metadata": {},
   "outputs": [
    {
     "data": {
      "text/plain": [
       "<AxesSubplot:xlabel='vende_cat', ylabel='score_recom_cat'>"
      ]
     },
     "execution_count": 125,
     "metadata": {},
     "output_type": "execute_result"
    },
    {
     "data": {
      "image/png": "[encoded data removed]",
      "text/plain": [
       "<Figure size 1080x576 with 2 Axes>"
      ]
     },
     "metadata": {
      "needs_background": "light"
     },
     "output_type": "display_data"
    }
   ],
   "source": [
    "fig, ax = plt.subplots(1, 2, figsize = (15, 8))\n",
    "sns.boxplot(data = tb_eval_recom, x = 'vende_cat', y = 'score_recom_seller', ax = ax[0])\n",
    "sns.boxplot(data = tb_eval_recom, x = 'vende_cat', y = 'score_recom_cat', ax = ax[1])"
   ]
  },
  {
   "cell_type": "markdown",
   "metadata": {},
   "source": [
    "Vamos analisar o espaço composto pelos dois scores a luz da compra real."
   ]
  },
  {
   "cell_type": "code",
   "execution_count": 126,
   "metadata": {},
   "outputs": [
    {
     "data": {
      "text/plain": [
       "<AxesSubplot:xlabel='score_recom_seller', ylabel='score_recom_cat'>"
      ]
     },
     "execution_count": 126,
     "metadata": {},
     "output_type": "execute_result"
    },
    {
     "data": {
      "image/png": "[encoded data removed]",
      "text/plain": [
       "<Figure size 432x288 with 1 Axes>"
      ]
     },
     "metadata": {
      "needs_background": "light"
     },
     "output_type": "display_data"
    }
   ],
   "source": [
    "sns.scatterplot(data = tb_eval_recom, x = 'score_recom_seller', y = 'score_recom_cat', hue = \"vende_cat\")"
   ]
  },
  {
   "cell_type": "markdown",
   "metadata": {},
   "source": [
    "### Utilizando o score máximo como métrica de recomendação"
   ]
  },
  {
   "cell_type": "code",
   "execution_count": 130,
   "metadata": {},
   "outputs": [],
   "source": [
    "tb_eval_recom['max_score'] = tb_eval_recom.apply(lambda x: max(x['score_recom_seller'], x['score_recom_cat']), axis = 1)"
   ]
  },
  {
   "cell_type": "code",
   "execution_count": 131,
   "metadata": {},
   "outputs": [],
   "source": [
    "log_fit = lm.LogisticRegression()\n",
    "log_fit.fit(tb_eval_recom[['max_score']], tb_eval_recom['vende_cat'])\n",
    "tb_eval_recom['pred_proba_full'] = log_fit.predict_proba(tb_eval_recom[['max_score']])[:,-1]"
   ]
  },
  {
   "cell_type": "code",
   "execution_count": 132,
   "metadata": {},
   "outputs": [
    {
     "data": {
      "text/plain": [
       "<AxesSubplot:xlabel='max_score', ylabel='pred_proba_full'>"
      ]
     },
     "execution_count": 132,
     "metadata": {},
     "output_type": "execute_result"
    },
    {
     "data": {
      "image/png": "[encoded data removed]",
      "text/plain": [
       "<Figure size 432x288 with 1 Axes>"
      ]
     },
     "metadata": {
      "needs_background": "light"
     },
     "output_type": "display_data"
    }
   ],
   "source": [
    "sns.scatterplot(data = tb_eval_recom, x = 'max_score', y = 'pred_proba_full', hue = 'pred_proba_full')"
   ]
  },
  {
   "cell_type": "markdown",
   "metadata": {},
   "source": [
    "### Utilizando a regressão logística para compor as duas variáveis de score"
   ]
  },
  {
   "cell_type": "code",
   "execution_count": 133,
   "metadata": {},
   "outputs": [],
   "source": [
    "log_fit = lm.LogisticRegression()\n",
    "log_fit.fit(tb_eval_recom[['score_recom_seller', 'score_recom_cat']], tb_eval_recom['vende_cat'])\n",
    "tb_eval_recom['pred_proba_full'] = log_fit.predict_proba(tb_eval_recom[['score_recom_seller', 'score_recom_cat']])[:,-1]"
   ]
  },
  {
   "cell_type": "code",
   "execution_count": 134,
   "metadata": {},
   "outputs": [
    {
     "data": {
      "text/plain": [
       "<AxesSubplot:xlabel='score_recom_seller', ylabel='score_recom_cat'>"
      ]
     },
     "execution_count": 134,
     "metadata": {},
     "output_type": "execute_result"
    },
    {
     "data": {
      "image/png": "[encoded data removed]",
      "text/plain": [
       "<Figure size 432x288 with 1 Axes>"
      ]
     },
     "metadata": {
      "needs_background": "light"
     },
     "output_type": "display_data"
    }
   ],
   "source": [
    "sns.scatterplot(data = tb_eval_recom, x = 'score_recom_seller', y = 'score_recom_cat', hue = 'pred_proba_full')"
   ]
  },
  {
   "cell_type": "markdown",
   "metadata": {},
   "source": [
    "## Contruindo o conjunto de teste\n",
    "Como dissemos acima, a construção do conjunto de teste para um modelo de recomendação é bem diferente do que viemos trabalhando até o momento. Como só conseguimos gerar recomendações para usuários que tenham pelo menos alguma interação com os itens (em nosso caso, apenas sellers que vendem pelo menos uma categoria) não podemos simplesmente gerar um conjunto de teste aleatório.\n",
    "\n",
    "Vamos precisar selecionar um número de sellers, com todas as linhas de categoria por seller, e **mascarar** algumas categorias: trocaremos uma % das categorias que o seller vende de 1 para 0. O objetivo é ver se o sistema de recomendação é capaz de prever que estes sellers comprariam estas categorias mascaradas a partir das outras categorias que compram."
   ]
  },
  {
   "cell_type": "code",
   "execution_count": 1,
   "metadata": {},
   "outputs": [
    {
     "ename": "NameError",
     "evalue": "name 'np' is not defined",
     "output_type": "error",
     "traceback": [
      "\u001b[0;31m---------------------------------------------------------------------------\u001b[0m",
      "\u001b[0;31mNameError\u001b[0m                                 Traceback (most recent call last)",
      "\u001b[1;32m/Users/pedroteche/Documents/GitHub/64_PT_NOV202111/aulas/64 DA PT NOV-2021 Aula 20220414 Sistemas de Recomendação.ipynb Cell 47'\u001b[0m in \u001b[0;36m<cell line: 1>\u001b[0;34m()\u001b[0m\n\u001b[0;32m----> <a href='vscode-notebook-cell:/Users/pedroteche/Documents/GitHub/64_PT_NOV202111/aulas/64%20DA%20PT%20NOV-2021%20Aula%2020220414%20Sistemas%20de%20Recomenda%C3%A7%C3%A3o.ipynb#ch0000059?line=0'>1</a>\u001b[0m tb_seller_test[\u001b[39m'\u001b[39m\u001b[39mrand_shuffle\u001b[39m\u001b[39m'\u001b[39m] \u001b[39m=\u001b[39m np\u001b[39m.\u001b[39mrandom()\n",
      "\u001b[0;31mNameError\u001b[0m: name 'np' is not defined"
     ]
    }
   ],
   "source": [
    "tb_seller_test['rand_shuffle'] = np.random()"
   ]
  },
  {
   "cell_type": "markdown",
   "metadata": {},
   "source": [
    "## Exercício\n",
    "\n",
    "O modelo construído acima pode ser melhorado se utilizarmos a função de decomposição NMF no lugar da função PCA. Consolide as etapas percorridas acima trocando o PCA por NMF. Agora utilize o conjunto de teste para gerar predições de recomendação"
   ]
  },
  {
   "cell_type": "markdown",
   "metadata": {},
   "source": [
    "# Utilizando a biblioteca Suprise!\n",
    "Essa forma que vimos acima é bem proxima de como os algoritmos de ponta para sistemas de recomendação. O que muda são as forma de decomposição e de realizar a estimativa da probabilidade de compra a partir dos scores da decomposição matricial. A biblioteca `scikit-suprise` contém implementações dos algoritmos mais modernos, utilizando SVD e kNN como estimadores de recomendação por exemplo.\n",
    "\n",
    "Toda essa familia de decomposições tornou-se o padrão na indústria a partir de 2006, quando o cientista de dado Simon Funk venceu a competição para o sistema de recomendação do Netflix."
   ]
  },
  {
   "cell_type": "code",
   "execution_count": 154,
   "metadata": {},
   "outputs": [],
   "source": [
    "from surprise import SVD, Dataset, Reader\n",
    "from surprise import accuracy\n",
    "from surprise.model_selection import train_test_split, cross_validate"
   ]
  },
  {
   "cell_type": "code",
   "execution_count": 155,
   "metadata": {},
   "outputs": [],
   "source": [
    "reader = Reader(rating_scale = (0, 1))"
   ]
  },
  {
   "cell_type": "code",
   "execution_count": 156,
   "metadata": {},
   "outputs": [],
   "source": [
    "tb_seller_cat_full['rating'] = np.where(tb_seller_cat_full['rb'] > 0, 1, 0)\n",
    "tb_scf = tb_seller_cat_full[['seller_id', 'product_category_name', 'rating']].rename({'seller_id' : 'userID', 'product_category_name' : 'itemID'}, axis = 1).copy()"
   ]
  },
  {
   "cell_type": "code",
   "execution_count": 157,
   "metadata": {},
   "outputs": [],
   "source": [
    "data = Dataset.load_from_df(tb_scf, reader)"
   ]
  },
  {
   "cell_type": "code",
   "execution_count": 158,
   "metadata": {},
   "outputs": [
    {
     "name": "stdout",
     "output_type": "stream",
     "text": [
      "Evaluating RMSE, MAE of algorithm SVD on 5 split(s).\n",
      "\n",
      "                  Fold 1  Fold 2  Fold 3  Fold 4  Fold 5  Mean    Std     \n",
      "RMSE (testset)    0.0436  0.0403  0.0382  0.0401  0.0405  0.0405  0.0017  \n",
      "MAE (testset)     0.0198  0.0181  0.0183  0.0184  0.0187  0.0187  0.0006  \n",
      "Fit time          0.28    0.28    0.28    0.27    0.27    0.27    0.00    \n",
      "Test time         0.01    0.01    0.00    0.00    0.01    0.01    0.00    \n"
     ]
    },
    {
     "data": {
      "text/plain": [
       "{'test_rmse': array([0.04358064, 0.04030344, 0.03823827, 0.04005158, 0.04046674]),\n",
       " 'test_mae': array([0.01983037, 0.01808993, 0.01832536, 0.01839881, 0.01866731]),\n",
       " 'fit_time': (0.28122806549072266,\n",
       "  0.2750539779663086,\n",
       "  0.27883005142211914,\n",
       "  0.26774001121520996,\n",
       "  0.2712588310241699),\n",
       " 'test_time': (0.005511045455932617,\n",
       "  0.0060710906982421875,\n",
       "  0.004930973052978516,\n",
       "  0.00496220588684082,\n",
       "  0.0051059722900390625)}"
      ]
     },
     "execution_count": 158,
     "metadata": {},
     "output_type": "execute_result"
    }
   ],
   "source": [
    "trainset, testset = train_test_split(data, test_size=.25)\n",
    "algo = SVD()\n",
    "cross_validate(algo, data, measures=['RMSE', 'MAE'], cv=5, verbose=True)"
   ]
  },
  {
   "cell_type": "code",
   "execution_count": 159,
   "metadata": {},
   "outputs": [],
   "source": [
    "predictions = algo.test(testset)"
   ]
  },
  {
   "cell_type": "code",
   "execution_count": 162,
   "metadata": {},
   "outputs": [
    {
     "data": {
      "text/plain": [
       "[Prediction(uid='cb5ff1b9715e99589f3e0c7a6afab9e3', iid='esporte_lazer', r_ui=1.0, est=1, details={'was_impossible': False}),\n",
       " Prediction(uid='b6c6854d4d92a5f6f46be8869da3fa1a', iid='esporte_lazer', r_ui=1.0, est=0.9698349739235621, details={'was_impossible': False}),\n",
       " Prediction(uid='b5d034ac251546e25afe9067f05c1539', iid='bebes', r_ui=1.0, est=1, details={'was_impossible': False}),\n",
       " Prediction(uid='a9415cf907dfa12f9ed18693244f5329', iid='moveis_cozinha_area_de_servico_jantar_e_jardim', r_ui=1.0, est=0.9955833864546714, details={'was_impossible': False}),\n",
       " Prediction(uid='71593c7413973a1e160057b80d4958f6', iid='climatizacao', r_ui=1.0, est=0.8416345854819955, details={'was_impossible': False})]"
      ]
     },
     "execution_count": 162,
     "metadata": {},
     "output_type": "execute_result"
    }
   ],
   "source": [
    "predictions[0:5]"
   ]
  },
  {
   "cell_type": "code",
   "execution_count": 161,
   "metadata": {},
   "outputs": [
    {
     "data": {
      "text/plain": [
       "surprise.prediction_algorithms.predictions.Prediction"
      ]
     },
     "execution_count": 161,
     "metadata": {},
     "output_type": "execute_result"
    }
   ],
   "source": [
    "type(predictions[0])"
   ]
  },
  {
   "cell_type": "markdown",
   "metadata": {},
   "source": [
    "## Exercício\n",
    "\n",
    "Investigue os parâmetros que podemos utilizar na construção do modelo SVD. Como você otimizaria esses parâmetros? Leia a documentação da biblioteca `scikit-surprise` para entender melhor como este modelo funciona. Como podemos incluir informações como a região do seller, ou o preço médio do item? Será que conseguimos tratar a venda como algo não binário (uma escala de não vende, vende pouco, vende muito por exemplo)?"
   ]
  }
 ],
 "metadata": {
  "interpreter": {
   "hash": "014f4a4a5af8f0104b12c029e500f4146d6d785e8cf714d2a35b7a9514230cd3"
  },
  "kernelspec": {
   "display_name": "Python 3.9.11 ('base')",
   "language": "python",
   "name": "python3"
  },
  "language_info": {
   "codemirror_mode": {
    "name": "ipython",
    "version": 3
   },
   "file_extension": ".py",
   "mimetype": "text/x-python",
   "name": "python",
   "nbconvert_exporter": "python",
   "pygments_lexer": "ipython3",
   "version": "3.8.9"
  },
  "orig_nbformat": 4
 },
 "nbformat": 4,
 "nbformat_minor": 2
}
