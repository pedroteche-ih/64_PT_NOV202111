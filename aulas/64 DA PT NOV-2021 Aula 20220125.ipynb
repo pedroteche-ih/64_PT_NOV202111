{
 "cells": [
  {
   "cell_type": "markdown",
   "metadata": {},
   "source": [
    "# Parallelism"
   ]
  },
  {
   "cell_type": "code",
   "execution_count": null,
   "metadata": {
    "ExecuteTime": {
     "end_time": "2022-01-25T18:52:42.807331Z",
     "start_time": "2022-01-25T18:52:42.431217Z"
    }
   },
   "outputs": [],
   "source": [
    "import pandas as pd\n",
    "import numpy as np"
   ]
  },
  {
   "cell_type": "markdown",
   "metadata": {},
   "source": [
    "# Silly example"
   ]
  },
  {
   "cell_type": "code",
   "execution_count": null,
   "metadata": {
    "ExecuteTime": {
     "end_time": "2022-01-25T18:52:44.148182Z",
     "start_time": "2022-01-25T18:52:44.130230Z"
    }
   },
   "outputs": [],
   "source": [
    "def my_sleep(x):\n",
    "    '''\n",
    "    Sleeps for x-seconds and returns the result x\n",
    "    '''\n",
    "    import time\n",
    "    print(f'Sleeping for {x} seconds.')\n",
    "    time.sleep(x)\n",
    "    print(f'Returning {x}')\n",
    "    return x"
   ]
  },
  {
   "cell_type": "code",
   "execution_count": null,
   "metadata": {
    "ExecuteTime": {
     "end_time": "2022-01-25T18:52:49.690247Z",
     "start_time": "2022-01-25T18:52:44.668936Z"
    },
    "tags": []
   },
   "outputs": [],
   "source": [
    "my_sleep(5)"
   ]
  },
  {
   "cell_type": "code",
   "execution_count": null,
   "metadata": {
    "ExecuteTime": {
     "end_time": "2022-01-25T18:52:49.705207Z",
     "start_time": "2022-01-25T18:52:49.692244Z"
    }
   },
   "outputs": [],
   "source": [
    "my_list = [1,2,3,4,5,6]"
   ]
  },
  {
   "cell_type": "code",
   "execution_count": null,
   "metadata": {
    "ExecuteTime": {
     "end_time": "2022-01-25T18:52:49.721191Z",
     "start_time": "2022-01-25T18:52:49.706205Z"
    }
   },
   "outputs": [],
   "source": [
    "sum(my_list)"
   ]
  },
  {
   "cell_type": "code",
   "execution_count": null,
   "metadata": {
    "ExecuteTime": {
     "end_time": "2022-01-25T18:52:49.798529Z",
     "start_time": "2022-01-25T18:52:49.723159Z"
    }
   },
   "outputs": [],
   "source": [
    "from tqdm.auto import tqdm"
   ]
  },
  {
   "cell_type": "code",
   "execution_count": null,
   "metadata": {
    "ExecuteTime": {
     "end_time": "2022-01-25T18:53:10.863774Z",
     "start_time": "2022-01-25T18:52:49.799331Z"
    }
   },
   "outputs": [],
   "source": [
    "for i in my_list:\n",
    "    print(my_sleep(i))"
   ]
  },
  {
   "cell_type": "code",
   "execution_count": null,
   "metadata": {
    "ExecuteTime": {
     "end_time": "2022-01-25T18:53:10.878747Z",
     "start_time": "2022-01-25T18:53:10.864770Z"
    }
   },
   "outputs": [],
   "source": [
    "map(my_sleep,my_list) # lazy evaluation"
   ]
  },
  {
   "cell_type": "code",
   "execution_count": null,
   "metadata": {
    "ExecuteTime": {
     "end_time": "2022-01-25T18:53:31.947348Z",
     "start_time": "2022-01-25T18:53:10.880730Z"
    }
   },
   "outputs": [],
   "source": [
    "list(map(my_sleep,my_list))"
   ]
  },
  {
   "cell_type": "markdown",
   "metadata": {},
   "source": [
    "## Serial code"
   ]
  },
  {
   "cell_type": "code",
   "execution_count": null,
   "metadata": {
    "ExecuteTime": {
     "end_time": "2022-01-25T18:53:53.050459Z",
     "start_time": "2022-01-25T18:53:31.949196Z"
    }
   },
   "outputs": [],
   "source": [
    "for item in tqdm(my_list):\n",
    "    my_sleep(item)"
   ]
  },
  {
   "cell_type": "code",
   "execution_count": null,
   "metadata": {
    "ExecuteTime": {
     "end_time": "2022-01-25T18:54:14.148481Z",
     "start_time": "2022-01-25T18:53:53.052270Z"
    }
   },
   "outputs": [],
   "source": [
    "list(map(my_sleep, tqdm(my_list)))"
   ]
  },
  {
   "cell_type": "code",
   "execution_count": null,
   "metadata": {
    "ExecuteTime": {
     "end_time": "2022-01-25T18:54:35.208418Z",
     "start_time": "2022-01-25T18:54:14.149387Z"
    },
    "scrolled": true
   },
   "outputs": [],
   "source": [
    "%%time\n",
    "list(map(my_sleep, my_list))"
   ]
  },
  {
   "cell_type": "code",
   "execution_count": null,
   "metadata": {
    "ExecuteTime": {
     "end_time": "2022-01-25T18:54:41.249642Z",
     "start_time": "2022-01-25T18:54:35.209323Z"
    }
   },
   "outputs": [],
   "source": [
    "%%prun\n",
    "list(map(my_sleep, [1,2,3]))"
   ]
  },
  {
   "cell_type": "markdown",
   "metadata": {},
   "source": [
    "## Parallel code"
   ]
  },
  {
   "cell_type": "code",
   "execution_count": null,
   "metadata": {
    "ExecuteTime": {
     "end_time": "2022-01-25T18:54:41.265426Z",
     "start_time": "2022-01-25T18:54:41.251438Z"
    }
   },
   "outputs": [],
   "source": [
    "from multiprocessing import Pool, cpu_count # Como funciona o pool?\n",
    "\n",
    "cpu_count()"
   ]
  },
  {
   "cell_type": "markdown",
   "metadata": {},
   "source": [
    "## You have to create a pool of `n` (or `n-1`) process."
   ]
  },
  {
   "cell_type": "code",
   "execution_count": null,
   "metadata": {
    "ExecuteTime": {
     "end_time": "2022-01-25T18:54:41.313268Z",
     "start_time": "2022-01-25T18:54:41.266393Z"
    }
   },
   "outputs": [],
   "source": [
    "pool = Pool(processes=cpu_count()-1)"
   ]
  },
  {
   "cell_type": "code",
   "execution_count": null,
   "metadata": {
    "ExecuteTime": {
     "end_time": "2022-01-25T18:54:41.329226Z",
     "start_time": "2022-01-25T18:54:41.315263Z"
    }
   },
   "outputs": [],
   "source": [
    "pool"
   ]
  },
  {
   "cell_type": "markdown",
   "metadata": {},
   "source": [
    "### We'll `%%time` here to measure the velocity of this code in parallel."
   ]
  },
  {
   "cell_type": "markdown",
   "metadata": {},
   "source": [
    "However, if you run this code, watch what happens:"
   ]
  },
  {
   "cell_type": "code",
   "execution_count": null,
   "metadata": {
    "ExecuteTime": {
     "end_time": "2022-01-25T18:54:41.345183Z",
     "start_time": "2022-01-25T18:54:41.331220Z"
    }
   },
   "outputs": [],
   "source": [
    "#%%time\n",
    "\n",
    "#result = pool.map(my_sleep, my_list)\n",
    "#pool.terminate()"
   ]
  },
  {
   "cell_type": "markdown",
   "metadata": {},
   "source": [
    "## This happens because multiprocessing doesn't always (?) work in Jupyter Notebooks. \n",
    "\n",
    "_Some versions of linux or macbooks may handle it well (yay unix)_. But certainly it doesn't work for Windows.\n",
    "\n",
    "### What should we do then? Two solutions.\n",
    "\n",
    "1. We have to write our functions inside a `.py` file.\n",
    "\n",
    "2. Install `multiprocess` (note it is different from Python's `multiprocessing` module)"
   ]
  },
  {
   "cell_type": "code",
   "execution_count": null,
   "metadata": {
    "ExecuteTime": {
     "end_time": "2022-01-25T18:54:41.361142Z",
     "start_time": "2022-01-25T18:54:41.347178Z"
    }
   },
   "outputs": [],
   "source": [
    "from sleeper import my_sleep_from_file"
   ]
  },
  {
   "cell_type": "code",
   "execution_count": null,
   "metadata": {
    "ExecuteTime": {
     "end_time": "2022-01-25T18:55:17.486456Z",
     "start_time": "2022-01-25T18:54:41.363135Z"
    }
   },
   "outputs": [],
   "source": [
    "%%time\n",
    "list(map(my_sleep_from_file, tqdm([1,2,3,4,5,6,7,8])))"
   ]
  },
  {
   "cell_type": "code",
   "execution_count": null,
   "metadata": {
    "ExecuteTime": {
     "end_time": "2022-01-25T18:55:17.562253Z",
     "start_time": "2022-01-25T18:55:17.488451Z"
    }
   },
   "outputs": [],
   "source": [
    "pool.terminate()\n",
    "pool = Pool(processes=cpu_count())\n",
    "pool"
   ]
  },
  {
   "cell_type": "code",
   "execution_count": null,
   "metadata": {
    "ExecuteTime": {
     "end_time": "2022-01-25T18:55:25.740518Z",
     "start_time": "2022-01-25T18:55:17.564248Z"
    }
   },
   "outputs": [],
   "source": [
    "%%time\n",
    "\n",
    "result = pool.map(my_sleep_from_file, [1,2,3,4,5,6,7,8])"
   ]
  },
  {
   "cell_type": "code",
   "execution_count": null,
   "metadata": {
    "ExecuteTime": {
     "end_time": "2022-01-25T18:55:25.755366Z",
     "start_time": "2022-01-25T18:55:25.741325Z"
    }
   },
   "outputs": [],
   "source": [
    "result"
   ]
  },
  {
   "cell_type": "code",
   "execution_count": null,
   "metadata": {
    "ExecuteTime": {
     "end_time": "2022-01-25T18:55:25.787303Z",
     "start_time": "2022-01-25T18:55:25.756269Z"
    }
   },
   "outputs": [],
   "source": [
    "pool.terminate()"
   ]
  },
  {
   "cell_type": "markdown",
   "metadata": {},
   "source": [
    "## Using multiprocess\n"
   ]
  },
  {
   "cell_type": "code",
   "execution_count": null,
   "metadata": {
    "ExecuteTime": {
     "end_time": "2022-01-25T18:43:38.323469Z",
     "start_time": "2022-01-25T18:43:35.563836Z"
    }
   },
   "outputs": [],
   "source": [
    "!pip3 install multiprocess"
   ]
  },
  {
   "cell_type": "code",
   "execution_count": null,
   "metadata": {
    "ExecuteTime": {
     "end_time": "2022-01-25T18:55:25.818564Z",
     "start_time": "2022-01-25T18:55:25.788209Z"
    }
   },
   "outputs": [],
   "source": [
    "# using multiprocess instead of multiprocessing\n",
    "from multiprocess import Pool, cpu_count"
   ]
  },
  {
   "cell_type": "code",
   "execution_count": null,
   "metadata": {
    "ExecuteTime": {
     "end_time": "2022-01-25T18:55:25.898298Z",
     "start_time": "2022-01-25T18:55:25.822500Z"
    }
   },
   "outputs": [],
   "source": [
    "pool = Pool(processes=cpu_count())"
   ]
  },
  {
   "cell_type": "code",
   "execution_count": null,
   "metadata": {
    "ExecuteTime": {
     "end_time": "2022-01-25T18:55:38.354579Z",
     "start_time": "2022-01-25T18:55:25.902288Z"
    }
   },
   "outputs": [],
   "source": [
    "%%time\n",
    "\n",
    "result = list(map(lambda x:x**10000000, [1,2,3,4,5,6]))"
   ]
  },
  {
   "cell_type": "code",
   "execution_count": null,
   "metadata": {
    "ExecuteTime": {
     "end_time": "2022-01-25T18:55:43.852103Z",
     "start_time": "2022-01-25T18:55:38.355379Z"
    }
   },
   "outputs": [],
   "source": [
    "%%time\n",
    "result = pool.map(lambda x:x**10000000, [1,2,3,4,5,6])"
   ]
  },
  {
   "cell_type": "code",
   "execution_count": null,
   "metadata": {
    "ExecuteTime": {
     "end_time": "2022-01-25T18:55:43.883947Z",
     "start_time": "2022-01-25T18:55:43.853928Z"
    }
   },
   "outputs": [],
   "source": [
    "pool.terminate()"
   ]
  },
  {
   "cell_type": "markdown",
   "metadata": {},
   "source": [
    "# Running Asynchronous code\n",
    "\n",
    "## What is asynchrony?\n",
    "\n",
    "- `result.ready()`\n",
    "- `result.wait()`\n",
    "- `result.get()`"
   ]
  },
  {
   "cell_type": "code",
   "execution_count": null,
   "metadata": {
    "ExecuteTime": {
     "end_time": "2022-01-25T18:55:43.931704Z",
     "start_time": "2022-01-25T18:55:43.886826Z"
    },
    "scrolled": true
   },
   "outputs": [],
   "source": [
    "pool = Pool(processes=cpu_count()-1)"
   ]
  },
  {
   "cell_type": "code",
   "execution_count": null,
   "metadata": {
    "ExecuteTime": {
     "end_time": "2022-01-25T18:55:43.946665Z",
     "start_time": "2022-01-25T18:55:43.933700Z"
    }
   },
   "outputs": [],
   "source": [
    "result = pool.map_async(my_sleep_from_file, [10, 10, 10, 10, 10, 10])"
   ]
  },
  {
   "cell_type": "code",
   "execution_count": null,
   "metadata": {
    "ExecuteTime": {
     "end_time": "2022-01-25T18:55:43.961625Z",
     "start_time": "2022-01-25T18:55:43.948660Z"
    }
   },
   "outputs": [],
   "source": [
    "result.ready()"
   ]
  },
  {
   "cell_type": "code",
   "execution_count": null,
   "metadata": {
    "ExecuteTime": {
     "end_time": "2022-01-25T18:55:54.128914Z",
     "start_time": "2022-01-25T18:55:43.963619Z"
    }
   },
   "outputs": [],
   "source": [
    "print('Do something that doesn\"t depend on result')\n",
    "print('...')\n",
    "print('Now the time came when the result is needed.')\n",
    "result.wait()\n",
    "\n",
    "result_list = result.get()\n",
    "pool.terminate()\n",
    "print(f'Now go on and use the results obtained - {result_list}')"
   ]
  },
  {
   "cell_type": "markdown",
   "metadata": {},
   "source": [
    "# CPU intensive computations"
   ]
  },
  {
   "cell_type": "code",
   "execution_count": null,
   "metadata": {
    "ExecuteTime": {
     "end_time": "2022-01-25T18:55:54.144873Z",
     "start_time": "2022-01-25T18:55:54.129911Z"
    }
   },
   "outputs": [],
   "source": [
    "def square(x):\n",
    "    return x ** 2"
   ]
  },
  {
   "cell_type": "code",
   "execution_count": null,
   "metadata": {
    "ExecuteTime": {
     "end_time": "2022-01-25T18:55:54.160026Z",
     "start_time": "2022-01-25T18:55:54.145869Z"
    }
   },
   "outputs": [],
   "source": [
    "%%time\n",
    "square(1249415165)"
   ]
  },
  {
   "cell_type": "code",
   "execution_count": null,
   "metadata": {
    "ExecuteTime": {
     "end_time": "2022-01-25T18:55:54.176226Z",
     "start_time": "2022-01-25T18:55:54.160830Z"
    }
   },
   "outputs": [],
   "source": [
    "n = 1000000"
   ]
  },
  {
   "cell_type": "code",
   "execution_count": null,
   "metadata": {
    "ExecuteTime": {
     "end_time": "2022-01-25T18:55:57.073478Z",
     "start_time": "2022-01-25T18:55:54.177128Z"
    }
   },
   "outputs": [],
   "source": [
    "%%timeit\n",
    "    \n",
    "result = [square(item) for item in np.random.random(size=n)]"
   ]
  },
  {
   "cell_type": "code",
   "execution_count": null,
   "metadata": {
    "ExecuteTime": {
     "end_time": "2022-01-25T18:55:57.448385Z",
     "start_time": "2022-01-25T18:55:57.074380Z"
    }
   },
   "outputs": [],
   "source": [
    "%%time\n",
    "    \n",
    "result = [square(item) for item in np.random.random(size=n)]"
   ]
  },
  {
   "cell_type": "code",
   "execution_count": null,
   "metadata": {
    "ExecuteTime": {
     "end_time": "2022-01-25T18:55:57.480295Z",
     "start_time": "2022-01-25T18:55:57.449378Z"
    },
    "scrolled": true
   },
   "outputs": [],
   "source": [
    "pool = Pool(processes=4)"
   ]
  },
  {
   "cell_type": "code",
   "execution_count": null,
   "metadata": {
    "ExecuteTime": {
     "end_time": "2022-01-25T18:55:57.496252Z",
     "start_time": "2022-01-25T18:55:57.482290Z"
    }
   },
   "outputs": [],
   "source": [
    "random_numbers = np.random.random(size=n)"
   ]
  },
  {
   "cell_type": "code",
   "execution_count": null,
   "metadata": {
    "ExecuteTime": {
     "end_time": "2022-01-25T18:55:57.512210Z",
     "start_time": "2022-01-25T18:55:57.498248Z"
    }
   },
   "outputs": [],
   "source": [
    "random_numbers"
   ]
  },
  {
   "cell_type": "code",
   "execution_count": null,
   "metadata": {
    "ExecuteTime": {
     "end_time": "2022-01-25T18:56:15.068469Z",
     "start_time": "2022-01-25T18:55:57.514206Z"
    },
    "scrolled": true
   },
   "outputs": [],
   "source": [
    "%%time\n",
    "\n",
    "result = pool.map(square, random_numbers)"
   ]
  },
  {
   "cell_type": "code",
   "execution_count": null,
   "metadata": {
    "ExecuteTime": {
     "end_time": "2022-01-25T18:56:15.456683Z",
     "start_time": "2022-01-25T18:56:15.070259Z"
    }
   },
   "outputs": [],
   "source": [
    "%%time\n",
    "result = [square(item) for item in random_numbers]"
   ]
  },
  {
   "cell_type": "code",
   "execution_count": null,
   "metadata": {
    "ExecuteTime": {
     "end_time": "2022-01-25T18:56:15.471854Z",
     "start_time": "2022-01-25T18:56:15.457715Z"
    }
   },
   "outputs": [],
   "source": [
    "pool.terminate()"
   ]
  },
  {
   "cell_type": "code",
   "execution_count": null,
   "metadata": {
    "ExecuteTime": {
     "end_time": "2022-01-25T18:56:15.487966Z",
     "start_time": "2022-01-25T18:56:15.472640Z"
    }
   },
   "outputs": [],
   "source": [
    "# GIL - global interpreter lock"
   ]
  },
  {
   "cell_type": "markdown",
   "metadata": {},
   "source": [
    "## profiling tools"
   ]
  },
  {
   "cell_type": "code",
   "execution_count": null,
   "metadata": {
    "ExecuteTime": {
     "end_time": "2022-01-25T18:56:16.005065Z",
     "start_time": "2022-01-25T18:56:15.488756Z"
    }
   },
   "outputs": [],
   "source": [
    "%%prun\n",
    "\n",
    "result = [square(item) for item in np.random.random(size=n)]"
   ]
  },
  {
   "cell_type": "markdown",
   "metadata": {},
   "source": [
    "## Usually, for CPU intensive computations, Pool.map won't speed up your code.\n",
    "\n",
    "Why? It will spend more time managing process, replicating data and sending data to other process than actually computing it.\n",
    "\n"
   ]
  },
  {
   "cell_type": "code",
   "execution_count": null,
   "metadata": {
    "ExecuteTime": {
     "end_time": "2021-02-06T15:00:47.640079Z",
     "start_time": "2021-02-06T15:00:46.309043Z"
    }
   },
   "outputs": [],
   "source": [
    "!pip3 install Cython"
   ]
  },
  {
   "cell_type": "code",
   "execution_count": null,
   "metadata": {},
   "outputs": [],
   "source": [
    "## Cython - CPython"
   ]
  },
  {
   "cell_type": "code",
   "execution_count": null,
   "metadata": {
    "ExecuteTime": {
     "end_time": "2022-01-25T18:56:16.522730Z",
     "start_time": "2022-01-25T18:56:16.006836Z"
    }
   },
   "outputs": [],
   "source": [
    "%load_ext Cython"
   ]
  },
  {
   "cell_type": "code",
   "execution_count": null,
   "metadata": {
    "ExecuteTime": {
     "end_time": "2022-01-25T18:56:16.538591Z",
     "start_time": "2022-01-25T18:56:16.523632Z"
    }
   },
   "outputs": [],
   "source": [
    "%%cython -a\n",
    "def square_c(x):\n",
    "    return x**2"
   ]
  },
  {
   "cell_type": "code",
   "execution_count": null,
   "metadata": {
    "ExecuteTime": {
     "end_time": "2022-01-25T18:56:16.553579Z",
     "start_time": "2022-01-25T18:56:16.539590Z"
    }
   },
   "outputs": [],
   "source": [
    "random_numbers = np.random.random(size=n)"
   ]
  },
  {
   "cell_type": "code",
   "execution_count": null,
   "metadata": {
    "ExecuteTime": {
     "end_time": "2022-01-25T18:56:18.966067Z",
     "start_time": "2022-01-25T18:56:16.554549Z"
    }
   },
   "outputs": [],
   "source": [
    "%%timeit\n",
    "result = [square_c(item) for item in random_numbers]"
   ]
  },
  {
   "cell_type": "code",
   "execution_count": null,
   "metadata": {
    "ExecuteTime": {
     "end_time": "2022-01-25T18:56:21.869412Z",
     "start_time": "2022-01-25T18:56:18.967857Z"
    }
   },
   "outputs": [],
   "source": [
    "%%timeit\n",
    "result = [square(item) for item in random_numbers]"
   ]
  },
  {
   "cell_type": "code",
   "execution_count": null,
   "metadata": {
    "ExecuteTime": {
     "end_time": "2022-01-25T18:58:42.240728Z",
     "start_time": "2022-01-25T18:56:21.870386Z"
    }
   },
   "outputs": [],
   "source": [
    "%%timeit\n",
    "pool = Pool(processes=4)\n",
    "result = pool.map(square, random_numbers)"
   ]
  },
  {
   "cell_type": "code",
   "execution_count": null,
   "metadata": {},
   "outputs": [],
   "source": [
    "#https://numba.pydata.org/"
   ]
  },
  {
   "cell_type": "markdown",
   "metadata": {},
   "source": [
    "# When is multiprocess useful then? \n",
    "\n",
    "\n",
    "## I/O bound computations"
   ]
  },
  {
   "cell_type": "code",
   "execution_count": null,
   "metadata": {
    "ExecuteTime": {
     "end_time": "2022-01-25T19:00:20.822777Z",
     "start_time": "2022-01-25T19:00:20.816792Z"
    }
   },
   "outputs": [],
   "source": [
    "import pandas as pd"
   ]
  },
  {
   "cell_type": "code",
   "execution_count": null,
   "metadata": {
    "ExecuteTime": {
     "end_time": "2022-01-25T19:00:21.697562Z",
     "start_time": "2022-01-25T19:00:21.478836Z"
    }
   },
   "outputs": [],
   "source": [
    "import requests\n",
    "from bs4 import BeautifulSoup"
   ]
  },
  {
   "cell_type": "code",
   "execution_count": null,
   "metadata": {
    "ExecuteTime": {
     "end_time": "2022-01-25T19:00:32.642611Z",
     "start_time": "2022-01-25T19:00:32.634604Z"
    }
   },
   "outputs": [],
   "source": [
    "n_max = 51\n",
    "my_range = range(1,n_max)"
   ]
  },
  {
   "cell_type": "code",
   "execution_count": null,
   "metadata": {
    "ExecuteTime": {
     "end_time": "2022-01-25T19:01:52.236870Z",
     "start_time": "2022-01-25T19:01:25.493858Z"
    },
    "scrolled": true
   },
   "outputs": [],
   "source": [
    "%%time\n",
    "\n",
    "for i in tqdm(my_range):\n",
    "    response = requests.get(f'http://books.toscrape.com/catalogue/page-{i}.html')\n",
    "    html=response.content\n",
    "    soup = BeautifulSoup(html)\n",
    "    titles=[s.find_all('a')[0]['title'] for s in soup.find_all('h3')]\n",
    "    prices = [s.text for s in soup.find_all('p', attrs={'class':'price_color'})]\n",
    "    stocks = [(True if s.text.strip()=='In stock' else False) for s in soup.find_all('p', attrs={'class':'instock availability'})]\n",
    "    df_temp=pd.DataFrame({'Title':titles,'Price':prices,'Stock Availability':stocks})\n",
    "    df_temp.to_csv(f'tmp/results_{i}.csv', index=False, sep=',')"
   ]
  },
  {
   "cell_type": "code",
   "execution_count": null,
   "metadata": {
    "ExecuteTime": {
     "end_time": "2022-01-25T19:02:23.972365Z",
     "start_time": "2022-01-25T19:02:23.955416Z"
    }
   },
   "outputs": [],
   "source": [
    "def download(i):\n",
    "    import requests\n",
    "    from bs4 import BeautifulSoup\n",
    "    import pandas as pd\n",
    "    response = requests.get(f'http://books.toscrape.com/catalogue/page-{i}.html')\n",
    "    html=response.content\n",
    "    soup = BeautifulSoup(html)\n",
    "    titles=[s.find_all('a')[0]['title'] for s in soup.find_all('h3')]\n",
    "    prices = [s.text for s in soup.find_all('p', attrs={'class':'price_color'})]\n",
    "    stocks = [(True if s.text.strip()=='In stock' else False) for s in soup.find_all('p', attrs={'class':'instock availability'})]\n",
    "    df_temp=pd.DataFrame({'Title':titles,'Price':prices,'Stock Availability':stocks})\n",
    "    df_temp.to_csv(f'tmp_par/results_{i}.csv', index=False, sep=',')"
   ]
  },
  {
   "cell_type": "code",
   "execution_count": null,
   "metadata": {
    "ExecuteTime": {
     "end_time": "2022-01-25T19:02:25.000708Z",
     "start_time": "2022-01-25T19:02:24.950842Z"
    }
   },
   "outputs": [],
   "source": [
    "pool = Pool(cpu_count())"
   ]
  },
  {
   "cell_type": "code",
   "execution_count": null,
   "metadata": {
    "ExecuteTime": {
     "end_time": "2022-01-25T19:02:30.472992Z",
     "start_time": "2022-01-25T19:02:25.323786Z"
    },
    "scrolled": true
   },
   "outputs": [],
   "source": [
    "%%time\n",
    "\n",
    "results = pool.map(download, tqdm(my_range))"
   ]
  },
  {
   "cell_type": "code",
   "execution_count": null,
   "metadata": {
    "ExecuteTime": {
     "end_time": "2022-01-25T19:02:32.132267Z",
     "start_time": "2022-01-25T19:02:32.068438Z"
    }
   },
   "outputs": [],
   "source": [
    "pool.terminate()"
   ]
  },
  {
   "cell_type": "code",
   "execution_count": null,
   "metadata": {
    "ExecuteTime": {
     "end_time": "2021-02-06T15:25:25.143906Z",
     "start_time": "2021-02-06T15:25:25.133428Z"
    }
   },
   "outputs": [],
   "source": [
    "def download_html(i):\n",
    "    import requests\n",
    "    from bs4 import BeautifulSoup\n",
    "    import pandas as pd\n",
    "    response = requests.get(f'http://books.toscrape.com/catalogue/page-{i}.html')\n",
    "    html=response.content\n",
    "    file = open(f'html_books_{i}.html','wb')\n",
    "    file.write(response.content)"
   ]
  },
  {
   "cell_type": "code",
   "execution_count": null,
   "metadata": {
    "ExecuteTime": {
     "end_time": "2021-02-06T15:27:25.942659Z",
     "start_time": "2021-02-06T15:27:25.936152Z"
    }
   },
   "outputs": [],
   "source": [
    "import os"
   ]
  },
  {
   "cell_type": "code",
   "execution_count": null,
   "metadata": {},
   "outputs": [],
   "source": [
    "os.mkdir('tmp_2')"
   ]
  },
  {
   "cell_type": "code",
   "execution_count": null,
   "metadata": {},
   "outputs": [],
   "source": [
    "os.getcwd()"
   ]
  },
  {
   "cell_type": "code",
   "execution_count": null,
   "metadata": {
    "ExecuteTime": {
     "end_time": "2021-02-06T15:28:01.023735Z",
     "start_time": "2021-02-06T15:28:01.021730Z"
    }
   },
   "outputs": [],
   "source": [
    "os.chdir('tmp_2')"
   ]
  },
  {
   "cell_type": "code",
   "execution_count": null,
   "metadata": {
    "ExecuteTime": {
     "end_time": "2021-02-06T15:28:54.760991Z",
     "start_time": "2021-02-06T15:28:54.750008Z"
    }
   },
   "outputs": [],
   "source": [
    "os.getcwd()"
   ]
  },
  {
   "cell_type": "code",
   "execution_count": null,
   "metadata": {
    "ExecuteTime": {
     "end_time": "2021-02-06T15:29:07.637326Z",
     "start_time": "2021-02-06T15:29:03.138423Z"
    }
   },
   "outputs": [],
   "source": [
    "pool = Pool(cpu_count())\n",
    "results = pool.map(download_html, tqdm(my_range))"
   ]
  },
  {
   "cell_type": "code",
   "execution_count": null,
   "metadata": {},
   "outputs": [],
   "source": []
  }
 ],
 "metadata": {
  "hide_input": false,
  "kernelspec": {
   "display_name": "Python 3",
   "language": "python",
   "name": "python3"
  },
  "language_info": {
   "codemirror_mode": {
    "name": "ipython",
    "version": 3
   },
   "file_extension": ".py",
   "mimetype": "text/x-python",
   "name": "python",
   "nbconvert_exporter": "python",
   "pygments_lexer": "ipython3",
   "version": "3.8.8"
  },
  "toc": {
   "base_numbering": 1,
   "nav_menu": {},
   "number_sections": true,
   "sideBar": true,
   "skip_h1_title": false,
   "title_cell": "Table of Contents",
   "title_sidebar": "Contents",
   "toc_cell": false,
   "toc_position": {},
   "toc_section_display": true,
   "toc_window_display": false
  },
  "varInspector": {
   "cols": {
    "lenName": 16,
    "lenType": 16,
    "lenVar": 40
   },
   "kernels_config": {
    "python": {
     "delete_cmd_postfix": "",
     "delete_cmd_prefix": "del ",
     "library": "var_list.py",
     "varRefreshCmd": "print(var_dic_list())"
    },
    "r": {
     "delete_cmd_postfix": ") ",
     "delete_cmd_prefix": "rm(",
     "library": "var_list.r",
     "varRefreshCmd": "cat(var_dic_list()) "
    }
   },
   "types_to_exclude": [
    "module",
    "function",
    "builtin_function_or_method",
    "instance",
    "_Feature"
   ],
   "window_display": false
  }
 },
 "nbformat": 4,
 "nbformat_minor": 4
}
