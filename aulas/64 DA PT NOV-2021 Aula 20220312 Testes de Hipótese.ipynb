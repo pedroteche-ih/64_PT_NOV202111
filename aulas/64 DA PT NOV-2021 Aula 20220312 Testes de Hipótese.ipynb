{
 "cells": [
  {
   "cell_type": "code",
   "execution_count": null,
   "metadata": {
    "ExecuteTime": {
     "end_time": "2022-03-15T19:02:55.218272Z",
     "start_time": "2022-03-15T19:02:54.779446Z"
    }
   },
   "outputs": [],
   "source": [
    "!pip install researchpy"
   ]
  },
  {
   "cell_type": "code",
   "execution_count": null,
   "metadata": {
    "ExecuteTime": {
     "end_time": "2022-03-15T19:02:56.267411Z",
     "start_time": "2022-03-15T19:02:55.634880Z"
    }
   },
   "outputs": [],
   "source": [
    "import seaborn as sns\n",
    "import researchpy as rp\n",
    "import matplotlib.pyplot as plt\n",
    "import pandas as pd\n",
    "import numpy as np\n",
    "from scipy import stats\n",
    "import warnings"
   ]
  },
  {
   "cell_type": "markdown",
   "metadata": {},
   "source": [
    "# Simple T-Test"
   ]
  },
  {
   "cell_type": "markdown",
   "metadata": {},
   "source": [
    "##### Simulating P-values\n",
    "\n",
    "Suponhamos que você tenha um website com um banner de propaganda, e que 20% das pessoas que visitam o site clicam neste banner. A area de comunicação desenvolveu um novo banner e, ao implantar este novo banner, dos primeiros 30 clientes que o viram, \n",
    "11 pessoas clicaram no banner novo.\n",
    "\n",
    "Como podemos descobrir se isso é um efeito aleatório ou um impacto real?\n",
    "\n",
    "alpha --> 0.05  (significance level = 1-alpha = 95%)"
   ]
  },
  {
   "cell_type": "code",
   "execution_count": null,
   "metadata": {
    "ExecuteTime": {
     "end_time": "2022-03-15T19:09:16.705050Z",
     "start_time": "2022-03-15T19:09:16.695049Z"
    }
   },
   "outputs": [],
   "source": [
    "p = 11/30\n",
    "primeiros_30 = np.random.choice([0, 1], p=[1-p, p], size=30)"
   ]
  },
  {
   "cell_type": "code",
   "execution_count": null,
   "metadata": {
    "ExecuteTime": {
     "end_time": "2022-03-15T19:09:20.181598Z",
     "start_time": "2022-03-15T19:09:20.170595Z"
    }
   },
   "outputs": [],
   "source": [
    "primeiros_30[0:5]"
   ]
  },
  {
   "cell_type": "code",
   "execution_count": null,
   "metadata": {
    "ExecuteTime": {
     "end_time": "2022-03-15T19:09:22.367582Z",
     "start_time": "2022-03-15T19:09:22.358578Z"
    }
   },
   "outputs": [],
   "source": [
    "sum(primeiros_30)"
   ]
  },
  {
   "cell_type": "code",
   "execution_count": null,
   "metadata": {
    "ExecuteTime": {
     "end_time": "2022-03-15T19:09:23.760907Z",
     "start_time": "2022-03-15T19:09:23.744950Z"
    }
   },
   "outputs": [],
   "source": [
    "primeiros_30.mean()"
   ]
  },
  {
   "cell_type": "code",
   "execution_count": null,
   "metadata": {
    "ExecuteTime": {
     "end_time": "2022-03-15T19:09:36.343308Z",
     "start_time": "2022-03-15T19:09:36.290344Z"
    }
   },
   "outputs": [],
   "source": [
    "dist_pop = np.array([np.mean(np.random.choice([0, 1], p=[0.8, 0.2], size=30)) for i in range(0, 1000)])"
   ]
  },
  {
   "cell_type": "code",
   "execution_count": null,
   "metadata": {
    "ExecuteTime": {
     "end_time": "2022-03-15T19:09:36.992211Z",
     "start_time": "2022-03-15T19:09:36.829539Z"
    }
   },
   "outputs": [],
   "source": [
    "sns.histplot(dist_pop)"
   ]
  },
  {
   "cell_type": "code",
   "execution_count": null,
   "metadata": {
    "ExecuteTime": {
     "end_time": "2022-03-15T19:09:44.216584Z",
     "start_time": "2022-03-15T19:09:44.201625Z"
    }
   },
   "outputs": [],
   "source": [
    "len(dist_pop[dist_pop >= p])/1000"
   ]
  },
  {
   "cell_type": "markdown",
   "metadata": {
    "ExecuteTime": {
     "end_time": "2020-04-13T19:49:37.696726Z",
     "start_time": "2020-04-13T19:49:37.692734Z"
    }
   },
   "source": [
    "Se a taxa real era de 20%, a chance de observarmos 11 cliques em 30 acessos (uma taxa de 36,67%) seria de 2,8%"
   ]
  },
  {
   "cell_type": "code",
   "execution_count": null,
   "metadata": {
    "ExecuteTime": {
     "end_time": "2022-03-15T19:11:07.840779Z",
     "start_time": "2022-03-15T19:11:07.825818Z"
    }
   },
   "outputs": [],
   "source": [
    "from scipy import stats"
   ]
  },
  {
   "cell_type": "code",
   "execution_count": null,
   "metadata": {
    "ExecuteTime": {
     "end_time": "2022-03-15T19:11:15.382277Z",
     "start_time": "2022-03-15T19:11:15.372277Z"
    }
   },
   "outputs": [],
   "source": [
    "cliques_novo_banner = [1] * 11 + [0] * (30-11)"
   ]
  },
  {
   "cell_type": "code",
   "execution_count": null,
   "metadata": {
    "ExecuteTime": {
     "end_time": "2022-03-15T19:11:16.124708Z",
     "start_time": "2022-03-15T19:11:16.117728Z"
    }
   },
   "outputs": [],
   "source": [
    "cliques_novo_banner[0:16]"
   ]
  },
  {
   "cell_type": "code",
   "execution_count": null,
   "metadata": {
    "ExecuteTime": {
     "end_time": "2022-03-15T19:11:25.129339Z",
     "start_time": "2022-03-15T19:11:25.116407Z"
    }
   },
   "outputs": [],
   "source": [
    "len(cliques_novo_banner)"
   ]
  },
  {
   "cell_type": "code",
   "execution_count": null,
   "metadata": {
    "ExecuteTime": {
     "end_time": "2022-03-15T19:11:27.064721Z",
     "start_time": "2022-03-15T19:11:27.048764Z"
    }
   },
   "outputs": [],
   "source": [
    "np.mean(cliques_novo_banner)"
   ]
  },
  {
   "cell_type": "code",
   "execution_count": null,
   "metadata": {
    "ExecuteTime": {
     "end_time": "2022-03-15T19:11:28.541069Z",
     "start_time": "2022-03-15T19:11:28.530071Z"
    }
   },
   "outputs": [],
   "source": [
    "stats.ttest_1samp(cliques_novo_banner, 0.02)"
   ]
  },
  {
   "cell_type": "markdown",
   "metadata": {},
   "source": [
    "Como podemos ver acima, com essa amostra (11 positivos em 30 testes) **rejeitamos a hipótese nula**, ou seja, **a amostra observada tem média diferente da média da população**"
   ]
  },
  {
   "cell_type": "markdown",
   "metadata": {},
   "source": [
    "# Paired T-Test"
   ]
  },
  {
   "cell_type": "code",
   "execution_count": null,
   "metadata": {
    "ExecuteTime": {
     "end_time": "2022-03-15T19:03:19.067928Z",
     "start_time": "2022-03-15T19:03:19.054963Z"
    }
   },
   "outputs": [],
   "source": [
    "import pandas as pd\n",
    "import numpy as np\n",
    "\n",
    "import matplotlib.pyplot as plt\n",
    "\n",
    "from scipy import stats"
   ]
  },
  {
   "cell_type": "markdown",
   "metadata": {},
   "source": [
    "https://raw.githubusercontent.com/Opensourcefordatascience/Data-sets/master/blood_pressure.csv\n",
    "\n",
    "This dataset contains blood pressure readings before and after an <b>intervention</b>. These are variables “bp_before” and “bp_after”."
   ]
  },
  {
   "cell_type": "code",
   "execution_count": null,
   "metadata": {
    "ExecuteTime": {
     "end_time": "2022-03-15T19:03:20.514982Z",
     "start_time": "2022-03-15T19:03:20.244622Z"
    }
   },
   "outputs": [],
   "source": [
    "df = pd.read_csv('https://raw.githubusercontent.com/Opensourcefordatascience/Data-sets/master/blood_pressure.csv')"
   ]
  },
  {
   "cell_type": "code",
   "execution_count": null,
   "metadata": {
    "ExecuteTime": {
     "end_time": "2022-03-15T19:03:21.028084Z",
     "start_time": "2022-03-15T19:03:21.010132Z"
    }
   },
   "outputs": [],
   "source": [
    "df.head()"
   ]
  },
  {
   "cell_type": "markdown",
   "metadata": {},
   "source": [
    "## The hypothesis being tested"
   ]
  },
  {
   "cell_type": "markdown",
   "metadata": {},
   "source": [
    "* __Null hypothesis (H0): u1 = u2, which translates to the mean of sample 01 is equal to the mean of sample 02__\n",
    "* __Alternative hypothesis (H1): u1 != u2, which translates to the means of sample 01 is not equal to sample 02__ "
   ]
  },
  {
   "cell_type": "markdown",
   "metadata": {},
   "source": [
    "## Assumption check \n",
    "\n",
    "- [ ]  The samples are independently and randomly drawn\n",
    "\n",
    "**AND**\n",
    "\n",
    "- [ ]  The distribution of the residuals between the two groups should follow the normal distribution\n",
    "\n",
    "**AND**\n",
    "\n",
    "- [ ]  The variances between the two groups are equal\n",
    "\n",
    "**OR**\n",
    "\n",
    "- [ ]  Approximately equal sample sizes\n",
    "\n",
    "https://www.youtube.com/watch?v=OyB_w4XNQ58&t=315s"
   ]
  },
  {
   "cell_type": "markdown",
   "metadata": {},
   "source": [
    "### Checking Normal distribution by Q-Q plot graph\n",
    "https://www.statisticshowto.datasciencecentral.com/assumption-of-normality-test/"
   ]
  },
  {
   "cell_type": "code",
   "execution_count": null,
   "metadata": {
    "ExecuteTime": {
     "end_time": "2022-03-15T19:03:24.378167Z",
     "start_time": "2022-03-15T19:03:24.373180Z"
    }
   },
   "outputs": [],
   "source": [
    "df['diff_'] = df.bp_before-df.bp_after"
   ]
  },
  {
   "cell_type": "code",
   "execution_count": null,
   "metadata": {
    "ExecuteTime": {
     "end_time": "2022-03-15T19:03:26.244371Z",
     "start_time": "2022-03-15T19:03:26.070671Z"
    }
   },
   "outputs": [],
   "source": [
    "sns.displot(df['diff_'])"
   ]
  },
  {
   "cell_type": "code",
   "execution_count": null,
   "metadata": {
    "ExecuteTime": {
     "end_time": "2022-03-15T19:03:26.944620Z",
     "start_time": "2022-03-15T19:03:26.804796Z"
    }
   },
   "outputs": [],
   "source": [
    "plt.figure(figsize=(10,10))\n",
    "stats.probplot(df['diff_'], plot=plt)\n",
    "plt.show()"
   ]
  },
  {
   "cell_type": "code",
   "execution_count": null,
   "metadata": {
    "ExecuteTime": {
     "end_time": "2022-03-15T19:03:27.554714Z",
     "start_time": "2022-03-15T19:03:27.431017Z"
    }
   },
   "outputs": [],
   "source": [
    "plt.figure(figsize=(10,10))\n",
    "stats.probplot(df['diff_']**2, plot=plt)\n",
    "plt.show()"
   ]
  },
  {
   "cell_type": "markdown",
   "metadata": {},
   "source": [
    "**Note:-** The corresponding points lies very close to line that means are our sample data sets are normally distributed"
   ]
  },
  {
   "cell_type": "markdown",
   "metadata": {},
   "source": [
    "### Checking Normal distribution by method of `Shapiro stats`\n",
    "https://docs.scipy.org/doc/scipy/reference/generated/scipy.stats.shapiro.html"
   ]
  },
  {
   "cell_type": "code",
   "execution_count": null,
   "metadata": {
    "ExecuteTime": {
     "end_time": "2022-03-15T19:03:29.122676Z",
     "start_time": "2022-03-15T19:03:29.110701Z"
    }
   },
   "outputs": [],
   "source": [
    "stats.shapiro(df['diff_'])"
   ]
  },
  {
   "cell_type": "markdown",
   "metadata": {},
   "source": [
    "### Checking if the variance is equal between samples"
   ]
  },
  {
   "cell_type": "code",
   "execution_count": null,
   "metadata": {
    "ExecuteTime": {
     "end_time": "2022-03-15T19:03:30.067097Z",
     "start_time": "2022-03-15T19:03:30.052136Z"
    }
   },
   "outputs": [],
   "source": [
    "df['bp_after'].var()"
   ]
  },
  {
   "cell_type": "code",
   "execution_count": null,
   "metadata": {
    "ExecuteTime": {
     "end_time": "2022-03-15T19:03:30.564552Z",
     "start_time": "2022-03-15T19:03:30.554580Z"
    }
   },
   "outputs": [],
   "source": [
    "df['bp_after'].var()"
   ]
  },
  {
   "cell_type": "code",
   "execution_count": null,
   "metadata": {
    "ExecuteTime": {
     "end_time": "2022-03-15T19:03:31.043509Z",
     "start_time": "2022-03-15T19:03:31.032510Z"
    }
   },
   "outputs": [],
   "source": [
    "stats.levene(df.bp_after, df.bp_before)"
   ]
  },
  {
   "cell_type": "markdown",
   "metadata": {},
   "source": [
    "O teste-t é robusto à violações das premissas - mais robustos que os testes de normalidade e igualdade de variância. Portanto, embora devamos tomar cuidado com a utilização em casos extremos (especialmente com amostras pequenas), desvios das premissas do teste são toleráveis."
   ]
  },
  {
   "cell_type": "markdown",
   "metadata": {},
   "source": [
    "---"
   ]
  },
  {
   "cell_type": "markdown",
   "metadata": {},
   "source": [
    "# Applications of Hypothesis Testing"
   ]
  },
  {
   "cell_type": "markdown",
   "metadata": {},
   "source": [
    "Testando a efetividade do tratamento."
   ]
  },
  {
   "cell_type": "code",
   "execution_count": null,
   "metadata": {
    "ExecuteTime": {
     "end_time": "2022-03-15T19:03:36.672707Z",
     "start_time": "2022-03-15T19:03:36.646618Z"
    }
   },
   "outputs": [],
   "source": [
    "df[['bp_before', 'bp_after']].describe()"
   ]
  },
  {
   "cell_type": "code",
   "execution_count": null,
   "metadata": {
    "ExecuteTime": {
     "end_time": "2022-03-15T19:03:37.651945Z",
     "start_time": "2022-03-15T19:03:37.468002Z"
    }
   },
   "outputs": [],
   "source": [
    "df[['bp_before', 'bp_after']].plot(kind='hist', alpha=0.7)"
   ]
  },
  {
   "cell_type": "code",
   "execution_count": null,
   "metadata": {
    "ExecuteTime": {
     "end_time": "2022-03-15T19:03:38.316167Z",
     "start_time": "2022-03-15T19:03:38.301208Z"
    }
   },
   "outputs": [],
   "source": [
    "stats.ttest_rel(df.bp_before, df.bp_after)"
   ]
  },
  {
   "cell_type": "code",
   "execution_count": null,
   "metadata": {
    "ExecuteTime": {
     "end_time": "2022-03-15T19:03:39.276305Z",
     "start_time": "2022-03-15T19:03:39.257163Z"
    }
   },
   "outputs": [],
   "source": [
    "stats.ttest_1samp(df.bp_before-df.bp_after, 0)"
   ]
  },
  {
   "cell_type": "markdown",
   "metadata": {},
   "source": [
    "Como o valor p está abaixo de 0,05 podemos rejeitar a hipótese nula, ou seja, que pressão arterial antes da intervenção tem a mesma média que a pressão arterial depois da intervenção!"
   ]
  },
  {
   "cell_type": "markdown",
   "metadata": {},
   "source": [
    "# Two Sample T-Test"
   ]
  },
  {
   "cell_type": "code",
   "execution_count": null,
   "metadata": {
    "ExecuteTime": {
     "end_time": "2022-03-15T19:14:14.749700Z",
     "start_time": "2022-03-15T19:14:14.730756Z"
    }
   },
   "outputs": [],
   "source": [
    "tb_bike = pd.read_csv('data/tb_bikesharing.csv')"
   ]
  },
  {
   "cell_type": "code",
   "execution_count": null,
   "metadata": {
    "ExecuteTime": {
     "end_time": "2022-03-15T19:14:23.401296Z",
     "start_time": "2022-03-15T19:14:23.374366Z"
    }
   },
   "outputs": [],
   "source": [
    "tb_bike.info()"
   ]
  },
  {
   "cell_type": "code",
   "execution_count": null,
   "metadata": {
    "ExecuteTime": {
     "end_time": "2022-03-15T19:17:51.811626Z",
     "start_time": "2022-03-15T19:17:51.641483Z"
    }
   },
   "outputs": [],
   "source": [
    "sns.kdeplot(data = tb_bike, x = 'cnt', hue = 'workingday', common_norm = False)"
   ]
  },
  {
   "cell_type": "code",
   "execution_count": null,
   "metadata": {
    "ExecuteTime": {
     "end_time": "2022-03-15T19:18:24.555017Z",
     "start_time": "2022-03-15T19:18:24.449206Z"
    }
   },
   "outputs": [],
   "source": [
    "sns.boxplot(data = tb_bike, y = 'cnt', x = 'workingday')"
   ]
  },
  {
   "cell_type": "code",
   "execution_count": null,
   "metadata": {
    "ExecuteTime": {
     "end_time": "2022-03-15T19:33:09.091319Z",
     "start_time": "2022-03-15T19:33:09.079339Z"
    }
   },
   "outputs": [],
   "source": [
    "tb_bike_fds = tb_bike[tb_bike['workingday'] == 0].copy()\n",
    "tb_bike_sem = tb_bike[tb_bike['workingday'] == 1].copy()"
   ]
  },
  {
   "cell_type": "markdown",
   "metadata": {},
   "source": [
    "### Assumption check \n",
    "\n",
    "- [ ]  The samples are independently and randomly drawn\n",
    "\n",
    "**AND**\n",
    "\n",
    "- [ ]  The distribution of the residuals between the two groups should follow the normal distribution\n",
    "\n",
    "**AND**\n",
    "\n",
    "- [ ]  The variances between the two groups are equal\n",
    "\n",
    "**OR**\n",
    "\n",
    "- [ ]  Approximately equal sample sizes"
   ]
  },
  {
   "cell_type": "markdown",
   "metadata": {},
   "source": [
    "#### Normal?"
   ]
  },
  {
   "cell_type": "code",
   "execution_count": null,
   "metadata": {
    "ExecuteTime": {
     "end_time": "2022-03-15T19:33:19.330635Z",
     "start_time": "2022-03-15T19:33:19.139123Z"
    }
   },
   "outputs": [],
   "source": [
    "plt.figure(figsize=(10,10))\n",
    "stats.probplot(tb_bike_fds['cnt'], plot=plt)\n",
    "plt.show()"
   ]
  },
  {
   "cell_type": "code",
   "execution_count": null,
   "metadata": {
    "ExecuteTime": {
     "end_time": "2022-03-15T19:33:33.712988Z",
     "start_time": "2022-03-15T19:33:33.561364Z"
    }
   },
   "outputs": [],
   "source": [
    "plt.figure(figsize=(10,10))\n",
    "stats.probplot(tb_bike_sem['cnt'], plot=plt)\n",
    "plt.show()"
   ]
  },
  {
   "cell_type": "markdown",
   "metadata": {},
   "source": [
    "#### Equal variance or equal sample size?"
   ]
  },
  {
   "cell_type": "code",
   "execution_count": null,
   "metadata": {
    "ExecuteTime": {
     "end_time": "2022-03-15T19:35:50.069838Z",
     "start_time": "2022-03-15T19:35:50.049870Z"
    }
   },
   "outputs": [],
   "source": [
    "tb_bike.groupby('workingday')['cnt'].var()"
   ]
  },
  {
   "cell_type": "code",
   "execution_count": null,
   "metadata": {
    "ExecuteTime": {
     "end_time": "2022-03-15T19:36:31.164157Z",
     "start_time": "2022-03-15T19:36:31.148200Z"
    }
   },
   "outputs": [],
   "source": [
    "stats.levene(tb_bike_fds['cnt'], tb_bike_sem['cnt'])"
   ]
  },
  {
   "cell_type": "code",
   "execution_count": null,
   "metadata": {
    "ExecuteTime": {
     "end_time": "2022-03-15T19:26:38.005981Z",
     "start_time": "2022-03-15T19:26:37.985033Z"
    }
   },
   "outputs": [],
   "source": [
    "tb_bike['workingday'].value_counts()"
   ]
  },
  {
   "cell_type": "markdown",
   "metadata": {},
   "source": [
    "Os grupos estão desbalanceados e a variância é diferente! Será que podemos utilizar um teste-t? Nas palavras de Richard Nixon: <i>\"We could do it... but it would be wrong\"</i>. Como temos amostras grandes (n>>30) podemos rebalancear os dados!\n",
    "\n",
    "<i>Ressalva: se as amostras tem uma proporção de 1,5:1 (300:200 pontos, por exemplo), podemos proceder sem grandes problemas.</i>"
   ]
  },
  {
   "cell_type": "code",
   "execution_count": null,
   "metadata": {
    "ExecuteTime": {
     "end_time": "2022-03-15T19:39:56.507427Z",
     "start_time": "2022-03-15T19:39:56.489489Z"
    }
   },
   "outputs": [],
   "source": [
    "tb_bike_fds_smp = tb_bike_fds.sample(231, random_state=42).reset_index(drop=True)"
   ]
  },
  {
   "cell_type": "code",
   "execution_count": null,
   "metadata": {
    "ExecuteTime": {
     "end_time": "2022-03-15T19:39:56.769614Z",
     "start_time": "2022-03-15T19:39:56.760611Z"
    }
   },
   "outputs": [],
   "source": [
    "tb_bike_fds_smp.shape"
   ]
  },
  {
   "cell_type": "code",
   "execution_count": null,
   "metadata": {
    "ExecuteTime": {
     "end_time": "2022-03-15T19:39:57.018920Z",
     "start_time": "2022-03-15T19:39:57.004958Z"
    }
   },
   "outputs": [],
   "source": [
    "stats.ttest_ind(tb_bike_fds_smp['cnt'], tb_bike_sem['cnt'])"
   ]
  },
  {
   "cell_type": "markdown",
   "metadata": {},
   "source": [
    "# One tailed-side t-test"
   ]
  },
  {
   "cell_type": "markdown",
   "metadata": {},
   "source": [
    "A hipótese nula padrão no teste-t é que a média das duas amostra é igual. Rejeitar esta hipótese significa afirmar que a média de uma amostra é maior ou menor que a média da outra amostra. No entanto, muitas vezes nos interessa determinar o desvio da média da amostra apenas em um sentido. Neste podemos utilizar o teste-t unilateral - one a hipótese nula **H0** é que **A <= B** OU  **A >= B**.\n",
    "\n",
    "Alguns exemplos práticos: uma indústria de fertilizantes quer saber se seu novo produto aumenta a produtividade por hectar de milho plantado, um agência de comunicação deseja saber se um novo banner aumenta a taxa de cliques em um website, um cientista de dados deseja saber se seu novo sistema de recomendação aumenta as vendas."
   ]
  },
  {
   "cell_type": "code",
   "execution_count": null,
   "metadata": {
    "ExecuteTime": {
     "end_time": "2022-03-15T19:46:34.461192Z",
     "start_time": "2022-03-15T19:46:34.441275Z"
    }
   },
   "outputs": [],
   "source": [
    "tb_bike['temp_classif'] = np.where(tb_bike['temp'] > np.mean(tb_bike['temp']), 1, 0)"
   ]
  },
  {
   "cell_type": "code",
   "execution_count": null,
   "metadata": {
    "ExecuteTime": {
     "end_time": "2022-03-15T19:46:57.051996Z",
     "start_time": "2022-03-15T19:46:56.932835Z"
    }
   },
   "outputs": [],
   "source": [
    "sns.boxplot(data = tb_bike, x = 'temp_classif', y = 'cnt')"
   ]
  },
  {
   "cell_type": "code",
   "execution_count": null,
   "metadata": {
    "ExecuteTime": {
     "end_time": "2022-03-15T19:47:57.820496Z",
     "start_time": "2022-03-15T19:47:57.812517Z"
    }
   },
   "outputs": [],
   "source": [
    "tb_bike_quente = tb_bike[tb_bike['temp_classif'] == 1].copy()\n",
    "tb_bike_frio = tb_bike[tb_bike['temp_classif'] == 0].copy()"
   ]
  },
  {
   "cell_type": "code",
   "execution_count": null,
   "metadata": {
    "ExecuteTime": {
     "end_time": "2022-03-15T19:48:05.642029Z",
     "start_time": "2022-03-15T19:48:05.633024Z"
    }
   },
   "outputs": [],
   "source": [
    "tb_bike_frio.shape"
   ]
  },
  {
   "cell_type": "code",
   "execution_count": null,
   "metadata": {
    "ExecuteTime": {
     "end_time": "2022-03-15T19:48:09.703909Z",
     "start_time": "2022-03-15T19:48:09.690944Z"
    }
   },
   "outputs": [],
   "source": [
    "tb_bike_quente.shape"
   ]
  },
  {
   "cell_type": "code",
   "execution_count": null,
   "metadata": {
    "ExecuteTime": {
     "end_time": "2022-03-15T19:48:48.085544Z",
     "start_time": "2022-03-15T19:48:48.066565Z"
    }
   },
   "outputs": [],
   "source": [
    "stats.ttest_ind(tb_bike_quente['cnt'], tb_bike_frio['cnt'], alternative = 'greater')"
   ]
  },
  {
   "cell_type": "code",
   "execution_count": null,
   "metadata": {
    "ExecuteTime": {
     "end_time": "2022-03-15T19:48:59.417636Z",
     "start_time": "2022-03-15T19:48:59.405640Z"
    }
   },
   "outputs": [],
   "source": [
    "stats.ttest_ind(tb_bike_quente['cnt'], tb_bike_frio['cnt'])"
   ]
  },
  {
   "cell_type": "markdown",
   "metadata": {},
   "source": [
    "# ANOVA"
   ]
  },
  {
   "cell_type": "markdown",
   "metadata": {},
   "source": [
    "E se quisermos comparar a média de mais de um grupo? O método ANOVA testa a hipótese nula onde todas as amostras foram feitas da mesma população, ou seja, que a média dos diferentes grupos é identica. Rejeitar a hipótese nula significa dizer que **pelo menos um grupo não é uma amostra da mesma população, ou seja, pelo menos a média de um grupo é diferente dos grupos restantes**"
   ]
  },
  {
   "cell_type": "code",
   "execution_count": null,
   "metadata": {
    "ExecuteTime": {
     "end_time": "2022-03-15T20:11:26.686733Z",
     "start_time": "2022-03-15T20:11:26.669779Z"
    }
   },
   "outputs": [],
   "source": [
    "tb_bike['estacao'] = tb_bike['season'].map({\n",
    "    1: 'Inverno',\n",
    "    2: 'Primavera',\n",
    "    3: 'Verão',\n",
    "    4: 'Outono'\n",
    "})"
   ]
  },
  {
   "cell_type": "code",
   "execution_count": null,
   "metadata": {
    "ExecuteTime": {
     "end_time": "2022-03-15T20:11:30.869173Z",
     "start_time": "2022-03-15T20:11:30.731859Z"
    }
   },
   "outputs": [],
   "source": [
    "sns.boxplot(data = tb_bike, x = 'estacao', y = 'cnt')"
   ]
  },
  {
   "cell_type": "code",
   "execution_count": null,
   "metadata": {
    "ExecuteTime": {
     "end_time": "2022-03-15T20:11:38.478918Z",
     "start_time": "2022-03-15T20:11:38.459969Z"
    }
   },
   "outputs": [],
   "source": [
    "tb_bike_season = [tb_bike[tb_bike['season'] == i]['cnt'] for i in range(1, 5)]"
   ]
  },
  {
   "cell_type": "code",
   "execution_count": null,
   "metadata": {
    "ExecuteTime": {
     "end_time": "2022-03-15T20:11:39.164273Z",
     "start_time": "2022-03-15T20:11:39.158318Z"
    }
   },
   "outputs": [],
   "source": [
    "stats.f_oneway(tb_bike_season[0], tb_bike_season[1], tb_bike_season[2],\n",
    "               tb_bike_season[3])"
   ]
  },
  {
   "cell_type": "markdown",
   "metadata": {},
   "source": [
    "E se quisermos saber a proporção entre os grupos?"
   ]
  },
  {
   "cell_type": "code",
   "execution_count": null,
   "metadata": {
    "ExecuteTime": {
     "end_time": "2022-03-15T20:11:44.867818Z",
     "start_time": "2022-03-15T20:11:44.848866Z"
    }
   },
   "outputs": [],
   "source": [
    "from statsmodels.stats.multicomp import pairwise_tukeyhsd"
   ]
  },
  {
   "cell_type": "code",
   "execution_count": null,
   "metadata": {
    "ExecuteTime": {
     "end_time": "2022-03-15T20:11:45.377853Z",
     "start_time": "2022-03-15T20:11:45.349744Z"
    }
   },
   "outputs": [],
   "source": [
    "tukey_fit = pairwise_tukeyhsd(endog = tb_bike['cnt'], groups = tb_bike['estacao'], alpha = 0.05)"
   ]
  },
  {
   "cell_type": "code",
   "execution_count": null,
   "metadata": {
    "ExecuteTime": {
     "end_time": "2022-03-15T20:11:45.967336Z",
     "start_time": "2022-03-15T20:11:45.957356Z"
    }
   },
   "outputs": [],
   "source": [
    "tukey_fit.summary()"
   ]
  },
  {
   "cell_type": "code",
   "execution_count": null,
   "metadata": {},
   "outputs": [],
   "source": []
  }
 ],
 "metadata": {
  "hide_input": false,
  "kernelspec": {
   "display_name": "Python 3",
   "language": "python",
   "name": "python3"
  },
  "language_info": {
   "codemirror_mode": {
    "name": "ipython",
    "version": 3
   },
   "file_extension": ".py",
   "mimetype": "text/x-python",
   "name": "python",
   "nbconvert_exporter": "python",
   "pygments_lexer": "ipython3",
   "version": "3.8.8"
  },
  "toc": {
   "base_numbering": 1,
   "nav_menu": {},
   "number_sections": true,
   "sideBar": true,
   "skip_h1_title": false,
   "title_cell": "Table of Contents",
   "title_sidebar": "Contents",
   "toc_cell": false,
   "toc_position": {},
   "toc_section_display": true,
   "toc_window_display": false
  },
  "varInspector": {
   "cols": {
    "lenName": 16,
    "lenType": 16,
    "lenVar": 40
   },
   "kernels_config": {
    "python": {
     "delete_cmd_postfix": "",
     "delete_cmd_prefix": "del ",
     "library": "var_list.py",
     "varRefreshCmd": "print(var_dic_list())"
    },
    "r": {
     "delete_cmd_postfix": ") ",
     "delete_cmd_prefix": "rm(",
     "library": "var_list.r",
     "varRefreshCmd": "cat(var_dic_list()) "
    }
   },
   "types_to_exclude": [
    "module",
    "function",
    "builtin_function_or_method",
    "instance",
    "_Feature"
   ],
   "window_display": false
  }
 },
 "nbformat": 4,
 "nbformat_minor": 4
}
