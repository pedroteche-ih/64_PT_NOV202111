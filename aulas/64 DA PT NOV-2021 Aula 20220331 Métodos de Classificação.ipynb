{
 "cells": [
  {
   "cell_type": "code",
   "execution_count": 1,
   "metadata": {},
   "outputs": [],
   "source": [
    "import pandas as pd\n",
    "import numpy as np\n",
    "import seaborn as sns\n",
    "import matplotlib.pyplot as plt\n",
    "\n",
    "from sklearn.preprocessing import StandardScaler\n",
    "from sklearn.model_selection import train_test_split\n",
    "from sklearn.linear_model import LogisticRegression\n",
    "from mlxtend.plotting import plot_decision_regions"
   ]
  },
  {
   "cell_type": "code",
   "execution_count": 2,
   "metadata": {},
   "outputs": [],
   "source": [
    "def get_distance(point1, point2):\n",
    "    from math import atan2, cos, radians, sin, sqrt\n",
    "\n",
    "    R = 6370\n",
    "    lat1 = radians(point1[0])  # insert value\n",
    "    lon1 = radians(point1[1])\n",
    "    lat2 = radians(point2[0])\n",
    "    lon2 = radians(point2[1])\n",
    "\n",
    "    dlon = lon2 - lon1\n",
    "    dlat = lat2 - lat1\n",
    "\n",
    "    a = sin(dlat / 2) ** 2 + cos(lat1) * cos(lat2) * sin(dlon / 2) ** 2\n",
    "    c = 2 * atan2(sqrt(a), sqrt(1 - a))\n",
    "    distance = R * c\n",
    "    return distance\n"
   ]
  },
  {
   "cell_type": "markdown",
   "metadata": {},
   "source": [
    "# Modelos de classificação"
   ]
  },
  {
   "cell_type": "markdown",
   "metadata": {},
   "source": [
    "## Importando os Dados"
   ]
  },
  {
   "cell_type": "code",
   "execution_count": 3,
   "metadata": {},
   "outputs": [],
   "source": [
    "tb_atrasos = pd.read_csv(\"data/tb_atraso_olist.csv\")"
   ]
  },
  {
   "cell_type": "code",
   "execution_count": 4,
   "metadata": {},
   "outputs": [
    {
     "name": "stdout",
     "output_type": "stream",
     "text": [
      "<class 'pandas.core.frame.DataFrame'>\n",
      "RangeIndex: 105387 entries, 0 to 105386\n",
      "Data columns (total 17 columns):\n",
      " #   Column                         Non-Null Count   Dtype  \n",
      "---  ------                         --------------   -----  \n",
      " 0   order_id                       105387 non-null  object \n",
      " 1   product_id                     105387 non-null  object \n",
      " 2   seller_id                      105387 non-null  object \n",
      " 3   order_status                   105387 non-null  object \n",
      " 4   price                          105387 non-null  float64\n",
      " 5   freight_value                  105387 non-null  float64\n",
      " 6   customer_state                 105387 non-null  object \n",
      " 7   seller_state                   105387 non-null  object \n",
      " 8   product_category_name          103906 non-null  object \n",
      " 9   product_weight_g               105370 non-null  float64\n",
      " 10  order_purchase_timestamp       105387 non-null  object \n",
      " 11  order_estimated_delivery_date  105387 non-null  object \n",
      " 12  order_delivered_customer_date  105379 non-null  object \n",
      " 13  seller_lat                     105387 non-null  float64\n",
      " 14  seller_long                    105387 non-null  float64\n",
      " 15  buyer_lat                      105387 non-null  float64\n",
      " 16  buyer_long                     105387 non-null  float64\n",
      "dtypes: float64(7), object(10)\n",
      "memory usage: 13.7+ MB\n"
     ]
    }
   ],
   "source": [
    "tb_atrasos.info()"
   ]
  },
  {
   "cell_type": "code",
   "execution_count": 5,
   "metadata": {},
   "outputs": [
    {
     "name": "stdout",
     "output_type": "stream",
     "text": [
      "Num. linhas descartadas 1490\n"
     ]
    }
   ],
   "source": [
    "pre_limpeza = tb_atrasos.shape[0]\n",
    "tb_atrasos = tb_atrasos.dropna()\n",
    "print(f\"Num. linhas descartadas {pre_limpeza - tb_atrasos.shape[0]}\")\n"
   ]
  },
  {
   "cell_type": "code",
   "execution_count": 6,
   "metadata": {},
   "outputs": [],
   "source": [
    "tb_atrasos[\"dist\"] = tb_atrasos.apply(\n",
    "    lambda x: get_distance(\n",
    "        (x[\"buyer_lat\"], x[\"buyer_long\"]), (x[\"seller_lat\"], x[\"seller_long\"])\n",
    "    ),\n",
    "    axis=1,\n",
    ")\n"
   ]
  },
  {
   "cell_type": "code",
   "execution_count": 7,
   "metadata": {},
   "outputs": [],
   "source": [
    "tb_atrasos[\"dt_compra\"] = pd.to_datetime(tb_atrasos[\"order_purchase_timestamp\"])\n",
    "tb_atrasos[\"dt_real\"] = pd.to_datetime(tb_atrasos[\"order_delivered_customer_date\"])\n",
    "tb_atrasos[\"dt_prevista\"] = pd.to_datetime(tb_atrasos[\"order_estimated_delivery_date\"])\n",
    "tb_atrasos[\"dias_previstos\"] = (\n",
    "    tb_atrasos[\"dt_prevista\"] - tb_atrasos[\"dt_compra\"]\n",
    ").dt.total_seconds() / (60 * 60 * 24)\n",
    "tb_atrasos[\"dias_atraso\"] = (\n",
    "    tb_atrasos[\"dt_real\"] - tb_atrasos[\"dt_prevista\"]\n",
    ").dt.total_seconds() / (60 * 60 * 24)\n",
    "tb_atrasos[\"atraso_bin\"] = np.where(tb_atrasos[\"dias_atraso\"] >= 1, 1, 0)"
   ]
  },
  {
   "cell_type": "code",
   "execution_count": 8,
   "metadata": {},
   "outputs": [
    {
     "data": {
      "text/plain": [
       "Index(['order_id', 'product_id', 'seller_id', 'order_status', 'price',\n",
       "       'freight_value', 'customer_state', 'seller_state',\n",
       "       'product_category_name', 'product_weight_g', 'order_purchase_timestamp',\n",
       "       'order_estimated_delivery_date', 'order_delivered_customer_date',\n",
       "       'seller_lat', 'seller_long', 'buyer_lat', 'buyer_long', 'dist',\n",
       "       'dt_compra', 'dt_real', 'dt_prevista', 'dias_previstos', 'dias_atraso',\n",
       "       'atraso_bin'],\n",
       "      dtype='object')"
      ]
     },
     "execution_count": 8,
     "metadata": {},
     "output_type": "execute_result"
    }
   ],
   "source": [
    "tb_atrasos.columns"
   ]
  },
  {
   "cell_type": "code",
   "execution_count": 9,
   "metadata": {},
   "outputs": [
    {
     "data": {
      "text/html": [
       "<div>\n",
       "<style scoped>\n",
       "    .dataframe tbody tr th:only-of-type {\n",
       "        vertical-align: middle;\n",
       "    }\n",
       "\n",
       "    .dataframe tbody tr th {\n",
       "        vertical-align: top;\n",
       "    }\n",
       "\n",
       "    .dataframe thead th {\n",
       "        text-align: right;\n",
       "    }\n",
       "</style>\n",
       "<table border=\"1\" class=\"dataframe\">\n",
       "  <thead>\n",
       "    <tr style=\"text-align: right;\">\n",
       "      <th></th>\n",
       "      <th>order_id</th>\n",
       "      <th>product_id</th>\n",
       "      <th>seller_id</th>\n",
       "      <th>order_status</th>\n",
       "      <th>price</th>\n",
       "      <th>freight_value</th>\n",
       "      <th>customer_state</th>\n",
       "      <th>seller_state</th>\n",
       "      <th>product_category_name</th>\n",
       "      <th>product_weight_g</th>\n",
       "      <th>...</th>\n",
       "      <th>seller_long</th>\n",
       "      <th>buyer_lat</th>\n",
       "      <th>buyer_long</th>\n",
       "      <th>dist</th>\n",
       "      <th>dt_compra</th>\n",
       "      <th>dt_real</th>\n",
       "      <th>dt_prevista</th>\n",
       "      <th>dias_previstos</th>\n",
       "      <th>dias_atraso</th>\n",
       "      <th>atraso_bin</th>\n",
       "    </tr>\n",
       "  </thead>\n",
       "  <tbody>\n",
       "    <tr>\n",
       "      <th>0</th>\n",
       "      <td>0a9a43ac5fe59c6c4bee2a8f9b9fcce8</td>\n",
       "      <td>c1aabbb6f4caec9f5bf7cd80519d6cc0</td>\n",
       "      <td>579891617139df7d8671d373f0669622</td>\n",
       "      <td>delivered</td>\n",
       "      <td>39.90</td>\n",
       "      <td>18.38</td>\n",
       "      <td>MG</td>\n",
       "      <td>RJ</td>\n",
       "      <td>livros_interesse_geral</td>\n",
       "      <td>400.0</td>\n",
       "      <td>...</td>\n",
       "      <td>-43.356193</td>\n",
       "      <td>-18.483290</td>\n",
       "      <td>-47.407009</td>\n",
       "      <td>647.153411</td>\n",
       "      <td>2018-07-02</td>\n",
       "      <td>2018-07-10</td>\n",
       "      <td>2018-07-27</td>\n",
       "      <td>25.0</td>\n",
       "      <td>-17.0</td>\n",
       "      <td>0</td>\n",
       "    </tr>\n",
       "    <tr>\n",
       "      <th>1</th>\n",
       "      <td>50ba38c4dc467baab1ea2c8c7747934d</td>\n",
       "      <td>418d480693f2f01e9cf4568db0346d28</td>\n",
       "      <td>12b9676b00f60f3b700e83af21824c0e</td>\n",
       "      <td>delivered</td>\n",
       "      <td>199.00</td>\n",
       "      <td>20.63</td>\n",
       "      <td>MG</td>\n",
       "      <td>RS</td>\n",
       "      <td>cool_stuff</td>\n",
       "      <td>1950.0</td>\n",
       "      <td>...</td>\n",
       "      <td>-51.462948</td>\n",
       "      <td>-18.483290</td>\n",
       "      <td>-47.407009</td>\n",
       "      <td>1312.090841</td>\n",
       "      <td>2018-03-02</td>\n",
       "      <td>2018-03-24</td>\n",
       "      <td>2018-04-09</td>\n",
       "      <td>38.0</td>\n",
       "      <td>-16.0</td>\n",
       "      <td>0</td>\n",
       "    </tr>\n",
       "    <tr>\n",
       "      <th>2</th>\n",
       "      <td>d99e6849f7676dade195f20c26f0eb4f</td>\n",
       "      <td>1081ae52311daac87fb54ba8ce4670ac</td>\n",
       "      <td>4371b634e0efc0e22b09b52907d9d469</td>\n",
       "      <td>delivered</td>\n",
       "      <td>120.00</td>\n",
       "      <td>15.59</td>\n",
       "      <td>MG</td>\n",
       "      <td>SP</td>\n",
       "      <td>esporte_lazer</td>\n",
       "      <td>300.0</td>\n",
       "      <td>...</td>\n",
       "      <td>-46.634196</td>\n",
       "      <td>-18.483290</td>\n",
       "      <td>-47.407009</td>\n",
       "      <td>570.593752</td>\n",
       "      <td>2017-09-02</td>\n",
       "      <td>2017-09-08</td>\n",
       "      <td>2017-09-26</td>\n",
       "      <td>24.0</td>\n",
       "      <td>-18.0</td>\n",
       "      <td>0</td>\n",
       "    </tr>\n",
       "    <tr>\n",
       "      <th>3</th>\n",
       "      <td>3f1294f87d79b57f5d55ba7b80c3d94f</td>\n",
       "      <td>0a9b9a871ffaec6c0198334558a6c6a1</td>\n",
       "      <td>f9244d45189d3a3605499abddeade7d5</td>\n",
       "      <td>delivered</td>\n",
       "      <td>949.99</td>\n",
       "      <td>75.53</td>\n",
       "      <td>GO</td>\n",
       "      <td>SP</td>\n",
       "      <td>eletroportateis</td>\n",
       "      <td>12600.0</td>\n",
       "      <td>...</td>\n",
       "      <td>-46.634196</td>\n",
       "      <td>-16.192659</td>\n",
       "      <td>-48.713166</td>\n",
       "      <td>847.880472</td>\n",
       "      <td>2018-01-28</td>\n",
       "      <td>2018-02-26</td>\n",
       "      <td>2018-03-14</td>\n",
       "      <td>45.0</td>\n",
       "      <td>-16.0</td>\n",
       "      <td>0</td>\n",
       "    </tr>\n",
       "    <tr>\n",
       "      <th>4</th>\n",
       "      <td>2eecb0d85f281280f79fa00f9cec1a95</td>\n",
       "      <td>4fd676d9c4723d475026e40aeae56957</td>\n",
       "      <td>5fd924b4836098a5be0ecf81ba054ce0</td>\n",
       "      <td>delivered</td>\n",
       "      <td>135.00</td>\n",
       "      <td>19.23</td>\n",
       "      <td>MG</td>\n",
       "      <td>SP</td>\n",
       "      <td>ferramentas_jardim</td>\n",
       "      <td>4300.0</td>\n",
       "      <td>...</td>\n",
       "      <td>-46.634196</td>\n",
       "      <td>-19.160800</td>\n",
       "      <td>-45.452073</td>\n",
       "      <td>504.666874</td>\n",
       "      <td>2017-02-17</td>\n",
       "      <td>2017-03-03</td>\n",
       "      <td>2017-03-20</td>\n",
       "      <td>31.0</td>\n",
       "      <td>-17.0</td>\n",
       "      <td>0</td>\n",
       "    </tr>\n",
       "  </tbody>\n",
       "</table>\n",
       "<p>5 rows × 24 columns</p>\n",
       "</div>"
      ],
      "text/plain": [
       "                           order_id                        product_id  \\\n",
       "0  0a9a43ac5fe59c6c4bee2a8f9b9fcce8  c1aabbb6f4caec9f5bf7cd80519d6cc0   \n",
       "1  50ba38c4dc467baab1ea2c8c7747934d  418d480693f2f01e9cf4568db0346d28   \n",
       "2  d99e6849f7676dade195f20c26f0eb4f  1081ae52311daac87fb54ba8ce4670ac   \n",
       "3  3f1294f87d79b57f5d55ba7b80c3d94f  0a9b9a871ffaec6c0198334558a6c6a1   \n",
       "4  2eecb0d85f281280f79fa00f9cec1a95  4fd676d9c4723d475026e40aeae56957   \n",
       "\n",
       "                          seller_id order_status   price  freight_value  \\\n",
       "0  579891617139df7d8671d373f0669622    delivered   39.90          18.38   \n",
       "1  12b9676b00f60f3b700e83af21824c0e    delivered  199.00          20.63   \n",
       "2  4371b634e0efc0e22b09b52907d9d469    delivered  120.00          15.59   \n",
       "3  f9244d45189d3a3605499abddeade7d5    delivered  949.99          75.53   \n",
       "4  5fd924b4836098a5be0ecf81ba054ce0    delivered  135.00          19.23   \n",
       "\n",
       "  customer_state seller_state   product_category_name  product_weight_g  ...  \\\n",
       "0             MG           RJ  livros_interesse_geral             400.0  ...   \n",
       "1             MG           RS              cool_stuff            1950.0  ...   \n",
       "2             MG           SP           esporte_lazer             300.0  ...   \n",
       "3             GO           SP         eletroportateis           12600.0  ...   \n",
       "4             MG           SP      ferramentas_jardim            4300.0  ...   \n",
       "\n",
       "  seller_long  buyer_lat buyer_long         dist  dt_compra    dt_real  \\\n",
       "0  -43.356193 -18.483290 -47.407009   647.153411 2018-07-02 2018-07-10   \n",
       "1  -51.462948 -18.483290 -47.407009  1312.090841 2018-03-02 2018-03-24   \n",
       "2  -46.634196 -18.483290 -47.407009   570.593752 2017-09-02 2017-09-08   \n",
       "3  -46.634196 -16.192659 -48.713166   847.880472 2018-01-28 2018-02-26   \n",
       "4  -46.634196 -19.160800 -45.452073   504.666874 2017-02-17 2017-03-03   \n",
       "\n",
       "   dt_prevista  dias_previstos dias_atraso atraso_bin  \n",
       "0   2018-07-27            25.0       -17.0          0  \n",
       "1   2018-04-09            38.0       -16.0          0  \n",
       "2   2017-09-26            24.0       -18.0          0  \n",
       "3   2018-03-14            45.0       -16.0          0  \n",
       "4   2017-03-20            31.0       -17.0          0  \n",
       "\n",
       "[5 rows x 24 columns]"
      ]
     },
     "execution_count": 9,
     "metadata": {},
     "output_type": "execute_result"
    }
   ],
   "source": [
    "tb_atrasos.head()\n"
   ]
  },
  {
   "cell_type": "code",
   "execution_count": 10,
   "metadata": {},
   "outputs": [
    {
     "data": {
      "text/html": [
       "<div>\n",
       "<style scoped>\n",
       "    .dataframe tbody tr th:only-of-type {\n",
       "        vertical-align: middle;\n",
       "    }\n",
       "\n",
       "    .dataframe tbody tr th {\n",
       "        vertical-align: top;\n",
       "    }\n",
       "\n",
       "    .dataframe thead th {\n",
       "        text-align: right;\n",
       "    }\n",
       "</style>\n",
       "<table border=\"1\" class=\"dataframe\">\n",
       "  <thead>\n",
       "    <tr style=\"text-align: right;\">\n",
       "      <th></th>\n",
       "      <th>dist</th>\n",
       "      <th>dias_previstos</th>\n",
       "    </tr>\n",
       "    <tr>\n",
       "      <th>atraso_bin</th>\n",
       "      <th></th>\n",
       "      <th></th>\n",
       "    </tr>\n",
       "  </thead>\n",
       "  <tbody>\n",
       "    <tr>\n",
       "      <th>0</th>\n",
       "      <td>581.087022</td>\n",
       "      <td>24.477951</td>\n",
       "    </tr>\n",
       "    <tr>\n",
       "      <th>1</th>\n",
       "      <td>761.439496</td>\n",
       "      <td>23.210496</td>\n",
       "    </tr>\n",
       "  </tbody>\n",
       "</table>\n",
       "</div>"
      ],
      "text/plain": [
       "                  dist  dias_previstos\n",
       "atraso_bin                            \n",
       "0           581.087022       24.477951\n",
       "1           761.439496       23.210496"
      ]
     },
     "execution_count": 10,
     "metadata": {},
     "output_type": "execute_result"
    }
   ],
   "source": [
    "tb_atrasos.groupby(\"atraso_bin\")[[\"dist\", \"dias_previstos\"]].mean()"
   ]
  },
  {
   "cell_type": "code",
   "execution_count": 11,
   "metadata": {},
   "outputs": [
    {
     "data": {
      "text/html": [
       "<div>\n",
       "<style scoped>\n",
       "    .dataframe tbody tr th:only-of-type {\n",
       "        vertical-align: middle;\n",
       "    }\n",
       "\n",
       "    .dataframe tbody tr th {\n",
       "        vertical-align: top;\n",
       "    }\n",
       "\n",
       "    .dataframe thead th {\n",
       "        text-align: right;\n",
       "    }\n",
       "</style>\n",
       "<table border=\"1\" class=\"dataframe\">\n",
       "  <thead>\n",
       "    <tr style=\"text-align: right;\">\n",
       "      <th></th>\n",
       "      <th>dist</th>\n",
       "      <th>dias_previstos</th>\n",
       "    </tr>\n",
       "  </thead>\n",
       "  <tbody>\n",
       "    <tr>\n",
       "      <th>0.05</th>\n",
       "      <td>0.000000</td>\n",
       "      <td>11.0</td>\n",
       "    </tr>\n",
       "    <tr>\n",
       "      <th>0.25</th>\n",
       "      <td>179.332907</td>\n",
       "      <td>19.0</td>\n",
       "    </tr>\n",
       "    <tr>\n",
       "      <th>0.50</th>\n",
       "      <td>430.267255</td>\n",
       "      <td>24.0</td>\n",
       "    </tr>\n",
       "    <tr>\n",
       "      <th>0.75</th>\n",
       "      <td>789.539770</td>\n",
       "      <td>29.0</td>\n",
       "    </tr>\n",
       "    <tr>\n",
       "      <th>0.95</th>\n",
       "      <td>2088.842597</td>\n",
       "      <td>39.0</td>\n",
       "    </tr>\n",
       "    <tr>\n",
       "      <th>0.99</th>\n",
       "      <td>2475.172228</td>\n",
       "      <td>51.0</td>\n",
       "    </tr>\n",
       "    <tr>\n",
       "      <th>1.00</th>\n",
       "      <td>8676.594130</td>\n",
       "      <td>156.0</td>\n",
       "    </tr>\n",
       "  </tbody>\n",
       "</table>\n",
       "</div>"
      ],
      "text/plain": [
       "             dist  dias_previstos\n",
       "0.05     0.000000            11.0\n",
       "0.25   179.332907            19.0\n",
       "0.50   430.267255            24.0\n",
       "0.75   789.539770            29.0\n",
       "0.95  2088.842597            39.0\n",
       "0.99  2475.172228            51.0\n",
       "1.00  8676.594130           156.0"
      ]
     },
     "execution_count": 11,
     "metadata": {},
     "output_type": "execute_result"
    }
   ],
   "source": [
    "tb_atrasos[[\"dist\", \"dias_previstos\"]].quantile([0.05, 0.25, 0.5, 0.75, 0.95, 0.99, 1])"
   ]
  },
  {
   "cell_type": "code",
   "execution_count": 12,
   "metadata": {},
   "outputs": [],
   "source": [
    "q99_dist = np.quantile(tb_atrasos['dist'], 0.99)\n",
    "q99_dias = np.quantile(tb_atrasos['dias_previstos'], 0.99)\n",
    "mask_outlier = (tb_atrasos['dist'] < q99_dist) & (tb_atrasos['dias_previstos'] < q99_dias)\n",
    "tb_atrasos_nout = tb_atrasos[mask_outlier].copy()"
   ]
  },
  {
   "cell_type": "code",
   "execution_count": 13,
   "metadata": {},
   "outputs": [
    {
     "data": {
      "text/plain": [
       "-2096"
      ]
     },
     "execution_count": 13,
     "metadata": {},
     "output_type": "execute_result"
    }
   ],
   "source": [
    "tb_atrasos_nout.shape[0] - tb_atrasos.shape[0]"
   ]
  },
  {
   "cell_type": "code",
   "execution_count": 15,
   "metadata": {},
   "outputs": [],
   "source": [
    "scaler = StandardScaler()\n",
    "X = pd.DataFrame(scaler.fit_transform(tb_atrasos[[\"dist\", \"dias_previstos\"]]), columns = [\"dist\", \"dias_previstos\"])\n",
    "y = tb_atrasos[\"atraso_bin\"]\n",
    "X_train, X_test, y_train, y_test = train_test_split(\n",
    "    X, y, test_size=0.25, random_state=42\n",
    ")\n"
   ]
  },
  {
   "cell_type": "markdown",
   "metadata": {},
   "source": [
    "O que foi feito de errado? **LEAKAGE NA SEPARAÇÃO TEST E TRAIN**"
   ]
  },
  {
   "cell_type": "markdown",
   "metadata": {},
   "source": [
    "# Regressão Logística (Modelo Baseline)"
   ]
  },
  {
   "cell_type": "code",
   "execution_count": 16,
   "metadata": {},
   "outputs": [],
   "source": [
    "from sklearn.linear_model import LogisticRegression\n"
   ]
  },
  {
   "cell_type": "code",
   "execution_count": 17,
   "metadata": {},
   "outputs": [
    {
     "data": {
      "text/plain": [
       "LogisticRegression()"
      ]
     },
     "execution_count": 17,
     "metadata": {},
     "output_type": "execute_result"
    }
   ],
   "source": [
    "log_fit = LogisticRegression()\n",
    "log_fit.fit(X_train, y_train)\n"
   ]
  },
  {
   "cell_type": "code",
   "execution_count": 18,
   "metadata": {},
   "outputs": [
    {
     "name": "stderr",
     "output_type": "stream",
     "text": [
      "/Users/pedroteche/opt/anaconda3/lib/python3.9/site-packages/sklearn/base.py:450: UserWarning: X does not have valid feature names, but LogisticRegression was fitted with feature names\n",
      "  warnings.warn(\n"
     ]
    },
    {
     "data": {
      "text/plain": [
       "<AxesSubplot:>"
      ]
     },
     "execution_count": 18,
     "metadata": {},
     "output_type": "execute_result"
    },
    {
     "data": {
      "image/png": "[encoded data removed]",
      "text/plain": [
       "<Figure size 432x288 with 1 Axes>"
      ]
     },
     "metadata": {
      "needs_background": "light"
     },
     "output_type": "display_data"
    }
   ],
   "source": [
    "plot_decision_regions(\n",
    "    np.array(X_train), np.array(y_train), log_fit, scatter_kwargs={\"alpha\": 1, \"s\": 1}\n",
    ")\n"
   ]
  },
  {
   "cell_type": "code",
   "execution_count": 19,
   "metadata": {},
   "outputs": [],
   "source": [
    "vetor_dist = np.linspace(X_train[\"dist\"].min(), X_train[\"dist\"].max(), 200)\n",
    "vetor_peso = [X_train[\"dias_previstos\"].median()] * 200\n",
    "tb_simul_dist = pd.DataFrame({\"dist\": vetor_dist, \"dias_previstos\": vetor_peso})\n",
    "tb_simul_dist[\"prob_atraso_log\"] = log_fit.predict_proba(tb_simul_dist)[:, -1]\n"
   ]
  },
  {
   "cell_type": "code",
   "execution_count": 20,
   "metadata": {},
   "outputs": [],
   "source": [
    "vetor_peso = np.linspace(\n",
    "    X_train[\"dias_previstos\"].min(), X_train[\"dias_previstos\"].max(), 200\n",
    ")\n",
    "vetor_dist = [X_train[\"dist\"].median()] * 200\n",
    "tb_simul_peso = pd.DataFrame({\"dist\": vetor_dist, \"dias_previstos\": vetor_peso})\n",
    "tb_simul_peso[\"prob_atraso_log\"] = log_fit.predict_proba(tb_simul_peso)[:, -1]\n"
   ]
  },
  {
   "cell_type": "code",
   "execution_count": 21,
   "metadata": {},
   "outputs": [
    {
     "data": {
      "text/plain": [
       "Text(0.5, 0.98, 'Simulações usando Modelo Baseline (Reg. Log.)')"
      ]
     },
     "execution_count": 21,
     "metadata": {},
     "output_type": "execute_result"
    },
    {
     "data": {
      "image/png": "[encoded data removed]",
      "text/plain": [
       "<Figure size 720x360 with 2 Axes>"
      ]
     },
     "metadata": {
      "needs_background": "light"
     },
     "output_type": "display_data"
    }
   ],
   "source": [
    "fig, ax = plt.subplots(1, 2, figsize=(10, 5))\n",
    "sns.scatterplot(data=tb_simul_dist, x=\"dist\", y=\"prob_atraso_log\", ax=ax[0])\n",
    "sns.scatterplot(data=tb_simul_peso, x=\"dias_previstos\", y=\"prob_atraso_log\", ax=ax[1])\n",
    "ax[0].set_title(\"Impacto da Distância sobre Prob. Atraso\")\n",
    "ax[1].set_title(\"Impacto da Estimativa sobre Prob. Atraso\")\n",
    "fig.suptitle(\"Simulações usando Modelo Baseline (Reg. Log.)\")\n"
   ]
  },
  {
   "cell_type": "code",
   "execution_count": 22,
   "metadata": {},
   "outputs": [],
   "source": [
    "pred_test = log_fit.predict(X_test)\n",
    "tb_p_test = pd.DataFrame({\"y_real\": y_test, \"pred_reglog\": pred_test})\n"
   ]
  },
  {
   "cell_type": "code",
   "execution_count": 23,
   "metadata": {},
   "outputs": [],
   "source": [
    "from sklearn.metrics import (\n",
    "    accuracy_score,\n",
    "    roc_auc_score,\n",
    "    f1_score,\n",
    "    precision_score,\n",
    "    recall_score,\n",
    ")"
   ]
  },
  {
   "cell_type": "code",
   "execution_count": 24,
   "metadata": {},
   "outputs": [
    {
     "name": "stdout",
     "output_type": "stream",
     "text": [
      "Acurácia: 0.9345524542829644\n",
      "ROC-AUC Score: 0.5002939447383892\n",
      "Precision: 1.0\n",
      "Recall: 0.0005878894767783657\n",
      "F1-Score: 0.0011750881316098707\n"
     ]
    }
   ],
   "source": [
    "print(f\"Acurácia: {accuracy_score(tb_p_test['y_real'], tb_p_test['pred_reglog'])}\")\n",
    "print(f\"ROC-AUC Score: {roc_auc_score(tb_p_test['y_real'], tb_p_test['pred_reglog'])}\")\n",
    "print(f\"Precision: {precision_score(tb_p_test['y_real'], tb_p_test['pred_reglog'])}\")\n",
    "print(f\"Recall: {recall_score(tb_p_test['y_real'], tb_p_test['pred_reglog'])}\")\n",
    "print(f\"F1-Score: {f1_score(tb_p_test['y_real'], tb_p_test['pred_reglog'])}\")\n"
   ]
  },
  {
   "cell_type": "code",
   "execution_count": 25,
   "metadata": {},
   "outputs": [
    {
     "data": {
      "text/plain": [
       "0.00038895371450797355"
      ]
     },
     "execution_count": 25,
     "metadata": {},
     "output_type": "execute_result"
    }
   ],
   "source": [
    "f1_score(y_train, log_fit.predict(X_train))"
   ]
  },
  {
   "cell_type": "code",
   "execution_count": 34,
   "metadata": {},
   "outputs": [],
   "source": [
    "def calcular_erros(nome_coluna_pred):\n",
    "    print(\n",
    "        f\"Acurácia: {accuracy_score(tb_p_test['y_real'], tb_p_test[nome_coluna_pred])}\"\n",
    "    )\n",
    "    print(\n",
    "        f\"ROC-AUC Score: {roc_auc_score(tb_p_test['y_real'], tb_p_test[nome_coluna_pred])}\"\n",
    "    )\n",
    "    print(\n",
    "        f\"Precision: {precision_score(tb_p_test['y_real'], tb_p_test[nome_coluna_pred])}\"\n",
    "    )\n",
    "    print(f\"Recall: {recall_score(tb_p_test['y_real'], tb_p_test[nome_coluna_pred])}\")\n",
    "    print(f\"F1-Score: {f1_score(tb_p_test['y_real'], tb_p_test[nome_coluna_pred])}\")\n"
   ]
  },
  {
   "cell_type": "markdown",
   "metadata": {},
   "source": [
    "O que aconteceu com o modelo de regressão? Como poderíamos melhora-lo?"
   ]
  },
  {
   "cell_type": "markdown",
   "metadata": {},
   "source": [
    "# kNN"
   ]
  },
  {
   "cell_type": "code",
   "execution_count": 27,
   "metadata": {},
   "outputs": [],
   "source": [
    "from sklearn.neighbors import KNeighborsClassifier"
   ]
  },
  {
   "cell_type": "markdown",
   "metadata": {},
   "source": [
    "![title](knn.png)"
   ]
  },
  {
   "cell_type": "markdown",
   "metadata": {},
   "source": [
    "## Hiperparâmetros\n",
    "* **n_neighbors** : Número de vizinhos\n",
    "* **weights** : Metodologia de ponderação dos vizinhos (devo penalizar vizinhos mais distantes?).\n",
    "* **metric** : Função de distância utilizada para 'escolher' vizinhos mais próximos."
   ]
  },
  {
   "cell_type": "markdown",
   "metadata": {},
   "source": [
    "https://scikit-learn.org/stable/modules/generated/sklearn.metrics.DistanceMetric.html#sklearn.metrics.DistanceMetric\n",
    "![title](metrica_distancia.png)"
   ]
  },
  {
   "cell_type": "code",
   "execution_count": 28,
   "metadata": {},
   "outputs": [
    {
     "data": {
      "text/plain": [
       "KNeighborsClassifier(n_neighbors=1)"
      ]
     },
     "execution_count": 28,
     "metadata": {},
     "output_type": "execute_result"
    }
   ],
   "source": [
    "knn_fit = KNeighborsClassifier(n_neighbors=1)\n",
    "knn_fit.fit(X_train, y_train)\n"
   ]
  },
  {
   "cell_type": "code",
   "execution_count": 29,
   "metadata": {},
   "outputs": [
    {
     "name": "stderr",
     "output_type": "stream",
     "text": [
      "/Users/pedroteche/opt/anaconda3/lib/python3.9/site-packages/sklearn/base.py:450: UserWarning: X does not have valid feature names, but KNeighborsClassifier was fitted with feature names\n",
      "  warnings.warn(\n"
     ]
    },
    {
     "data": {
      "text/plain": [
       "<AxesSubplot:>"
      ]
     },
     "execution_count": 29,
     "metadata": {},
     "output_type": "execute_result"
    },
    {
     "data": {
      "image/png": "[encoded data removed]",
      "text/plain": [
       "<Figure size 432x288 with 1 Axes>"
      ]
     },
     "metadata": {
      "needs_background": "light"
     },
     "output_type": "display_data"
    }
   ],
   "source": [
    "plot_decision_regions(\n",
    "    np.array(X_train), np.array(y_train), knn_fit, scatter_kwargs={\"alpha\": 0, \"s\": 1}\n",
    ")\n"
   ]
  },
  {
   "cell_type": "code",
   "execution_count": 30,
   "metadata": {},
   "outputs": [
    {
     "data": {
      "text/plain": [
       "Index(['dist', 'dias_previstos', 'prob_atraso_log'], dtype='object')"
      ]
     },
     "execution_count": 30,
     "metadata": {},
     "output_type": "execute_result"
    }
   ],
   "source": [
    "tb_simul_dist.columns"
   ]
  },
  {
   "cell_type": "code",
   "execution_count": 31,
   "metadata": {},
   "outputs": [],
   "source": [
    "tb_simul_dist[\"prob_atraso_knn\"] = knn_fit.predict_proba(\n",
    "    tb_simul_dist[[\"dist\", \"dias_previstos\"]]\n",
    ")[:, -1]\n",
    "tb_simul_peso[\"prob_atraso_knn\"] = knn_fit.predict_proba(\n",
    "    tb_simul_peso[[\"dist\", \"dias_previstos\"]]\n",
    ")[:, -1]\n"
   ]
  },
  {
   "cell_type": "code",
   "execution_count": 32,
   "metadata": {},
   "outputs": [
    {
     "data": {
      "text/plain": [
       "Text(0.5, 0.98, 'Simulações usando Modelo Baseline (Reg. Log.)')"
      ]
     },
     "execution_count": 32,
     "metadata": {},
     "output_type": "execute_result"
    },
    {
     "data": {
      "image/png": "[encoded data removed]",
      "text/plain": [
       "<Figure size 720x360 with 2 Axes>"
      ]
     },
     "metadata": {
      "needs_background": "light"
     },
     "output_type": "display_data"
    }
   ],
   "source": [
    "fig, ax = plt.subplots(1, 2, figsize=(10, 5))\n",
    "sns.scatterplot(data=tb_simul_dist, x=\"dist\", y=\"prob_atraso_knn\", ax=ax[0])\n",
    "sns.scatterplot(data=tb_simul_dist, x=\"dist\", y=\"prob_atraso_log\", ax=ax[0])\n",
    "sns.scatterplot(data=tb_simul_peso, x=\"dias_previstos\", y=\"prob_atraso_knn\", ax=ax[1])\n",
    "sns.scatterplot(data=tb_simul_peso, x=\"dias_previstos\", y=\"prob_atraso_log\", ax=ax[1])\n",
    "ax[0].set_title(\"Impacto da Estimativa sobre Prob. Atraso\")\n",
    "ax[1].set_title(\"Impacto do Peso sobre Prob. Atraso\")\n",
    "fig.suptitle(\"Simulações usando Modelo Baseline (Reg. Log.)\")\n"
   ]
  },
  {
   "cell_type": "code",
   "execution_count": 35,
   "metadata": {},
   "outputs": [
    {
     "name": "stdout",
     "output_type": "stream",
     "text": [
      "Acurácia: 0.888354186717998\n",
      "ROC-AUC Score: 0.5682406260642691\n",
      "Precision: 0.1809473124002129\n",
      "Recall: 0.19988242210464433\n",
      "F1-Score: 0.18994413407821226\n"
     ]
    }
   ],
   "source": [
    "tb_p_test[\"pred_knn\"] = knn_fit.predict(X_test)\n",
    "calcular_erros(\"pred_knn\")"
   ]
  },
  {
   "cell_type": "code",
   "execution_count": 36,
   "metadata": {},
   "outputs": [
    {
     "name": "stdout",
     "output_type": "stream",
     "text": [
      "1-NN F1 = 0.18994413407821226\n",
      "2-NN F1 = 0.10694652673663169\n",
      "3-NN F1 = 0.13084112149532712\n",
      "4-NN F1 = 0.06119162640901771\n",
      "5-NN F1 = 0.08487269096355468\n",
      "6-NN F1 = 0.03320420586607637\n",
      "7-NN F1 = 0.05128205128205127\n",
      "8-NN F1 = 0.03015075376884422\n",
      "9-NN F1 = 0.038167938931297704\n"
     ]
    }
   ],
   "source": [
    "for i in range(1, 10):\n",
    "    knn_fit = KNeighborsClassifier(n_neighbors=i)\n",
    "    knn_fit.fit(X_train, y_train)\n",
    "    print(f\"{i}-NN F1 = {f1_score(y_test, knn_fit.predict(X_test))}\")\n"
   ]
  },
  {
   "cell_type": "code",
   "execution_count": 37,
   "metadata": {},
   "outputs": [
    {
     "name": "stdout",
     "output_type": "stream",
     "text": [
      "1-NN F1 = 0.18994413407821226\n",
      "2-NN F1 = 0.17906238984843142\n",
      "3-NN F1 = 0.19368723098995697\n",
      "4-NN F1 = 0.1823076923076923\n",
      "5-NN F1 = 0.19239720713731576\n",
      "6-NN F1 = 0.18642024909602248\n",
      "7-NN F1 = 0.18966908797417273\n",
      "8-NN F1 = 0.1887566680344686\n",
      "9-NN F1 = 0.1912613355317395\n",
      "10-NN F1 = 0.1895615866388309\n",
      "11-NN F1 = 0.1907151819322459\n",
      "12-NN F1 = 0.1906761864762705\n",
      "13-NN F1 = 0.1905972045743329\n",
      "14-NN F1 = 0.18933901918976545\n",
      "15-NN F1 = 0.18974358974358974\n",
      "16-NN F1 = 0.19039451114922812\n",
      "17-NN F1 = 0.18863049095607234\n",
      "18-NN F1 = 0.18866291648636954\n",
      "19-NN F1 = 0.18931828050369084\n"
     ]
    }
   ],
   "source": [
    "for i in range(1, 20):\n",
    "    knn_fit = KNeighborsClassifier(n_neighbors=i, weights=\"distance\")\n",
    "    knn_fit.fit(X_train, y_train)\n",
    "    print(f\"{i}-NN F1 = {f1_score(y_test, knn_fit.predict(X_test))}\")\n"
   ]
  },
  {
   "cell_type": "code",
   "execution_count": 40,
   "metadata": {},
   "outputs": [
    {
     "name": "stderr",
     "output_type": "stream",
     "text": [
      "/Users/pedroteche/opt/anaconda3/lib/python3.9/site-packages/sklearn/base.py:450: UserWarning: X does not have valid feature names, but KNeighborsClassifier was fitted with feature names\n",
      "  warnings.warn(\n"
     ]
    },
    {
     "data": {
      "text/plain": [
       "<AxesSubplot:>"
      ]
     },
     "execution_count": 40,
     "metadata": {},
     "output_type": "execute_result"
    },
    {
     "data": {
      "image/png": "[encoded data removed]",
      "text/plain": [
       "<Figure size 432x288 with 1 Axes>"
      ]
     },
     "metadata": {
      "needs_background": "light"
     },
     "output_type": "display_data"
    }
   ],
   "source": [
    "knn_fit = KNeighborsClassifier(n_neighbors=10, weights = 'distance')\n",
    "knn_fit.fit(X_train, y_train)\n",
    "plot_decision_regions(\n",
    "    np.array(X_train), np.array(y_train), knn_fit, scatter_kwargs={\"alpha\": 0, \"s\": 1}\n",
    ")\n"
   ]
  },
  {
   "cell_type": "code",
   "execution_count": 41,
   "metadata": {},
   "outputs": [],
   "source": [
    "from sklearn.model_selection import GridSearchCV"
   ]
  },
  {
   "cell_type": "code",
   "execution_count": 42,
   "metadata": {},
   "outputs": [
    {
     "data": {
      "text/plain": [
       "GridSearchCV(cv=5, estimator=KNeighborsClassifier(),\n",
       "             param_grid={'metric': ['euclidean', 'manhattan', 'chebyshev'],\n",
       "                         'n_neighbors': range(1, 20),\n",
       "                         'weights': ['uniform', 'distance']},\n",
       "             scoring='f1')"
      ]
     },
     "execution_count": 42,
     "metadata": {},
     "output_type": "execute_result"
    }
   ],
   "source": [
    "parameter_grid = {\n",
    "    \"n_neighbors\": range(1, 20),\n",
    "    \"weights\": [\"uniform\", \"distance\"],\n",
    "    \"metric\": [\"euclidean\", \"manhattan\", \"chebyshev\"],\n",
    "}\n",
    "knn_fit = KNeighborsClassifier()\n",
    "knn_opt = GridSearchCV(estimator=knn_fit, param_grid=parameter_grid, scoring=\"f1\",cv = 5)\n",
    "knn_opt.fit(X_train, y_train)"
   ]
  },
  {
   "cell_type": "code",
   "execution_count": 43,
   "metadata": {},
   "outputs": [
    {
     "data": {
      "text/plain": [
       "KNeighborsClassifier(metric='manhattan', n_neighbors=1)"
      ]
     },
     "execution_count": 43,
     "metadata": {},
     "output_type": "execute_result"
    }
   ],
   "source": [
    "knn_opt.best_estimator_"
   ]
  },
  {
   "cell_type": "code",
   "execution_count": 44,
   "metadata": {},
   "outputs": [
    {
     "name": "stderr",
     "output_type": "stream",
     "text": [
      "/Users/pedroteche/opt/anaconda3/lib/python3.9/site-packages/sklearn/base.py:450: UserWarning: X does not have valid feature names, but KNeighborsClassifier was fitted with feature names\n",
      "  warnings.warn(\n"
     ]
    },
    {
     "data": {
      "image/png": "[encoded data removed]",
      "text/plain": [
       "<Figure size 432x288 with 1 Axes>"
      ]
     },
     "metadata": {
      "needs_background": "light"
     },
     "output_type": "display_data"
    }
   ],
   "source": [
    "plot_decision_regions(\n",
    "    np.array(X_train), np.array(y_train), knn_opt, scatter_kwargs={\"alpha\": 0, \"s\": 1}\n",
    ");"
   ]
  },
  {
   "cell_type": "code",
   "execution_count": 45,
   "metadata": {},
   "outputs": [
    {
     "name": "stdout",
     "output_type": "stream",
     "text": [
      "Acurácia: 0.8884696823869105\n",
      "ROC-AUC Score: 0.568575767144423\n",
      "Precision: 0.18157614483493079\n",
      "Recall: 0.2004703115814227\n",
      "F1-Score: 0.19055602123498186\n"
     ]
    }
   ],
   "source": [
    "tb_p_test[\"pred_knn\"] = knn_opt.predict(X_test)\n",
    "calcular_erros(\"pred_knn\")"
   ]
  },
  {
   "cell_type": "markdown",
   "metadata": {},
   "source": [
    "# SVM"
   ]
  },
  {
   "cell_type": "code",
   "execution_count": 46,
   "metadata": {},
   "outputs": [],
   "source": [
    "from sklearn.svm import SVC"
   ]
  },
  {
   "cell_type": "markdown",
   "metadata": {},
   "source": [
    "![title](svm.jpg)"
   ]
  },
  {
   "cell_type": "markdown",
   "metadata": {},
   "source": [
    "## Hiperparâmetros"
   ]
  },
  {
   "cell_type": "markdown",
   "metadata": {},
   "source": [
    "https://www.geeksforgeeks.org/svm-hyperparameter-tuning-using-gridsearchcv-ml/\n",
    "\n",
    "* **C**: parâmetro de regularização, **reduz o overfitting** do modelo simplificando a superficie de decisão\n",
    "* **kernel**: função utilizada para representar superficies não lineares\n",
    "* **gamma**: o quão *fechadas* as curvas do kernel podem ser"
   ]
  },
  {
   "cell_type": "code",
   "execution_count": 47,
   "metadata": {},
   "outputs": [
    {
     "data": {
      "text/plain": [
       "SVC(class_weight='balanced')"
      ]
     },
     "execution_count": 47,
     "metadata": {},
     "output_type": "execute_result"
    }
   ],
   "source": [
    "X_train_svc = X_train[0:5000]\n",
    "y_train_svc = y_train[0:5000]\n",
    "svm_fit = SVC(class_weight = 'balanced')\n",
    "svm_fit.fit(X_train_svc, y_train_svc)"
   ]
  },
  {
   "cell_type": "code",
   "execution_count": 48,
   "metadata": {},
   "outputs": [
    {
     "name": "stderr",
     "output_type": "stream",
     "text": [
      "/Users/pedroteche/opt/anaconda3/lib/python3.9/site-packages/sklearn/base.py:450: UserWarning: X does not have valid feature names, but SVC was fitted with feature names\n",
      "  warnings.warn(\n"
     ]
    },
    {
     "data": {
      "text/plain": [
       "<AxesSubplot:>"
      ]
     },
     "execution_count": 48,
     "metadata": {},
     "output_type": "execute_result"
    },
    {
     "data": {
      "image/png": "[encoded data removed]",
      "text/plain": [
       "<Figure size 432x288 with 1 Axes>"
      ]
     },
     "metadata": {
      "needs_background": "light"
     },
     "output_type": "display_data"
    }
   ],
   "source": [
    "plot_decision_regions(\n",
    "    np.array(X_train_svc), np.array(y_train_svc), svm_fit, scatter_kwargs={\"alpha\": 0, \"s\": 1}\n",
    ")"
   ]
  },
  {
   "cell_type": "code",
   "execution_count": 49,
   "metadata": {},
   "outputs": [
    {
     "name": "stdout",
     "output_type": "stream",
     "text": [
      "Acurácia: 0.5554571703561116\n",
      "ROC-AUC Score: 0.5921313558314282\n",
      "Precision: 0.08988670443185605\n",
      "Recall: 0.6343327454438565\n",
      "F1-Score: 0.15746078073695732\n"
     ]
    }
   ],
   "source": [
    "tb_p_test[\"pred_svm\"] = svm_fit.predict(X_test)\n",
    "calcular_erros(\"pred_svm\")"
   ]
  },
  {
   "cell_type": "code",
   "execution_count": null,
   "metadata": {},
   "outputs": [],
   "source": [
    "### EXERCICIO\n",
    "# MONTAR UM OTIMIZADOR DE HIPERPARAMETROS PARA O SVC ACIMA"
   ]
  },
  {
   "cell_type": "markdown",
   "metadata": {},
   "source": [
    "# Árvores de Decisão"
   ]
  },
  {
   "cell_type": "code",
   "execution_count": 50,
   "metadata": {},
   "outputs": [],
   "source": [
    "from sklearn.tree import DecisionTreeClassifier, plot_tree"
   ]
  },
  {
   "cell_type": "markdown",
   "metadata": {},
   "source": [
    "## Hiperparâmetros"
   ]
  },
  {
   "cell_type": "markdown",
   "metadata": {},
   "source": [
    "https://towardsdatascience.com/how-to-tune-a-decision-tree-f03721801680\n",
    "\n",
    "* **max_depth**: profundidade máxima da árvore\n",
    "* **min_samples_leaf**: número mínimo de amostras em cada nó final (folha) da árvore\n",
    "* **min_samples_split**: número mínimo de amostras em cada galho"
   ]
  },
  {
   "cell_type": "markdown",
   "metadata": {},
   "source": [
    "### Fit ingênuo"
   ]
  },
  {
   "cell_type": "code",
   "execution_count": 56,
   "metadata": {},
   "outputs": [
    {
     "data": {
      "text/plain": [
       "DecisionTreeClassifier()"
      ]
     },
     "execution_count": 56,
     "metadata": {},
     "output_type": "execute_result"
    }
   ],
   "source": [
    "tree_fit = DecisionTreeClassifier()\n",
    "tree_fit.fit(X_train, y_train)"
   ]
  },
  {
   "cell_type": "code",
   "execution_count": 57,
   "metadata": {},
   "outputs": [
    {
     "data": {
      "text/plain": [
       "0.7379692011549567"
      ]
     },
     "execution_count": 57,
     "metadata": {},
     "output_type": "execute_result"
    }
   ],
   "source": [
    "f1_score(y_train, tree_fit.predict(X_train))"
   ]
  },
  {
   "cell_type": "code",
   "execution_count": 58,
   "metadata": {},
   "outputs": [
    {
     "data": {
      "text/plain": [
       "0.18871866295264625"
      ]
     },
     "execution_count": 58,
     "metadata": {},
     "output_type": "execute_result"
    }
   ],
   "source": [
    "f1_score(y_test, tree_fit.predict(X_test))"
   ]
  },
  {
   "cell_type": "markdown",
   "metadata": {},
   "source": [
    "O que aconteceu??"
   ]
  },
  {
   "cell_type": "markdown",
   "metadata": {},
   "source": [
    "### Reduzindo Overfitting"
   ]
  },
  {
   "cell_type": "markdown",
   "metadata": {},
   "source": [
    "Devemos reduzir o overfitting de uma arvore de decisão utilizando os hiperparâmetros dela."
   ]
  },
  {
   "cell_type": "code",
   "execution_count": 61,
   "metadata": {},
   "outputs": [
    {
     "data": {
      "text/plain": [
       "DecisionTreeClassifier(class_weight='balanced', max_depth=3,\n",
       "                       min_samples_leaf=0.25)"
      ]
     },
     "execution_count": 61,
     "metadata": {},
     "output_type": "execute_result"
    }
   ],
   "source": [
    "tree_fit = DecisionTreeClassifier(max_depth = 3, min_samples_leaf=0.25, class_weight = \"balanced\")\n",
    "tree_fit.fit(X_train, y_train)"
   ]
  },
  {
   "cell_type": "code",
   "execution_count": 60,
   "metadata": {},
   "outputs": [
    {
     "name": "stderr",
     "output_type": "stream",
     "text": [
      "/Users/pedroteche/opt/anaconda3/lib/python3.9/site-packages/sklearn/base.py:450: UserWarning: X does not have valid feature names, but DecisionTreeClassifier was fitted with feature names\n",
      "  warnings.warn(\n"
     ]
    },
    {
     "data": {
      "image/png": "[encoded data removed]",
      "text/plain": [
       "<Figure size 432x288 with 1 Axes>"
      ]
     },
     "metadata": {
      "needs_background": "light"
     },
     "output_type": "display_data"
    }
   ],
   "source": [
    "plot_decision_regions(\n",
    "    np.array(X_train), np.array(y_train), tree_fit, scatter_kwargs={\"alpha\": 0, \"s\": 1}\n",
    ");"
   ]
  },
  {
   "cell_type": "code",
   "execution_count": 55,
   "metadata": {},
   "outputs": [
    {
     "data": {
      "text/plain": [
       "[Text(0.4, 0.8333333333333334, 'X[0] <= -0.424\\ngini = 0.5\\nsamples = 77922\\nvalue = [38961.0, 38961.0]'),\n",
       " Text(0.2, 0.5, 'gini = 0.484\\nsamples = 30514\\nvalue = [15564.701, 10899.984]'),\n",
       " Text(0.6, 0.5, 'X[1] <= 0.352\\ngini = 0.496\\nsamples = 47408\\nvalue = [23396.299, 28061.016]'),\n",
       " Text(0.4, 0.16666666666666666, 'gini = 0.482\\nsamples = 26421\\nvalue = [12812.132, 18851.363]'),\n",
       " Text(0.8, 0.16666666666666666, 'gini = 0.498\\nsamples = 20987\\nvalue = [10584.168, 9209.653]')]"
      ]
     },
     "execution_count": 55,
     "metadata": {},
     "output_type": "execute_result"
    },
    {
     "data": {
      "image/png": "[encoded data removed]",
      "text/plain": [
       "<Figure size 720x720 with 1 Axes>"
      ]
     },
     "metadata": {
      "needs_background": "light"
     },
     "output_type": "display_data"
    }
   ],
   "source": [
    "fig = plt.figure(figsize = (10, 10))\n",
    "plot_tree(tree_fit)"
   ]
  },
  {
   "cell_type": "code",
   "execution_count": 62,
   "metadata": {},
   "outputs": [],
   "source": [
    "tb_simul_dist[\"prob_atraso_tree\"] = tree_fit.predict_proba(\n",
    "    tb_simul_dist[[\"dist\", \"dias_previstos\"]]\n",
    ")[:, -1]\n",
    "tb_simul_peso[\"prob_atraso_tree\"] = tree_fit.predict_proba(\n",
    "    tb_simul_peso[[\"dist\", \"dias_previstos\"]]\n",
    ")[:, -1]"
   ]
  },
  {
   "cell_type": "code",
   "execution_count": 63,
   "metadata": {},
   "outputs": [
    {
     "data": {
      "text/plain": [
       "Text(0.5, 0.98, 'Simulações usando Modelo Baseline (Reg. Log.)')"
      ]
     },
     "execution_count": 63,
     "metadata": {},
     "output_type": "execute_result"
    },
    {
     "data": {
      "image/png": "[encoded data removed]",
      "text/plain": [
       "<Figure size 720x360 with 2 Axes>"
      ]
     },
     "metadata": {
      "needs_background": "light"
     },
     "output_type": "display_data"
    }
   ],
   "source": [
    "fig, ax = plt.subplots(1, 2, figsize=(10, 5))\n",
    "sns.scatterplot(data=tb_simul_dist, x=\"dist\", y=\"prob_atraso_tree\", ax=ax[0])\n",
    "sns.scatterplot(data=tb_simul_dist, x=\"dist\", y=\"prob_atraso_log\", ax=ax[0])\n",
    "sns.scatterplot(data=tb_simul_peso, x=\"dias_previstos\", y=\"prob_atraso_tree\", ax=ax[1])\n",
    "sns.scatterplot(data=tb_simul_peso, x=\"dias_previstos\", y=\"prob_atraso_log\", ax=ax[1])\n",
    "ax[0].set_title(\"Impacto da Distância sobre Prob. Atraso\")\n",
    "ax[1].set_title(\"Impacto da Estimativa sobre Prob. Atraso\")\n",
    "fig.suptitle(\"Simulações usando Modelo Baseline (Reg. Log.)\")"
   ]
  },
  {
   "cell_type": "code",
   "execution_count": 64,
   "metadata": {},
   "outputs": [
    {
     "name": "stdout",
     "output_type": "stream",
     "text": [
      "Acurácia: 0.6532050048123196\n",
      "ROC-AUC Score: 0.5632461811523999\n",
      "Precision: 0.08815240671852102\n",
      "Recall: 0.45972957084068194\n",
      "F1-Score: 0.1479379493000378\n"
     ]
    }
   ],
   "source": [
    "tb_p_test[\"pred_tree\"] = tree_fit.predict(X_test)\n",
    "calcular_erros(\"pred_tree\")"
   ]
  },
  {
   "cell_type": "code",
   "execution_count": 69,
   "metadata": {},
   "outputs": [],
   "source": [
    "max_depth = [int(x) for x in np.linspace(1, 50, 5)]\n",
    "min_samples_leaf = [int(x) for x in np.linspace(1, 20, 3)]\n",
    "min_samples_split = [int(x) for x in np.linspace(2, 40, 3)]"
   ]
  },
  {
   "cell_type": "code",
   "execution_count": 70,
   "metadata": {},
   "outputs": [
    {
     "data": {
      "text/plain": [
       "[2, 21, 40]"
      ]
     },
     "execution_count": 70,
     "metadata": {},
     "output_type": "execute_result"
    }
   ],
   "source": [
    "min_samples_split"
   ]
  },
  {
   "cell_type": "code",
   "execution_count": 71,
   "metadata": {},
   "outputs": [
    {
     "data": {
      "text/plain": [
       "GridSearchCV(cv=5, estimator=DecisionTreeClassifier(),\n",
       "             param_grid={'class_weight': ['balanced', None],\n",
       "                         'max_depth': [1, 13, 25, 37, 50],\n",
       "                         'min_samples_leaf': [1, 10, 20],\n",
       "                         'min_samples_split': [2, 21, 40]},\n",
       "             scoring='f1')"
      ]
     },
     "execution_count": 71,
     "metadata": {},
     "output_type": "execute_result"
    }
   ],
   "source": [
    "parameter_grid = {\n",
    "    \"max_depth\": max_depth,\n",
    "    \"min_samples_leaf\": min_samples_leaf,\n",
    "    \"min_samples_split\": min_samples_split,\n",
    "    \"class_weight\": [\"balanced\", None] \n",
    "}\n",
    "tree_fit = DecisionTreeClassifier()\n",
    "tree_opt = GridSearchCV(estimator=tree_fit, param_grid=parameter_grid, scoring=\"f1\",cv = 5)\n",
    "tree_opt.fit(X_train, y_train)"
   ]
  },
  {
   "cell_type": "code",
   "execution_count": 72,
   "metadata": {},
   "outputs": [
    {
     "data": {
      "text/plain": [
       "DecisionTreeClassifier(class_weight='balanced', max_depth=50)"
      ]
     },
     "execution_count": 72,
     "metadata": {},
     "output_type": "execute_result"
    }
   ],
   "source": [
    "tree_opt.best_estimator_"
   ]
  },
  {
   "cell_type": "code",
   "execution_count": 73,
   "metadata": {},
   "outputs": [
    {
     "name": "stdout",
     "output_type": "stream",
     "text": [
      "Acurácia: 0.823330125120308\n",
      "ROC-AUC Score: 0.610260700913251\n",
      "Precision: 0.15036319612590798\n",
      "Recall: 0.36507936507936506\n",
      "F1-Score: 0.21299948550848907\n"
     ]
    }
   ],
   "source": [
    "tb_p_test[\"pred_tree\"] = tree_opt.predict(X_test)\n",
    "calcular_erros(\"pred_tree\")"
   ]
  },
  {
   "cell_type": "code",
   "execution_count": 74,
   "metadata": {},
   "outputs": [
    {
     "name": "stderr",
     "output_type": "stream",
     "text": [
      "/Users/pedroteche/opt/anaconda3/lib/python3.9/site-packages/sklearn/base.py:450: UserWarning: X does not have valid feature names, but DecisionTreeClassifier was fitted with feature names\n",
      "  warnings.warn(\n"
     ]
    },
    {
     "data": {
      "image/png": "[encoded data removed]",
      "text/plain": [
       "<Figure size 432x288 with 1 Axes>"
      ]
     },
     "metadata": {
      "needs_background": "light"
     },
     "output_type": "display_data"
    }
   ],
   "source": [
    "plot_decision_regions(\n",
    "    np.array(X_train), np.array(y_train), tree_opt, scatter_kwargs={\"alpha\": 0, \"s\": 1}\n",
    ");"
   ]
  },
  {
   "cell_type": "markdown",
   "metadata": {},
   "source": [
    "# Ensembles"
   ]
  },
  {
   "cell_type": "markdown",
   "metadata": {},
   "source": [
    "https://scikit-learn.org/stable/modules/ensemble.html\n",
    "\n",
    "![title](ensemble.png)"
   ]
  },
  {
   "cell_type": "markdown",
   "metadata": {},
   "source": [
    "## Bagging"
   ]
  },
  {
   "cell_type": "code",
   "execution_count": 76,
   "metadata": {},
   "outputs": [],
   "source": [
    "from sklearn.ensemble import RandomForestClassifier"
   ]
  },
  {
   "cell_type": "markdown",
   "metadata": {},
   "source": [
    "![title](rf.png)"
   ]
  },
  {
   "cell_type": "markdown",
   "metadata": {},
   "source": [
    "### Hiperparâmetros\n",
    "\n",
    "https://towardsdatascience.com/hyperparameter-tuning-the-random-forest-in-python-using-scikit-learn-28d2aa77dd74\n",
    "\n",
    "* **n_estimators**: número de arvores de decisão\n",
    "* **max_samples**: número de pontos em cada amostra\n",
    "\n",
    "\n",
    "Parâmetros do classificador bagged\n",
    "* **max_depth**: profundidade máxima da árvore (**CRITICO PARA ENSEMBLES!!**)\n",
    "* **min_samples_leaf**: número mínimo de amostras em cada nó final (folha) da árvore\n",
    "* **min_samples_split**: número mínimo de amostras em cada galho"
   ]
  },
  {
   "cell_type": "code",
   "execution_count": 77,
   "metadata": {},
   "outputs": [
    {
     "data": {
      "text/plain": [
       "RandomForestClassifier(class_weight='balanced', max_depth=8, n_estimators=1000)"
      ]
     },
     "execution_count": 77,
     "metadata": {},
     "output_type": "execute_result"
    }
   ],
   "source": [
    "rf_fit = RandomForestClassifier(n_estimators = 1000, class_weight = \"balanced\", max_depth = 8)\n",
    "rf_fit.fit(X_train, y_train)"
   ]
  },
  {
   "cell_type": "code",
   "execution_count": 78,
   "metadata": {},
   "outputs": [
    {
     "name": "stderr",
     "output_type": "stream",
     "text": [
      "/Users/pedroteche/opt/anaconda3/lib/python3.9/site-packages/sklearn/base.py:450: UserWarning: X does not have valid feature names, but RandomForestClassifier was fitted with feature names\n",
      "  warnings.warn(\n"
     ]
    },
    {
     "data": {
      "image/png": "[encoded data removed]",
      "text/plain": [
       "<Figure size 432x288 with 1 Axes>"
      ]
     },
     "metadata": {
      "needs_background": "light"
     },
     "output_type": "display_data"
    }
   ],
   "source": [
    "plot_decision_regions(\n",
    "    np.array(X_train), np.array(y_train), rf_fit, scatter_kwargs={\"alpha\": 0., \"s\": 1}\n",
    ");"
   ]
  },
  {
   "cell_type": "code",
   "execution_count": 79,
   "metadata": {},
   "outputs": [
    {
     "name": "stdout",
     "output_type": "stream",
     "text": [
      "Acurácia: 0.6210587102983638\n",
      "ROC-AUC Score: 0.6026294479394733\n",
      "Precision: 0.09772727272727273\n",
      "Recall: 0.5814226925338036\n",
      "F1-Score: 0.16732932915996954\n"
     ]
    }
   ],
   "source": [
    "tb_p_test[\"rf_fit\"] = rf_fit.predict(X_test)\n",
    "calcular_erros(\"rf_fit\")"
   ]
  },
  {
   "cell_type": "code",
   "execution_count": 80,
   "metadata": {},
   "outputs": [
    {
     "data": {
      "text/plain": [
       "RandomForestClassifier(class_weight='balanced', max_depth=2, n_estimators=10000)"
      ]
     },
     "execution_count": 80,
     "metadata": {},
     "output_type": "execute_result"
    }
   ],
   "source": [
    "rf_fit = RandomForestClassifier(n_estimators = 10000, max_depth = 2, class_weight = \"balanced\")\n",
    "rf_fit.fit(X_train, y_train)"
   ]
  },
  {
   "cell_type": "code",
   "execution_count": 81,
   "metadata": {},
   "outputs": [
    {
     "name": "stderr",
     "output_type": "stream",
     "text": [
      "/Users/pedroteche/opt/anaconda3/lib/python3.9/site-packages/sklearn/base.py:450: UserWarning: X does not have valid feature names, but RandomForestClassifier was fitted with feature names\n",
      "  warnings.warn(\n"
     ]
    },
    {
     "data": {
      "image/png": "[encoded data removed]",
      "text/plain": [
       "<Figure size 432x288 with 1 Axes>"
      ]
     },
     "metadata": {
      "needs_background": "light"
     },
     "output_type": "display_data"
    }
   ],
   "source": [
    "plot_decision_regions(\n",
    "    np.array(X_train), np.array(y_train), rf_fit, scatter_kwargs={\"alpha\": 0., \"s\": 1}\n",
    ");"
   ]
  },
  {
   "cell_type": "code",
   "execution_count": 82,
   "metadata": {},
   "outputs": [
    {
     "name": "stdout",
     "output_type": "stream",
     "text": [
      "Acurácia: 0.5610009624639076\n",
      "ROC-AUC Score: 0.5860770557107744\n",
      "Precision: 0.08868916398168561\n",
      "Recall: 0.6149323927101705\n",
      "F1-Score: 0.15502037791774734\n"
     ]
    }
   ],
   "source": [
    "tb_p_test[\"rf_fit\"] = rf_fit.predict(X_test)\n",
    "calcular_erros(\"rf_fit\")"
   ]
  },
  {
   "cell_type": "markdown",
   "metadata": {},
   "source": [
    "## Boosting"
   ]
  },
  {
   "cell_type": "code",
   "execution_count": 84,
   "metadata": {},
   "outputs": [],
   "source": [
    "from sklearn.ensemble import GradientBoostingClassifier"
   ]
  },
  {
   "cell_type": "markdown",
   "metadata": {},
   "source": [
    "https://machinelearningmastery.com/gentle-introduction-gradient-boosting-algorithm-machine-learning/\n",
    "\n",
    "![title](boosting.png)"
   ]
  },
  {
   "cell_type": "markdown",
   "metadata": {},
   "source": [
    "### Hiperparâmetros\n",
    "\n",
    "https://medium.com/all-things-ai/in-depth-parameter-tuning-for-gradient-boosting-3363992e9bae\n",
    "\n",
    "* **learning_rate**: reduz a contribuição de cada modelo para reduzir overfitting\n",
    "* **n_estimator**: numero de modelos em séries\n",
    "\n",
    "Parâmetros do classificador boosted\n",
    "\n",
    "* **max_depth**: profundidade máxima da árvore (**CRITICO PARA ENSEMBLES!!**)\n",
    "* **min_samples_leaf**: número mínimo de amostras em cada nó final (folha) da árvore\n",
    "* **min_samples_split**: número mínimo de amostras em cada galho"
   ]
  },
  {
   "cell_type": "code",
   "execution_count": 85,
   "metadata": {},
   "outputs": [
    {
     "data": {
      "text/plain": [
       "GradientBoostingClassifier(max_depth=8)"
      ]
     },
     "execution_count": 85,
     "metadata": {},
     "output_type": "execute_result"
    }
   ],
   "source": [
    "gb_fit = GradientBoostingClassifier(n_estimators = 100, max_depth = 8)\n",
    "gb_fit.fit(X_train, y_train)"
   ]
  },
  {
   "cell_type": "code",
   "execution_count": 86,
   "metadata": {},
   "outputs": [
    {
     "name": "stderr",
     "output_type": "stream",
     "text": [
      "/Users/pedroteche/opt/anaconda3/lib/python3.9/site-packages/sklearn/base.py:450: UserWarning: X does not have valid feature names, but GradientBoostingClassifier was fitted with feature names\n",
      "  warnings.warn(\n"
     ]
    },
    {
     "data": {
      "image/png": "[encoded data removed]",
      "text/plain": [
       "<Figure size 432x288 with 1 Axes>"
      ]
     },
     "metadata": {
      "needs_background": "light"
     },
     "output_type": "display_data"
    }
   ],
   "source": [
    "plot_decision_regions(\n",
    "    np.array(X_train), np.array(y_train), gb_fit, scatter_kwargs={\"alpha\": 0., \"s\": 1}\n",
    ");"
   ]
  },
  {
   "cell_type": "code",
   "execution_count": 87,
   "metadata": {},
   "outputs": [
    {
     "name": "stdout",
     "output_type": "stream",
     "text": [
      "Acurácia: 0.9338594802694898\n",
      "ROC-AUC Score: 0.5086702678227218\n",
      "Precision: 0.39759036144578314\n",
      "Recall: 0.019400352733686066\n",
      "F1-Score: 0.03699551569506726\n"
     ]
    }
   ],
   "source": [
    "tb_p_test[\"pred_gb\"] = gb_fit.predict(X_test)\n",
    "calcular_erros(\"pred_gb\")"
   ]
  },
  {
   "cell_type": "code",
   "execution_count": 96,
   "metadata": {},
   "outputs": [],
   "source": [
    "from sklearn.model_selection import RandomizedSearchCV"
   ]
  },
  {
   "cell_type": "code",
   "execution_count": 97,
   "metadata": {},
   "outputs": [
    {
     "data": {
      "text/plain": [
       "RandomizedSearchCV(cv=5, estimator=GradientBoostingClassifier(), n_iter=5,\n",
       "                   param_distributions={'learning_rate': array([0.05      , 0.08947368, 0.12894737, 0.16842105, 0.20789474,\n",
       "       0.24736842, 0.28684211, 0.32631579, 0.36578947, 0.40526316,\n",
       "       0.44473684, 0.48421053, 0.52368421, 0.56315789, 0.60263158,\n",
       "       0.64210526, 0.68157895, 0.72105263, 0.76052632, 0.8       ]),\n",
       "                                        'max_depth': range(1, 6),\n",
       "                                        'n_estimators': [800, 863, 926, 989,\n",
       "                                                         1052, 1115, 1178, 1242,\n",
       "                                                         1305, 1368, 1431, 1494,\n",
       "                                                         1557, 1621, 1684, 1747,\n",
       "                                                         1810, 1873, 1936,\n",
       "                                                         2000]},\n",
       "                   scoring='f1')"
      ]
     },
     "execution_count": 97,
     "metadata": {},
     "output_type": "execute_result"
    }
   ],
   "source": [
    "learning_rate = np.linspace(0.05, 0.8, 20)\n",
    "n_estimators = [int(x) for x in np.linspace(800, 2000, 20)]\n",
    "max_depth = range(1, 6)\n",
    "parameter_grid = {\n",
    "    \"max_depth\": max_depth,\n",
    "    \"n_estimators\" : n_estimators,\n",
    "    \"learning_rate\": learning_rate\n",
    "}\n",
    "gb_fit = GradientBoostingClassifier()\n",
    "gb_opt = RandomizedSearchCV(estimator=gb_fit, param_distributions=parameter_grid, scoring=\"f1\",cv = 5, n_iter = 5)\n",
    "gb_opt.fit(X_train, y_train)"
   ]
  },
  {
   "cell_type": "code",
   "execution_count": null,
   "metadata": {},
   "outputs": [],
   "source": [
    "gb_opt.cv_results_"
   ]
  },
  {
   "cell_type": "code",
   "execution_count": 94,
   "metadata": {},
   "outputs": [
    {
     "data": {
      "text/plain": [
       "<AxesSubplot:xlabel='param_max_depth', ylabel='mean_test_score'>"
      ]
     },
     "execution_count": 94,
     "metadata": {},
     "output_type": "execute_result"
    },
    {
     "data": {
      "image/png": "[encoded data removed]",
      "text/plain": [
       "<Figure size 432x288 with 1 Axes>"
      ]
     },
     "metadata": {
      "needs_background": "light"
     },
     "output_type": "display_data"
    }
   ],
   "source": [
    "sns.scatterplot(data = pd.DataFrame(tree_opt.cv_results_),\n",
    "                x = 'param_max_depth',\n",
    "                y = 'mean_test_score',\n",
    "               hue = 'param_min_samples_leaf')"
   ]
  },
  {
   "cell_type": "code",
   "execution_count": 93,
   "metadata": {},
   "outputs": [
    {
     "data": {
      "text/html": [
       "<div>\n",
       "<style scoped>\n",
       "    .dataframe tbody tr th:only-of-type {\n",
       "        vertical-align: middle;\n",
       "    }\n",
       "\n",
       "    .dataframe tbody tr th {\n",
       "        vertical-align: top;\n",
       "    }\n",
       "\n",
       "    .dataframe thead th {\n",
       "        text-align: right;\n",
       "    }\n",
       "</style>\n",
       "<table border=\"1\" class=\"dataframe\">\n",
       "  <thead>\n",
       "    <tr style=\"text-align: right;\">\n",
       "      <th></th>\n",
       "      <th>mean_fit_time</th>\n",
       "      <th>std_fit_time</th>\n",
       "      <th>mean_score_time</th>\n",
       "      <th>std_score_time</th>\n",
       "      <th>param_class_weight</th>\n",
       "      <th>param_max_depth</th>\n",
       "      <th>param_min_samples_leaf</th>\n",
       "      <th>param_min_samples_split</th>\n",
       "      <th>params</th>\n",
       "      <th>split0_test_score</th>\n",
       "      <th>split1_test_score</th>\n",
       "      <th>split2_test_score</th>\n",
       "      <th>split3_test_score</th>\n",
       "      <th>split4_test_score</th>\n",
       "      <th>mean_test_score</th>\n",
       "      <th>std_test_score</th>\n",
       "      <th>rank_test_score</th>\n",
       "    </tr>\n",
       "  </thead>\n",
       "  <tbody>\n",
       "    <tr>\n",
       "      <th>0</th>\n",
       "      <td>0.024623</td>\n",
       "      <td>0.008023</td>\n",
       "      <td>0.004033</td>\n",
       "      <td>0.000401</td>\n",
       "      <td>balanced</td>\n",
       "      <td>1</td>\n",
       "      <td>1</td>\n",
       "      <td>2</td>\n",
       "      <td>{'class_weight': 'balanced', 'max_depth': 1, '...</td>\n",
       "      <td>0.139959</td>\n",
       "      <td>0.141682</td>\n",
       "      <td>0.159813</td>\n",
       "      <td>0.165601</td>\n",
       "      <td>0.149687</td>\n",
       "      <td>0.151348</td>\n",
       "      <td>0.010007</td>\n",
       "      <td>40</td>\n",
       "    </tr>\n",
       "    <tr>\n",
       "      <th>1</th>\n",
       "      <td>0.016372</td>\n",
       "      <td>0.000556</td>\n",
       "      <td>0.003204</td>\n",
       "      <td>0.000114</td>\n",
       "      <td>balanced</td>\n",
       "      <td>1</td>\n",
       "      <td>1</td>\n",
       "      <td>21</td>\n",
       "      <td>{'class_weight': 'balanced', 'max_depth': 1, '...</td>\n",
       "      <td>0.139959</td>\n",
       "      <td>0.141682</td>\n",
       "      <td>0.159813</td>\n",
       "      <td>0.165601</td>\n",
       "      <td>0.149687</td>\n",
       "      <td>0.151348</td>\n",
       "      <td>0.010007</td>\n",
       "      <td>40</td>\n",
       "    </tr>\n",
       "    <tr>\n",
       "      <th>2</th>\n",
       "      <td>0.016467</td>\n",
       "      <td>0.001206</td>\n",
       "      <td>0.003362</td>\n",
       "      <td>0.000372</td>\n",
       "      <td>balanced</td>\n",
       "      <td>1</td>\n",
       "      <td>1</td>\n",
       "      <td>40</td>\n",
       "      <td>{'class_weight': 'balanced', 'max_depth': 1, '...</td>\n",
       "      <td>0.139959</td>\n",
       "      <td>0.141682</td>\n",
       "      <td>0.159813</td>\n",
       "      <td>0.165601</td>\n",
       "      <td>0.149687</td>\n",
       "      <td>0.151348</td>\n",
       "      <td>0.010007</td>\n",
       "      <td>40</td>\n",
       "    </tr>\n",
       "    <tr>\n",
       "      <th>3</th>\n",
       "      <td>0.015537</td>\n",
       "      <td>0.000121</td>\n",
       "      <td>0.002985</td>\n",
       "      <td>0.000022</td>\n",
       "      <td>balanced</td>\n",
       "      <td>1</td>\n",
       "      <td>10</td>\n",
       "      <td>2</td>\n",
       "      <td>{'class_weight': 'balanced', 'max_depth': 1, '...</td>\n",
       "      <td>0.139959</td>\n",
       "      <td>0.141682</td>\n",
       "      <td>0.159813</td>\n",
       "      <td>0.165601</td>\n",
       "      <td>0.149687</td>\n",
       "      <td>0.151348</td>\n",
       "      <td>0.010007</td>\n",
       "      <td>40</td>\n",
       "    </tr>\n",
       "    <tr>\n",
       "      <th>4</th>\n",
       "      <td>0.015771</td>\n",
       "      <td>0.000251</td>\n",
       "      <td>0.003206</td>\n",
       "      <td>0.000194</td>\n",
       "      <td>balanced</td>\n",
       "      <td>1</td>\n",
       "      <td>10</td>\n",
       "      <td>21</td>\n",
       "      <td>{'class_weight': 'balanced', 'max_depth': 1, '...</td>\n",
       "      <td>0.139959</td>\n",
       "      <td>0.141682</td>\n",
       "      <td>0.159813</td>\n",
       "      <td>0.165601</td>\n",
       "      <td>0.149687</td>\n",
       "      <td>0.151348</td>\n",
       "      <td>0.010007</td>\n",
       "      <td>40</td>\n",
       "    </tr>\n",
       "    <tr>\n",
       "      <th>...</th>\n",
       "      <td>...</td>\n",
       "      <td>...</td>\n",
       "      <td>...</td>\n",
       "      <td>...</td>\n",
       "      <td>...</td>\n",
       "      <td>...</td>\n",
       "      <td>...</td>\n",
       "      <td>...</td>\n",
       "      <td>...</td>\n",
       "      <td>...</td>\n",
       "      <td>...</td>\n",
       "      <td>...</td>\n",
       "      <td>...</td>\n",
       "      <td>...</td>\n",
       "      <td>...</td>\n",
       "      <td>...</td>\n",
       "      <td>...</td>\n",
       "    </tr>\n",
       "    <tr>\n",
       "      <th>85</th>\n",
       "      <td>0.087618</td>\n",
       "      <td>0.001740</td>\n",
       "      <td>0.004935</td>\n",
       "      <td>0.000286</td>\n",
       "      <td>None</td>\n",
       "      <td>50</td>\n",
       "      <td>10</td>\n",
       "      <td>21</td>\n",
       "      <td>{'class_weight': None, 'max_depth': 50, 'min_s...</td>\n",
       "      <td>0.034735</td>\n",
       "      <td>0.034608</td>\n",
       "      <td>0.022367</td>\n",
       "      <td>0.018692</td>\n",
       "      <td>0.021858</td>\n",
       "      <td>0.026452</td>\n",
       "      <td>0.006829</td>\n",
       "      <td>58</td>\n",
       "    </tr>\n",
       "    <tr>\n",
       "      <th>86</th>\n",
       "      <td>0.086087</td>\n",
       "      <td>0.001326</td>\n",
       "      <td>0.004689</td>\n",
       "      <td>0.000248</td>\n",
       "      <td>None</td>\n",
       "      <td>50</td>\n",
       "      <td>10</td>\n",
       "      <td>40</td>\n",
       "      <td>{'class_weight': None, 'max_depth': 50, 'min_s...</td>\n",
       "      <td>0.027650</td>\n",
       "      <td>0.013208</td>\n",
       "      <td>0.026071</td>\n",
       "      <td>0.022430</td>\n",
       "      <td>0.016838</td>\n",
       "      <td>0.021239</td>\n",
       "      <td>0.005472</td>\n",
       "      <td>66</td>\n",
       "    </tr>\n",
       "    <tr>\n",
       "      <th>87</th>\n",
       "      <td>0.081847</td>\n",
       "      <td>0.002187</td>\n",
       "      <td>0.004477</td>\n",
       "      <td>0.000021</td>\n",
       "      <td>None</td>\n",
       "      <td>50</td>\n",
       "      <td>20</td>\n",
       "      <td>2</td>\n",
       "      <td>{'class_weight': None, 'max_depth': 50, 'min_s...</td>\n",
       "      <td>0.009506</td>\n",
       "      <td>0.005764</td>\n",
       "      <td>0.009597</td>\n",
       "      <td>0.001919</td>\n",
       "      <td>0.001938</td>\n",
       "      <td>0.005745</td>\n",
       "      <td>0.003409</td>\n",
       "      <td>70</td>\n",
       "    </tr>\n",
       "    <tr>\n",
       "      <th>88</th>\n",
       "      <td>0.080553</td>\n",
       "      <td>0.001865</td>\n",
       "      <td>0.004409</td>\n",
       "      <td>0.000104</td>\n",
       "      <td>None</td>\n",
       "      <td>50</td>\n",
       "      <td>20</td>\n",
       "      <td>21</td>\n",
       "      <td>{'class_weight': None, 'max_depth': 50, 'min_s...</td>\n",
       "      <td>0.009506</td>\n",
       "      <td>0.005764</td>\n",
       "      <td>0.009597</td>\n",
       "      <td>0.001919</td>\n",
       "      <td>0.001938</td>\n",
       "      <td>0.005745</td>\n",
       "      <td>0.003409</td>\n",
       "      <td>70</td>\n",
       "    </tr>\n",
       "    <tr>\n",
       "      <th>89</th>\n",
       "      <td>0.081077</td>\n",
       "      <td>0.001878</td>\n",
       "      <td>0.004469</td>\n",
       "      <td>0.000128</td>\n",
       "      <td>None</td>\n",
       "      <td>50</td>\n",
       "      <td>20</td>\n",
       "      <td>40</td>\n",
       "      <td>{'class_weight': None, 'max_depth': 50, 'min_s...</td>\n",
       "      <td>0.009506</td>\n",
       "      <td>0.005764</td>\n",
       "      <td>0.009597</td>\n",
       "      <td>0.001919</td>\n",
       "      <td>0.001938</td>\n",
       "      <td>0.005745</td>\n",
       "      <td>0.003409</td>\n",
       "      <td>70</td>\n",
       "    </tr>\n",
       "  </tbody>\n",
       "</table>\n",
       "<p>90 rows × 17 columns</p>\n",
       "</div>"
      ],
      "text/plain": [
       "    mean_fit_time  std_fit_time  mean_score_time  std_score_time  \\\n",
       "0        0.024623      0.008023         0.004033        0.000401   \n",
       "1        0.016372      0.000556         0.003204        0.000114   \n",
       "2        0.016467      0.001206         0.003362        0.000372   \n",
       "3        0.015537      0.000121         0.002985        0.000022   \n",
       "4        0.015771      0.000251         0.003206        0.000194   \n",
       "..            ...           ...              ...             ...   \n",
       "85       0.087618      0.001740         0.004935        0.000286   \n",
       "86       0.086087      0.001326         0.004689        0.000248   \n",
       "87       0.081847      0.002187         0.004477        0.000021   \n",
       "88       0.080553      0.001865         0.004409        0.000104   \n",
       "89       0.081077      0.001878         0.004469        0.000128   \n",
       "\n",
       "   param_class_weight param_max_depth param_min_samples_leaf  \\\n",
       "0            balanced               1                      1   \n",
       "1            balanced               1                      1   \n",
       "2            balanced               1                      1   \n",
       "3            balanced               1                     10   \n",
       "4            balanced               1                     10   \n",
       "..                ...             ...                    ...   \n",
       "85               None              50                     10   \n",
       "86               None              50                     10   \n",
       "87               None              50                     20   \n",
       "88               None              50                     20   \n",
       "89               None              50                     20   \n",
       "\n",
       "   param_min_samples_split                                             params  \\\n",
       "0                        2  {'class_weight': 'balanced', 'max_depth': 1, '...   \n",
       "1                       21  {'class_weight': 'balanced', 'max_depth': 1, '...   \n",
       "2                       40  {'class_weight': 'balanced', 'max_depth': 1, '...   \n",
       "3                        2  {'class_weight': 'balanced', 'max_depth': 1, '...   \n",
       "4                       21  {'class_weight': 'balanced', 'max_depth': 1, '...   \n",
       "..                     ...                                                ...   \n",
       "85                      21  {'class_weight': None, 'max_depth': 50, 'min_s...   \n",
       "86                      40  {'class_weight': None, 'max_depth': 50, 'min_s...   \n",
       "87                       2  {'class_weight': None, 'max_depth': 50, 'min_s...   \n",
       "88                      21  {'class_weight': None, 'max_depth': 50, 'min_s...   \n",
       "89                      40  {'class_weight': None, 'max_depth': 50, 'min_s...   \n",
       "\n",
       "    split0_test_score  split1_test_score  split2_test_score  \\\n",
       "0            0.139959           0.141682           0.159813   \n",
       "1            0.139959           0.141682           0.159813   \n",
       "2            0.139959           0.141682           0.159813   \n",
       "3            0.139959           0.141682           0.159813   \n",
       "4            0.139959           0.141682           0.159813   \n",
       "..                ...                ...                ...   \n",
       "85           0.034735           0.034608           0.022367   \n",
       "86           0.027650           0.013208           0.026071   \n",
       "87           0.009506           0.005764           0.009597   \n",
       "88           0.009506           0.005764           0.009597   \n",
       "89           0.009506           0.005764           0.009597   \n",
       "\n",
       "    split3_test_score  split4_test_score  mean_test_score  std_test_score  \\\n",
       "0            0.165601           0.149687         0.151348        0.010007   \n",
       "1            0.165601           0.149687         0.151348        0.010007   \n",
       "2            0.165601           0.149687         0.151348        0.010007   \n",
       "3            0.165601           0.149687         0.151348        0.010007   \n",
       "4            0.165601           0.149687         0.151348        0.010007   \n",
       "..                ...                ...              ...             ...   \n",
       "85           0.018692           0.021858         0.026452        0.006829   \n",
       "86           0.022430           0.016838         0.021239        0.005472   \n",
       "87           0.001919           0.001938         0.005745        0.003409   \n",
       "88           0.001919           0.001938         0.005745        0.003409   \n",
       "89           0.001919           0.001938         0.005745        0.003409   \n",
       "\n",
       "    rank_test_score  \n",
       "0                40  \n",
       "1                40  \n",
       "2                40  \n",
       "3                40  \n",
       "4                40  \n",
       "..              ...  \n",
       "85               58  \n",
       "86               66  \n",
       "87               70  \n",
       "88               70  \n",
       "89               70  \n",
       "\n",
       "[90 rows x 17 columns]"
      ]
     },
     "execution_count": 93,
     "metadata": {},
     "output_type": "execute_result"
    }
   ],
   "source": [
    "pd.DataFrame(tree_opt.cv_results_)"
   ]
  },
  {
   "cell_type": "markdown",
   "metadata": {},
   "source": [
    "# Onde praticar"
   ]
  },
  {
   "cell_type": "code",
   "execution_count": 75,
   "metadata": {},
   "outputs": [],
   "source": [
    "from sklearn import datasets"
   ]
  },
  {
   "cell_type": "markdown",
   "metadata": {},
   "source": [
    "## Iris\n",
    "https://en.wikipedia.org/wiki/Iris_flower_data_set"
   ]
  },
  {
   "cell_type": "code",
   "execution_count": null,
   "metadata": {},
   "outputs": [],
   "source": [
    "tb_iris = datasets.load_iris()"
   ]
  },
  {
   "cell_type": "markdown",
   "metadata": {},
   "source": [
    "## Wisconsin Breast Cancer\n",
    "\n",
    "https://scikit-learn.org/stable/datasets/toy_dataset.html#breast-cancer-dataset\n",
    "\n",
    "https://archive.ics.uci.edu/ml/datasets/breast+cancer+wisconsin+(diagnostic)"
   ]
  },
  {
   "cell_type": "code",
   "execution_count": null,
   "metadata": {},
   "outputs": [],
   "source": [
    "tb_cancer = datasets.load_breast_cancer()"
   ]
  },
  {
   "cell_type": "code",
   "execution_count": null,
   "metadata": {},
   "outputs": [],
   "source": []
  }
 ],
 "metadata": {
  "interpreter": {
   "hash": "014f4a4a5af8f0104b12c029e500f4146d6d785e8cf714d2a35b7a9514230cd3"
  },
  "kernelspec": {
   "display_name": "Python 3 (ipykernel)",
   "language": "python",
   "name": "python3"
  },
  "language_info": {
   "codemirror_mode": {
    "name": "ipython",
    "version": 3
   },
   "file_extension": ".py",
   "mimetype": "text/x-python",
   "name": "python",
   "nbconvert_exporter": "python",
   "pygments_lexer": "ipython3",
   "version": "3.9.11"
  },
  "toc": {
   "base_numbering": 1,
   "nav_menu": {},
   "number_sections": true,
   "sideBar": true,
   "skip_h1_title": false,
   "title_cell": "Table of Contents",
   "title_sidebar": "Contents",
   "toc_cell": false,
   "toc_position": {},
   "toc_section_display": true,
   "toc_window_display": false
  }
 },
 "nbformat": 4,
 "nbformat_minor": 2
}
