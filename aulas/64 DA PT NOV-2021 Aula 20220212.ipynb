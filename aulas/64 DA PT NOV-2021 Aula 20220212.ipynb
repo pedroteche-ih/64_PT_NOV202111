{
 "cells": [
  {
   "cell_type": "markdown",
   "id": "84654edc",
   "metadata": {
    "toc": true
   },
   "source": [
    "<h1>Table of Contents<span class=\"tocSkip\"></span></h1>\n",
    "<div class=\"toc\"><ul class=\"toc-item\"><li><span><a href=\"#Matplotlib-e-Seaborn\" data-toc-modified-id=\"Matplotlib-e-Seaborn-1\"><span class=\"toc-item-num\">1&nbsp;&nbsp;</span>Matplotlib e Seaborn</a></span><ul class=\"toc-item\"><li><span><a href=\"#Some-References\" data-toc-modified-id=\"Some-References-1.1\"><span class=\"toc-item-num\">1.1&nbsp;&nbsp;</span>Some References</a></span></li><li><span><a href=\"#Matplotlib-Basics\" data-toc-modified-id=\"Matplotlib-Basics-1.2\"><span class=\"toc-item-num\">1.2&nbsp;&nbsp;</span>Matplotlib Basics</a></span><ul class=\"toc-item\"><li><span><a href=\"#A-simple-example\" data-toc-modified-id=\"A-simple-example-1.2.1\"><span class=\"toc-item-num\">1.2.1&nbsp;&nbsp;</span>A simple example</a></span></li><li><span><a href=\"#Let's-add-some-data\" data-toc-modified-id=\"Let's-add-some-data-1.2.2\"><span class=\"toc-item-num\">1.2.2&nbsp;&nbsp;</span>Let's add some data</a></span></li><li><span><a href=\"#Figure\" data-toc-modified-id=\"Figure-1.2.3\"><span class=\"toc-item-num\">1.2.3&nbsp;&nbsp;</span>Figure</a></span></li><li><span><a href=\"#Axes\" data-toc-modified-id=\"Axes-1.2.4\"><span class=\"toc-item-num\">1.2.4&nbsp;&nbsp;</span>Axes</a></span></li><li><span><a href=\"#Axis\" data-toc-modified-id=\"Axis-1.2.5\"><span class=\"toc-item-num\">1.2.5&nbsp;&nbsp;</span>Axis</a></span></li><li><span><a href=\"#Two-ways-to-do-the-same-thing\" data-toc-modified-id=\"Two-ways-to-do-the-same-thing-1.2.6\"><span class=\"toc-item-num\">1.2.6&nbsp;&nbsp;</span>Two ways to do the same thing</a></span></li><li><span><a href=\"#Basic-Charts\" data-toc-modified-id=\"Basic-Charts-1.2.7\"><span class=\"toc-item-num\">1.2.7&nbsp;&nbsp;</span>Basic Charts</a></span><ul class=\"toc-item\"><li><span><a href=\"#Line-Chart\" data-toc-modified-id=\"Line-Chart-1.2.7.1\"><span class=\"toc-item-num\">1.2.7.1&nbsp;&nbsp;</span>Line Chart</a></span></li><li><span><a href=\"#Scatter-Plot\" data-toc-modified-id=\"Scatter-Plot-1.2.7.2\"><span class=\"toc-item-num\">1.2.7.2&nbsp;&nbsp;</span>Scatter Plot</a></span></li><li><span><a href=\"#Pie-Charts\" data-toc-modified-id=\"Pie-Charts-1.2.7.3\"><span class=\"toc-item-num\">1.2.7.3&nbsp;&nbsp;</span>Pie Charts</a></span></li></ul></li></ul></li><li><span><a href=\"#Seaborn-Basics\" data-toc-modified-id=\"Seaborn-Basics-1.3\"><span class=\"toc-item-num\">1.3&nbsp;&nbsp;</span>Seaborn Basics</a></span><ul class=\"toc-item\"><li><span><a href=\"#Matplotlib-vs-Seaborn\" data-toc-modified-id=\"Matplotlib-vs-Seaborn-1.3.1\"><span class=\"toc-item-num\">1.3.1&nbsp;&nbsp;</span>Matplotlib vs Seaborn</a></span></li><li><span><a href=\"#Exploring-Charts\" data-toc-modified-id=\"Exploring-Charts-1.3.2\"><span class=\"toc-item-num\">1.3.2&nbsp;&nbsp;</span>Exploring Charts</a></span><ul class=\"toc-item\"><li><span><a href=\"#Relational-Plot\" data-toc-modified-id=\"Relational-Plot-1.3.2.1\"><span class=\"toc-item-num\">1.3.2.1&nbsp;&nbsp;</span>Relational Plot</a></span></li><li><span><a href=\"#Statistical-Estimation\" data-toc-modified-id=\"Statistical-Estimation-1.3.2.2\"><span class=\"toc-item-num\">1.3.2.2&nbsp;&nbsp;</span>Statistical Estimation</a></span></li><li><span><a href=\"#Informative-distributional-summaries\" data-toc-modified-id=\"Informative-distributional-summaries-1.3.2.3\"><span class=\"toc-item-num\">1.3.2.3&nbsp;&nbsp;</span>Informative distributional summaries</a></span></li><li><span><a href=\"#Categorical-Data-With-Confidence-Interval\" data-toc-modified-id=\"Categorical-Data-With-Confidence-Interval-1.3.2.4\"><span class=\"toc-item-num\">1.3.2.4&nbsp;&nbsp;</span>Categorical Data With Confidence Interval</a></span></li><li><span><a href=\"#Heatmap\" data-toc-modified-id=\"Heatmap-1.3.2.5\"><span class=\"toc-item-num\">1.3.2.5&nbsp;&nbsp;</span>Heatmap</a></span></li></ul></li></ul></li></ul></li></ul></div>"
   ]
  },
  {
   "cell_type": "markdown",
   "id": "arbitrary-spencer",
   "metadata": {},
   "source": [
    "# Matplotlib e Seaborn\n",
    "\n",
    "## Some References\n",
    "\n",
    "* [Matplotlib Usage Guide](https://matplotlib.org/stable/tutorials/introductory/usage.html)\n",
    "* [Matplotlib Named Colors](https://matplotlib.org/3.1.1/gallery/color/named_colors.html)\n",
    "* [Visualization With Seaborn](https://jakevdp.github.io/PythonDataScienceHandbook/04.14-visualization-with-seaborn.html)\n",
    "----"
   ]
  },
  {
   "cell_type": "code",
   "execution_count": null,
   "id": "satellite-electron",
   "metadata": {},
   "outputs": [],
   "source": [
    "!pip3 install seaborn\n",
    "!pip3 install matplotlib"
   ]
  },
  {
   "cell_type": "code",
   "execution_count": null,
   "id": "dated-stomach",
   "metadata": {
    "ExecuteTime": {
     "end_time": "2022-02-12T11:44:40.526315Z",
     "start_time": "2022-02-12T11:44:40.255833Z"
    }
   },
   "outputs": [],
   "source": [
    "import numpy as np"
   ]
  },
  {
   "cell_type": "code",
   "execution_count": null,
   "id": "returning-determination",
   "metadata": {
    "ExecuteTime": {
     "end_time": "2022-02-12T11:44:41.259609Z",
     "start_time": "2022-02-12T11:44:40.922067Z"
    }
   },
   "outputs": [],
   "source": [
    "# Convenção de importação do matplotlib: plt\n",
    "import matplotlib.pyplot as plt"
   ]
  },
  {
   "cell_type": "code",
   "execution_count": null,
   "id": "royal-briefing",
   "metadata": {
    "ExecuteTime": {
     "end_time": "2022-02-12T11:44:41.849186Z",
     "start_time": "2022-02-12T11:44:41.836228Z"
    }
   },
   "outputs": [],
   "source": [
    "# Garante que o plot irá printar na sua tela\n",
    "%matplotlib inline"
   ]
  },
  {
   "cell_type": "markdown",
   "id": "systematic-poultry",
   "metadata": {},
   "source": [
    "---\n",
    "## Matplotlib Basics"
   ]
  },
  {
   "cell_type": "markdown",
   "id": "vertical-resistance",
   "metadata": {},
   "source": [
    "### A simple example\n",
    "\n",
    "Matplotlib graphs your data on `~.figure.Figure`\\s (i.e., windows, Jupyter\n",
    "widgets, etc.), each of which can contain one or more `~.axes.Axes` (i.e., an\n",
    "area where points can be specified in terms of x-y coordinates (or theta-r\n",
    "in a polar plot, or x-y-z in a 3D plot, etc.).  The most simple way of\n",
    "creating a figure with an axes is using `.pyplot.subplots`. We can then use\n",
    "`.Axes.plot` to draw some data on the axes:\n",
    "\n"
   ]
  },
  {
   "cell_type": "code",
   "execution_count": null,
   "id": "signal-science",
   "metadata": {
    "ExecuteTime": {
     "end_time": "2022-02-12T11:44:44.564335Z",
     "start_time": "2022-02-12T11:44:44.308920Z"
    }
   },
   "outputs": [],
   "source": [
    "# create a figure containing a single axes.\n",
    "fig, axs = plt.subplots(2, 1, figsize=(20,10))\n",
    "fig.suptitle('Meus gráficos')"
   ]
  },
  {
   "cell_type": "markdown",
   "id": "elegant-probe",
   "metadata": {},
   "source": [
    "### Let's add some data"
   ]
  },
  {
   "cell_type": "markdown",
   "id": "brave-grass",
   "metadata": {},
   "source": [
    "* Matplotlib Colors: https://matplotlib.org/stable/gallery/color/named_colors.html"
   ]
  },
  {
   "cell_type": "code",
   "execution_count": null,
   "id": "roman-omaha",
   "metadata": {
    "ExecuteTime": {
     "end_time": "2022-02-12T11:46:24.288693Z",
     "start_time": "2022-02-12T11:46:24.107152Z"
    }
   },
   "outputs": [],
   "source": [
    "# your code here!\n",
    "fig, axs = plt.subplots(1, 2, figsize=(10,5))\n",
    "axs[0].bar([1, 2, 3, 4], [1, 0, 2, 5], color='orange')\n",
    "axs[0].set_title('teste')\n",
    "axs[1].plot([1, 2, 3, 4], [1, 0, 2, 5], color='red')"
   ]
  },
  {
   "cell_type": "markdown",
   "id": "banner-intensity",
   "metadata": {},
   "source": [
    "### Figure\n",
    "* Parts of a figure: https://matplotlib.org/stable/gallery/showcase/anatomy.html"
   ]
  },
  {
   "cell_type": "code",
   "execution_count": null,
   "id": "silver-nursing",
   "metadata": {
    "ExecuteTime": {
     "end_time": "2022-02-11T21:51:14.994591Z",
     "start_time": "2022-02-11T21:51:14.972622Z"
    }
   },
   "outputs": [],
   "source": [
    "# an empty figure with no Axes\n",
    "fig = plt.figure()\n",
    "fig.suptitle('Título de um gráfico que não existe')\n",
    "plt.show()"
   ]
  },
  {
   "cell_type": "markdown",
   "id": "commercial-uruguay",
   "metadata": {},
   "source": [
    "### Axes\n",
    "* This is what you think of as 'a plot', it is the region of the image with the data space; \n",
    "* A given figure can contain many Axes, but a given Axes object can only be in one Figure; \n",
    "* The Axes contains two (or three in the case of 3D) Axis objects"
   ]
  },
  {
   "cell_type": "code",
   "execution_count": null,
   "id": "stable-survival",
   "metadata": {
    "ExecuteTime": {
     "end_time": "2022-02-11T21:51:23.730531Z",
     "start_time": "2022-02-11T21:51:23.614813Z"
    }
   },
   "outputs": [],
   "source": [
    "# a figure with a single Axes\n",
    "fig, ax = plt.subplots()"
   ]
  },
  {
   "cell_type": "code",
   "execution_count": null,
   "id": "conditional-westminster",
   "metadata": {
    "ExecuteTime": {
     "end_time": "2022-02-11T21:51:24.150690Z",
     "start_time": "2022-02-11T21:51:23.849311Z"
    }
   },
   "outputs": [],
   "source": [
    "# a figure with a 2x2 grid of Axes\n",
    "fig, ax = plt.subplots(2, 2)"
   ]
  },
  {
   "cell_type": "markdown",
   "id": "lasting-miami",
   "metadata": {},
   "source": [
    "### Axis"
   ]
  },
  {
   "cell_type": "code",
   "execution_count": null,
   "id": "imperial-surname",
   "metadata": {
    "ExecuteTime": {
     "end_time": "2022-02-12T11:49:03.637424Z",
     "start_time": "2022-02-12T11:49:03.299328Z"
    }
   },
   "outputs": [],
   "source": [
    "fig, ax = plt.subplots(2, 2, figsize=(10, 6))\n",
    "ax[1][0].plot([1, 2, 3, 4], [2, 1, 2, 1], color='purple')\n",
    "ax[1][0].set(ylim=(0, 5), xlim=(0, 5))\n",
    "fig.suptitle('Titulo da figura')\n",
    "ax[1][0].set_title('Fig 1 0')\n",
    "ax[1][1].set_title('Fig 1 1')\n",
    "ax[0][1].set_title('Fig 0 1')\n",
    "ax[0][0].set_title('Fig 0 0')"
   ]
  },
  {
   "cell_type": "markdown",
   "id": "seventh-delicious",
   "metadata": {},
   "source": [
    "### Two ways to do the same thing \n",
    "**The object-oriented interface and the pyplot interface**\n",
    "\n",
    "* WAY 1: Explicitly create figures and axes, and call methods on them (the \"object-oriented (OO) style\").\n",
    "* WAY 2: Rely on pyplot to automatically create and manage the figures and axes, and use pyplot functions for plotting (MATLAB-style Interface).\n",
    "\n",
    "https://jakevdp.github.io/PythonDataScienceHandbook/04.00-introduction-to-matplotlib.html"
   ]
  },
  {
   "cell_type": "code",
   "execution_count": null,
   "id": "interior-investigator",
   "metadata": {
    "ExecuteTime": {
     "end_time": "2022-02-12T11:50:01.340954Z",
     "start_time": "2022-02-12T11:50:01.161418Z"
    }
   },
   "outputs": [],
   "source": [
    "x = np.linspace(0, 2, 100)\n",
    "\n",
    "fig, ax = plt.subplots()\n",
    "ax.plot(x, x, label='linear')\n",
    "ax.plot(x, x**2, label='quadratic')\n",
    "ax.plot(x, x**3, label='cubic')\n",
    "ax.set_xlabel('x label')\n",
    "ax.set_ylabel('y label')\n",
    "ax.set_title('Simple Plot')\n",
    "ax.legend()"
   ]
  },
  {
   "cell_type": "code",
   "execution_count": null,
   "id": "raised-leather",
   "metadata": {
    "ExecuteTime": {
     "end_time": "2022-02-12T11:49:54.929161Z",
     "start_time": "2022-02-12T11:49:54.756932Z"
    }
   },
   "outputs": [],
   "source": [
    "x = np.linspace(0, 2, 100)\n",
    "\n",
    "plt.plot(x, x, label='linear')\n",
    "plt.plot(x, x**2, label='quadratic')\n",
    "plt.plot(x, x**3, label='cubic')\n",
    "plt.xlabel('x label')\n",
    "plt.ylabel('y label')\n",
    "plt.title('Simple Plot')\n",
    "plt.legend()"
   ]
  },
  {
   "cell_type": "markdown",
   "id": "lucky-tender",
   "metadata": {},
   "source": [
    "### Basic Charts"
   ]
  },
  {
   "cell_type": "markdown",
   "id": "opponent-period",
   "metadata": {},
   "source": [
    "#### Line Chart\n",
    "Line plots can be linear or non-linear depending on the kind of data we have."
   ]
  },
  {
   "cell_type": "code",
   "execution_count": null,
   "id": "african-chester",
   "metadata": {
    "ExecuteTime": {
     "end_time": "2022-02-12T11:50:59.331746Z",
     "start_time": "2022-02-12T11:50:59.322743Z"
    }
   },
   "outputs": [],
   "source": [
    "# Criar valores para x e y\n",
    "x = np.arange(0, 10, 1)\n",
    "y = np.linspace(0, 5, 10)"
   ]
  },
  {
   "cell_type": "code",
   "execution_count": null,
   "id": "inside-extreme",
   "metadata": {
    "ExecuteTime": {
     "end_time": "2022-02-12T11:51:00.060676Z",
     "start_time": "2022-02-12T11:50:59.959918Z"
    }
   },
   "outputs": [],
   "source": [
    "# Plotar valores a partir do módulo pyplot\n",
    "plt.plot(x, y)"
   ]
  },
  {
   "cell_type": "code",
   "execution_count": null,
   "id": "desirable-martin",
   "metadata": {
    "ExecuteTime": {
     "end_time": "2022-02-12T11:51:02.641040Z",
     "start_time": "2022-02-12T11:51:02.524189Z"
    }
   },
   "outputs": [],
   "source": [
    "# Plotar valores a partir do módulo pyplot com algumas configurações\n",
    "\n",
    "plt.plot(x, y, color='green', label='linear')\n",
    "plt.plot(x, y**2, color='orange', label='quadratic')\n",
    "\n",
    "plt.ylabel('y label')\n",
    "plt.ylabel('x label')\n",
    "\n",
    "plt.show()"
   ]
  },
  {
   "cell_type": "markdown",
   "id": "ceramic-consortium",
   "metadata": {},
   "source": [
    "#### Scatter Plot\n",
    "Scatter plots are very useful to see the relationship between two variables (also known as correlation)"
   ]
  },
  {
   "cell_type": "code",
   "execution_count": null,
   "id": "similar-bride",
   "metadata": {},
   "outputs": [],
   "source": [
    "# your code here!\n",
    "x = np.random.randn(10)\n",
    "y = np.random.randn(10)\n",
    "z = np.random.randn(10)\n",
    "\n",
    "plt.scatter(x, y, marker='X')\n",
    "plt.scatter(x, z, marker='*')"
   ]
  },
  {
   "cell_type": "markdown",
   "id": "animal-stream",
   "metadata": {},
   "source": [
    "#### Pie Charts\n",
    "\n",
    "It is a circular statistical graphic, which is divided into slices to illustrate numerical proportion of each slice. It is an important business tool to visually see the percentage shares of different components under investigation.\n",
    "\n"
   ]
  },
  {
   "cell_type": "code",
   "execution_count": null,
   "id": "nonprofit-server",
   "metadata": {
    "ExecuteTime": {
     "end_time": "2022-02-12T11:57:51.914016Z",
     "start_time": "2022-02-12T11:57:51.846042Z"
    }
   },
   "outputs": [],
   "source": [
    "# your code here!\n",
    "labels = ['Vegetarians', 'Non-Vegetarian', 'Vegans']\n",
    "sizes = [40.5, 45, 15]\n",
    "\n",
    "fig, ax = plt.subplots()\n",
    "ax.pie(sizes, \n",
    "       labels=labels, \n",
    "       autopct='%.1f%%', \n",
    "       startangle=90, \n",
    "       counterclock=False);"
   ]
  },
  {
   "cell_type": "markdown",
   "id": "referenced-coverage",
   "metadata": {},
   "source": [
    "---\n",
    "## Seaborn Basics\n",
    "Seaborn is a Python data visualization library based on matplotlib. It provides a high-level interface for drawing attractive and informative statistical graphics.\n",
    "\n",
    "**Matplotlib Cons**\n",
    "\n",
    "Matplotlib has proven to be an incredibly useful and popular visualization tool, but even avid users will admit it often leaves much to be desired. There are several valid complaints about Matplotlib that often come up:\n",
    "\n",
    "* Matplotlib's API is relatively **low level**. Doing sophisticated statistical visualization is possible, but often requires a lot of boilerplate code.\n",
    "* Matplotlib predated Pandas by more than a decade, and thus is **not designed for use with Pandas DataFrames**. In order to visualize data from a Pandas DataFrame, you must extract each Series and often concatenate them together into the right format. It would be nicer to have a plotting library that can intelligently use the DataFrame labels in a plot. [Source](https://jakevdp.github.io/PythonDataScienceHandbook/04.14-visualization-with-seaborn.html)\n",
    "\n",
    "\n",
    "\n",
    "**Relationship to Matplotlib**\n",
    "* While you can be productive using only seaborn functions, **full customization of your graphics will require some knowledge of matplotlib’s concepts and API.** \n",
    "* One aspect of the learning curve for new users of seaborn will be knowing when dropping down to the matplotlib layer is necessary to achieve a particular customization. On the other hand, users coming from matplotlib will find that much of their knowledge transfers. [Source](https://seaborn.pydata.org/introduction.html)"
   ]
  },
  {
   "cell_type": "markdown",
   "id": "higher-support",
   "metadata": {},
   "source": [
    "### Matplotlib vs Seaborn"
   ]
  },
  {
   "cell_type": "code",
   "execution_count": null,
   "id": "sharing-dialogue",
   "metadata": {
    "ExecuteTime": {
     "end_time": "2022-02-12T11:58:11.103830Z",
     "start_time": "2022-02-12T11:58:11.090836Z"
    }
   },
   "outputs": [],
   "source": [
    "# Create some data\n",
    "rng = np.random.RandomState(0)\n",
    "\n",
    "x = np.linspace(0, 10, 500)\n",
    "y = np.cumsum(rng.randn(500, 6), 0)"
   ]
  },
  {
   "cell_type": "code",
   "execution_count": null,
   "id": "compressed-bookmark",
   "metadata": {
    "ExecuteTime": {
     "end_time": "2022-02-12T11:58:11.833123Z",
     "start_time": "2022-02-12T11:58:11.652580Z"
    }
   },
   "outputs": [],
   "source": [
    "plt.plot(x, y)\n",
    "plt.legend('ABCDEF', ncol=2, loc='lower center');"
   ]
  },
  {
   "cell_type": "code",
   "execution_count": null,
   "id": "downtown-gambling",
   "metadata": {
    "ExecuteTime": {
     "end_time": "2022-02-12T11:59:45.731449Z",
     "start_time": "2022-02-12T11:59:44.439259Z"
    }
   },
   "outputs": [],
   "source": [
    "import seaborn as sns\n",
    "sns.set_style('dark')"
   ]
  },
  {
   "cell_type": "code",
   "execution_count": null,
   "id": "brilliant-moses",
   "metadata": {
    "ExecuteTime": {
     "end_time": "2022-02-12T11:59:45.950857Z",
     "start_time": "2022-02-12T11:59:45.732464Z"
    }
   },
   "outputs": [],
   "source": [
    "# same plotting code as above!\n",
    "plt.plot(x, y)\n",
    "plt.legend('ABCDEF', ncol=2, loc='lower center');"
   ]
  },
  {
   "cell_type": "markdown",
   "id": "advance-delaware",
   "metadata": {},
   "source": [
    "**Important!**\n",
    "\n",
    "* `sns.set()` uses the matplotlib rcParam system and will affect how all matplotlib plots look\n",
    "* [Aesthetics](https://seaborn.pydata.org/tutorial/aesthetics.html)"
   ]
  },
  {
   "cell_type": "markdown",
   "id": "superior-fifth",
   "metadata": {},
   "source": [
    "### Exploring Charts"
   ]
  },
  {
   "cell_type": "code",
   "execution_count": null,
   "id": "approximate-musical",
   "metadata": {
    "ExecuteTime": {
     "end_time": "2022-02-12T11:59:59.240379Z",
     "start_time": "2022-02-12T11:59:59.208464Z"
    }
   },
   "outputs": [],
   "source": [
    "tips = sns.load_dataset(\"tips\") # https://github.com/mwaskom/seaborn-data"
   ]
  },
  {
   "cell_type": "code",
   "execution_count": null,
   "id": "47995c51",
   "metadata": {
    "ExecuteTime": {
     "end_time": "2022-02-12T11:59:59.878719Z",
     "start_time": "2022-02-12T11:59:59.857802Z"
    }
   },
   "outputs": [],
   "source": [
    "tips.info()"
   ]
  },
  {
   "cell_type": "code",
   "execution_count": null,
   "id": "82b0833d",
   "metadata": {
    "ExecuteTime": {
     "end_time": "2022-02-12T12:00:00.280924Z",
     "start_time": "2022-02-12T12:00:00.249979Z"
    }
   },
   "outputs": [],
   "source": [
    "tips.describe()"
   ]
  },
  {
   "cell_type": "markdown",
   "id": "natural-extraction",
   "metadata": {},
   "source": [
    "#### Relational Plot"
   ]
  },
  {
   "cell_type": "markdown",
   "id": "chicken-agriculture",
   "metadata": {},
   "source": [
    "Let's understand the relationship between the `total_bill` and the `tips`, grouped by `time`,\n",
    "and for each `plot`, lets group by `smokers`, and the size of the marks is based on people on the table represented by `size` variable."
   ]
  },
  {
   "cell_type": "code",
   "execution_count": null,
   "id": "miniature-motion",
   "metadata": {
    "ExecuteTime": {
     "end_time": "2022-02-12T12:00:08.021569Z",
     "start_time": "2022-02-12T12:00:07.256586Z"
    }
   },
   "outputs": [],
   "source": [
    "sns.relplot(data=tips, col='time', x='total_bill', y='tip', style='smoker', hue='smoker', size='size')"
   ]
  },
  {
   "cell_type": "markdown",
   "id": "801e8489",
   "metadata": {},
   "source": [
    "##### EXERCICIO\n",
    "A variável `size` representa o número de pessoas em cada almoço/jantar. Crie as variáveis `bill_per_person` representando a conta por pessoa e `percentage_tip` representando a % da conta que foi deixada como gorjeta. Crie um gráfico utilizando as classificações `smoker`, `time` e `sex` (que representa o genêro da pessoa que pagou a conta) para investigar a relação, caso ela exista, entre as duas variáveis criadas"
   ]
  },
  {
   "cell_type": "markdown",
   "id": "alternate-anthropology",
   "metadata": {},
   "source": [
    "#### Statistical Estimation"
   ]
  },
  {
   "cell_type": "code",
   "execution_count": null,
   "id": "cooked-armor",
   "metadata": {
    "ExecuteTime": {
     "end_time": "2022-02-12T12:00:41.966297Z",
     "start_time": "2022-02-12T12:00:41.013805Z"
    }
   },
   "outputs": [],
   "source": [
    "sns.lmplot(data=tips, x='total_bill', y='tip', col='time', hue='smoker')"
   ]
  },
  {
   "cell_type": "markdown",
   "id": "cardiac-biology",
   "metadata": {},
   "source": [
    "#### Informative distributional summaries"
   ]
  },
  {
   "cell_type": "code",
   "execution_count": null,
   "id": "weird-looking",
   "metadata": {
    "ExecuteTime": {
     "end_time": "2022-02-12T12:01:26.488853Z",
     "start_time": "2022-02-12T12:01:26.478880Z"
    }
   },
   "outputs": [],
   "source": [
    "tips['time'].value_counts()"
   ]
  },
  {
   "cell_type": "code",
   "execution_count": null,
   "id": "finished-executive",
   "metadata": {
    "ExecuteTime": {
     "end_time": "2022-02-12T12:01:26.829528Z",
     "start_time": "2022-02-12T12:01:26.809589Z"
    }
   },
   "outputs": [],
   "source": [
    "tips.groupby('time')['total_bill'].mean()"
   ]
  },
  {
   "cell_type": "code",
   "execution_count": null,
   "id": "cardiac-stranger",
   "metadata": {
    "ExecuteTime": {
     "end_time": "2022-02-12T12:02:01.858453Z",
     "start_time": "2022-02-12T12:02:01.642002Z"
    }
   },
   "outputs": [],
   "source": [
    "sns.displot(data=tips, x='total_bill')\n",
    "plt.axvline(tips['total_bill'].mean(), color='red')\n",
    "plt.axvline(tips['total_bill'].median(), color='green')"
   ]
  },
  {
   "cell_type": "code",
   "execution_count": null,
   "id": "209b0528",
   "metadata": {
    "ExecuteTime": {
     "end_time": "2022-02-12T12:08:13.639095Z",
     "start_time": "2022-02-12T12:08:13.286064Z"
    }
   },
   "outputs": [],
   "source": [
    "sns.displot(data=tips, \n",
    "            x='total_bill', \n",
    "            hue='smoker')"
   ]
  },
  {
   "cell_type": "code",
   "execution_count": null,
   "id": "ceramic-demand",
   "metadata": {
    "ExecuteTime": {
     "end_time": "2022-02-12T12:08:50.254283Z",
     "start_time": "2022-02-12T12:08:49.914163Z"
    }
   },
   "outputs": [],
   "source": [
    "sns.displot(data=tips, x='tip', \n",
    "            fill = True,\n",
    "            kind='kde', \n",
    "            hue='smoker',\n",
    "            common_norm = False) "
   ]
  },
  {
   "cell_type": "markdown",
   "id": "5468b865",
   "metadata": {
    "ExecuteTime": {
     "end_time": "2022-02-12T12:11:24.419618Z",
     "start_time": "2022-02-12T12:11:24.409645Z"
    }
   },
   "source": [
    "##### EXERCICIO\n",
    "Crie um gráfico para investigar as distribuições condicionais do tamanho da gorjeta ao genêro do garçom/garçonete e o tipo de refeição (almoço e janta)"
   ]
  },
  {
   "cell_type": "markdown",
   "id": "authorized-rainbow",
   "metadata": {},
   "source": [
    "#### Categorical Data With Confidence Interval"
   ]
  },
  {
   "cell_type": "code",
   "execution_count": null,
   "id": "destroyed-lafayette",
   "metadata": {
    "ExecuteTime": {
     "end_time": "2022-02-12T12:12:23.149708Z",
     "start_time": "2022-02-12T12:12:23.141741Z"
    }
   },
   "outputs": [],
   "source": [
    "tips.groupby('day').total_bill.mean()"
   ]
  },
  {
   "cell_type": "code",
   "execution_count": null,
   "id": "golden-disposition",
   "metadata": {
    "ExecuteTime": {
     "end_time": "2022-02-12T12:20:41.496210Z",
     "start_time": "2022-02-12T12:20:41.217761Z"
    }
   },
   "outputs": [],
   "source": [
    "sns.catplot(data=tips, kind='box', x='time', y='total_bill', hue='smoker')"
   ]
  },
  {
   "cell_type": "code",
   "execution_count": null,
   "id": "69bfae29",
   "metadata": {
    "ExecuteTime": {
     "end_time": "2022-02-12T12:20:37.915298Z",
     "start_time": "2022-02-12T12:20:37.643674Z"
    }
   },
   "outputs": [],
   "source": [
    "sns.catplot(data=tips, kind='boxen', x='time', y='total_bill', hue='smoker')"
   ]
  },
  {
   "cell_type": "code",
   "execution_count": null,
   "id": "49dfc2b1",
   "metadata": {
    "ExecuteTime": {
     "end_time": "2022-02-12T12:21:00.760459Z",
     "start_time": "2022-02-12T12:21:00.404220Z"
    }
   },
   "outputs": [],
   "source": [
    "sns.catplot(data=tips, kind='violin', x='time', y='total_bill', hue='smoker')"
   ]
  },
  {
   "cell_type": "code",
   "execution_count": null,
   "id": "9cfb85b5",
   "metadata": {
    "ExecuteTime": {
     "end_time": "2022-02-12T12:19:51.666667Z",
     "start_time": "2022-02-12T12:19:51.500113Z"
    }
   },
   "outputs": [],
   "source": [
    "sns.violinplot(x='smoker', y=\"total_bill\", hue=\"time\",\n",
    "                    data=tips, palette=\"muted\", split=True)"
   ]
  },
  {
   "cell_type": "markdown",
   "id": "further-professional",
   "metadata": {},
   "source": [
    "#### Heatmap"
   ]
  },
  {
   "cell_type": "code",
   "execution_count": null,
   "id": "committed-dimension",
   "metadata": {
    "ExecuteTime": {
     "end_time": "2022-02-12T12:14:59.850337Z",
     "start_time": "2022-02-12T12:14:59.493024Z"
    }
   },
   "outputs": [],
   "source": [
    "flights_long = sns.load_dataset('flights')\n",
    "flights_long.head()"
   ]
  },
  {
   "cell_type": "code",
   "execution_count": null,
   "id": "collective-latin",
   "metadata": {
    "ExecuteTime": {
     "end_time": "2022-02-12T12:15:09.271109Z",
     "start_time": "2022-02-12T12:15:09.256121Z"
    }
   },
   "outputs": [],
   "source": [
    "flights_long_pivot = flights_long.pivot(index='month', columns='year', values='passengers')"
   ]
  },
  {
   "cell_type": "code",
   "execution_count": null,
   "id": "002be427",
   "metadata": {
    "ExecuteTime": {
     "end_time": "2022-02-12T12:15:30.935564Z",
     "start_time": "2022-02-12T12:15:30.909635Z"
    }
   },
   "outputs": [],
   "source": [
    "flights_long_pivot"
   ]
  },
  {
   "cell_type": "code",
   "execution_count": null,
   "id": "broke-welding",
   "metadata": {
    "ExecuteTime": {
     "end_time": "2022-02-12T12:17:01.294919Z",
     "start_time": "2022-02-12T12:17:00.994553Z"
    }
   },
   "outputs": [],
   "source": [
    "fig, ax = plt.subplots(figsize=(10, 7))\n",
    "\n",
    "sns.heatmap(flights_long_pivot, annot=False, fmt='d', cmap='inferno', \n",
    "            center=150, vmin=0, vmax=700)\n",
    "\n",
    "fig.suptitle('Total de voos ao longo dos anos e meses\\n\\nObserve que com o passar dos anos esse número vem aumentando, e para os meses de Junho e Julho...');"
   ]
  },
  {
   "cell_type": "code",
   "execution_count": null,
   "id": "separated-mississippi",
   "metadata": {
    "ExecuteTime": {
     "end_time": "2022-02-12T12:17:38.706653Z",
     "start_time": "2022-02-12T12:17:38.379499Z"
    }
   },
   "outputs": [],
   "source": [
    "sns.jointplot(data=tips, x='total_bill', y='tip')"
   ]
  },
  {
   "cell_type": "markdown",
   "id": "acceptable-detective",
   "metadata": {},
   "source": [
    "----\n",
    "\n",
    "https://seaborn.pydata.org/examples/index.html"
   ]
  }
 ],
 "metadata": {
  "hide_input": false,
  "kernelspec": {
   "display_name": "Python 3",
   "language": "python",
   "name": "python3"
  },
  "language_info": {
   "codemirror_mode": {
    "name": "ipython",
    "version": 3
   },
   "file_extension": ".py",
   "mimetype": "text/x-python",
   "name": "python",
   "nbconvert_exporter": "python",
   "pygments_lexer": "ipython3",
   "version": "3.8.8"
  },
  "toc": {
   "base_numbering": 1,
   "nav_menu": {},
   "number_sections": true,
   "sideBar": false,
   "skip_h1_title": false,
   "title_cell": "Table of Contents",
   "title_sidebar": "Contents",
   "toc_cell": true,
   "toc_position": {
    "height": "calc(100% - 180px)",
    "left": "10px",
    "top": "150px",
    "width": "212px"
   },
   "toc_section_display": false,
   "toc_window_display": false
  }
 },
 "nbformat": 4,
 "nbformat_minor": 5
}
