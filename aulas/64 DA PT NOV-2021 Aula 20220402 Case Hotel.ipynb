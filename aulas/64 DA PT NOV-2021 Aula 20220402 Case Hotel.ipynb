{
 "cells": [
  {
   "cell_type": "code",
   "execution_count": 1,
   "metadata": {},
   "outputs": [],
   "source": [
    "import pandas as pd\n",
    "import numpy as np\n",
    "\n",
    "from sklearn.model_selection import train_test_split\n",
    "from sklearn.decomposition import PCA\n",
    "from pandas_profiling import ProfileReport\n",
    "import warnings\n",
    "\n",
    "warnings.filterwarnings(\"ignore\")\n"
   ]
  },
  {
   "cell_type": "markdown",
   "metadata": {},
   "source": [
    "# Cancelamentos de Reservas\n",
    "\n",
    "https://www.kaggle.com/competitions/ih-hotel-booking"
   ]
  },
  {
   "cell_type": "code",
   "execution_count": 2,
   "metadata": {},
   "outputs": [],
   "source": [
    "tb_hotel = pd.read_csv(\"data/tb_hotel_traintest.csv\")\n"
   ]
  },
  {
   "cell_type": "markdown",
   "metadata": {},
   "source": [
    "* **hotel** - (str) Tipo de hotel.\n",
    "* **is_cancelled** - (binary) Variável binária indicando cancelamento da reserva (0 = não cancenlada, 1 = cancelada) - variável resposta do case.\n",
    "* **lead_time** - (int) Número de dias entre data da reserva e data de entrada no hotel (quando a reserva foi feita).\n",
    "* **arrival_date** - (date) Data de entrada no hotel (para quando a reserva é).\n",
    "* **stays_in_weekend_nights** - (int) Número de dias em finais de semana na reserva.\n",
    "* **stays_in_week_nights** - (int) Número de dias de semana na reserva.\n",
    "* **adults** - (int) Número de adultos.\n",
    "* **children** - (int) Número de crianças.\n",
    "* **babies** - (int) Número de bebes.\n",
    "* **meal** - (str) Tipo de refeição inclusa na reserva.\n",
    "* **country** - (str) País do cliente.\n",
    "* **market_segment** - (str) Segmentação de marketing do cliente.\n",
    "* **distribution_channel** - (str) Canal de vendas pelo qual a reserva foi feita.\n",
    "* **is_repeated_guest** - (binary) O cliente já ficou hospedado no hotel? (0 = não, 1 = sim).\n",
    "* **previous_cancellations** - (int) Quantas reservas o cliente já cancelou no passado.\n",
    "* **previous_bookings_not_canceled** - (int) Quantas reservas o cliente já fez e não cancelou no passado.\n",
    "* **reserved_room_type** - (str) Tipo de quarto desejado.\n",
    "* **assigned_room_type** - (str) Tipo de quarto reservado.\n",
    "* **booking_changes** -  (str) Número de mudanças na reserva entre data de reserva e entrada/cancelamento.\n",
    "* **deposit_type** - (str) Tipo de adiantamento feito no momento da reserva.\n",
    "* **agent** - (str) ID do Agente que fez a reserva (NA caso a reserva não tenha sido feita por um agente).\n",
    "* **company**  - (str) ID da empresa que fez a reserva (NA caso a reserva não seja corporativa)\n",
    "* **days_in_waiting_list** - (int) Quantos dias demorou a confirmação da reserva.\n",
    "* **customer_type** - (str) Tipo de reserva.\n",
    "* **adr** - (float) Average Daily Rate, preço médio de cada diária na reserva.\n",
    "* **required_car_parking_spaces** - (int) Número de vagas em estacionamento requisitadas na reserva.\n",
    "* **total_of_special_requests** - (int) Número de requisições especiais na reserva (cama dupla, andar, quarto com vista...)\n",
    "* **reservation_status_date** - (date) Data da última atualização feita na reserva."
   ]
  },
  {
   "cell_type": "code",
   "execution_count": 32,
   "metadata": {},
   "outputs": [
    {
     "data": {
      "text/html": [
       "<div>\n",
       "<style scoped>\n",
       "    .dataframe tbody tr th:only-of-type {\n",
       "        vertical-align: middle;\n",
       "    }\n",
       "\n",
       "    .dataframe tbody tr th {\n",
       "        vertical-align: top;\n",
       "    }\n",
       "\n",
       "    .dataframe thead th {\n",
       "        text-align: right;\n",
       "    }\n",
       "</style>\n",
       "<table border=\"1\" class=\"dataframe\">\n",
       "  <thead>\n",
       "    <tr style=\"text-align: right;\">\n",
       "      <th></th>\n",
       "      <th>hotel</th>\n",
       "      <th>is_cancelled</th>\n",
       "      <th>lead_time</th>\n",
       "      <th>stays_in_weekend_nights</th>\n",
       "      <th>stays_in_week_nights</th>\n",
       "      <th>adults</th>\n",
       "      <th>children</th>\n",
       "      <th>babies</th>\n",
       "      <th>meal</th>\n",
       "      <th>country</th>\n",
       "      <th>...</th>\n",
       "      <th>agent</th>\n",
       "      <th>company</th>\n",
       "      <th>days_in_waiting_list</th>\n",
       "      <th>customer_type</th>\n",
       "      <th>adr</th>\n",
       "      <th>required_car_parking_spaces</th>\n",
       "      <th>total_of_special_requests</th>\n",
       "      <th>reservation_status_date</th>\n",
       "      <th>arrival_date</th>\n",
       "      <th>id_booking</th>\n",
       "    </tr>\n",
       "  </thead>\n",
       "  <tbody>\n",
       "    <tr>\n",
       "      <th>0</th>\n",
       "      <td>Resort Hotel</td>\n",
       "      <td>0</td>\n",
       "      <td>342</td>\n",
       "      <td>0</td>\n",
       "      <td>0</td>\n",
       "      <td>2</td>\n",
       "      <td>0.0</td>\n",
       "      <td>0</td>\n",
       "      <td>BB</td>\n",
       "      <td>PRT</td>\n",
       "      <td>...</td>\n",
       "      <td>NaN</td>\n",
       "      <td>NaN</td>\n",
       "      <td>0</td>\n",
       "      <td>Transient</td>\n",
       "      <td>0.0</td>\n",
       "      <td>0</td>\n",
       "      <td>0</td>\n",
       "      <td>2015-07-01</td>\n",
       "      <td>2015-07-01</td>\n",
       "      <td>0</td>\n",
       "    </tr>\n",
       "    <tr>\n",
       "      <th>1</th>\n",
       "      <td>Resort Hotel</td>\n",
       "      <td>0</td>\n",
       "      <td>737</td>\n",
       "      <td>0</td>\n",
       "      <td>0</td>\n",
       "      <td>2</td>\n",
       "      <td>0.0</td>\n",
       "      <td>0</td>\n",
       "      <td>BB</td>\n",
       "      <td>PRT</td>\n",
       "      <td>...</td>\n",
       "      <td>NaN</td>\n",
       "      <td>NaN</td>\n",
       "      <td>0</td>\n",
       "      <td>Transient</td>\n",
       "      <td>0.0</td>\n",
       "      <td>0</td>\n",
       "      <td>0</td>\n",
       "      <td>2015-07-01</td>\n",
       "      <td>2015-07-01</td>\n",
       "      <td>1</td>\n",
       "    </tr>\n",
       "    <tr>\n",
       "      <th>2</th>\n",
       "      <td>Resort Hotel</td>\n",
       "      <td>0</td>\n",
       "      <td>7</td>\n",
       "      <td>0</td>\n",
       "      <td>1</td>\n",
       "      <td>1</td>\n",
       "      <td>0.0</td>\n",
       "      <td>0</td>\n",
       "      <td>BB</td>\n",
       "      <td>GBR</td>\n",
       "      <td>...</td>\n",
       "      <td>NaN</td>\n",
       "      <td>NaN</td>\n",
       "      <td>0</td>\n",
       "      <td>Transient</td>\n",
       "      <td>75.0</td>\n",
       "      <td>0</td>\n",
       "      <td>0</td>\n",
       "      <td>2015-07-02</td>\n",
       "      <td>2015-07-01</td>\n",
       "      <td>2</td>\n",
       "    </tr>\n",
       "    <tr>\n",
       "      <th>3</th>\n",
       "      <td>Resort Hotel</td>\n",
       "      <td>0</td>\n",
       "      <td>13</td>\n",
       "      <td>0</td>\n",
       "      <td>1</td>\n",
       "      <td>1</td>\n",
       "      <td>0.0</td>\n",
       "      <td>0</td>\n",
       "      <td>BB</td>\n",
       "      <td>GBR</td>\n",
       "      <td>...</td>\n",
       "      <td>304.0</td>\n",
       "      <td>NaN</td>\n",
       "      <td>0</td>\n",
       "      <td>Transient</td>\n",
       "      <td>75.0</td>\n",
       "      <td>0</td>\n",
       "      <td>0</td>\n",
       "      <td>2015-07-02</td>\n",
       "      <td>2015-07-01</td>\n",
       "      <td>3</td>\n",
       "    </tr>\n",
       "    <tr>\n",
       "      <th>4</th>\n",
       "      <td>Resort Hotel</td>\n",
       "      <td>0</td>\n",
       "      <td>14</td>\n",
       "      <td>0</td>\n",
       "      <td>2</td>\n",
       "      <td>2</td>\n",
       "      <td>0.0</td>\n",
       "      <td>0</td>\n",
       "      <td>BB</td>\n",
       "      <td>GBR</td>\n",
       "      <td>...</td>\n",
       "      <td>240.0</td>\n",
       "      <td>NaN</td>\n",
       "      <td>0</td>\n",
       "      <td>Transient</td>\n",
       "      <td>98.0</td>\n",
       "      <td>0</td>\n",
       "      <td>1</td>\n",
       "      <td>2015-07-03</td>\n",
       "      <td>2015-07-01</td>\n",
       "      <td>4</td>\n",
       "    </tr>\n",
       "  </tbody>\n",
       "</table>\n",
       "<p>5 rows × 29 columns</p>\n",
       "</div>"
      ],
      "text/plain": [
       "          hotel  is_cancelled  lead_time  stays_in_weekend_nights  \\\n",
       "0  Resort Hotel             0        342                        0   \n",
       "1  Resort Hotel             0        737                        0   \n",
       "2  Resort Hotel             0          7                        0   \n",
       "3  Resort Hotel             0         13                        0   \n",
       "4  Resort Hotel             0         14                        0   \n",
       "\n",
       "   stays_in_week_nights  adults  children  babies meal country  ...  agent  \\\n",
       "0                     0       2       0.0       0   BB     PRT  ...    NaN   \n",
       "1                     0       2       0.0       0   BB     PRT  ...    NaN   \n",
       "2                     1       1       0.0       0   BB     GBR  ...    NaN   \n",
       "3                     1       1       0.0       0   BB     GBR  ...  304.0   \n",
       "4                     2       2       0.0       0   BB     GBR  ...  240.0   \n",
       "\n",
       "  company  days_in_waiting_list  customer_type   adr  \\\n",
       "0     NaN                     0      Transient   0.0   \n",
       "1     NaN                     0      Transient   0.0   \n",
       "2     NaN                     0      Transient  75.0   \n",
       "3     NaN                     0      Transient  75.0   \n",
       "4     NaN                     0      Transient  98.0   \n",
       "\n",
       "  required_car_parking_spaces total_of_special_requests  \\\n",
       "0                           0                         0   \n",
       "1                           0                         0   \n",
       "2                           0                         0   \n",
       "3                           0                         0   \n",
       "4                           0                         1   \n",
       "\n",
       "   reservation_status_date arrival_date  id_booking  \n",
       "0               2015-07-01   2015-07-01           0  \n",
       "1               2015-07-01   2015-07-01           1  \n",
       "2               2015-07-02   2015-07-01           2  \n",
       "3               2015-07-02   2015-07-01           3  \n",
       "4               2015-07-03   2015-07-01           4  \n",
       "\n",
       "[5 rows x 29 columns]"
      ]
     },
     "execution_count": 32,
     "metadata": {},
     "output_type": "execute_result"
    }
   ],
   "source": [
    "tb_hotel.head()\n"
   ]
  },
  {
   "cell_type": "code",
   "execution_count": 33,
   "metadata": {},
   "outputs": [
    {
     "name": "stderr",
     "output_type": "stream",
     "text": [
      "/Users/pedroteche/opt/anaconda3/lib/python3.9/site-packages/multimethod/__init__.py:300: SettingWithCopyWarning: \n",
      "A value is trying to be set on a copy of a slice from a DataFrame\n",
      "\n",
      "See the caveats in the documentation: https://pandas.pydata.org/pandas-docs/stable/user_guide/indexing.html#returning-a-view-versus-a-copy\n",
      "  return func(*args, **kwargs)\n",
      "Summarize dataset: 100%|██████████| 19/19 [00:01<00:00, 18.86it/s, Completed]                    \n",
      "Generate report structure: 100%|██████████| 1/1 [00:00<00:00,  1.93it/s]\n",
      "                                                             \r"
     ]
    },
    {
     "data": {
      "application/vnd.jupyter.widget-view+json": {
       "model_id": "1086cdf05d2649f1846fe5a6f1f433f3",
       "version_major": 2,
       "version_minor": 0
      },
      "text/plain": [
       "VBox(children=(Tab(children=(Tab(children=(GridBox(children=(VBox(children=(GridspecLayout(children=(HTML(valu…"
      ]
     },
     "metadata": {},
     "output_type": "display_data"
    }
   ],
   "source": [
    "profile = ProfileReport(\n",
    "    tb_hotel[[\"lead_time\", \"adults\"]], title=\"Pandas Profiling Report\", explorative=True\n",
    ")\n",
    "profile.to_widgets()\n"
   ]
  },
  {
   "cell_type": "markdown",
   "metadata": {},
   "source": [
    "# Goal – Predictive Analytics"
   ]
  },
  {
   "cell_type": "markdown",
   "metadata": {},
   "source": [
    "## Definition\n",
    "\n",
    "In this stage we ask you to pick the booking dataset notebook you previously worked on and perform feature engineering and feature selection so that the dataset is ready for binary model classification training that furthermore be able to predict correctly if a booking instance will be cancelled or not.\n",
    "Requirements:\n",
    "- Feature engineering | Examples:\n",
    "    - Combine features\n",
    "    - Feature scaling transformations\n",
    "    - Binarizations\n",
    "- Feature selection\n",
    "- Predictive model implementation\n",
    "- Setup data splits (train/test)\n",
    "- Experiment at least 2 models\n",
    "    - What are their advantages?\n",
    "    - What are their disadvantages?\n",
    "- Evaluate models performance and implement other classification metrics\n",
    "- Briefly explain their meaning\n",
    "- Write notes explaining your decisions"
   ]
  },
  {
   "cell_type": "markdown",
   "metadata": {},
   "source": [
    "## Deliverable\n",
    "\n",
    "The main output of this stage is a prediction analytics notebook of a hotel bookings dataset with the aim of booking churn predictions. Notes must be included which explains your critical thinking and assumptions."
   ]
  },
  {
   "cell_type": "markdown",
   "metadata": {},
   "source": [
    "# Etapas de Construção de um Modelo\n",
    "\n",
    "Antes de seguir em frente com a atividade vamos relembrar as etapas para construir um modelo!"
   ]
  },
  {
   "cell_type": "markdown",
   "metadata": {},
   "source": [
    "## Leitura de dados\n",
    "\n",
    "A primeira etapa na construção de qualquer modelo é a obtenção dos dados. Isso pode ser *tão simples quanto carregar um dataset* da SKLEARN ou *tão complexo quanto construir um webscrapper*. \n",
    "\n",
    "No exemplo de hoje estaremos trabalhando sobre uma tabela disponibilizada em CSV. O checklist abaixo pode guia-lo no processo de carregar e validar a entrada de dados:\n",
    "\n",
    "- **Ler arquivo .csv para um DataFrame pandas**\n",
    "- **Validar número de colunas**\n",
    "- **Validar e tratar tipo das colunas** (principalmente datas através da função pd.to_datetime)\n",
    "- **Ler mapa de dados** (caso seja disponibilizado) para entender o que cada coluna representa."
   ]
  },
  {
   "cell_type": "markdown",
   "metadata": {},
   "source": [
    "## EDA (Análise Exploratória de Dados)\n",
    "\n",
    "A segunda etapa na construção de um modelo é a análise exploratória de dados. Neste momento buscamos *entender* o nosso conjunto de dados através de gráficos e tabelas que resumam a relação entre as diversas variáveis.\n",
    "\n",
    "Vamos relembrar dos objetivos dessa etapa:\n",
    "\n",
    "- **Avaliação de problemas nos dados** (missing value e informações incorretas)\n",
    "    - **Ferramentas:** .info, .describe, .head, mapa de dados\n",
    "- **Familiarização com o conteúdo de cada variável**\n",
    "    - **Ferramentas:** boxplots e histogramas, tabelas de contagem, pandas-profiling\n",
    "- **Mapeamento das relações entre meus features e minha variável resposta**\n",
    "    - **Ferramentas:** scatterplots e pairplots, .groupby, .pivot_table, PCA \n",
    "- **Feature Engineering** para criar novas variáveis\n",
    "    - **Ferramentas:** PCA, np.log, .qcut e .cut, np.where e .loc\n",
    "    - *Feature engineering é um dos aspectos mais complexos e impactantes* na construção de um modelo. As transformações mais comuns são as transformações numéricas (como o log), a discretização de variáveis continuas (através de cut, qcut ou np.where), a aglomeração de categorias, a binarização de variáveis continuas e categóricas.\n",
    "    \n",
    "Nesta etapa devemos investir tempo em tentar **ENTENDER O PROBLEMA**:\n",
    "\n",
    "- *Qual é o fenômeno que queremos modelar*?\n",
    "- *Sem considerar os dados, o que, conceitualmente, impacta minha variável resposta?*\n",
    "- *Considerando os dados, quais variáveis representam bem esses conceitos?*\n",
    "\n",
    "No entanto, devemos estar atentos ao **tempo disponível** para resolvermos o problema! Qualquer modelo pode ser melhorado se investirmos mais tempo nele, logo o tempo disponível é uma pré-condição do erro que iremos obter. O **processo de modelagem é iterativo** e a construção de modelos simples e imprecisos é uma etapa importante na construção de modelos complexos.\n",
    "\n",
    "Embora o principal resultado de uma análise exploratória seja o *aprofundamento do nosso conhecimento* sobre o problema, na prática também devemos obter um **FEATURE SET**, um conjunto de variáveis de entrada sobre o qual construíremos nossos modelos. Uma vez que tenhamos este feature set podemos dividi-lo em conjunto de treinamento e um de teste - sempre prestando atenção nos problemas de **leakage**:\n",
    "\n",
    "- Caso o nosso feature set contenha transformações que sejam calculadas a partir dos dados (por exemplo normalização ou PCA) devemos construir estes transformadores utilizando apenas o conjunto train e então aplica-los ao conjunto teste.\n",
    "- Muitas vezes algumas variáveis de uma tabela podem ser contaminadas: por exemplo, em um problema de previsão binária de chuva não podemos utilizar a variável mm/h de chuva. Uma forma simples de tratar isso é se perguntar: terei esta variável no momento da previsão?"
   ]
  },
  {
   "cell_type": "markdown",
   "metadata": {},
   "source": [
    "## Modelo Baseline\n",
    "\n",
    "Os modelos de baseline são modelos simples (do ponto de vista matemático) que fornecem um erro base que tentaremos melhorar através da utilização de algoritmos mais sofisticados. Como vimos, muitos algoritmos tem hiperparâmetros que são criticos na construção de um modelo. A utilização de modelos simples nos dá um valor de comparação para avaliarmos os primeiros hiperparâmetros que testarmos.\n",
    "\n",
    "Dois modelos são comumemnte utilizados como baseline preditivo:\n",
    "\n",
    "- **Regressão logística**\n",
    "- **1-NN (kNN com n-neighbors = 1)**\n",
    "\n",
    "A *regressão logística é um modelo linear*, sem nenhum hiperparâmetro, ou seja, o resultado da regressão em si é fruto apenas das variáveis de entrada escolhidas.\n",
    "\n",
    "Além da simplicidade, **ela é uma ferramenta investigativa interessante** - possibilitando mapear os efeitos de variáveis específicas dentro de um feature set: como vimos a **colinearidade entre variáveis de entrada altera o impacto** que cada uma tem quando as consideramos conjuntamente. **A regressão nos permite desembaraçar estes efeitos!** Podemos utilizar simulações como vimos em aula para aumentar nossa compreensão do feature set escolhido.\n",
    "\n",
    "A grande limitação da regressão logística é a linearidade: muitas vezes a estimativa de erro da regressão será bem pessimista. **Para ter uma idéia da performance esperada de algoritmos não-lineares podemos utilizar o modelo 1-NN**. "
   ]
  },
  {
   "cell_type": "markdown",
   "metadata": {},
   "source": [
    "## Modelo Final\n",
    "\n",
    "Armados com uma estimativa de erro inicial, podemos prosseguir para a implantação de modelos utilizando algoritmos mais complexo, como árvores de decisão ou métodos de ensemble. Nessa etapa é crítico lembrar que estes algoritmos tem **hiperparâmetros que são determinantes em sua performance**. \n",
    "\n",
    "Podemos utilizar o **GridSearchCV** para encontrar os hiperparâmetros ótimos de um dado algoritmo, mas esse processo é custoso. Então vale a pena testar alguns valores bem separados para entender em que região cada hiperparâmetro parece funcionar melhor.\n",
    "\n",
    "Ao final desta etapa teremos uma avaliação de erro sobre nosso conjunto teste e devemos fazer uma submissão à competição :)\n",
    "\n",
    "**Agora, armados com todo o conhecimento que a construção dos modelos nos deu, podemos voltar à etapa de EDA para adicionar novos features, pensar em novos dados, enfim, recomeçar o processo, só que desta vez não do zero!**"
   ]
  },
  {
   "cell_type": "markdown",
   "metadata": {},
   "source": [
    "# (Uma) Solução Case Hotel"
   ]
  },
  {
   "cell_type": "markdown",
   "metadata": {},
   "source": [
    "## Data Load/Transform"
   ]
  },
  {
   "cell_type": "code",
   "execution_count": 3,
   "metadata": {},
   "outputs": [],
   "source": [
    "def transform_data(tb_hotel):\n",
    "    tb_hotel[\"arrival_date\"] = pd.to_datetime(tb_hotel[\"arrival_date\"])\n",
    "    tb_hotel[\"arrival_date_month\"] = tb_hotel[\"arrival_date\"].dt.month\n",
    "    tb_hotel[\"arrival_date_year\"] = tb_hotel[\"arrival_date\"].dt.year\n",
    "    tb_hotel[\"is_agent\"] = np.where(tb_hotel[\"agent\"].isna(), False, True)\n",
    "    tb_hotel[\"is_company\"] = np.where(tb_hotel[\"company\"].isna(), False, True)\n",
    "    tb_hotel[\"log_lead_time\"] = np.log(tb_hotel[\"lead_time\"] + 1)\n",
    "    tb_hotel[\"reservation_type\"] = np.where(\n",
    "        (tb_hotel[\"lead_time\"] + 1) < 10, \"last_minute\", \"scheduled\"\n",
    "    )\n",
    "    tb_hotel = tb_hotel.drop([\"company\", \"agent\"], axis=1)\n",
    "    tb_hotel = tb_hotel.dropna()\n",
    "    return tb_hotel\n",
    "\n",
    "\n",
    "def create_country_agg(tb_hotel_trans):\n",
    "    train_data = tb_hotel_trans.copy()\n",
    "    train_data[\"n_rows_country\"] = train_data.groupby([\"country\"])[\"country\"].transform(\n",
    "        \"count\"\n",
    "    )\n",
    "    train_data[\"grouped_country\"] = np.where(\n",
    "        train_data[\"n_rows_country\"] < 5000, \"other\", train_data[\"country\"]\n",
    "    )\n",
    "    tb_depara_country = (\n",
    "        train_data.groupby([\"country\", \"grouped_country\"]).count().reset_index()\n",
    "    )\n",
    "    return tb_depara_country[[\"country\", \"grouped_country\"]]\n",
    "\n",
    "\n",
    "def create_season(tb_hotel_trans, depara_country):\n",
    "    train_data = tb_hotel_trans.copy()\n",
    "    train_data = train_data.merge(depara_country, on=\"country\")\n",
    "    table = (\n",
    "        train_data.groupby(\n",
    "            [\"grouped_country\", \"arrival_date_year\", \"arrival_date_month\"]\n",
    "        )\n",
    "        .agg(\n",
    "            n_cancelled=pd.NamedAgg(\"is_cancelled\", \"sum\"),\n",
    "            n_reservas=pd.NamedAgg(\"is_cancelled\", \"count\"),\n",
    "        )\n",
    "        .reset_index()\n",
    "    )\n",
    "    table[\"n_total\"] = table[\"n_reservas\"] - table[\"n_cancelled\"]\n",
    "    table[\"country_year_total\"] = (\n",
    "        table.groupby([\"grouped_country\", \"arrival_date_year\"])[\"n_total\"].transform(\n",
    "            \"sum\"\n",
    "        )\n",
    "    ) / 12\n",
    "    table[\"season_index\"] = table[\"n_total\"] / table[\"country_year_total\"]\n",
    "    table[\"high_season\"] = np.where(table[\"season_index\"] < 1, 0, 1)\n",
    "    table_agg = (\n",
    "        table.sort_values([\"grouped_country\", \"arrival_date_year\"])\n",
    "        .groupby([\"grouped_country\", \"arrival_date_month\"])\n",
    "        .agg(\n",
    "            n_high=pd.NamedAgg(\"high_season\", \"sum\"),\n",
    "            n_total=pd.NamedAgg(\"high_season\", \"count\"),\n",
    "        )\n",
    "        .reset_index()\n",
    "    )\n",
    "    table_agg[\"high_season\"] = np.where(\n",
    "        table_agg[\"n_high\"] >= table_agg[\"n_total\"], 1, 0\n",
    "    )\n",
    "    table_agg = table_agg[[\"grouped_country\", \"arrival_date_month\", \"high_season\"]]\n",
    "    return table_agg\n",
    "\n",
    "\n",
    "def transform_country(tb_hotel_trans, tb_depara_country, tb_season):\n",
    "    train_data = tb_hotel_trans.copy()\n",
    "    train_data = train_data.merge(tb_depara_country, on=\"country\")\n",
    "    train_data = train_data.merge(\n",
    "        tb_season, on=[\"grouped_country\", \"arrival_date_month\"]\n",
    "    )\n",
    "    return train_data\n"
   ]
  },
  {
   "cell_type": "code",
   "execution_count": 4,
   "metadata": {},
   "outputs": [],
   "source": [
    "N = tb_hotel.shape[0]\n",
    "p = 0.75\n",
    "test_mask = np.random.choice(a=[False, True], size=N, p=(p, 1 - p))\n",
    "train_tb_hotel = tb_hotel[~test_mask].copy()\n",
    "test_tb_hotel = tb_hotel[test_mask].copy()\n"
   ]
  },
  {
   "cell_type": "code",
   "execution_count": 5,
   "metadata": {},
   "outputs": [],
   "source": [
    "train_tb_hotel_t = transform_data(train_tb_hotel)\n",
    "test_tb_hotel_t = transform_data(test_tb_hotel)\n",
    "tb_gc = create_country_agg(train_tb_hotel_t)\n",
    "tb_season = create_season(train_tb_hotel_t, tb_gc)\n",
    "train_tb_hotel_f = transform_country(train_tb_hotel_t, tb_gc, tb_season)\n",
    "test_tb_hotel_f = transform_country(test_tb_hotel_t, tb_gc, tb_season)\n"
   ]
  },
  {
   "cell_type": "markdown",
   "metadata": {},
   "source": [
    "## Regressão logística"
   ]
  },
  {
   "cell_type": "code",
   "execution_count": 8,
   "metadata": {},
   "outputs": [
    {
     "name": "stdout",
     "output_type": "stream",
     "text": [
      "Optimization terminated successfully.\n",
      "         Current function value: 0.596488\n",
      "         Iterations 6\n"
     ]
    },
    {
     "data": {
      "text/plain": [
       "<AxesSubplot:xlabel='log_lead_time', ylabel='pred_m1'>"
      ]
     },
     "execution_count": 8,
     "metadata": {},
     "output_type": "execute_result"
    },
    {
     "data": {
      "image/png": "[encoded data removed]",
      "text/plain": [
       "<Figure size 1152x576 with 2 Axes>"
      ]
     },
     "metadata": {
      "needs_background": "light"
     },
     "output_type": "display_data"
    }
   ],
   "source": [
    "import statsmodels.formula.api as fsm\n",
    "import seaborn as sns\n",
    "import matplotlib.pyplot as plt\n",
    "\n",
    "model = fsm.logit(\n",
    "    formula=\"is_cancelled ~ log_lead_time : reservation_type * is_company * high_season\",\n",
    "    data=train_tb_hotel_f,\n",
    ")\n",
    "fit = model.fit()\n",
    "fit.summary()\n",
    "train_tb_hotel_f[\"pred_m1\"] = fit.predict()\n",
    "\n",
    "fig, ax = plt.subplots(1, 2, figsize=(16, 8))\n",
    "sns.scatterplot(\n",
    "    data=train_tb_hotel_f,\n",
    "    x=\"lead_time\",\n",
    "    y=\"pred_m1\",\n",
    "    hue=\"is_company\",\n",
    "    size=\"high_season\",\n",
    "    ax=ax[0],\n",
    ")\n",
    "sns.scatterplot(\n",
    "    data=train_tb_hotel_f,\n",
    "    x=\"log_lead_time\",\n",
    "    y=\"pred_m1\",\n",
    "    hue=\"is_company\",\n",
    "    size=\"high_season\",\n",
    "    ax=ax[1],\n",
    ")\n"
   ]
  },
  {
   "cell_type": "code",
   "execution_count": 9,
   "metadata": {},
   "outputs": [],
   "source": [
    "import patsy\n",
    "from sklearn.linear_model import LogisticRegression\n",
    "from sklearn.preprocessing import StandardScaler\n",
    "from sklearn.metrics import f1_score, precision_score, recall_score\n"
   ]
  },
  {
   "cell_type": "code",
   "execution_count": 10,
   "metadata": {},
   "outputs": [
    {
     "data": {
      "text/plain": [
       "LogisticRegression()"
      ]
     },
     "execution_count": 10,
     "metadata": {},
     "output_type": "execute_result"
    }
   ],
   "source": [
    "y_train, X_train = patsy.dmatrices(\n",
    "    \"is_cancelled ~ log_lead_time : reservation_type * is_company * high_season\",\n",
    "    data=train_tb_hotel_f,\n",
    ")\n",
    "y_test, X_test = patsy.dmatrices(\n",
    "    \"is_cancelled ~ log_lead_time : reservation_type * is_company * high_season\",\n",
    "    data=test_tb_hotel_f,\n",
    ")\n",
    "scaler = StandardScaler()\n",
    "scaler.fit(X_train)\n",
    "log_fit = LogisticRegression()\n",
    "log_fit.fit(scaler.transform(X_train), y_train)\n"
   ]
  },
  {
   "cell_type": "code",
   "execution_count": 11,
   "metadata": {},
   "outputs": [
    {
     "name": "stdout",
     "output_type": "stream",
     "text": [
      "Precision: 0.5720758516529619\n",
      "Recall: 0.3221203817443069\n",
      "F1-Score: 0.41216297908354493\n"
     ]
    }
   ],
   "source": [
    "print(\n",
    "    f\"Precision: {precision_score(y_test, log_fit.predict(scaler.transform(X_test)))}\"\n",
    ")\n",
    "print(f\"Recall: {recall_score(y_test, log_fit.predict(scaler.transform(X_test)))}\")\n",
    "print(f\"F1-Score: {f1_score(y_test, log_fit.predict(scaler.transform(X_test)))}\")\n"
   ]
  },
  {
   "cell_type": "markdown",
   "metadata": {},
   "source": [
    "A precisão está bem mais alta que o recall, talvez possamos sacrifica-la um pouco alterando o threshold para obter um F1 melhor"
   ]
  },
  {
   "cell_type": "code",
   "execution_count": 12,
   "metadata": {},
   "outputs": [
    {
     "data": {
      "text/plain": [
       "Text(0.5, 1.0, 'Best Threshold: 0.27 w/ F-1: 0.6')"
      ]
     },
     "execution_count": 12,
     "metadata": {},
     "output_type": "execute_result"
    },
    {
     "data": {
      "image/png": "[encoded data removed]",
      "text/plain": [
       "<Figure size 432x288 with 1 Axes>"
      ]
     },
     "metadata": {
      "needs_background": "light"
     },
     "output_type": "display_data"
    }
   ],
   "source": [
    "threshold_list = np.linspace(0.05, 0.95, 200)\n",
    "test_proba = log_fit.predict_proba(scaler.transform(X_test))[:, -1]\n",
    "\n",
    "f1_list = []\n",
    "for threshold in threshold_list:\n",
    "    pred_label = np.where(test_proba < threshold, 0, 1)\n",
    "    f1 = f1_score(y_test, pred_label)\n",
    "    f1_list.append(f1)\n",
    "\n",
    "df_f1 = pd.DataFrame({\"threshold\": threshold_list, \"f1_score\": f1_list})\n",
    "df_f1[df_f1[\"f1_score\"] == max(df_f1[\"f1_score\"])]\n",
    "bt = df_f1[df_f1[\"f1_score\"] == max(df_f1[\"f1_score\"])][\"threshold\"].values[0]\n",
    "f1 = df_f1[df_f1[\"f1_score\"] == max(df_f1[\"f1_score\"])][\"f1_score\"].values[0]\n",
    "title = \"Best Threshold: \" + str(round(bt, 2)) + \" w/ F-1: \" + str(round(f1, 2))\n",
    "sns.lineplot(data=df_f1, x=\"threshold\", y=\"f1_score\").set_title(title)\n"
   ]
  },
  {
   "cell_type": "markdown",
   "metadata": {},
   "source": [
    "## 1NN"
   ]
  },
  {
   "cell_type": "code",
   "execution_count": 13,
   "metadata": {},
   "outputs": [],
   "source": [
    "from sklearn.neighbors import KNeighborsClassifier\n"
   ]
  },
  {
   "cell_type": "code",
   "execution_count": 14,
   "metadata": {},
   "outputs": [
    {
     "data": {
      "text/plain": [
       "KNeighborsClassifier(n_neighbors=1)"
      ]
     },
     "execution_count": 14,
     "metadata": {},
     "output_type": "execute_result"
    }
   ],
   "source": [
    "knn_fit = KNeighborsClassifier(n_neighbors=1)\n",
    "knn_fit.fit(scaler.transform(X_train), y_train)\n"
   ]
  },
  {
   "cell_type": "code",
   "execution_count": 15,
   "metadata": {},
   "outputs": [
    {
     "name": "stdout",
     "output_type": "stream",
     "text": [
      "Precision: 0.42788268380875855\n",
      "Recall: 0.7044316356420675\n",
      "F1-Score: 0.532385917303435\n"
     ]
    }
   ],
   "source": [
    "test_pred = knn_fit.predict(scaler.transform(X_test))\n",
    "print(f\"Precision: {precision_score(y_test, test_pred)}\")\n",
    "print(f\"Recall: {recall_score(y_test, test_pred)}\")\n",
    "print(f\"F1-Score: {f1_score(y_test, test_pred)}\")\n"
   ]
  },
  {
   "cell_type": "markdown",
   "metadata": {},
   "source": [
    "## Floresta Aleatória"
   ]
  },
  {
   "cell_type": "code",
   "execution_count": 16,
   "metadata": {},
   "outputs": [],
   "source": [
    "from sklearn.ensemble import RandomForestClassifier\n"
   ]
  },
  {
   "cell_type": "code",
   "execution_count": 17,
   "metadata": {},
   "outputs": [
    {
     "data": {
      "text/plain": [
       "RandomForestClassifier(class_weight='balanced', max_depth=1, n_estimators=1000)"
      ]
     },
     "execution_count": 17,
     "metadata": {},
     "output_type": "execute_result"
    }
   ],
   "source": [
    "stump_fit = RandomForestClassifier(\n",
    "    n_estimators=1000, max_depth=1, class_weight=\"balanced\"\n",
    ")\n",
    "stump_fit.fit(scaler.transform(X_train), y_train)\n"
   ]
  },
  {
   "cell_type": "code",
   "execution_count": 18,
   "metadata": {},
   "outputs": [
    {
     "name": "stdout",
     "output_type": "stream",
     "text": [
      "Precision: 0.4514486892811266\n",
      "Recall: 0.8966266654067845\n",
      "F1-Score: 0.600531611923296\n"
     ]
    }
   ],
   "source": [
    "test_pred = stump_fit.predict(scaler.transform(X_test))\n",
    "print(f\"Precision: {precision_score(y_test, test_pred)}\")\n",
    "print(f\"Recall: {recall_score(y_test, test_pred)}\")\n",
    "print(f\"F1-Score: {f1_score(y_test, test_pred)}\")\n"
   ]
  },
  {
   "cell_type": "markdown",
   "metadata": {},
   "source": [
    "## EDA II\n",
    "\n",
    "Este modelo inicial apresentou uma performance razoável a partir de um feature set bem pequeno. No entanto não consideramos muitas das variáveis categóricas que o dataset nos fornece."
   ]
  },
  {
   "cell_type": "code",
   "execution_count": 19,
   "metadata": {},
   "outputs": [],
   "source": [
    "from sklearn.feature_selection import chi2\n"
   ]
  },
  {
   "cell_type": "code",
   "execution_count": 20,
   "metadata": {},
   "outputs": [
    {
     "name": "stdout",
     "output_type": "stream",
     "text": [
      "<class 'pandas.core.frame.DataFrame'>\n",
      "Int64Index: 84626 entries, 0 to 84625\n",
      "Data columns (total 36 columns):\n",
      " #   Column                          Non-Null Count  Dtype         \n",
      "---  ------                          --------------  -----         \n",
      " 0   hotel                           84626 non-null  object        \n",
      " 1   is_cancelled                    84626 non-null  int64         \n",
      " 2   lead_time                       84626 non-null  int64         \n",
      " 3   stays_in_weekend_nights         84626 non-null  int64         \n",
      " 4   stays_in_week_nights            84626 non-null  int64         \n",
      " 5   adults                          84626 non-null  int64         \n",
      " 6   children                        84626 non-null  float64       \n",
      " 7   babies                          84626 non-null  int64         \n",
      " 8   meal                            84626 non-null  object        \n",
      " 9   country                         84626 non-null  object        \n",
      " 10  market_segment                  84626 non-null  object        \n",
      " 11  distribution_channel            84626 non-null  object        \n",
      " 12  is_repeated_guest               84626 non-null  int64         \n",
      " 13  previous_cancellations          84626 non-null  int64         \n",
      " 14  previous_bookings_not_canceled  84626 non-null  int64         \n",
      " 15  reserved_room_type              84626 non-null  object        \n",
      " 16  assigned_room_type              84626 non-null  object        \n",
      " 17  booking_changes                 84626 non-null  int64         \n",
      " 18  deposit_type                    84626 non-null  object        \n",
      " 19  days_in_waiting_list            84626 non-null  int64         \n",
      " 20  customer_type                   84626 non-null  object        \n",
      " 21  adr                             84626 non-null  float64       \n",
      " 22  required_car_parking_spaces     84626 non-null  int64         \n",
      " 23  total_of_special_requests       84626 non-null  int64         \n",
      " 24  reservation_status_date         84626 non-null  object        \n",
      " 25  arrival_date                    84626 non-null  datetime64[ns]\n",
      " 26  id_booking                      84626 non-null  int64         \n",
      " 27  arrival_date_month              84626 non-null  int64         \n",
      " 28  arrival_date_year               84626 non-null  int64         \n",
      " 29  is_agent                        84626 non-null  bool          \n",
      " 30  is_company                      84626 non-null  bool          \n",
      " 31  log_lead_time                   84626 non-null  float64       \n",
      " 32  reservation_type                84626 non-null  object        \n",
      " 33  grouped_country                 84626 non-null  object        \n",
      " 34  high_season                     84626 non-null  int64         \n",
      " 35  pred_m1                         84626 non-null  float64       \n",
      "dtypes: bool(2), datetime64[ns](1), float64(4), int64(17), object(12)\n",
      "memory usage: 22.8+ MB\n"
     ]
    }
   ],
   "source": [
    "train_tb_hotel_f.info()\n"
   ]
  },
  {
   "cell_type": "code",
   "execution_count": 21,
   "metadata": {},
   "outputs": [],
   "source": [
    "cat_train_tb_hotel_f = train_tb_hotel_f.select_dtypes(\"object\")\n",
    "cat_train_tb_hotel_f = cat_train_tb_hotel_f.drop(\n",
    "    [\"reservation_status_date\", \"country\"], axis=1\n",
    ")\n"
   ]
  },
  {
   "cell_type": "code",
   "execution_count": 22,
   "metadata": {},
   "outputs": [],
   "source": [
    "dummies_train_tb_hotel_f = pd.get_dummies(cat_train_tb_hotel_f)\n"
   ]
  },
  {
   "cell_type": "code",
   "execution_count": 23,
   "metadata": {},
   "outputs": [],
   "source": [
    "chi2_hotel, p_hotel = chi2(dummies_train_tb_hotel_f, train_tb_hotel_f[\"is_cancelled\"])\n"
   ]
  },
  {
   "cell_type": "code",
   "execution_count": 24,
   "metadata": {},
   "outputs": [
    {
     "data": {
      "text/plain": [
       "<AxesSubplot:xlabel='p_rank', ylabel='p_value'>"
      ]
     },
     "execution_count": 24,
     "metadata": {},
     "output_type": "execute_result"
    },
    {
     "data": {
      "image/png": "[encoded data removed]",
      "text/plain": [
       "<Figure size 432x288 with 1 Axes>"
      ]
     },
     "metadata": {
      "needs_background": "light"
     },
     "output_type": "display_data"
    }
   ],
   "source": [
    "cat_imp = pd.DataFrame(\n",
    "    {\"cat_value\": dummies_train_tb_hotel_f.columns, \"p_value\": p_hotel}\n",
    ")\n",
    "cat_imp[\"p_rank\"] = cat_imp[\"p_value\"].rank()\n",
    "sns.lineplot(data=cat_imp, x=\"p_rank\", y=\"p_value\")\n"
   ]
  },
  {
   "cell_type": "markdown",
   "metadata": {},
   "source": [
    "Como podemos ver no gráfico acima, algumas variáveis categóricas tem impactos muito relevantes sobre nossa variável resposta. No entanto, ainda temos muitas variáveis (mais que 40). Como essas variáveis são binárias, é muito dificil visualizar a estrura de correlação entre elas diretamente para tratar possíveis colinearidades. Podemos utilizar uma técnica de redução dimensional para tratar desse problema!\n",
    "\n",
    "Com o que aprendemos até agora poderíamos utilizar PCA para reduzir essas categorias à um conjunto de variáveis menor. Embora isso não seja errado, podemos utilizar uma técnica semelhante à PCA mas mais adequada à variáveis binárias ou de contagem (variáveis não-negativas): NMF (fatorização de matrizes não-negativas)."
   ]
  },
  {
   "cell_type": "code",
   "execution_count": 25,
   "metadata": {},
   "outputs": [],
   "source": [
    "# Importando NMF da SKLEARN\n",
    "from sklearn.decomposition import NMF\n"
   ]
  },
  {
   "cell_type": "markdown",
   "metadata": {},
   "source": [
    "Agora vamos criar um DataFrame apenas com as variáveis que selecionamos usando o método de Chiˆ2"
   ]
  },
  {
   "cell_type": "code",
   "execution_count": 26,
   "metadata": {},
   "outputs": [],
   "source": [
    "imp_dum = dummies_train_tb_hotel_f[\n",
    "    cat_imp.loc[cat_imp[\"p_value\"] < 0.01, \"cat_value\"].to_list()\n",
    "]\n"
   ]
  },
  {
   "cell_type": "markdown",
   "metadata": {},
   "source": [
    "Ao contrário de PCA, onde podemos utilizar a `explained_variance_ratio_` para calcular o número de componentes que queremos manter, não temos em NMF uma forma direta de estimar este número.\n",
    "\n",
    "Vamos utilizar um método simples para realizar essa estimativa:\n",
    "1. Primeiro vamos inicializar NMF com `i` componentes.\n",
    "1. Utilizamos o método `fit_transform` do objeto `nmf_fit` para fittar e calcular a projeção da nossa tabela `imp_dum`, guardando este resultado na matriz `nmf_decomp`.\n",
    "1. Separamos nosso conjunto de treinamento novamente em train e test.\n",
    "1. Utilizamos o resultado da transformação em uma regressão logística e calculamos o F1-score.\n",
    "1. Repetimos esse processo de **i = 1 à i = 19**.\n",
    "1. **Selecionamos o i que nos de a melhor regressão.**"
   ]
  },
  {
   "cell_type": "code",
   "execution_count": 27,
   "metadata": {},
   "outputs": [
    {
     "name": "stdout",
     "output_type": "stream",
     "text": [
      "1 NMF: F1 = 0.0\n",
      "2 NMF: F1 = 0.0\n",
      "3 NMF: F1 = 0.53\n",
      "4 NMF: F1 = 0.5\n",
      "5 NMF: F1 = 0.62\n",
      "6 NMF: F1 = 0.61\n",
      "7 NMF: F1 = 0.61\n",
      "8 NMF: F1 = 0.59\n",
      "9 NMF: F1 = 0.57\n",
      "10 NMF: F1 = 0.62\n",
      "11 NMF: F1 = 0.59\n",
      "12 NMF: F1 = 0.59\n",
      "13 NMF: F1 = 0.56\n",
      "14 NMF: F1 = 0.56\n",
      "15 NMF: F1 = 0.56\n",
      "16 NMF: F1 = 0.54\n",
      "17 NMF: F1 = 0.55\n",
      "18 NMF: F1 = 0.55\n",
      "19 NMF: F1 = 0.55\n"
     ]
    }
   ],
   "source": [
    "for i in range(1, 20):\n",
    "    nmf_fit = NMF(\n",
    "        beta_loss=\"kullback-leibler\", solver=\"mu\", n_components=i, init=\"nndsvdar\"\n",
    "    )\n",
    "\n",
    "    nmf_decomp = nmf_fit.fit_transform(imp_dum)\n",
    "    X_train, X_test, y_train, y_test = train_test_split(\n",
    "        nmf_decomp, train_tb_hotel_f[\"is_cancelled\"], test_size=0.2\n",
    "    )\n",
    "\n",
    "    log_nmf_fit = LogisticRegression()\n",
    "    log_nmf_fit.fit(X_train, y_train)\n",
    "    result = f1_score(y_test, log_nmf_fit.predict(X_test))\n",
    "    print(f\"{i} NMF: F1 = {round(result, 2)}\")\n"
   ]
  },
  {
   "cell_type": "markdown",
   "metadata": {},
   "source": [
    "Essa rotina produziu uma regressão com F1 de 0.6! Vamos funcionaliza-la e incorporar ao nosso modelo. Embora a função `pd.get_dummies` seja prática, por manter o nome das colunas intacto, para tarefas automatizadas o OneHotEncoder, da `sklearn.preprocessing`, é mais indicado: a `get_dummies` cria colunas para cada nível de categoria visto enquanto a `OneHotEncoder` cria sempre as mesmas colunas (mesmo que um nível não esteja presente ou que novos níveis apareçam)."
   ]
  },
  {
   "cell_type": "code",
   "execution_count": 28,
   "metadata": {},
   "outputs": [],
   "source": [
    "from sklearn.preprocessing import OneHotEncoder\n"
   ]
  },
  {
   "cell_type": "code",
   "execution_count": 34,
   "metadata": {},
   "outputs": [],
   "source": [
    "# O CAT_VAR_SET é o conjunto de variáveis categóricas que vamos utilizar.\n",
    "# Inicializado aqui como uma variável global para possibilitar alterações futuras nesse conjunto.\n",
    "CAT_VAR_SET = [\n",
    "    \"hotel\",\n",
    "    \"meal\",\n",
    "    \"market_segment\",\n",
    "    \"distribution_channel\",\n",
    "    \"reserved_room_type\",\n",
    "    \"assigned_room_type\",\n",
    "    \"deposit_type\",\n",
    "    \"customer_type\",\n",
    "    \"reservation_type\",\n",
    "    \"grouped_country\",\n",
    "]\n",
    "\n",
    "\n",
    "def create_relevant_set(hotel_data, p_value_chi=0.2):\n",
    "    \"\"\"\n",
    "    Cria o OneHotEncoder (uniformizando os níveis de cada categoria a partir daquilo observado no train set)\n",
    "    e retorna o objeto ohe_fit (contendo o encoder) e a lista imp_dum, com o nome das colunas dummies\n",
    "    que se mostraram relevantes através do chi2. Podemos alterar o parâmetro p_value_chi para escolher\n",
    "    diferentes níveis de relevância.\n",
    "    \"\"\"\n",
    "    global CAT_VAR_SET\n",
    "\n",
    "    cat_train_tb_hotel_f = hotel_data[CAT_VAR_SET]\n",
    "    ohe_fit = OneHotEncoder(handle_unknown=\"ignore\")\n",
    "    dummies_train_tb_hotel_f = ohe_fit.fit_transform(cat_train_tb_hotel_f)\n",
    "    chi2_hotel, p_hotel = chi2(dummies_train_tb_hotel_f, hotel_data[\"is_cancelled\"])\n",
    "    cat_imp = pd.DataFrame(\n",
    "        {\"cat_value\": ohe_fit.get_feature_names_out(), \"p_value\": p_hotel}\n",
    "    )\n",
    "    imp_dum = cat_imp.loc[cat_imp[\"p_value\"] < p_value_chi, \"cat_value\"].to_list()\n",
    "    return ohe_fit, imp_dum\n",
    "\n",
    "\n",
    "def estimate_nmf(hotel_data):\n",
    "    \"\"\"\n",
    "    Cria o NMF a partir dos dados hotel_data. Retorna o objeto NMF resultado do fit, o encoder e a lista de\n",
    "    variáveis importantes. Para criar o encoder e a lista de variáveis utilizamos a função create_relevant_set.\n",
    "    Utilizamos a rotina que desenvolvemos na etapa acima para estimar o melhor número de componentes para o nmf_fit.\n",
    "    \"\"\"\n",
    "    global CAT_VAR_SET\n",
    "    ohe_fit, imp_var = create_relevant_set(hotel_data)\n",
    "    imp_cat = ohe_fit.transform(hotel_data[CAT_VAR_SET])\n",
    "    tb_imp_cat = pd.DataFrame.sparse.from_spmatrix(imp_cat)\n",
    "    tb_imp_cat.columns = ohe_fit.get_feature_names_out()\n",
    "    tb_imp_cat = tb_imp_cat[imp_var]\n",
    "    f1_score_list = []\n",
    "    for i in range(1, 6):\n",
    "        nmf_fit = NMF(\n",
    "            beta_loss=\"kullback-leibler\", solver=\"mu\", n_components=i, init=\"nndsvda\"\n",
    "        )\n",
    "        nmf_decomp = nmf_fit.fit_transform(tb_imp_cat)\n",
    "        X_train, X_test, y_train, y_test = train_test_split(\n",
    "            nmf_decomp, train_tb_hotel_f[\"is_cancelled\"], test_size=0.2\n",
    "        )\n",
    "        log_nmf_fit = LogisticRegression()\n",
    "        log_nmf_fit.fit(X_train, y_train)\n",
    "        n_score = f1_score(y_test, log_nmf_fit.predict(X_test))\n",
    "        print(f\"N Comp.: {i} F1: {n_score}\")\n",
    "        f1_score_list.append(n_score)\n",
    "    best_n = np.argmax(np.array(f1_score_list))\n",
    "    print(f\"Best N: {best_n + 1}\")\n",
    "    nmf_fit = NMF(\n",
    "        beta_loss=\"kullback-leibler\",\n",
    "        solver=\"mu\",\n",
    "        n_components=best_n + 1,\n",
    "        init=\"nndsvda\",\n",
    "    )\n",
    "    nmf_fit.fit(tb_imp_cat)\n",
    "    return ohe_fit, imp_var, nmf_fit\n",
    "\n",
    "\n",
    "def project_nmf(ohe_fit, imp_var, nmf_fit, hotel_data):\n",
    "    \"\"\"\n",
    "    Projeta, a partir de um encoder, uma lista de variáveis importantes e um NMF fit, os componentes do NMF.fit\n",
    "    Separar a etapa de treinamento da etapa de transformação do NMF é importante para que não tenhamos leakage,\n",
    "    treinando o NMF a partir do conjunto de dados total. Essa função retorna os dados alimentados através do\n",
    "    hotel_data enriquecidos com os componentes estimados pelo NMF.\n",
    "    \"\"\"\n",
    "    # Primeiro usamos o OneHotEncoder para calcular as variáveis dummies do nosso CAT_VAR_SET\n",
    "    imp_cat = ohe_fit.transform(hotel_data[CAT_VAR_SET])\n",
    "    tb_imp_cat = pd.DataFrame.sparse.from_spmatrix(imp_cat)\n",
    "    # Transformamos o resultado em um DataFrame para conseguirmos filtrar as colunas\n",
    "    # pelo nome contido na lista imp_var\n",
    "    tb_imp_cat.columns = ohe_fit.get_feature_names_out()\n",
    "    tb_imp_cat = tb_imp_cat[imp_var]\n",
    "    # Transformamos a tabela resultante utilizando o nmf_fit, guardando o resultado\n",
    "    # em um dataframe\n",
    "    tb_nmf_fit = pd.DataFrame(\n",
    "        nmf_fit.transform(tb_imp_cat),\n",
    "        columns=[\"C\" + str(i) for i in range(nmf_fit.n_components_)],\n",
    "    )\n",
    "    final_data = pd.concat([hotel_data, tb_nmf_fit], axis=1)\n",
    "    return final_data\n"
   ]
  },
  {
   "cell_type": "markdown",
   "metadata": {},
   "source": [
    "Nossas funções nos permitem estimar o NMF a partir do conjunto train e utiliza-lo para projetar os componentes tanto do conjunto train quanto do conjunto teste de forma independente, evitando qualquer problema de leakage possível."
   ]
  },
  {
   "cell_type": "code",
   "execution_count": 35,
   "metadata": {},
   "outputs": [
    {
     "name": "stdout",
     "output_type": "stream",
     "text": [
      "N Comp.: 1 F1: 0.0\n",
      "N Comp.: 2 F1: 0.0\n",
      "N Comp.: 3 F1: 0.5117621337997378\n",
      "N Comp.: 4 F1: 0.5094447624499142\n",
      "N Comp.: 5 F1: 0.5878499106611078\n",
      "Best N: 5\n"
     ]
    }
   ],
   "source": [
    "# Primeiro vamos fitar o encoder, estimar as variáveis importantes e fitar o NMF\n",
    "# utilizando nossa função estimate_nmf\n",
    "ohe_fit, imp_var, nmf_fit = estimate_nmf(train_tb_hotel_f)\n"
   ]
  },
  {
   "cell_type": "code",
   "execution_count": 36,
   "metadata": {},
   "outputs": [],
   "source": [
    "# Agora vamos utilizar os objetos fitados para projetar os componentes para os conjuntos de train e test.\n",
    "train_tb_hotel_fd = project_nmf(ohe_fit, imp_var, nmf_fit, train_tb_hotel_f)\n",
    "test_tb_hotel_fd = project_nmf(ohe_fit, imp_var, nmf_fit, test_tb_hotel_f)\n"
   ]
  },
  {
   "cell_type": "markdown",
   "metadata": {},
   "source": [
    "## Regressão logística II\n",
    "Com nossos dados enriquecidos podemos testar os modelos que utilizamos anteriormente, utilizando os novos componentes para representar a informação presente nas variáveis categóricas."
   ]
  },
  {
   "cell_type": "code",
   "execution_count": 38,
   "metadata": {},
   "outputs": [
    {
     "data": {
      "text/plain": [
       "LogisticRegression()"
      ]
     },
     "execution_count": 38,
     "metadata": {},
     "output_type": "execute_result"
    }
   ],
   "source": [
    "model_desc = \"is_cancelled ~ log_lead_time : reservation_type * is_company * high_season + C0 + C1 + C2 + C3 + C4\"\n",
    "y_train, X_train = patsy.dmatrices(\n",
    "    model_desc,\n",
    "    data=train_tb_hotel_fd,\n",
    ")\n",
    "y_test, X_test = patsy.dmatrices(\n",
    "    model_desc,\n",
    "    data=test_tb_hotel_fd,\n",
    ")\n",
    "scaler = StandardScaler()\n",
    "scaler.fit(X_train)\n",
    "log_fit = LogisticRegression()\n",
    "log_fit.fit(scaler.transform(X_train), y_train)\n"
   ]
  },
  {
   "cell_type": "code",
   "execution_count": 39,
   "metadata": {},
   "outputs": [
    {
     "name": "stdout",
     "output_type": "stream",
     "text": [
      "Precision: 0.7826820354231093\n",
      "Recall: 0.5261268071435321\n",
      "F1-Score: 0.6292591964739787\n"
     ]
    }
   ],
   "source": [
    "print(\n",
    "    f\"Precision: {precision_score(y_test, log_fit.predict(scaler.transform(X_test)))}\"\n",
    ")\n",
    "print(f\"Recall: {recall_score(y_test, log_fit.predict(scaler.transform(X_test)))}\")\n",
    "print(f\"F1-Score: {f1_score(y_test, log_fit.predict(scaler.transform(X_test)))}\")\n"
   ]
  },
  {
   "cell_type": "code",
   "execution_count": 40,
   "metadata": {},
   "outputs": [
    {
     "data": {
      "text/plain": [
       "Text(0.5, 1.0, 'Best Threshold: 0.33 w/ F-1: 0.68')"
      ]
     },
     "execution_count": 40,
     "metadata": {},
     "output_type": "execute_result"
    },
    {
     "data": {
      "image/png": "[encoded data removed]",
      "text/plain": [
       "<Figure size 432x288 with 1 Axes>"
      ]
     },
     "metadata": {
      "needs_background": "light"
     },
     "output_type": "display_data"
    }
   ],
   "source": [
    "threshold_list = np.linspace(0.05, 0.95, 200)\n",
    "test_proba = log_fit.predict_proba(scaler.transform(X_test))[:, -1]\n",
    "\n",
    "f1_list = []\n",
    "for threshold in threshold_list:\n",
    "    pred_label = np.where(test_proba < threshold, 0, 1)\n",
    "    f1 = f1_score(y_test, pred_label)\n",
    "    f1_list.append(f1)\n",
    "\n",
    "df_f1 = pd.DataFrame({\"threshold\": threshold_list, \"f1_score\": f1_list})\n",
    "df_f1[df_f1[\"f1_score\"] == max(df_f1[\"f1_score\"])]\n",
    "bt = df_f1[df_f1[\"f1_score\"] == max(df_f1[\"f1_score\"])][\"threshold\"].values[0]\n",
    "f1 = df_f1[df_f1[\"f1_score\"] == max(df_f1[\"f1_score\"])][\"f1_score\"].values[0]\n",
    "title = \"Best Threshold: \" + str(round(bt, 2)) + \" w/ F-1: \" + str(round(f1, 2))\n",
    "g = sns.lineplot(data=df_f1, x=\"threshold\", y=\"f1_score\")\n",
    "g.set_title(title)\n"
   ]
  },
  {
   "cell_type": "markdown",
   "metadata": {},
   "source": [
    "## 1NN II"
   ]
  },
  {
   "cell_type": "code",
   "execution_count": 41,
   "metadata": {},
   "outputs": [
    {
     "name": "stdout",
     "output_type": "stream",
     "text": [
      "Precision: 0.6808340727595386\n",
      "Recall: 0.7250307096286497\n",
      "F1-Score: 0.7022376790372031\n"
     ]
    }
   ],
   "source": [
    "knn_fit = KNeighborsClassifier(n_neighbors=1)\n",
    "knn_fit.fit(scaler.transform(X_train), y_train)\n",
    "test_pred = knn_fit.predict(scaler.transform(X_test))\n",
    "print(f\"Precision: {precision_score(y_test, test_pred)}\")\n",
    "print(f\"Recall: {recall_score(y_test, test_pred)}\")\n",
    "print(f\"F1-Score: {f1_score(y_test, test_pred)}\")\n"
   ]
  },
  {
   "cell_type": "markdown",
   "metadata": {},
   "source": [
    "## Floresta Aleatória II"
   ]
  },
  {
   "cell_type": "code",
   "execution_count": 42,
   "metadata": {},
   "outputs": [
    {
     "data": {
      "text/plain": [
       "RandomForestClassifier(class_weight='balanced', max_depth=20)"
      ]
     },
     "execution_count": 42,
     "metadata": {},
     "output_type": "execute_result"
    }
   ],
   "source": [
    "stump_fit = RandomForestClassifier(\n",
    "    n_estimators=100, max_depth=20, class_weight=\"balanced\"\n",
    ")\n",
    "stump_fit.fit(scaler.transform(X_train), y_train)\n"
   ]
  },
  {
   "cell_type": "code",
   "execution_count": 43,
   "metadata": {},
   "outputs": [
    {
     "name": "stdout",
     "output_type": "stream",
     "text": [
      "Precision: 0.7193072702331962\n",
      "Recall: 0.7927808749881886\n",
      "F1-Score: 0.7542590012136468\n"
     ]
    }
   ],
   "source": [
    "test_pred = stump_fit.predict(scaler.transform(X_test))\n",
    "print(f\"Precision: {precision_score(y_test, test_pred)}\")\n",
    "print(f\"Recall: {recall_score(y_test, test_pred)}\")\n",
    "print(f\"F1-Score: {f1_score(y_test, test_pred)}\")\n"
   ]
  },
  {
   "cell_type": "markdown",
   "metadata": {},
   "source": [
    "## EDA III\n",
    "Chegamos em um bom resultado com o último algoritmo de floresta aleatória, mas ainda temos algumas variáveis continuas em nosso dataset que não forem utilizadas. Vamos utilizar os resíduos desse último modelo como ponto de partida para entender se, adicionando mais variáveis, podemos deixar nosso modelo final melhor ainda.\n",
    "\n",
    "Esta será a última etapa antes de implantarmos o ajuste de  hiperparâmetros."
   ]
  },
  {
   "cell_type": "code",
   "execution_count": 44,
   "metadata": {},
   "outputs": [],
   "source": [
    "train_tb_hotel_fd[\"pred_fa\"] = stump_fit.predict(X_train)\n"
   ]
  },
  {
   "cell_type": "code",
   "execution_count": 45,
   "metadata": {},
   "outputs": [],
   "source": [
    "train_tb_hotel_fd[\"erro\"] = np.where(\n",
    "    train_tb_hotel_fd[\"is_cancelled\"] == train_tb_hotel_fd[\"pred_fa\"], 0, 1\n",
    ")\n"
   ]
  },
  {
   "cell_type": "code",
   "execution_count": 46,
   "metadata": {},
   "outputs": [
    {
     "data": {
      "text/plain": [
       "Index(['hotel', 'is_cancelled', 'lead_time', 'stays_in_weekend_nights',\n",
       "       'stays_in_week_nights', 'adults', 'children', 'babies', 'meal',\n",
       "       'country', 'market_segment', 'distribution_channel',\n",
       "       'is_repeated_guest', 'previous_cancellations',\n",
       "       'previous_bookings_not_canceled', 'reserved_room_type',\n",
       "       'assigned_room_type', 'booking_changes', 'deposit_type',\n",
       "       'days_in_waiting_list', 'customer_type', 'adr',\n",
       "       'required_car_parking_spaces', 'total_of_special_requests',\n",
       "       'reservation_status_date', 'arrival_date', 'id_booking',\n",
       "       'arrival_date_month', 'arrival_date_year', 'is_agent', 'is_company',\n",
       "       'log_lead_time', 'reservation_type', 'grouped_country', 'high_season',\n",
       "       'pred_m1', 'C0', 'C1', 'C2', 'C3', 'C4', 'pred_fa', 'erro'],\n",
       "      dtype='object')"
      ]
     },
     "execution_count": 46,
     "metadata": {},
     "output_type": "execute_result"
    }
   ],
   "source": [
    "train_tb_hotel_fd.columns\n"
   ]
  },
  {
   "cell_type": "code",
   "execution_count": 54,
   "metadata": {},
   "outputs": [],
   "source": [
    "untested_var = [\n",
    "    \"stays_in_weekend_nights\",\n",
    "    \"stays_in_week_nights\",\n",
    "    \"is_repeated_guest\",\n",
    "    \"previous_cancellations\",\n",
    "    # \"previous_bookings_not_canceled\",\n",
    "    \"adults\",\n",
    "    \"children\",\n",
    "    \"babies\",\n",
    "    \"booking_changes\",\n",
    "    \"adr\",\n",
    "    \"required_car_parking_spaces\",\n",
    "    \"total_of_special_requests\",\n",
    "]\n"
   ]
  },
  {
   "cell_type": "markdown",
   "metadata": {},
   "source": [
    "Como ainda temos muitas variáveis fora do modelo, vamos iniciar nossa investigação de quais podem contribuir para o modelo final utilizando uma regressão logística para entender quais variáveis tem um impacto estatisticamente relevante (valor-p < 0.05) sobre o erro do nosso modelo. Comentei a linha das variáveis acima para evitar um erro de matriz singular: este tipo de erro acontece quando existe um grave problema de colinearidade em nossos dados (no caso atual entre as variáveis de bookings anteriores)."
   ]
  },
  {
   "cell_type": "code",
   "execution_count": 56,
   "metadata": {},
   "outputs": [
    {
     "name": "stdout",
     "output_type": "stream",
     "text": [
      "Optimization terminated successfully.\n",
      "         Current function value: 0.553828\n",
      "         Iterations 12\n",
      "                           Logit Regression Results                           \n",
      "==============================================================================\n",
      "Dep. Variable:                   erro   No. Observations:                84626\n",
      "Model:                          Logit   Df Residuals:                    84614\n",
      "Method:                           MLE   Df Model:                           11\n",
      "Date:                Mon, 04 Apr 2022   Pseudo R-squ.:                  0.1601\n",
      "Time:                        16:34:31   Log-Likelihood:                -46868.\n",
      "converged:                       True   LL-Null:                       -55804.\n",
      "Covariance Type:            nonrobust   LLR p-value:                     0.000\n",
      "===============================================================================================\n",
      "                                  coef    std err          z      P>|z|      [0.025      0.975]\n",
      "-----------------------------------------------------------------------------------------------\n",
      "const                          -1.1682      0.035    -33.545      0.000      -1.236      -1.100\n",
      "stays_in_weekend_nights        -0.0209      0.009     -2.310      0.021      -0.039      -0.003\n",
      "stays_in_week_nights            0.0501      0.005     10.469      0.000       0.041       0.060\n",
      "is_repeated_guest              -2.2497      0.083    -27.258      0.000      -2.411      -2.088\n",
      "previous_cancellations          2.4134      0.049     49.424      0.000       2.318       2.509\n",
      "adults                          0.2696      0.017     15.533      0.000       0.236       0.304\n",
      "children                        0.0756      0.021      3.541      0.000       0.034       0.117\n",
      "babies                          0.0118      0.095      0.125      0.901      -0.173       0.197\n",
      "booking_changes                -0.6451      0.019    -34.794      0.000      -0.681      -0.609\n",
      "adr                             0.0052      0.000     27.090      0.000       0.005       0.006\n",
      "required_car_parking_spaces  -169.6295   2.84e+31  -5.97e-30      1.000   -5.57e+31    5.57e+31\n",
      "total_of_special_requests      -0.7623      0.012    -62.923      0.000      -0.786      -0.739\n",
      "===============================================================================================\n"
     ]
    }
   ],
   "source": [
    "import statsmodels.api as sm\n",
    "\n",
    "scaler_eda = StandardScaler()\n",
    "scaler_eda.fit(train_tb_hotel_fd[untested_var].fillna(0))\n",
    "X_eda = sm.add_constant(train_tb_hotel_fd[untested_var])\n",
    "y_eda = train_tb_hotel_fd[\"erro\"]\n",
    "\n",
    "logit_mod = sm.Logit(y_eda, X_eda)\n",
    "logit_res = logit_mod.fit()\n",
    "print(logit_res.summary())\n"
   ]
  },
  {
   "cell_type": "markdown",
   "metadata": {},
   "source": [
    "O modelo acima indica que quase todas as variáveis continuas que estão de fora tem impacto relevante sobre o erro do modelo anterior! Isso nos diz que devemos considera-las, seja em sua forma atual seja através de alguma transformação em nosso modelo. Vamos investigar a distribuição de cada uma dessas variáveis e a sua estrutura de correlação."
   ]
  },
  {
   "cell_type": "code",
   "execution_count": 57,
   "metadata": {},
   "outputs": [
    {
     "data": {
      "image/png": "[encoded data removed]",
      "text/plain": [
       "<Figure size 720x720 with 4 Axes>"
      ]
     },
     "metadata": {
      "needs_background": "light"
     },
     "output_type": "display_data"
    }
   ],
   "source": [
    "# Vamos criar uma nova lista apenas com as variáveis que se mostraram relevantes\n",
    "rel_var = [\n",
    "    \"stays_in_weekend_nights\",\n",
    "    \"stays_in_week_nights\",\n",
    "    \"is_repeated_guest\",\n",
    "    \"previous_cancellations\",\n",
    "    \"previous_bookings_not_canceled\",\n",
    "    \"adults\",\n",
    "    \"children\",\n",
    "    \"booking_changes\",\n",
    "    \"adr\",\n",
    "    \"total_of_special_requests\",\n",
    "]\n",
    "sns.clustermap(data=train_tb_hotel_fd[rel_var].corr())\n"
   ]
  },
  {
   "cell_type": "markdown",
   "metadata": {},
   "source": [
    "Lendo o dendograma acima podemos ver que temos 4 grandes grupos de variáveis:\n",
    "\n",
    "1. `previous_cancellations` + `is_repeated_guest` + `previous_bookings_not_cancelled`\n",
    "1. `adults` + `total_of_special_requests` + `children` + `adr`\n",
    "1. `booking_changes`\n",
    "1. `stays_in_weekend_nights` + `stays_in_week_nights`\n",
    "\n",
    "O **primeiro grupo é muito bem definido**, representando o histórico de clientes que já fizeram reservas. O **segundo é um grupo menos bem definido** mas a variável ADR nos dá uma dica: o número de pessoas na reserva e o tamanho desta (o ADR deve ser proporcional ao número de pessoas total e ao número de requisitos especiais). O **terceiro grupo** é composto apenas pela variável `booking_changes`. O **quarto grupo é muito bem definido**, sendo o tempo de estadia da reserva (noites totais e o mix entre finais de semana e dias de semana)\n",
    "\n",
    "Podemos ver duas transformações claras a partir da análise acima:\n",
    "\n",
    "1. Converter as variáveis `stays_in_weekend_nights` e `stays_in_week_nights` em `total_stays` (`stays_in_weekend_nights + stays_in_week_nights`) e `per_weekend` (`stays_in_weekend_nights / total_stays`). Dessa forma representamos o comprimento da reserva assim como a distribuição desta entre finais de semana e dias de semana.\n",
    "1. Converter a variável `adr` em `adr_per_guest` através da transformação `adr/(adults + children)`\n",
    "1. Converter as variáveis `adults` e `children` em `num_guests` - imaginando que bebês não contribuem para o preço da reserva diretamente, apenas através de pedidos especiais (como guardas de cama ou berços).\n",
    "1. Criar as variáveis binárias `has_cancelled` (= 1 quando `previous_cancellations` > 0) e `has_fulfilled` (= 1 quando `previous_bookings_not_canceled` > 0)\n",
    "\n",
    "Vamos incluir essas transformações na nossa função de transformação."
   ]
  },
  {
   "cell_type": "code",
   "execution_count": 60,
   "metadata": {},
   "outputs": [],
   "source": [
    "def transform_data_v2(hotel_data):\n",
    "    tb_hotel = hotel_data.copy()\n",
    "    tb_hotel[\"arrival_date\"] = pd.to_datetime(tb_hotel[\"arrival_date\"])\n",
    "    tb_hotel[\"arrival_date_month\"] = tb_hotel[\"arrival_date\"].dt.month\n",
    "    tb_hotel[\"arrival_date_year\"] = tb_hotel[\"arrival_date\"].dt.year\n",
    "    tb_hotel[\"is_agent\"] = np.where(tb_hotel[\"agent\"].isna(), False, True)\n",
    "    tb_hotel[\"is_company\"] = np.where(tb_hotel[\"company\"].isna(), False, True)\n",
    "    tb_hotel[\"log_lead_time\"] = np.log(tb_hotel[\"lead_time\"] + 1)\n",
    "    tb_hotel[\"reservation_type\"] = np.where(\n",
    "        (tb_hotel[\"lead_time\"] + 1) < 10, \"last_minute\", \"scheduled\"\n",
    "    )\n",
    "    tb_hotel = tb_hotel.drop([\"company\", \"agent\"], axis=1)\n",
    "    tb_hotel[\"total_stays\"] = (\n",
    "        tb_hotel[\"stays_in_weekend_nights\"] + tb_hotel[\"stays_in_week_nights\"]\n",
    "    )\n",
    "    tb_hotel[\"per_weekend\"] = (\n",
    "        tb_hotel[\"stays_in_weekend_nights\"] / tb_hotel[\"total_stays\"]\n",
    "    )\n",
    "    tb_hotel[\"num_guests\"] = tb_hotel[\"adults\"] + tb_hotel[\"children\"]\n",
    "    tb_hotel[\"per_child\"] = tb_hotel[\"children\"] / tb_hotel[\"num_guests\"]\n",
    "    tb_hotel[\"adr_per_guest\"] = tb_hotel[\"adr\"] / tb_hotel[\"num_guests\"]\n",
    "    tb_hotel[\"has_cancelled\"] = np.where(tb_hotel[\"previous_cancellations\"] > 0, 1, 0)\n",
    "    tb_hotel[\"has_fulfilled\"] = np.where(\n",
    "        tb_hotel[\"previous_bookings_not_canceled\"] > 0, 1, 0\n",
    "    )\n",
    "    tb_hotel = tb_hotel.dropna()\n",
    "    return tb_hotel\n"
   ]
  },
  {
   "cell_type": "markdown",
   "metadata": {},
   "source": [
    "## Modelos Finais\n",
    "Agora podemos proceder na construção e otimização dos ultimos modelos. Neste momento implantamos a tunagem automatica de hiperparâmetros."
   ]
  },
  {
   "cell_type": "code",
   "execution_count": 61,
   "metadata": {},
   "outputs": [
    {
     "name": "stdout",
     "output_type": "stream",
     "text": [
      "N Comp.: 1 F1: 0.0\n",
      "N Comp.: 2 F1: 0.0\n",
      "N Comp.: 3 F1: 0.5415696707682075\n",
      "N Comp.: 4 F1: 0.49094063222821893\n",
      "N Comp.: 5 F1: 0.6030963415836702\n",
      "Best N: 5\n"
     ]
    }
   ],
   "source": [
    "# Transformção direta de variáveis\n",
    "train_tb_hotel_t = transform_data_v2(train_tb_hotel)\n",
    "test_tb_hotel_t = transform_data_v2(test_tb_hotel)\n",
    "# Criação dos indices de sazonalidade por país e mês\n",
    "tb_gc = create_country_agg(train_tb_hotel_t)\n",
    "tb_season = create_season(train_tb_hotel_t, tb_gc)\n",
    "train_tb_hotel_f = transform_country(train_tb_hotel_t, tb_gc, tb_season)\n",
    "test_tb_hotel_f = transform_country(test_tb_hotel_t, tb_gc, tb_season)\n",
    "# Criação dos componentes de variáveis categóricas relevantes\n",
    "ohe_fit, imp_var, nmf_fit = estimate_nmf(train_tb_hotel_f)\n",
    "train_tb_hotel_fd = project_nmf(ohe_fit, imp_var, nmf_fit, train_tb_hotel_f)\n",
    "test_tb_hotel_fd = project_nmf(ohe_fit, imp_var, nmf_fit, test_tb_hotel_f)\n"
   ]
  },
  {
   "cell_type": "code",
   "execution_count": 62,
   "metadata": {},
   "outputs": [
    {
     "data": {
      "text/plain": [
       "StandardScaler()"
      ]
     },
     "execution_count": 62,
     "metadata": {},
     "output_type": "execute_result"
    }
   ],
   "source": [
    "model_desc = \"\"\"is_cancelled ~ log_lead_time : reservation_type * is_company * high_season + \n",
    "                C0 + C1 + C2 + C3 + C4 +\n",
    "                total_stays * per_weekend + num_guests * per_child + adr_per_guest + has_cancelled + has_fulfilled\"\"\"\n",
    "y_train, X_train = patsy.dmatrices(\n",
    "    model_desc,\n",
    "    data=train_tb_hotel_fd,\n",
    ")\n",
    "y_test, X_test = patsy.dmatrices(\n",
    "    model_desc,\n",
    "    data=test_tb_hotel_fd,\n",
    ")\n",
    "scaler = StandardScaler()\n",
    "scaler.fit(X_train)\n"
   ]
  },
  {
   "cell_type": "markdown",
   "metadata": {},
   "source": [
    "### Regressão Logística III\n",
    "\n",
    "Vamos começar reconstruindo nosso baseline a partir do nosso conjunto completo de features."
   ]
  },
  {
   "cell_type": "code",
   "execution_count": 80,
   "metadata": {},
   "outputs": [
    {
     "name": "stdout",
     "output_type": "stream",
     "text": [
      "Precision: 0.7932665553700612\n",
      "Recall: 0.5391452344931922\n",
      "F1-Score: 0.6419725287097501\n"
     ]
    }
   ],
   "source": [
    "log_fit = LogisticRegression()\n",
    "log_fit.fit(scaler.transform(X_train), y_train)\n",
    "print(\n",
    "    f\"Precision: {precision_score(y_test, log_fit.predict(scaler.transform(X_test)))}\"\n",
    ")\n",
    "print(f\"Recall: {recall_score(y_test, log_fit.predict(scaler.transform(X_test)))}\")\n",
    "print(f\"F1-Score: {f1_score(y_test, log_fit.predict(scaler.transform(X_test)))}\")\n"
   ]
  },
  {
   "cell_type": "code",
   "execution_count": 81,
   "metadata": {},
   "outputs": [
    {
     "data": {
      "text/plain": [
       "Text(0.5, 1.0, 'Best Threshold: 0.31 w/ F-1: 0.7')"
      ]
     },
     "execution_count": 81,
     "metadata": {},
     "output_type": "execute_result"
    },
    {
     "data": {
      "image/png": "[encoded data removed]",
      "text/plain": [
       "<Figure size 432x288 with 1 Axes>"
      ]
     },
     "metadata": {
      "needs_background": "light"
     },
     "output_type": "display_data"
    }
   ],
   "source": [
    "threshold_list = np.linspace(0.05, 0.95, 200)\n",
    "test_proba = log_fit.predict_proba(scaler.transform(X_test))[:, -1]\n",
    "\n",
    "f1_list = []\n",
    "for threshold in threshold_list:\n",
    "    pred_label = np.where(test_proba < threshold, 0, 1)\n",
    "    f1 = f1_score(y_test, pred_label)\n",
    "    f1_list.append(f1)\n",
    "\n",
    "df_f1 = pd.DataFrame({\"threshold\": threshold_list, \"f1_score\": f1_list})\n",
    "df_f1[df_f1[\"f1_score\"] == max(df_f1[\"f1_score\"])]\n",
    "bt = df_f1[df_f1[\"f1_score\"] == max(df_f1[\"f1_score\"])][\"threshold\"].values[0]\n",
    "f1 = df_f1[df_f1[\"f1_score\"] == max(df_f1[\"f1_score\"])][\"f1_score\"].values[0]\n",
    "title = \"Best Threshold: \" + str(round(bt, 2)) + \" w/ F-1: \" + str(round(f1, 2))\n",
    "g = sns.lineplot(data=df_f1, x=\"threshold\", y=\"f1_score\")\n",
    "g.set_title(title)\n"
   ]
  },
  {
   "cell_type": "markdown",
   "metadata": {},
   "source": [
    "### Gradient Boosting I"
   ]
  },
  {
   "cell_type": "code",
   "execution_count": 82,
   "metadata": {},
   "outputs": [],
   "source": [
    "# explicitly require this experimental feature\n",
    "from sklearn.experimental import enable_halving_search_cv\n",
    "from sklearn.model_selection import (\n",
    "    HalvingRandomSearchCV,\n",
    "    GridSearchCV,\n",
    "    RandomizedSearchCV,\n",
    ")\n",
    "from sklearn.ensemble import GradientBoostingClassifier\n"
   ]
  },
  {
   "cell_type": "code",
   "execution_count": 84,
   "metadata": {},
   "outputs": [
    {
     "name": "stdout",
     "output_type": "stream",
     "text": [
      "n_iterations: 5\n",
      "n_required_iterations: 5\n",
      "n_possible_iterations: 5\n",
      "min_resources_: 1000\n",
      "max_resources_: 84047\n",
      "aggressive_elimination: False\n",
      "factor: 3\n",
      "----------\n",
      "iter: 0\n",
      "n_candidates: 84\n",
      "n_resources: 1000\n",
      "Fitting 5 folds for each of 84 candidates, totalling 420 fits\n",
      "[CV 1/5] END learning_rate=0.3164736842105263, max_depth=11, n_estimators=1534;, score=(train=0.998, test=0.597) total time=   3.4s\n",
      "[CV 2/5] END learning_rate=0.3164736842105263, max_depth=11, n_estimators=1534;, score=(train=0.998, test=0.705) total time=   3.7s\n",
      "[CV 3/5] END learning_rate=0.3164736842105263, max_depth=11, n_estimators=1534;, score=(train=0.998, test=0.639) total time=   3.3s\n",
      "[CV 4/5] END learning_rate=0.3164736842105263, max_depth=11, n_estimators=1534;, score=(train=1.000, test=0.573) total time=   0.9s\n",
      "[CV 5/5] END learning_rate=0.3164736842105263, max_depth=11, n_estimators=1534;, score=(train=1.000, test=0.295) total time=   0.8s\n",
      "[CV 1/5] END learning_rate=0.2113157894736842, max_depth=5, n_estimators=1224;, score=(train=0.998, test=0.593) total time=   2.5s\n",
      "[CV 2/5] END learning_rate=0.2113157894736842, max_depth=5, n_estimators=1224;, score=(train=0.998, test=0.708) total time=   2.5s\n",
      "[CV 3/5] END learning_rate=0.2113157894736842, max_depth=5, n_estimators=1224;, score=(train=0.998, test=0.667) total time=   2.5s\n",
      "[CV 4/5] END learning_rate=0.2113157894736842, max_depth=5, n_estimators=1224;, score=(train=1.000, test=0.571) total time=   2.1s\n",
      "[CV 5/5] END learning_rate=0.2113157894736842, max_depth=5, n_estimators=1224;, score=(train=1.000, test=0.303) total time=   1.9s\n",
      "[CV 1/5] END learning_rate=0.7896842105263158, max_depth=13, n_estimators=1612;, score=(train=0.998, test=0.545) total time=   3.4s\n",
      "[CV 2/5] END learning_rate=0.7896842105263158, max_depth=13, n_estimators=1612;, score=(train=0.998, test=0.653) total time=   4.1s\n",
      "[CV 3/5] END learning_rate=0.7896842105263158, max_depth=13, n_estimators=1612;, score=(train=0.998, test=0.629) total time=   3.5s\n",
      "[CV 4/5] END learning_rate=0.7896842105263158, max_depth=13, n_estimators=1612;, score=(train=1.000, test=0.604) total time=   0.5s\n",
      "[CV 5/5] END learning_rate=0.7896842105263158, max_depth=13, n_estimators=1612;, score=(train=1.000, test=0.386) total time=   0.3s\n",
      "[CV 1/5] END learning_rate=0.4216315789473684, max_depth=15, n_estimators=1689;, score=(train=0.998, test=0.529) total time=   3.9s\n",
      "[CV 2/5] END learning_rate=0.4216315789473684, max_depth=15, n_estimators=1689;, score=(train=0.998, test=0.683) total time=   4.6s\n",
      "[CV 3/5] END learning_rate=0.4216315789473684, max_depth=15, n_estimators=1689;, score=(train=0.998, test=0.653) total time=   3.9s\n",
      "[CV 4/5] END learning_rate=0.4216315789473684, max_depth=15, n_estimators=1689;, score=(train=1.000, test=0.553) total time=   0.6s\n",
      "[CV 5/5] END learning_rate=0.4216315789473684, max_depth=15, n_estimators=1689;, score=(train=1.000, test=0.414) total time=   0.5s\n",
      "[CV 1/5] END learning_rate=1.0, max_depth=11, n_estimators=1108;, score=(train=0.998, test=0.596) total time=   2.2s\n",
      "[CV 2/5] END learning_rate=1.0, max_depth=11, n_estimators=1108;, score=(train=0.998, test=0.684) total time=   2.4s\n",
      "[CV 3/5] END learning_rate=1.0, max_depth=11, n_estimators=1108;, score=(train=0.998, test=0.606) total time=   2.2s\n",
      "[CV 4/5] END learning_rate=1.0, max_depth=11, n_estimators=1108;, score=(train=1.000, test=0.552) total time=   0.4s\n",
      "[CV 5/5] END learning_rate=1.0, max_depth=11, n_estimators=1108;, score=(train=1.000, test=0.271) total time=   0.4s\n",
      "[CV 1/5] END learning_rate=0.5793684210526315, max_depth=17, n_estimators=1728;, score=(train=0.998, test=0.530) total time=   4.1s\n",
      "[CV 2/5] END learning_rate=0.5793684210526315, max_depth=17, n_estimators=1728;, score=(train=0.998, test=0.622) total time=   5.0s\n",
      "[CV 3/5] END learning_rate=0.5793684210526315, max_depth=17, n_estimators=1728;, score=(train=0.998, test=0.604) total time=   4.5s\n",
      "[CV 4/5] END learning_rate=0.5793684210526315, max_depth=17, n_estimators=1728;, score=(train=1.000, test=0.615) total time=   0.5s\n",
      "[CV 5/5] END learning_rate=0.5793684210526315, max_depth=17, n_estimators=1728;, score=(train=1.000, test=0.383) total time=   0.4s\n",
      "[CV 1/5] END learning_rate=0.26389473684210524, max_depth=13, n_estimators=1224;, score=(train=0.998, test=0.589) total time=   3.0s\n",
      "[CV 2/5] END learning_rate=0.26389473684210524, max_depth=13, n_estimators=1224;, score=(train=0.998, test=0.659) total time=   3.3s\n",
      "[CV 3/5] END learning_rate=0.26389473684210524, max_depth=13, n_estimators=1224;, score=(train=0.998, test=0.671) total time=   3.0s\n",
      "[CV 4/5] END learning_rate=0.26389473684210524, max_depth=13, n_estimators=1224;, score=(train=1.000, test=0.549) total time=   0.9s\n",
      "[CV 5/5] END learning_rate=0.26389473684210524, max_depth=13, n_estimators=1224;, score=(train=1.000, test=0.386) total time=   0.5s\n",
      "[CV 1/5] END learning_rate=0.05357894736842105, max_depth=20, n_estimators=759;, score=(train=0.998, test=0.581) total time=   3.2s\n",
      "[CV 2/5] END learning_rate=0.05357894736842105, max_depth=20, n_estimators=759;, score=(train=0.998, test=0.667) total time=   3.0s\n",
      "[CV 3/5] END learning_rate=0.05357894736842105, max_depth=20, n_estimators=759;, score=(train=0.998, test=0.684) total time=   2.8s\n",
      "[CV 4/5] END learning_rate=0.05357894736842105, max_depth=20, n_estimators=759;, score=(train=1.000, test=0.530) total time=   2.0s\n",
      "[CV 5/5] END learning_rate=0.05357894736842105, max_depth=20, n_estimators=759;, score=(train=1.000, test=0.410) total time=   1.7s\n",
      "[CV 1/5] END learning_rate=0.7896842105263158, max_depth=1, n_estimators=1573;, score=(train=0.932, test=0.583) total time=   0.8s\n",
      "[CV 2/5] END learning_rate=0.7896842105263158, max_depth=1, n_estimators=1573;, score=(train=0.935, test=0.677) total time=   0.9s\n",
      "[CV 3/5] END learning_rate=0.7896842105263158, max_depth=1, n_estimators=1573;, score=(train=0.702, test=0.642) total time=   0.8s\n",
      "[CV 4/5] END learning_rate=0.7896842105263158, max_depth=1, n_estimators=1573;, score=(train=0.925, test=0.575) total time=   0.8s\n",
      "[CV 5/5] END learning_rate=0.7896842105263158, max_depth=1, n_estimators=1573;, score=(train=0.960, test=0.314) total time=   0.8s\n",
      "[CV 1/5] END learning_rate=0.8948421052631579, max_depth=15, n_estimators=1224;, score=(train=0.998, test=0.548) total time=   2.7s\n",
      "[CV 2/5] END learning_rate=0.8948421052631579, max_depth=15, n_estimators=1224;, score=(train=0.998, test=0.658) total time=   3.4s\n",
      "[CV 3/5] END learning_rate=0.8948421052631579, max_depth=15, n_estimators=1224;, score=(train=0.998, test=0.606) total time=   2.9s\n",
      "[CV 4/5] END learning_rate=0.8948421052631579, max_depth=15, n_estimators=1224;, score=(train=1.000, test=0.566) total time=   0.4s\n",
      "[CV 5/5] END learning_rate=0.8948421052631579, max_depth=15, n_estimators=1224;, score=(train=1.000, test=0.448) total time=   0.3s\n",
      "[CV 1/5] END learning_rate=0.47421052631578947, max_depth=13, n_estimators=991;, score=(train=0.998, test=0.619) total time=   2.3s\n",
      "[CV 2/5] END learning_rate=0.47421052631578947, max_depth=13, n_estimators=991;, score=(train=0.998, test=0.713) total time=   2.6s\n",
      "[CV 3/5] END learning_rate=0.47421052631578947, max_depth=13, n_estimators=991;, score=(train=0.998, test=0.635) total time=   2.3s\n",
      "[CV 4/5] END learning_rate=0.47421052631578947, max_depth=13, n_estimators=991;, score=(train=1.000, test=0.573) total time=   0.6s\n",
      "[CV 5/5] END learning_rate=0.47421052631578947, max_depth=13, n_estimators=991;, score=(train=1.000, test=0.441) total time=   0.3s\n",
      "[CV 1/5] END learning_rate=0.47421052631578947, max_depth=1, n_estimators=1961;, score=(train=0.899, test=0.595) total time=   1.0s\n",
      "[CV 2/5] END learning_rate=0.47421052631578947, max_depth=1, n_estimators=1961;, score=(train=0.897, test=0.686) total time=   1.1s\n",
      "[CV 3/5] END learning_rate=0.47421052631578947, max_depth=1, n_estimators=1961;, score=(train=0.863, test=0.654) total time=   1.1s\n",
      "[CV 4/5] END learning_rate=0.47421052631578947, max_depth=1, n_estimators=1961;, score=(train=0.905, test=0.575) total time=   1.1s\n",
      "[CV 5/5] END learning_rate=0.47421052631578947, max_depth=1, n_estimators=1961;, score=(train=0.926, test=0.289) total time=   1.0s\n",
      "[CV 1/5] END learning_rate=0.3164736842105263, max_depth=11, n_estimators=138;, score=(train=0.998, test=0.602) total time=   0.8s\n",
      "[CV 2/5] END learning_rate=0.3164736842105263, max_depth=11, n_estimators=138;, score=(train=0.998, test=0.720) total time=   0.7s\n",
      "[CV 3/5] END learning_rate=0.3164736842105263, max_depth=11, n_estimators=138;, score=(train=0.998, test=0.657) total time=   0.7s\n",
      "[CV 4/5] END learning_rate=0.3164736842105263, max_depth=11, n_estimators=138;, score=(train=1.000, test=0.569) total time=   0.7s\n",
      "[CV 5/5] END learning_rate=0.3164736842105263, max_depth=11, n_estimators=138;, score=(train=1.000, test=0.280) total time=   0.6s\n",
      "[CV 1/5] END learning_rate=0.001, max_depth=7, n_estimators=836;, score=(train=0.743, test=0.527) total time=   2.5s\n",
      "[CV 2/5] END learning_rate=0.001, max_depth=7, n_estimators=836;, score=(train=0.781, test=0.707) total time=   2.7s\n",
      "[CV 3/5] END learning_rate=0.001, max_depth=7, n_estimators=836;, score=(train=0.821, test=0.737) total time=   2.8s\n",
      "[CV 4/5] END learning_rate=0.001, max_depth=7, n_estimators=836;, score=(train=0.843, test=0.475) total time=   2.7s\n",
      "[CV 5/5] END learning_rate=0.001, max_depth=7, n_estimators=836;, score=(train=0.863, test=0.123) total time=   2.7s\n",
      "[CV 1/5] END learning_rate=0.3164736842105263, max_depth=1, n_estimators=100;, score=(train=0.710, test=0.626) total time=   0.1s\n",
      "[CV 2/5] END learning_rate=0.3164736842105263, max_depth=1, n_estimators=100;, score=(train=0.687, test=0.746) total time=   0.1s\n",
      "[CV 3/5] END learning_rate=0.3164736842105263, max_depth=1, n_estimators=100;, score=(train=0.707, test=0.647) total time=   0.1s\n",
      "[CV 4/5] END learning_rate=0.3164736842105263, max_depth=1, n_estimators=100;, score=(train=0.769, test=0.532) total time=   0.1s\n",
      "[CV 5/5] END learning_rate=0.3164736842105263, max_depth=1, n_estimators=100;, score=(train=0.781, test=0.169) total time=   0.1s\n",
      "[CV 1/5] END learning_rate=1.0, max_depth=3, n_estimators=1767;, score=(train=0.998, test=0.587) total time=   1.9s\n",
      "[CV 2/5] END learning_rate=1.0, max_depth=3, n_estimators=1767;, score=(train=0.998, test=0.682) total time=   1.9s\n",
      "[CV 3/5] END learning_rate=1.0, max_depth=3, n_estimators=1767;, score=(train=0.998, test=0.636) total time=   1.9s\n",
      "[CV 4/5] END learning_rate=1.0, max_depth=3, n_estimators=1767;, score=(train=1.000, test=0.550) total time=   1.0s\n",
      "[CV 5/5] END learning_rate=1.0, max_depth=3, n_estimators=1767;, score=(train=1.000, test=0.297) total time=   0.9s\n",
      "[CV 1/5] END learning_rate=0.1061578947368421, max_depth=9, n_estimators=1961;, score=(train=0.998, test=0.595) total time=   4.9s\n",
      "[CV 2/5] END learning_rate=0.1061578947368421, max_depth=9, n_estimators=1961;, score=(train=0.998, test=0.704) total time=   5.0s\n",
      "[CV 3/5] END learning_rate=0.1061578947368421, max_depth=9, n_estimators=1961;, score=(train=0.998, test=0.658) total time=   4.8s\n",
      "[CV 4/5] END learning_rate=0.1061578947368421, max_depth=9, n_estimators=1961;, score=(train=1.000, test=0.549) total time=   2.4s\n",
      "[CV 5/5] END learning_rate=0.1061578947368421, max_depth=9, n_estimators=1961;, score=(train=1.000, test=0.205) total time=   2.1s\n",
      "[CV 1/5] END learning_rate=0.8422631578947368, max_depth=20, n_estimators=1573;, score=(train=0.998, test=0.555) total time=   3.8s\n",
      "[CV 2/5] END learning_rate=0.8422631578947368, max_depth=20, n_estimators=1573;, score=(train=0.998, test=0.611) total time=   5.3s\n",
      "[CV 3/5] END learning_rate=0.8422631578947368, max_depth=20, n_estimators=1573;, score=(train=0.998, test=0.529) total time=   4.7s\n",
      "[CV 4/5] END learning_rate=0.8422631578947368, max_depth=20, n_estimators=1573;, score=(train=1.000, test=0.507) total time=   0.4s\n",
      "[CV 5/5] END learning_rate=0.8422631578947368, max_depth=20, n_estimators=1573;, score=(train=1.000, test=0.446) total time=   0.3s\n",
      "[CV 1/5] END learning_rate=0.6319473684210526, max_depth=9, n_estimators=953;, score=(train=0.998, test=0.626) total time=   1.8s\n",
      "[CV 2/5] END learning_rate=0.6319473684210526, max_depth=9, n_estimators=953;, score=(train=0.998, test=0.697) total time=   1.9s\n",
      "[CV 3/5] END learning_rate=0.6319473684210526, max_depth=9, n_estimators=953;, score=(train=0.998, test=0.694) total time=   1.8s\n",
      "[CV 4/5] END learning_rate=0.6319473684210526, max_depth=9, n_estimators=953;, score=(train=1.000, test=0.552) total time=   0.5s\n",
      "[CV 5/5] END learning_rate=0.6319473684210526, max_depth=9, n_estimators=953;, score=(train=1.000, test=0.222) total time=   0.5s\n",
      "[CV 1/5] END learning_rate=0.36905263157894735, max_depth=9, n_estimators=255;, score=(train=0.998, test=0.607) total time=   0.9s\n",
      "[CV 2/5] END learning_rate=0.36905263157894735, max_depth=9, n_estimators=255;, score=(train=0.998, test=0.701) total time=   0.9s\n",
      "[CV 3/5] END learning_rate=0.36905263157894735, max_depth=9, n_estimators=255;, score=(train=0.998, test=0.634) total time=   0.8s\n",
      "[CV 4/5] END learning_rate=0.36905263157894735, max_depth=9, n_estimators=255;, score=(train=1.000, test=0.534) total time=   0.7s\n",
      "[CV 5/5] END learning_rate=0.36905263157894735, max_depth=9, n_estimators=255;, score=(train=1.000, test=0.261) total time=   0.6s\n",
      "[CV 1/5] END learning_rate=0.9474210526315789, max_depth=7, n_estimators=1767;, score=(train=0.998, test=0.578) total time=   2.8s\n",
      "[CV 2/5] END learning_rate=0.9474210526315789, max_depth=7, n_estimators=1767;, score=(train=0.998, test=0.727) total time=   3.1s\n",
      "[CV 3/5] END learning_rate=0.9474210526315789, max_depth=7, n_estimators=1767;, score=(train=0.998, test=0.582) total time=   2.6s\n",
      "[CV 4/5] END learning_rate=0.9474210526315789, max_depth=7, n_estimators=1767;, score=(train=1.000, test=0.570) total time=   0.6s\n",
      "[CV 5/5] END learning_rate=0.9474210526315789, max_depth=7, n_estimators=1767;, score=(train=1.000, test=0.232) total time=   0.5s\n",
      "[CV 1/5] END learning_rate=0.7371052631578947, max_depth=3, n_estimators=797;, score=(train=0.998, test=0.576) total time=   1.0s\n",
      "[CV 2/5] END learning_rate=0.7371052631578947, max_depth=3, n_estimators=797;, score=(train=0.998, test=0.710) total time=   1.1s\n",
      "[CV 3/5] END learning_rate=0.7371052631578947, max_depth=3, n_estimators=797;, score=(train=0.998, test=0.610) total time=   1.1s\n",
      "[CV 4/5] END learning_rate=0.7371052631578947, max_depth=3, n_estimators=797;, score=(train=1.000, test=0.585) total time=   1.1s\n",
      "[CV 5/5] END learning_rate=0.7371052631578947, max_depth=3, n_estimators=797;, score=(train=1.000, test=0.247) total time=   1.0s\n",
      "[CV 1/5] END learning_rate=0.9474210526315789, max_depth=7, n_estimators=953;, score=(train=0.998, test=0.586) total time=   1.5s\n",
      "[CV 2/5] END learning_rate=0.9474210526315789, max_depth=7, n_estimators=953;, score=(train=0.998, test=0.701) total time=   1.6s\n",
      "[CV 3/5] END learning_rate=0.9474210526315789, max_depth=7, n_estimators=953;, score=(train=0.998, test=0.639) total time=   1.5s\n",
      "[CV 4/5] END learning_rate=0.9474210526315789, max_depth=7, n_estimators=953;, score=(train=1.000, test=0.564) total time=   0.5s\n",
      "[CV 5/5] END learning_rate=0.9474210526315789, max_depth=7, n_estimators=953;, score=(train=1.000, test=0.225) total time=   0.4s\n",
      "[CV 1/5] END learning_rate=0.7896842105263158, max_depth=15, n_estimators=642;, score=(train=0.998, test=0.585) total time=   1.5s\n",
      "[CV 2/5] END learning_rate=0.7896842105263158, max_depth=15, n_estimators=642;, score=(train=0.998, test=0.667) total time=   1.7s\n",
      "[CV 3/5] END learning_rate=0.7896842105263158, max_depth=15, n_estimators=642;, score=(train=0.998, test=0.653) total time=   1.5s\n",
      "[CV 4/5] END learning_rate=0.7896842105263158, max_depth=15, n_estimators=642;, score=(train=1.000, test=0.575) total time=   0.3s\n",
      "[CV 5/5] END learning_rate=0.7896842105263158, max_depth=15, n_estimators=642;, score=(train=1.000, test=0.414) total time=   0.2s\n",
      "[CV 1/5] END learning_rate=0.4216315789473684, max_depth=17, n_estimators=759;, score=(train=0.998, test=0.595) total time=   2.0s\n",
      "[CV 2/5] END learning_rate=0.4216315789473684, max_depth=17, n_estimators=759;, score=(train=0.998, test=0.678) total time=   2.2s\n",
      "[CV 3/5] END learning_rate=0.4216315789473684, max_depth=17, n_estimators=759;, score=(train=0.998, test=0.649) total time=   2.0s\n",
      "[CV 4/5] END learning_rate=0.4216315789473684, max_depth=17, n_estimators=759;, score=(train=1.000, test=0.480) total time=   0.4s\n",
      "[CV 5/5] END learning_rate=0.4216315789473684, max_depth=17, n_estimators=759;, score=(train=1.000, test=0.410) total time=   0.3s\n",
      "[CV 1/5] END learning_rate=0.8948421052631579, max_depth=17, n_estimators=1224;, score=(train=0.998, test=0.559) total time=   2.7s\n",
      "[CV 2/5] END learning_rate=0.8948421052631579, max_depth=17, n_estimators=1224;, score=(train=0.998, test=0.641) total time=   3.6s\n",
      "[CV 3/5] END learning_rate=0.8948421052631579, max_depth=17, n_estimators=1224;, score=(train=0.998, test=0.597) total time=   2.5s\n",
      "[CV 4/5] END learning_rate=0.8948421052631579, max_depth=17, n_estimators=1224;, score=(train=1.000, test=0.527) total time=   0.3s\n",
      "[CV 5/5] END learning_rate=0.8948421052631579, max_depth=17, n_estimators=1224;, score=(train=1.000, test=0.407) total time=   0.3s\n",
      "[CV 1/5] END learning_rate=0.6845263157894736, max_depth=11, n_estimators=1418;, score=(train=0.998, test=0.612) total time=   2.8s\n",
      "[CV 2/5] END learning_rate=0.6845263157894736, max_depth=11, n_estimators=1418;, score=(train=0.998, test=0.667) total time=   3.3s\n",
      "[CV 3/5] END learning_rate=0.6845263157894736, max_depth=11, n_estimators=1418;, score=(train=0.998, test=0.606) total time=   2.9s\n",
      "[CV 4/5] END learning_rate=0.6845263157894736, max_depth=11, n_estimators=1418;, score=(train=1.000, test=0.500) total time=   0.5s\n",
      "[CV 5/5] END learning_rate=0.6845263157894736, max_depth=11, n_estimators=1418;, score=(train=1.000, test=0.280) total time=   0.5s\n",
      "[CV 1/5] END learning_rate=0.8948421052631579, max_depth=17, n_estimators=2000;, score=(train=0.998, test=0.588) total time=   4.5s\n",
      "[CV 2/5] END learning_rate=0.8948421052631579, max_depth=17, n_estimators=2000;, score=(train=0.998, test=0.658) total time=   6.4s\n",
      "[CV 3/5] END learning_rate=0.8948421052631579, max_depth=17, n_estimators=2000;, score=(train=0.998, test=0.574) total time=   5.4s\n",
      "[CV 4/5] END learning_rate=0.8948421052631579, max_depth=17, n_estimators=2000;, score=(train=1.000, test=0.527) total time=   0.5s\n",
      "[CV 5/5] END learning_rate=0.8948421052631579, max_depth=17, n_estimators=2000;, score=(train=1.000, test=0.375) total time=   0.4s\n",
      "[CV 1/5] END learning_rate=0.26389473684210524, max_depth=20, n_estimators=1185;, score=(train=0.998, test=0.615) total time=   3.1s\n",
      "[CV 2/5] END learning_rate=0.26389473684210524, max_depth=20, n_estimators=1185;, score=(train=0.998, test=0.670) total time=   3.7s\n",
      "[CV 3/5] END learning_rate=0.26389473684210524, max_depth=20, n_estimators=1185;, score=(train=0.998, test=0.658) total time=   3.3s\n",
      "[CV 4/5] END learning_rate=0.26389473684210524, max_depth=20, n_estimators=1185;, score=(train=1.000, test=0.526) total time=   0.6s\n",
      "[CV 5/5] END learning_rate=0.26389473684210524, max_depth=20, n_estimators=1185;, score=(train=1.000, test=0.375) total time=   0.5s\n",
      "[CV 1/5] END learning_rate=0.7896842105263158, max_depth=11, n_estimators=720;, score=(train=0.998, test=0.662) total time=   1.5s\n",
      "[CV 2/5] END learning_rate=0.7896842105263158, max_depth=11, n_estimators=720;, score=(train=0.998, test=0.727) total time=   1.6s\n",
      "[CV 3/5] END learning_rate=0.7896842105263158, max_depth=11, n_estimators=720;, score=(train=0.998, test=0.658) total time=   1.5s\n",
      "[CV 4/5] END learning_rate=0.7896842105263158, max_depth=11, n_estimators=720;, score=(train=1.000, test=0.582) total time=   0.4s\n",
      "[CV 5/5] END learning_rate=0.7896842105263158, max_depth=11, n_estimators=720;, score=(train=1.000, test=0.200) total time=   0.3s\n",
      "[CV 1/5] END learning_rate=0.001, max_depth=13, n_estimators=1573;, score=(train=0.997, test=0.571) total time=   9.6s\n",
      "[CV 2/5] END learning_rate=0.001, max_depth=13, n_estimators=1573;, score=(train=0.998, test=0.652) total time=   9.2s\n",
      "[CV 3/5] END learning_rate=0.001, max_depth=13, n_estimators=1573;, score=(train=0.998, test=0.701) total time=  11.0s\n",
      "[CV 4/5] END learning_rate=0.001, max_depth=13, n_estimators=1573;, score=(train=1.000, test=0.524) total time=  10.9s\n",
      "[CV 5/5] END learning_rate=0.001, max_depth=13, n_estimators=1573;, score=(train=1.000, test=0.431) total time=   7.8s\n",
      "[CV 1/5] END learning_rate=0.4216315789473684, max_depth=11, n_estimators=410;, score=(train=0.998, test=0.605) total time=   1.4s\n",
      "[CV 2/5] END learning_rate=0.4216315789473684, max_depth=11, n_estimators=410;, score=(train=0.998, test=0.705) total time=   1.5s\n",
      "[CV 3/5] END learning_rate=0.4216315789473684, max_depth=11, n_estimators=410;, score=(train=0.998, test=0.648) total time=   1.3s\n",
      "[CV 4/5] END learning_rate=0.4216315789473684, max_depth=11, n_estimators=410;, score=(train=1.000, test=0.568) total time=   0.7s\n",
      "[CV 5/5] END learning_rate=0.4216315789473684, max_depth=11, n_estimators=410;, score=(train=1.000, test=0.316) total time=   0.6s\n",
      "[CV 1/5] END learning_rate=0.001, max_depth=5, n_estimators=1689;, score=(train=0.756, test=0.524) total time=   4.1s\n",
      "[CV 2/5] END learning_rate=0.001, max_depth=5, n_estimators=1689;, score=(train=0.791, test=0.726) total time=   4.1s\n",
      "[CV 3/5] END learning_rate=0.001, max_depth=5, n_estimators=1689;, score=(train=0.783, test=0.681) total time=   3.9s\n",
      "[CV 4/5] END learning_rate=0.001, max_depth=5, n_estimators=1689;, score=(train=0.847, test=0.544) total time=   3.9s\n",
      "[CV 5/5] END learning_rate=0.001, max_depth=5, n_estimators=1689;, score=(train=0.827, test=0.098) total time=   3.8s\n",
      "[CV 1/5] END learning_rate=0.15873684210526315, max_depth=20, n_estimators=293;, score=(train=0.998, test=0.576) total time=   1.3s\n",
      "[CV 2/5] END learning_rate=0.15873684210526315, max_depth=20, n_estimators=293;, score=(train=0.998, test=0.685) total time=   1.2s\n",
      "[CV 3/5] END learning_rate=0.15873684210526315, max_depth=20, n_estimators=293;, score=(train=0.998, test=0.675) total time=   1.1s\n",
      "[CV 4/5] END learning_rate=0.15873684210526315, max_depth=20, n_estimators=293;, score=(train=1.000, test=0.517) total time=   0.7s\n",
      "[CV 5/5] END learning_rate=0.15873684210526315, max_depth=20, n_estimators=293;, score=(train=1.000, test=0.386) total time=   0.6s\n",
      "[CV 1/5] END learning_rate=0.2113157894736842, max_depth=3, n_estimators=1418;, score=(train=0.998, test=0.578) total time=   1.9s\n",
      "[CV 2/5] END learning_rate=0.2113157894736842, max_depth=3, n_estimators=1418;, score=(train=0.998, test=0.712) total time=   2.0s\n",
      "[CV 3/5] END learning_rate=0.2113157894736842, max_depth=3, n_estimators=1418;, score=(train=0.998, test=0.604) total time=   1.9s\n",
      "[CV 4/5] END learning_rate=0.2113157894736842, max_depth=3, n_estimators=1418;, score=(train=1.000, test=0.537) total time=   2.0s\n",
      "[CV 5/5] END learning_rate=0.2113157894736842, max_depth=3, n_estimators=1418;, score=(train=1.000, test=0.265) total time=   1.9s\n",
      "[CV 1/5] END learning_rate=0.1061578947368421, max_depth=17, n_estimators=255;, score=(train=0.998, test=0.532) total time=   1.5s\n",
      "[CV 2/5] END learning_rate=0.1061578947368421, max_depth=17, n_estimators=255;, score=(train=0.998, test=0.667) total time=   1.2s\n",
      "[CV 3/5] END learning_rate=0.1061578947368421, max_depth=17, n_estimators=255;, score=(train=0.998, test=0.692) total time=   1.2s\n",
      "[CV 4/5] END learning_rate=0.1061578947368421, max_depth=17, n_estimators=255;, score=(train=1.000, test=0.553) total time=   1.4s\n",
      "[CV 5/5] END learning_rate=0.1061578947368421, max_depth=17, n_estimators=255;, score=(train=1.000, test=0.459) total time=   0.9s\n",
      "[CV 1/5] END learning_rate=0.8948421052631579, max_depth=15, n_estimators=953;, score=(train=0.998, test=0.620) total time=   2.3s\n",
      "[CV 2/5] END learning_rate=0.8948421052631579, max_depth=15, n_estimators=953;, score=(train=0.998, test=0.675) total time=   2.8s\n",
      "[CV 3/5] END learning_rate=0.8948421052631579, max_depth=15, n_estimators=953;, score=(train=0.998, test=0.638) total time=   2.3s\n",
      "[CV 4/5] END learning_rate=0.8948421052631579, max_depth=15, n_estimators=953;, score=(train=1.000, test=0.581) total time=   0.3s\n",
      "[CV 5/5] END learning_rate=0.8948421052631579, max_depth=15, n_estimators=953;, score=(train=1.000, test=0.414) total time=   0.2s\n",
      "[CV 1/5] END learning_rate=0.9474210526315789, max_depth=3, n_estimators=875;, score=(train=0.998, test=0.636) total time=   1.1s\n",
      "[CV 2/5] END learning_rate=0.9474210526315789, max_depth=3, n_estimators=875;, score=(train=0.998, test=0.692) total time=   1.2s\n",
      "[CV 3/5] END learning_rate=0.9474210526315789, max_depth=3, n_estimators=875;, score=(train=0.998, test=0.622) total time=   1.2s\n",
      "[CV 4/5] END learning_rate=0.9474210526315789, max_depth=3, n_estimators=875;, score=(train=1.000, test=0.591) total time=   1.0s\n",
      "[CV 5/5] END learning_rate=0.9474210526315789, max_depth=3, n_estimators=875;, score=(train=1.000, test=0.265) total time=   0.8s\n",
      "[CV 1/5] END learning_rate=0.001, max_depth=5, n_estimators=1030;, score=(train=0.644, test=0.467) total time=   2.1s\n",
      "[CV 2/5] END learning_rate=0.001, max_depth=5, n_estimators=1030;, score=(train=0.679, test=0.715) total time=   2.4s\n",
      "[CV 3/5] END learning_rate=0.001, max_depth=5, n_estimators=1030;, score=(train=0.693, test=0.729) total time=   2.3s\n",
      "[CV 4/5] END learning_rate=0.001, max_depth=5, n_estimators=1030;, score=(train=0.758, test=0.458) total time=   2.3s\n",
      "[CV 5/5] END learning_rate=0.001, max_depth=5, n_estimators=1030;, score=(train=0.811, test=0.025) total time=   2.2s\n",
      "[CV 1/5] END learning_rate=0.1061578947368421, max_depth=13, n_estimators=604;, score=(train=0.998, test=0.646) total time=   2.8s\n",
      "[CV 2/5] END learning_rate=0.1061578947368421, max_depth=13, n_estimators=604;, score=(train=0.998, test=0.702) total time=   2.6s\n",
      "[CV 3/5] END learning_rate=0.1061578947368421, max_depth=13, n_estimators=604;, score=(train=0.998, test=0.630) total time=   2.6s\n",
      "[CV 4/5] END learning_rate=0.1061578947368421, max_depth=13, n_estimators=604;, score=(train=1.000, test=0.575) total time=   1.5s\n",
      "[CV 5/5] END learning_rate=0.1061578947368421, max_depth=13, n_estimators=604;, score=(train=1.000, test=0.386) total time=   0.9s\n",
      "[CV 1/5] END learning_rate=0.7371052631578947, max_depth=7, n_estimators=1495;, score=(train=0.998, test=0.633) total time=   2.4s\n",
      "[CV 2/5] END learning_rate=0.7371052631578947, max_depth=7, n_estimators=1495;, score=(train=0.998, test=0.674) total time=   2.6s\n",
      "[CV 3/5] END learning_rate=0.7371052631578947, max_depth=7, n_estimators=1495;, score=(train=0.998, test=0.626) total time=   2.4s\n",
      "[CV 4/5] END learning_rate=0.7371052631578947, max_depth=7, n_estimators=1495;, score=(train=1.000, test=0.562) total time=   0.6s\n",
      "[CV 5/5] END learning_rate=0.7371052631578947, max_depth=7, n_estimators=1495;, score=(train=1.000, test=0.312) total time=   0.6s\n",
      "[CV 1/5] END learning_rate=0.6845263157894736, max_depth=9, n_estimators=293;, score=(train=0.998, test=0.646) total time=   0.7s\n",
      "[CV 2/5] END learning_rate=0.6845263157894736, max_depth=9, n_estimators=293;, score=(train=0.998, test=0.689) total time=   0.7s\n",
      "[CV 3/5] END learning_rate=0.6845263157894736, max_depth=9, n_estimators=293;, score=(train=0.998, test=0.648) total time=   0.7s\n",
      "[CV 4/5] END learning_rate=0.6845263157894736, max_depth=9, n_estimators=293;, score=(train=1.000, test=0.547) total time=   0.4s\n",
      "[CV 5/5] END learning_rate=0.6845263157894736, max_depth=9, n_estimators=293;, score=(train=1.000, test=0.200) total time=   0.4s\n",
      "[CV 1/5] END learning_rate=0.3164736842105263, max_depth=1, n_estimators=177;, score=(train=0.725, test=0.632) total time=   0.1s\n",
      "[CV 2/5] END learning_rate=0.3164736842105263, max_depth=1, n_estimators=177;, score=(train=0.718, test=0.734) total time=   0.1s\n",
      "[CV 3/5] END learning_rate=0.3164736842105263, max_depth=1, n_estimators=177;, score=(train=0.762, test=0.633) total time=   0.1s\n",
      "[CV 4/5] END learning_rate=0.3164736842105263, max_depth=1, n_estimators=177;, score=(train=0.792, test=0.585) total time=   0.1s\n",
      "[CV 5/5] END learning_rate=0.3164736842105263, max_depth=1, n_estimators=177;, score=(train=0.777, test=0.165) total time=   0.1s\n",
      "[CV 1/5] END learning_rate=0.36905263157894735, max_depth=11, n_estimators=1108;, score=(train=0.998, test=0.657) total time=   2.5s\n",
      "[CV 2/5] END learning_rate=0.36905263157894735, max_depth=11, n_estimators=1108;, score=(train=0.998, test=0.693) total time=   2.7s\n",
      "[CV 3/5] END learning_rate=0.36905263157894735, max_depth=11, n_estimators=1108;, score=(train=0.998, test=0.680) total time=   2.5s\n",
      "[CV 4/5] END learning_rate=0.36905263157894735, max_depth=11, n_estimators=1108;, score=(train=1.000, test=0.504) total time=   0.7s\n",
      "[CV 5/5] END learning_rate=0.36905263157894735, max_depth=11, n_estimators=1108;, score=(train=1.000, test=0.239) total time=   0.7s\n",
      "[CV 1/5] END learning_rate=0.7371052631578947, max_depth=15, n_estimators=255;, score=(train=0.998, test=0.589) total time=   0.7s\n",
      "[CV 2/5] END learning_rate=0.7371052631578947, max_depth=15, n_estimators=255;, score=(train=0.998, test=0.689) total time=   0.8s\n",
      "[CV 3/5] END learning_rate=0.7371052631578947, max_depth=15, n_estimators=255;, score=(train=0.998, test=0.667) total time=   0.7s\n",
      "[CV 4/5] END learning_rate=0.7371052631578947, max_depth=15, n_estimators=255;, score=(train=1.000, test=0.544) total time=   0.2s\n",
      "[CV 5/5] END learning_rate=0.7371052631578947, max_depth=15, n_estimators=255;, score=(train=1.000, test=0.386) total time=   0.2s\n",
      "[CV 1/5] END learning_rate=0.7371052631578947, max_depth=3, n_estimators=410;, score=(train=0.998, test=0.597) total time=   0.5s\n",
      "[CV 2/5] END learning_rate=0.7371052631578947, max_depth=3, n_estimators=410;, score=(train=0.998, test=0.703) total time=   0.6s\n",
      "[CV 3/5] END learning_rate=0.7371052631578947, max_depth=3, n_estimators=410;, score=(train=0.998, test=0.623) total time=   0.6s\n",
      "[CV 4/5] END learning_rate=0.7371052631578947, max_depth=3, n_estimators=410;, score=(train=1.000, test=0.577) total time=   0.6s\n",
      "[CV 5/5] END learning_rate=0.7371052631578947, max_depth=3, n_estimators=410;, score=(train=1.000, test=0.268) total time=   0.6s\n",
      "[CV 1/5] END learning_rate=0.47421052631578947, max_depth=1, n_estimators=1379;, score=(train=0.882, test=0.603) total time=   0.7s\n",
      "[CV 2/5] END learning_rate=0.47421052631578947, max_depth=1, n_estimators=1379;, score=(train=0.869, test=0.690) total time=   0.8s\n",
      "[CV 3/5] END learning_rate=0.47421052631578947, max_depth=1, n_estimators=1379;, score=(train=0.845, test=0.667) total time=   0.7s\n",
      "[CV 4/5] END learning_rate=0.47421052631578947, max_depth=1, n_estimators=1379;, score=(train=0.889, test=0.583) total time=   0.7s\n",
      "[CV 5/5] END learning_rate=0.47421052631578947, max_depth=1, n_estimators=1379;, score=(train=0.901, test=0.237) total time=   0.7s\n",
      "[CV 1/5] END learning_rate=0.3164736842105263, max_depth=1, n_estimators=1224;, score=(train=0.852, test=0.615) total time=   0.6s\n",
      "[CV 2/5] END learning_rate=0.3164736842105263, max_depth=1, n_estimators=1224;, score=(train=0.837, test=0.718) total time=   0.7s\n",
      "[CV 3/5] END learning_rate=0.3164736842105263, max_depth=1, n_estimators=1224;, score=(train=0.813, test=0.645) total time=   0.7s\n",
      "[CV 4/5] END learning_rate=0.3164736842105263, max_depth=1, n_estimators=1224;, score=(train=0.860, test=0.581) total time=   0.7s\n",
      "[CV 5/5] END learning_rate=0.3164736842105263, max_depth=1, n_estimators=1224;, score=(train=0.864, test=0.239) total time=   0.7s\n",
      "[CV 1/5] END learning_rate=0.2113157894736842, max_depth=3, n_estimators=1263;, score=(train=0.998, test=0.574) total time=   1.6s\n",
      "[CV 2/5] END learning_rate=0.2113157894736842, max_depth=3, n_estimators=1263;, score=(train=0.998, test=0.709) total time=   1.7s\n",
      "[CV 3/5] END learning_rate=0.2113157894736842, max_depth=3, n_estimators=1263;, score=(train=0.998, test=0.613) total time=   1.7s\n",
      "[CV 4/5] END learning_rate=0.2113157894736842, max_depth=3, n_estimators=1263;, score=(train=1.000, test=0.527) total time=   1.7s\n",
      "[CV 5/5] END learning_rate=0.2113157894736842, max_depth=3, n_estimators=1263;, score=(train=1.000, test=0.286) total time=   1.7s\n",
      "[CV 1/5] END learning_rate=0.47421052631578947, max_depth=13, n_estimators=565;, score=(train=0.998, test=0.614) total time=   1.4s\n",
      "[CV 2/5] END learning_rate=0.47421052631578947, max_depth=13, n_estimators=565;, score=(train=0.998, test=0.696) total time=   1.6s\n",
      "[CV 3/5] END learning_rate=0.47421052631578947, max_depth=13, n_estimators=565;, score=(train=0.998, test=0.639) total time=   1.4s\n",
      "[CV 4/5] END learning_rate=0.47421052631578947, max_depth=13, n_estimators=565;, score=(train=1.000, test=0.558) total time=   0.5s\n",
      "[CV 5/5] END learning_rate=0.47421052631578947, max_depth=13, n_estimators=565;, score=(train=1.000, test=0.441) total time=   0.3s\n",
      "[CV 1/5] END learning_rate=0.36905263157894735, max_depth=1, n_estimators=1030;, score=(train=0.849, test=0.615) total time=   0.5s\n",
      "[CV 2/5] END learning_rate=0.36905263157894735, max_depth=1, n_estimators=1030;, score=(train=0.840, test=0.718) total time=   0.6s\n",
      "[CV 3/5] END learning_rate=0.36905263157894735, max_depth=1, n_estimators=1030;, score=(train=0.819, test=0.649) total time=   0.6s\n",
      "[CV 4/5] END learning_rate=0.36905263157894735, max_depth=1, n_estimators=1030;, score=(train=0.856, test=0.595) total time=   0.6s\n",
      "[CV 5/5] END learning_rate=0.36905263157894735, max_depth=1, n_estimators=1030;, score=(train=0.859, test=0.239) total time=   0.6s\n",
      "[CV 1/5] END learning_rate=0.7896842105263158, max_depth=15, n_estimators=1806;, score=(train=0.998, test=0.551) total time=   4.0s\n",
      "[CV 2/5] END learning_rate=0.7896842105263158, max_depth=15, n_estimators=1806;, score=(train=0.998, test=0.644) total time=   5.1s\n",
      "[CV 3/5] END learning_rate=0.7896842105263158, max_depth=15, n_estimators=1806;, score=(train=0.998, test=0.567) total time=   4.6s\n",
      "[CV 4/5] END learning_rate=0.7896842105263158, max_depth=15, n_estimators=1806;, score=(train=1.000, test=0.535) total time=   0.5s\n",
      "[CV 5/5] END learning_rate=0.7896842105263158, max_depth=15, n_estimators=1806;, score=(train=1.000, test=0.372) total time=   0.4s\n",
      "[CV 1/5] END learning_rate=0.8948421052631579, max_depth=11, n_estimators=1922;, score=(train=0.998, test=0.526) total time=   3.7s\n",
      "[CV 2/5] END learning_rate=0.8948421052631579, max_depth=11, n_estimators=1922;, score=(train=0.998, test=0.685) total time=   4.5s\n",
      "[CV 3/5] END learning_rate=0.8948421052631579, max_depth=11, n_estimators=1922;, score=(train=0.998, test=0.578) total time=   3.9s\n",
      "[CV 4/5] END learning_rate=0.8948421052631579, max_depth=11, n_estimators=1922;, score=(train=1.000, test=0.529) total time=   0.6s\n",
      "[CV 5/5] END learning_rate=0.8948421052631579, max_depth=11, n_estimators=1922;, score=(train=1.000, test=0.222) total time=   0.5s\n",
      "[CV 1/5] END learning_rate=0.1061578947368421, max_depth=20, n_estimators=177;, score=(train=0.998, test=0.620) total time=   1.1s\n",
      "[CV 2/5] END learning_rate=0.1061578947368421, max_depth=20, n_estimators=177;, score=(train=0.998, test=0.685) total time=   1.0s\n",
      "[CV 3/5] END learning_rate=0.1061578947368421, max_depth=20, n_estimators=177;, score=(train=0.998, test=0.697) total time=   1.0s\n",
      "[CV 4/5] END learning_rate=0.1061578947368421, max_depth=20, n_estimators=177;, score=(train=1.000, test=0.532) total time=   1.0s\n",
      "[CV 5/5] END learning_rate=0.1061578947368421, max_depth=20, n_estimators=177;, score=(train=1.000, test=0.393) total time=   0.8s\n",
      "[CV 1/5] END learning_rate=0.2113157894736842, max_depth=5, n_estimators=953;, score=(train=0.998, test=0.602) total time=   2.1s\n",
      "[CV 2/5] END learning_rate=0.2113157894736842, max_depth=5, n_estimators=953;, score=(train=0.998, test=0.720) total time=   2.1s\n",
      "[CV 3/5] END learning_rate=0.2113157894736842, max_depth=5, n_estimators=953;, score=(train=0.998, test=0.658) total time=   2.1s\n",
      "[CV 4/5] END learning_rate=0.2113157894736842, max_depth=5, n_estimators=953;, score=(train=1.000, test=0.570) total time=   2.0s\n",
      "[CV 5/5] END learning_rate=0.2113157894736842, max_depth=5, n_estimators=953;, score=(train=1.000, test=0.283) total time=   1.7s\n",
      "[CV 1/5] END learning_rate=0.8422631578947368, max_depth=1, n_estimators=2000;, score=(train=0.701, test=0.677) total time=   1.0s\n",
      "[CV 2/5] END learning_rate=0.8422631578947368, max_depth=1, n_estimators=2000;, score=(train=0.948, test=0.690) total time=   1.1s\n",
      "[CV 3/5] END learning_rate=0.8422631578947368, max_depth=1, n_estimators=2000;, score=(train=0.708, test=0.647) total time=   1.1s\n",
      "[CV 4/5] END learning_rate=0.8422631578947368, max_depth=1, n_estimators=2000;, score=(train=0.953, test=0.594) total time=   1.1s\n",
      "[CV 5/5] END learning_rate=0.8422631578947368, max_depth=1, n_estimators=2000;, score=(train=0.971, test=0.311) total time=   1.1s\n",
      "[CV 1/5] END learning_rate=0.6319473684210526, max_depth=1, n_estimators=642;, score=(train=0.861, test=0.623) total time=   0.3s\n",
      "[CV 2/5] END learning_rate=0.6319473684210526, max_depth=1, n_estimators=642;, score=(train=0.851, test=0.701) total time=   0.4s\n",
      "[CV 3/5] END learning_rate=0.6319473684210526, max_depth=1, n_estimators=642;, score=(train=0.832, test=0.654) total time=   0.3s\n",
      "[CV 4/5] END learning_rate=0.6319473684210526, max_depth=1, n_estimators=642;, score=(train=0.867, test=0.595) total time=   0.4s\n",
      "[CV 5/5] END learning_rate=0.6319473684210526, max_depth=1, n_estimators=642;, score=(train=0.865, test=0.220) total time=   0.3s\n",
      "[CV 1/5] END learning_rate=0.26389473684210524, max_depth=13, n_estimators=720;, score=(train=0.998, test=0.585) total time=   2.0s\n",
      "[CV 2/5] END learning_rate=0.26389473684210524, max_depth=13, n_estimators=720;, score=(train=0.998, test=0.694) total time=   2.2s\n",
      "[CV 3/5] END learning_rate=0.26389473684210524, max_depth=13, n_estimators=720;, score=(train=0.998, test=0.681) total time=   2.0s\n",
      "[CV 4/5] END learning_rate=0.26389473684210524, max_depth=13, n_estimators=720;, score=(train=1.000, test=0.550) total time=   0.9s\n",
      "[CV 5/5] END learning_rate=0.26389473684210524, max_depth=13, n_estimators=720;, score=(train=1.000, test=0.413) total time=   0.4s\n",
      "[CV 1/5] END learning_rate=1.0, max_depth=9, n_estimators=216;, score=(train=0.998, test=0.625) total time=   0.5s\n",
      "[CV 2/5] END learning_rate=1.0, max_depth=9, n_estimators=216;, score=(train=0.998, test=0.726) total time=   0.5s\n",
      "[CV 3/5] END learning_rate=1.0, max_depth=9, n_estimators=216;, score=(train=0.998, test=0.662) total time=   0.5s\n",
      "[CV 4/5] END learning_rate=1.0, max_depth=9, n_estimators=216;, score=(train=1.000, test=0.555) total time=   0.3s\n",
      "[CV 5/5] END learning_rate=1.0, max_depth=9, n_estimators=216;, score=(train=1.000, test=0.196) total time=   0.2s\n",
      "[CV 1/5] END learning_rate=0.5793684210526315, max_depth=17, n_estimators=720;, score=(train=0.998, test=0.549) total time=   1.8s\n",
      "[CV 2/5] END learning_rate=0.5793684210526315, max_depth=17, n_estimators=720;, score=(train=0.998, test=0.685) total time=   2.1s\n",
      "[CV 3/5] END learning_rate=0.5793684210526315, max_depth=17, n_estimators=720;, score=(train=0.998, test=0.649) total time=   1.8s\n",
      "[CV 4/5] END learning_rate=0.5793684210526315, max_depth=17, n_estimators=720;, score=(train=1.000, test=0.560) total time=   0.3s\n",
      "[CV 5/5] END learning_rate=0.5793684210526315, max_depth=17, n_estimators=720;, score=(train=1.000, test=0.414) total time=   0.3s\n",
      "[CV 1/5] END learning_rate=1.0, max_depth=7, n_estimators=797;, score=(train=0.998, test=0.609) total time=   1.3s\n",
      "[CV 2/5] END learning_rate=1.0, max_depth=7, n_estimators=797;, score=(train=0.998, test=0.689) total time=   1.3s\n",
      "[CV 3/5] END learning_rate=1.0, max_depth=7, n_estimators=797;, score=(train=0.998, test=0.649) total time=   1.3s\n",
      "[CV 4/5] END learning_rate=1.0, max_depth=7, n_estimators=797;, score=(train=1.000, test=0.537) total time=   0.4s\n",
      "[CV 5/5] END learning_rate=1.0, max_depth=7, n_estimators=797;, score=(train=1.000, test=0.217) total time=   0.4s\n",
      "[CV 1/5] END learning_rate=0.001, max_depth=3, n_estimators=1379;, score=(train=0.587, test=0.505) total time=   1.8s\n",
      "[CV 2/5] END learning_rate=0.001, max_depth=3, n_estimators=1379;, score=(train=0.636, test=0.727) total time=   1.9s\n",
      "[CV 3/5] END learning_rate=0.001, max_depth=3, n_estimators=1379;, score=(train=0.537, test=0.748) total time=   1.8s\n",
      "[CV 4/5] END learning_rate=0.001, max_depth=3, n_estimators=1379;, score=(train=0.616, test=0.442) total time=   1.8s\n",
      "[CV 5/5] END learning_rate=0.001, max_depth=3, n_estimators=1379;, score=(train=0.725, test=0.026) total time=   1.8s\n",
      "[CV 1/5] END learning_rate=0.6319473684210526, max_depth=3, n_estimators=914;, score=(train=0.998, test=0.561) total time=   1.2s\n",
      "[CV 2/5] END learning_rate=0.6319473684210526, max_depth=3, n_estimators=914;, score=(train=0.998, test=0.704) total time=   1.2s\n",
      "[CV 3/5] END learning_rate=0.6319473684210526, max_depth=3, n_estimators=914;, score=(train=0.998, test=0.623) total time=   1.2s\n",
      "[CV 4/5] END learning_rate=0.6319473684210526, max_depth=3, n_estimators=914;, score=(train=1.000, test=0.562) total time=   1.2s\n",
      "[CV 5/5] END learning_rate=0.6319473684210526, max_depth=3, n_estimators=914;, score=(train=1.000, test=0.211) total time=   1.1s\n",
      "[CV 1/5] END learning_rate=0.05357894736842105, max_depth=7, n_estimators=642;, score=(train=0.998, test=0.581) total time=   2.2s\n",
      "[CV 2/5] END learning_rate=0.05357894736842105, max_depth=7, n_estimators=642;, score=(train=0.998, test=0.715) total time=   2.3s\n",
      "[CV 3/5] END learning_rate=0.05357894736842105, max_depth=7, n_estimators=642;, score=(train=0.998, test=0.681) total time=   2.2s\n",
      "[CV 4/5] END learning_rate=0.05357894736842105, max_depth=7, n_estimators=642;, score=(train=1.000, test=0.583) total time=   2.2s\n",
      "[CV 5/5] END learning_rate=0.05357894736842105, max_depth=7, n_estimators=642;, score=(train=1.000, test=0.225) total time=   2.2s\n",
      "[CV 1/5] END learning_rate=0.6319473684210526, max_depth=9, n_estimators=487;, score=(train=0.998, test=0.623) total time=   1.1s\n",
      "[CV 2/5] END learning_rate=0.6319473684210526, max_depth=9, n_estimators=487;, score=(train=0.998, test=0.690) total time=   1.1s\n",
      "[CV 3/5] END learning_rate=0.6319473684210526, max_depth=9, n_estimators=487;, score=(train=0.998, test=0.667) total time=   1.0s\n",
      "[CV 4/5] END learning_rate=0.6319473684210526, max_depth=9, n_estimators=487;, score=(train=1.000, test=0.552) total time=   0.4s\n",
      "[CV 5/5] END learning_rate=0.6319473684210526, max_depth=9, n_estimators=487;, score=(train=1.000, test=0.242) total time=   0.4s\n",
      "[CV 1/5] END learning_rate=0.001, max_depth=9, n_estimators=487;, score=(train=0.755, test=0.475) total time=   1.9s\n",
      "[CV 2/5] END learning_rate=0.001, max_depth=9, n_estimators=487;, score=(train=0.858, test=0.675) total time=   2.1s\n",
      "[CV 3/5] END learning_rate=0.001, max_depth=9, n_estimators=487;, score=(train=0.818, test=0.773) total time=   2.2s\n",
      "[CV 4/5] END learning_rate=0.001, max_depth=9, n_estimators=487;, score=(train=0.835, test=0.464) total time=   2.1s\n",
      "[CV 5/5] END learning_rate=0.001, max_depth=9, n_estimators=487;, score=(train=0.938, test=0.165) total time=   2.1s\n",
      "[CV 1/5] END learning_rate=0.47421052631578947, max_depth=3, n_estimators=1612;, score=(train=0.998, test=0.555) total time=   2.1s\n",
      "[CV 2/5] END learning_rate=0.47421052631578947, max_depth=3, n_estimators=1612;, score=(train=0.998, test=0.712) total time=   2.1s\n",
      "[CV 3/5] END learning_rate=0.47421052631578947, max_depth=3, n_estimators=1612;, score=(train=0.998, test=0.622) total time=   2.1s\n",
      "[CV 4/5] END learning_rate=0.47421052631578947, max_depth=3, n_estimators=1612;, score=(train=1.000, test=0.556) total time=   1.8s\n",
      "[CV 5/5] END learning_rate=0.47421052631578947, max_depth=3, n_estimators=1612;, score=(train=1.000, test=0.280) total time=   1.6s\n",
      "[CV 1/5] END learning_rate=0.7371052631578947, max_depth=15, n_estimators=2000;, score=(train=0.998, test=0.581) total time=   4.4s\n",
      "[CV 2/5] END learning_rate=0.7371052631578947, max_depth=15, n_estimators=2000;, score=(train=0.998, test=0.658) total time=   5.8s\n",
      "[CV 3/5] END learning_rate=0.7371052631578947, max_depth=15, n_estimators=2000;, score=(train=0.998, test=0.603) total time=   4.9s\n",
      "[CV 4/5] END learning_rate=0.7371052631578947, max_depth=15, n_estimators=2000;, score=(train=1.000, test=0.531) total time=   0.6s\n",
      "[CV 5/5] END learning_rate=0.7371052631578947, max_depth=15, n_estimators=2000;, score=(train=1.000, test=0.431) total time=   0.4s\n",
      "[CV 1/5] END learning_rate=0.36905263157894735, max_depth=5, n_estimators=255;, score=(train=0.998, test=0.590) total time=   0.6s\n",
      "[CV 2/5] END learning_rate=0.36905263157894735, max_depth=5, n_estimators=255;, score=(train=0.998, test=0.712) total time=   0.6s\n",
      "[CV 3/5] END learning_rate=0.36905263157894735, max_depth=5, n_estimators=255;, score=(train=0.998, test=0.680) total time=   0.6s\n",
      "[CV 4/5] END learning_rate=0.36905263157894735, max_depth=5, n_estimators=255;, score=(train=1.000, test=0.577) total time=   0.6s\n",
      "[CV 5/5] END learning_rate=0.36905263157894735, max_depth=5, n_estimators=255;, score=(train=1.000, test=0.286) total time=   0.6s\n",
      "[CV 1/5] END learning_rate=0.47421052631578947, max_depth=3, n_estimators=1922;, score=(train=0.998, test=0.540) total time=   2.4s\n",
      "[CV 2/5] END learning_rate=0.47421052631578947, max_depth=3, n_estimators=1922;, score=(train=0.998, test=0.692) total time=   2.4s\n",
      "[CV 3/5] END learning_rate=0.47421052631578947, max_depth=3, n_estimators=1922;, score=(train=0.998, test=0.626) total time=   2.4s\n",
      "[CV 4/5] END learning_rate=0.47421052631578947, max_depth=3, n_estimators=1922;, score=(train=1.000, test=0.553) total time=   1.9s\n",
      "[CV 5/5] END learning_rate=0.47421052631578947, max_depth=3, n_estimators=1922;, score=(train=1.000, test=0.275) total time=   1.6s\n",
      "[CV 1/5] END learning_rate=0.6845263157894736, max_depth=5, n_estimators=216;, score=(train=0.998, test=0.587) total time=   0.5s\n",
      "[CV 2/5] END learning_rate=0.6845263157894736, max_depth=5, n_estimators=216;, score=(train=0.998, test=0.719) total time=   0.5s\n",
      "[CV 3/5] END learning_rate=0.6845263157894736, max_depth=5, n_estimators=216;, score=(train=0.998, test=0.649) total time=   0.5s\n",
      "[CV 4/5] END learning_rate=0.6845263157894736, max_depth=5, n_estimators=216;, score=(train=1.000, test=0.568) total time=   0.5s\n",
      "[CV 5/5] END learning_rate=0.6845263157894736, max_depth=5, n_estimators=216;, score=(train=1.000, test=0.234) total time=   0.5s\n",
      "[CV 1/5] END learning_rate=0.7371052631578947, max_depth=7, n_estimators=1689;, score=(train=0.998, test=0.618) total time=   2.7s\n",
      "[CV 2/5] END learning_rate=0.7371052631578947, max_depth=7, n_estimators=1689;, score=(train=0.998, test=0.713) total time=   2.8s\n",
      "[CV 3/5] END learning_rate=0.7371052631578947, max_depth=7, n_estimators=1689;, score=(train=0.998, test=0.658) total time=   2.6s\n",
      "[CV 4/5] END learning_rate=0.7371052631578947, max_depth=7, n_estimators=1689;, score=(train=1.000, test=0.560) total time=   0.6s\n",
      "[CV 5/5] END learning_rate=0.7371052631578947, max_depth=7, n_estimators=1689;, score=(train=1.000, test=0.237) total time=   0.6s\n",
      "[CV 1/5] END learning_rate=0.6845263157894736, max_depth=7, n_estimators=836;, score=(train=0.998, test=0.647) total time=   1.4s\n",
      "[CV 2/5] END learning_rate=0.6845263157894736, max_depth=7, n_estimators=836;, score=(train=0.998, test=0.700) total time=   1.5s\n",
      "[CV 3/5] END learning_rate=0.6845263157894736, max_depth=7, n_estimators=836;, score=(train=0.998, test=0.630) total time=   1.4s\n",
      "[CV 4/5] END learning_rate=0.6845263157894736, max_depth=7, n_estimators=836;, score=(train=1.000, test=0.571) total time=   0.6s\n",
      "[CV 5/5] END learning_rate=0.6845263157894736, max_depth=7, n_estimators=836;, score=(train=1.000, test=0.242) total time=   0.5s\n",
      "[CV 1/5] END learning_rate=0.15873684210526315, max_depth=7, n_estimators=836;, score=(train=0.998, test=0.614) total time=   2.4s\n",
      "[CV 2/5] END learning_rate=0.15873684210526315, max_depth=7, n_estimators=836;, score=(train=0.998, test=0.705) total time=   2.3s\n",
      "[CV 3/5] END learning_rate=0.15873684210526315, max_depth=7, n_estimators=836;, score=(train=0.998, test=0.643) total time=   2.3s\n",
      "[CV 4/5] END learning_rate=0.15873684210526315, max_depth=7, n_estimators=836;, score=(train=1.000, test=0.568) total time=   1.9s\n",
      "[CV 5/5] END learning_rate=0.15873684210526315, max_depth=7, n_estimators=836;, score=(train=1.000, test=0.220) total time=   1.6s\n",
      "[CV 1/5] END learning_rate=0.001, max_depth=13, n_estimators=1340;, score=(train=0.990, test=0.571) total time=   8.0s\n",
      "[CV 2/5] END learning_rate=0.001, max_depth=13, n_estimators=1340;, score=(train=0.998, test=0.655) total time=   7.7s\n",
      "[CV 3/5] END learning_rate=0.001, max_depth=13, n_estimators=1340;, score=(train=0.998, test=0.697) total time=   9.1s\n",
      "[CV 4/5] END learning_rate=0.001, max_depth=13, n_estimators=1340;, score=(train=1.000, test=0.524) total time=   9.1s\n",
      "[CV 5/5] END learning_rate=0.001, max_depth=13, n_estimators=1340;, score=(train=1.000, test=0.378) total time=   6.7s\n",
      "[CV 1/5] END learning_rate=0.8422631578947368, max_depth=11, n_estimators=1379;, score=(train=0.998, test=0.580) total time=   2.7s\n",
      "[CV 2/5] END learning_rate=0.8422631578947368, max_depth=11, n_estimators=1379;, score=(train=0.998, test=0.658) total time=   3.2s\n",
      "[CV 3/5] END learning_rate=0.8422631578947368, max_depth=11, n_estimators=1379;, score=(train=0.998, test=0.586) total time=   2.8s\n",
      "[CV 4/5] END learning_rate=0.8422631578947368, max_depth=11, n_estimators=1379;, score=(train=1.000, test=0.585) total time=   0.5s\n",
      "[CV 5/5] END learning_rate=0.8422631578947368, max_depth=11, n_estimators=1379;, score=(train=1.000, test=0.298) total time=   0.4s\n",
      "[CV 1/5] END learning_rate=0.1061578947368421, max_depth=20, n_estimators=1767;, score=(train=0.998, test=0.617) total time=   5.0s\n",
      "[CV 2/5] END learning_rate=0.1061578947368421, max_depth=20, n_estimators=1767;, score=(train=0.998, test=0.682) total time=   5.7s\n",
      "[CV 3/5] END learning_rate=0.1061578947368421, max_depth=20, n_estimators=1767;, score=(train=0.998, test=0.650) total time=   5.2s\n",
      "[CV 4/5] END learning_rate=0.1061578947368421, max_depth=20, n_estimators=1767;, score=(train=1.000, test=0.526) total time=   1.2s\n",
      "[CV 5/5] END learning_rate=0.1061578947368421, max_depth=20, n_estimators=1767;, score=(train=1.000, test=0.407) total time=   1.0s\n",
      "[CV 1/5] END learning_rate=0.26389473684210524, max_depth=5, n_estimators=1495;, score=(train=0.998, test=0.647) total time=   2.6s\n",
      "[CV 2/5] END learning_rate=0.26389473684210524, max_depth=5, n_estimators=1495;, score=(train=0.998, test=0.696) total time=   2.6s\n",
      "[CV 3/5] END learning_rate=0.26389473684210524, max_depth=5, n_estimators=1495;, score=(train=0.998, test=0.634) total time=   2.6s\n",
      "[CV 4/5] END learning_rate=0.26389473684210524, max_depth=5, n_estimators=1495;, score=(train=1.000, test=0.564) total time=   1.7s\n",
      "[CV 5/5] END learning_rate=0.26389473684210524, max_depth=5, n_estimators=1495;, score=(train=1.000, test=0.286) total time=   1.5s\n",
      "[CV 1/5] END learning_rate=0.7896842105263158, max_depth=3, n_estimators=1457;, score=(train=0.998, test=0.594) total time=   1.7s\n",
      "[CV 2/5] END learning_rate=0.7896842105263158, max_depth=3, n_estimators=1457;, score=(train=0.998, test=0.709) total time=   1.8s\n",
      "[CV 3/5] END learning_rate=0.7896842105263158, max_depth=3, n_estimators=1457;, score=(train=0.998, test=0.592) total time=   1.7s\n",
      "[CV 4/5] END learning_rate=0.7896842105263158, max_depth=3, n_estimators=1457;, score=(train=1.000, test=0.595) total time=   1.2s\n",
      "[CV 5/5] END learning_rate=0.7896842105263158, max_depth=3, n_estimators=1457;, score=(train=1.000, test=0.263) total time=   1.0s\n",
      "[CV 1/5] END learning_rate=0.15873684210526315, max_depth=17, n_estimators=410;, score=(train=0.998, test=0.557) total time=   1.5s\n",
      "[CV 2/5] END learning_rate=0.15873684210526315, max_depth=17, n_estimators=410;, score=(train=0.998, test=0.659) total time=   1.5s\n",
      "[CV 3/5] END learning_rate=0.15873684210526315, max_depth=17, n_estimators=410;, score=(train=0.998, test=0.688) total time=   1.3s\n",
      "[CV 4/5] END learning_rate=0.15873684210526315, max_depth=17, n_estimators=410;, score=(train=1.000, test=0.581) total time=   0.9s\n",
      "[CV 5/5] END learning_rate=0.15873684210526315, max_depth=17, n_estimators=410;, score=(train=1.000, test=0.433) total time=   0.6s\n",
      "[CV 1/5] END learning_rate=0.7896842105263158, max_depth=3, n_estimators=371;, score=(train=0.998, test=0.596) total time=   0.5s\n",
      "[CV 2/5] END learning_rate=0.7896842105263158, max_depth=3, n_estimators=371;, score=(train=0.998, test=0.719) total time=   0.5s\n",
      "[CV 3/5] END learning_rate=0.7896842105263158, max_depth=3, n_estimators=371;, score=(train=0.998, test=0.610) total time=   0.5s\n",
      "[CV 4/5] END learning_rate=0.7896842105263158, max_depth=3, n_estimators=371;, score=(train=1.000, test=0.609) total time=   0.5s\n",
      "[CV 5/5] END learning_rate=0.7896842105263158, max_depth=3, n_estimators=371;, score=(train=1.000, test=0.291) total time=   0.5s\n",
      "[CV 1/5] END learning_rate=0.7896842105263158, max_depth=5, n_estimators=914;, score=(train=0.998, test=0.594) total time=   1.3s\n",
      "[CV 2/5] END learning_rate=0.7896842105263158, max_depth=5, n_estimators=914;, score=(train=0.998, test=0.685) total time=   1.4s\n",
      "[CV 3/5] END learning_rate=0.7896842105263158, max_depth=5, n_estimators=914;, score=(train=0.998, test=0.639) total time=   1.3s\n",
      "[CV 4/5] END learning_rate=0.7896842105263158, max_depth=5, n_estimators=914;, score=(train=1.000, test=0.558) total time=   0.7s\n",
      "[CV 5/5] END learning_rate=0.7896842105263158, max_depth=5, n_estimators=914;, score=(train=1.000, test=0.237) total time=   0.6s\n",
      "[CV 1/5] END learning_rate=0.001, max_depth=13, n_estimators=410;, score=(train=0.882, test=0.571) total time=   2.2s\n",
      "[CV 2/5] END learning_rate=0.001, max_depth=13, n_estimators=410;, score=(train=0.946, test=0.671) total time=   2.2s\n",
      "[CV 3/5] END learning_rate=0.001, max_depth=13, n_estimators=410;, score=(train=0.958, test=0.712) total time=   2.3s\n",
      "[CV 4/5] END learning_rate=0.001, max_depth=13, n_estimators=410;, score=(train=0.944, test=0.459) total time=   2.4s\n",
      "[CV 5/5] END learning_rate=0.001, max_depth=13, n_estimators=410;, score=(train=1.000, test=0.317) total time=   2.1s\n",
      "[CV 1/5] END learning_rate=0.1061578947368421, max_depth=15, n_estimators=2000;, score=(train=0.998, test=0.607) total time=   5.7s\n",
      "[CV 2/5] END learning_rate=0.1061578947368421, max_depth=15, n_estimators=2000;, score=(train=0.998, test=0.659) total time=   6.0s\n",
      "[CV 3/5] END learning_rate=0.1061578947368421, max_depth=15, n_estimators=2000;, score=(train=0.998, test=0.671) total time=   5.1s\n",
      "[CV 4/5] END learning_rate=0.1061578947368421, max_depth=15, n_estimators=2000;, score=(train=1.000, test=0.532) total time=   1.6s\n",
      "[CV 5/5] END learning_rate=0.1061578947368421, max_depth=15, n_estimators=2000;, score=(train=1.000, test=0.368) total time=   1.1s\n",
      "----------\n",
      "iter: 1\n",
      "n_candidates: 28\n",
      "n_resources: 3000\n",
      "Fitting 5 folds for each of 28 candidates, totalling 140 fits\n",
      "[CV 1/5] END learning_rate=0.001, max_depth=13, n_estimators=1340;, score=(train=0.974, test=0.580) total time=  21.4s\n",
      "[CV 2/5] END learning_rate=0.001, max_depth=13, n_estimators=1340;, score=(train=0.978, test=0.654) total time=  21.3s\n",
      "[CV 3/5] END learning_rate=0.001, max_depth=13, n_estimators=1340;, score=(train=0.988, test=0.623) total time=  23.7s\n",
      "[CV 4/5] END learning_rate=0.001, max_depth=13, n_estimators=1340;, score=(train=0.979, test=0.545) total time=  23.3s\n",
      "[CV 5/5] END learning_rate=0.001, max_depth=13, n_estimators=1340;, score=(train=0.987, test=0.114) total time=  23.7s\n",
      "[CV 1/5] END learning_rate=0.26389473684210524, max_depth=5, n_estimators=1495;, score=(train=0.999, test=0.668) total time=   8.5s\n",
      "[CV 2/5] END learning_rate=0.26389473684210524, max_depth=5, n_estimators=1495;, score=(train=0.999, test=0.692) total time=   8.7s\n",
      "[CV 3/5] END learning_rate=0.26389473684210524, max_depth=5, n_estimators=1495;, score=(train=0.998, test=0.618) total time=   8.6s\n",
      "[CV 4/5] END learning_rate=0.26389473684210524, max_depth=5, n_estimators=1495;, score=(train=0.999, test=0.518) total time=   8.7s\n",
      "[CV 5/5] END learning_rate=0.26389473684210524, max_depth=5, n_estimators=1495;, score=(train=0.998, test=0.155) total time=   8.4s\n",
      "[CV 1/5] END learning_rate=0.3164736842105263, max_depth=11, n_estimators=138;, score=(train=0.999, test=0.667) total time=   2.2s\n",
      "[CV 2/5] END learning_rate=0.3164736842105263, max_depth=11, n_estimators=138;, score=(train=0.999, test=0.701) total time=   2.3s\n",
      "[CV 3/5] END learning_rate=0.3164736842105263, max_depth=11, n_estimators=138;, score=(train=0.998, test=0.614) total time=   2.3s\n",
      "[CV 4/5] END learning_rate=0.3164736842105263, max_depth=11, n_estimators=138;, score=(train=0.999, test=0.546) total time=   2.2s\n",
      "[CV 5/5] END learning_rate=0.3164736842105263, max_depth=11, n_estimators=138;, score=(train=0.998, test=0.190) total time=   2.2s\n",
      "[CV 1/5] END learning_rate=0.7896842105263158, max_depth=11, n_estimators=720;, score=(train=0.999, test=0.653) total time=   4.4s\n",
      "[CV 2/5] END learning_rate=0.7896842105263158, max_depth=11, n_estimators=720;, score=(train=0.999, test=0.704) total time=   4.3s\n",
      "[CV 3/5] END learning_rate=0.7896842105263158, max_depth=11, n_estimators=720;, score=(train=0.998, test=0.620) total time=   5.6s\n",
      "[CV 4/5] END learning_rate=0.7896842105263158, max_depth=11, n_estimators=720;, score=(train=0.999, test=0.509) total time=   4.2s\n",
      "[CV 5/5] END learning_rate=0.7896842105263158, max_depth=11, n_estimators=720;, score=(train=0.998, test=0.167) total time=   5.6s\n",
      "[CV 1/5] END learning_rate=0.4216315789473684, max_depth=15, n_estimators=1689;, score=(train=0.999, test=0.667) total time=  13.6s\n",
      "[CV 2/5] END learning_rate=0.4216315789473684, max_depth=15, n_estimators=1689;, score=(train=0.999, test=0.716) total time=  12.2s\n",
      "[CV 3/5] END learning_rate=0.4216315789473684, max_depth=15, n_estimators=1689;, score=(train=0.998, test=0.615) total time=  16.0s\n",
      "[CV 4/5] END learning_rate=0.4216315789473684, max_depth=15, n_estimators=1689;, score=(train=0.999, test=0.512) total time=  11.3s\n",
      "[CV 5/5] END learning_rate=0.4216315789473684, max_depth=15, n_estimators=1689;, score=(train=0.998, test=0.150) total time=  15.6s\n",
      "[CV 1/5] END learning_rate=0.2113157894736842, max_depth=5, n_estimators=953;, score=(train=0.999, test=0.673) total time=   5.4s\n",
      "[CV 2/5] END learning_rate=0.2113157894736842, max_depth=5, n_estimators=953;, score=(train=0.999, test=0.693) total time=   5.5s\n",
      "[CV 3/5] END learning_rate=0.2113157894736842, max_depth=5, n_estimators=953;, score=(train=0.998, test=0.604) total time=   5.5s\n",
      "[CV 4/5] END learning_rate=0.2113157894736842, max_depth=5, n_estimators=953;, score=(train=0.999, test=0.517) total time=   5.6s\n",
      "[CV 5/5] END learning_rate=0.2113157894736842, max_depth=5, n_estimators=953;, score=(train=0.998, test=0.166) total time=   5.4s\n",
      "[CV 1/5] END learning_rate=0.1061578947368421, max_depth=15, n_estimators=2000;, score=(train=0.999, test=0.660) total time=  19.7s\n",
      "[CV 2/5] END learning_rate=0.1061578947368421, max_depth=15, n_estimators=2000;, score=(train=0.999, test=0.692) total time=  18.0s\n",
      "[CV 3/5] END learning_rate=0.1061578947368421, max_depth=15, n_estimators=2000;, score=(train=0.998, test=0.618) total time=  21.5s\n",
      "[CV 4/5] END learning_rate=0.1061578947368421, max_depth=15, n_estimators=2000;, score=(train=0.999, test=0.529) total time=  16.6s\n",
      "[CV 5/5] END learning_rate=0.1061578947368421, max_depth=15, n_estimators=2000;, score=(train=0.998, test=0.157) total time=  20.2s\n",
      "[CV 1/5] END learning_rate=0.15873684210526315, max_depth=20, n_estimators=293;, score=(train=0.999, test=0.613) total time=   4.5s\n",
      "[CV 2/5] END learning_rate=0.15873684210526315, max_depth=20, n_estimators=293;, score=(train=0.999, test=0.651) total time=   3.4s\n",
      "[CV 3/5] END learning_rate=0.15873684210526315, max_depth=20, n_estimators=293;, score=(train=0.998, test=0.604) total time=   3.9s\n",
      "[CV 4/5] END learning_rate=0.15873684210526315, max_depth=20, n_estimators=293;, score=(train=0.999, test=0.517) total time=   3.2s\n",
      "[CV 5/5] END learning_rate=0.15873684210526315, max_depth=20, n_estimators=293;, score=(train=0.998, test=0.257) total time=   4.0s\n",
      "[CV 1/5] END learning_rate=0.4216315789473684, max_depth=11, n_estimators=410;, score=(train=0.999, test=0.647) total time=   3.6s\n",
      "[CV 2/5] END learning_rate=0.4216315789473684, max_depth=11, n_estimators=410;, score=(train=0.999, test=0.704) total time=   3.5s\n",
      "[CV 3/5] END learning_rate=0.4216315789473684, max_depth=11, n_estimators=410;, score=(train=0.998, test=0.603) total time=   4.0s\n",
      "[CV 4/5] END learning_rate=0.4216315789473684, max_depth=11, n_estimators=410;, score=(train=0.999, test=0.519) total time=   3.4s\n",
      "[CV 5/5] END learning_rate=0.4216315789473684, max_depth=11, n_estimators=410;, score=(train=0.998, test=0.149) total time=   3.9s\n",
      "[CV 1/5] END learning_rate=0.2113157894736842, max_depth=5, n_estimators=1224;, score=(train=0.999, test=0.653) total time=   7.0s\n",
      "[CV 2/5] END learning_rate=0.2113157894736842, max_depth=5, n_estimators=1224;, score=(train=0.999, test=0.696) total time=   7.1s\n",
      "[CV 3/5] END learning_rate=0.2113157894736842, max_depth=5, n_estimators=1224;, score=(train=0.998, test=0.600) total time=   7.0s\n",
      "[CV 4/5] END learning_rate=0.2113157894736842, max_depth=5, n_estimators=1224;, score=(train=0.999, test=0.517) total time=   7.5s\n",
      "[CV 5/5] END learning_rate=0.2113157894736842, max_depth=5, n_estimators=1224;, score=(train=0.998, test=0.164) total time=   7.1s\n",
      "[CV 1/5] END learning_rate=0.26389473684210524, max_depth=20, n_estimators=1185;, score=(train=0.999, test=0.635) total time=  11.4s\n",
      "[CV 2/5] END learning_rate=0.26389473684210524, max_depth=20, n_estimators=1185;, score=(train=0.999, test=0.660) total time=  10.1s\n",
      "[CV 3/5] END learning_rate=0.26389473684210524, max_depth=20, n_estimators=1185;, score=(train=0.998, test=0.622) total time=  12.8s\n",
      "[CV 4/5] END learning_rate=0.26389473684210524, max_depth=20, n_estimators=1185;, score=(train=0.999, test=0.518) total time=   8.8s\n",
      "[CV 5/5] END learning_rate=0.26389473684210524, max_depth=20, n_estimators=1185;, score=(train=0.998, test=0.182) total time=  12.4s\n",
      "[CV 1/5] END learning_rate=0.36905263157894735, max_depth=5, n_estimators=255;, score=(train=0.999, test=0.683) total time=   1.5s\n",
      "[CV 2/5] END learning_rate=0.36905263157894735, max_depth=5, n_estimators=255;, score=(train=0.999, test=0.702) total time=   1.5s\n",
      "[CV 3/5] END learning_rate=0.36905263157894735, max_depth=5, n_estimators=255;, score=(train=0.998, test=0.604) total time=   1.5s\n",
      "[CV 4/5] END learning_rate=0.36905263157894735, max_depth=5, n_estimators=255;, score=(train=0.999, test=0.512) total time=   1.5s\n",
      "[CV 5/5] END learning_rate=0.36905263157894735, max_depth=5, n_estimators=255;, score=(train=0.998, test=0.179) total time=   1.4s\n",
      "[CV 1/5] END learning_rate=0.26389473684210524, max_depth=13, n_estimators=1224;, score=(train=0.999, test=0.662) total time=  10.2s\n",
      "[CV 2/5] END learning_rate=0.26389473684210524, max_depth=13, n_estimators=1224;, score=(train=0.999, test=0.702) total time=   9.4s\n",
      "[CV 3/5] END learning_rate=0.26389473684210524, max_depth=13, n_estimators=1224;, score=(train=0.998, test=0.606) total time=  11.5s\n",
      "[CV 4/5] END learning_rate=0.26389473684210524, max_depth=13, n_estimators=1224;, score=(train=0.999, test=0.537) total time=   8.9s\n",
      "[CV 5/5] END learning_rate=0.26389473684210524, max_depth=13, n_estimators=1224;, score=(train=0.998, test=0.177) total time=  11.0s\n",
      "[CV 1/5] END learning_rate=0.5793684210526315, max_depth=17, n_estimators=720;, score=(train=0.999, test=0.654) total time=   6.3s\n",
      "[CV 2/5] END learning_rate=0.5793684210526315, max_depth=17, n_estimators=720;, score=(train=0.999, test=0.691) total time=   5.7s\n",
      "[CV 3/5] END learning_rate=0.5793684210526315, max_depth=17, n_estimators=720;, score=(train=0.998, test=0.616) total time=   7.2s\n",
      "[CV 4/5] END learning_rate=0.5793684210526315, max_depth=17, n_estimators=720;, score=(train=0.999, test=0.515) total time=   5.0s\n",
      "[CV 5/5] END learning_rate=0.5793684210526315, max_depth=17, n_estimators=720;, score=(train=0.998, test=0.188) total time=   6.9s\n",
      "[CV 1/5] END learning_rate=0.05357894736842105, max_depth=20, n_estimators=759;, score=(train=0.999, test=0.578) total time=  10.7s\n",
      "[CV 2/5] END learning_rate=0.05357894736842105, max_depth=20, n_estimators=759;, score=(train=0.999, test=0.656) total time=   9.5s\n",
      "[CV 3/5] END learning_rate=0.05357894736842105, max_depth=20, n_estimators=759;, score=(train=0.998, test=0.611) total time=  10.1s\n",
      "[CV 4/5] END learning_rate=0.05357894736842105, max_depth=20, n_estimators=759;, score=(train=0.999, test=0.507) total time=   8.6s\n",
      "[CV 5/5] END learning_rate=0.05357894736842105, max_depth=20, n_estimators=759;, score=(train=0.998, test=0.239) total time=  11.1s\n",
      "[CV 1/5] END learning_rate=0.7371052631578947, max_depth=15, n_estimators=255;, score=(train=0.999, test=0.665) total time=   2.4s\n",
      "[CV 2/5] END learning_rate=0.7371052631578947, max_depth=15, n_estimators=255;, score=(train=0.999, test=0.692) total time=   2.3s\n",
      "[CV 3/5] END learning_rate=0.7371052631578947, max_depth=15, n_estimators=255;, score=(train=0.998, test=0.628) total time=   2.7s\n",
      "[CV 4/5] END learning_rate=0.7371052631578947, max_depth=15, n_estimators=255;, score=(train=0.999, test=0.513) total time=   2.2s\n",
      "[CV 5/5] END learning_rate=0.7371052631578947, max_depth=15, n_estimators=255;, score=(train=0.998, test=0.113) total time=   2.7s\n",
      "[CV 1/5] END learning_rate=0.001, max_depth=13, n_estimators=1573;, score=(train=0.982, test=0.582) total time=  25.7s\n",
      "[CV 2/5] END learning_rate=0.001, max_depth=13, n_estimators=1573;, score=(train=0.984, test=0.650) total time=  25.1s\n",
      "[CV 3/5] END learning_rate=0.001, max_depth=13, n_estimators=1573;, score=(train=0.994, test=0.618) total time=  28.3s\n",
      "[CV 4/5] END learning_rate=0.001, max_depth=13, n_estimators=1573;, score=(train=0.986, test=0.547) total time=  28.0s\n",
      "[CV 5/5] END learning_rate=0.001, max_depth=13, n_estimators=1573;, score=(train=0.994, test=0.127) total time=  28.6s\n",
      "[CV 1/5] END learning_rate=0.1061578947368421, max_depth=20, n_estimators=1767;, score=(train=0.999, test=0.616) total time=  17.9s\n",
      "[CV 2/5] END learning_rate=0.1061578947368421, max_depth=20, n_estimators=1767;, score=(train=0.999, test=0.656) total time=  15.5s\n",
      "[CV 3/5] END learning_rate=0.1061578947368421, max_depth=20, n_estimators=1767;, score=(train=0.998, test=0.617) total time=  19.1s\n",
      "[CV 4/5] END learning_rate=0.1061578947368421, max_depth=20, n_estimators=1767;, score=(train=0.999, test=0.536) total time=  14.1s\n",
      "[CV 5/5] END learning_rate=0.1061578947368421, max_depth=20, n_estimators=1767;, score=(train=0.998, test=0.297) total time=  18.4s\n",
      "[CV 1/5] END learning_rate=0.7896842105263158, max_depth=15, n_estimators=642;, score=(train=0.999, test=0.659) total time=   5.0s\n",
      "[CV 2/5] END learning_rate=0.7896842105263158, max_depth=15, n_estimators=642;, score=(train=0.999, test=0.698) total time=   4.6s\n",
      "[CV 3/5] END learning_rate=0.7896842105263158, max_depth=15, n_estimators=642;, score=(train=0.998, test=0.617) total time=   5.8s\n",
      "[CV 4/5] END learning_rate=0.7896842105263158, max_depth=15, n_estimators=642;, score=(train=0.999, test=0.537) total time=   4.3s\n",
      "[CV 5/5] END learning_rate=0.7896842105263158, max_depth=15, n_estimators=642;, score=(train=0.998, test=0.170) total time=   5.8s\n",
      "[CV 1/5] END learning_rate=0.1061578947368421, max_depth=17, n_estimators=255;, score=(train=0.999, test=0.631) total time=   6.2s\n",
      "[CV 2/5] END learning_rate=0.1061578947368421, max_depth=17, n_estimators=255;, score=(train=0.999, test=0.671) total time=   5.2s\n",
      "[CV 3/5] END learning_rate=0.1061578947368421, max_depth=17, n_estimators=255;, score=(train=0.998, test=0.622) total time=   6.1s\n",
      "[CV 4/5] END learning_rate=0.1061578947368421, max_depth=17, n_estimators=255;, score=(train=0.999, test=0.490) total time=   4.4s\n",
      "[CV 5/5] END learning_rate=0.1061578947368421, max_depth=17, n_estimators=255;, score=(train=0.998, test=0.253) total time=   4.8s\n",
      "[CV 1/5] END learning_rate=0.8422631578947368, max_depth=1, n_estimators=2000;, score=(train=0.709, test=0.659) total time=   2.6s\n",
      "[CV 2/5] END learning_rate=0.8422631578947368, max_depth=1, n_estimators=2000;, score=(train=0.796, test=0.730) total time=   2.7s\n",
      "[CV 3/5] END learning_rate=0.8422631578947368, max_depth=1, n_estimators=2000;, score=(train=0.839, test=0.616) total time=   2.7s\n",
      "[CV 4/5] END learning_rate=0.8422631578947368, max_depth=1, n_estimators=2000;, score=(train=0.831, test=0.529) total time=   2.7s\n",
      "[CV 5/5] END learning_rate=0.8422631578947368, max_depth=1, n_estimators=2000;, score=(train=0.838, test=0.199) total time=   2.6s\n",
      "[CV 1/5] END learning_rate=0.15873684210526315, max_depth=17, n_estimators=410;, score=(train=0.999, test=0.635) total time=   6.1s\n",
      "[CV 2/5] END learning_rate=0.15873684210526315, max_depth=17, n_estimators=410;, score=(train=0.999, test=0.651) total time=   5.2s\n",
      "[CV 3/5] END learning_rate=0.15873684210526315, max_depth=17, n_estimators=410;, score=(train=0.998, test=0.607) total time=   6.1s\n",
      "[CV 4/5] END learning_rate=0.15873684210526315, max_depth=17, n_estimators=410;, score=(train=0.999, test=0.514) total time=   5.0s\n",
      "[CV 5/5] END learning_rate=0.15873684210526315, max_depth=17, n_estimators=410;, score=(train=0.998, test=0.221) total time=   5.2s\n",
      "[CV 1/5] END learning_rate=0.26389473684210524, max_depth=13, n_estimators=720;, score=(train=0.999, test=0.662) total time=   6.8s\n",
      "[CV 2/5] END learning_rate=0.26389473684210524, max_depth=13, n_estimators=720;, score=(train=0.999, test=0.698) total time=   6.5s\n",
      "[CV 3/5] END learning_rate=0.26389473684210524, max_depth=13, n_estimators=720;, score=(train=0.998, test=0.629) total time=   7.4s\n",
      "[CV 4/5] END learning_rate=0.26389473684210524, max_depth=13, n_estimators=720;, score=(train=0.999, test=0.516) total time=   6.0s\n",
      "[CV 5/5] END learning_rate=0.26389473684210524, max_depth=13, n_estimators=720;, score=(train=0.998, test=0.150) total time=   7.1s\n",
      "[CV 1/5] END learning_rate=0.8948421052631579, max_depth=15, n_estimators=953;, score=(train=0.999, test=0.640) total time=   7.2s\n",
      "[CV 2/5] END learning_rate=0.8948421052631579, max_depth=15, n_estimators=953;, score=(train=0.999, test=0.698) total time=   6.4s\n",
      "[CV 3/5] END learning_rate=0.8948421052631579, max_depth=15, n_estimators=953;, score=(train=0.998, test=0.616) total time=   8.7s\n",
      "[CV 4/5] END learning_rate=0.8948421052631579, max_depth=15, n_estimators=953;, score=(train=0.999, test=0.535) total time=   6.1s\n",
      "[CV 5/5] END learning_rate=0.8948421052631579, max_depth=15, n_estimators=953;, score=(train=0.998, test=0.167) total time=   8.5s\n",
      "[CV 1/5] END learning_rate=0.1061578947368421, max_depth=20, n_estimators=177;, score=(train=0.999, test=0.617) total time=   4.2s\n",
      "[CV 2/5] END learning_rate=0.1061578947368421, max_depth=20, n_estimators=177;, score=(train=0.999, test=0.653) total time=   3.2s\n",
      "[CV 3/5] END learning_rate=0.1061578947368421, max_depth=20, n_estimators=177;, score=(train=0.998, test=0.609) total time=   3.1s\n",
      "[CV 4/5] END learning_rate=0.1061578947368421, max_depth=20, n_estimators=177;, score=(train=0.999, test=0.527) total time=   3.0s\n",
      "[CV 5/5] END learning_rate=0.1061578947368421, max_depth=20, n_estimators=177;, score=(train=0.998, test=0.287) total time=   3.4s\n",
      "[CV 1/5] END learning_rate=0.1061578947368421, max_depth=13, n_estimators=604;, score=(train=0.999, test=0.647) total time=   8.8s\n",
      "[CV 2/5] END learning_rate=0.1061578947368421, max_depth=13, n_estimators=604;, score=(train=0.999, test=0.690) total time=   8.9s\n",
      "[CV 3/5] END learning_rate=0.1061578947368421, max_depth=13, n_estimators=604;, score=(train=0.998, test=0.628) total time=   8.9s\n",
      "[CV 4/5] END learning_rate=0.1061578947368421, max_depth=13, n_estimators=604;, score=(train=0.999, test=0.536) total time=   8.3s\n",
      "[CV 5/5] END learning_rate=0.1061578947368421, max_depth=13, n_estimators=604;, score=(train=0.998, test=0.122) total time=   8.6s\n",
      "[CV 1/5] END learning_rate=0.47421052631578947, max_depth=13, n_estimators=565;, score=(train=0.999, test=0.645) total time=   4.7s\n",
      "[CV 2/5] END learning_rate=0.47421052631578947, max_depth=13, n_estimators=565;, score=(train=0.999, test=0.692) total time=   4.5s\n",
      "[CV 3/5] END learning_rate=0.47421052631578947, max_depth=13, n_estimators=565;, score=(train=0.998, test=0.613) total time=   5.4s\n",
      "[CV 4/5] END learning_rate=0.47421052631578947, max_depth=13, n_estimators=565;, score=(train=0.999, test=0.523) total time=   4.3s\n",
      "[CV 5/5] END learning_rate=0.47421052631578947, max_depth=13, n_estimators=565;, score=(train=0.998, test=0.156) total time=   5.2s\n",
      "[CV 1/5] END learning_rate=0.47421052631578947, max_depth=13, n_estimators=991;, score=(train=0.999, test=0.662) total time=   7.5s\n",
      "[CV 2/5] END learning_rate=0.47421052631578947, max_depth=13, n_estimators=991;, score=(train=0.999, test=0.693) total time=   6.9s\n",
      "[CV 3/5] END learning_rate=0.47421052631578947, max_depth=13, n_estimators=991;, score=(train=0.998, test=0.598) total time=   8.7s\n",
      "[CV 4/5] END learning_rate=0.47421052631578947, max_depth=13, n_estimators=991;, score=(train=0.999, test=0.511) total time=   6.5s\n",
      "[CV 5/5] END learning_rate=0.47421052631578947, max_depth=13, n_estimators=991;, score=(train=0.998, test=0.141) total time=   8.4s\n",
      "----------\n",
      "iter: 2\n",
      "n_candidates: 10\n",
      "n_resources: 9000\n",
      "Fitting 5 folds for each of 10 candidates, totalling 50 fits\n",
      "[CV 1/5] END learning_rate=0.4216315789473684, max_depth=15, n_estimators=1689;, score=(train=0.998, test=0.620) total time=  56.7s\n",
      "[CV 2/5] END learning_rate=0.4216315789473684, max_depth=15, n_estimators=1689;, score=(train=0.998, test=0.680) total time=  55.8s\n",
      "[CV 3/5] END learning_rate=0.4216315789473684, max_depth=15, n_estimators=1689;, score=(train=0.997, test=0.582) total time=  58.3s\n",
      "[CV 4/5] END learning_rate=0.4216315789473684, max_depth=15, n_estimators=1689;, score=(train=0.997, test=0.473) total time=  59.0s\n",
      "[CV 5/5] END learning_rate=0.4216315789473684, max_depth=15, n_estimators=1689;, score=(train=0.995, test=0.200) total time= 1.1min\n",
      "[CV 1/5] END learning_rate=0.5793684210526315, max_depth=17, n_estimators=720;, score=(train=0.998, test=0.620) total time=  26.5s\n",
      "[CV 2/5] END learning_rate=0.5793684210526315, max_depth=17, n_estimators=720;, score=(train=0.998, test=0.680) total time=  26.0s\n",
      "[CV 3/5] END learning_rate=0.5793684210526315, max_depth=17, n_estimators=720;, score=(train=0.997, test=0.591) total time=  26.3s\n",
      "[CV 4/5] END learning_rate=0.5793684210526315, max_depth=17, n_estimators=720;, score=(train=0.997, test=0.455) total time=  27.6s\n",
      "[CV 5/5] END learning_rate=0.5793684210526315, max_depth=17, n_estimators=720;, score=(train=0.995, test=0.176) total time=  29.7s\n",
      "[CV 1/5] END learning_rate=0.1061578947368421, max_depth=17, n_estimators=255;, score=(train=0.998, test=0.616) total time=  19.2s\n",
      "[CV 2/5] END learning_rate=0.1061578947368421, max_depth=17, n_estimators=255;, score=(train=0.998, test=0.674) total time=  19.2s\n",
      "[CV 3/5] END learning_rate=0.1061578947368421, max_depth=17, n_estimators=255;, score=(train=0.997, test=0.595) total time=  19.6s\n",
      "[CV 4/5] END learning_rate=0.1061578947368421, max_depth=17, n_estimators=255;, score=(train=0.997, test=0.472) total time=  19.5s\n",
      "[CV 5/5] END learning_rate=0.1061578947368421, max_depth=17, n_estimators=255;, score=(train=0.995, test=0.159) total time=  18.5s\n",
      "[CV 1/5] END learning_rate=0.7896842105263158, max_depth=15, n_estimators=642;, score=(train=0.998, test=0.641) total time=  21.2s\n",
      "[CV 2/5] END learning_rate=0.7896842105263158, max_depth=15, n_estimators=642;, score=(train=0.998, test=0.673) total time=  20.7s\n",
      "[CV 3/5] END learning_rate=0.7896842105263158, max_depth=15, n_estimators=642;, score=(train=0.997, test=0.588) total time=  20.9s\n",
      "[CV 4/5] END learning_rate=0.7896842105263158, max_depth=15, n_estimators=642;, score=(train=0.997, test=0.460) total time=  22.0s\n",
      "[CV 5/5] END learning_rate=0.7896842105263158, max_depth=15, n_estimators=642;, score=(train=0.995, test=0.184) total time=  24.1s\n",
      "[CV 1/5] END learning_rate=0.36905263157894735, max_depth=5, n_estimators=255;, score=(train=0.991, test=0.638) total time=   3.9s\n",
      "[CV 2/5] END learning_rate=0.36905263157894735, max_depth=5, n_estimators=255;, score=(train=0.995, test=0.670) total time=   4.1s\n",
      "[CV 3/5] END learning_rate=0.36905263157894735, max_depth=5, n_estimators=255;, score=(train=0.993, test=0.579) total time=   4.1s\n",
      "[CV 4/5] END learning_rate=0.36905263157894735, max_depth=5, n_estimators=255;, score=(train=0.994, test=0.478) total time=   4.0s\n",
      "[CV 5/5] END learning_rate=0.36905263157894735, max_depth=5, n_estimators=255;, score=(train=0.994, test=0.183) total time=   3.9s\n",
      "[CV 1/5] END learning_rate=0.26389473684210524, max_depth=13, n_estimators=1224;, score=(train=0.998, test=0.626) total time=  39.7s\n",
      "[CV 2/5] END learning_rate=0.26389473684210524, max_depth=13, n_estimators=1224;, score=(train=0.998, test=0.673) total time=  40.6s\n",
      "[CV 3/5] END learning_rate=0.26389473684210524, max_depth=13, n_estimators=1224;, score=(train=0.997, test=0.582) total time=  40.6s\n",
      "[CV 4/5] END learning_rate=0.26389473684210524, max_depth=13, n_estimators=1224;, score=(train=0.997, test=0.471) total time=  40.7s\n"
     ]
    },
    {
     "ename": "KeyboardInterrupt",
     "evalue": "",
     "output_type": "error",
     "traceback": [
      "\u001b[0;31m---------------------------------------------------------------------------\u001b[0m",
      "\u001b[0;31mKeyboardInterrupt\u001b[0m                         Traceback (most recent call last)",
      "\u001b[1;32m/Users/pedroteche/Documents/GitHub/64_PT_NOV202111/aulas/64 DA PT NOV-2021 Aula 20220402 Case Hotel.ipynb Cell 82'\u001b[0m in \u001b[0;36m<cell line: 13>\u001b[0;34m()\u001b[0m\n\u001b[1;32m      <a href='vscode-notebook-cell:/Users/pedroteche/Documents/GitHub/64_PT_NOV202111/aulas/64%20DA%20PT%20NOV-2021%20Aula%2020220402%20Case%20Hotel.ipynb#ch0000104?line=8'>9</a>\u001b[0m estim \u001b[39m=\u001b[39m GradientBoostingClassifier()\n\u001b[1;32m     <a href='vscode-notebook-cell:/Users/pedroteche/Documents/GitHub/64_PT_NOV202111/aulas/64%20DA%20PT%20NOV-2021%20Aula%2020220402%20Case%20Hotel.ipynb#ch0000104?line=9'>10</a>\u001b[0m clf_fit \u001b[39m=\u001b[39m HalvingRandomSearchCV(\n\u001b[1;32m     <a href='vscode-notebook-cell:/Users/pedroteche/Documents/GitHub/64_PT_NOV202111/aulas/64%20DA%20PT%20NOV-2021%20Aula%2020220402%20Case%20Hotel.ipynb#ch0000104?line=10'>11</a>\u001b[0m     estim, param_distrib, min_resources\u001b[39m=\u001b[39m\u001b[39m1000\u001b[39m, verbose\u001b[39m=\u001b[39m\u001b[39m3\u001b[39m, scoring\u001b[39m=\u001b[39m\u001b[39m\"\u001b[39m\u001b[39mf1\u001b[39m\u001b[39m\"\u001b[39m\n\u001b[1;32m     <a href='vscode-notebook-cell:/Users/pedroteche/Documents/GitHub/64_PT_NOV202111/aulas/64%20DA%20PT%20NOV-2021%20Aula%2020220402%20Case%20Hotel.ipynb#ch0000104?line=11'>12</a>\u001b[0m )\n\u001b[0;32m---> <a href='vscode-notebook-cell:/Users/pedroteche/Documents/GitHub/64_PT_NOV202111/aulas/64%20DA%20PT%20NOV-2021%20Aula%2020220402%20Case%20Hotel.ipynb#ch0000104?line=12'>13</a>\u001b[0m clf_fit\u001b[39m.\u001b[39;49mfit(X_train, y_train)\n",
      "File \u001b[0;32m~/opt/anaconda3/lib/python3.9/site-packages/sklearn/model_selection/_search_successive_halving.py:262\u001b[0m, in \u001b[0;36mBaseSuccessiveHalving.fit\u001b[0;34m(self, X, y, groups, **fit_params)\u001b[0m\n\u001b[1;32m    <a href='file:///Users/pedroteche/opt/anaconda3/lib/python3.9/site-packages/sklearn/model_selection/_search_successive_halving.py?line=253'>254</a>\u001b[0m \u001b[39mself\u001b[39m\u001b[39m.\u001b[39m_check_input_parameters(\n\u001b[1;32m    <a href='file:///Users/pedroteche/opt/anaconda3/lib/python3.9/site-packages/sklearn/model_selection/_search_successive_halving.py?line=254'>255</a>\u001b[0m     X\u001b[39m=\u001b[39mX,\n\u001b[1;32m    <a href='file:///Users/pedroteche/opt/anaconda3/lib/python3.9/site-packages/sklearn/model_selection/_search_successive_halving.py?line=255'>256</a>\u001b[0m     y\u001b[39m=\u001b[39my,\n\u001b[1;32m    <a href='file:///Users/pedroteche/opt/anaconda3/lib/python3.9/site-packages/sklearn/model_selection/_search_successive_halving.py?line=256'>257</a>\u001b[0m     groups\u001b[39m=\u001b[39mgroups,\n\u001b[1;32m    <a href='file:///Users/pedroteche/opt/anaconda3/lib/python3.9/site-packages/sklearn/model_selection/_search_successive_halving.py?line=257'>258</a>\u001b[0m )\n\u001b[1;32m    <a href='file:///Users/pedroteche/opt/anaconda3/lib/python3.9/site-packages/sklearn/model_selection/_search_successive_halving.py?line=259'>260</a>\u001b[0m \u001b[39mself\u001b[39m\u001b[39m.\u001b[39m_n_samples_orig \u001b[39m=\u001b[39m _num_samples(X)\n\u001b[0;32m--> <a href='file:///Users/pedroteche/opt/anaconda3/lib/python3.9/site-packages/sklearn/model_selection/_search_successive_halving.py?line=261'>262</a>\u001b[0m \u001b[39msuper\u001b[39;49m()\u001b[39m.\u001b[39;49mfit(X, y\u001b[39m=\u001b[39;49my, groups\u001b[39m=\u001b[39;49mgroups, \u001b[39m*\u001b[39;49m\u001b[39m*\u001b[39;49mfit_params)\n\u001b[1;32m    <a href='file:///Users/pedroteche/opt/anaconda3/lib/python3.9/site-packages/sklearn/model_selection/_search_successive_halving.py?line=263'>264</a>\u001b[0m \u001b[39m# Set best_score_: BaseSearchCV does not set it, as refit is a callable\u001b[39;00m\n\u001b[1;32m    <a href='file:///Users/pedroteche/opt/anaconda3/lib/python3.9/site-packages/sklearn/model_selection/_search_successive_halving.py?line=264'>265</a>\u001b[0m \u001b[39mself\u001b[39m\u001b[39m.\u001b[39mbest_score_ \u001b[39m=\u001b[39m \u001b[39mself\u001b[39m\u001b[39m.\u001b[39mcv_results_[\u001b[39m\"\u001b[39m\u001b[39mmean_test_score\u001b[39m\u001b[39m\"\u001b[39m][\u001b[39mself\u001b[39m\u001b[39m.\u001b[39mbest_index_]\n",
      "File \u001b[0;32m~/opt/anaconda3/lib/python3.9/site-packages/sklearn/model_selection/_search.py:891\u001b[0m, in \u001b[0;36mBaseSearchCV.fit\u001b[0;34m(self, X, y, groups, **fit_params)\u001b[0m\n\u001b[1;32m    <a href='file:///Users/pedroteche/opt/anaconda3/lib/python3.9/site-packages/sklearn/model_selection/_search.py?line=884'>885</a>\u001b[0m     results \u001b[39m=\u001b[39m \u001b[39mself\u001b[39m\u001b[39m.\u001b[39m_format_results(\n\u001b[1;32m    <a href='file:///Users/pedroteche/opt/anaconda3/lib/python3.9/site-packages/sklearn/model_selection/_search.py?line=885'>886</a>\u001b[0m         all_candidate_params, n_splits, all_out, all_more_results\n\u001b[1;32m    <a href='file:///Users/pedroteche/opt/anaconda3/lib/python3.9/site-packages/sklearn/model_selection/_search.py?line=886'>887</a>\u001b[0m     )\n\u001b[1;32m    <a href='file:///Users/pedroteche/opt/anaconda3/lib/python3.9/site-packages/sklearn/model_selection/_search.py?line=888'>889</a>\u001b[0m     \u001b[39mreturn\u001b[39;00m results\n\u001b[0;32m--> <a href='file:///Users/pedroteche/opt/anaconda3/lib/python3.9/site-packages/sklearn/model_selection/_search.py?line=890'>891</a>\u001b[0m \u001b[39mself\u001b[39;49m\u001b[39m.\u001b[39;49m_run_search(evaluate_candidates)\n\u001b[1;32m    <a href='file:///Users/pedroteche/opt/anaconda3/lib/python3.9/site-packages/sklearn/model_selection/_search.py?line=892'>893</a>\u001b[0m \u001b[39m# multimetric is determined here because in the case of a callable\u001b[39;00m\n\u001b[1;32m    <a href='file:///Users/pedroteche/opt/anaconda3/lib/python3.9/site-packages/sklearn/model_selection/_search.py?line=893'>894</a>\u001b[0m \u001b[39m# self.scoring the return type is only known after calling\u001b[39;00m\n\u001b[1;32m    <a href='file:///Users/pedroteche/opt/anaconda3/lib/python3.9/site-packages/sklearn/model_selection/_search.py?line=894'>895</a>\u001b[0m first_test_score \u001b[39m=\u001b[39m all_out[\u001b[39m0\u001b[39m][\u001b[39m\"\u001b[39m\u001b[39mtest_scores\u001b[39m\u001b[39m\"\u001b[39m]\n",
      "File \u001b[0;32m~/opt/anaconda3/lib/python3.9/site-packages/sklearn/model_selection/_search_successive_halving.py:367\u001b[0m, in \u001b[0;36mBaseSuccessiveHalving._run_search\u001b[0;34m(self, evaluate_candidates)\u001b[0m\n\u001b[1;32m    <a href='file:///Users/pedroteche/opt/anaconda3/lib/python3.9/site-packages/sklearn/model_selection/_search_successive_halving.py?line=359'>360</a>\u001b[0m     cv \u001b[39m=\u001b[39m \u001b[39mself\u001b[39m\u001b[39m.\u001b[39m_checked_cv_orig\n\u001b[1;32m    <a href='file:///Users/pedroteche/opt/anaconda3/lib/python3.9/site-packages/sklearn/model_selection/_search_successive_halving.py?line=361'>362</a>\u001b[0m more_results \u001b[39m=\u001b[39m {\n\u001b[1;32m    <a href='file:///Users/pedroteche/opt/anaconda3/lib/python3.9/site-packages/sklearn/model_selection/_search_successive_halving.py?line=362'>363</a>\u001b[0m     \u001b[39m\"\u001b[39m\u001b[39miter\u001b[39m\u001b[39m\"\u001b[39m: [itr] \u001b[39m*\u001b[39m n_candidates,\n\u001b[1;32m    <a href='file:///Users/pedroteche/opt/anaconda3/lib/python3.9/site-packages/sklearn/model_selection/_search_successive_halving.py?line=363'>364</a>\u001b[0m     \u001b[39m\"\u001b[39m\u001b[39mn_resources\u001b[39m\u001b[39m\"\u001b[39m: [n_resources] \u001b[39m*\u001b[39m n_candidates,\n\u001b[1;32m    <a href='file:///Users/pedroteche/opt/anaconda3/lib/python3.9/site-packages/sklearn/model_selection/_search_successive_halving.py?line=364'>365</a>\u001b[0m }\n\u001b[0;32m--> <a href='file:///Users/pedroteche/opt/anaconda3/lib/python3.9/site-packages/sklearn/model_selection/_search_successive_halving.py?line=366'>367</a>\u001b[0m results \u001b[39m=\u001b[39m evaluate_candidates(\n\u001b[1;32m    <a href='file:///Users/pedroteche/opt/anaconda3/lib/python3.9/site-packages/sklearn/model_selection/_search_successive_halving.py?line=367'>368</a>\u001b[0m     candidate_params, cv, more_results\u001b[39m=\u001b[39;49mmore_results\n\u001b[1;32m    <a href='file:///Users/pedroteche/opt/anaconda3/lib/python3.9/site-packages/sklearn/model_selection/_search_successive_halving.py?line=368'>369</a>\u001b[0m )\n\u001b[1;32m    <a href='file:///Users/pedroteche/opt/anaconda3/lib/python3.9/site-packages/sklearn/model_selection/_search_successive_halving.py?line=370'>371</a>\u001b[0m n_candidates_to_keep \u001b[39m=\u001b[39m ceil(n_candidates \u001b[39m/\u001b[39m \u001b[39mself\u001b[39m\u001b[39m.\u001b[39mfactor)\n\u001b[1;32m    <a href='file:///Users/pedroteche/opt/anaconda3/lib/python3.9/site-packages/sklearn/model_selection/_search_successive_halving.py?line=371'>372</a>\u001b[0m candidate_params \u001b[39m=\u001b[39m _top_k(results, n_candidates_to_keep, itr)\n",
      "File \u001b[0;32m~/opt/anaconda3/lib/python3.9/site-packages/sklearn/model_selection/_search.py:838\u001b[0m, in \u001b[0;36mBaseSearchCV.fit.<locals>.evaluate_candidates\u001b[0;34m(candidate_params, cv, more_results)\u001b[0m\n\u001b[1;32m    <a href='file:///Users/pedroteche/opt/anaconda3/lib/python3.9/site-packages/sklearn/model_selection/_search.py?line=829'>830</a>\u001b[0m \u001b[39mif\u001b[39;00m \u001b[39mself\u001b[39m\u001b[39m.\u001b[39mverbose \u001b[39m>\u001b[39m \u001b[39m0\u001b[39m:\n\u001b[1;32m    <a href='file:///Users/pedroteche/opt/anaconda3/lib/python3.9/site-packages/sklearn/model_selection/_search.py?line=830'>831</a>\u001b[0m     \u001b[39mprint\u001b[39m(\n\u001b[1;32m    <a href='file:///Users/pedroteche/opt/anaconda3/lib/python3.9/site-packages/sklearn/model_selection/_search.py?line=831'>832</a>\u001b[0m         \u001b[39m\"\u001b[39m\u001b[39mFitting \u001b[39m\u001b[39m{0}\u001b[39;00m\u001b[39m folds for each of \u001b[39m\u001b[39m{1}\u001b[39;00m\u001b[39m candidates,\u001b[39m\u001b[39m\"\u001b[39m\n\u001b[1;32m    <a href='file:///Users/pedroteche/opt/anaconda3/lib/python3.9/site-packages/sklearn/model_selection/_search.py?line=832'>833</a>\u001b[0m         \u001b[39m\"\u001b[39m\u001b[39m totalling \u001b[39m\u001b[39m{2}\u001b[39;00m\u001b[39m fits\u001b[39m\u001b[39m\"\u001b[39m\u001b[39m.\u001b[39mformat(\n\u001b[1;32m    <a href='file:///Users/pedroteche/opt/anaconda3/lib/python3.9/site-packages/sklearn/model_selection/_search.py?line=833'>834</a>\u001b[0m             n_splits, n_candidates, n_candidates \u001b[39m*\u001b[39m n_splits\n\u001b[1;32m    <a href='file:///Users/pedroteche/opt/anaconda3/lib/python3.9/site-packages/sklearn/model_selection/_search.py?line=834'>835</a>\u001b[0m         )\n\u001b[1;32m    <a href='file:///Users/pedroteche/opt/anaconda3/lib/python3.9/site-packages/sklearn/model_selection/_search.py?line=835'>836</a>\u001b[0m     )\n\u001b[0;32m--> <a href='file:///Users/pedroteche/opt/anaconda3/lib/python3.9/site-packages/sklearn/model_selection/_search.py?line=837'>838</a>\u001b[0m out \u001b[39m=\u001b[39m parallel(\n\u001b[1;32m    <a href='file:///Users/pedroteche/opt/anaconda3/lib/python3.9/site-packages/sklearn/model_selection/_search.py?line=838'>839</a>\u001b[0m     delayed(_fit_and_score)(\n\u001b[1;32m    <a href='file:///Users/pedroteche/opt/anaconda3/lib/python3.9/site-packages/sklearn/model_selection/_search.py?line=839'>840</a>\u001b[0m         clone(base_estimator),\n\u001b[1;32m    <a href='file:///Users/pedroteche/opt/anaconda3/lib/python3.9/site-packages/sklearn/model_selection/_search.py?line=840'>841</a>\u001b[0m         X,\n\u001b[1;32m    <a href='file:///Users/pedroteche/opt/anaconda3/lib/python3.9/site-packages/sklearn/model_selection/_search.py?line=841'>842</a>\u001b[0m         y,\n\u001b[1;32m    <a href='file:///Users/pedroteche/opt/anaconda3/lib/python3.9/site-packages/sklearn/model_selection/_search.py?line=842'>843</a>\u001b[0m         train\u001b[39m=\u001b[39;49mtrain,\n\u001b[1;32m    <a href='file:///Users/pedroteche/opt/anaconda3/lib/python3.9/site-packages/sklearn/model_selection/_search.py?line=843'>844</a>\u001b[0m         test\u001b[39m=\u001b[39;49mtest,\n\u001b[1;32m    <a href='file:///Users/pedroteche/opt/anaconda3/lib/python3.9/site-packages/sklearn/model_selection/_search.py?line=844'>845</a>\u001b[0m         parameters\u001b[39m=\u001b[39;49mparameters,\n\u001b[1;32m    <a href='file:///Users/pedroteche/opt/anaconda3/lib/python3.9/site-packages/sklearn/model_selection/_search.py?line=845'>846</a>\u001b[0m         split_progress\u001b[39m=\u001b[39;49m(split_idx, n_splits),\n\u001b[1;32m    <a href='file:///Users/pedroteche/opt/anaconda3/lib/python3.9/site-packages/sklearn/model_selection/_search.py?line=846'>847</a>\u001b[0m         candidate_progress\u001b[39m=\u001b[39;49m(cand_idx, n_candidates),\n\u001b[1;32m    <a href='file:///Users/pedroteche/opt/anaconda3/lib/python3.9/site-packages/sklearn/model_selection/_search.py?line=847'>848</a>\u001b[0m         \u001b[39m*\u001b[39;49m\u001b[39m*\u001b[39;49mfit_and_score_kwargs,\n\u001b[1;32m    <a href='file:///Users/pedroteche/opt/anaconda3/lib/python3.9/site-packages/sklearn/model_selection/_search.py?line=848'>849</a>\u001b[0m     )\n\u001b[1;32m    <a href='file:///Users/pedroteche/opt/anaconda3/lib/python3.9/site-packages/sklearn/model_selection/_search.py?line=849'>850</a>\u001b[0m     \u001b[39mfor\u001b[39;49;00m (cand_idx, parameters), (split_idx, (train, test)) \u001b[39min\u001b[39;49;00m product(\n\u001b[1;32m    <a href='file:///Users/pedroteche/opt/anaconda3/lib/python3.9/site-packages/sklearn/model_selection/_search.py?line=850'>851</a>\u001b[0m         \u001b[39menumerate\u001b[39;49m(candidate_params), \u001b[39menumerate\u001b[39;49m(cv\u001b[39m.\u001b[39;49msplit(X, y, groups))\n\u001b[1;32m    <a href='file:///Users/pedroteche/opt/anaconda3/lib/python3.9/site-packages/sklearn/model_selection/_search.py?line=851'>852</a>\u001b[0m     )\n\u001b[1;32m    <a href='file:///Users/pedroteche/opt/anaconda3/lib/python3.9/site-packages/sklearn/model_selection/_search.py?line=852'>853</a>\u001b[0m )\n\u001b[1;32m    <a href='file:///Users/pedroteche/opt/anaconda3/lib/python3.9/site-packages/sklearn/model_selection/_search.py?line=854'>855</a>\u001b[0m \u001b[39mif\u001b[39;00m \u001b[39mlen\u001b[39m(out) \u001b[39m<\u001b[39m \u001b[39m1\u001b[39m:\n\u001b[1;32m    <a href='file:///Users/pedroteche/opt/anaconda3/lib/python3.9/site-packages/sklearn/model_selection/_search.py?line=855'>856</a>\u001b[0m     \u001b[39mraise\u001b[39;00m \u001b[39mValueError\u001b[39;00m(\n\u001b[1;32m    <a href='file:///Users/pedroteche/opt/anaconda3/lib/python3.9/site-packages/sklearn/model_selection/_search.py?line=856'>857</a>\u001b[0m         \u001b[39m\"\u001b[39m\u001b[39mNo fits were performed. \u001b[39m\u001b[39m\"\u001b[39m\n\u001b[1;32m    <a href='file:///Users/pedroteche/opt/anaconda3/lib/python3.9/site-packages/sklearn/model_selection/_search.py?line=857'>858</a>\u001b[0m         \u001b[39m\"\u001b[39m\u001b[39mWas the CV iterator empty? \u001b[39m\u001b[39m\"\u001b[39m\n\u001b[1;32m    <a href='file:///Users/pedroteche/opt/anaconda3/lib/python3.9/site-packages/sklearn/model_selection/_search.py?line=858'>859</a>\u001b[0m         \u001b[39m\"\u001b[39m\u001b[39mWere there no candidates?\u001b[39m\u001b[39m\"\u001b[39m\n\u001b[1;32m    <a href='file:///Users/pedroteche/opt/anaconda3/lib/python3.9/site-packages/sklearn/model_selection/_search.py?line=859'>860</a>\u001b[0m     )\n",
      "File \u001b[0;32m~/opt/anaconda3/lib/python3.9/site-packages/joblib/parallel.py:1044\u001b[0m, in \u001b[0;36mParallel.__call__\u001b[0;34m(self, iterable)\u001b[0m\n\u001b[1;32m   <a href='file:///Users/pedroteche/opt/anaconda3/lib/python3.9/site-packages/joblib/parallel.py?line=1040'>1041</a>\u001b[0m \u001b[39mif\u001b[39;00m \u001b[39mself\u001b[39m\u001b[39m.\u001b[39mdispatch_one_batch(iterator):\n\u001b[1;32m   <a href='file:///Users/pedroteche/opt/anaconda3/lib/python3.9/site-packages/joblib/parallel.py?line=1041'>1042</a>\u001b[0m     \u001b[39mself\u001b[39m\u001b[39m.\u001b[39m_iterating \u001b[39m=\u001b[39m \u001b[39mself\u001b[39m\u001b[39m.\u001b[39m_original_iterator \u001b[39mis\u001b[39;00m \u001b[39mnot\u001b[39;00m \u001b[39mNone\u001b[39;00m\n\u001b[0;32m-> <a href='file:///Users/pedroteche/opt/anaconda3/lib/python3.9/site-packages/joblib/parallel.py?line=1043'>1044</a>\u001b[0m \u001b[39mwhile\u001b[39;00m \u001b[39mself\u001b[39;49m\u001b[39m.\u001b[39;49mdispatch_one_batch(iterator):\n\u001b[1;32m   <a href='file:///Users/pedroteche/opt/anaconda3/lib/python3.9/site-packages/joblib/parallel.py?line=1044'>1045</a>\u001b[0m     \u001b[39mpass\u001b[39;00m\n\u001b[1;32m   <a href='file:///Users/pedroteche/opt/anaconda3/lib/python3.9/site-packages/joblib/parallel.py?line=1046'>1047</a>\u001b[0m \u001b[39mif\u001b[39;00m pre_dispatch \u001b[39m==\u001b[39m \u001b[39m\"\u001b[39m\u001b[39mall\u001b[39m\u001b[39m\"\u001b[39m \u001b[39mor\u001b[39;00m n_jobs \u001b[39m==\u001b[39m \u001b[39m1\u001b[39m:\n\u001b[1;32m   <a href='file:///Users/pedroteche/opt/anaconda3/lib/python3.9/site-packages/joblib/parallel.py?line=1047'>1048</a>\u001b[0m     \u001b[39m# The iterable was consumed all at once by the above for loop.\u001b[39;00m\n\u001b[1;32m   <a href='file:///Users/pedroteche/opt/anaconda3/lib/python3.9/site-packages/joblib/parallel.py?line=1048'>1049</a>\u001b[0m     \u001b[39m# No need to wait for async callbacks to trigger to\u001b[39;00m\n\u001b[1;32m   <a href='file:///Users/pedroteche/opt/anaconda3/lib/python3.9/site-packages/joblib/parallel.py?line=1049'>1050</a>\u001b[0m     \u001b[39m# consumption.\u001b[39;00m\n",
      "File \u001b[0;32m~/opt/anaconda3/lib/python3.9/site-packages/joblib/parallel.py:859\u001b[0m, in \u001b[0;36mParallel.dispatch_one_batch\u001b[0;34m(self, iterator)\u001b[0m\n\u001b[1;32m    <a href='file:///Users/pedroteche/opt/anaconda3/lib/python3.9/site-packages/joblib/parallel.py?line=856'>857</a>\u001b[0m     \u001b[39mreturn\u001b[39;00m \u001b[39mFalse\u001b[39;00m\n\u001b[1;32m    <a href='file:///Users/pedroteche/opt/anaconda3/lib/python3.9/site-packages/joblib/parallel.py?line=857'>858</a>\u001b[0m \u001b[39melse\u001b[39;00m:\n\u001b[0;32m--> <a href='file:///Users/pedroteche/opt/anaconda3/lib/python3.9/site-packages/joblib/parallel.py?line=858'>859</a>\u001b[0m     \u001b[39mself\u001b[39;49m\u001b[39m.\u001b[39;49m_dispatch(tasks)\n\u001b[1;32m    <a href='file:///Users/pedroteche/opt/anaconda3/lib/python3.9/site-packages/joblib/parallel.py?line=859'>860</a>\u001b[0m     \u001b[39mreturn\u001b[39;00m \u001b[39mTrue\u001b[39;00m\n",
      "File \u001b[0;32m~/opt/anaconda3/lib/python3.9/site-packages/joblib/parallel.py:777\u001b[0m, in \u001b[0;36mParallel._dispatch\u001b[0;34m(self, batch)\u001b[0m\n\u001b[1;32m    <a href='file:///Users/pedroteche/opt/anaconda3/lib/python3.9/site-packages/joblib/parallel.py?line=774'>775</a>\u001b[0m \u001b[39mwith\u001b[39;00m \u001b[39mself\u001b[39m\u001b[39m.\u001b[39m_lock:\n\u001b[1;32m    <a href='file:///Users/pedroteche/opt/anaconda3/lib/python3.9/site-packages/joblib/parallel.py?line=775'>776</a>\u001b[0m     job_idx \u001b[39m=\u001b[39m \u001b[39mlen\u001b[39m(\u001b[39mself\u001b[39m\u001b[39m.\u001b[39m_jobs)\n\u001b[0;32m--> <a href='file:///Users/pedroteche/opt/anaconda3/lib/python3.9/site-packages/joblib/parallel.py?line=776'>777</a>\u001b[0m     job \u001b[39m=\u001b[39m \u001b[39mself\u001b[39;49m\u001b[39m.\u001b[39;49m_backend\u001b[39m.\u001b[39;49mapply_async(batch, callback\u001b[39m=\u001b[39;49mcb)\n\u001b[1;32m    <a href='file:///Users/pedroteche/opt/anaconda3/lib/python3.9/site-packages/joblib/parallel.py?line=777'>778</a>\u001b[0m     \u001b[39m# A job can complete so quickly than its callback is\u001b[39;00m\n\u001b[1;32m    <a href='file:///Users/pedroteche/opt/anaconda3/lib/python3.9/site-packages/joblib/parallel.py?line=778'>779</a>\u001b[0m     \u001b[39m# called before we get here, causing self._jobs to\u001b[39;00m\n\u001b[1;32m    <a href='file:///Users/pedroteche/opt/anaconda3/lib/python3.9/site-packages/joblib/parallel.py?line=779'>780</a>\u001b[0m     \u001b[39m# grow. To ensure correct results ordering, .insert is\u001b[39;00m\n\u001b[1;32m    <a href='file:///Users/pedroteche/opt/anaconda3/lib/python3.9/site-packages/joblib/parallel.py?line=780'>781</a>\u001b[0m     \u001b[39m# used (rather than .append) in the following line\u001b[39;00m\n\u001b[1;32m    <a href='file:///Users/pedroteche/opt/anaconda3/lib/python3.9/site-packages/joblib/parallel.py?line=781'>782</a>\u001b[0m     \u001b[39mself\u001b[39m\u001b[39m.\u001b[39m_jobs\u001b[39m.\u001b[39minsert(job_idx, job)\n",
      "File \u001b[0;32m~/opt/anaconda3/lib/python3.9/site-packages/joblib/_parallel_backends.py:208\u001b[0m, in \u001b[0;36mSequentialBackend.apply_async\u001b[0;34m(self, func, callback)\u001b[0m\n\u001b[1;32m    <a href='file:///Users/pedroteche/opt/anaconda3/lib/python3.9/site-packages/joblib/_parallel_backends.py?line=205'>206</a>\u001b[0m \u001b[39mdef\u001b[39;00m \u001b[39mapply_async\u001b[39m(\u001b[39mself\u001b[39m, func, callback\u001b[39m=\u001b[39m\u001b[39mNone\u001b[39;00m):\n\u001b[1;32m    <a href='file:///Users/pedroteche/opt/anaconda3/lib/python3.9/site-packages/joblib/_parallel_backends.py?line=206'>207</a>\u001b[0m     \u001b[39m\"\"\"Schedule a func to be run\"\"\"\u001b[39;00m\n\u001b[0;32m--> <a href='file:///Users/pedroteche/opt/anaconda3/lib/python3.9/site-packages/joblib/_parallel_backends.py?line=207'>208</a>\u001b[0m     result \u001b[39m=\u001b[39m ImmediateResult(func)\n\u001b[1;32m    <a href='file:///Users/pedroteche/opt/anaconda3/lib/python3.9/site-packages/joblib/_parallel_backends.py?line=208'>209</a>\u001b[0m     \u001b[39mif\u001b[39;00m callback:\n\u001b[1;32m    <a href='file:///Users/pedroteche/opt/anaconda3/lib/python3.9/site-packages/joblib/_parallel_backends.py?line=209'>210</a>\u001b[0m         callback(result)\n",
      "File \u001b[0;32m~/opt/anaconda3/lib/python3.9/site-packages/joblib/_parallel_backends.py:572\u001b[0m, in \u001b[0;36mImmediateResult.__init__\u001b[0;34m(self, batch)\u001b[0m\n\u001b[1;32m    <a href='file:///Users/pedroteche/opt/anaconda3/lib/python3.9/site-packages/joblib/_parallel_backends.py?line=568'>569</a>\u001b[0m \u001b[39mdef\u001b[39;00m \u001b[39m__init__\u001b[39m(\u001b[39mself\u001b[39m, batch):\n\u001b[1;32m    <a href='file:///Users/pedroteche/opt/anaconda3/lib/python3.9/site-packages/joblib/_parallel_backends.py?line=569'>570</a>\u001b[0m     \u001b[39m# Don't delay the application, to avoid keeping the input\u001b[39;00m\n\u001b[1;32m    <a href='file:///Users/pedroteche/opt/anaconda3/lib/python3.9/site-packages/joblib/_parallel_backends.py?line=570'>571</a>\u001b[0m     \u001b[39m# arguments in memory\u001b[39;00m\n\u001b[0;32m--> <a href='file:///Users/pedroteche/opt/anaconda3/lib/python3.9/site-packages/joblib/_parallel_backends.py?line=571'>572</a>\u001b[0m     \u001b[39mself\u001b[39m\u001b[39m.\u001b[39mresults \u001b[39m=\u001b[39m batch()\n",
      "File \u001b[0;32m~/opt/anaconda3/lib/python3.9/site-packages/joblib/parallel.py:262\u001b[0m, in \u001b[0;36mBatchedCalls.__call__\u001b[0;34m(self)\u001b[0m\n\u001b[1;32m    <a href='file:///Users/pedroteche/opt/anaconda3/lib/python3.9/site-packages/joblib/parallel.py?line=257'>258</a>\u001b[0m \u001b[39mdef\u001b[39;00m \u001b[39m__call__\u001b[39m(\u001b[39mself\u001b[39m):\n\u001b[1;32m    <a href='file:///Users/pedroteche/opt/anaconda3/lib/python3.9/site-packages/joblib/parallel.py?line=258'>259</a>\u001b[0m     \u001b[39m# Set the default nested backend to self._backend but do not set the\u001b[39;00m\n\u001b[1;32m    <a href='file:///Users/pedroteche/opt/anaconda3/lib/python3.9/site-packages/joblib/parallel.py?line=259'>260</a>\u001b[0m     \u001b[39m# change the default number of processes to -1\u001b[39;00m\n\u001b[1;32m    <a href='file:///Users/pedroteche/opt/anaconda3/lib/python3.9/site-packages/joblib/parallel.py?line=260'>261</a>\u001b[0m     \u001b[39mwith\u001b[39;00m parallel_backend(\u001b[39mself\u001b[39m\u001b[39m.\u001b[39m_backend, n_jobs\u001b[39m=\u001b[39m\u001b[39mself\u001b[39m\u001b[39m.\u001b[39m_n_jobs):\n\u001b[0;32m--> <a href='file:///Users/pedroteche/opt/anaconda3/lib/python3.9/site-packages/joblib/parallel.py?line=261'>262</a>\u001b[0m         \u001b[39mreturn\u001b[39;00m [func(\u001b[39m*\u001b[39margs, \u001b[39m*\u001b[39m\u001b[39m*\u001b[39mkwargs)\n\u001b[1;32m    <a href='file:///Users/pedroteche/opt/anaconda3/lib/python3.9/site-packages/joblib/parallel.py?line=262'>263</a>\u001b[0m                 \u001b[39mfor\u001b[39;00m func, args, kwargs \u001b[39min\u001b[39;00m \u001b[39mself\u001b[39m\u001b[39m.\u001b[39mitems]\n",
      "File \u001b[0;32m~/opt/anaconda3/lib/python3.9/site-packages/joblib/parallel.py:262\u001b[0m, in \u001b[0;36m<listcomp>\u001b[0;34m(.0)\u001b[0m\n\u001b[1;32m    <a href='file:///Users/pedroteche/opt/anaconda3/lib/python3.9/site-packages/joblib/parallel.py?line=257'>258</a>\u001b[0m \u001b[39mdef\u001b[39;00m \u001b[39m__call__\u001b[39m(\u001b[39mself\u001b[39m):\n\u001b[1;32m    <a href='file:///Users/pedroteche/opt/anaconda3/lib/python3.9/site-packages/joblib/parallel.py?line=258'>259</a>\u001b[0m     \u001b[39m# Set the default nested backend to self._backend but do not set the\u001b[39;00m\n\u001b[1;32m    <a href='file:///Users/pedroteche/opt/anaconda3/lib/python3.9/site-packages/joblib/parallel.py?line=259'>260</a>\u001b[0m     \u001b[39m# change the default number of processes to -1\u001b[39;00m\n\u001b[1;32m    <a href='file:///Users/pedroteche/opt/anaconda3/lib/python3.9/site-packages/joblib/parallel.py?line=260'>261</a>\u001b[0m     \u001b[39mwith\u001b[39;00m parallel_backend(\u001b[39mself\u001b[39m\u001b[39m.\u001b[39m_backend, n_jobs\u001b[39m=\u001b[39m\u001b[39mself\u001b[39m\u001b[39m.\u001b[39m_n_jobs):\n\u001b[0;32m--> <a href='file:///Users/pedroteche/opt/anaconda3/lib/python3.9/site-packages/joblib/parallel.py?line=261'>262</a>\u001b[0m         \u001b[39mreturn\u001b[39;00m [func(\u001b[39m*\u001b[39;49margs, \u001b[39m*\u001b[39;49m\u001b[39m*\u001b[39;49mkwargs)\n\u001b[1;32m    <a href='file:///Users/pedroteche/opt/anaconda3/lib/python3.9/site-packages/joblib/parallel.py?line=262'>263</a>\u001b[0m                 \u001b[39mfor\u001b[39;00m func, args, kwargs \u001b[39min\u001b[39;00m \u001b[39mself\u001b[39m\u001b[39m.\u001b[39mitems]\n",
      "File \u001b[0;32m~/opt/anaconda3/lib/python3.9/site-packages/sklearn/utils/fixes.py:216\u001b[0m, in \u001b[0;36m_FuncWrapper.__call__\u001b[0;34m(self, *args, **kwargs)\u001b[0m\n\u001b[1;32m    <a href='file:///Users/pedroteche/opt/anaconda3/lib/python3.9/site-packages/sklearn/utils/fixes.py?line=213'>214</a>\u001b[0m \u001b[39mdef\u001b[39;00m \u001b[39m__call__\u001b[39m(\u001b[39mself\u001b[39m, \u001b[39m*\u001b[39margs, \u001b[39m*\u001b[39m\u001b[39m*\u001b[39mkwargs):\n\u001b[1;32m    <a href='file:///Users/pedroteche/opt/anaconda3/lib/python3.9/site-packages/sklearn/utils/fixes.py?line=214'>215</a>\u001b[0m     \u001b[39mwith\u001b[39;00m config_context(\u001b[39m*\u001b[39m\u001b[39m*\u001b[39m\u001b[39mself\u001b[39m\u001b[39m.\u001b[39mconfig):\n\u001b[0;32m--> <a href='file:///Users/pedroteche/opt/anaconda3/lib/python3.9/site-packages/sklearn/utils/fixes.py?line=215'>216</a>\u001b[0m         \u001b[39mreturn\u001b[39;00m \u001b[39mself\u001b[39;49m\u001b[39m.\u001b[39;49mfunction(\u001b[39m*\u001b[39;49margs, \u001b[39m*\u001b[39;49m\u001b[39m*\u001b[39;49mkwargs)\n",
      "File \u001b[0;32m~/opt/anaconda3/lib/python3.9/site-packages/sklearn/model_selection/_validation.py:680\u001b[0m, in \u001b[0;36m_fit_and_score\u001b[0;34m(estimator, X, y, scorer, train, test, verbose, parameters, fit_params, return_train_score, return_parameters, return_n_test_samples, return_times, return_estimator, split_progress, candidate_progress, error_score)\u001b[0m\n\u001b[1;32m    <a href='file:///Users/pedroteche/opt/anaconda3/lib/python3.9/site-packages/sklearn/model_selection/_validation.py?line=677'>678</a>\u001b[0m         estimator\u001b[39m.\u001b[39mfit(X_train, \u001b[39m*\u001b[39m\u001b[39m*\u001b[39mfit_params)\n\u001b[1;32m    <a href='file:///Users/pedroteche/opt/anaconda3/lib/python3.9/site-packages/sklearn/model_selection/_validation.py?line=678'>679</a>\u001b[0m     \u001b[39melse\u001b[39;00m:\n\u001b[0;32m--> <a href='file:///Users/pedroteche/opt/anaconda3/lib/python3.9/site-packages/sklearn/model_selection/_validation.py?line=679'>680</a>\u001b[0m         estimator\u001b[39m.\u001b[39;49mfit(X_train, y_train, \u001b[39m*\u001b[39;49m\u001b[39m*\u001b[39;49mfit_params)\n\u001b[1;32m    <a href='file:///Users/pedroteche/opt/anaconda3/lib/python3.9/site-packages/sklearn/model_selection/_validation.py?line=681'>682</a>\u001b[0m \u001b[39mexcept\u001b[39;00m \u001b[39mException\u001b[39;00m:\n\u001b[1;32m    <a href='file:///Users/pedroteche/opt/anaconda3/lib/python3.9/site-packages/sklearn/model_selection/_validation.py?line=682'>683</a>\u001b[0m     \u001b[39m# Note fit time as time until error\u001b[39;00m\n\u001b[1;32m    <a href='file:///Users/pedroteche/opt/anaconda3/lib/python3.9/site-packages/sklearn/model_selection/_validation.py?line=683'>684</a>\u001b[0m     fit_time \u001b[39m=\u001b[39m time\u001b[39m.\u001b[39mtime() \u001b[39m-\u001b[39m start_time\n",
      "File \u001b[0;32m~/opt/anaconda3/lib/python3.9/site-packages/sklearn/ensemble/_gb.py:586\u001b[0m, in \u001b[0;36mBaseGradientBoosting.fit\u001b[0;34m(self, X, y, sample_weight, monitor)\u001b[0m\n\u001b[1;32m    <a href='file:///Users/pedroteche/opt/anaconda3/lib/python3.9/site-packages/sklearn/ensemble/_gb.py?line=582'>583</a>\u001b[0m     \u001b[39mself\u001b[39m\u001b[39m.\u001b[39m_resize_state()\n\u001b[1;32m    <a href='file:///Users/pedroteche/opt/anaconda3/lib/python3.9/site-packages/sklearn/ensemble/_gb.py?line=584'>585</a>\u001b[0m \u001b[39m# fit the boosting stages\u001b[39;00m\n\u001b[0;32m--> <a href='file:///Users/pedroteche/opt/anaconda3/lib/python3.9/site-packages/sklearn/ensemble/_gb.py?line=585'>586</a>\u001b[0m n_stages \u001b[39m=\u001b[39m \u001b[39mself\u001b[39;49m\u001b[39m.\u001b[39;49m_fit_stages(\n\u001b[1;32m    <a href='file:///Users/pedroteche/opt/anaconda3/lib/python3.9/site-packages/sklearn/ensemble/_gb.py?line=586'>587</a>\u001b[0m     X,\n\u001b[1;32m    <a href='file:///Users/pedroteche/opt/anaconda3/lib/python3.9/site-packages/sklearn/ensemble/_gb.py?line=587'>588</a>\u001b[0m     y,\n\u001b[1;32m    <a href='file:///Users/pedroteche/opt/anaconda3/lib/python3.9/site-packages/sklearn/ensemble/_gb.py?line=588'>589</a>\u001b[0m     raw_predictions,\n\u001b[1;32m    <a href='file:///Users/pedroteche/opt/anaconda3/lib/python3.9/site-packages/sklearn/ensemble/_gb.py?line=589'>590</a>\u001b[0m     sample_weight,\n\u001b[1;32m    <a href='file:///Users/pedroteche/opt/anaconda3/lib/python3.9/site-packages/sklearn/ensemble/_gb.py?line=590'>591</a>\u001b[0m     \u001b[39mself\u001b[39;49m\u001b[39m.\u001b[39;49m_rng,\n\u001b[1;32m    <a href='file:///Users/pedroteche/opt/anaconda3/lib/python3.9/site-packages/sklearn/ensemble/_gb.py?line=591'>592</a>\u001b[0m     X_val,\n\u001b[1;32m    <a href='file:///Users/pedroteche/opt/anaconda3/lib/python3.9/site-packages/sklearn/ensemble/_gb.py?line=592'>593</a>\u001b[0m     y_val,\n\u001b[1;32m    <a href='file:///Users/pedroteche/opt/anaconda3/lib/python3.9/site-packages/sklearn/ensemble/_gb.py?line=593'>594</a>\u001b[0m     sample_weight_val,\n\u001b[1;32m    <a href='file:///Users/pedroteche/opt/anaconda3/lib/python3.9/site-packages/sklearn/ensemble/_gb.py?line=594'>595</a>\u001b[0m     begin_at_stage,\n\u001b[1;32m    <a href='file:///Users/pedroteche/opt/anaconda3/lib/python3.9/site-packages/sklearn/ensemble/_gb.py?line=595'>596</a>\u001b[0m     monitor,\n\u001b[1;32m    <a href='file:///Users/pedroteche/opt/anaconda3/lib/python3.9/site-packages/sklearn/ensemble/_gb.py?line=596'>597</a>\u001b[0m )\n\u001b[1;32m    <a href='file:///Users/pedroteche/opt/anaconda3/lib/python3.9/site-packages/sklearn/ensemble/_gb.py?line=598'>599</a>\u001b[0m \u001b[39m# change shape of arrays after fit (early-stopping or additional ests)\u001b[39;00m\n\u001b[1;32m    <a href='file:///Users/pedroteche/opt/anaconda3/lib/python3.9/site-packages/sklearn/ensemble/_gb.py?line=599'>600</a>\u001b[0m \u001b[39mif\u001b[39;00m n_stages \u001b[39m!=\u001b[39m \u001b[39mself\u001b[39m\u001b[39m.\u001b[39mestimators_\u001b[39m.\u001b[39mshape[\u001b[39m0\u001b[39m]:\n",
      "File \u001b[0;32m~/opt/anaconda3/lib/python3.9/site-packages/sklearn/ensemble/_gb.py:663\u001b[0m, in \u001b[0;36mBaseGradientBoosting._fit_stages\u001b[0;34m(self, X, y, raw_predictions, sample_weight, random_state, X_val, y_val, sample_weight_val, begin_at_stage, monitor)\u001b[0m\n\u001b[1;32m    <a href='file:///Users/pedroteche/opt/anaconda3/lib/python3.9/site-packages/sklearn/ensemble/_gb.py?line=655'>656</a>\u001b[0m     old_oob_score \u001b[39m=\u001b[39m loss_(\n\u001b[1;32m    <a href='file:///Users/pedroteche/opt/anaconda3/lib/python3.9/site-packages/sklearn/ensemble/_gb.py?line=656'>657</a>\u001b[0m         y[\u001b[39m~\u001b[39msample_mask],\n\u001b[1;32m    <a href='file:///Users/pedroteche/opt/anaconda3/lib/python3.9/site-packages/sklearn/ensemble/_gb.py?line=657'>658</a>\u001b[0m         raw_predictions[\u001b[39m~\u001b[39msample_mask],\n\u001b[1;32m    <a href='file:///Users/pedroteche/opt/anaconda3/lib/python3.9/site-packages/sklearn/ensemble/_gb.py?line=658'>659</a>\u001b[0m         sample_weight[\u001b[39m~\u001b[39msample_mask],\n\u001b[1;32m    <a href='file:///Users/pedroteche/opt/anaconda3/lib/python3.9/site-packages/sklearn/ensemble/_gb.py?line=659'>660</a>\u001b[0m     )\n\u001b[1;32m    <a href='file:///Users/pedroteche/opt/anaconda3/lib/python3.9/site-packages/sklearn/ensemble/_gb.py?line=661'>662</a>\u001b[0m \u001b[39m# fit next stage of trees\u001b[39;00m\n\u001b[0;32m--> <a href='file:///Users/pedroteche/opt/anaconda3/lib/python3.9/site-packages/sklearn/ensemble/_gb.py?line=662'>663</a>\u001b[0m raw_predictions \u001b[39m=\u001b[39m \u001b[39mself\u001b[39;49m\u001b[39m.\u001b[39;49m_fit_stage(\n\u001b[1;32m    <a href='file:///Users/pedroteche/opt/anaconda3/lib/python3.9/site-packages/sklearn/ensemble/_gb.py?line=663'>664</a>\u001b[0m     i,\n\u001b[1;32m    <a href='file:///Users/pedroteche/opt/anaconda3/lib/python3.9/site-packages/sklearn/ensemble/_gb.py?line=664'>665</a>\u001b[0m     X,\n\u001b[1;32m    <a href='file:///Users/pedroteche/opt/anaconda3/lib/python3.9/site-packages/sklearn/ensemble/_gb.py?line=665'>666</a>\u001b[0m     y,\n\u001b[1;32m    <a href='file:///Users/pedroteche/opt/anaconda3/lib/python3.9/site-packages/sklearn/ensemble/_gb.py?line=666'>667</a>\u001b[0m     raw_predictions,\n\u001b[1;32m    <a href='file:///Users/pedroteche/opt/anaconda3/lib/python3.9/site-packages/sklearn/ensemble/_gb.py?line=667'>668</a>\u001b[0m     sample_weight,\n\u001b[1;32m    <a href='file:///Users/pedroteche/opt/anaconda3/lib/python3.9/site-packages/sklearn/ensemble/_gb.py?line=668'>669</a>\u001b[0m     sample_mask,\n\u001b[1;32m    <a href='file:///Users/pedroteche/opt/anaconda3/lib/python3.9/site-packages/sklearn/ensemble/_gb.py?line=669'>670</a>\u001b[0m     random_state,\n\u001b[1;32m    <a href='file:///Users/pedroteche/opt/anaconda3/lib/python3.9/site-packages/sklearn/ensemble/_gb.py?line=670'>671</a>\u001b[0m     X_csc,\n\u001b[1;32m    <a href='file:///Users/pedroteche/opt/anaconda3/lib/python3.9/site-packages/sklearn/ensemble/_gb.py?line=671'>672</a>\u001b[0m     X_csr,\n\u001b[1;32m    <a href='file:///Users/pedroteche/opt/anaconda3/lib/python3.9/site-packages/sklearn/ensemble/_gb.py?line=672'>673</a>\u001b[0m )\n\u001b[1;32m    <a href='file:///Users/pedroteche/opt/anaconda3/lib/python3.9/site-packages/sklearn/ensemble/_gb.py?line=674'>675</a>\u001b[0m \u001b[39m# track deviance (= loss)\u001b[39;00m\n\u001b[1;32m    <a href='file:///Users/pedroteche/opt/anaconda3/lib/python3.9/site-packages/sklearn/ensemble/_gb.py?line=675'>676</a>\u001b[0m \u001b[39mif\u001b[39;00m do_oob:\n",
      "File \u001b[0;32m~/opt/anaconda3/lib/python3.9/site-packages/sklearn/ensemble/_gb.py:246\u001b[0m, in \u001b[0;36mBaseGradientBoosting._fit_stage\u001b[0;34m(self, i, X, y, raw_predictions, sample_weight, sample_mask, random_state, X_csc, X_csr)\u001b[0m\n\u001b[1;32m    <a href='file:///Users/pedroteche/opt/anaconda3/lib/python3.9/site-packages/sklearn/ensemble/_gb.py?line=242'>243</a>\u001b[0m     sample_weight \u001b[39m=\u001b[39m sample_weight \u001b[39m*\u001b[39m sample_mask\u001b[39m.\u001b[39mastype(np\u001b[39m.\u001b[39mfloat64)\n\u001b[1;32m    <a href='file:///Users/pedroteche/opt/anaconda3/lib/python3.9/site-packages/sklearn/ensemble/_gb.py?line=244'>245</a>\u001b[0m X \u001b[39m=\u001b[39m X_csr \u001b[39mif\u001b[39;00m X_csr \u001b[39mis\u001b[39;00m \u001b[39mnot\u001b[39;00m \u001b[39mNone\u001b[39;00m \u001b[39melse\u001b[39;00m X\n\u001b[0;32m--> <a href='file:///Users/pedroteche/opt/anaconda3/lib/python3.9/site-packages/sklearn/ensemble/_gb.py?line=245'>246</a>\u001b[0m tree\u001b[39m.\u001b[39;49mfit(X, residual, sample_weight\u001b[39m=\u001b[39;49msample_weight, check_input\u001b[39m=\u001b[39;49m\u001b[39mFalse\u001b[39;49;00m)\n\u001b[1;32m    <a href='file:///Users/pedroteche/opt/anaconda3/lib/python3.9/site-packages/sklearn/ensemble/_gb.py?line=247'>248</a>\u001b[0m \u001b[39m# update tree leaves\u001b[39;00m\n\u001b[1;32m    <a href='file:///Users/pedroteche/opt/anaconda3/lib/python3.9/site-packages/sklearn/ensemble/_gb.py?line=248'>249</a>\u001b[0m loss\u001b[39m.\u001b[39mupdate_terminal_regions(\n\u001b[1;32m    <a href='file:///Users/pedroteche/opt/anaconda3/lib/python3.9/site-packages/sklearn/ensemble/_gb.py?line=249'>250</a>\u001b[0m     tree\u001b[39m.\u001b[39mtree_,\n\u001b[1;32m    <a href='file:///Users/pedroteche/opt/anaconda3/lib/python3.9/site-packages/sklearn/ensemble/_gb.py?line=250'>251</a>\u001b[0m     X,\n\u001b[0;32m   (...)\u001b[0m\n\u001b[1;32m    <a href='file:///Users/pedroteche/opt/anaconda3/lib/python3.9/site-packages/sklearn/ensemble/_gb.py?line=257'>258</a>\u001b[0m     k\u001b[39m=\u001b[39mk,\n\u001b[1;32m    <a href='file:///Users/pedroteche/opt/anaconda3/lib/python3.9/site-packages/sklearn/ensemble/_gb.py?line=258'>259</a>\u001b[0m )\n",
      "File \u001b[0;32m~/opt/anaconda3/lib/python3.9/site-packages/sklearn/tree/_classes.py:1315\u001b[0m, in \u001b[0;36mDecisionTreeRegressor.fit\u001b[0;34m(self, X, y, sample_weight, check_input, X_idx_sorted)\u001b[0m\n\u001b[1;32m   <a href='file:///Users/pedroteche/opt/anaconda3/lib/python3.9/site-packages/sklearn/tree/_classes.py?line=1277'>1278</a>\u001b[0m \u001b[39mdef\u001b[39;00m \u001b[39mfit\u001b[39m(\n\u001b[1;32m   <a href='file:///Users/pedroteche/opt/anaconda3/lib/python3.9/site-packages/sklearn/tree/_classes.py?line=1278'>1279</a>\u001b[0m     \u001b[39mself\u001b[39m, X, y, sample_weight\u001b[39m=\u001b[39m\u001b[39mNone\u001b[39;00m, check_input\u001b[39m=\u001b[39m\u001b[39mTrue\u001b[39;00m, X_idx_sorted\u001b[39m=\u001b[39m\u001b[39m\"\u001b[39m\u001b[39mdeprecated\u001b[39m\u001b[39m\"\u001b[39m\n\u001b[1;32m   <a href='file:///Users/pedroteche/opt/anaconda3/lib/python3.9/site-packages/sklearn/tree/_classes.py?line=1279'>1280</a>\u001b[0m ):\n\u001b[1;32m   <a href='file:///Users/pedroteche/opt/anaconda3/lib/python3.9/site-packages/sklearn/tree/_classes.py?line=1280'>1281</a>\u001b[0m     \u001b[39m\"\"\"Build a decision tree regressor from the training set (X, y).\u001b[39;00m\n\u001b[1;32m   <a href='file:///Users/pedroteche/opt/anaconda3/lib/python3.9/site-packages/sklearn/tree/_classes.py?line=1281'>1282</a>\u001b[0m \n\u001b[1;32m   <a href='file:///Users/pedroteche/opt/anaconda3/lib/python3.9/site-packages/sklearn/tree/_classes.py?line=1282'>1283</a>\u001b[0m \u001b[39m    Parameters\u001b[39;00m\n\u001b[0;32m   (...)\u001b[0m\n\u001b[1;32m   <a href='file:///Users/pedroteche/opt/anaconda3/lib/python3.9/site-packages/sklearn/tree/_classes.py?line=1311'>1312</a>\u001b[0m \u001b[39m        Fitted estimator.\u001b[39;00m\n\u001b[1;32m   <a href='file:///Users/pedroteche/opt/anaconda3/lib/python3.9/site-packages/sklearn/tree/_classes.py?line=1312'>1313</a>\u001b[0m \u001b[39m    \"\"\"\u001b[39;00m\n\u001b[0;32m-> <a href='file:///Users/pedroteche/opt/anaconda3/lib/python3.9/site-packages/sklearn/tree/_classes.py?line=1314'>1315</a>\u001b[0m     \u001b[39msuper\u001b[39;49m()\u001b[39m.\u001b[39;49mfit(\n\u001b[1;32m   <a href='file:///Users/pedroteche/opt/anaconda3/lib/python3.9/site-packages/sklearn/tree/_classes.py?line=1315'>1316</a>\u001b[0m         X,\n\u001b[1;32m   <a href='file:///Users/pedroteche/opt/anaconda3/lib/python3.9/site-packages/sklearn/tree/_classes.py?line=1316'>1317</a>\u001b[0m         y,\n\u001b[1;32m   <a href='file:///Users/pedroteche/opt/anaconda3/lib/python3.9/site-packages/sklearn/tree/_classes.py?line=1317'>1318</a>\u001b[0m         sample_weight\u001b[39m=\u001b[39;49msample_weight,\n\u001b[1;32m   <a href='file:///Users/pedroteche/opt/anaconda3/lib/python3.9/site-packages/sklearn/tree/_classes.py?line=1318'>1319</a>\u001b[0m         check_input\u001b[39m=\u001b[39;49mcheck_input,\n\u001b[1;32m   <a href='file:///Users/pedroteche/opt/anaconda3/lib/python3.9/site-packages/sklearn/tree/_classes.py?line=1319'>1320</a>\u001b[0m         X_idx_sorted\u001b[39m=\u001b[39;49mX_idx_sorted,\n\u001b[1;32m   <a href='file:///Users/pedroteche/opt/anaconda3/lib/python3.9/site-packages/sklearn/tree/_classes.py?line=1320'>1321</a>\u001b[0m     )\n\u001b[1;32m   <a href='file:///Users/pedroteche/opt/anaconda3/lib/python3.9/site-packages/sklearn/tree/_classes.py?line=1321'>1322</a>\u001b[0m     \u001b[39mreturn\u001b[39;00m \u001b[39mself\u001b[39m\n",
      "File \u001b[0;32m~/opt/anaconda3/lib/python3.9/site-packages/sklearn/tree/_classes.py:420\u001b[0m, in \u001b[0;36mBaseDecisionTree.fit\u001b[0;34m(self, X, y, sample_weight, check_input, X_idx_sorted)\u001b[0m\n\u001b[1;32m    <a href='file:///Users/pedroteche/opt/anaconda3/lib/python3.9/site-packages/sklearn/tree/_classes.py?line=408'>409</a>\u001b[0m \u001b[39melse\u001b[39;00m:\n\u001b[1;32m    <a href='file:///Users/pedroteche/opt/anaconda3/lib/python3.9/site-packages/sklearn/tree/_classes.py?line=409'>410</a>\u001b[0m     builder \u001b[39m=\u001b[39m BestFirstTreeBuilder(\n\u001b[1;32m    <a href='file:///Users/pedroteche/opt/anaconda3/lib/python3.9/site-packages/sklearn/tree/_classes.py?line=410'>411</a>\u001b[0m         splitter,\n\u001b[1;32m    <a href='file:///Users/pedroteche/opt/anaconda3/lib/python3.9/site-packages/sklearn/tree/_classes.py?line=411'>412</a>\u001b[0m         min_samples_split,\n\u001b[0;32m   (...)\u001b[0m\n\u001b[1;32m    <a href='file:///Users/pedroteche/opt/anaconda3/lib/python3.9/site-packages/sklearn/tree/_classes.py?line=416'>417</a>\u001b[0m         \u001b[39mself\u001b[39m\u001b[39m.\u001b[39mmin_impurity_decrease,\n\u001b[1;32m    <a href='file:///Users/pedroteche/opt/anaconda3/lib/python3.9/site-packages/sklearn/tree/_classes.py?line=417'>418</a>\u001b[0m     )\n\u001b[0;32m--> <a href='file:///Users/pedroteche/opt/anaconda3/lib/python3.9/site-packages/sklearn/tree/_classes.py?line=419'>420</a>\u001b[0m builder\u001b[39m.\u001b[39;49mbuild(\u001b[39mself\u001b[39;49m\u001b[39m.\u001b[39;49mtree_, X, y, sample_weight)\n\u001b[1;32m    <a href='file:///Users/pedroteche/opt/anaconda3/lib/python3.9/site-packages/sklearn/tree/_classes.py?line=421'>422</a>\u001b[0m \u001b[39mif\u001b[39;00m \u001b[39mself\u001b[39m\u001b[39m.\u001b[39mn_outputs_ \u001b[39m==\u001b[39m \u001b[39m1\u001b[39m \u001b[39mand\u001b[39;00m is_classifier(\u001b[39mself\u001b[39m):\n\u001b[1;32m    <a href='file:///Users/pedroteche/opt/anaconda3/lib/python3.9/site-packages/sklearn/tree/_classes.py?line=422'>423</a>\u001b[0m     \u001b[39mself\u001b[39m\u001b[39m.\u001b[39mn_classes_ \u001b[39m=\u001b[39m \u001b[39mself\u001b[39m\u001b[39m.\u001b[39mn_classes_[\u001b[39m0\u001b[39m]\n",
      "\u001b[0;31mKeyboardInterrupt\u001b[0m: "
     ]
    }
   ],
   "source": [
    "max_depth = [int(x) for x in np.linspace(1, 20, 10)]\n",
    "n_estimators = [int(x) for x in np.linspace(100, 2000, 50)]\n",
    "learning_rate = np.linspace(0.001, 1, 20)\n",
    "param_distrib = {\n",
    "    \"max_depth\": max_depth,\n",
    "    \"learning_rate\": learning_rate,\n",
    "    \"n_estimators\": n_estimators,\n",
    "}\n",
    "estim = GradientBoostingClassifier()\n",
    "clf_fit = HalvingRandomSearchCV(\n",
    "    estim, param_distrib, min_resources=1000, verbose=3, scoring=\"f1\"\n",
    ")\n",
    "clf_fit.fit(X_train, y_train)\n"
   ]
  },
  {
   "cell_type": "code",
   "execution_count": 181,
   "metadata": {},
   "outputs": [
    {
     "name": "stdout",
     "output_type": "stream",
     "text": [
      "Precision: 0.6899078037537043\n",
      "Recall: 0.8057879050091338\n",
      "F1-Score: 0.7433589072686151\n"
     ]
    }
   ],
   "source": [
    "test_pred = clf_fit.predict(X_test)\n",
    "train_pred = clf_fit.predict(X_train)\n",
    "print(f\"Precision: {precision_score(y_test, test_pred)}\")\n",
    "print(f\"Recall: {recall_score(y_test, test_pred)}\")\n",
    "print(f\"Test F1-Score: {f1_score(y_test, test_pred)}\")\n",
    "print(f\"Train F1-Score: {f1_score(y_train, train_pred)}\")\n"
   ]
  },
  {
   "cell_type": "code",
   "execution_count": 83,
   "metadata": {},
   "outputs": [
    {
     "ename": "XGBoostError",
     "evalue": "\nXGBoost Library (libxgboost.dylib) could not be loaded.\nLikely causes:\n  * OpenMP runtime is not installed\n    - vcomp140.dll or libgomp-1.dll for Windows\n    - libomp.dylib for Mac OSX\n    - libgomp.so for Linux and other UNIX-like OSes\n    Mac OSX users: Run `brew install libomp` to install OpenMP runtime.\n\n  * You are running 32-bit Python on a 64-bit OS\n\nError message(s): [\"dlopen(/Users/pedroteche/opt/anaconda3/lib/python3.9/site-packages/xgboost/lib/libxgboost.dylib, 0x0006): Library not loaded: /usr/local/opt/libomp/lib/libomp.dylib\\n  Referenced from: /Users/pedroteche/opt/anaconda3/lib/python3.9/site-packages/xgboost/lib/libxgboost.dylib\\n  Reason: tried: '/usr/local/opt/libomp/lib/libomp.dylib' (no such file), '/usr/local/lib/libomp.dylib' (no such file), '/usr/lib/libomp.dylib' (no such file)\"]\n",
     "output_type": "error",
     "traceback": [
      "\u001b[0;31m---------------------------------------------------------------------------\u001b[0m",
      "\u001b[0;31mXGBoostError\u001b[0m                              Traceback (most recent call last)",
      "\u001b[1;32m/Users/pedroteche/Documents/GitHub/64_PT_NOV202111/aulas/64 DA PT NOV-2021 Aula 20220402 Case Hotel.ipynb Cell 84'\u001b[0m in \u001b[0;36m<cell line: 1>\u001b[0;34m()\u001b[0m\n\u001b[0;32m----> <a href='vscode-notebook-cell:/Users/pedroteche/Documents/GitHub/64_PT_NOV202111/aulas/64%20DA%20PT%20NOV-2021%20Aula%2020220402%20Case%20Hotel.ipynb#ch0000110?line=0'>1</a>\u001b[0m \u001b[39mimport\u001b[39;00m \u001b[39mxgboost\u001b[39;00m\n",
      "File \u001b[0;32m~/opt/anaconda3/lib/python3.9/site-packages/xgboost/__init__.py:9\u001b[0m, in \u001b[0;36m<module>\u001b[0;34m\u001b[0m\n\u001b[1;32m      <a href='file:///Users/pedroteche/opt/anaconda3/lib/python3.9/site-packages/xgboost/__init__.py?line=1'>2</a>\u001b[0m \u001b[39m\"\"\"XGBoost: eXtreme Gradient Boosting library.\u001b[39;00m\n\u001b[1;32m      <a href='file:///Users/pedroteche/opt/anaconda3/lib/python3.9/site-packages/xgboost/__init__.py?line=2'>3</a>\u001b[0m \n\u001b[1;32m      <a href='file:///Users/pedroteche/opt/anaconda3/lib/python3.9/site-packages/xgboost/__init__.py?line=3'>4</a>\u001b[0m \u001b[39mContributors: https://github.com/dmlc/xgboost/blob/master/CONTRIBUTORS.md\u001b[39;00m\n\u001b[1;32m      <a href='file:///Users/pedroteche/opt/anaconda3/lib/python3.9/site-packages/xgboost/__init__.py?line=4'>5</a>\u001b[0m \u001b[39m\"\"\"\u001b[39;00m\n\u001b[1;32m      <a href='file:///Users/pedroteche/opt/anaconda3/lib/python3.9/site-packages/xgboost/__init__.py?line=6'>7</a>\u001b[0m \u001b[39mimport\u001b[39;00m \u001b[39mos\u001b[39;00m\n\u001b[0;32m----> <a href='file:///Users/pedroteche/opt/anaconda3/lib/python3.9/site-packages/xgboost/__init__.py?line=8'>9</a>\u001b[0m \u001b[39mfrom\u001b[39;00m \u001b[39m.\u001b[39;00m\u001b[39mcore\u001b[39;00m \u001b[39mimport\u001b[39;00m DMatrix, DeviceQuantileDMatrix, Booster, DataIter\n\u001b[1;32m     <a href='file:///Users/pedroteche/opt/anaconda3/lib/python3.9/site-packages/xgboost/__init__.py?line=9'>10</a>\u001b[0m \u001b[39mfrom\u001b[39;00m \u001b[39m.\u001b[39;00m\u001b[39mtraining\u001b[39;00m \u001b[39mimport\u001b[39;00m train, cv\n\u001b[1;32m     <a href='file:///Users/pedroteche/opt/anaconda3/lib/python3.9/site-packages/xgboost/__init__.py?line=10'>11</a>\u001b[0m \u001b[39mfrom\u001b[39;00m \u001b[39m.\u001b[39;00m \u001b[39mimport\u001b[39;00m rabit  \u001b[39m# noqa\u001b[39;00m\n",
      "File \u001b[0;32m~/opt/anaconda3/lib/python3.9/site-packages/xgboost/core.py:203\u001b[0m, in \u001b[0;36m<module>\u001b[0;34m\u001b[0m\n\u001b[1;32m    <a href='file:///Users/pedroteche/opt/anaconda3/lib/python3.9/site-packages/xgboost/core.py?line=198'>199</a>\u001b[0m     \u001b[39mreturn\u001b[39;00m lib\n\u001b[1;32m    <a href='file:///Users/pedroteche/opt/anaconda3/lib/python3.9/site-packages/xgboost/core.py?line=201'>202</a>\u001b[0m \u001b[39m# load the XGBoost library globally\u001b[39;00m\n\u001b[0;32m--> <a href='file:///Users/pedroteche/opt/anaconda3/lib/python3.9/site-packages/xgboost/core.py?line=202'>203</a>\u001b[0m _LIB \u001b[39m=\u001b[39m _load_lib()\n\u001b[1;32m    <a href='file:///Users/pedroteche/opt/anaconda3/lib/python3.9/site-packages/xgboost/core.py?line=205'>206</a>\u001b[0m \u001b[39mdef\u001b[39;00m \u001b[39m_check_call\u001b[39m(ret):\n\u001b[1;32m    <a href='file:///Users/pedroteche/opt/anaconda3/lib/python3.9/site-packages/xgboost/core.py?line=206'>207</a>\u001b[0m     \u001b[39m\"\"\"Check the return value of C API call\u001b[39;00m\n\u001b[1;32m    <a href='file:///Users/pedroteche/opt/anaconda3/lib/python3.9/site-packages/xgboost/core.py?line=207'>208</a>\u001b[0m \n\u001b[1;32m    <a href='file:///Users/pedroteche/opt/anaconda3/lib/python3.9/site-packages/xgboost/core.py?line=208'>209</a>\u001b[0m \u001b[39m    This function will raise exception when error occurs.\u001b[39;00m\n\u001b[0;32m   (...)\u001b[0m\n\u001b[1;32m    <a href='file:///Users/pedroteche/opt/anaconda3/lib/python3.9/site-packages/xgboost/core.py?line=214'>215</a>\u001b[0m \u001b[39m        return value from API calls\u001b[39;00m\n\u001b[1;32m    <a href='file:///Users/pedroteche/opt/anaconda3/lib/python3.9/site-packages/xgboost/core.py?line=215'>216</a>\u001b[0m \u001b[39m    \"\"\"\u001b[39;00m\n",
      "File \u001b[0;32m~/opt/anaconda3/lib/python3.9/site-packages/xgboost/core.py:181\u001b[0m, in \u001b[0;36m_load_lib\u001b[0;34m()\u001b[0m\n\u001b[1;32m    <a href='file:///Users/pedroteche/opt/anaconda3/lib/python3.9/site-packages/xgboost/core.py?line=178'>179</a>\u001b[0m     \u001b[39mif\u001b[39;00m \u001b[39mnot\u001b[39;00m lib_success:\n\u001b[1;32m    <a href='file:///Users/pedroteche/opt/anaconda3/lib/python3.9/site-packages/xgboost/core.py?line=179'>180</a>\u001b[0m         libname \u001b[39m=\u001b[39m os\u001b[39m.\u001b[39mpath\u001b[39m.\u001b[39mbasename(lib_paths[\u001b[39m0\u001b[39m])\n\u001b[0;32m--> <a href='file:///Users/pedroteche/opt/anaconda3/lib/python3.9/site-packages/xgboost/core.py?line=180'>181</a>\u001b[0m         \u001b[39mraise\u001b[39;00m XGBoostError(\n\u001b[1;32m    <a href='file:///Users/pedroteche/opt/anaconda3/lib/python3.9/site-packages/xgboost/core.py?line=181'>182</a>\u001b[0m             \u001b[39mf\u001b[39m\u001b[39m\"\"\"\u001b[39m\n\u001b[1;32m    <a href='file:///Users/pedroteche/opt/anaconda3/lib/python3.9/site-packages/xgboost/core.py?line=182'>183</a>\u001b[0m \u001b[39mXGBoost Library (\u001b[39m\u001b[39m{\u001b[39;00mlibname\u001b[39m}\u001b[39;00m\u001b[39m) could not be loaded.\u001b[39m\n\u001b[1;32m    <a href='file:///Users/pedroteche/opt/anaconda3/lib/python3.9/site-packages/xgboost/core.py?line=183'>184</a>\u001b[0m \u001b[39mLikely causes:\u001b[39m\n\u001b[1;32m    <a href='file:///Users/pedroteche/opt/anaconda3/lib/python3.9/site-packages/xgboost/core.py?line=184'>185</a>\u001b[0m \u001b[39m  * OpenMP runtime is not installed\u001b[39m\n\u001b[1;32m    <a href='file:///Users/pedroteche/opt/anaconda3/lib/python3.9/site-packages/xgboost/core.py?line=185'>186</a>\u001b[0m \u001b[39m    - vcomp140.dll or libgomp-1.dll for Windows\u001b[39m\n\u001b[1;32m    <a href='file:///Users/pedroteche/opt/anaconda3/lib/python3.9/site-packages/xgboost/core.py?line=186'>187</a>\u001b[0m \u001b[39m    - libomp.dylib for Mac OSX\u001b[39m\n\u001b[1;32m    <a href='file:///Users/pedroteche/opt/anaconda3/lib/python3.9/site-packages/xgboost/core.py?line=187'>188</a>\u001b[0m \u001b[39m    - libgomp.so for Linux and other UNIX-like OSes\u001b[39m\n\u001b[1;32m    <a href='file:///Users/pedroteche/opt/anaconda3/lib/python3.9/site-packages/xgboost/core.py?line=188'>189</a>\u001b[0m \u001b[39m    Mac OSX users: Run `brew install libomp` to install OpenMP runtime.\u001b[39m\n\u001b[1;32m    <a href='file:///Users/pedroteche/opt/anaconda3/lib/python3.9/site-packages/xgboost/core.py?line=189'>190</a>\u001b[0m \n\u001b[1;32m    <a href='file:///Users/pedroteche/opt/anaconda3/lib/python3.9/site-packages/xgboost/core.py?line=190'>191</a>\u001b[0m \u001b[39m  * You are running 32-bit Python on a 64-bit OS\u001b[39m\n\u001b[1;32m    <a href='file:///Users/pedroteche/opt/anaconda3/lib/python3.9/site-packages/xgboost/core.py?line=191'>192</a>\u001b[0m \n\u001b[1;32m    <a href='file:///Users/pedroteche/opt/anaconda3/lib/python3.9/site-packages/xgboost/core.py?line=192'>193</a>\u001b[0m \u001b[39mError message(s): \u001b[39m\u001b[39m{\u001b[39;00mos_error_list\u001b[39m}\u001b[39;00m\n\u001b[1;32m    <a href='file:///Users/pedroteche/opt/anaconda3/lib/python3.9/site-packages/xgboost/core.py?line=193'>194</a>\u001b[0m \u001b[39m\"\"\"\u001b[39m)\n\u001b[1;32m    <a href='file:///Users/pedroteche/opt/anaconda3/lib/python3.9/site-packages/xgboost/core.py?line=194'>195</a>\u001b[0m     lib\u001b[39m.\u001b[39mXGBGetLastError\u001b[39m.\u001b[39mrestype \u001b[39m=\u001b[39m ctypes\u001b[39m.\u001b[39mc_char_p\n\u001b[1;32m    <a href='file:///Users/pedroteche/opt/anaconda3/lib/python3.9/site-packages/xgboost/core.py?line=195'>196</a>\u001b[0m     lib\u001b[39m.\u001b[39mcallback \u001b[39m=\u001b[39m _get_log_callback_func()\n",
      "\u001b[0;31mXGBoostError\u001b[0m: \nXGBoost Library (libxgboost.dylib) could not be loaded.\nLikely causes:\n  * OpenMP runtime is not installed\n    - vcomp140.dll or libgomp-1.dll for Windows\n    - libomp.dylib for Mac OSX\n    - libgomp.so for Linux and other UNIX-like OSes\n    Mac OSX users: Run `brew install libomp` to install OpenMP runtime.\n\n  * You are running 32-bit Python on a 64-bit OS\n\nError message(s): [\"dlopen(/Users/pedroteche/opt/anaconda3/lib/python3.9/site-packages/xgboost/lib/libxgboost.dylib, 0x0006): Library not loaded: /usr/local/opt/libomp/lib/libomp.dylib\\n  Referenced from: /Users/pedroteche/opt/anaconda3/lib/python3.9/site-packages/xgboost/lib/libxgboost.dylib\\n  Reason: tried: '/usr/local/opt/libomp/lib/libomp.dylib' (no such file), '/usr/local/lib/libomp.dylib' (no such file), '/usr/lib/libomp.dylib' (no such file)\"]\n"
     ]
    }
   ],
   "source": [
    "import xgboost"
   ]
  },
  {
   "cell_type": "code",
   "execution_count": null,
   "metadata": {},
   "outputs": [],
   "source": []
  }
 ],
 "metadata": {
  "interpreter": {
   "hash": "014f4a4a5af8f0104b12c029e500f4146d6d785e8cf714d2a35b7a9514230cd3"
  },
  "kernelspec": {
   "display_name": "Python 3.9.11 ('base')",
   "language": "python",
   "name": "python3"
  },
  "language_info": {
   "codemirror_mode": {
    "name": "ipython",
    "version": 3
   },
   "file_extension": ".py",
   "mimetype": "text/x-python",
   "name": "python",
   "nbconvert_exporter": "python",
   "pygments_lexer": "ipython3",
   "version": "3.9.11"
  },
  "orig_nbformat": 4
 },
 "nbformat": 4,
 "nbformat_minor": 2
}
