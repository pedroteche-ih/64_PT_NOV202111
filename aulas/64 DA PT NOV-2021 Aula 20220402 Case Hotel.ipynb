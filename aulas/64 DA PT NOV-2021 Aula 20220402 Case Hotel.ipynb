{
 "cells": [
  {
   "cell_type": "code",
   "execution_count": 2,
   "metadata": {},
   "outputs": [],
   "source": [
    "import pandas as pd\n",
    "import numpy as np\n",
    "from pandas_profiling import ProfileReport"
   ]
  },
  {
   "cell_type": "markdown",
   "metadata": {},
   "source": [
    "# Cancelamentos de Reservas\n",
    "\n",
    "https://www.kaggle.com/competitions/ih-hotel-booking"
   ]
  },
  {
   "cell_type": "code",
   "execution_count": 3,
   "metadata": {},
   "outputs": [],
   "source": [
    "tb_hotel = pd.read_csv(\"data/tb_hotel_traintest.csv\")\n"
   ]
  },
  {
   "cell_type": "markdown",
   "metadata": {},
   "source": [
    "* **hotel** - (str) Tipo de hotel.\n",
    "* **is_cancelled** - (binary) Variável binária indicando cancelamento da reserva (0 = não cancenlada, 1 = cancelada) - variável resposta do case.\n",
    "* **lead_time** - (int) Número de dias entre data da reserva e data de entrada no hotel (quando a reserva foi feita).\n",
    "* **arrival_date** - (date) Data de entrada no hotel (para quando a reserva é).\n",
    "* **stays_in_weekend_nights** - (int) Número de dias em finais de semana na reserva.\n",
    "* **stays_in_week_nights** - (int) Número de dias de semana na reserva.\n",
    "* **adults** - (int) Número de adultos.\n",
    "* **children** - (int) Número de crianças.\n",
    "* **babies** - (int) Número de bebes.\n",
    "* **meal** - (str) Tipo de refeição inclusa na reserva.\n",
    "* **country** - (str) País do cliente.\n",
    "* **market_segment** - (str) Segmentação de marketing do cliente.\n",
    "* **distribution_channel** - (str) Canal de vendas pelo qual a reserva foi feita.\n",
    "* **is_repeated_guest** - (binary) O cliente já ficou hospedado no hotel? (0 = não, 1 = sim).\n",
    "* **previous_cancellations** - (int) Quantas reservas o cliente já cancelou no passado.\n",
    "* **previous_bookings_not_canceled** - (int) Quantas reservas o cliente já fez e não cancelou no passado.\n",
    "* **reserved_room_type** - (str) Tipo de quarto desejado.\n",
    "* **assigned_room_type** - (str) Tipo de quarto reservado.\n",
    "* **booking_changes** -  (str) Número de mudanças na reserva entre data de reserva e entrada/cancelamento.\n",
    "* **deposit_type** - (str) Tipo de adiantamento feito no momento da reserva.\n",
    "* **agent** - (str) ID do Agente que fez a reserva (NA caso a reserva não tenha sido feita por um agente).\n",
    "* **company**  - (str) ID da empresa que fez a reserva (NA caso a reserva não seja corporativa)\n",
    "* **days_in_waiting_list** - (int) Quantos dias demorou a confirmação da reserva.\n",
    "* **customer_type** - (str) Tipo de reserva.\n",
    "* **adr** - (float) Average Daily Rate, preço médio de cada diária na reserva.\n",
    "* **required_car_parking_spaces** - (int) Número de vagas em estacionamento requisitadas na reserva.\n",
    "* **total_of_special_requests** - (int) Número de requisições especiais na reserva (cama dupla, andar, quarto com vista...)\n",
    "* **reservation_status_date** - (date) Data da última atualização feita na reserva."
   ]
  },
  {
   "cell_type": "code",
   "execution_count": 32,
   "metadata": {},
   "outputs": [
    {
     "data": {
      "text/html": [
       "<div>\n",
       "<style scoped>\n",
       "    .dataframe tbody tr th:only-of-type {\n",
       "        vertical-align: middle;\n",
       "    }\n",
       "\n",
       "    .dataframe tbody tr th {\n",
       "        vertical-align: top;\n",
       "    }\n",
       "\n",
       "    .dataframe thead th {\n",
       "        text-align: right;\n",
       "    }\n",
       "</style>\n",
       "<table border=\"1\" class=\"dataframe\">\n",
       "  <thead>\n",
       "    <tr style=\"text-align: right;\">\n",
       "      <th></th>\n",
       "      <th>hotel</th>\n",
       "      <th>is_cancelled</th>\n",
       "      <th>lead_time</th>\n",
       "      <th>stays_in_weekend_nights</th>\n",
       "      <th>stays_in_week_nights</th>\n",
       "      <th>adults</th>\n",
       "      <th>children</th>\n",
       "      <th>babies</th>\n",
       "      <th>meal</th>\n",
       "      <th>country</th>\n",
       "      <th>...</th>\n",
       "      <th>agent</th>\n",
       "      <th>company</th>\n",
       "      <th>days_in_waiting_list</th>\n",
       "      <th>customer_type</th>\n",
       "      <th>adr</th>\n",
       "      <th>required_car_parking_spaces</th>\n",
       "      <th>total_of_special_requests</th>\n",
       "      <th>reservation_status_date</th>\n",
       "      <th>arrival_date</th>\n",
       "      <th>id_booking</th>\n",
       "    </tr>\n",
       "  </thead>\n",
       "  <tbody>\n",
       "    <tr>\n",
       "      <th>0</th>\n",
       "      <td>Resort Hotel</td>\n",
       "      <td>0</td>\n",
       "      <td>342</td>\n",
       "      <td>0</td>\n",
       "      <td>0</td>\n",
       "      <td>2</td>\n",
       "      <td>0.0</td>\n",
       "      <td>0</td>\n",
       "      <td>BB</td>\n",
       "      <td>PRT</td>\n",
       "      <td>...</td>\n",
       "      <td>NaN</td>\n",
       "      <td>NaN</td>\n",
       "      <td>0</td>\n",
       "      <td>Transient</td>\n",
       "      <td>0.0</td>\n",
       "      <td>0</td>\n",
       "      <td>0</td>\n",
       "      <td>2015-07-01</td>\n",
       "      <td>2015-07-01</td>\n",
       "      <td>0</td>\n",
       "    </tr>\n",
       "    <tr>\n",
       "      <th>1</th>\n",
       "      <td>Resort Hotel</td>\n",
       "      <td>0</td>\n",
       "      <td>737</td>\n",
       "      <td>0</td>\n",
       "      <td>0</td>\n",
       "      <td>2</td>\n",
       "      <td>0.0</td>\n",
       "      <td>0</td>\n",
       "      <td>BB</td>\n",
       "      <td>PRT</td>\n",
       "      <td>...</td>\n",
       "      <td>NaN</td>\n",
       "      <td>NaN</td>\n",
       "      <td>0</td>\n",
       "      <td>Transient</td>\n",
       "      <td>0.0</td>\n",
       "      <td>0</td>\n",
       "      <td>0</td>\n",
       "      <td>2015-07-01</td>\n",
       "      <td>2015-07-01</td>\n",
       "      <td>1</td>\n",
       "    </tr>\n",
       "    <tr>\n",
       "      <th>2</th>\n",
       "      <td>Resort Hotel</td>\n",
       "      <td>0</td>\n",
       "      <td>7</td>\n",
       "      <td>0</td>\n",
       "      <td>1</td>\n",
       "      <td>1</td>\n",
       "      <td>0.0</td>\n",
       "      <td>0</td>\n",
       "      <td>BB</td>\n",
       "      <td>GBR</td>\n",
       "      <td>...</td>\n",
       "      <td>NaN</td>\n",
       "      <td>NaN</td>\n",
       "      <td>0</td>\n",
       "      <td>Transient</td>\n",
       "      <td>75.0</td>\n",
       "      <td>0</td>\n",
       "      <td>0</td>\n",
       "      <td>2015-07-02</td>\n",
       "      <td>2015-07-01</td>\n",
       "      <td>2</td>\n",
       "    </tr>\n",
       "    <tr>\n",
       "      <th>3</th>\n",
       "      <td>Resort Hotel</td>\n",
       "      <td>0</td>\n",
       "      <td>13</td>\n",
       "      <td>0</td>\n",
       "      <td>1</td>\n",
       "      <td>1</td>\n",
       "      <td>0.0</td>\n",
       "      <td>0</td>\n",
       "      <td>BB</td>\n",
       "      <td>GBR</td>\n",
       "      <td>...</td>\n",
       "      <td>304.0</td>\n",
       "      <td>NaN</td>\n",
       "      <td>0</td>\n",
       "      <td>Transient</td>\n",
       "      <td>75.0</td>\n",
       "      <td>0</td>\n",
       "      <td>0</td>\n",
       "      <td>2015-07-02</td>\n",
       "      <td>2015-07-01</td>\n",
       "      <td>3</td>\n",
       "    </tr>\n",
       "    <tr>\n",
       "      <th>4</th>\n",
       "      <td>Resort Hotel</td>\n",
       "      <td>0</td>\n",
       "      <td>14</td>\n",
       "      <td>0</td>\n",
       "      <td>2</td>\n",
       "      <td>2</td>\n",
       "      <td>0.0</td>\n",
       "      <td>0</td>\n",
       "      <td>BB</td>\n",
       "      <td>GBR</td>\n",
       "      <td>...</td>\n",
       "      <td>240.0</td>\n",
       "      <td>NaN</td>\n",
       "      <td>0</td>\n",
       "      <td>Transient</td>\n",
       "      <td>98.0</td>\n",
       "      <td>0</td>\n",
       "      <td>1</td>\n",
       "      <td>2015-07-03</td>\n",
       "      <td>2015-07-01</td>\n",
       "      <td>4</td>\n",
       "    </tr>\n",
       "  </tbody>\n",
       "</table>\n",
       "<p>5 rows × 29 columns</p>\n",
       "</div>"
      ],
      "text/plain": [
       "          hotel  is_cancelled  lead_time  stays_in_weekend_nights  \\\n",
       "0  Resort Hotel             0        342                        0   \n",
       "1  Resort Hotel             0        737                        0   \n",
       "2  Resort Hotel             0          7                        0   \n",
       "3  Resort Hotel             0         13                        0   \n",
       "4  Resort Hotel             0         14                        0   \n",
       "\n",
       "   stays_in_week_nights  adults  children  babies meal country  ...  agent  \\\n",
       "0                     0       2       0.0       0   BB     PRT  ...    NaN   \n",
       "1                     0       2       0.0       0   BB     PRT  ...    NaN   \n",
       "2                     1       1       0.0       0   BB     GBR  ...    NaN   \n",
       "3                     1       1       0.0       0   BB     GBR  ...  304.0   \n",
       "4                     2       2       0.0       0   BB     GBR  ...  240.0   \n",
       "\n",
       "  company  days_in_waiting_list  customer_type   adr  \\\n",
       "0     NaN                     0      Transient   0.0   \n",
       "1     NaN                     0      Transient   0.0   \n",
       "2     NaN                     0      Transient  75.0   \n",
       "3     NaN                     0      Transient  75.0   \n",
       "4     NaN                     0      Transient  98.0   \n",
       "\n",
       "  required_car_parking_spaces total_of_special_requests  \\\n",
       "0                           0                         0   \n",
       "1                           0                         0   \n",
       "2                           0                         0   \n",
       "3                           0                         0   \n",
       "4                           0                         1   \n",
       "\n",
       "   reservation_status_date arrival_date  id_booking  \n",
       "0               2015-07-01   2015-07-01           0  \n",
       "1               2015-07-01   2015-07-01           1  \n",
       "2               2015-07-02   2015-07-01           2  \n",
       "3               2015-07-02   2015-07-01           3  \n",
       "4               2015-07-03   2015-07-01           4  \n",
       "\n",
       "[5 rows x 29 columns]"
      ]
     },
     "execution_count": 32,
     "metadata": {},
     "output_type": "execute_result"
    }
   ],
   "source": [
    "tb_hotel.head()\n"
   ]
  },
  {
   "cell_type": "code",
   "execution_count": 33,
   "metadata": {},
   "outputs": [
    {
     "name": "stderr",
     "output_type": "stream",
     "text": [
      "/Users/pedroteche/opt/anaconda3/lib/python3.9/site-packages/multimethod/__init__.py:300: SettingWithCopyWarning: \n",
      "A value is trying to be set on a copy of a slice from a DataFrame\n",
      "\n",
      "See the caveats in the documentation: https://pandas.pydata.org/pandas-docs/stable/user_guide/indexing.html#returning-a-view-versus-a-copy\n",
      "  return func(*args, **kwargs)\n",
      "Summarize dataset: 100%|██████████| 19/19 [00:01<00:00, 18.86it/s, Completed]                    \n",
      "Generate report structure: 100%|██████████| 1/1 [00:00<00:00,  1.93it/s]\n",
      "                                                             \r"
     ]
    },
    {
     "data": {
      "application/vnd.jupyter.widget-view+json": {
       "model_id": "1086cdf05d2649f1846fe5a6f1f433f3",
       "version_major": 2,
       "version_minor": 0
      },
      "text/plain": [
       "VBox(children=(Tab(children=(Tab(children=(GridBox(children=(VBox(children=(GridspecLayout(children=(HTML(valu…"
      ]
     },
     "metadata": {},
     "output_type": "display_data"
    }
   ],
   "source": [
    "profile = ProfileReport(\n",
    "    tb_hotel[[\"lead_time\", \"adults\"]], title=\"Pandas Profiling Report\", explorative=True\n",
    ")\n",
    "profile.to_widgets()\n"
   ]
  },
  {
   "cell_type": "markdown",
   "metadata": {},
   "source": [
    "# Goal – Predictive Analytics"
   ]
  },
  {
   "cell_type": "markdown",
   "metadata": {},
   "source": [
    "## Definition\n",
    "\n",
    "In this stage we ask you to pick the booking dataset notebook you previously worked on and perform feature engineering and feature selection so that the dataset is ready for binary model classification training that furthermore be able to predict correctly if a booking instance will be cancelled or not.\n",
    "Requirements:\n",
    "- Feature engineering | Examples:\n",
    "    - Combine features\n",
    "    - Feature scaling transformations\n",
    "    - Binarizations\n",
    "- Feature selection\n",
    "- Predictive model implementation\n",
    "- Setup data splits (train/test)\n",
    "- Experiment at least 2 models\n",
    "    - What are their advantages?\n",
    "    - What are their disadvantages?\n",
    "- Evaluate models performance and implement other classification metrics\n",
    "- Briefly explain their meaning\n",
    "- Write notes explaining your decisions"
   ]
  },
  {
   "cell_type": "markdown",
   "metadata": {},
   "source": [
    "## Deliverable\n",
    "\n",
    "The main output of this stage is a prediction analytics notebook of a hotel bookings dataset with the aim of booking churn predictions. Notes must be included which explains your critical thinking and assumptions."
   ]
  },
  {
   "cell_type": "markdown",
   "metadata": {},
   "source": [
    "# Etapas de Construção de um Modelo\n",
    "\n",
    "Antes de seguir em frente com a atividade vamos relembrar as etapas para construir um modelo!"
   ]
  },
  {
   "cell_type": "markdown",
   "metadata": {},
   "source": [
    "## Leitura de dados\n",
    "\n",
    "A primeira etapa na construção de qualquer modelo é a obtenção dos dados. Isso pode ser *tão simples quanto carregar um dataset* da SKLEARN ou *tão complexo quanto construir um webscrapper*. \n",
    "\n",
    "No exemplo de hoje estaremos trabalhando sobre uma tabela disponibilizada em CSV. O checklist abaixo pode guia-lo no processo de carregar e validar a entrada de dados:\n",
    "\n",
    "- **Ler arquivo .csv para um DataFrame pandas**\n",
    "- **Validar número de colunas**\n",
    "- **Validar e tratar tipo das colunas** (principalmente datas através da função pd.to_datetime)\n",
    "- **Ler mapa de dados** (caso seja disponibilizado) para entender o que cada coluna representa."
   ]
  },
  {
   "cell_type": "markdown",
   "metadata": {},
   "source": [
    "## EDA (Análise Exploratória de Dados)\n",
    "\n",
    "A segunda etapa na construção de um modelo é a análise exploratória de dados. Neste momento buscamos *entender* o nosso conjunto de dados através de gráficos e tabelas que resumam a relação entre as diversas variáveis.\n",
    "\n",
    "Vamos relembrar dos objetivos dessa etapa:\n",
    "\n",
    "- **Avaliação de problemas nos dados** (missing value e informações incorretas)\n",
    "    - **Ferramentas:** .info, .describe, .head, mapa de dados\n",
    "- **Familiarização com o conteúdo de cada variável**\n",
    "    - **Ferramentas:** boxplots e histogramas, tabelas de contagem, pandas-profiling\n",
    "- **Mapeamento das relações entre meus features e minha variável resposta**\n",
    "    - **Ferramentas:** scatterplots e pairplots, .groupby, .pivot_table, PCA \n",
    "- **Feature Engineering** para criar novas variáveis\n",
    "    - **Ferramentas:** PCA, np.log, .qcut e .cut, np.where e .loc\n",
    "    - *Feature engineering é um dos aspectos mais complexos e impactantes* na construção de um modelo. As transformações mais comuns são as transformações numéricas (como o log), a discretização de variáveis continuas (através de cut, qcut ou np.where), a aglomeração de categorias, a binarização de variáveis continuas e categóricas.\n",
    "    \n",
    "Nesta etapa devemos investir tempo em tentar **ENTENDER O PROBLEMA**:\n",
    "\n",
    "- *Qual é o fenômeno que queremos modelar*?\n",
    "- *Sem considerar os dados, o que, conceitualmente, impacta minha variável resposta?*\n",
    "- *Considerando os dados, quais variáveis representam bem esses conceitos?*\n",
    "\n",
    "No entanto, devemos estar atentos ao **tempo disponível** para resolvermos o problema! Qualquer modelo pode ser melhorado se investirmos mais tempo nele, logo o tempo disponível é uma pré-condição do erro que iremos obter. O **processo de modelagem é iterativo** e a construção de modelos simples e imprecisos é uma etapa importante na construção de modelos complexos.\n",
    "\n",
    "Embora o principal resultado de uma análise exploratória seja o *aprofundamento do nosso conhecimento* sobre o problema, na prática também devemos obter um **FEATURE SET**, um conjunto de variáveis de entrada sobre o qual construíremos nossos modelos. Uma vez que tenhamos este feature set podemos dividi-lo em conjunto de treinamento e um de teste - sempre prestando atenção nos problemas de **leakage**:\n",
    "\n",
    "- Caso o nosso feature set contenha transformações que sejam calculadas a partir dos dados (por exemplo normalização ou PCA) devemos construir estes transformadores utilizando apenas o conjunto train e então aplica-los ao conjunto teste.\n",
    "- Muitas vezes algumas variáveis de uma tabela podem ser contaminadas: por exemplo, em um problema de previsão binária de chuva não podemos utilizar a variável mm/h de chuva. Uma forma simples de tratar isso é se perguntar: terei esta variável no momento da previsão?"
   ]
  },
  {
   "cell_type": "markdown",
   "metadata": {},
   "source": [
    "## Modelo Baseline\n",
    "\n",
    "Os modelos de baseline são modelos simples (do ponto de vista matemático) que fornecem um erro base que tentaremos melhorar através da utilização de algoritmos mais sofisticados. Como vimos, muitos algoritmos tem hiperparâmetros que são criticos na construção de um modelo. A utilização de modelos simples nos dá um valor de comparação para avaliarmos os primeiros hiperparâmetros que testarmos.\n",
    "\n",
    "Dois modelos são comumemnte utilizados como baseline preditivo:\n",
    "\n",
    "- **Regressão logística**\n",
    "- **1-NN (kNN com n-neighbors = 1)**\n",
    "\n",
    "A *regressão logística é um modelo linear*, sem nenhum hiperparâmetro, ou seja, o resultado da regressão em si é fruto apenas das variáveis de entrada escolhidas.\n",
    "\n",
    "Além da simplicidade, **ela é uma ferramenta investigativa interessante** - possibilitando mapear os efeitos de variáveis específicas dentro de um feature set: como vimos a **colinearidade entre variáveis de entrada altera o impacto** que cada uma tem quando as consideramos conjuntamente. **A regressão nos permite desembaraçar estes efeitos!** Podemos utilizar simulações como vimos em aula para aumentar nossa compreensão do feature set escolhido.\n",
    "\n",
    "A grande limitação da regressão logística é a linearidade: muitas vezes a estimativa de erro da regressão será bem pessimista. **Para ter uma idéia da performance esperada de algoritmos não-lineares podemos utilizar o modelo 1-NN**. "
   ]
  },
  {
   "cell_type": "markdown",
   "metadata": {},
   "source": [
    "## Modelo Final\n",
    "\n",
    "Armados com uma estimativa de erro inicial, podemos prosseguir para a implantação de modelos utilizando algoritmos mais complexo, como árvores de decisão ou métodos de ensemble. Nessa etapa é crítico lembrar que estes algoritmos tem **hiperparâmetros que são determinantes em sua performance**. \n",
    "\n",
    "Podemos utilizar o **GridSearchCV** para encontrar os hiperparâmetros ótimos de um dado algoritmo, mas esse processo é custoso. Então vale a pena testar alguns valores bem separados para entender em que região cada hiperparâmetro parece funcionar melhor.\n",
    "\n",
    "Ao final desta etapa teremos uma avaliação de erro sobre nosso conjunto teste e devemos fazer uma submissão à competição :)\n",
    "\n",
    "**Agora, armados com todo o conhecimento que a construção dos modelos nos deu, podemos voltar à etapa de EDA para adicionar novos features, pensar em novos dados, enfim, recomeçar o processo, só que desta vez não do zero!**"
   ]
  },
  {
   "cell_type": "markdown",
   "metadata": {},
   "source": [
    "# Solução Case Hotel"
   ]
  },
  {
   "cell_type": "markdown",
   "metadata": {},
   "source": [
    "## Data Load/Transform"
   ]
  },
  {
   "cell_type": "code",
   "execution_count": 10,
   "metadata": {},
   "outputs": [],
   "source": [
    "def transform_data(tb_hotel):\n",
    "    tb_hotel[\"arrival_date\"] = pd.to_datetime(tb_hotel[\"arrival_date\"])\n",
    "    tb_hotel[\"arrival_date_month\"] = tb_hotel[\"arrival_date\"].dt.month\n",
    "    tb_hotel[\"arrival_date_year\"] = tb_hotel[\"arrival_date\"].dt.year\n",
    "    tb_hotel[\"is_agent\"] = np.where(tb_hotel[\"agent\"].isna(), False, True)\n",
    "    tb_hotel[\"is_company\"] = np.where(tb_hotel[\"company\"].isna(), False, True)\n",
    "    tb_hotel[\"log_lead_time\"] = np.log(tb_hotel[\"lead_time\"] + 1)\n",
    "    tb_hotel[\"reservation_type\"] = np.where(\n",
    "        (tb_hotel[\"lead_time\"] + 1) < 10, \"last_minute\", \"scheduled\"\n",
    "    )\n",
    "    tb_hotel = tb_hotel.drop([\"company\", \"agent\"], axis=1)\n",
    "    tb_hotel = tb_hotel.dropna()\n",
    "    return tb_hotel\n",
    "\n",
    "\n",
    "def create_country_agg(tb_hotel_trans):\n",
    "    train_data = tb_hotel_trans.copy()\n",
    "    train_data[\"n_rows_country\"] = train_data.groupby([\"country\"])[\"country\"].transform(\n",
    "        \"count\"\n",
    "    )\n",
    "    train_data[\"grouped_country\"] = np.where(\n",
    "        train_data[\"n_rows_country\"] < 5000, \"other\", train_data[\"country\"]\n",
    "    )\n",
    "    tb_depara_country = (\n",
    "        train_data.groupby([\"country\", \"grouped_country\"]).count().reset_index()\n",
    "    )\n",
    "    return tb_depara_country[[\"country\", \"grouped_country\"]]\n",
    "\n",
    "\n",
    "def create_season(tb_hotel_trans, depara_country):\n",
    "    train_data = tb_hotel_trans.copy()\n",
    "    train_data = train_data.merge(depara_country, on=\"country\")\n",
    "    table = (\n",
    "        train_data.groupby(\n",
    "            [\"grouped_country\", \"arrival_date_year\", \"arrival_date_month\"]\n",
    "        )\n",
    "        .agg(\n",
    "            n_cancelled=pd.NamedAgg(\"is_cancelled\", \"sum\"),\n",
    "            n_reservas=pd.NamedAgg(\"is_cancelled\", \"count\"),\n",
    "        )\n",
    "        .reset_index()\n",
    "    )\n",
    "    table[\"n_total\"] = table[\"n_reservas\"] - table[\"n_cancelled\"]\n",
    "    table[\"country_year_total\"] = (\n",
    "        table.groupby([\"grouped_country\", \"arrival_date_year\"])[\"n_total\"].transform(\n",
    "            \"sum\"\n",
    "        )\n",
    "    ) / 12\n",
    "    table[\"season_index\"] = table[\"n_total\"] / table[\"country_year_total\"]\n",
    "    table[\"high_season\"] = np.where(table[\"season_index\"] < 1, 0, 1)\n",
    "    table_agg = (\n",
    "        table.sort_values([\"grouped_country\", \"arrival_date_year\"])\n",
    "        .groupby([\"grouped_country\", \"arrival_date_month\"])\n",
    "        .agg(\n",
    "            n_high=pd.NamedAgg(\"high_season\", \"sum\"),\n",
    "            n_total=pd.NamedAgg(\"high_season\", \"count\"),\n",
    "        )\n",
    "        .reset_index()\n",
    "    )\n",
    "    table_agg[\"high_season\"] = np.where(\n",
    "        table_agg[\"n_high\"] >= table_agg[\"n_total\"], 1, 0\n",
    "    )\n",
    "    table_agg = table_agg[[\"grouped_country\", \"arrival_date_month\", \"high_season\"]]\n",
    "    return table_agg\n",
    "\n",
    "def transform_country(tb_hotel_trans, tb_depara_country, tb_season):\n",
    "    train_data = tb_hotel_trans.copy()\n",
    "    train_data = train_data.merge(tb_depara_country, on=\"country\")\n",
    "    train_data = train_data.merge(\n",
    "        tb_season, on=[\"grouped_country\", \"arrival_date_month\"]\n",
    "    )\n",
    "    return train_data"
   ]
  },
  {
   "cell_type": "code",
   "execution_count": 11,
   "metadata": {},
   "outputs": [],
   "source": [
    "N = tb_hotel.shape[0]\n",
    "p = 0.75\n",
    "test_mask = np.random.choice(a=[False, True], size=N, p=(p, 1 - p))\n",
    "train_tb_hotel = tb_hotel[~test_mask].copy()\n",
    "test_tb_hotel = tb_hotel[test_mask].copy()"
   ]
  },
  {
   "cell_type": "code",
   "execution_count": 12,
   "metadata": {},
   "outputs": [],
   "source": [
    "train_tb_hotel_t = transform_data(train_tb_hotel)\n",
    "test_tb_hotel_t = transform_data(train_tb_hotel)\n",
    "tb_gc = create_country_agg(train_tb_hotel_t)\n",
    "tb_season = create_season(train_tb_hotel_t, tb_gc)\n",
    "train_tb_hotel_f = transform_country(train_tb_hotel, tb_gc, tb_season)\n",
    "test_tb_hotel_f = transform_country(test_tb_hotel_t, tb_gc, tb_season)"
   ]
  },
  {
   "cell_type": "markdown",
   "metadata": {},
   "source": [
    "## Regressão logística"
   ]
  },
  {
   "cell_type": "code",
   "execution_count": 13,
   "metadata": {},
   "outputs": [
    {
     "name": "stdout",
     "output_type": "stream",
     "text": [
      "Optimization terminated successfully.\n",
      "         Current function value: 0.597072\n",
      "         Iterations 6\n"
     ]
    },
    {
     "data": {
      "text/plain": [
       "<AxesSubplot:xlabel='log_lead_time', ylabel='pred_m1'>"
      ]
     },
     "execution_count": 13,
     "metadata": {},
     "output_type": "execute_result"
    },
    {
     "data": {
      "image/png": "[encoded data removed]",
      "text/plain": [
       "<Figure size 1152x576 with 2 Axes>"
      ]
     },
     "metadata": {
      "needs_background": "light"
     },
     "output_type": "display_data"
    }
   ],
   "source": [
    "import statsmodels.formula.api as fsm\n",
    "import seaborn as sns\n",
    "import matplotlib.pyplot as plt\n",
    "\n",
    "model = fsm.logit(\n",
    "    formula=\"is_cancelled ~ log_lead_time : reservation_type * is_company * high_season\",\n",
    "    data=train_tb_hotel_f,\n",
    ")\n",
    "fit = model.fit()\n",
    "fit.summary()\n",
    "train_tb_hotel_f[\"pred_m1\"] = fit.predict()\n",
    "\n",
    "fig, ax = plt.subplots(1, 2, figsize=(16, 8))\n",
    "sns.scatterplot(\n",
    "    data=train_tb_hotel_f,\n",
    "    x=\"lead_time\",\n",
    "    y=\"pred_m1\",\n",
    "    hue=\"is_company\",\n",
    "    size=\"high_season\",\n",
    "    ax=ax[0],\n",
    ")\n",
    "sns.scatterplot(\n",
    "    data=train_tb_hotel_f,\n",
    "    x=\"log_lead_time\",\n",
    "    y=\"pred_m1\",\n",
    "    hue=\"is_company\",\n",
    "    size=\"high_season\",\n",
    "    ax=ax[1],\n",
    ")\n"
   ]
  },
  {
   "cell_type": "code",
   "execution_count": 9,
   "metadata": {},
   "outputs": [],
   "source": [
    "%matplotlib inline"
   ]
  },
  {
   "cell_type": "code",
   "execution_count": 14,
   "metadata": {},
   "outputs": [],
   "source": [
    "import patsy\n",
    "from sklearn.linear_model import LogisticRegression\n",
    "from sklearn.preprocessing import StandardScaler\n",
    "from sklearn.metrics import f1_score, precision_score, recall_score\n"
   ]
  },
  {
   "cell_type": "code",
   "execution_count": 15,
   "metadata": {},
   "outputs": [
    {
     "name": "stderr",
     "output_type": "stream",
     "text": [
      "/Users/pedroteche/opt/anaconda3/lib/python3.9/site-packages/sklearn/utils/validation.py:993: DataConversionWarning: A column-vector y was passed when a 1d array was expected. Please change the shape of y to (n_samples, ), for example using ravel().\n",
      "  y = column_or_1d(y, warn=True)\n"
     ]
    },
    {
     "data": {
      "text/plain": [
       "LogisticRegression()"
      ]
     },
     "execution_count": 15,
     "metadata": {},
     "output_type": "execute_result"
    }
   ],
   "source": [
    "y_train, X_train = patsy.dmatrices(\n",
    "    \"is_cancelled ~ log_lead_time : reservation_type * is_company * high_season\",\n",
    "    data=train_tb_hotel_f,\n",
    ")\n",
    "y_test, X_test = patsy.dmatrices(\n",
    "    \"is_cancelled ~ log_lead_time : reservation_type * is_company * high_season\",\n",
    "    data=test_tb_hotel_f,\n",
    ")\n",
    "scaler = StandardScaler()\n",
    "scaler.fit(X_train)\n",
    "log_fit = LogisticRegression()\n",
    "log_fit.fit(scaler.transform(X_train), y_train)\n"
   ]
  },
  {
   "cell_type": "code",
   "execution_count": 10,
   "metadata": {},
   "outputs": [
    {
     "name": "stdout",
     "output_type": "stream",
     "text": [
      "Precision: 0.5524953510579484\n",
      "Recall: 0.3492946110828673\n",
      "F1-Score: 0.4280013237555724\n"
     ]
    }
   ],
   "source": [
    "print(\n",
    "    f\"Precision: {precision_score(y_test, log_fit.predict(scaler.transform(X_test)))}\"\n",
    ")\n",
    "print(f\"Recall: {recall_score(y_test, log_fit.predict(scaler.transform(X_test)))}\")\n",
    "print(f\"F1-Score: {f1_score(y_test, log_fit.predict(scaler.transform(X_test)))}\")"
   ]
  },
  {
   "cell_type": "markdown",
   "metadata": {},
   "source": [
    "A precisão está bem mais alta que o recall, talvez possamos sacrifica-la um pouco alterando o threshold para obter um F1 melhor"
   ]
  },
  {
   "cell_type": "code",
   "execution_count": 16,
   "metadata": {},
   "outputs": [
    {
     "data": {
      "text/plain": [
       "Text(0.5, 1.0, 'Best Threshold: 0.27 w/ F-1: 0.6')"
      ]
     },
     "execution_count": 16,
     "metadata": {},
     "output_type": "execute_result"
    },
    {
     "data": {
      "image/png": "[encoded data removed]",
      "text/plain": [
       "<Figure size 432x288 with 1 Axes>"
      ]
     },
     "metadata": {
      "needs_background": "light"
     },
     "output_type": "display_data"
    }
   ],
   "source": [
    "threshold_list = np.linspace(0.05, 0.95, 200)\n",
    "test_proba = log_fit.predict_proba(scaler.transform(X_test))[:, -1]\n",
    "\n",
    "f1_list = []\n",
    "for threshold in threshold_list:\n",
    "    pred_label = np.where(test_proba < threshold, 0, 1)\n",
    "    f1 = f1_score(y_test, pred_label)\n",
    "    f1_list.append(f1)\n",
    "\n",
    "df_f1 = pd.DataFrame({\"threshold\": threshold_list, \"f1_score\": f1_list})\n",
    "df_f1[df_f1[\"f1_score\"] == max(df_f1[\"f1_score\"])]\n",
    "bt = df_f1[df_f1[\"f1_score\"] == max(df_f1[\"f1_score\"])][\"threshold\"].values[0]\n",
    "f1 = df_f1[df_f1[\"f1_score\"] == max(df_f1[\"f1_score\"])][\"f1_score\"].values[0]\n",
    "title = \"Best Threshold: \" + str(round(bt, 2)) + \" w/ F-1: \" + str(round(f1, 2))\n",
    "sns.lineplot(data=df_f1, x=\"threshold\", y=\"f1_score\").set_title(title)"
   ]
  },
  {
   "cell_type": "markdown",
   "metadata": {},
   "source": [
    "## 1NN"
   ]
  },
  {
   "cell_type": "code",
   "execution_count": 17,
   "metadata": {},
   "outputs": [],
   "source": [
    "from sklearn.neighbors import KNeighborsClassifier"
   ]
  },
  {
   "cell_type": "code",
   "execution_count": 18,
   "metadata": {},
   "outputs": [
    {
     "name": "stderr",
     "output_type": "stream",
     "text": [
      "/Users/pedroteche/opt/anaconda3/lib/python3.9/site-packages/sklearn/neighbors/_classification.py:198: DataConversionWarning: A column-vector y was passed when a 1d array was expected. Please change the shape of y to (n_samples,), for example using ravel().\n",
      "  return self._fit(X, y)\n"
     ]
    },
    {
     "data": {
      "text/plain": [
       "KNeighborsClassifier(n_neighbors=1)"
      ]
     },
     "execution_count": 18,
     "metadata": {},
     "output_type": "execute_result"
    }
   ],
   "source": [
    "knn_fit = KNeighborsClassifier(n_neighbors=1)\n",
    "knn_fit.fit(scaler.transform(X_train), y_train)"
   ]
  },
  {
   "cell_type": "code",
   "execution_count": 14,
   "metadata": {},
   "outputs": [
    {
     "name": "stdout",
     "output_type": "stream",
     "text": [
      "Precision: 0.42466461255813065\n",
      "Recall: 0.7050711743772242\n",
      "F1-Score: 0.5300686772170798\n"
     ]
    }
   ],
   "source": [
    "test_pred = knn_fit.predict(scaler.transform(X_test))\n",
    "print(f\"Precision: {precision_score(y_test, test_pred)}\")\n",
    "print(f\"Recall: {recall_score(y_test, test_pred)}\")\n",
    "print(f\"F1-Score: {f1_score(y_test, test_pred)}\")"
   ]
  },
  {
   "cell_type": "markdown",
   "metadata": {},
   "source": [
    "## Floresta Aleatória"
   ]
  },
  {
   "cell_type": "code",
   "execution_count": 19,
   "metadata": {},
   "outputs": [],
   "source": [
    "from sklearn.ensemble import RandomForestClassifier"
   ]
  },
  {
   "cell_type": "code",
   "execution_count": 20,
   "metadata": {},
   "outputs": [
    {
     "name": "stderr",
     "output_type": "stream",
     "text": [
      "/var/folders/c2/4vv1dtt97gl9bn1lvw8rf0k40000gn/T/ipykernel_1503/1031630482.py:4: DataConversionWarning: A column-vector y was passed when a 1d array was expected. Please change the shape of y to (n_samples,), for example using ravel().\n",
      "  stump_fit.fit(scaler.transform(X_train), y_train)\n"
     ]
    },
    {
     "data": {
      "text/plain": [
       "RandomForestClassifier(class_weight='balanced', max_depth=1, n_estimators=1000)"
      ]
     },
     "execution_count": 20,
     "metadata": {},
     "output_type": "execute_result"
    }
   ],
   "source": [
    "stump_fit = RandomForestClassifier(\n",
    "    n_estimators=1000, max_depth=1, class_weight=\"balanced\"\n",
    ")\n",
    "stump_fit.fit(scaler.transform(X_train), y_train)"
   ]
  },
  {
   "cell_type": "code",
   "execution_count": 21,
   "metadata": {},
   "outputs": [
    {
     "name": "stdout",
     "output_type": "stream",
     "text": [
      "Precision: 0.45069013167299354\n",
      "Recall: 0.8988247964775571\n",
      "F1-Score: 0.6003512186865267\n"
     ]
    }
   ],
   "source": [
    "test_pred = stump_fit.predict(scaler.transform(X_test))\n",
    "print(f\"Precision: {precision_score(y_test, test_pred)}\")\n",
    "print(f\"Recall: {recall_score(y_test, test_pred)}\")\n",
    "print(f\"F1-Score: {f1_score(y_test, test_pred)}\")"
   ]
  },
  {
   "cell_type": "code",
   "execution_count": 89,
   "metadata": {},
   "outputs": [],
   "source": [
    "from sklearn.model_selection import RandomizedSearchCV\n",
    "\n",
    "# Number of trees in random forest\n",
    "n_estimators = [int(x) for x in np.linspace(start=200, stop=2000, num=10)]\n",
    "# Number of features to consider at every split\n",
    "max_features = [\"auto\", \"sqrt\"]\n",
    "# Maximum number of levels in tree\n",
    "max_depth = [int(x) for x in np.linspace(10, 110, num=11)]\n",
    "max_depth.append(None)\n",
    "# Minimum number of samples required to split a node\n",
    "min_samples_split = [2, 5, 10]\n",
    "# Minimum number of samples required at each leaf node\n",
    "min_samples_leaf = [1, 2, 4]\n",
    "# Method of selecting samples for training each tree\n",
    "bootstrap = [True, False]\n",
    "# Create the random grid\n",
    "random_grid = {\n",
    "    \"n_estimators\": n_estimators,\n",
    "    \"max_features\": max_features,\n",
    "    \"max_depth\": max_depth,\n",
    "    \"min_samples_split\": min_samples_split,\n",
    "    \"min_samples_leaf\": min_samples_leaf,\n",
    "    \"bootstrap\": bootstrap,\n",
    "}\n"
   ]
  },
  {
   "cell_type": "code",
   "execution_count": 90,
   "metadata": {},
   "outputs": [
    {
     "name": "stdout",
     "output_type": "stream",
     "text": [
      "Fitting 3 folds for each of 100 candidates, totalling 300 fits\n"
     ]
    }
   ],
   "source": [
    "# Use the random grid to search for best hyperparameters\n",
    "# First create the base model to tune\n",
    "rf = RandomForestClassifier(class_weight=\"balanced\")\n",
    "# Random search of parameters, using 3 fold cross validation,\n",
    "# search across 100 different combinations, and use all available cores\n",
    "rf_random = RandomizedSearchCV(\n",
    "    estimator=rf,\n",
    "    param_distributions=random_grid,\n",
    "    n_iter=100,\n",
    "    cv=3,\n",
    "    verbose=2,\n",
    "    random_state=42,\n",
    "    n_jobs=-1,\n",
    ")\n",
    "# Fit the random search model\n",
    "rf_random.fit(X_train, y_train)\n"
   ]
  },
  {
   "cell_type": "markdown",
   "metadata": {},
   "source": [
    "## EDA II\n",
    "\n",
    "Este modelo inicial apresentou uma performance razoável a partir de um feature set bem pequeno. No entanto não consideramos muitas das variáveis categóricas que o dataset nos fornece."
   ]
  },
  {
   "cell_type": "code",
   "execution_count": 22,
   "metadata": {},
   "outputs": [],
   "source": [
    "from sklearn.feature_selection import chi2"
   ]
  },
  {
   "cell_type": "code",
   "execution_count": 23,
   "metadata": {},
   "outputs": [
    {
     "name": "stdout",
     "output_type": "stream",
     "text": [
      "<class 'pandas.core.frame.DataFrame'>\n",
      "Int64Index: 84955 entries, 0 to 84954\n",
      "Data columns (total 38 columns):\n",
      " #   Column                          Non-Null Count  Dtype         \n",
      "---  ------                          --------------  -----         \n",
      " 0   hotel                           84955 non-null  object        \n",
      " 1   is_cancelled                    84955 non-null  int64         \n",
      " 2   lead_time                       84955 non-null  int64         \n",
      " 3   stays_in_weekend_nights         84955 non-null  int64         \n",
      " 4   stays_in_week_nights            84955 non-null  int64         \n",
      " 5   adults                          84955 non-null  int64         \n",
      " 6   children                        84952 non-null  float64       \n",
      " 7   babies                          84955 non-null  int64         \n",
      " 8   meal                            84955 non-null  object        \n",
      " 9   country                         84955 non-null  object        \n",
      " 10  market_segment                  84955 non-null  object        \n",
      " 11  distribution_channel            84955 non-null  object        \n",
      " 12  is_repeated_guest               84955 non-null  int64         \n",
      " 13  previous_cancellations          84955 non-null  int64         \n",
      " 14  previous_bookings_not_canceled  84955 non-null  int64         \n",
      " 15  reserved_room_type              84955 non-null  object        \n",
      " 16  assigned_room_type              84955 non-null  object        \n",
      " 17  booking_changes                 84955 non-null  int64         \n",
      " 18  deposit_type                    84955 non-null  object        \n",
      " 19  agent                           73591 non-null  float64       \n",
      " 20  company                         4704 non-null   float64       \n",
      " 21  days_in_waiting_list            84955 non-null  int64         \n",
      " 22  customer_type                   84955 non-null  object        \n",
      " 23  adr                             84955 non-null  float64       \n",
      " 24  required_car_parking_spaces     84955 non-null  int64         \n",
      " 25  total_of_special_requests       84955 non-null  int64         \n",
      " 26  reservation_status_date         84955 non-null  object        \n",
      " 27  arrival_date                    84955 non-null  datetime64[ns]\n",
      " 28  id_booking                      84955 non-null  int64         \n",
      " 29  arrival_date_month              84955 non-null  int64         \n",
      " 30  arrival_date_year               84955 non-null  int64         \n",
      " 31  is_agent                        84955 non-null  bool          \n",
      " 32  is_company                      84955 non-null  bool          \n",
      " 33  log_lead_time                   84955 non-null  float64       \n",
      " 34  reservation_type                84955 non-null  object        \n",
      " 35  grouped_country                 84955 non-null  object        \n",
      " 36  high_season                     84955 non-null  int64         \n",
      " 37  pred_m1                         84955 non-null  float64       \n",
      "dtypes: bool(2), datetime64[ns](1), float64(6), int64(17), object(12)\n",
      "memory usage: 24.1+ MB\n"
     ]
    }
   ],
   "source": [
    "train_tb_hotel_f.info()\n"
   ]
  },
  {
   "cell_type": "code",
   "execution_count": 24,
   "metadata": {},
   "outputs": [],
   "source": [
    "cat_train_tb_hotel_f = train_tb_hotel_f.select_dtypes(\"object\")\n",
    "cat_train_tb_hotel_f = cat_train_tb_hotel_f.drop(\n",
    "    [\"reservation_status_date\", \"country\"], axis=1\n",
    ")\n"
   ]
  },
  {
   "cell_type": "code",
   "execution_count": 39,
   "metadata": {},
   "outputs": [
    {
     "data": {
      "text/plain": [
       "Index(['hotel', 'meal', 'market_segment', 'distribution_channel',\n",
       "       'reserved_room_type', 'assigned_room_type', 'deposit_type',\n",
       "       'customer_type', 'reservation_type', 'grouped_country'],\n",
       "      dtype='object')"
      ]
     },
     "execution_count": 39,
     "metadata": {},
     "output_type": "execute_result"
    }
   ],
   "source": [
    "cat_train_tb_hotel_f.columns\n"
   ]
  },
  {
   "cell_type": "code",
   "execution_count": 25,
   "metadata": {},
   "outputs": [],
   "source": [
    "dummies_train_tb_hotel_f = pd.get_dummies(cat_train_tb_hotel_f)\n"
   ]
  },
  {
   "cell_type": "code",
   "execution_count": 26,
   "metadata": {},
   "outputs": [
    {
     "data": {
      "text/html": [
       "<div>\n",
       "<style scoped>\n",
       "    .dataframe tbody tr th:only-of-type {\n",
       "        vertical-align: middle;\n",
       "    }\n",
       "\n",
       "    .dataframe tbody tr th {\n",
       "        vertical-align: top;\n",
       "    }\n",
       "\n",
       "    .dataframe thead th {\n",
       "        text-align: right;\n",
       "    }\n",
       "</style>\n",
       "<table border=\"1\" class=\"dataframe\">\n",
       "  <thead>\n",
       "    <tr style=\"text-align: right;\">\n",
       "      <th></th>\n",
       "      <th>hotel_City Hotel</th>\n",
       "      <th>hotel_Resort Hotel</th>\n",
       "      <th>meal_BB</th>\n",
       "      <th>meal_FB</th>\n",
       "      <th>meal_HB</th>\n",
       "      <th>meal_SC</th>\n",
       "      <th>meal_Undefined</th>\n",
       "      <th>market_segment_Aviation</th>\n",
       "      <th>market_segment_Complementary</th>\n",
       "      <th>market_segment_Corporate</th>\n",
       "      <th>...</th>\n",
       "      <th>customer_type_Transient</th>\n",
       "      <th>customer_type_Transient-Party</th>\n",
       "      <th>reservation_type_last_minute</th>\n",
       "      <th>reservation_type_scheduled</th>\n",
       "      <th>grouped_country_DEU</th>\n",
       "      <th>grouped_country_ESP</th>\n",
       "      <th>grouped_country_FRA</th>\n",
       "      <th>grouped_country_GBR</th>\n",
       "      <th>grouped_country_PRT</th>\n",
       "      <th>grouped_country_other</th>\n",
       "    </tr>\n",
       "  </thead>\n",
       "  <tbody>\n",
       "    <tr>\n",
       "      <th>0</th>\n",
       "      <td>0</td>\n",
       "      <td>1</td>\n",
       "      <td>1</td>\n",
       "      <td>0</td>\n",
       "      <td>0</td>\n",
       "      <td>0</td>\n",
       "      <td>0</td>\n",
       "      <td>0</td>\n",
       "      <td>0</td>\n",
       "      <td>0</td>\n",
       "      <td>...</td>\n",
       "      <td>1</td>\n",
       "      <td>0</td>\n",
       "      <td>0</td>\n",
       "      <td>1</td>\n",
       "      <td>0</td>\n",
       "      <td>0</td>\n",
       "      <td>0</td>\n",
       "      <td>0</td>\n",
       "      <td>1</td>\n",
       "      <td>0</td>\n",
       "    </tr>\n",
       "    <tr>\n",
       "      <th>1</th>\n",
       "      <td>0</td>\n",
       "      <td>1</td>\n",
       "      <td>1</td>\n",
       "      <td>0</td>\n",
       "      <td>0</td>\n",
       "      <td>0</td>\n",
       "      <td>0</td>\n",
       "      <td>0</td>\n",
       "      <td>0</td>\n",
       "      <td>0</td>\n",
       "      <td>...</td>\n",
       "      <td>1</td>\n",
       "      <td>0</td>\n",
       "      <td>0</td>\n",
       "      <td>1</td>\n",
       "      <td>0</td>\n",
       "      <td>0</td>\n",
       "      <td>0</td>\n",
       "      <td>0</td>\n",
       "      <td>1</td>\n",
       "      <td>0</td>\n",
       "    </tr>\n",
       "    <tr>\n",
       "      <th>2</th>\n",
       "      <td>0</td>\n",
       "      <td>1</td>\n",
       "      <td>0</td>\n",
       "      <td>1</td>\n",
       "      <td>0</td>\n",
       "      <td>0</td>\n",
       "      <td>0</td>\n",
       "      <td>0</td>\n",
       "      <td>0</td>\n",
       "      <td>0</td>\n",
       "      <td>...</td>\n",
       "      <td>1</td>\n",
       "      <td>0</td>\n",
       "      <td>0</td>\n",
       "      <td>1</td>\n",
       "      <td>0</td>\n",
       "      <td>0</td>\n",
       "      <td>0</td>\n",
       "      <td>0</td>\n",
       "      <td>1</td>\n",
       "      <td>0</td>\n",
       "    </tr>\n",
       "    <tr>\n",
       "      <th>3</th>\n",
       "      <td>0</td>\n",
       "      <td>1</td>\n",
       "      <td>1</td>\n",
       "      <td>0</td>\n",
       "      <td>0</td>\n",
       "      <td>0</td>\n",
       "      <td>0</td>\n",
       "      <td>0</td>\n",
       "      <td>0</td>\n",
       "      <td>0</td>\n",
       "      <td>...</td>\n",
       "      <td>1</td>\n",
       "      <td>0</td>\n",
       "      <td>0</td>\n",
       "      <td>1</td>\n",
       "      <td>0</td>\n",
       "      <td>0</td>\n",
       "      <td>0</td>\n",
       "      <td>0</td>\n",
       "      <td>1</td>\n",
       "      <td>0</td>\n",
       "    </tr>\n",
       "    <tr>\n",
       "      <th>4</th>\n",
       "      <td>0</td>\n",
       "      <td>1</td>\n",
       "      <td>0</td>\n",
       "      <td>0</td>\n",
       "      <td>1</td>\n",
       "      <td>0</td>\n",
       "      <td>0</td>\n",
       "      <td>0</td>\n",
       "      <td>0</td>\n",
       "      <td>0</td>\n",
       "      <td>...</td>\n",
       "      <td>1</td>\n",
       "      <td>0</td>\n",
       "      <td>0</td>\n",
       "      <td>1</td>\n",
       "      <td>0</td>\n",
       "      <td>0</td>\n",
       "      <td>0</td>\n",
       "      <td>0</td>\n",
       "      <td>1</td>\n",
       "      <td>0</td>\n",
       "    </tr>\n",
       "    <tr>\n",
       "      <th>...</th>\n",
       "      <td>...</td>\n",
       "      <td>...</td>\n",
       "      <td>...</td>\n",
       "      <td>...</td>\n",
       "      <td>...</td>\n",
       "      <td>...</td>\n",
       "      <td>...</td>\n",
       "      <td>...</td>\n",
       "      <td>...</td>\n",
       "      <td>...</td>\n",
       "      <td>...</td>\n",
       "      <td>...</td>\n",
       "      <td>...</td>\n",
       "      <td>...</td>\n",
       "      <td>...</td>\n",
       "      <td>...</td>\n",
       "      <td>...</td>\n",
       "      <td>...</td>\n",
       "      <td>...</td>\n",
       "      <td>...</td>\n",
       "      <td>...</td>\n",
       "    </tr>\n",
       "    <tr>\n",
       "      <th>84950</th>\n",
       "      <td>1</td>\n",
       "      <td>0</td>\n",
       "      <td>1</td>\n",
       "      <td>0</td>\n",
       "      <td>0</td>\n",
       "      <td>0</td>\n",
       "      <td>0</td>\n",
       "      <td>0</td>\n",
       "      <td>0</td>\n",
       "      <td>0</td>\n",
       "      <td>...</td>\n",
       "      <td>1</td>\n",
       "      <td>0</td>\n",
       "      <td>1</td>\n",
       "      <td>0</td>\n",
       "      <td>1</td>\n",
       "      <td>0</td>\n",
       "      <td>0</td>\n",
       "      <td>0</td>\n",
       "      <td>0</td>\n",
       "      <td>0</td>\n",
       "    </tr>\n",
       "    <tr>\n",
       "      <th>84951</th>\n",
       "      <td>1</td>\n",
       "      <td>0</td>\n",
       "      <td>1</td>\n",
       "      <td>0</td>\n",
       "      <td>0</td>\n",
       "      <td>0</td>\n",
       "      <td>0</td>\n",
       "      <td>0</td>\n",
       "      <td>0</td>\n",
       "      <td>0</td>\n",
       "      <td>...</td>\n",
       "      <td>1</td>\n",
       "      <td>0</td>\n",
       "      <td>1</td>\n",
       "      <td>0</td>\n",
       "      <td>1</td>\n",
       "      <td>0</td>\n",
       "      <td>0</td>\n",
       "      <td>0</td>\n",
       "      <td>0</td>\n",
       "      <td>0</td>\n",
       "    </tr>\n",
       "    <tr>\n",
       "      <th>84952</th>\n",
       "      <td>1</td>\n",
       "      <td>0</td>\n",
       "      <td>1</td>\n",
       "      <td>0</td>\n",
       "      <td>0</td>\n",
       "      <td>0</td>\n",
       "      <td>0</td>\n",
       "      <td>0</td>\n",
       "      <td>0</td>\n",
       "      <td>0</td>\n",
       "      <td>...</td>\n",
       "      <td>1</td>\n",
       "      <td>0</td>\n",
       "      <td>0</td>\n",
       "      <td>1</td>\n",
       "      <td>1</td>\n",
       "      <td>0</td>\n",
       "      <td>0</td>\n",
       "      <td>0</td>\n",
       "      <td>0</td>\n",
       "      <td>0</td>\n",
       "    </tr>\n",
       "    <tr>\n",
       "      <th>84953</th>\n",
       "      <td>1</td>\n",
       "      <td>0</td>\n",
       "      <td>0</td>\n",
       "      <td>0</td>\n",
       "      <td>1</td>\n",
       "      <td>0</td>\n",
       "      <td>0</td>\n",
       "      <td>0</td>\n",
       "      <td>0</td>\n",
       "      <td>0</td>\n",
       "      <td>...</td>\n",
       "      <td>1</td>\n",
       "      <td>0</td>\n",
       "      <td>0</td>\n",
       "      <td>1</td>\n",
       "      <td>1</td>\n",
       "      <td>0</td>\n",
       "      <td>0</td>\n",
       "      <td>0</td>\n",
       "      <td>0</td>\n",
       "      <td>0</td>\n",
       "    </tr>\n",
       "    <tr>\n",
       "      <th>84954</th>\n",
       "      <td>1</td>\n",
       "      <td>0</td>\n",
       "      <td>1</td>\n",
       "      <td>0</td>\n",
       "      <td>0</td>\n",
       "      <td>0</td>\n",
       "      <td>0</td>\n",
       "      <td>0</td>\n",
       "      <td>0</td>\n",
       "      <td>0</td>\n",
       "      <td>...</td>\n",
       "      <td>1</td>\n",
       "      <td>0</td>\n",
       "      <td>0</td>\n",
       "      <td>1</td>\n",
       "      <td>1</td>\n",
       "      <td>0</td>\n",
       "      <td>0</td>\n",
       "      <td>0</td>\n",
       "      <td>0</td>\n",
       "      <td>0</td>\n",
       "    </tr>\n",
       "  </tbody>\n",
       "</table>\n",
       "<p>84955 rows × 56 columns</p>\n",
       "</div>"
      ],
      "text/plain": [
       "       hotel_City Hotel  hotel_Resort Hotel  meal_BB  meal_FB  meal_HB  \\\n",
       "0                     0                   1        1        0        0   \n",
       "1                     0                   1        1        0        0   \n",
       "2                     0                   1        0        1        0   \n",
       "3                     0                   1        1        0        0   \n",
       "4                     0                   1        0        0        1   \n",
       "...                 ...                 ...      ...      ...      ...   \n",
       "84950                 1                   0        1        0        0   \n",
       "84951                 1                   0        1        0        0   \n",
       "84952                 1                   0        1        0        0   \n",
       "84953                 1                   0        0        0        1   \n",
       "84954                 1                   0        1        0        0   \n",
       "\n",
       "       meal_SC  meal_Undefined  market_segment_Aviation  \\\n",
       "0            0               0                        0   \n",
       "1            0               0                        0   \n",
       "2            0               0                        0   \n",
       "3            0               0                        0   \n",
       "4            0               0                        0   \n",
       "...        ...             ...                      ...   \n",
       "84950        0               0                        0   \n",
       "84951        0               0                        0   \n",
       "84952        0               0                        0   \n",
       "84953        0               0                        0   \n",
       "84954        0               0                        0   \n",
       "\n",
       "       market_segment_Complementary  market_segment_Corporate  ...  \\\n",
       "0                                 0                         0  ...   \n",
       "1                                 0                         0  ...   \n",
       "2                                 0                         0  ...   \n",
       "3                                 0                         0  ...   \n",
       "4                                 0                         0  ...   \n",
       "...                             ...                       ...  ...   \n",
       "84950                             0                         0  ...   \n",
       "84951                             0                         0  ...   \n",
       "84952                             0                         0  ...   \n",
       "84953                             0                         0  ...   \n",
       "84954                             0                         0  ...   \n",
       "\n",
       "       customer_type_Transient  customer_type_Transient-Party  \\\n",
       "0                            1                              0   \n",
       "1                            1                              0   \n",
       "2                            1                              0   \n",
       "3                            1                              0   \n",
       "4                            1                              0   \n",
       "...                        ...                            ...   \n",
       "84950                        1                              0   \n",
       "84951                        1                              0   \n",
       "84952                        1                              0   \n",
       "84953                        1                              0   \n",
       "84954                        1                              0   \n",
       "\n",
       "       reservation_type_last_minute  reservation_type_scheduled  \\\n",
       "0                                 0                           1   \n",
       "1                                 0                           1   \n",
       "2                                 0                           1   \n",
       "3                                 0                           1   \n",
       "4                                 0                           1   \n",
       "...                             ...                         ...   \n",
       "84950                             1                           0   \n",
       "84951                             1                           0   \n",
       "84952                             0                           1   \n",
       "84953                             0                           1   \n",
       "84954                             0                           1   \n",
       "\n",
       "       grouped_country_DEU  grouped_country_ESP  grouped_country_FRA  \\\n",
       "0                        0                    0                    0   \n",
       "1                        0                    0                    0   \n",
       "2                        0                    0                    0   \n",
       "3                        0                    0                    0   \n",
       "4                        0                    0                    0   \n",
       "...                    ...                  ...                  ...   \n",
       "84950                    1                    0                    0   \n",
       "84951                    1                    0                    0   \n",
       "84952                    1                    0                    0   \n",
       "84953                    1                    0                    0   \n",
       "84954                    1                    0                    0   \n",
       "\n",
       "       grouped_country_GBR  grouped_country_PRT  grouped_country_other  \n",
       "0                        0                    1                      0  \n",
       "1                        0                    1                      0  \n",
       "2                        0                    1                      0  \n",
       "3                        0                    1                      0  \n",
       "4                        0                    1                      0  \n",
       "...                    ...                  ...                    ...  \n",
       "84950                    0                    0                      0  \n",
       "84951                    0                    0                      0  \n",
       "84952                    0                    0                      0  \n",
       "84953                    0                    0                      0  \n",
       "84954                    0                    0                      0  \n",
       "\n",
       "[84955 rows x 56 columns]"
      ]
     },
     "execution_count": 26,
     "metadata": {},
     "output_type": "execute_result"
    }
   ],
   "source": [
    "dummies_train_tb_hotel_f"
   ]
  },
  {
   "cell_type": "code",
   "execution_count": 27,
   "metadata": {},
   "outputs": [],
   "source": [
    "chi2_hotel, p_hotel = chi2(dummies_train_tb_hotel_f, train_tb_hotel_f[\"is_cancelled\"])"
   ]
  },
  {
   "cell_type": "code",
   "execution_count": 28,
   "metadata": {},
   "outputs": [
    {
     "data": {
      "text/plain": [
       "<AxesSubplot:xlabel='p_rank', ylabel='p_value'>"
      ]
     },
     "execution_count": 28,
     "metadata": {},
     "output_type": "execute_result"
    },
    {
     "data": {
      "image/png": "[encoded data removed]",
      "text/plain": [
       "<Figure size 432x288 with 1 Axes>"
      ]
     },
     "metadata": {
      "needs_background": "light"
     },
     "output_type": "display_data"
    }
   ],
   "source": [
    "cat_imp = pd.DataFrame(\n",
    "    {\"cat_value\": dummies_train_tb_hotel_f.columns, \"p_value\": p_hotel}\n",
    ")\n",
    "cat_imp[\"p_rank\"] = cat_imp[\"p_value\"].rank()\n",
    "sns.lineplot(data=cat_imp, x=\"p_rank\", y=\"p_value\")"
   ]
  },
  {
   "cell_type": "code",
   "execution_count": 36,
   "metadata": {},
   "outputs": [],
   "source": [
    "from sklearn.decomposition import NMF"
   ]
  },
  {
   "cell_type": "code",
   "execution_count": 37,
   "metadata": {},
   "outputs": [],
   "source": [
    "imp_dum = dummies_train_tb_hotel_f[\n",
    "    cat_imp.loc[cat_imp[\"p_value\"] < 0.01, \"cat_value\"].to_list()\n",
    "]"
   ]
  },
  {
   "cell_type": "code",
   "execution_count": 38,
   "metadata": {},
   "outputs": [
    {
     "data": {
      "text/plain": [
       "Index(['hotel_City Hotel', 'hotel_Resort Hotel', 'meal_FB', 'meal_HB',\n",
       "       'meal_Undefined', 'market_segment_Aviation',\n",
       "       'market_segment_Complementary', 'market_segment_Corporate',\n",
       "       'market_segment_Direct', 'market_segment_Groups',\n",
       "       'market_segment_Offline TA/TO', 'distribution_channel_Corporate',\n",
       "       'distribution_channel_Direct', 'distribution_channel_GDS',\n",
       "       'distribution_channel_TA/TO', 'reserved_room_type_A',\n",
       "       'reserved_room_type_D', 'reserved_room_type_E', 'reserved_room_type_F',\n",
       "       'assigned_room_type_A', 'assigned_room_type_B', 'assigned_room_type_C',\n",
       "       'assigned_room_type_D', 'assigned_room_type_E', 'assigned_room_type_F',\n",
       "       'assigned_room_type_G', 'assigned_room_type_I', 'assigned_room_type_K',\n",
       "       'deposit_type_No Deposit', 'deposit_type_Non Refund',\n",
       "       'customer_type_Contract', 'customer_type_Group',\n",
       "       'customer_type_Transient', 'customer_type_Transient-Party',\n",
       "       'reservation_type_last_minute', 'reservation_type_scheduled',\n",
       "       'grouped_country_DEU', 'grouped_country_ESP', 'grouped_country_FRA',\n",
       "       'grouped_country_GBR', 'grouped_country_PRT', 'grouped_country_other'],\n",
       "      dtype='object')"
      ]
     },
     "execution_count": 38,
     "metadata": {},
     "output_type": "execute_result"
    }
   ],
   "source": [
    "imp_dum.columns"
   ]
  },
  {
   "cell_type": "code",
   "execution_count": 39,
   "metadata": {},
   "outputs": [],
   "source": [
    "from sklearn.model_selection import train_test_split\n"
   ]
  },
  {
   "cell_type": "code",
   "execution_count": 40,
   "metadata": {},
   "outputs": [
    {
     "name": "stderr",
     "output_type": "stream",
     "text": [
      "/Users/pedroteche/opt/anaconda3/lib/python3.9/site-packages/sklearn/decomposition/_nmf.py:1411: UserWarning: The multiplicative update ('mu') solver cannot update zeros present in the initialization, and so leads to poorer results when used jointly with init='nndsvd'. You may try init='nndsvda' or init='nndsvdar' instead.\n",
      "  warnings.warn(\n"
     ]
    },
    {
     "name": "stdout",
     "output_type": "stream",
     "text": [
      "1 NMF: 0.0\n"
     ]
    },
    {
     "name": "stderr",
     "output_type": "stream",
     "text": [
      "/Users/pedroteche/opt/anaconda3/lib/python3.9/site-packages/sklearn/decomposition/_nmf.py:1411: UserWarning: The multiplicative update ('mu') solver cannot update zeros present in the initialization, and so leads to poorer results when used jointly with init='nndsvd'. You may try init='nndsvda' or init='nndsvdar' instead.\n",
      "  warnings.warn(\n"
     ]
    },
    {
     "name": "stdout",
     "output_type": "stream",
     "text": [
      "2 NMF: 0.0\n"
     ]
    },
    {
     "name": "stderr",
     "output_type": "stream",
     "text": [
      "/Users/pedroteche/opt/anaconda3/lib/python3.9/site-packages/sklearn/decomposition/_nmf.py:1411: UserWarning: The multiplicative update ('mu') solver cannot update zeros present in the initialization, and so leads to poorer results when used jointly with init='nndsvd'. You may try init='nndsvda' or init='nndsvdar' instead.\n",
      "  warnings.warn(\n"
     ]
    },
    {
     "name": "stdout",
     "output_type": "stream",
     "text": [
      "3 NMF: 0.0\n"
     ]
    },
    {
     "name": "stderr",
     "output_type": "stream",
     "text": [
      "/Users/pedroteche/opt/anaconda3/lib/python3.9/site-packages/sklearn/decomposition/_nmf.py:1411: UserWarning: The multiplicative update ('mu') solver cannot update zeros present in the initialization, and so leads to poorer results when used jointly with init='nndsvd'. You may try init='nndsvda' or init='nndsvdar' instead.\n",
      "  warnings.warn(\n"
     ]
    },
    {
     "name": "stdout",
     "output_type": "stream",
     "text": [
      "4 NMF: 0.49933739729658094\n"
     ]
    },
    {
     "name": "stderr",
     "output_type": "stream",
     "text": [
      "/Users/pedroteche/opt/anaconda3/lib/python3.9/site-packages/sklearn/decomposition/_nmf.py:1411: UserWarning: The multiplicative update ('mu') solver cannot update zeros present in the initialization, and so leads to poorer results when used jointly with init='nndsvd'. You may try init='nndsvda' or init='nndsvdar' instead.\n",
      "  warnings.warn(\n"
     ]
    },
    {
     "name": "stdout",
     "output_type": "stream",
     "text": [
      "5 NMF: 0.5656117718201975\n"
     ]
    },
    {
     "name": "stderr",
     "output_type": "stream",
     "text": [
      "/Users/pedroteche/opt/anaconda3/lib/python3.9/site-packages/sklearn/decomposition/_nmf.py:1411: UserWarning: The multiplicative update ('mu') solver cannot update zeros present in the initialization, and so leads to poorer results when used jointly with init='nndsvd'. You may try init='nndsvda' or init='nndsvdar' instead.\n",
      "  warnings.warn(\n"
     ]
    },
    {
     "name": "stdout",
     "output_type": "stream",
     "text": [
      "6 NMF: 0.5839640008181632\n"
     ]
    },
    {
     "name": "stderr",
     "output_type": "stream",
     "text": [
      "/Users/pedroteche/opt/anaconda3/lib/python3.9/site-packages/sklearn/decomposition/_nmf.py:1411: UserWarning: The multiplicative update ('mu') solver cannot update zeros present in the initialization, and so leads to poorer results when used jointly with init='nndsvd'. You may try init='nndsvda' or init='nndsvdar' instead.\n",
      "  warnings.warn(\n"
     ]
    },
    {
     "name": "stdout",
     "output_type": "stream",
     "text": [
      "7 NMF: 0.5780240073868882\n"
     ]
    },
    {
     "name": "stderr",
     "output_type": "stream",
     "text": [
      "/Users/pedroteche/opt/anaconda3/lib/python3.9/site-packages/sklearn/decomposition/_nmf.py:1411: UserWarning: The multiplicative update ('mu') solver cannot update zeros present in the initialization, and so leads to poorer results when used jointly with init='nndsvd'. You may try init='nndsvda' or init='nndsvdar' instead.\n",
      "  warnings.warn(\n"
     ]
    },
    {
     "name": "stdout",
     "output_type": "stream",
     "text": [
      "8 NMF: 0.5787695772341079\n"
     ]
    },
    {
     "name": "stderr",
     "output_type": "stream",
     "text": [
      "/Users/pedroteche/opt/anaconda3/lib/python3.9/site-packages/sklearn/decomposition/_nmf.py:1411: UserWarning: The multiplicative update ('mu') solver cannot update zeros present in the initialization, and so leads to poorer results when used jointly with init='nndsvd'. You may try init='nndsvda' or init='nndsvdar' instead.\n",
      "  warnings.warn(\n"
     ]
    },
    {
     "name": "stdout",
     "output_type": "stream",
     "text": [
      "9 NMF: 0.5920322743318205\n"
     ]
    },
    {
     "name": "stderr",
     "output_type": "stream",
     "text": [
      "/Users/pedroteche/opt/anaconda3/lib/python3.9/site-packages/sklearn/decomposition/_nmf.py:1411: UserWarning: The multiplicative update ('mu') solver cannot update zeros present in the initialization, and so leads to poorer results when used jointly with init='nndsvd'. You may try init='nndsvda' or init='nndsvdar' instead.\n",
      "  warnings.warn(\n"
     ]
    },
    {
     "name": "stdout",
     "output_type": "stream",
     "text": [
      "10 NMF: 0.5919919919919919\n"
     ]
    },
    {
     "name": "stderr",
     "output_type": "stream",
     "text": [
      "/Users/pedroteche/opt/anaconda3/lib/python3.9/site-packages/sklearn/decomposition/_nmf.py:1411: UserWarning: The multiplicative update ('mu') solver cannot update zeros present in the initialization, and so leads to poorer results when used jointly with init='nndsvd'. You may try init='nndsvda' or init='nndsvdar' instead.\n",
      "  warnings.warn(\n"
     ]
    },
    {
     "name": "stdout",
     "output_type": "stream",
     "text": [
      "11 NMF: 0.5878806150135665\n"
     ]
    },
    {
     "name": "stderr",
     "output_type": "stream",
     "text": [
      "/Users/pedroteche/opt/anaconda3/lib/python3.9/site-packages/sklearn/decomposition/_nmf.py:1411: UserWarning: The multiplicative update ('mu') solver cannot update zeros present in the initialization, and so leads to poorer results when used jointly with init='nndsvd'. You may try init='nndsvda' or init='nndsvdar' instead.\n",
      "  warnings.warn(\n"
     ]
    },
    {
     "name": "stdout",
     "output_type": "stream",
     "text": [
      "12 NMF: 0.5826467297324789\n"
     ]
    },
    {
     "name": "stderr",
     "output_type": "stream",
     "text": [
      "/Users/pedroteche/opt/anaconda3/lib/python3.9/site-packages/sklearn/decomposition/_nmf.py:1411: UserWarning: The multiplicative update ('mu') solver cannot update zeros present in the initialization, and so leads to poorer results when used jointly with init='nndsvd'. You may try init='nndsvda' or init='nndsvdar' instead.\n",
      "  warnings.warn(\n"
     ]
    },
    {
     "name": "stdout",
     "output_type": "stream",
     "text": [
      "13 NMF: 0.551024906325766\n"
     ]
    },
    {
     "name": "stderr",
     "output_type": "stream",
     "text": [
      "/Users/pedroteche/opt/anaconda3/lib/python3.9/site-packages/sklearn/decomposition/_nmf.py:1411: UserWarning: The multiplicative update ('mu') solver cannot update zeros present in the initialization, and so leads to poorer results when used jointly with init='nndsvd'. You may try init='nndsvda' or init='nndsvdar' instead.\n",
      "  warnings.warn(\n"
     ]
    },
    {
     "name": "stdout",
     "output_type": "stream",
     "text": [
      "14 NMF: 0.5473872664204991\n"
     ]
    },
    {
     "name": "stderr",
     "output_type": "stream",
     "text": [
      "/Users/pedroteche/opt/anaconda3/lib/python3.9/site-packages/sklearn/decomposition/_nmf.py:1411: UserWarning: The multiplicative update ('mu') solver cannot update zeros present in the initialization, and so leads to poorer results when used jointly with init='nndsvd'. You may try init='nndsvda' or init='nndsvdar' instead.\n",
      "  warnings.warn(\n"
     ]
    },
    {
     "name": "stdout",
     "output_type": "stream",
     "text": [
      "15 NMF: 0.5489147866994547\n"
     ]
    },
    {
     "name": "stderr",
     "output_type": "stream",
     "text": [
      "/Users/pedroteche/opt/anaconda3/lib/python3.9/site-packages/sklearn/decomposition/_nmf.py:1411: UserWarning: The multiplicative update ('mu') solver cannot update zeros present in the initialization, and so leads to poorer results when used jointly with init='nndsvd'. You may try init='nndsvda' or init='nndsvdar' instead.\n",
      "  warnings.warn(\n"
     ]
    },
    {
     "name": "stdout",
     "output_type": "stream",
     "text": [
      "16 NMF: 0.5380440801860671\n"
     ]
    },
    {
     "name": "stderr",
     "output_type": "stream",
     "text": [
      "/Users/pedroteche/opt/anaconda3/lib/python3.9/site-packages/sklearn/decomposition/_nmf.py:1411: UserWarning: The multiplicative update ('mu') solver cannot update zeros present in the initialization, and so leads to poorer results when used jointly with init='nndsvd'. You may try init='nndsvda' or init='nndsvdar' instead.\n",
      "  warnings.warn(\n"
     ]
    },
    {
     "name": "stdout",
     "output_type": "stream",
     "text": [
      "17 NMF: 0.538698328935796\n"
     ]
    },
    {
     "name": "stderr",
     "output_type": "stream",
     "text": [
      "/Users/pedroteche/opt/anaconda3/lib/python3.9/site-packages/sklearn/decomposition/_nmf.py:1411: UserWarning: The multiplicative update ('mu') solver cannot update zeros present in the initialization, and so leads to poorer results when used jointly with init='nndsvd'. You may try init='nndsvda' or init='nndsvdar' instead.\n",
      "  warnings.warn(\n"
     ]
    },
    {
     "name": "stdout",
     "output_type": "stream",
     "text": [
      "18 NMF: 0.5622768325981937\n"
     ]
    },
    {
     "name": "stderr",
     "output_type": "stream",
     "text": [
      "/Users/pedroteche/opt/anaconda3/lib/python3.9/site-packages/sklearn/decomposition/_nmf.py:1411: UserWarning: The multiplicative update ('mu') solver cannot update zeros present in the initialization, and so leads to poorer results when used jointly with init='nndsvd'. You may try init='nndsvda' or init='nndsvdar' instead.\n",
      "  warnings.warn(\n"
     ]
    },
    {
     "name": "stdout",
     "output_type": "stream",
     "text": [
      "19 NMF: 0.5563143631436314\n"
     ]
    }
   ],
   "source": [
    "for i in range(1, 20):\n",
    "    nmf_fit = NMF(\n",
    "        beta_loss=\"kullback-leibler\", solver=\"mu\", n_components=i, init=\"nndsvd\"\n",
    "    )\n",
    "    \n",
    "    nmf_decomp = nmf_fit.fit_transform(imp_dum)\n",
    "    X_train, X_test, y_train, y_test = train_test_split(\n",
    "        nmf_decomp, train_tb_hotel_f[\"is_cancelled\"], test_size=0.2\n",
    "    )\n",
    "\n",
    "    log_nmf_fit = LogisticRegression()\n",
    "    log_nmf_fit.fit(X_train, y_train)\n",
    "    print(f\"{i} NMF: {f1_score(y_test, log_nmf_fit.predict(X_test))}\")"
   ]
  },
  {
   "cell_type": "markdown",
   "metadata": {},
   "source": [
    "Essa rotina produziu uma regressão com F1 de 0.6! Vamos funcionaliza-la e incorporar ao nosso modelo"
   ]
  },
  {
   "cell_type": "code",
   "execution_count": 41,
   "metadata": {},
   "outputs": [],
   "source": [
    "from sklearn.preprocessing import OneHotEncoder"
   ]
  },
  {
   "cell_type": "code",
   "execution_count": 43,
   "metadata": {},
   "outputs": [],
   "source": [
    "CAT_VAR_SET = [\n",
    "    \"hotel\",\n",
    "    \"meal\",\n",
    "    \"market_segment\",\n",
    "    \"distribution_channel\",\n",
    "    \"reserved_room_type\",\n",
    "    \"assigned_room_type\",\n",
    "    \"deposit_type\",\n",
    "    \"customer_type\",\n",
    "    \"reservation_type\",\n",
    "    \"grouped_country\",\n",
    "]\n",
    "\n",
    "\n",
    "def create_relevant_set(hotel_data):\n",
    "    global CAT_VAR_SET\n",
    "    cat_train_tb_hotel_f = hotel_data[CAT_VAR_SET]\n",
    "    ohe_fit = OneHotEncoder()\n",
    "    dummies_train_tb_hotel_f = ohe_fit.fit_transform(cat_train_tb_hotel_f)\n",
    "    chi2_hotel, p_hotel = chi2(dummies_train_tb_hotel_f, hotel_data[\"is_cancelled\"])\n",
    "    cat_imp = pd.DataFrame(\n",
    "        {\"cat_value\": ohe_fit.get_feature_names_out(), \"p_value\": p_hotel}\n",
    "    )\n",
    "    imp_dum = cat_imp.loc[cat_imp[\"p_value\"] < 0.2, \"cat_value\"].to_list()\n",
    "    return ohe_fit, imp_dum\n",
    "\n",
    "def estimate_nmf(hotel_data):\n",
    "    global CAT_VAR_SET\n",
    "    ohe_fit, imp_var = create_relevant_set(hotel_data)\n",
    "    imp_cat = ohe_fit.transform(hotel_data[CAT_VAR_SET])\n",
    "    tb_imp_cat = pd.DataFrame.sparse.from_spmatrix(imp_cat)\n",
    "    tb_imp_cat.columns = ohe_fit.get_feature_names_out()\n",
    "    tb_imp_cat = tb_imp_cat[imp_var]\n",
    "    f1_score_list = []\n",
    "    for i in range(1, 20):\n",
    "        nmf_fit = NMF(\n",
    "            beta_loss=\"kullback-leibler\", solver=\"mu\", n_components=i, init=\"nndsvd\"\n",
    "        )\n",
    "        nmf_decomp = nmf_fit.fit_transform(tb_imp_cat)\n",
    "        X_train, X_test, y_train, y_test = train_test_split(\n",
    "            nmf_decomp, train_tb_hotel_f[\"is_cancelled\"], test_size=0.2\n",
    "        )\n",
    "        log_nmf_fit = LogisticRegression()\n",
    "        log_nmf_fit.fit(X_train, y_train)\n",
    "        n_score = f1_score(y_test, log_nmf_fit.predict(X_test))\n",
    "        print(f\"N Comp.: {i} F1: {n_score}\")\n",
    "        f1_score_list.append(n_score)\n",
    "    best_n = np.argmax(np.array(f1_score_list))\n",
    "    print(f\"Best N: {best_n}\")\n",
    "    nmf_fit = NMF(\n",
    "        beta_loss=\"kullback-leibler\", solver=\"mu\", n_components=best_n, init=\"nndsvd\"\n",
    "    )\n",
    "    nmf_fit.fit(tb_imp_cat)\n",
    "    return ohe_fit, imp_var, nmf_fit\n",
    "\n",
    "\n",
    "def project_nmf(ohe_fit, imp_var, nmf_fit, hotel_data):\n",
    "    imp_cat = ohe_fit.transform(hotel_data[CAT_VAR_SET])\n",
    "    tb_imp_cat = pd.DataFrame.sparse.from_spmatrix(imp_cat)\n",
    "    tb_imp_cat.columns = ohe_fit.get_feature_names_out()\n",
    "    tb_imp_cat = tb_imp_cat[imp_var]\n",
    "    tb_nmf_fit = pd.DataFrame(\n",
    "        nmf_fit.transform(tb_imp_cat),\n",
    "        columns=[\"C\" + str(i) for i in range(nmf_fit.n_components_)],\n",
    "    )\n",
    "    final_data = pd.concat([hotel_data, tb_nmf_fit], axis=1)\n",
    "    return final_data\n"
   ]
  },
  {
   "cell_type": "code",
   "execution_count": 44,
   "metadata": {},
   "outputs": [
    {
     "name": "stderr",
     "output_type": "stream",
     "text": [
      "/Users/pedroteche/opt/anaconda3/lib/python3.9/site-packages/sklearn/decomposition/_nmf.py:1411: UserWarning: The multiplicative update ('mu') solver cannot update zeros present in the initialization, and so leads to poorer results when used jointly with init='nndsvd'. You may try init='nndsvda' or init='nndsvdar' instead.\n",
      "  warnings.warn(\n"
     ]
    },
    {
     "name": "stdout",
     "output_type": "stream",
     "text": [
      "N Comp.: 1 F1: 0.0\n"
     ]
    },
    {
     "name": "stderr",
     "output_type": "stream",
     "text": [
      "/Users/pedroteche/opt/anaconda3/lib/python3.9/site-packages/sklearn/decomposition/_nmf.py:1411: UserWarning: The multiplicative update ('mu') solver cannot update zeros present in the initialization, and so leads to poorer results when used jointly with init='nndsvd'. You may try init='nndsvda' or init='nndsvdar' instead.\n",
      "  warnings.warn(\n"
     ]
    },
    {
     "name": "stdout",
     "output_type": "stream",
     "text": [
      "N Comp.: 2 F1: 0.0\n"
     ]
    },
    {
     "name": "stderr",
     "output_type": "stream",
     "text": [
      "/Users/pedroteche/opt/anaconda3/lib/python3.9/site-packages/sklearn/decomposition/_nmf.py:1411: UserWarning: The multiplicative update ('mu') solver cannot update zeros present in the initialization, and so leads to poorer results when used jointly with init='nndsvd'. You may try init='nndsvda' or init='nndsvdar' instead.\n",
      "  warnings.warn(\n"
     ]
    },
    {
     "name": "stdout",
     "output_type": "stream",
     "text": [
      "N Comp.: 3 F1: 0.4718427778267383\n"
     ]
    },
    {
     "name": "stderr",
     "output_type": "stream",
     "text": [
      "/Users/pedroteche/opt/anaconda3/lib/python3.9/site-packages/sklearn/decomposition/_nmf.py:1411: UserWarning: The multiplicative update ('mu') solver cannot update zeros present in the initialization, and so leads to poorer results when used jointly with init='nndsvd'. You may try init='nndsvda' or init='nndsvdar' instead.\n",
      "  warnings.warn(\n"
     ]
    },
    {
     "name": "stdout",
     "output_type": "stream",
     "text": [
      "N Comp.: 4 F1: 0.5179454888908879\n"
     ]
    },
    {
     "name": "stderr",
     "output_type": "stream",
     "text": [
      "/Users/pedroteche/opt/anaconda3/lib/python3.9/site-packages/sklearn/decomposition/_nmf.py:1411: UserWarning: The multiplicative update ('mu') solver cannot update zeros present in the initialization, and so leads to poorer results when used jointly with init='nndsvd'. You may try init='nndsvda' or init='nndsvdar' instead.\n",
      "  warnings.warn(\n"
     ]
    },
    {
     "name": "stdout",
     "output_type": "stream",
     "text": [
      "N Comp.: 5 F1: 0.5292319826481316\n"
     ]
    },
    {
     "name": "stderr",
     "output_type": "stream",
     "text": [
      "/Users/pedroteche/opt/anaconda3/lib/python3.9/site-packages/sklearn/decomposition/_nmf.py:1411: UserWarning: The multiplicative update ('mu') solver cannot update zeros present in the initialization, and so leads to poorer results when used jointly with init='nndsvd'. You may try init='nndsvda' or init='nndsvdar' instead.\n",
      "  warnings.warn(\n"
     ]
    },
    {
     "name": "stdout",
     "output_type": "stream",
     "text": [
      "N Comp.: 6 F1: 0.5408410837040032\n"
     ]
    },
    {
     "name": "stderr",
     "output_type": "stream",
     "text": [
      "/Users/pedroteche/opt/anaconda3/lib/python3.9/site-packages/sklearn/decomposition/_nmf.py:1411: UserWarning: The multiplicative update ('mu') solver cannot update zeros present in the initialization, and so leads to poorer results when used jointly with init='nndsvd'. You may try init='nndsvda' or init='nndsvdar' instead.\n",
      "  warnings.warn(\n"
     ]
    },
    {
     "name": "stdout",
     "output_type": "stream",
     "text": [
      "N Comp.: 7 F1: 0.5503891847603442\n"
     ]
    },
    {
     "name": "stderr",
     "output_type": "stream",
     "text": [
      "/Users/pedroteche/opt/anaconda3/lib/python3.9/site-packages/sklearn/decomposition/_nmf.py:1411: UserWarning: The multiplicative update ('mu') solver cannot update zeros present in the initialization, and so leads to poorer results when used jointly with init='nndsvd'. You may try init='nndsvda' or init='nndsvdar' instead.\n",
      "  warnings.warn(\n"
     ]
    },
    {
     "name": "stdout",
     "output_type": "stream",
     "text": [
      "N Comp.: 8 F1: 0.5474278272194487\n"
     ]
    },
    {
     "name": "stderr",
     "output_type": "stream",
     "text": [
      "/Users/pedroteche/opt/anaconda3/lib/python3.9/site-packages/sklearn/decomposition/_nmf.py:1411: UserWarning: The multiplicative update ('mu') solver cannot update zeros present in the initialization, and so leads to poorer results when used jointly with init='nndsvd'. You may try init='nndsvda' or init='nndsvdar' instead.\n",
      "  warnings.warn(\n"
     ]
    },
    {
     "name": "stdout",
     "output_type": "stream",
     "text": [
      "N Comp.: 9 F1: 0.5339347079037801\n"
     ]
    },
    {
     "name": "stderr",
     "output_type": "stream",
     "text": [
      "/Users/pedroteche/opt/anaconda3/lib/python3.9/site-packages/sklearn/decomposition/_nmf.py:1411: UserWarning: The multiplicative update ('mu') solver cannot update zeros present in the initialization, and so leads to poorer results when used jointly with init='nndsvd'. You may try init='nndsvda' or init='nndsvdar' instead.\n",
      "  warnings.warn(\n"
     ]
    },
    {
     "name": "stdout",
     "output_type": "stream",
     "text": [
      "N Comp.: 10 F1: 0.5202952029520295\n"
     ]
    },
    {
     "name": "stderr",
     "output_type": "stream",
     "text": [
      "/Users/pedroteche/opt/anaconda3/lib/python3.9/site-packages/sklearn/decomposition/_nmf.py:1411: UserWarning: The multiplicative update ('mu') solver cannot update zeros present in the initialization, and so leads to poorer results when used jointly with init='nndsvd'. You may try init='nndsvda' or init='nndsvdar' instead.\n",
      "  warnings.warn(\n"
     ]
    },
    {
     "name": "stdout",
     "output_type": "stream",
     "text": [
      "N Comp.: 11 F1: 0.521030322791001\n"
     ]
    },
    {
     "name": "stderr",
     "output_type": "stream",
     "text": [
      "/Users/pedroteche/opt/anaconda3/lib/python3.9/site-packages/sklearn/decomposition/_nmf.py:1411: UserWarning: The multiplicative update ('mu') solver cannot update zeros present in the initialization, and so leads to poorer results when used jointly with init='nndsvd'. You may try init='nndsvda' or init='nndsvdar' instead.\n",
      "  warnings.warn(\n"
     ]
    },
    {
     "name": "stdout",
     "output_type": "stream",
     "text": [
      "N Comp.: 12 F1: 0.526837680534598\n"
     ]
    },
    {
     "name": "stderr",
     "output_type": "stream",
     "text": [
      "/Users/pedroteche/opt/anaconda3/lib/python3.9/site-packages/sklearn/decomposition/_nmf.py:1411: UserWarning: The multiplicative update ('mu') solver cannot update zeros present in the initialization, and so leads to poorer results when used jointly with init='nndsvd'. You may try init='nndsvda' or init='nndsvdar' instead.\n",
      "  warnings.warn(\n"
     ]
    },
    {
     "name": "stdout",
     "output_type": "stream",
     "text": [
      "N Comp.: 13 F1: 0.5224463240078074\n"
     ]
    },
    {
     "name": "stderr",
     "output_type": "stream",
     "text": [
      "/Users/pedroteche/opt/anaconda3/lib/python3.9/site-packages/sklearn/decomposition/_nmf.py:1411: UserWarning: The multiplicative update ('mu') solver cannot update zeros present in the initialization, and so leads to poorer results when used jointly with init='nndsvd'. You may try init='nndsvda' or init='nndsvdar' instead.\n",
      "  warnings.warn(\n"
     ]
    },
    {
     "name": "stdout",
     "output_type": "stream",
     "text": [
      "N Comp.: 14 F1: 0.5168933742869679\n"
     ]
    },
    {
     "name": "stderr",
     "output_type": "stream",
     "text": [
      "/Users/pedroteche/opt/anaconda3/lib/python3.9/site-packages/sklearn/decomposition/_nmf.py:1411: UserWarning: The multiplicative update ('mu') solver cannot update zeros present in the initialization, and so leads to poorer results when used jointly with init='nndsvd'. You may try init='nndsvda' or init='nndsvdar' instead.\n",
      "  warnings.warn(\n"
     ]
    },
    {
     "name": "stdout",
     "output_type": "stream",
     "text": [
      "N Comp.: 15 F1: 0.5581717451523546\n"
     ]
    },
    {
     "name": "stderr",
     "output_type": "stream",
     "text": [
      "/Users/pedroteche/opt/anaconda3/lib/python3.9/site-packages/sklearn/decomposition/_nmf.py:1411: UserWarning: The multiplicative update ('mu') solver cannot update zeros present in the initialization, and so leads to poorer results when used jointly with init='nndsvd'. You may try init='nndsvda' or init='nndsvdar' instead.\n",
      "  warnings.warn(\n"
     ]
    },
    {
     "name": "stdout",
     "output_type": "stream",
     "text": [
      "N Comp.: 16 F1: 0.5664267652207742\n"
     ]
    },
    {
     "name": "stderr",
     "output_type": "stream",
     "text": [
      "/Users/pedroteche/opt/anaconda3/lib/python3.9/site-packages/sklearn/decomposition/_nmf.py:1411: UserWarning: The multiplicative update ('mu') solver cannot update zeros present in the initialization, and so leads to poorer results when used jointly with init='nndsvd'. You may try init='nndsvda' or init='nndsvdar' instead.\n",
      "  warnings.warn(\n"
     ]
    },
    {
     "name": "stdout",
     "output_type": "stream",
     "text": [
      "N Comp.: 17 F1: 0.5567340404242545\n"
     ]
    },
    {
     "name": "stderr",
     "output_type": "stream",
     "text": [
      "/Users/pedroteche/opt/anaconda3/lib/python3.9/site-packages/sklearn/decomposition/_nmf.py:1411: UserWarning: The multiplicative update ('mu') solver cannot update zeros present in the initialization, and so leads to poorer results when used jointly with init='nndsvd'. You may try init='nndsvda' or init='nndsvdar' instead.\n",
      "  warnings.warn(\n"
     ]
    },
    {
     "name": "stdout",
     "output_type": "stream",
     "text": [
      "N Comp.: 18 F1: 0.5550163414875706\n"
     ]
    },
    {
     "name": "stderr",
     "output_type": "stream",
     "text": [
      "/Users/pedroteche/opt/anaconda3/lib/python3.9/site-packages/sklearn/decomposition/_nmf.py:1411: UserWarning: The multiplicative update ('mu') solver cannot update zeros present in the initialization, and so leads to poorer results when used jointly with init='nndsvd'. You may try init='nndsvda' or init='nndsvdar' instead.\n",
      "  warnings.warn(\n"
     ]
    },
    {
     "name": "stdout",
     "output_type": "stream",
     "text": [
      "N Comp.: 19 F1: 0.5729166666666666\n",
      "Best N: 18\n"
     ]
    },
    {
     "name": "stderr",
     "output_type": "stream",
     "text": [
      "/Users/pedroteche/opt/anaconda3/lib/python3.9/site-packages/sklearn/decomposition/_nmf.py:1411: UserWarning: The multiplicative update ('mu') solver cannot update zeros present in the initialization, and so leads to poorer results when used jointly with init='nndsvd'. You may try init='nndsvda' or init='nndsvdar' instead.\n",
      "  warnings.warn(\n"
     ]
    }
   ],
   "source": [
    "ohe_fit, imp_var, nmf_fit = estimate_nmf(train_tb_hotel_f)"
   ]
  },
  {
   "cell_type": "code",
   "execution_count": 45,
   "metadata": {},
   "outputs": [
    {
     "name": "stderr",
     "output_type": "stream",
     "text": [
      "/Users/pedroteche/opt/anaconda3/lib/python3.9/site-packages/sklearn/decomposition/_nmf.py:1411: UserWarning: The multiplicative update ('mu') solver cannot update zeros present in the initialization, and so leads to poorer results when used jointly with init='nndsvd'. You may try init='nndsvda' or init='nndsvdar' instead.\n",
      "  warnings.warn(\n",
      "/Users/pedroteche/opt/anaconda3/lib/python3.9/site-packages/sklearn/decomposition/_nmf.py:1411: UserWarning: The multiplicative update ('mu') solver cannot update zeros present in the initialization, and so leads to poorer results when used jointly with init='nndsvd'. You may try init='nndsvda' or init='nndsvdar' instead.\n",
      "  warnings.warn(\n"
     ]
    }
   ],
   "source": [
    "train_tb_hotel_fd = project_nmf(ohe_fit, imp_var, nmf_fit, train_tb_hotel_f)\n",
    "test_tb_hotel_fd = project_nmf(ohe_fit, imp_var, nmf_fit, test_tb_hotel_f)"
   ]
  },
  {
   "cell_type": "markdown",
   "metadata": {},
   "source": [
    "# Regressão logística II"
   ]
  },
  {
   "cell_type": "code",
   "execution_count": 168,
   "metadata": {},
   "outputs": [
    {
     "data": {
      "text/plain": [
       "LogisticRegression()"
      ]
     },
     "execution_count": 168,
     "metadata": {},
     "output_type": "execute_result"
    }
   ],
   "source": [
    "model_desc = \"is_cancelled ~ log_lead_time : reservation_type * is_company * high_season + C0 + C1 + C2 + C3 + C4 + C5 + C6 + C7 + C8 + C9 + C10 + C11 + C12 + C13 + C14 + C15 + C16 + C17\"\n",
    "y_train, X_train = patsy.dmatrices(\n",
    "    model_desc,\n",
    "    data=train_tb_hotel_fd,\n",
    ")\n",
    "y_test, X_test = patsy.dmatrices(\n",
    "    model_desc,\n",
    "    data=test_tb_hotel_fd,\n",
    ")\n",
    "scaler = StandardScaler()\n",
    "scaler.fit(X_train)\n",
    "log_fit = LogisticRegression()\n",
    "log_fit.fit(scaler.transform(X_train), y_train)\n"
   ]
  },
  {
   "cell_type": "code",
   "execution_count": 169,
   "metadata": {},
   "outputs": [
    {
     "name": "stdout",
     "output_type": "stream",
     "text": [
      "Precision: 0.7691465604063581\n",
      "Recall: 0.5581151499745806\n",
      "F1-Score: 0.6468541125780258\n"
     ]
    }
   ],
   "source": [
    "print(\n",
    "    f\"Precision: {precision_score(y_test, log_fit.predict(scaler.transform(X_test)))}\"\n",
    ")\n",
    "print(f\"Recall: {recall_score(y_test, log_fit.predict(scaler.transform(X_test)))}\")\n",
    "print(f\"F1-Score: {f1_score(y_test, log_fit.predict(scaler.transform(X_test)))}\")\n"
   ]
  },
  {
   "cell_type": "code",
   "execution_count": 170,
   "metadata": {},
   "outputs": [
    {
     "data": {
      "text/plain": [
       "Text(0.5, 1.0, 'Best Threshold: 0.32 w/ F-1: 0.69')"
      ]
     },
     "execution_count": 170,
     "metadata": {},
     "output_type": "execute_result"
    },
    {
     "data": {
      "image/png": "[encoded data removed]",
      "text/plain": [
       "<Figure size 432x288 with 1 Axes>"
      ]
     },
     "metadata": {
      "needs_background": "light"
     },
     "output_type": "display_data"
    }
   ],
   "source": [
    "threshold_list = np.linspace(0.05, 0.95, 200)\n",
    "test_proba = log_fit.predict_proba(scaler.transform(X_test))[:, -1]\n",
    "\n",
    "f1_list = []\n",
    "for threshold in threshold_list:\n",
    "    pred_label = np.where(test_proba < threshold, 0, 1)\n",
    "    f1 = f1_score(y_test, pred_label)\n",
    "    f1_list.append(f1)\n",
    "\n",
    "df_f1 = pd.DataFrame({\"threshold\": threshold_list, \"f1_score\": f1_list})\n",
    "df_f1[df_f1[\"f1_score\"] == max(df_f1[\"f1_score\"])]\n",
    "bt = df_f1[df_f1[\"f1_score\"] == max(df_f1[\"f1_score\"])][\"threshold\"].values[0]\n",
    "f1 = df_f1[df_f1[\"f1_score\"] == max(df_f1[\"f1_score\"])][\"f1_score\"].values[0]\n",
    "title = \"Best Threshold: \" + str(round(bt, 2)) + \" w/ F-1: \" + str(round(f1, 2))\n",
    "g = sns.lineplot(data=df_f1, x=\"threshold\", y=\"f1_score\")\n",
    "g.set_title(title)\n"
   ]
  },
  {
   "cell_type": "markdown",
   "metadata": {},
   "source": [
    "# 1NN v2"
   ]
  },
  {
   "cell_type": "code",
   "execution_count": 149,
   "metadata": {},
   "outputs": [
    {
     "name": "stdout",
     "output_type": "stream",
     "text": [
      "Precision: 0.7946799422629393\n",
      "Recall: 0.8571746314184037\n",
      "F1-Score: 0.8247451046332105\n"
     ]
    }
   ],
   "source": [
    "knn_fit = KNeighborsClassifier(n_neighbors=1)\n",
    "knn_fit.fit(scaler.transform(X_train), y_train)\n",
    "test_pred = knn_fit.predict(scaler.transform(X_test))\n",
    "print(f\"Precision: {precision_score(y_test, test_pred)}\")\n",
    "print(f\"Recall: {recall_score(y_test, test_pred)}\")\n",
    "print(f\"F1-Score: {f1_score(y_test, test_pred)}\")\n"
   ]
  },
  {
   "cell_type": "markdown",
   "metadata": {},
   "source": [
    "# Floresta Aleatória"
   ]
  },
  {
   "cell_type": "code",
   "execution_count": 175,
   "metadata": {},
   "outputs": [
    {
     "data": {
      "text/plain": [
       "RandomForestClassifier(class_weight='balanced', max_depth=20)"
      ]
     },
     "execution_count": 175,
     "metadata": {},
     "output_type": "execute_result"
    }
   ],
   "source": [
    "stump_fit = RandomForestClassifier(\n",
    "    n_estimators=100, max_depth=20, class_weight=\"balanced\"\n",
    ")\n",
    "stump_fit.fit(scaler.transform(X_train), y_train)\n"
   ]
  },
  {
   "cell_type": "code",
   "execution_count": 176,
   "metadata": {},
   "outputs": [
    {
     "name": "stdout",
     "output_type": "stream",
     "text": [
      "Precision: 0.7653444116858751\n",
      "Recall: 0.9073144382308084\n",
      "F1-Score: 0.8303044401151465\n"
     ]
    }
   ],
   "source": [
    "test_pred = stump_fit.predict(scaler.transform(X_test))\n",
    "print(f\"Precision: {precision_score(y_test, test_pred)}\")\n",
    "print(f\"Recall: {recall_score(y_test, test_pred)}\")\n",
    "print(f\"F1-Score: {f1_score(y_test, test_pred)}\")"
   ]
  },
  {
   "cell_type": "code",
   "execution_count": null,
   "metadata": {},
   "outputs": [],
   "source": []
  }
 ],
 "metadata": {
  "interpreter": {
   "hash": "014f4a4a5af8f0104b12c029e500f4146d6d785e8cf714d2a35b7a9514230cd3"
  },
  "kernelspec": {
   "display_name": "Python 3.9.11 ('base')",
   "language": "python",
   "name": "python3"
  },
  "language_info": {
   "codemirror_mode": {
    "name": "ipython",
    "version": 3
   },
   "file_extension": ".py",
   "mimetype": "text/x-python",
   "name": "python",
   "nbconvert_exporter": "python",
   "pygments_lexer": "ipython3",
   "version": "3.9.11"
  },
  "orig_nbformat": 4
 },
 "nbformat": 4,
 "nbformat_minor": 2
}
