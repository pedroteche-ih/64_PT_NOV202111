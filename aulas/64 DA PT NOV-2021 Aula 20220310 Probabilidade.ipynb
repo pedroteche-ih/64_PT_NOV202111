{
 "cells": [
  {
   "cell_type": "markdown",
   "id": "0326173d",
   "metadata": {
    "toc": true
   },
   "source": [
    "<h1>Table of Contents<span class=\"tocSkip\"></span></h1>\n",
    "<div class=\"toc\"><ul class=\"toc-item\"><li><span><a href=\"#Probabilidade\" data-toc-modified-id=\"Probabilidade-1\"><span class=\"toc-item-num\">1&nbsp;&nbsp;</span>Probabilidade</a></span><ul class=\"toc-item\"><li><span><a href=\"#Espaço-Amostral\" data-toc-modified-id=\"Espaço-Amostral-1.1\"><span class=\"toc-item-num\">1.1&nbsp;&nbsp;</span>Espaço Amostral</a></span></li><li><span><a href=\"#Amostragem\" data-toc-modified-id=\"Amostragem-1.2\"><span class=\"toc-item-num\">1.2&nbsp;&nbsp;</span>Amostragem</a></span></li><li><span><a href=\"#Amostra\" data-toc-modified-id=\"Amostra-1.3\"><span class=\"toc-item-num\">1.3&nbsp;&nbsp;</span>Amostra</a></span></li><li><span><a href=\"#Distribuições-de-Probabilidade\" data-toc-modified-id=\"Distribuições-de-Probabilidade-1.4\"><span class=\"toc-item-num\">1.4&nbsp;&nbsp;</span>Distribuições de Probabilidade</a></span><ul class=\"toc-item\"><li><span><a href=\"#Distribuição-de-Bernoulli\" data-toc-modified-id=\"Distribuição-de-Bernoulli-1.4.1\"><span class=\"toc-item-num\">1.4.1&nbsp;&nbsp;</span>Distribuição de Bernoulli</a></span></li><li><span><a href=\"#Distribuição-Binomial\" data-toc-modified-id=\"Distribuição-Binomial-1.4.2\"><span class=\"toc-item-num\">1.4.2&nbsp;&nbsp;</span>Distribuição Binomial</a></span></li><li><span><a href=\"#Distribuição-Geométrica\" data-toc-modified-id=\"Distribuição-Geométrica-1.4.3\"><span class=\"toc-item-num\">1.4.3&nbsp;&nbsp;</span>Distribuição Geométrica</a></span></li><li><span><a href=\"#Distribuição-de-Poisson\" data-toc-modified-id=\"Distribuição-de-Poisson-1.4.4\"><span class=\"toc-item-num\">1.4.4&nbsp;&nbsp;</span>Distribuição de Poisson</a></span></li><li><span><a href=\"#Distribuição-Exponencial\" data-toc-modified-id=\"Distribuição-Exponencial-1.4.5\"><span class=\"toc-item-num\">1.4.5&nbsp;&nbsp;</span>Distribuição Exponencial</a></span></li><li><span><a href=\"#Teorema-do-Limite-Central\" data-toc-modified-id=\"Teorema-do-Limite-Central-1.4.6\"><span class=\"toc-item-num\">1.4.6&nbsp;&nbsp;</span>Teorema do Limite Central</a></span></li></ul></li></ul></li><li><span><a href=\"#Intervalo-de-Confiaça-e-RMSE\" data-toc-modified-id=\"Intervalo-de-Confiaça-e-RMSE-2\"><span class=\"toc-item-num\">2&nbsp;&nbsp;</span>Intervalo de Confiaça e RMSE</a></span><ul class=\"toc-item\"><li><span><a href=\"#RMSE-e-Complexidade\" data-toc-modified-id=\"RMSE-e-Complexidade-2.1\"><span class=\"toc-item-num\">2.1&nbsp;&nbsp;</span>RMSE e Complexidade</a></span></li></ul></li></ul></div>"
   ]
  },
  {
   "cell_type": "markdown",
   "id": "18589366",
   "metadata": {},
   "source": [
    "# Probabilidade"
   ]
  },
  {
   "cell_type": "code",
   "execution_count": null,
   "id": "9bbd534b",
   "metadata": {
    "ExecuteTime": {
     "end_time": "2022-03-10T22:28:32.289318Z",
     "start_time": "2022-03-10T22:28:30.289529Z"
    }
   },
   "outputs": [],
   "source": [
    "import numpy as np\n",
    "import scipy as sp\n",
    "import pandas as pd\n",
    "import seaborn as sns\n",
    "import matplotlib.pyplot as plt\n",
    "from sklearn.linear_model import LinearRegression\n",
    "import statsmodels.api as sm"
   ]
  },
  {
   "cell_type": "markdown",
   "id": "5bccb58d",
   "metadata": {},
   "source": [
    "## Espaço Amostral"
   ]
  },
  {
   "cell_type": "markdown",
   "id": "a3004ba2",
   "metadata": {},
   "source": [
    "O conjunto de valores distintos que uma R.V. pode assumir"
   ]
  },
  {
   "cell_type": "code",
   "execution_count": null,
   "id": "ead06f29",
   "metadata": {
    "ExecuteTime": {
     "end_time": "2022-03-10T22:28:32.305185Z",
     "start_time": "2022-03-10T22:28:32.290223Z"
    }
   },
   "outputs": [],
   "source": [
    "moeda = ['cara', 'coroa']"
   ]
  },
  {
   "cell_type": "markdown",
   "id": "5436d93e",
   "metadata": {},
   "source": [
    "## Amostragem"
   ]
  },
  {
   "cell_type": "code",
   "execution_count": null,
   "id": "26d12bc5",
   "metadata": {
    "ExecuteTime": {
     "end_time": "2022-03-10T22:28:32.320299Z",
     "start_time": "2022-03-10T22:28:32.307178Z"
    }
   },
   "outputs": [],
   "source": [
    "def jogar_moeda_justa():\n",
    "    return np.random.choice(moeda)"
   ]
  },
  {
   "cell_type": "code",
   "execution_count": null,
   "id": "83347a1c",
   "metadata": {
    "ExecuteTime": {
     "end_time": "2022-03-10T22:28:32.431243Z",
     "start_time": "2022-03-10T22:28:32.411278Z"
    }
   },
   "outputs": [],
   "source": [
    "jogar_moeda_justa()"
   ]
  },
  {
   "cell_type": "code",
   "execution_count": null,
   "id": "9942ec6c",
   "metadata": {
    "ExecuteTime": {
     "end_time": "2022-03-10T22:28:32.633490Z",
     "start_time": "2022-03-10T22:28:32.622495Z"
    }
   },
   "outputs": [],
   "source": [
    "def jogar_moeda_injusta():\n",
    "    return np.random.choice(moeda, p = [0.1, 0.9])"
   ]
  },
  {
   "cell_type": "code",
   "execution_count": null,
   "id": "d0cbdb86",
   "metadata": {
    "ExecuteTime": {
     "end_time": "2022-03-10T22:28:32.835188Z",
     "start_time": "2022-03-10T22:28:32.816238Z"
    }
   },
   "outputs": [],
   "source": [
    "jogar_moeda_injusta()"
   ]
  },
  {
   "cell_type": "markdown",
   "id": "6e080910",
   "metadata": {},
   "source": [
    "## Amostra"
   ]
  },
  {
   "cell_type": "code",
   "execution_count": null,
   "id": "8b79083b",
   "metadata": {
    "ExecuteTime": {
     "end_time": "2022-03-10T22:28:33.116815Z",
     "start_time": "2022-03-10T22:28:33.111856Z"
    }
   },
   "outputs": [],
   "source": [
    "amostra_10 = [jogar_moeda_justa() for i in range(10)]"
   ]
  },
  {
   "cell_type": "code",
   "execution_count": null,
   "id": "86d8f9f5",
   "metadata": {
    "ExecuteTime": {
     "end_time": "2022-03-10T22:28:33.287294Z",
     "start_time": "2022-03-10T22:28:33.271306Z"
    }
   },
   "outputs": [],
   "source": [
    "amostra_10"
   ]
  },
  {
   "cell_type": "code",
   "execution_count": null,
   "id": "6564d8e4",
   "metadata": {
    "ExecuteTime": {
     "end_time": "2022-03-10T22:28:33.505205Z",
     "start_time": "2022-03-10T22:28:33.493263Z"
    }
   },
   "outputs": [],
   "source": [
    "from collections import Counter"
   ]
  },
  {
   "cell_type": "code",
   "execution_count": null,
   "id": "1bf0062b",
   "metadata": {
    "ExecuteTime": {
     "end_time": "2022-03-10T22:28:33.710268Z",
     "start_time": "2022-03-10T22:28:33.692317Z"
    }
   },
   "outputs": [],
   "source": [
    "Counter(amostra_10)"
   ]
  },
  {
   "cell_type": "markdown",
   "id": "077c87eb",
   "metadata": {},
   "source": [
    "## Distribuições de Probabilidade"
   ]
  },
  {
   "cell_type": "markdown",
   "id": "da22084f",
   "metadata": {},
   "source": [
    "### Distribuição de Bernoulli"
   ]
  },
  {
   "cell_type": "markdown",
   "id": "f72d2acd",
   "metadata": {},
   "source": [
    "Espaço amostral: Booleano"
   ]
  },
  {
   "cell_type": "markdown",
   "id": "8164e9e9",
   "metadata": {},
   "source": [
    "<img src=\"bernoulli.jpg\" alt=\"Drawing\" style=\"width: 200px;\"/>"
   ]
  },
  {
   "cell_type": "code",
   "execution_count": null,
   "id": "02b7979c",
   "metadata": {
    "ExecuteTime": {
     "end_time": "2022-03-10T22:28:35.584307Z",
     "start_time": "2022-03-10T22:28:35.566332Z"
    }
   },
   "outputs": [],
   "source": [
    "amostra_justa = [jogar_moeda_justa() for i in range(100)]\n",
    "amostra_injusta = [jogar_moeda_injusta() for i in range(100)]"
   ]
  },
  {
   "cell_type": "code",
   "execution_count": null,
   "id": "867c177d",
   "metadata": {
    "ExecuteTime": {
     "end_time": "2022-03-10T22:28:35.989897Z",
     "start_time": "2022-03-10T22:28:35.971918Z"
    }
   },
   "outputs": [],
   "source": [
    "Counter(amostra_justa)"
   ]
  },
  {
   "cell_type": "code",
   "execution_count": null,
   "id": "26ea2fc9",
   "metadata": {
    "ExecuteTime": {
     "end_time": "2022-03-10T22:28:36.373849Z",
     "start_time": "2022-03-10T22:28:36.342903Z"
    }
   },
   "outputs": [],
   "source": [
    "pd.DataFrame([Counter(amostra_justa)])/100"
   ]
  },
  {
   "cell_type": "code",
   "execution_count": null,
   "id": "64ae0fc0",
   "metadata": {
    "ExecuteTime": {
     "end_time": "2022-03-10T22:28:38.310808Z",
     "start_time": "2022-03-10T22:28:38.150209Z"
    }
   },
   "outputs": [],
   "source": [
    "sns.barplot(data = pd.DataFrame([Counter(amostra_justa)])/100)"
   ]
  },
  {
   "cell_type": "code",
   "execution_count": null,
   "id": "1d41ad63",
   "metadata": {
    "ExecuteTime": {
     "end_time": "2022-03-10T22:28:38.528256Z",
     "start_time": "2022-03-10T22:28:38.518254Z"
    }
   },
   "outputs": [],
   "source": [
    "Counter(amostra_injusta)"
   ]
  },
  {
   "cell_type": "code",
   "execution_count": null,
   "id": "ca2a797c",
   "metadata": {
    "ExecuteTime": {
     "end_time": "2022-03-10T22:28:39.226023Z",
     "start_time": "2022-03-10T22:28:39.131256Z"
    }
   },
   "outputs": [],
   "source": [
    "sns.barplot(data = pd.DataFrame([Counter(amostra_injusta)])/100)"
   ]
  },
  {
   "cell_type": "markdown",
   "id": "7c925586",
   "metadata": {},
   "source": [
    "### Distribuição Binomial"
   ]
  },
  {
   "cell_type": "markdown",
   "id": "0807afbc",
   "metadata": {},
   "source": [
    "Espaço amostral: Inteiros >= 0"
   ]
  },
  {
   "cell_type": "code",
   "execution_count": null,
   "id": "1c2c2946",
   "metadata": {
    "ExecuteTime": {
     "end_time": "2022-03-10T22:28:41.691013Z",
     "start_time": "2022-03-10T22:28:41.679015Z"
    }
   },
   "outputs": [],
   "source": [
    "def numero_coroa_justa(amostras):\n",
    "    amostra = [jogar_moeda_justa() for i in range(amostras)]\n",
    "    return Counter(amostra)['coroa']"
   ]
  },
  {
   "cell_type": "code",
   "execution_count": null,
   "id": "d4bd23ab",
   "metadata": {
    "ExecuteTime": {
     "end_time": "2022-03-10T22:28:42.450834Z",
     "start_time": "2022-03-10T22:28:42.434850Z"
    }
   },
   "outputs": [],
   "source": [
    "numero_coroa_justa(10)"
   ]
  },
  {
   "cell_type": "code",
   "execution_count": null,
   "id": "00b62760",
   "metadata": {
    "ExecuteTime": {
     "end_time": "2022-03-10T22:28:43.380798Z",
     "start_time": "2022-03-10T22:28:43.232261Z"
    }
   },
   "outputs": [],
   "source": [
    "amostra_binomial = [numero_coroa_justa(10) for i in range(1000)]"
   ]
  },
  {
   "cell_type": "code",
   "execution_count": null,
   "id": "8bc40fa8",
   "metadata": {
    "ExecuteTime": {
     "end_time": "2022-03-10T22:28:43.843371Z",
     "start_time": "2022-03-10T22:28:43.834394Z"
    }
   },
   "outputs": [],
   "source": [
    "amostra_binomial[0:6]"
   ]
  },
  {
   "cell_type": "code",
   "execution_count": null,
   "id": "26902a34",
   "metadata": {
    "ExecuteTime": {
     "end_time": "2022-03-10T22:28:44.586327Z",
     "start_time": "2022-03-10T22:28:44.569345Z"
    }
   },
   "outputs": [],
   "source": [
    "contagem_amostra = Counter(amostra_binomial)\n",
    "tb_binom = pd.DataFrame({\n",
    "    'num_coroas': contagem_amostra.keys(),\n",
    "    'num_eventos': contagem_amostra.values()\n",
    "})\n",
    "tb_binom['prob_medida'] = tb_binom['num_eventos']/sum(tb_binom['num_eventos'])\n",
    "tb_binom = tb_binom.sort_values('num_coroas')"
   ]
  },
  {
   "cell_type": "code",
   "execution_count": null,
   "id": "0de16c0f",
   "metadata": {
    "ExecuteTime": {
     "end_time": "2022-03-10T22:28:45.922954Z",
     "start_time": "2022-03-10T22:28:45.766372Z"
    }
   },
   "outputs": [],
   "source": [
    "sns.barplot(data = tb_binom, x = 'num_coroas', y = 'prob_medida', color='blue')"
   ]
  },
  {
   "cell_type": "code",
   "execution_count": null,
   "id": "f5d18317",
   "metadata": {
    "ExecuteTime": {
     "end_time": "2022-03-10T22:28:46.094369Z",
     "start_time": "2022-03-10T22:28:46.085365Z"
    }
   },
   "outputs": [],
   "source": [
    "dist_binomial = sp.stats.binom(10, 0.5)"
   ]
  },
  {
   "cell_type": "code",
   "execution_count": null,
   "id": "97385df7",
   "metadata": {
    "ExecuteTime": {
     "end_time": "2022-03-10T22:28:46.852436Z",
     "start_time": "2022-03-10T22:28:46.697857Z"
    }
   },
   "outputs": [],
   "source": [
    "x = np.arange(0,11)\n",
    "y = dist_binomial.pmf(x)\n",
    "sns.barplot(x= x, y=y, color='blue')"
   ]
  },
  {
   "cell_type": "markdown",
   "id": "570e9734",
   "metadata": {},
   "source": [
    "Podemos usar a pmf (probability mass function, ou função massa de probabilidade) para calcular a probabilidade de uma dada contagem de eventos positivos:"
   ]
  },
  {
   "cell_type": "code",
   "execution_count": null,
   "id": "5650d4f9",
   "metadata": {
    "ExecuteTime": {
     "end_time": "2022-03-10T22:28:48.836916Z",
     "start_time": "2022-03-10T22:28:48.829935Z"
    }
   },
   "outputs": [],
   "source": [
    "dist_binomial.pmf(5)"
   ]
  },
  {
   "cell_type": "code",
   "execution_count": null,
   "id": "ec3e493a",
   "metadata": {
    "ExecuteTime": {
     "end_time": "2022-03-10T22:28:49.425729Z",
     "start_time": "2022-03-10T22:28:49.418753Z"
    }
   },
   "outputs": [],
   "source": [
    "sum([dist_binomial.pmf(i) for i in [0, 1, 2]])"
   ]
  },
  {
   "cell_type": "markdown",
   "id": "df752522",
   "metadata": {},
   "source": [
    "e podemos usar a função distribuição acumulada, ou C.D.F. (cumulative distribution function) para calcular a probabilidade de até N eventos:"
   ]
  },
  {
   "cell_type": "code",
   "execution_count": null,
   "id": "839ed474",
   "metadata": {
    "ExecuteTime": {
     "end_time": "2022-03-10T22:28:51.422583Z",
     "start_time": "2022-03-10T22:28:51.410616Z"
    }
   },
   "outputs": [],
   "source": [
    "dist_binomial.cdf(2)"
   ]
  },
  {
   "cell_type": "code",
   "execution_count": null,
   "id": "c9298540",
   "metadata": {
    "ExecuteTime": {
     "end_time": "2022-03-10T22:28:51.745911Z",
     "start_time": "2022-03-10T22:28:51.582152Z"
    }
   },
   "outputs": [],
   "source": [
    "x = np.arange(0,11)\n",
    "y = 1-dist_binomial.cdf(x)\n",
    "sns.barplot(x= x, y=y, color='blue')"
   ]
  },
  {
   "cell_type": "code",
   "execution_count": null,
   "id": "5382dffd",
   "metadata": {
    "ExecuteTime": {
     "end_time": "2022-03-10T22:28:52.116190Z",
     "start_time": "2022-03-10T22:28:52.098211Z"
    }
   },
   "outputs": [],
   "source": [
    "tb_binom['prob_real'] = tb_binom['num_coroas'].apply(dist_binomial.pmf)"
   ]
  },
  {
   "cell_type": "code",
   "execution_count": null,
   "id": "b31351ba",
   "metadata": {
    "ExecuteTime": {
     "end_time": "2022-03-10T22:28:52.847389Z",
     "start_time": "2022-03-10T22:28:52.822431Z"
    }
   },
   "outputs": [],
   "source": [
    "tb_binom"
   ]
  },
  {
   "cell_type": "code",
   "execution_count": null,
   "id": "76bdbd46",
   "metadata": {
    "ExecuteTime": {
     "end_time": "2022-03-10T22:28:53.439852Z",
     "start_time": "2022-03-10T22:28:53.239388Z"
    }
   },
   "outputs": [],
   "source": [
    "sns.barplot(data = tb_binom, x = 'num_coroas', y = 'prob_medida', color='blue')\n",
    "sns.pointplot(data = tb_binom, x = 'num_coroas', y = 'prob_real', color = 'red')"
   ]
  },
  {
   "cell_type": "markdown",
   "id": "8f539cd6",
   "metadata": {},
   "source": [
    "### Distribuição Geométrica"
   ]
  },
  {
   "cell_type": "markdown",
   "id": "a35dfecb",
   "metadata": {},
   "source": [
    "Espaço amostral: Inteiros positivos (> 0)"
   ]
  },
  {
   "cell_type": "code",
   "execution_count": null,
   "id": "ef389f67",
   "metadata": {
    "ExecuteTime": {
     "end_time": "2022-03-10T22:28:55.953375Z",
     "start_time": "2022-03-10T22:28:55.949385Z"
    }
   },
   "outputs": [],
   "source": [
    "def primeira_coroa_justa():\n",
    "    i = 0\n",
    "    while True:\n",
    "        if jogar_moeda_justa() == 'coroa':\n",
    "            i += 1\n",
    "            return i\n",
    "        else:\n",
    "            i += 1"
   ]
  },
  {
   "cell_type": "code",
   "execution_count": null,
   "id": "a76eef08",
   "metadata": {
    "ExecuteTime": {
     "end_time": "2022-03-10T22:28:56.637580Z",
     "start_time": "2022-03-10T22:28:56.624586Z"
    }
   },
   "outputs": [],
   "source": [
    "primeira_coroa_justa()"
   ]
  },
  {
   "cell_type": "code",
   "execution_count": null,
   "id": "a456ae97",
   "metadata": {
    "ExecuteTime": {
     "end_time": "2022-03-10T22:28:57.148912Z",
     "start_time": "2022-03-10T22:28:57.104002Z"
    }
   },
   "outputs": [],
   "source": [
    "amostra_geo = [primeira_coroa_justa() for i in range(1000)]"
   ]
  },
  {
   "cell_type": "code",
   "execution_count": null,
   "id": "60e1c9fc",
   "metadata": {
    "ExecuteTime": {
     "end_time": "2022-03-10T22:28:57.757073Z",
     "start_time": "2022-03-10T22:28:57.741143Z"
    }
   },
   "outputs": [],
   "source": [
    "amostra_geo[1:10]"
   ]
  },
  {
   "cell_type": "code",
   "execution_count": null,
   "id": "5c2cbca2",
   "metadata": {
    "ExecuteTime": {
     "end_time": "2022-03-10T22:28:59.711527Z",
     "start_time": "2022-03-10T22:28:59.703522Z"
    }
   },
   "outputs": [],
   "source": [
    "contagem_amostra = Counter(amostra_geo)\n",
    "tb_geo = pd.DataFrame({\n",
    "    'num_primeira_coroa': contagem_amostra.keys(),\n",
    "    'num_eventos': contagem_amostra.values()\n",
    "})\n",
    "tb_geo = tb_geo.sort_values('num_primeira_coroa')"
   ]
  },
  {
   "cell_type": "code",
   "execution_count": null,
   "id": "a2e28fdc",
   "metadata": {
    "ExecuteTime": {
     "end_time": "2022-03-10T22:29:00.087763Z",
     "start_time": "2022-03-10T22:29:00.071778Z"
    }
   },
   "outputs": [],
   "source": [
    "tb_geo"
   ]
  },
  {
   "cell_type": "code",
   "execution_count": null,
   "id": "474a3086",
   "metadata": {
    "ExecuteTime": {
     "end_time": "2022-03-10T22:29:00.507479Z",
     "start_time": "2022-03-10T22:29:00.343810Z"
    }
   },
   "outputs": [],
   "source": [
    "sns.barplot(data = tb_geo, x = 'num_primeira_coroa', y = 'num_eventos', color = 'blue')"
   ]
  },
  {
   "cell_type": "code",
   "execution_count": null,
   "id": "44bf39e4",
   "metadata": {
    "ExecuteTime": {
     "end_time": "2022-03-10T22:29:03.047874Z",
     "start_time": "2022-03-10T22:29:03.035906Z"
    }
   },
   "outputs": [],
   "source": [
    "dist_geom = sp.stats.geom(0.5)"
   ]
  },
  {
   "cell_type": "code",
   "execution_count": null,
   "id": "386f83e0",
   "metadata": {
    "ExecuteTime": {
     "end_time": "2022-03-10T22:29:03.464778Z",
     "start_time": "2022-03-10T22:29:03.450792Z"
    }
   },
   "outputs": [],
   "source": [
    "tb_geo['prob_medida'] = tb_geo['num_eventos']/sum(tb_geo['num_eventos'])\n",
    "tb_geo['prob_real'] = tb_geo['num_primeira_coroa'].apply(dist_geom.pmf)"
   ]
  },
  {
   "cell_type": "code",
   "execution_count": null,
   "id": "542567de",
   "metadata": {
    "ExecuteTime": {
     "end_time": "2022-03-10T22:29:04.099706Z",
     "start_time": "2022-03-10T22:29:03.930132Z"
    }
   },
   "outputs": [],
   "source": [
    "sns.barplot(data = tb_geo, x = 'num_primeira_coroa', y = 'prob_medida', color = 'blue')\n",
    "sns.pointplot(data = tb_geo, x = 'num_primeira_coroa', y = 'prob_real', color = 'red')"
   ]
  },
  {
   "cell_type": "markdown",
   "id": "8d0ed8f3",
   "metadata": {},
   "source": [
    "### Distribuição de Poisson"
   ]
  },
  {
   "cell_type": "markdown",
   "id": "cfd1c0f5",
   "metadata": {},
   "source": [
    "<img src=\"poisson.jpg\" alt=\"Drawing\" style=\"width: 200px;\"/>"
   ]
  },
  {
   "cell_type": "code",
   "execution_count": null,
   "id": "9b8b1086",
   "metadata": {
    "ExecuteTime": {
     "end_time": "2022-03-10T22:29:07.616812Z",
     "start_time": "2022-03-10T22:29:07.605842Z"
    }
   },
   "outputs": [],
   "source": [
    "evento_raro = ['raro', 'comum']"
   ]
  },
  {
   "cell_type": "code",
   "execution_count": null,
   "id": "7ccb3d93",
   "metadata": {
    "ExecuteTime": {
     "end_time": "2022-03-10T22:29:08.050655Z",
     "start_time": "2022-03-10T22:29:08.034670Z"
    }
   },
   "outputs": [],
   "source": [
    "def simular_er():\n",
    "    p = 1/1e05\n",
    "    return np.random.choice(evento_raro, p = [p, 1-p])"
   ]
  },
  {
   "cell_type": "code",
   "execution_count": null,
   "id": "2a97ce49",
   "metadata": {
    "ExecuteTime": {
     "end_time": "2022-03-10T22:29:08.562681Z",
     "start_time": "2022-03-10T22:29:08.550693Z"
    }
   },
   "outputs": [],
   "source": [
    "def numero_eventos_raros(amostras):\n",
    "    amostra = [simular_er() for i in range(int(amostras))]\n",
    "    return Counter(amostra)['raro']"
   ]
  },
  {
   "cell_type": "code",
   "execution_count": null,
   "id": "e6039a06",
   "metadata": {
    "ExecuteTime": {
     "end_time": "2022-03-10T22:29:12.870143Z",
     "start_time": "2022-03-10T22:29:09.201954Z"
    }
   },
   "outputs": [],
   "source": [
    "numero_eventos_raros(2e05)"
   ]
  },
  {
   "cell_type": "code",
   "execution_count": null,
   "id": "fd9a5d93",
   "metadata": {
    "ExecuteTime": {
     "end_time": "2022-03-10T21:30:45.039353Z",
     "start_time": "2022-03-10T21:24:39.837134Z"
    }
   },
   "outputs": [],
   "source": [
    "amostra_poi = [numero_eventos_raros(2e05) for i in range(100)]"
   ]
  },
  {
   "cell_type": "code",
   "execution_count": null,
   "id": "79dfd93c",
   "metadata": {
    "ExecuteTime": {
     "end_time": "2022-03-10T21:30:45.055206Z",
     "start_time": "2022-03-10T21:30:45.040247Z"
    }
   },
   "outputs": [],
   "source": [
    "contagem_amostra = Counter(amostra_poi)\n",
    "tb_poisson = pd.DataFrame({\n",
    "    'num_raros': contagem_amostra.keys(),\n",
    "    'num_eventos': contagem_amostra.values()\n",
    "})\n",
    "tb_poisson = tb_poisson.sort_values('num_raros')"
   ]
  },
  {
   "cell_type": "code",
   "execution_count": null,
   "id": "5dd722dc",
   "metadata": {
    "ExecuteTime": {
     "end_time": "2022-03-10T21:30:45.195859Z",
     "start_time": "2022-03-10T21:30:45.058200Z"
    }
   },
   "outputs": [],
   "source": [
    "sns.barplot(data = tb_poisson, x = 'num_raros', y = 'num_eventos', color='blue')"
   ]
  },
  {
   "cell_type": "code",
   "execution_count": null,
   "id": "61f0c4b3",
   "metadata": {
    "ExecuteTime": {
     "end_time": "2022-03-10T21:30:45.210823Z",
     "start_time": "2022-03-10T21:30:45.197825Z"
    }
   },
   "outputs": [],
   "source": [
    "p = 1/1e05\n",
    "n = 2e05\n",
    "lamb = p * n\n",
    "dist_poisson = sp.stats.poisson(p*n)"
   ]
  },
  {
   "cell_type": "code",
   "execution_count": null,
   "id": "f672377b",
   "metadata": {
    "ExecuteTime": {
     "end_time": "2022-03-10T21:30:45.226775Z",
     "start_time": "2022-03-10T21:30:45.211789Z"
    }
   },
   "outputs": [],
   "source": [
    "tb_poisson['prob_medida'] = tb_poisson['num_eventos']/sum(tb_poisson['num_eventos'])\n",
    "tb_poisson['prob_real'] = tb_poisson['num_raros'].apply(dist_poisson.pmf)"
   ]
  },
  {
   "cell_type": "code",
   "execution_count": null,
   "id": "6767de20",
   "metadata": {
    "ExecuteTime": {
     "end_time": "2022-03-10T21:30:45.383383Z",
     "start_time": "2022-03-10T21:30:45.227769Z"
    }
   },
   "outputs": [],
   "source": [
    "sns.barplot(data = tb_poisson, x = 'num_raros', y = 'prob_medida', color='blue')\n",
    "sns.pointplot(data = tb_poisson, x = 'num_raros', y = 'prob_real', color='red')"
   ]
  },
  {
   "cell_type": "markdown",
   "id": "b338f3d8",
   "metadata": {},
   "source": [
    "### Distribuição Exponencial"
   ]
  },
  {
   "cell_type": "code",
   "execution_count": null,
   "id": "7ccfb456",
   "metadata": {
    "ExecuteTime": {
     "end_time": "2022-03-10T21:36:13.123732Z",
     "start_time": "2022-03-10T21:36:13.111764Z"
    }
   },
   "outputs": [],
   "source": [
    "dist_exp = sp.stats.expon(scale = 1/lamb)"
   ]
  },
  {
   "cell_type": "code",
   "execution_count": null,
   "id": "2c125fc5",
   "metadata": {
    "ExecuteTime": {
     "end_time": "2022-03-10T21:36:13.789152Z",
     "start_time": "2022-03-10T21:36:13.627570Z"
    }
   },
   "outputs": [],
   "source": [
    "x = np.linspace(0.01, 10, 1000)\n",
    "y = dist_exp.pdf(x)\n",
    "sns.lineplot(x = x, y = y, color='red')"
   ]
  },
  {
   "cell_type": "code",
   "execution_count": null,
   "id": "d4f6508b",
   "metadata": {
    "ExecuteTime": {
     "end_time": "2022-03-10T21:36:14.845454Z",
     "start_time": "2022-03-10T21:36:14.694830Z"
    }
   },
   "outputs": [],
   "source": [
    "x = np.linspace(0.01, 10, 1000)\n",
    "y = dist_exp.cdf(x)\n",
    "sns.lineplot(x = x, y = y, color='red')"
   ]
  },
  {
   "cell_type": "code",
   "execution_count": null,
   "id": "3581969d",
   "metadata": {
    "ExecuteTime": {
     "end_time": "2022-03-10T21:44:28.045347Z",
     "start_time": "2022-03-10T21:44:28.039375Z"
    }
   },
   "outputs": [],
   "source": [
    "amostra_exp = dist_exp.rvs(size=100)\n",
    "tb_expon = pd.DataFrame({'t' : amostra_exp})"
   ]
  },
  {
   "cell_type": "code",
   "execution_count": null,
   "id": "e40c2a9d",
   "metadata": {
    "ExecuteTime": {
     "end_time": "2022-03-10T21:36:16.172250Z",
     "start_time": "2022-03-10T21:36:16.167263Z"
    }
   },
   "outputs": [],
   "source": [
    "tb_expon['t_acumulado'] = tb_expon['t'].cumsum()"
   ]
  },
  {
   "cell_type": "code",
   "execution_count": null,
   "id": "a5c7b496",
   "metadata": {
    "ExecuteTime": {
     "end_time": "2022-03-10T21:36:16.835113Z",
     "start_time": "2022-03-10T21:36:16.818158Z"
    }
   },
   "outputs": [],
   "source": [
    "tb_expon"
   ]
  },
  {
   "cell_type": "code",
   "execution_count": null,
   "id": "34b67601",
   "metadata": {
    "ExecuteTime": {
     "end_time": "2022-03-10T21:36:19.128210Z",
     "start_time": "2022-03-10T21:36:19.123225Z"
    }
   },
   "outputs": [],
   "source": [
    "tb_expon['minuto'] = np.floor(tb_expon['t_acumulado'])"
   ]
  },
  {
   "cell_type": "code",
   "execution_count": null,
   "id": "d57cf458",
   "metadata": {
    "ExecuteTime": {
     "end_time": "2022-03-10T21:36:19.655364Z",
     "start_time": "2022-03-10T21:36:19.625455Z"
    }
   },
   "outputs": [],
   "source": [
    "tb_expon"
   ]
  },
  {
   "cell_type": "code",
   "execution_count": null,
   "id": "8da8c3bf",
   "metadata": {
    "ExecuteTime": {
     "end_time": "2022-03-10T21:36:20.475039Z",
     "start_time": "2022-03-10T21:36:20.460050Z"
    }
   },
   "outputs": [],
   "source": [
    "tb_num_eventos = pd.DataFrame({'minuto' : range(0, int(max(tb_expon['minuto']) + 1))})"
   ]
  },
  {
   "cell_type": "code",
   "execution_count": null,
   "id": "5404613a",
   "metadata": {
    "ExecuteTime": {
     "end_time": "2022-03-10T21:36:21.140431Z",
     "start_time": "2022-03-10T21:36:21.134448Z"
    }
   },
   "outputs": [],
   "source": [
    "n_eventos_minuto = tb_expon.groupby('minuto')['t'].count().reset_index()  "
   ]
  },
  {
   "cell_type": "code",
   "execution_count": null,
   "id": "2040f4c3",
   "metadata": {
    "ExecuteTime": {
     "end_time": "2022-03-10T21:41:03.800469Z",
     "start_time": "2022-03-10T21:41:03.789499Z"
    }
   },
   "outputs": [],
   "source": [
    "n_eventos_minuto.head()"
   ]
  },
  {
   "cell_type": "code",
   "execution_count": null,
   "id": "29259989",
   "metadata": {
    "ExecuteTime": {
     "end_time": "2022-03-10T21:38:25.443704Z",
     "start_time": "2022-03-10T21:38:25.435718Z"
    }
   },
   "outputs": [],
   "source": [
    "tb_nev_min = pd.merge(tb_num_eventos, n_eventos_minuto, how = 'left', on = 'minuto')\n",
    "tb_nev_min = tb_nev_min.fillna(0)\n",
    "tb_nev_min = tb_nev_min.rename({'t' : 'num_chegadas'}, axis = 1)"
   ]
  },
  {
   "cell_type": "code",
   "execution_count": null,
   "id": "de5f9280",
   "metadata": {
    "ExecuteTime": {
     "end_time": "2022-03-10T21:38:25.878266Z",
     "start_time": "2022-03-10T21:38:25.865269Z"
    }
   },
   "outputs": [],
   "source": [
    "tb_nev_min.head()"
   ]
  },
  {
   "cell_type": "code",
   "execution_count": null,
   "id": "b485c500",
   "metadata": {
    "ExecuteTime": {
     "end_time": "2022-03-10T21:41:49.650103Z",
     "start_time": "2022-03-10T21:41:49.628165Z"
    }
   },
   "outputs": [],
   "source": [
    "tb_poiss_pro = tb_nev_min.groupby('num_chegadas').sum().reset_index()\n",
    "tb_poiss_pro = tb_poiss_pro.rename({'minuto' : 'num_eventos'}, axis = 1)\n",
    "tb_poiss_pro['prob_real'] = tb_poiss_pro['num_chegadas'].apply(dist_poisson.pmf)\n",
    "tb_poiss_pro['prob_medida'] = tb_poiss_pro['num_eventos']/sum(tb_poiss_pro['num_eventos'])\n",
    "tb_poiss_pro"
   ]
  },
  {
   "cell_type": "code",
   "execution_count": null,
   "id": "1ac1a0ad",
   "metadata": {
    "ExecuteTime": {
     "end_time": "2022-03-10T21:42:15.064218Z",
     "start_time": "2022-03-10T21:42:14.927578Z"
    }
   },
   "outputs": [],
   "source": [
    "sns.barplot(data = tb_poiss_pro, x = 'num_chegadas', y = 'prob_medida', color = 'blue')\n",
    "sns.pointplot(data = tb_poiss_pro, x = 'num_chegadas', y = 'prob_real', color='red')"
   ]
  },
  {
   "cell_type": "markdown",
   "id": "9c5b6769",
   "metadata": {},
   "source": [
    "### Teorema do Limite Central"
   ]
  },
  {
   "cell_type": "code",
   "execution_count": null,
   "id": "a9d8bdde",
   "metadata": {
    "ExecuteTime": {
     "end_time": "2022-03-10T21:47:36.168732Z",
     "start_time": "2022-03-10T21:47:36.156758Z"
    }
   },
   "outputs": [],
   "source": [
    "amostra_binomial_array = np.array(amostra_binomial[0:99])\n",
    "amostra_binomial[0:5]"
   ]
  },
  {
   "cell_type": "code",
   "execution_count": null,
   "id": "af7c8f2a",
   "metadata": {
    "ExecuteTime": {
     "end_time": "2022-03-10T21:47:36.667423Z",
     "start_time": "2022-03-10T21:47:36.659416Z"
    }
   },
   "outputs": [],
   "source": [
    "amostra_geo_array = np.array(amostra_geo[0:99])\n",
    "amostra_geo[0:5]"
   ]
  },
  {
   "cell_type": "code",
   "execution_count": null,
   "id": "c6a83c62",
   "metadata": {
    "ExecuteTime": {
     "end_time": "2022-03-10T21:47:37.086699Z",
     "start_time": "2022-03-10T21:47:37.076725Z"
    }
   },
   "outputs": [],
   "source": [
    "amostra_poi_array = np.array(amostra_poi[0:99])\n",
    "amostra_poi[0:5]"
   ]
  },
  {
   "cell_type": "code",
   "execution_count": null,
   "id": "2de1ad1e",
   "metadata": {
    "ExecuteTime": {
     "end_time": "2022-03-10T21:47:37.579164Z",
     "start_time": "2022-03-10T21:47:37.568199Z"
    }
   },
   "outputs": [],
   "source": [
    "amostra_exp_array = np.array(amostra_exp[0:99])\n",
    "amostra_exp[0:5]"
   ]
  },
  {
   "cell_type": "code",
   "execution_count": null,
   "id": "72a509d2",
   "metadata": {
    "ExecuteTime": {
     "end_time": "2022-03-10T21:47:40.125108Z",
     "start_time": "2022-03-10T21:47:40.118098Z"
    }
   },
   "outputs": [],
   "source": [
    "def norm_array(arr):\n",
    "    mu_arr = np.mean(arr)\n",
    "    sd_arr = np.std(arr)\n",
    "    \n",
    "    return (arr - mu_arr)/sd_arr"
   ]
  },
  {
   "cell_type": "code",
   "execution_count": null,
   "id": "e43ea14c",
   "metadata": {
    "ExecuteTime": {
     "end_time": "2022-03-10T21:47:41.118987Z",
     "start_time": "2022-03-10T21:47:41.100021Z"
    }
   },
   "outputs": [],
   "source": [
    "amostra_binomial_norm = norm_array(amostra_binomial_array)\n",
    "amostra_geo_array = norm_array(amostra_geo_array)\n",
    "amostra_poi_array = norm_array(amostra_poi_array)\n",
    "amostra_exp_array = norm_array(amostra_exp_array)"
   ]
  },
  {
   "cell_type": "code",
   "execution_count": null,
   "id": "fa545b4d",
   "metadata": {
    "ExecuteTime": {
     "end_time": "2022-03-10T21:47:58.037657Z",
     "start_time": "2022-03-10T21:47:58.027656Z"
    }
   },
   "outputs": [],
   "source": [
    "amostra_norm = amostra_binomial_norm + amostra_geo_array + amostra_poi_array + amostra_exp_array"
   ]
  },
  {
   "cell_type": "code",
   "execution_count": null,
   "id": "655f849a",
   "metadata": {
    "ExecuteTime": {
     "end_time": "2022-03-10T22:21:59.061038Z",
     "start_time": "2022-03-10T22:21:59.042087Z"
    }
   },
   "outputs": [],
   "source": [
    "amostra_norm"
   ]
  },
  {
   "cell_type": "code",
   "execution_count": null,
   "id": "90124d02",
   "metadata": {
    "ExecuteTime": {
     "end_time": "2022-03-10T22:24:28.777115Z",
     "start_time": "2022-03-10T22:24:28.612532Z"
    }
   },
   "outputs": [],
   "source": [
    "dist_norm = sp.stats.norm(loc = np.mean(amostra_norm), scale = np.std(amostra_norm))\n",
    "random_sample = dist_norm.rvs(1000)\n",
    "sns.kdeplot(amostra_norm);\n",
    "sns.kdeplot(random_sample);"
   ]
  },
  {
   "cell_type": "markdown",
   "id": "855e03f2",
   "metadata": {},
   "source": [
    "# Intervalo de Confiaça e RMSE"
   ]
  },
  {
   "cell_type": "code",
   "execution_count": null,
   "id": "3ad3cace",
   "metadata": {
    "ExecuteTime": {
     "end_time": "2022-03-10T22:05:15.902180Z",
     "start_time": "2022-03-10T22:05:15.889187Z"
    }
   },
   "outputs": [],
   "source": [
    "candidatos = ['A', 'B']\n",
    "def intencao_voto():\n",
    "    return np.random.choice(candidatos, p = [0.45, 0.55])"
   ]
  },
  {
   "cell_type": "code",
   "execution_count": null,
   "id": "a18f365a",
   "metadata": {
    "ExecuteTime": {
     "end_time": "2022-03-10T22:05:16.242766Z",
     "start_time": "2022-03-10T22:05:16.231793Z"
    }
   },
   "outputs": [],
   "source": [
    "def pesquisa_opiniao(tamanho_amostra):\n",
    "    pesquisa = [intencao_voto() for i in range(100)]\n",
    "    c_pesq = Counter(pesquisa)\n",
    "    return c_pesq['A']/tamanho_amostra"
   ]
  },
  {
   "cell_type": "code",
   "execution_count": null,
   "id": "71694181",
   "metadata": {
    "ExecuteTime": {
     "end_time": "2022-03-10T22:05:16.583448Z",
     "start_time": "2022-03-10T22:05:16.564493Z"
    }
   },
   "outputs": [],
   "source": [
    "pesquisa_1 = pesquisa_opiniao(100)"
   ]
  },
  {
   "cell_type": "code",
   "execution_count": null,
   "id": "2214a10f",
   "metadata": {
    "ExecuteTime": {
     "end_time": "2022-03-10T22:06:04.825524Z",
     "start_time": "2022-03-10T22:06:03.040210Z"
    }
   },
   "outputs": [],
   "source": [
    "lista_pesquisas = [pesquisa_opiniao(100) for i in range(1000)]"
   ]
  },
  {
   "cell_type": "code",
   "execution_count": null,
   "id": "efe6d8d9",
   "metadata": {
    "ExecuteTime": {
     "end_time": "2022-03-10T22:06:20.758481Z",
     "start_time": "2022-03-10T22:06:20.629827Z"
    }
   },
   "outputs": [],
   "source": [
    "plt.hist(lista_pesquisas);"
   ]
  },
  {
   "cell_type": "code",
   "execution_count": null,
   "id": "c0cf69aa",
   "metadata": {
    "ExecuteTime": {
     "end_time": "2022-03-10T22:14:37.397004Z",
     "start_time": "2022-03-10T22:14:34.140737Z"
    }
   },
   "outputs": [],
   "source": [
    "tb_insu = pd.read_csv('data/tb_insurance.csv')\n",
    "tb_insu['out'] = np.where((tb_insu['expenses'] > 10000) & (tb_insu['smoker'] == 'no'),\n",
    "                          1, 0)\n",
    "tb_insu = tb_insu[tb_insu['out'] == 0].copy()\n",
    "tb_insu['obese'] = np.where(tb_insu['bmi'] >= 30, 'yes', 'no')\n",
    "tb_insu = tb_insu.join(pd.get_dummies(tb_insu['obese'], prefix = 'obese'))\n",
    "tb_insu = tb_insu.join(pd.get_dummies(tb_insu['smoker'], prefix = 'smoker'))\n",
    "tb_insu['obese_smoker'] = tb_insu['obese_yes'] * tb_insu['smoker_yes']\n",
    "tb_insu['bmi_smoker'] = tb_insu['bmi'] * tb_insu['smoker_yes']\n",
    "\n",
    "X = sm.add_constant(tb_insu[['obese_smoker', 'age', 'bmi_smoker', 'smoker_yes']])\n",
    "Y = tb_insu['expenses']\n",
    "modelo = sm.OLS(Y, X)\n",
    "lm_fit = modelo.fit()\n",
    "tb_insu['lm_pred'] = lm_fit.predict()\n",
    "sns.lineplot(data = tb_insu, x = 'age', y='lm_pred', hue = 'smoker', style = 'obese')\n",
    "sns.scatterplot(data = tb_insu, x = 'age', y='expenses', hue = 'smoker', style = 'obese')"
   ]
  },
  {
   "cell_type": "code",
   "execution_count": null,
   "id": "ad77962a",
   "metadata": {
    "ExecuteTime": {
     "end_time": "2022-03-10T22:15:15.100403Z",
     "start_time": "2022-03-10T22:15:15.079430Z"
    }
   },
   "outputs": [],
   "source": [
    "lm_fit.summary()\n"
   ]
  },
  {
   "cell_type": "code",
   "execution_count": null,
   "id": "af4b697b",
   "metadata": {
    "ExecuteTime": {
     "end_time": "2022-03-10T22:14:39.791584Z",
     "start_time": "2022-03-10T22:14:39.775626Z"
    }
   },
   "outputs": [],
   "source": [
    "tb_insu['resid'] = tb_insu['expenses'] - tb_insu['lm_pred']"
   ]
  },
  {
   "cell_type": "code",
   "execution_count": null,
   "id": "4fe2c4ad",
   "metadata": {
    "ExecuteTime": {
     "end_time": "2022-03-10T22:14:40.770971Z",
     "start_time": "2022-03-10T22:14:40.437834Z"
    }
   },
   "outputs": [],
   "source": [
    "sns.histplot(data = tb_insu, x = 'resid')"
   ]
  },
  {
   "cell_type": "code",
   "execution_count": null,
   "id": "678615d4",
   "metadata": {
    "ExecuteTime": {
     "end_time": "2022-03-10T22:16:44.513041Z",
     "start_time": "2022-03-10T22:16:44.499053Z"
    }
   },
   "outputs": [],
   "source": [
    "rmse = np.sqrt(np.mean(tb_insu['resid']**2))"
   ]
  },
  {
   "cell_type": "code",
   "execution_count": null,
   "id": "96b1ef3b",
   "metadata": {
    "ExecuteTime": {
     "end_time": "2022-03-10T22:16:48.614240Z",
     "start_time": "2022-03-10T22:16:48.597277Z"
    }
   },
   "outputs": [],
   "source": [
    "rmse"
   ]
  },
  {
   "cell_type": "code",
   "execution_count": null,
   "id": "1de06d03",
   "metadata": {
    "ExecuteTime": {
     "end_time": "2022-03-10T22:17:00.931451Z",
     "start_time": "2022-03-10T22:17:00.915465Z"
    }
   },
   "outputs": [],
   "source": [
    "np.std(tb_insu['resid'])"
   ]
  },
  {
   "cell_type": "code",
   "execution_count": null,
   "id": "3316221f",
   "metadata": {
    "ExecuteTime": {
     "end_time": "2022-03-10T22:26:40.207523Z",
     "start_time": "2022-03-10T22:26:39.991103Z"
    }
   },
   "outputs": [],
   "source": [
    "norm_rmse =  sp.stats.norm(loc = 0, scale = rmse)\n",
    "rand_rmse = norm_rmse.rvs(10000)\n",
    "sns.kdeplot(rand_rmse)"
   ]
  },
  {
   "cell_type": "code",
   "execution_count": null,
   "id": "7c4a5341",
   "metadata": {
    "ExecuteTime": {
     "end_time": "2022-03-10T22:27:31.551414Z",
     "start_time": "2022-03-10T22:27:31.536447Z"
    }
   },
   "outputs": [],
   "source": [
    "norm_rmse.ppf(0.95)"
   ]
  },
  {
   "cell_type": "markdown",
   "id": "d6b23b05",
   "metadata": {},
   "source": [
    "## RMSE e Complexidade"
   ]
  },
  {
   "cell_type": "code",
   "execution_count": null,
   "id": "2eb18e57",
   "metadata": {
    "ExecuteTime": {
     "end_time": "2022-03-10T19:40:09.140565Z",
     "start_time": "2022-03-10T19:40:09.123520Z"
    }
   },
   "outputs": [],
   "source": [
    "def simular_dado(min_x, max_X, \n",
    "                 desvpad_E, A, B,\n",
    "                 samples):\n",
    "    x = np.random.uniform(min_x, max_X, size = samples)\n",
    "    E = np.random.normal(loc = 0, scale = desvpad_E, size = samples)\n",
    "    y = B + A * x + E\n",
    "    return pd.DataFrame({'x' : x, 'y' : y})\n",
    "\n",
    "tb_simul = simular_dado(0, 10, 15, 10, 10, 100)"
   ]
  },
  {
   "cell_type": "code",
   "execution_count": null,
   "id": "b695e1d4",
   "metadata": {
    "ExecuteTime": {
     "end_time": "2022-03-10T19:40:09.804372Z",
     "start_time": "2022-03-10T19:40:09.638307Z"
    }
   },
   "outputs": [],
   "source": [
    "sns.scatterplot(data = tb_simul, x = 'x', y = 'y')"
   ]
  },
  {
   "cell_type": "code",
   "execution_count": null,
   "id": "59b414a4",
   "metadata": {
    "ExecuteTime": {
     "end_time": "2022-03-10T19:40:13.975733Z",
     "start_time": "2022-03-10T19:40:13.769286Z"
    }
   },
   "outputs": [],
   "source": [
    "modelo = LinearRegression()\n",
    "X = tb_simul[['x']]\n",
    "Y = tb_simul['y']\n",
    "modelo.fit(X, Y)\n",
    "\n",
    "tb_simul['pred'] = modelo.predict(X)\n",
    "tb_simul['erro_2'] = (tb_simul['pred'] - tb_simul['y'])**2\n",
    "rmse = np.sqrt(np.mean(tb_simul['erro_2']))\n",
    "sns.scatterplot(data = tb_simul, x = 'x', y = 'y');\n",
    "sns.lineplot(data = tb_simul, x = 'x', y = 'pred');\n",
    "plt.title(\"RMSE: \" + str(round(rmse, 2)));"
   ]
  },
  {
   "cell_type": "code",
   "execution_count": null,
   "id": "61e45ca2",
   "metadata": {
    "ExecuteTime": {
     "end_time": "2022-03-10T19:40:41.884647Z",
     "start_time": "2022-03-10T19:40:41.861686Z"
    }
   },
   "outputs": [],
   "source": [
    "modelo = LinearRegression()\n",
    "tb_simul['x_2'] = tb_simul['x'] ** 2\n",
    "tb_simul['x_3'] = tb_simul['x'] ** 3\n",
    "tb_simul.head()"
   ]
  },
  {
   "cell_type": "code",
   "execution_count": null,
   "id": "fed3d753",
   "metadata": {
    "ExecuteTime": {
     "end_time": "2022-03-10T19:40:51.241795Z",
     "start_time": "2022-03-10T19:40:51.024831Z"
    }
   },
   "outputs": [],
   "source": [
    "X = tb_simul[['x', 'x_2', 'x_3']]\n",
    "Y = tb_simul['y']\n",
    "modelo.fit(X, Y)\n",
    "\n",
    "tb_simul['pred'] = modelo.predict(X)\n",
    "tb_simul['erro_2'] = (tb_simul['pred'] - tb_simul['y'])**2\n",
    "rmse = np.sqrt(np.mean(tb_simul['erro_2']))\n",
    "sns.scatterplot(data = tb_simul, x = 'x', y = 'y');\n",
    "sns.lineplot(data = tb_simul, x = 'x', y = 'pred');\n",
    "plt.title(\"RMSE: \" + str(round(rmse, 2)));"
   ]
  },
  {
   "cell_type": "code",
   "execution_count": null,
   "id": "096463db",
   "metadata": {
    "ExecuteTime": {
     "end_time": "2022-03-10T19:41:02.764265Z",
     "start_time": "2022-03-10T19:41:02.741327Z"
    }
   },
   "outputs": [],
   "source": [
    "for i in range(4, 21):\n",
    "    tb_simul['x_' + str(i)] = tb_simul['x'] ** i"
   ]
  },
  {
   "cell_type": "code",
   "execution_count": null,
   "id": "0e1c2331",
   "metadata": {
    "ExecuteTime": {
     "end_time": "2022-03-10T19:41:04.096949Z",
     "start_time": "2022-03-10T19:41:04.061021Z"
    }
   },
   "outputs": [],
   "source": [
    "tb_simul.head()"
   ]
  },
  {
   "cell_type": "code",
   "execution_count": null,
   "id": "f657e343",
   "metadata": {
    "ExecuteTime": {
     "end_time": "2022-03-10T19:41:20.536349Z",
     "start_time": "2022-03-10T19:41:20.524381Z"
    }
   },
   "outputs": [],
   "source": [
    "def calcular_erro(dados, X_names, Y_name):\n",
    "    modelo = LinearRegression()\n",
    "    X = dados[X_names]\n",
    "    Y = dados[Y_name]\n",
    "    modelo.fit(X, Y)\n",
    "    \n",
    "    dados['pred'] = modelo.predict(X)\n",
    "    dados['erro_2'] = (dados['pred'] - dados[Y_name])**2\n",
    "    rmse = np.sqrt(np.mean(dados['erro_2']))\n",
    "    return round(rmse, 2)"
   ]
  },
  {
   "cell_type": "code",
   "execution_count": null,
   "id": "c47def24",
   "metadata": {
    "ExecuteTime": {
     "end_time": "2022-03-10T19:41:39.425545Z",
     "start_time": "2022-03-10T19:41:39.304868Z"
    }
   },
   "outputs": [],
   "source": [
    "print(\"Polinomio Grau:\" + str(1) + \" RMSE:\" + str(calcular_erro(tb_simul, ['x'], 'y')))\n",
    "for poly in range(2, 21):\n",
    "    var_x = ['x_' + str(i) for i in range(2, poly+1)] + ['x']\n",
    "    print(\"Polinomio Grau:\" + str(poly) + \" RMSE:\" + str(calcular_erro(tb_simul, var_x, 'y')))"
   ]
  },
  {
   "cell_type": "code",
   "execution_count": null,
   "id": "35c09c53",
   "metadata": {
    "ExecuteTime": {
     "end_time": "2022-03-10T19:42:04.111694Z",
     "start_time": "2022-03-10T19:42:03.894276Z"
    }
   },
   "outputs": [],
   "source": [
    "X = tb_simul[[\n",
    "    'x', 'x_2', 'x_3', 'x_4', 'x_5', 'x_6', 'x_7', 'x_8', 'x_9', 'x_10',\n",
    "    'x_11', 'x_12', 'x_13', 'x_14', 'x_15', 'x_16', 'x_17', 'x_18'\n",
    "]]\n",
    "Y = tb_simul['y']\n",
    "modelo.fit(X, Y)\n",
    "\n",
    "tb_simul['pred'] = modelo.predict(X)\n",
    "tb_simul['erro_2'] = (tb_simul['pred'] - tb_simul['y'])**2\n",
    "rmse = np.sqrt(np.mean(tb_simul['erro_2']))\n",
    "sns.scatterplot(data=tb_simul, x='x', y='y')\n",
    "sns.lineplot(data=tb_simul, x='x', y='pred')\n",
    "plt.title(\"RMSE: \" + str(round(rmse, 2)))"
   ]
  },
  {
   "cell_type": "code",
   "execution_count": null,
   "id": "c4b9331e",
   "metadata": {
    "ExecuteTime": {
     "end_time": "2022-03-10T19:42:32.240082Z",
     "start_time": "2022-03-10T19:42:32.235096Z"
    }
   },
   "outputs": [],
   "source": [
    "def calcular_erro_teste(dados, X_names, Y_name):\n",
    "    modelo = LinearRegression()\n",
    "    dados_train = dados[0:50].copy()\n",
    "    dados_teste = dados[50:].copy()\n",
    "    X = dados_train[X_names]\n",
    "    Y = dados_train[Y_name]\n",
    "    modelo.fit(X, Y)\n",
    "    \n",
    "    dados_teste['pred'] = modelo.predict(X)\n",
    "    dados_teste['erro_2'] = (dados_teste['pred'] - dados_teste[Y_name])**2\n",
    "    rmse = np.sqrt(np.mean(dados_teste['erro_2']))\n",
    "    return rmse"
   ]
  },
  {
   "cell_type": "code",
   "execution_count": null,
   "id": "8fbfbdf2",
   "metadata": {
    "ExecuteTime": {
     "end_time": "2022-03-10T19:42:33.703208Z",
     "start_time": "2022-03-10T19:42:33.570918Z"
    }
   },
   "outputs": [],
   "source": [
    "print(\"Polinomio Grau:\" + str(1) + \" RMSE:\" + str(calcular_erro(tb_simul, ['x'], 'y')))\n",
    "for poly in range(2, 21):\n",
    "    var_x = ['x_' + str(i) for i in range(2, poly+1)] + ['x']\n",
    "    print(\"Polinomio Grau:\" + str(poly) + \" RMSE:\" + str(calcular_erro_teste(tb_simul, var_x, 'y')))"
   ]
  },
  {
   "cell_type": "code",
   "execution_count": null,
   "id": "031e5e92",
   "metadata": {},
   "outputs": [],
   "source": []
  }
 ],
 "metadata": {
  "hide_input": false,
  "kernelspec": {
   "display_name": "Python 3",
   "language": "python",
   "name": "python3"
  },
  "language_info": {
   "codemirror_mode": {
    "name": "ipython",
    "version": 3
   },
   "file_extension": ".py",
   "mimetype": "text/x-python",
   "name": "python",
   "nbconvert_exporter": "python",
   "pygments_lexer": "ipython3",
   "version": "3.8.8"
  },
  "toc": {
   "base_numbering": 1,
   "nav_menu": {},
   "number_sections": true,
   "sideBar": true,
   "skip_h1_title": false,
   "title_cell": "Table of Contents",
   "title_sidebar": "Contents",
   "toc_cell": true,
   "toc_position": {
    "height": "calc(100% - 180px)",
    "left": "10px",
    "top": "150px",
    "width": "256px"
   },
   "toc_section_display": true,
   "toc_window_display": true
  }
 },
 "nbformat": 4,
 "nbformat_minor": 5
}
