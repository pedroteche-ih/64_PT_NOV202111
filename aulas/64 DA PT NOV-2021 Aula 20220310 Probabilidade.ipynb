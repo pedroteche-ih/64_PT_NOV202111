{
 "cells": [
  {
   "cell_type": "markdown",
   "id": "0326173d",
   "metadata": {
    "toc": true
   },
   "source": [
    "<h1>Table of Contents<span class=\"tocSkip\"></span></h1>\n",
    "<div class=\"toc\"><ul class=\"toc-item\"><li><span><a href=\"#Probabilidade\" data-toc-modified-id=\"Probabilidade-1\"><span class=\"toc-item-num\">1&nbsp;&nbsp;</span>Probabilidade</a></span><ul class=\"toc-item\"><li><span><a href=\"#Espaço-Amostral\" data-toc-modified-id=\"Espaço-Amostral-1.1\"><span class=\"toc-item-num\">1.1&nbsp;&nbsp;</span>Espaço Amostral</a></span></li><li><span><a href=\"#Amostragem\" data-toc-modified-id=\"Amostragem-1.2\"><span class=\"toc-item-num\">1.2&nbsp;&nbsp;</span>Amostragem</a></span></li><li><span><a href=\"#Amostra\" data-toc-modified-id=\"Amostra-1.3\"><span class=\"toc-item-num\">1.3&nbsp;&nbsp;</span>Amostra</a></span></li><li><span><a href=\"#Distribuições-de-Probabilidade\" data-toc-modified-id=\"Distribuições-de-Probabilidade-1.4\"><span class=\"toc-item-num\">1.4&nbsp;&nbsp;</span>Distribuições de Probabilidade</a></span><ul class=\"toc-item\"><li><span><a href=\"#Distribuição-de-Bernoulli\" data-toc-modified-id=\"Distribuição-de-Bernoulli-1.4.1\"><span class=\"toc-item-num\">1.4.1&nbsp;&nbsp;</span>Distribuição de Bernoulli</a></span></li><li><span><a href=\"#Distribuição-Binomial\" data-toc-modified-id=\"Distribuição-Binomial-1.4.2\"><span class=\"toc-item-num\">1.4.2&nbsp;&nbsp;</span>Distribuição Binomial</a></span></li><li><span><a href=\"#Distribuição-Geométrica\" data-toc-modified-id=\"Distribuição-Geométrica-1.4.3\"><span class=\"toc-item-num\">1.4.3&nbsp;&nbsp;</span>Distribuição Geométrica</a></span></li><li><span><a href=\"#Distribuição-de-Poisson\" data-toc-modified-id=\"Distribuição-de-Poisson-1.4.4\"><span class=\"toc-item-num\">1.4.4&nbsp;&nbsp;</span>Distribuição de Poisson</a></span></li><li><span><a href=\"#Distribuição-Exponencial\" data-toc-modified-id=\"Distribuição-Exponencial-1.4.5\"><span class=\"toc-item-num\">1.4.5&nbsp;&nbsp;</span>Distribuição Exponencial</a></span></li><li><span><a href=\"#Teorema-do-Limite-Central\" data-toc-modified-id=\"Teorema-do-Limite-Central-1.4.6\"><span class=\"toc-item-num\">1.4.6&nbsp;&nbsp;</span>Teorema do Limite Central</a></span></li></ul></li></ul></li><li><span><a href=\"#Intervalo-de-Confiaça-e-RMSE\" data-toc-modified-id=\"Intervalo-de-Confiaça-e-RMSE-2\"><span class=\"toc-item-num\">2&nbsp;&nbsp;</span>Intervalo de Confiaça e RMSE</a></span><ul class=\"toc-item\"><li><span><a href=\"#RMSE-e-Complexidade\" data-toc-modified-id=\"RMSE-e-Complexidade-2.1\"><span class=\"toc-item-num\">2.1&nbsp;&nbsp;</span>RMSE e Complexidade</a></span></li></ul></li></ul></div>"
   ]
  },
  {
   "cell_type": "markdown",
   "id": "18589366",
   "metadata": {},
   "source": [
    "# Probabilidade"
   ]
  },
  {
   "cell_type": "code",
   "execution_count": 8,
   "id": "9bbd534b",
   "metadata": {
    "ExecuteTime": {
     "end_time": "2022-03-11T00:33:42.171820Z",
     "start_time": "2022-03-11T00:33:42.160867Z"
    }
   },
   "outputs": [],
   "source": [
    "import numpy as np\n",
    "import scipy as sp\n",
    "import pandas as pd\n",
    "import seaborn as sns\n",
    "import matplotlib.pyplot as plt\n",
    "from sklearn.linear_model import LinearRegression\n",
    "import statsmodels.api as sm\n",
    "from collections import Counter"
   ]
  },
  {
   "cell_type": "markdown",
   "id": "5bccb58d",
   "metadata": {},
   "source": [
    "## Espaço Amostral"
   ]
  },
  {
   "cell_type": "markdown",
   "id": "a3004ba2",
   "metadata": {},
   "source": [
    "O conjunto de valores distintos que uma R.V. pode assumir"
   ]
  },
  {
   "cell_type": "code",
   "execution_count": 2,
   "id": "ead06f29",
   "metadata": {
    "ExecuteTime": {
     "end_time": "2022-03-10T22:41:12.131999Z",
     "start_time": "2022-03-10T22:41:12.123998Z"
    }
   },
   "outputs": [],
   "source": [
    "moeda = ['cara', 'coroa']"
   ]
  },
  {
   "cell_type": "markdown",
   "id": "5436d93e",
   "metadata": {},
   "source": [
    "## Amostragem"
   ]
  },
  {
   "cell_type": "code",
   "execution_count": 3,
   "id": "26d12bc5",
   "metadata": {
    "ExecuteTime": {
     "end_time": "2022-03-10T22:42:21.333929Z",
     "start_time": "2022-03-10T22:42:21.320961Z"
    }
   },
   "outputs": [],
   "source": [
    "def jogar_moeda_justa():\n",
    "    return np.random.choice(moeda)"
   ]
  },
  {
   "cell_type": "code",
   "execution_count": 18,
   "id": "83347a1c",
   "metadata": {
    "ExecuteTime": {
     "end_time": "2022-03-10T22:42:29.971373Z",
     "start_time": "2022-03-10T22:42:29.951426Z"
    }
   },
   "outputs": [
    {
     "data": {
      "text/plain": [
       "'cara'"
      ]
     },
     "execution_count": 18,
     "metadata": {},
     "output_type": "execute_result"
    }
   ],
   "source": [
    "jogar_moeda_justa()"
   ]
  },
  {
   "cell_type": "code",
   "execution_count": 24,
   "id": "9942ec6c",
   "metadata": {
    "ExecuteTime": {
     "end_time": "2022-03-10T22:43:50.393011Z",
     "start_time": "2022-03-10T22:43:50.390018Z"
    }
   },
   "outputs": [],
   "source": [
    "def jogar_moeda_injusta():\n",
    "    return np.random.choice(moeda, p = [0.1, 0.9])"
   ]
  },
  {
   "cell_type": "code",
   "execution_count": 41,
   "id": "d0cbdb86",
   "metadata": {
    "ExecuteTime": {
     "end_time": "2022-03-10T22:43:59.783148Z",
     "start_time": "2022-03-10T22:43:59.772179Z"
    }
   },
   "outputs": [
    {
     "data": {
      "text/plain": [
       "'cara'"
      ]
     },
     "execution_count": 41,
     "metadata": {},
     "output_type": "execute_result"
    }
   ],
   "source": [
    "jogar_moeda_injusta()"
   ]
  },
  {
   "cell_type": "markdown",
   "id": "6e080910",
   "metadata": {},
   "source": [
    "## Amostra"
   ]
  },
  {
   "cell_type": "code",
   "execution_count": 48,
   "id": "8b79083b",
   "metadata": {
    "ExecuteTime": {
     "end_time": "2022-03-10T22:45:49.006880Z",
     "start_time": "2022-03-10T22:45:48.985937Z"
    }
   },
   "outputs": [],
   "source": [
    "amostra_100 = [jogar_moeda_injusta() for i in range(100)]"
   ]
  },
  {
   "cell_type": "code",
   "execution_count": 49,
   "id": "86d8f9f5",
   "metadata": {
    "ExecuteTime": {
     "end_time": "2022-03-10T22:45:53.432948Z",
     "start_time": "2022-03-10T22:45:53.419986Z"
    }
   },
   "outputs": [
    {
     "data": {
      "text/plain": [
       "['coroa', 'coroa', 'coroa', 'coroa', 'coroa']"
      ]
     },
     "execution_count": 49,
     "metadata": {},
     "output_type": "execute_result"
    }
   ],
   "source": [
    "amostra_100[0:5]"
   ]
  },
  {
   "cell_type": "code",
   "execution_count": 50,
   "id": "6564d8e4",
   "metadata": {
    "ExecuteTime": {
     "end_time": "2022-03-10T22:45:57.227886Z",
     "start_time": "2022-03-10T22:45:57.209912Z"
    }
   },
   "outputs": [],
   "source": [
    "from collections import Counter"
   ]
  },
  {
   "cell_type": "code",
   "execution_count": 52,
   "id": "1bf0062b",
   "metadata": {
    "ExecuteTime": {
     "end_time": "2022-03-10T22:46:01.448612Z",
     "start_time": "2022-03-10T22:46:01.442636Z"
    }
   },
   "outputs": [
    {
     "data": {
      "text/plain": [
       "Counter({'coroa': 93, 'cara': 7})"
      ]
     },
     "execution_count": 52,
     "metadata": {},
     "output_type": "execute_result"
    }
   ],
   "source": [
    "Counter(amostra_100)"
   ]
  },
  {
   "cell_type": "markdown",
   "id": "077c87eb",
   "metadata": {},
   "source": [
    "## Distribuições de Probabilidade"
   ]
  },
  {
   "cell_type": "markdown",
   "id": "da22084f",
   "metadata": {},
   "source": [
    "### Distribuição de Bernoulli"
   ]
  },
  {
   "cell_type": "markdown",
   "id": "f72d2acd",
   "metadata": {},
   "source": [
    "Espaço amostral: Booleano"
   ]
  },
  {
   "cell_type": "markdown",
   "id": "8164e9e9",
   "metadata": {},
   "source": [
    "<img src=\"bernoulli.jpg\" alt=\"Drawing\" style=\"width: 200px;\"/>"
   ]
  },
  {
   "cell_type": "code",
   "execution_count": 66,
   "id": "02b7979c",
   "metadata": {
    "ExecuteTime": {
     "end_time": "2022-03-10T22:48:08.159798Z",
     "start_time": "2022-03-10T22:48:07.988275Z"
    }
   },
   "outputs": [],
   "source": [
    "amostra_justa = [jogar_moeda_justa() for i in range(10000)]\n",
    "amostra_injusta = [jogar_moeda_injusta() for i in range(100)]"
   ]
  },
  {
   "cell_type": "code",
   "execution_count": 67,
   "id": "867c177d",
   "metadata": {
    "ExecuteTime": {
     "end_time": "2022-03-10T22:48:08.331336Z",
     "start_time": "2022-03-10T22:48:08.322381Z"
    }
   },
   "outputs": [
    {
     "data": {
      "text/plain": [
       "Counter({'coroa': 4958, 'cara': 5042})"
      ]
     },
     "execution_count": 67,
     "metadata": {},
     "output_type": "execute_result"
    }
   ],
   "source": [
    "Counter(amostra_justa)"
   ]
  },
  {
   "cell_type": "code",
   "execution_count": 68,
   "id": "26ea2fc9",
   "metadata": {
    "ExecuteTime": {
     "end_time": "2022-03-10T22:48:08.690570Z",
     "start_time": "2022-03-10T22:48:08.674581Z"
    }
   },
   "outputs": [
    {
     "data": {
      "text/html": [
       "<div>\n",
       "<style scoped>\n",
       "    .dataframe tbody tr th:only-of-type {\n",
       "        vertical-align: middle;\n",
       "    }\n",
       "\n",
       "    .dataframe tbody tr th {\n",
       "        vertical-align: top;\n",
       "    }\n",
       "\n",
       "    .dataframe thead th {\n",
       "        text-align: right;\n",
       "    }\n",
       "</style>\n",
       "<table border=\"1\" class=\"dataframe\">\n",
       "  <thead>\n",
       "    <tr style=\"text-align: right;\">\n",
       "      <th></th>\n",
       "      <th>coroa</th>\n",
       "      <th>cara</th>\n",
       "    </tr>\n",
       "  </thead>\n",
       "  <tbody>\n",
       "    <tr>\n",
       "      <th>0</th>\n",
       "      <td>0.4958</td>\n",
       "      <td>0.5042</td>\n",
       "    </tr>\n",
       "  </tbody>\n",
       "</table>\n",
       "</div>"
      ],
      "text/plain": [
       "    coroa    cara\n",
       "0  0.4958  0.5042"
      ]
     },
     "execution_count": 68,
     "metadata": {},
     "output_type": "execute_result"
    }
   ],
   "source": [
    "pd.DataFrame([Counter(amostra_justa)])/10000"
   ]
  },
  {
   "cell_type": "code",
   "execution_count": 70,
   "id": "64ae0fc0",
   "metadata": {
    "ExecuteTime": {
     "end_time": "2022-03-10T22:48:33.454281Z",
     "start_time": "2022-03-10T22:48:33.326936Z"
    }
   },
   "outputs": [
    {
     "data": {
      "text/plain": [
       "<AxesSubplot:>"
      ]
     },
     "execution_count": 70,
     "metadata": {},
     "output_type": "execute_result"
    },
    {
     "data": {
      "image/png": "[encoded data removed]",
      "text/plain": [
       "<Figure size 432x288 with 1 Axes>"
      ]
     },
     "metadata": {
      "needs_background": "light"
     },
     "output_type": "display_data"
    }
   ],
   "source": [
    "sns.barplot(data = pd.DataFrame([Counter(amostra_justa)])/10000)"
   ]
  },
  {
   "cell_type": "code",
   "execution_count": 71,
   "id": "1d41ad63",
   "metadata": {
    "ExecuteTime": {
     "end_time": "2022-03-10T22:49:05.165781Z",
     "start_time": "2022-03-10T22:49:05.160796Z"
    }
   },
   "outputs": [
    {
     "data": {
      "text/plain": [
       "Counter({'coroa': 94, 'cara': 6})"
      ]
     },
     "execution_count": 71,
     "metadata": {},
     "output_type": "execute_result"
    }
   ],
   "source": [
    "Counter(amostra_injusta)"
   ]
  },
  {
   "cell_type": "code",
   "execution_count": 72,
   "id": "ca2a797c",
   "metadata": {
    "ExecuteTime": {
     "end_time": "2022-03-10T22:49:12.754501Z",
     "start_time": "2022-03-10T22:49:12.629807Z"
    }
   },
   "outputs": [
    {
     "data": {
      "text/plain": [
       "<AxesSubplot:>"
      ]
     },
     "execution_count": 72,
     "metadata": {},
     "output_type": "execute_result"
    },
    {
     "data": {
      "image/png": "[encoded data removed]",
      "text/plain": [
       "<Figure size 432x288 with 1 Axes>"
      ]
     },
     "metadata": {
      "needs_background": "light"
     },
     "output_type": "display_data"
    }
   ],
   "source": [
    "sns.barplot(data = pd.DataFrame([Counter(amostra_injusta)])/100)"
   ]
  },
  {
   "cell_type": "markdown",
   "id": "7c925586",
   "metadata": {},
   "source": [
    "### Distribuição Binomial"
   ]
  },
  {
   "cell_type": "markdown",
   "id": "0807afbc",
   "metadata": {},
   "source": [
    "Espaço amostral: Inteiros >= 0"
   ]
  },
  {
   "cell_type": "code",
   "execution_count": 73,
   "id": "1c2c2946",
   "metadata": {
    "ExecuteTime": {
     "end_time": "2022-03-10T22:51:20.315674Z",
     "start_time": "2022-03-10T22:51:20.309739Z"
    }
   },
   "outputs": [],
   "source": [
    "def numero_coroa_justa(amostras):\n",
    "    amostra = [jogar_moeda_justa() for i in range(amostras)]\n",
    "    return Counter(amostra)['coroa']"
   ]
  },
  {
   "cell_type": "code",
   "execution_count": 80,
   "id": "d4bd23ab",
   "metadata": {
    "ExecuteTime": {
     "end_time": "2022-03-10T22:52:06.791031Z",
     "start_time": "2022-03-10T22:52:06.780048Z"
    }
   },
   "outputs": [
    {
     "data": {
      "text/plain": [
       "4"
      ]
     },
     "execution_count": 80,
     "metadata": {},
     "output_type": "execute_result"
    }
   ],
   "source": [
    "numero_coroa_justa(10)"
   ]
  },
  {
   "cell_type": "code",
   "execution_count": 98,
   "id": "00b62760",
   "metadata": {
    "ExecuteTime": {
     "end_time": "2022-03-10T23:01:51.140250Z",
     "start_time": "2022-03-10T23:01:49.607772Z"
    }
   },
   "outputs": [],
   "source": [
    "amostra_binomial = [numero_coroa_justa(10) for i in range(10000)]"
   ]
  },
  {
   "cell_type": "code",
   "execution_count": 99,
   "id": "8bc40fa8",
   "metadata": {
    "ExecuteTime": {
     "end_time": "2022-03-10T23:01:52.518068Z",
     "start_time": "2022-03-10T23:01:52.514078Z"
    }
   },
   "outputs": [
    {
     "data": {
      "text/plain": [
       "[8, 5, 5, 6, 4, 5]"
      ]
     },
     "execution_count": 99,
     "metadata": {},
     "output_type": "execute_result"
    }
   ],
   "source": [
    "amostra_binomial[0:6]"
   ]
  },
  {
   "cell_type": "code",
   "execution_count": 100,
   "id": "85ce3235",
   "metadata": {
    "ExecuteTime": {
     "end_time": "2022-03-10T23:01:53.107676Z",
     "start_time": "2022-03-10T23:01:53.101692Z"
    }
   },
   "outputs": [
    {
     "data": {
      "text/plain": [
       "Counter({8: 429,\n",
       "         5: 2412,\n",
       "         6: 2131,\n",
       "         4: 2048,\n",
       "         3: 1148,\n",
       "         7: 1179,\n",
       "         2: 435,\n",
       "         1: 107,\n",
       "         9: 91,\n",
       "         10: 11,\n",
       "         0: 9})"
      ]
     },
     "execution_count": 100,
     "metadata": {},
     "output_type": "execute_result"
    }
   ],
   "source": [
    "contagem_amostra = Counter(amostra_binomial)\n",
    "contagem_amostra"
   ]
  },
  {
   "cell_type": "code",
   "execution_count": 101,
   "id": "26902a34",
   "metadata": {
    "ExecuteTime": {
     "end_time": "2022-03-10T23:01:53.652762Z",
     "start_time": "2022-03-10T23:01:53.642758Z"
    }
   },
   "outputs": [],
   "source": [
    "contagem_amostra = Counter(amostra_binomial)\n",
    "tb_binom = pd.DataFrame({\n",
    "    'num_coroas': contagem_amostra.keys(),\n",
    "    'num_eventos': contagem_amostra.values()\n",
    "})\n",
    "tb_binom['prob_medida'] = tb_binom['num_eventos']/sum(tb_binom['num_eventos'])\n",
    "tb_binom = tb_binom.sort_values('num_coroas')"
   ]
  },
  {
   "cell_type": "code",
   "execution_count": 102,
   "id": "6d192026",
   "metadata": {
    "ExecuteTime": {
     "end_time": "2022-03-10T23:01:54.846484Z",
     "start_time": "2022-03-10T23:01:54.838496Z"
    }
   },
   "outputs": [
    {
     "data": {
      "text/html": [
       "<div>\n",
       "<style scoped>\n",
       "    .dataframe tbody tr th:only-of-type {\n",
       "        vertical-align: middle;\n",
       "    }\n",
       "\n",
       "    .dataframe tbody tr th {\n",
       "        vertical-align: top;\n",
       "    }\n",
       "\n",
       "    .dataframe thead th {\n",
       "        text-align: right;\n",
       "    }\n",
       "</style>\n",
       "<table border=\"1\" class=\"dataframe\">\n",
       "  <thead>\n",
       "    <tr style=\"text-align: right;\">\n",
       "      <th></th>\n",
       "      <th>num_coroas</th>\n",
       "      <th>num_eventos</th>\n",
       "      <th>prob_medida</th>\n",
       "    </tr>\n",
       "  </thead>\n",
       "  <tbody>\n",
       "    <tr>\n",
       "      <th>10</th>\n",
       "      <td>0</td>\n",
       "      <td>9</td>\n",
       "      <td>0.0009</td>\n",
       "    </tr>\n",
       "    <tr>\n",
       "      <th>7</th>\n",
       "      <td>1</td>\n",
       "      <td>107</td>\n",
       "      <td>0.0107</td>\n",
       "    </tr>\n",
       "    <tr>\n",
       "      <th>6</th>\n",
       "      <td>2</td>\n",
       "      <td>435</td>\n",
       "      <td>0.0435</td>\n",
       "    </tr>\n",
       "    <tr>\n",
       "      <th>4</th>\n",
       "      <td>3</td>\n",
       "      <td>1148</td>\n",
       "      <td>0.1148</td>\n",
       "    </tr>\n",
       "    <tr>\n",
       "      <th>3</th>\n",
       "      <td>4</td>\n",
       "      <td>2048</td>\n",
       "      <td>0.2048</td>\n",
       "    </tr>\n",
       "    <tr>\n",
       "      <th>1</th>\n",
       "      <td>5</td>\n",
       "      <td>2412</td>\n",
       "      <td>0.2412</td>\n",
       "    </tr>\n",
       "    <tr>\n",
       "      <th>2</th>\n",
       "      <td>6</td>\n",
       "      <td>2131</td>\n",
       "      <td>0.2131</td>\n",
       "    </tr>\n",
       "    <tr>\n",
       "      <th>5</th>\n",
       "      <td>7</td>\n",
       "      <td>1179</td>\n",
       "      <td>0.1179</td>\n",
       "    </tr>\n",
       "    <tr>\n",
       "      <th>0</th>\n",
       "      <td>8</td>\n",
       "      <td>429</td>\n",
       "      <td>0.0429</td>\n",
       "    </tr>\n",
       "    <tr>\n",
       "      <th>8</th>\n",
       "      <td>9</td>\n",
       "      <td>91</td>\n",
       "      <td>0.0091</td>\n",
       "    </tr>\n",
       "    <tr>\n",
       "      <th>9</th>\n",
       "      <td>10</td>\n",
       "      <td>11</td>\n",
       "      <td>0.0011</td>\n",
       "    </tr>\n",
       "  </tbody>\n",
       "</table>\n",
       "</div>"
      ],
      "text/plain": [
       "    num_coroas  num_eventos  prob_medida\n",
       "10           0            9       0.0009\n",
       "7            1          107       0.0107\n",
       "6            2          435       0.0435\n",
       "4            3         1148       0.1148\n",
       "3            4         2048       0.2048\n",
       "1            5         2412       0.2412\n",
       "2            6         2131       0.2131\n",
       "5            7         1179       0.1179\n",
       "0            8          429       0.0429\n",
       "8            9           91       0.0091\n",
       "9           10           11       0.0011"
      ]
     },
     "execution_count": 102,
     "metadata": {},
     "output_type": "execute_result"
    }
   ],
   "source": [
    "tb_binom"
   ]
  },
  {
   "cell_type": "code",
   "execution_count": 103,
   "id": "0de16c0f",
   "metadata": {
    "ExecuteTime": {
     "end_time": "2022-03-10T23:01:55.556127Z",
     "start_time": "2022-03-10T23:01:55.346103Z"
    }
   },
   "outputs": [
    {
     "data": {
      "text/plain": [
       "<AxesSubplot:xlabel='num_coroas', ylabel='prob_medida'>"
      ]
     },
     "execution_count": 103,
     "metadata": {},
     "output_type": "execute_result"
    },
    {
     "data": {
      "image/png": "[encoded data removed]",
      "text/plain": [
       "<Figure size 432x288 with 1 Axes>"
      ]
     },
     "metadata": {
      "needs_background": "light"
     },
     "output_type": "display_data"
    }
   ],
   "source": [
    "sns.barplot(data = tb_binom, x = 'num_coroas', y = 'prob_medida', color='blue')"
   ]
  },
  {
   "cell_type": "code",
   "execution_count": 104,
   "id": "f5d18317",
   "metadata": {
    "ExecuteTime": {
     "end_time": "2022-03-10T23:01:56.346281Z",
     "start_time": "2022-03-10T23:01:56.329330Z"
    }
   },
   "outputs": [],
   "source": [
    "dist_binomial = sp.stats.binom(10, 0.5)"
   ]
  },
  {
   "cell_type": "code",
   "execution_count": 105,
   "id": "97385df7",
   "metadata": {
    "ExecuteTime": {
     "end_time": "2022-03-10T23:01:57.171494Z",
     "start_time": "2022-03-10T23:01:56.977151Z"
    }
   },
   "outputs": [
    {
     "data": {
      "text/plain": [
       "<AxesSubplot:>"
      ]
     },
     "execution_count": 105,
     "metadata": {},
     "output_type": "execute_result"
    },
    {
     "data": {
      "image/png": "[encoded data removed]",
      "text/plain": [
       "<Figure size 432x288 with 1 Axes>"
      ]
     },
     "metadata": {
      "needs_background": "light"
     },
     "output_type": "display_data"
    }
   ],
   "source": [
    "x = np.arange(0,11)\n",
    "y = dist_binomial.pmf(x)\n",
    "sns.barplot(x= x, y=y, color='blue')"
   ]
  },
  {
   "cell_type": "markdown",
   "id": "570e9734",
   "metadata": {},
   "source": [
    "Podemos usar a pmf (probability mass function, ou função massa de probabilidade) para calcular a probabilidade de uma dada contagem de eventos positivos:"
   ]
  },
  {
   "cell_type": "code",
   "execution_count": 106,
   "id": "5650d4f9",
   "metadata": {
    "ExecuteTime": {
     "end_time": "2022-03-10T23:01:59.080247Z",
     "start_time": "2022-03-10T23:01:59.070274Z"
    }
   },
   "outputs": [
    {
     "data": {
      "text/plain": [
       "0.24609375000000025"
      ]
     },
     "execution_count": 106,
     "metadata": {},
     "output_type": "execute_result"
    }
   ],
   "source": [
    "dist_binomial.pmf(5)"
   ]
  },
  {
   "cell_type": "code",
   "execution_count": 107,
   "id": "ec3e493a",
   "metadata": {
    "ExecuteTime": {
     "end_time": "2022-03-10T23:01:59.377707Z",
     "start_time": "2022-03-10T23:01:59.365741Z"
    }
   },
   "outputs": [
    {
     "data": {
      "text/plain": [
       "0.0546875"
      ]
     },
     "execution_count": 107,
     "metadata": {},
     "output_type": "execute_result"
    }
   ],
   "source": [
    "sum([dist_binomial.pmf(i) for i in [0, 1, 2]])"
   ]
  },
  {
   "cell_type": "markdown",
   "id": "df752522",
   "metadata": {},
   "source": [
    "e podemos usar a função distribuição acumulada, ou C.D.F. (cumulative distribution function) para calcular a probabilidade de até N eventos:"
   ]
  },
  {
   "cell_type": "code",
   "execution_count": 108,
   "id": "839ed474",
   "metadata": {
    "ExecuteTime": {
     "end_time": "2022-03-10T23:02:00.163109Z",
     "start_time": "2022-03-10T23:02:00.146170Z"
    }
   },
   "outputs": [
    {
     "data": {
      "text/plain": [
       "0.054687500000000014"
      ]
     },
     "execution_count": 108,
     "metadata": {},
     "output_type": "execute_result"
    }
   ],
   "source": [
    "dist_binomial.cdf(2)"
   ]
  },
  {
   "cell_type": "code",
   "execution_count": 109,
   "id": "c9298540",
   "metadata": {
    "ExecuteTime": {
     "end_time": "2022-03-10T23:02:00.665765Z",
     "start_time": "2022-03-10T23:02:00.465300Z"
    }
   },
   "outputs": [
    {
     "data": {
      "text/plain": [
       "<AxesSubplot:>"
      ]
     },
     "execution_count": 109,
     "metadata": {},
     "output_type": "execute_result"
    },
    {
     "data": {
      "image/png": "[encoded data removed]",
      "text/plain": [
       "<Figure size 432x288 with 1 Axes>"
      ]
     },
     "metadata": {
      "needs_background": "light"
     },
     "output_type": "display_data"
    }
   ],
   "source": [
    "x = np.arange(0,11)\n",
    "y = 1-dist_binomial.cdf(x)\n",
    "sns.barplot(x= x, y=y, color='blue')"
   ]
  },
  {
   "cell_type": "code",
   "execution_count": 110,
   "id": "31787126",
   "metadata": {
    "ExecuteTime": {
     "end_time": "2022-03-10T23:02:00.681721Z",
     "start_time": "2022-03-10T23:02:00.668756Z"
    }
   },
   "outputs": [
    {
     "data": {
      "text/html": [
       "<div>\n",
       "<style scoped>\n",
       "    .dataframe tbody tr th:only-of-type {\n",
       "        vertical-align: middle;\n",
       "    }\n",
       "\n",
       "    .dataframe tbody tr th {\n",
       "        vertical-align: top;\n",
       "    }\n",
       "\n",
       "    .dataframe thead th {\n",
       "        text-align: right;\n",
       "    }\n",
       "</style>\n",
       "<table border=\"1\" class=\"dataframe\">\n",
       "  <thead>\n",
       "    <tr style=\"text-align: right;\">\n",
       "      <th></th>\n",
       "      <th>num_coroas</th>\n",
       "      <th>num_eventos</th>\n",
       "      <th>prob_medida</th>\n",
       "    </tr>\n",
       "  </thead>\n",
       "  <tbody>\n",
       "    <tr>\n",
       "      <th>10</th>\n",
       "      <td>0</td>\n",
       "      <td>9</td>\n",
       "      <td>0.0009</td>\n",
       "    </tr>\n",
       "    <tr>\n",
       "      <th>7</th>\n",
       "      <td>1</td>\n",
       "      <td>107</td>\n",
       "      <td>0.0107</td>\n",
       "    </tr>\n",
       "    <tr>\n",
       "      <th>6</th>\n",
       "      <td>2</td>\n",
       "      <td>435</td>\n",
       "      <td>0.0435</td>\n",
       "    </tr>\n",
       "    <tr>\n",
       "      <th>4</th>\n",
       "      <td>3</td>\n",
       "      <td>1148</td>\n",
       "      <td>0.1148</td>\n",
       "    </tr>\n",
       "    <tr>\n",
       "      <th>3</th>\n",
       "      <td>4</td>\n",
       "      <td>2048</td>\n",
       "      <td>0.2048</td>\n",
       "    </tr>\n",
       "  </tbody>\n",
       "</table>\n",
       "</div>"
      ],
      "text/plain": [
       "    num_coroas  num_eventos  prob_medida\n",
       "10           0            9       0.0009\n",
       "7            1          107       0.0107\n",
       "6            2          435       0.0435\n",
       "4            3         1148       0.1148\n",
       "3            4         2048       0.2048"
      ]
     },
     "execution_count": 110,
     "metadata": {},
     "output_type": "execute_result"
    }
   ],
   "source": [
    "tb_binom.head()"
   ]
  },
  {
   "cell_type": "code",
   "execution_count": 111,
   "id": "5382dffd",
   "metadata": {
    "ExecuteTime": {
     "end_time": "2022-03-10T23:02:01.268214Z",
     "start_time": "2022-03-10T23:02:01.249236Z"
    }
   },
   "outputs": [],
   "source": [
    "tb_binom['prob_real'] = tb_binom['num_coroas'].apply(dist_binomial.pmf)"
   ]
  },
  {
   "cell_type": "code",
   "execution_count": 112,
   "id": "b31351ba",
   "metadata": {
    "ExecuteTime": {
     "end_time": "2022-03-10T23:02:01.951393Z",
     "start_time": "2022-03-10T23:02:01.936405Z"
    }
   },
   "outputs": [
    {
     "data": {
      "text/html": [
       "<div>\n",
       "<style scoped>\n",
       "    .dataframe tbody tr th:only-of-type {\n",
       "        vertical-align: middle;\n",
       "    }\n",
       "\n",
       "    .dataframe tbody tr th {\n",
       "        vertical-align: top;\n",
       "    }\n",
       "\n",
       "    .dataframe thead th {\n",
       "        text-align: right;\n",
       "    }\n",
       "</style>\n",
       "<table border=\"1\" class=\"dataframe\">\n",
       "  <thead>\n",
       "    <tr style=\"text-align: right;\">\n",
       "      <th></th>\n",
       "      <th>num_coroas</th>\n",
       "      <th>num_eventos</th>\n",
       "      <th>prob_medida</th>\n",
       "      <th>prob_real</th>\n",
       "    </tr>\n",
       "  </thead>\n",
       "  <tbody>\n",
       "    <tr>\n",
       "      <th>10</th>\n",
       "      <td>0</td>\n",
       "      <td>9</td>\n",
       "      <td>0.0009</td>\n",
       "      <td>0.000977</td>\n",
       "    </tr>\n",
       "    <tr>\n",
       "      <th>7</th>\n",
       "      <td>1</td>\n",
       "      <td>107</td>\n",
       "      <td>0.0107</td>\n",
       "      <td>0.009766</td>\n",
       "    </tr>\n",
       "    <tr>\n",
       "      <th>6</th>\n",
       "      <td>2</td>\n",
       "      <td>435</td>\n",
       "      <td>0.0435</td>\n",
       "      <td>0.043945</td>\n",
       "    </tr>\n",
       "    <tr>\n",
       "      <th>4</th>\n",
       "      <td>3</td>\n",
       "      <td>1148</td>\n",
       "      <td>0.1148</td>\n",
       "      <td>0.117188</td>\n",
       "    </tr>\n",
       "    <tr>\n",
       "      <th>3</th>\n",
       "      <td>4</td>\n",
       "      <td>2048</td>\n",
       "      <td>0.2048</td>\n",
       "      <td>0.205078</td>\n",
       "    </tr>\n",
       "    <tr>\n",
       "      <th>1</th>\n",
       "      <td>5</td>\n",
       "      <td>2412</td>\n",
       "      <td>0.2412</td>\n",
       "      <td>0.246094</td>\n",
       "    </tr>\n",
       "    <tr>\n",
       "      <th>2</th>\n",
       "      <td>6</td>\n",
       "      <td>2131</td>\n",
       "      <td>0.2131</td>\n",
       "      <td>0.205078</td>\n",
       "    </tr>\n",
       "    <tr>\n",
       "      <th>5</th>\n",
       "      <td>7</td>\n",
       "      <td>1179</td>\n",
       "      <td>0.1179</td>\n",
       "      <td>0.117188</td>\n",
       "    </tr>\n",
       "    <tr>\n",
       "      <th>0</th>\n",
       "      <td>8</td>\n",
       "      <td>429</td>\n",
       "      <td>0.0429</td>\n",
       "      <td>0.043945</td>\n",
       "    </tr>\n",
       "    <tr>\n",
       "      <th>8</th>\n",
       "      <td>9</td>\n",
       "      <td>91</td>\n",
       "      <td>0.0091</td>\n",
       "      <td>0.009766</td>\n",
       "    </tr>\n",
       "    <tr>\n",
       "      <th>9</th>\n",
       "      <td>10</td>\n",
       "      <td>11</td>\n",
       "      <td>0.0011</td>\n",
       "      <td>0.000977</td>\n",
       "    </tr>\n",
       "  </tbody>\n",
       "</table>\n",
       "</div>"
      ],
      "text/plain": [
       "    num_coroas  num_eventos  prob_medida  prob_real\n",
       "10           0            9       0.0009   0.000977\n",
       "7            1          107       0.0107   0.009766\n",
       "6            2          435       0.0435   0.043945\n",
       "4            3         1148       0.1148   0.117188\n",
       "3            4         2048       0.2048   0.205078\n",
       "1            5         2412       0.2412   0.246094\n",
       "2            6         2131       0.2131   0.205078\n",
       "5            7         1179       0.1179   0.117188\n",
       "0            8          429       0.0429   0.043945\n",
       "8            9           91       0.0091   0.009766\n",
       "9           10           11       0.0011   0.000977"
      ]
     },
     "execution_count": 112,
     "metadata": {},
     "output_type": "execute_result"
    }
   ],
   "source": [
    "tb_binom"
   ]
  },
  {
   "cell_type": "code",
   "execution_count": 113,
   "id": "76bdbd46",
   "metadata": {
    "ExecuteTime": {
     "end_time": "2022-03-10T23:02:03.326487Z",
     "start_time": "2022-03-10T23:02:03.040197Z"
    }
   },
   "outputs": [
    {
     "data": {
      "text/plain": [
       "<AxesSubplot:xlabel='num_coroas', ylabel='prob_real'>"
      ]
     },
     "execution_count": 113,
     "metadata": {},
     "output_type": "execute_result"
    },
    {
     "data": {
      "image/png": "[encoded data removed]",
      "text/plain": [
       "<Figure size 432x288 with 1 Axes>"
      ]
     },
     "metadata": {
      "needs_background": "light"
     },
     "output_type": "display_data"
    }
   ],
   "source": [
    "sns.barplot(data = tb_binom, x = 'num_coroas', y = 'prob_medida', color='blue')\n",
    "sns.pointplot(data = tb_binom, x = 'num_coroas', y = 'prob_real', color = 'red')"
   ]
  },
  {
   "cell_type": "markdown",
   "id": "8f539cd6",
   "metadata": {},
   "source": [
    "### Distribuição Geométrica"
   ]
  },
  {
   "cell_type": "markdown",
   "id": "a35dfecb",
   "metadata": {},
   "source": [
    "Espaço amostral: Inteiros positivos (> 0)"
   ]
  },
  {
   "cell_type": "code",
   "execution_count": 114,
   "id": "ef389f67",
   "metadata": {
    "ExecuteTime": {
     "end_time": "2022-03-10T23:05:32.864357Z",
     "start_time": "2022-03-10T23:05:32.858371Z"
    }
   },
   "outputs": [],
   "source": [
    "def primeira_coroa_justa():\n",
    "    i = 0\n",
    "    while True:\n",
    "        if jogar_moeda_justa() == 'coroa':\n",
    "            i += 1\n",
    "            return i\n",
    "        else:\n",
    "            i += 1"
   ]
  },
  {
   "cell_type": "code",
   "execution_count": 121,
   "id": "a76eef08",
   "metadata": {
    "ExecuteTime": {
     "end_time": "2022-03-10T23:05:42.395042Z",
     "start_time": "2022-03-10T23:05:42.377089Z"
    }
   },
   "outputs": [
    {
     "data": {
      "text/plain": [
       "1"
      ]
     },
     "execution_count": 121,
     "metadata": {},
     "output_type": "execute_result"
    }
   ],
   "source": [
    "primeira_coroa_justa()"
   ]
  },
  {
   "cell_type": "code",
   "execution_count": 139,
   "id": "a456ae97",
   "metadata": {
    "ExecuteTime": {
     "end_time": "2022-03-10T23:09:41.695847Z",
     "start_time": "2022-03-10T23:09:41.682882Z"
    }
   },
   "outputs": [],
   "source": [
    "amostra_geo = [primeira_coroa_justa() for i in range(100)]"
   ]
  },
  {
   "cell_type": "code",
   "execution_count": 140,
   "id": "60e1c9fc",
   "metadata": {
    "ExecuteTime": {
     "end_time": "2022-03-10T23:09:42.081913Z",
     "start_time": "2022-03-10T23:09:42.070875Z"
    }
   },
   "outputs": [
    {
     "data": {
      "text/plain": [
       "[1, 2, 2, 1, 2, 2, 1, 1, 2]"
      ]
     },
     "execution_count": 140,
     "metadata": {},
     "output_type": "execute_result"
    }
   ],
   "source": [
    "amostra_geo[1:10]"
   ]
  },
  {
   "cell_type": "code",
   "execution_count": 141,
   "id": "5c2cbca2",
   "metadata": {
    "ExecuteTime": {
     "end_time": "2022-03-10T23:09:42.456163Z",
     "start_time": "2022-03-10T23:09:42.445188Z"
    }
   },
   "outputs": [],
   "source": [
    "contagem_amostra = Counter(amostra_geo)\n",
    "tb_geo = pd.DataFrame({\n",
    "    'num_primeira_coroa': contagem_amostra.keys(),\n",
    "    'num_eventos': contagem_amostra.values()\n",
    "})\n",
    "tb_geo = tb_geo.sort_values('num_primeira_coroa')"
   ]
  },
  {
   "cell_type": "code",
   "execution_count": 142,
   "id": "a2e28fdc",
   "metadata": {
    "ExecuteTime": {
     "end_time": "2022-03-10T23:09:42.831320Z",
     "start_time": "2022-03-10T23:09:42.817356Z"
    }
   },
   "outputs": [
    {
     "data": {
      "text/html": [
       "<div>\n",
       "<style scoped>\n",
       "    .dataframe tbody tr th:only-of-type {\n",
       "        vertical-align: middle;\n",
       "    }\n",
       "\n",
       "    .dataframe tbody tr th {\n",
       "        vertical-align: top;\n",
       "    }\n",
       "\n",
       "    .dataframe thead th {\n",
       "        text-align: right;\n",
       "    }\n",
       "</style>\n",
       "<table border=\"1\" class=\"dataframe\">\n",
       "  <thead>\n",
       "    <tr style=\"text-align: right;\">\n",
       "      <th></th>\n",
       "      <th>num_primeira_coroa</th>\n",
       "      <th>num_eventos</th>\n",
       "    </tr>\n",
       "  </thead>\n",
       "  <tbody>\n",
       "    <tr>\n",
       "      <th>0</th>\n",
       "      <td>1</td>\n",
       "      <td>48</td>\n",
       "    </tr>\n",
       "    <tr>\n",
       "      <th>1</th>\n",
       "      <td>2</td>\n",
       "      <td>27</td>\n",
       "    </tr>\n",
       "    <tr>\n",
       "      <th>2</th>\n",
       "      <td>3</td>\n",
       "      <td>17</td>\n",
       "    </tr>\n",
       "    <tr>\n",
       "      <th>3</th>\n",
       "      <td>4</td>\n",
       "      <td>3</td>\n",
       "    </tr>\n",
       "    <tr>\n",
       "      <th>5</th>\n",
       "      <td>5</td>\n",
       "      <td>2</td>\n",
       "    </tr>\n",
       "    <tr>\n",
       "      <th>4</th>\n",
       "      <td>6</td>\n",
       "      <td>3</td>\n",
       "    </tr>\n",
       "  </tbody>\n",
       "</table>\n",
       "</div>"
      ],
      "text/plain": [
       "   num_primeira_coroa  num_eventos\n",
       "0                   1           48\n",
       "1                   2           27\n",
       "2                   3           17\n",
       "3                   4            3\n",
       "5                   5            2\n",
       "4                   6            3"
      ]
     },
     "execution_count": 142,
     "metadata": {},
     "output_type": "execute_result"
    }
   ],
   "source": [
    "tb_geo"
   ]
  },
  {
   "cell_type": "code",
   "execution_count": 143,
   "id": "474a3086",
   "metadata": {
    "ExecuteTime": {
     "end_time": "2022-03-10T23:09:43.330975Z",
     "start_time": "2022-03-10T23:09:43.167902Z"
    }
   },
   "outputs": [
    {
     "data": {
      "text/plain": [
       "<AxesSubplot:xlabel='num_primeira_coroa', ylabel='num_eventos'>"
      ]
     },
     "execution_count": 143,
     "metadata": {},
     "output_type": "execute_result"
    },
    {
     "data": {
      "image/png": "[encoded data removed]",
      "text/plain": [
       "<Figure size 432x288 with 1 Axes>"
      ]
     },
     "metadata": {
      "needs_background": "light"
     },
     "output_type": "display_data"
    }
   ],
   "source": [
    "sns.barplot(data = tb_geo, x = 'num_primeira_coroa', y = 'num_eventos', color = 'blue')"
   ]
  },
  {
   "cell_type": "code",
   "execution_count": 144,
   "id": "44bf39e4",
   "metadata": {
    "ExecuteTime": {
     "end_time": "2022-03-10T23:09:43.595828Z",
     "start_time": "2022-03-10T23:09:43.585855Z"
    }
   },
   "outputs": [],
   "source": [
    "dist_geom = sp.stats.geom(0.5)"
   ]
  },
  {
   "cell_type": "code",
   "execution_count": 145,
   "id": "386f83e0",
   "metadata": {
    "ExecuteTime": {
     "end_time": "2022-03-10T23:09:45.109731Z",
     "start_time": "2022-03-10T23:09:45.095771Z"
    }
   },
   "outputs": [],
   "source": [
    "tb_geo['prob_medida'] = tb_geo['num_eventos']/sum(tb_geo['num_eventos'])\n",
    "tb_geo['prob_real'] = tb_geo['num_primeira_coroa'].apply(dist_geom.pmf)"
   ]
  },
  {
   "cell_type": "code",
   "execution_count": 146,
   "id": "542567de",
   "metadata": {
    "ExecuteTime": {
     "end_time": "2022-03-10T23:09:45.685256Z",
     "start_time": "2022-03-10T23:09:45.515709Z"
    }
   },
   "outputs": [
    {
     "data": {
      "text/plain": [
       "<AxesSubplot:xlabel='num_primeira_coroa', ylabel='prob_real'>"
      ]
     },
     "execution_count": 146,
     "metadata": {},
     "output_type": "execute_result"
    },
    {
     "data": {
      "image/png": "[encoded data removed]",
      "text/plain": [
       "<Figure size 432x288 with 1 Axes>"
      ]
     },
     "metadata": {
      "needs_background": "light"
     },
     "output_type": "display_data"
    }
   ],
   "source": [
    "sns.barplot(data = tb_geo, x = 'num_primeira_coroa', y = 'prob_medida', color = 'blue')\n",
    "sns.pointplot(data = tb_geo, x = 'num_primeira_coroa', y = 'prob_real', color = 'red')"
   ]
  },
  {
   "cell_type": "markdown",
   "id": "8d0ed8f3",
   "metadata": {},
   "source": [
    "### Distribuição de Poisson"
   ]
  },
  {
   "cell_type": "markdown",
   "id": "cfd1c0f5",
   "metadata": {},
   "source": [
    "<img src=\"poisson.jpg\" alt=\"Drawing\" style=\"width: 200px;\"/>"
   ]
  },
  {
   "cell_type": "code",
   "execution_count": 147,
   "id": "9b8b1086",
   "metadata": {
    "ExecuteTime": {
     "end_time": "2022-03-10T23:18:04.093281Z",
     "start_time": "2022-03-10T23:18:04.077332Z"
    }
   },
   "outputs": [],
   "source": [
    "evento_raro = ['raro', 'comum']"
   ]
  },
  {
   "cell_type": "code",
   "execution_count": 148,
   "id": "7ccb3d93",
   "metadata": {
    "ExecuteTime": {
     "end_time": "2022-03-10T23:18:04.482261Z",
     "start_time": "2022-03-10T23:18:04.472286Z"
    }
   },
   "outputs": [],
   "source": [
    "def simular_er():\n",
    "    p = 1/1e05\n",
    "    return np.random.choice(evento_raro, p = [p, 1-p])"
   ]
  },
  {
   "cell_type": "code",
   "execution_count": 149,
   "id": "2a97ce49",
   "metadata": {
    "ExecuteTime": {
     "end_time": "2022-03-10T23:18:05.666834Z",
     "start_time": "2022-03-10T23:18:05.651846Z"
    }
   },
   "outputs": [],
   "source": [
    "def numero_eventos_raros(amostras):\n",
    "    amostra = [simular_er() for i in range(int(amostras))]\n",
    "    return Counter(amostra)['raro']"
   ]
  },
  {
   "cell_type": "code",
   "execution_count": 150,
   "id": "e6039a06",
   "metadata": {
    "ExecuteTime": {
     "end_time": "2022-03-10T23:18:11.536053Z",
     "start_time": "2022-03-10T23:18:07.251222Z"
    }
   },
   "outputs": [
    {
     "data": {
      "text/plain": [
       "1"
      ]
     },
     "execution_count": 150,
     "metadata": {},
     "output_type": "execute_result"
    }
   ],
   "source": [
    "numero_eventos_raros(2e05)"
   ]
  },
  {
   "cell_type": "code",
   "execution_count": 151,
   "id": "fd9a5d93",
   "metadata": {
    "ExecuteTime": {
     "end_time": "2022-03-10T23:25:21.892476Z",
     "start_time": "2022-03-10T23:18:11.538048Z"
    }
   },
   "outputs": [],
   "source": [
    "amostra_poi = [numero_eventos_raros(2e05) for i in range(100)]"
   ]
  },
  {
   "cell_type": "code",
   "execution_count": 153,
   "id": "e1a738cb",
   "metadata": {
    "ExecuteTime": {
     "end_time": "2022-03-10T23:33:09.676975Z",
     "start_time": "2022-03-10T23:33:09.667032Z"
    }
   },
   "outputs": [
    {
     "data": {
      "text/plain": [
       "[3, 2, 2, 5, 2, 1]"
      ]
     },
     "execution_count": 153,
     "metadata": {},
     "output_type": "execute_result"
    }
   ],
   "source": [
    "amostra_poi[0:6]"
   ]
  },
  {
   "cell_type": "code",
   "execution_count": 154,
   "id": "79dfd93c",
   "metadata": {
    "ExecuteTime": {
     "end_time": "2022-03-10T23:33:37.895932Z",
     "start_time": "2022-03-10T23:33:37.879974Z"
    }
   },
   "outputs": [],
   "source": [
    "contagem_amostra = Counter(amostra_poi)\n",
    "tb_poisson = pd.DataFrame({\n",
    "    'num_raros': contagem_amostra.keys(),\n",
    "    'num_eventos': contagem_amostra.values()\n",
    "})\n",
    "tb_poisson = tb_poisson.sort_values('num_raros')"
   ]
  },
  {
   "cell_type": "code",
   "execution_count": 155,
   "id": "5dd722dc",
   "metadata": {
    "ExecuteTime": {
     "end_time": "2022-03-10T23:33:39.348439Z",
     "start_time": "2022-03-10T23:33:39.163931Z"
    }
   },
   "outputs": [
    {
     "data": {
      "text/plain": [
       "<AxesSubplot:xlabel='num_raros', ylabel='num_eventos'>"
      ]
     },
     "execution_count": 155,
     "metadata": {},
     "output_type": "execute_result"
    },
    {
     "data": {
      "image/png": "[encoded data removed]",
      "text/plain": [
       "<Figure size 432x288 with 1 Axes>"
      ]
     },
     "metadata": {
      "needs_background": "light"
     },
     "output_type": "display_data"
    }
   ],
   "source": [
    "sns.barplot(data = tb_poisson, x = 'num_raros', y = 'num_eventos', color='blue')"
   ]
  },
  {
   "cell_type": "code",
   "execution_count": 157,
   "id": "61f0c4b3",
   "metadata": {
    "ExecuteTime": {
     "end_time": "2022-03-10T23:35:09.658068Z",
     "start_time": "2022-03-10T23:35:09.641095Z"
    }
   },
   "outputs": [],
   "source": [
    "p = 1/1e05\n",
    "n = 2e05\n",
    "lamb = p * n\n",
    "dist_poisson = sp.stats.poisson(p*n)"
   ]
  },
  {
   "cell_type": "code",
   "execution_count": 158,
   "id": "f672377b",
   "metadata": {
    "ExecuteTime": {
     "end_time": "2022-03-10T23:35:23.658982Z",
     "start_time": "2022-03-10T23:35:23.643042Z"
    }
   },
   "outputs": [],
   "source": [
    "tb_poisson['prob_medida'] = tb_poisson['num_eventos']/sum(tb_poisson['num_eventos'])\n",
    "tb_poisson['prob_real'] = tb_poisson['num_raros'].apply(dist_poisson.pmf)"
   ]
  },
  {
   "cell_type": "code",
   "execution_count": 159,
   "id": "6767de20",
   "metadata": {
    "ExecuteTime": {
     "end_time": "2022-03-10T23:35:24.454888Z",
     "start_time": "2022-03-10T23:35:24.257415Z"
    }
   },
   "outputs": [
    {
     "data": {
      "text/plain": [
       "<AxesSubplot:xlabel='num_raros', ylabel='prob_real'>"
      ]
     },
     "execution_count": 159,
     "metadata": {},
     "output_type": "execute_result"
    },
    {
     "data": {
      "image/png": "[encoded data removed]",
      "text/plain": [
       "<Figure size 432x288 with 1 Axes>"
      ]
     },
     "metadata": {
      "needs_background": "light"
     },
     "output_type": "display_data"
    }
   ],
   "source": [
    "sns.barplot(data = tb_poisson, x = 'num_raros', y = 'prob_medida', color='blue')\n",
    "sns.pointplot(data = tb_poisson, x = 'num_raros', y = 'prob_real', color='red')"
   ]
  },
  {
   "cell_type": "markdown",
   "id": "b338f3d8",
   "metadata": {},
   "source": [
    "### Distribuição Exponencial"
   ]
  },
  {
   "cell_type": "code",
   "execution_count": 160,
   "id": "7ccfb456",
   "metadata": {
    "ExecuteTime": {
     "end_time": "2022-03-10T23:38:46.515055Z",
     "start_time": "2022-03-10T23:38:46.508074Z"
    }
   },
   "outputs": [],
   "source": [
    "dist_exp = sp.stats.expon(scale = 1/lamb)"
   ]
  },
  {
   "cell_type": "code",
   "execution_count": 165,
   "id": "2c125fc5",
   "metadata": {
    "ExecuteTime": {
     "end_time": "2022-03-10T23:44:56.792986Z",
     "start_time": "2022-03-10T23:44:56.554625Z"
    }
   },
   "outputs": [
    {
     "data": {
      "text/plain": [
       "<AxesSubplot:>"
      ]
     },
     "execution_count": 165,
     "metadata": {},
     "output_type": "execute_result"
    },
    {
     "data": {
      "image/png": "[encoded data removed]",
      "text/plain": [
       "<Figure size 432x288 with 1 Axes>"
      ]
     },
     "metadata": {
      "needs_background": "light"
     },
     "output_type": "display_data"
    }
   ],
   "source": [
    "x = np.linspace(0.01, 4, 1000)\n",
    "y = dist_exp.pdf(x)\n",
    "sns.lineplot(x = x, y = y, color='red')"
   ]
  },
  {
   "cell_type": "code",
   "execution_count": 164,
   "id": "d4f6508b",
   "metadata": {
    "ExecuteTime": {
     "end_time": "2022-03-10T23:42:00.777184Z",
     "start_time": "2022-03-10T23:42:00.568751Z"
    }
   },
   "outputs": [
    {
     "data": {
      "text/plain": [
       "<AxesSubplot:>"
      ]
     },
     "execution_count": 164,
     "metadata": {},
     "output_type": "execute_result"
    },
    {
     "data": {
      "image/png": "[encoded data removed]",
      "text/plain": [
       "<Figure size 432x288 with 1 Axes>"
      ]
     },
     "metadata": {
      "needs_background": "light"
     },
     "output_type": "display_data"
    }
   ],
   "source": [
    "x = np.linspace(0.01, 3, 1000)\n",
    "y = dist_exp.cdf(x)\n",
    "sns.lineplot(x = x, y = y, color='red')"
   ]
  },
  {
   "cell_type": "code",
   "execution_count": 166,
   "id": "3581969d",
   "metadata": {
    "ExecuteTime": {
     "end_time": "2022-03-10T23:49:06.313047Z",
     "start_time": "2022-03-10T23:49:06.305069Z"
    }
   },
   "outputs": [],
   "source": [
    "amostra_exp = dist_exp.rvs(size=100)\n",
    "tb_expon = pd.DataFrame({'t' : amostra_exp})"
   ]
  },
  {
   "cell_type": "code",
   "execution_count": 167,
   "id": "cd461a30",
   "metadata": {
    "ExecuteTime": {
     "end_time": "2022-03-10T23:49:16.354154Z",
     "start_time": "2022-03-10T23:49:16.333211Z"
    }
   },
   "outputs": [
    {
     "data": {
      "text/html": [
       "<div>\n",
       "<style scoped>\n",
       "    .dataframe tbody tr th:only-of-type {\n",
       "        vertical-align: middle;\n",
       "    }\n",
       "\n",
       "    .dataframe tbody tr th {\n",
       "        vertical-align: top;\n",
       "    }\n",
       "\n",
       "    .dataframe thead th {\n",
       "        text-align: right;\n",
       "    }\n",
       "</style>\n",
       "<table border=\"1\" class=\"dataframe\">\n",
       "  <thead>\n",
       "    <tr style=\"text-align: right;\">\n",
       "      <th></th>\n",
       "      <th>t</th>\n",
       "    </tr>\n",
       "  </thead>\n",
       "  <tbody>\n",
       "    <tr>\n",
       "      <th>0</th>\n",
       "      <td>2.418527</td>\n",
       "    </tr>\n",
       "    <tr>\n",
       "      <th>1</th>\n",
       "      <td>2.082397</td>\n",
       "    </tr>\n",
       "    <tr>\n",
       "      <th>2</th>\n",
       "      <td>0.149240</td>\n",
       "    </tr>\n",
       "    <tr>\n",
       "      <th>3</th>\n",
       "      <td>1.786140</td>\n",
       "    </tr>\n",
       "    <tr>\n",
       "      <th>4</th>\n",
       "      <td>0.232033</td>\n",
       "    </tr>\n",
       "    <tr>\n",
       "      <th>...</th>\n",
       "      <td>...</td>\n",
       "    </tr>\n",
       "    <tr>\n",
       "      <th>95</th>\n",
       "      <td>0.013178</td>\n",
       "    </tr>\n",
       "    <tr>\n",
       "      <th>96</th>\n",
       "      <td>0.183268</td>\n",
       "    </tr>\n",
       "    <tr>\n",
       "      <th>97</th>\n",
       "      <td>0.184334</td>\n",
       "    </tr>\n",
       "    <tr>\n",
       "      <th>98</th>\n",
       "      <td>0.228733</td>\n",
       "    </tr>\n",
       "    <tr>\n",
       "      <th>99</th>\n",
       "      <td>0.412655</td>\n",
       "    </tr>\n",
       "  </tbody>\n",
       "</table>\n",
       "<p>100 rows × 1 columns</p>\n",
       "</div>"
      ],
      "text/plain": [
       "           t\n",
       "0   2.418527\n",
       "1   2.082397\n",
       "2   0.149240\n",
       "3   1.786140\n",
       "4   0.232033\n",
       "..       ...\n",
       "95  0.013178\n",
       "96  0.183268\n",
       "97  0.184334\n",
       "98  0.228733\n",
       "99  0.412655\n",
       "\n",
       "[100 rows x 1 columns]"
      ]
     },
     "execution_count": 167,
     "metadata": {},
     "output_type": "execute_result"
    }
   ],
   "source": [
    "tb_expon"
   ]
  },
  {
   "cell_type": "code",
   "execution_count": 168,
   "id": "e40c2a9d",
   "metadata": {
    "ExecuteTime": {
     "end_time": "2022-03-10T23:50:04.721423Z",
     "start_time": "2022-03-10T23:50:04.701448Z"
    }
   },
   "outputs": [],
   "source": [
    "tb_expon['t_acumulado'] = tb_expon['t'].cumsum()"
   ]
  },
  {
   "cell_type": "code",
   "execution_count": 169,
   "id": "a5c7b496",
   "metadata": {
    "ExecuteTime": {
     "end_time": "2022-03-10T23:50:05.684471Z",
     "start_time": "2022-03-10T23:50:05.665523Z"
    }
   },
   "outputs": [
    {
     "data": {
      "text/html": [
       "<div>\n",
       "<style scoped>\n",
       "    .dataframe tbody tr th:only-of-type {\n",
       "        vertical-align: middle;\n",
       "    }\n",
       "\n",
       "    .dataframe tbody tr th {\n",
       "        vertical-align: top;\n",
       "    }\n",
       "\n",
       "    .dataframe thead th {\n",
       "        text-align: right;\n",
       "    }\n",
       "</style>\n",
       "<table border=\"1\" class=\"dataframe\">\n",
       "  <thead>\n",
       "    <tr style=\"text-align: right;\">\n",
       "      <th></th>\n",
       "      <th>t</th>\n",
       "      <th>t_acumulado</th>\n",
       "    </tr>\n",
       "  </thead>\n",
       "  <tbody>\n",
       "    <tr>\n",
       "      <th>0</th>\n",
       "      <td>2.418527</td>\n",
       "      <td>2.418527</td>\n",
       "    </tr>\n",
       "    <tr>\n",
       "      <th>1</th>\n",
       "      <td>2.082397</td>\n",
       "      <td>4.500924</td>\n",
       "    </tr>\n",
       "    <tr>\n",
       "      <th>2</th>\n",
       "      <td>0.149240</td>\n",
       "      <td>4.650164</td>\n",
       "    </tr>\n",
       "    <tr>\n",
       "      <th>3</th>\n",
       "      <td>1.786140</td>\n",
       "      <td>6.436304</td>\n",
       "    </tr>\n",
       "    <tr>\n",
       "      <th>4</th>\n",
       "      <td>0.232033</td>\n",
       "      <td>6.668337</td>\n",
       "    </tr>\n",
       "    <tr>\n",
       "      <th>...</th>\n",
       "      <td>...</td>\n",
       "      <td>...</td>\n",
       "    </tr>\n",
       "    <tr>\n",
       "      <th>95</th>\n",
       "      <td>0.013178</td>\n",
       "      <td>53.567233</td>\n",
       "    </tr>\n",
       "    <tr>\n",
       "      <th>96</th>\n",
       "      <td>0.183268</td>\n",
       "      <td>53.750500</td>\n",
       "    </tr>\n",
       "    <tr>\n",
       "      <th>97</th>\n",
       "      <td>0.184334</td>\n",
       "      <td>53.934835</td>\n",
       "    </tr>\n",
       "    <tr>\n",
       "      <th>98</th>\n",
       "      <td>0.228733</td>\n",
       "      <td>54.163568</td>\n",
       "    </tr>\n",
       "    <tr>\n",
       "      <th>99</th>\n",
       "      <td>0.412655</td>\n",
       "      <td>54.576223</td>\n",
       "    </tr>\n",
       "  </tbody>\n",
       "</table>\n",
       "<p>100 rows × 2 columns</p>\n",
       "</div>"
      ],
      "text/plain": [
       "           t  t_acumulado\n",
       "0   2.418527     2.418527\n",
       "1   2.082397     4.500924\n",
       "2   0.149240     4.650164\n",
       "3   1.786140     6.436304\n",
       "4   0.232033     6.668337\n",
       "..       ...          ...\n",
       "95  0.013178    53.567233\n",
       "96  0.183268    53.750500\n",
       "97  0.184334    53.934835\n",
       "98  0.228733    54.163568\n",
       "99  0.412655    54.576223\n",
       "\n",
       "[100 rows x 2 columns]"
      ]
     },
     "execution_count": 169,
     "metadata": {},
     "output_type": "execute_result"
    }
   ],
   "source": [
    "tb_expon"
   ]
  },
  {
   "cell_type": "code",
   "execution_count": 170,
   "id": "34b67601",
   "metadata": {
    "ExecuteTime": {
     "end_time": "2022-03-10T23:50:26.149559Z",
     "start_time": "2022-03-10T23:50:26.141580Z"
    }
   },
   "outputs": [],
   "source": [
    "tb_expon['minuto'] = np.floor(tb_expon['t_acumulado'])"
   ]
  },
  {
   "cell_type": "code",
   "execution_count": 171,
   "id": "d57cf458",
   "metadata": {
    "ExecuteTime": {
     "end_time": "2022-03-10T23:50:27.110309Z",
     "start_time": "2022-03-10T23:50:27.086371Z"
    }
   },
   "outputs": [
    {
     "data": {
      "text/html": [
       "<div>\n",
       "<style scoped>\n",
       "    .dataframe tbody tr th:only-of-type {\n",
       "        vertical-align: middle;\n",
       "    }\n",
       "\n",
       "    .dataframe tbody tr th {\n",
       "        vertical-align: top;\n",
       "    }\n",
       "\n",
       "    .dataframe thead th {\n",
       "        text-align: right;\n",
       "    }\n",
       "</style>\n",
       "<table border=\"1\" class=\"dataframe\">\n",
       "  <thead>\n",
       "    <tr style=\"text-align: right;\">\n",
       "      <th></th>\n",
       "      <th>t</th>\n",
       "      <th>t_acumulado</th>\n",
       "      <th>minuto</th>\n",
       "    </tr>\n",
       "  </thead>\n",
       "  <tbody>\n",
       "    <tr>\n",
       "      <th>0</th>\n",
       "      <td>2.418527</td>\n",
       "      <td>2.418527</td>\n",
       "      <td>2.0</td>\n",
       "    </tr>\n",
       "    <tr>\n",
       "      <th>1</th>\n",
       "      <td>2.082397</td>\n",
       "      <td>4.500924</td>\n",
       "      <td>4.0</td>\n",
       "    </tr>\n",
       "    <tr>\n",
       "      <th>2</th>\n",
       "      <td>0.149240</td>\n",
       "      <td>4.650164</td>\n",
       "      <td>4.0</td>\n",
       "    </tr>\n",
       "    <tr>\n",
       "      <th>3</th>\n",
       "      <td>1.786140</td>\n",
       "      <td>6.436304</td>\n",
       "      <td>6.0</td>\n",
       "    </tr>\n",
       "    <tr>\n",
       "      <th>4</th>\n",
       "      <td>0.232033</td>\n",
       "      <td>6.668337</td>\n",
       "      <td>6.0</td>\n",
       "    </tr>\n",
       "    <tr>\n",
       "      <th>...</th>\n",
       "      <td>...</td>\n",
       "      <td>...</td>\n",
       "      <td>...</td>\n",
       "    </tr>\n",
       "    <tr>\n",
       "      <th>95</th>\n",
       "      <td>0.013178</td>\n",
       "      <td>53.567233</td>\n",
       "      <td>53.0</td>\n",
       "    </tr>\n",
       "    <tr>\n",
       "      <th>96</th>\n",
       "      <td>0.183268</td>\n",
       "      <td>53.750500</td>\n",
       "      <td>53.0</td>\n",
       "    </tr>\n",
       "    <tr>\n",
       "      <th>97</th>\n",
       "      <td>0.184334</td>\n",
       "      <td>53.934835</td>\n",
       "      <td>53.0</td>\n",
       "    </tr>\n",
       "    <tr>\n",
       "      <th>98</th>\n",
       "      <td>0.228733</td>\n",
       "      <td>54.163568</td>\n",
       "      <td>54.0</td>\n",
       "    </tr>\n",
       "    <tr>\n",
       "      <th>99</th>\n",
       "      <td>0.412655</td>\n",
       "      <td>54.576223</td>\n",
       "      <td>54.0</td>\n",
       "    </tr>\n",
       "  </tbody>\n",
       "</table>\n",
       "<p>100 rows × 3 columns</p>\n",
       "</div>"
      ],
      "text/plain": [
       "           t  t_acumulado  minuto\n",
       "0   2.418527     2.418527     2.0\n",
       "1   2.082397     4.500924     4.0\n",
       "2   0.149240     4.650164     4.0\n",
       "3   1.786140     6.436304     6.0\n",
       "4   0.232033     6.668337     6.0\n",
       "..       ...          ...     ...\n",
       "95  0.013178    53.567233    53.0\n",
       "96  0.183268    53.750500    53.0\n",
       "97  0.184334    53.934835    53.0\n",
       "98  0.228733    54.163568    54.0\n",
       "99  0.412655    54.576223    54.0\n",
       "\n",
       "[100 rows x 3 columns]"
      ]
     },
     "execution_count": 171,
     "metadata": {},
     "output_type": "execute_result"
    }
   ],
   "source": [
    "tb_expon"
   ]
  },
  {
   "cell_type": "code",
   "execution_count": 172,
   "id": "8da8c3bf",
   "metadata": {
    "ExecuteTime": {
     "end_time": "2022-03-10T23:50:44.050404Z",
     "start_time": "2022-03-10T23:50:44.039433Z"
    }
   },
   "outputs": [],
   "source": [
    "tb_num_eventos = pd.DataFrame({'minuto' : range(0, int(max(tb_expon['minuto']) + 1))})"
   ]
  },
  {
   "cell_type": "code",
   "execution_count": 173,
   "id": "5404613a",
   "metadata": {
    "ExecuteTime": {
     "end_time": "2022-03-10T23:50:44.683468Z",
     "start_time": "2022-03-10T23:50:44.675488Z"
    }
   },
   "outputs": [],
   "source": [
    "n_eventos_minuto = tb_expon.groupby('minuto')['t'].count().reset_index()  "
   ]
  },
  {
   "cell_type": "code",
   "execution_count": 174,
   "id": "2040f4c3",
   "metadata": {
    "ExecuteTime": {
     "end_time": "2022-03-10T23:50:45.286083Z",
     "start_time": "2022-03-10T23:50:45.277106Z"
    }
   },
   "outputs": [
    {
     "data": {
      "text/html": [
       "<div>\n",
       "<style scoped>\n",
       "    .dataframe tbody tr th:only-of-type {\n",
       "        vertical-align: middle;\n",
       "    }\n",
       "\n",
       "    .dataframe tbody tr th {\n",
       "        vertical-align: top;\n",
       "    }\n",
       "\n",
       "    .dataframe thead th {\n",
       "        text-align: right;\n",
       "    }\n",
       "</style>\n",
       "<table border=\"1\" class=\"dataframe\">\n",
       "  <thead>\n",
       "    <tr style=\"text-align: right;\">\n",
       "      <th></th>\n",
       "      <th>minuto</th>\n",
       "      <th>t</th>\n",
       "    </tr>\n",
       "  </thead>\n",
       "  <tbody>\n",
       "    <tr>\n",
       "      <th>0</th>\n",
       "      <td>2.0</td>\n",
       "      <td>1</td>\n",
       "    </tr>\n",
       "    <tr>\n",
       "      <th>1</th>\n",
       "      <td>4.0</td>\n",
       "      <td>2</td>\n",
       "    </tr>\n",
       "    <tr>\n",
       "      <th>2</th>\n",
       "      <td>6.0</td>\n",
       "      <td>3</td>\n",
       "    </tr>\n",
       "    <tr>\n",
       "      <th>3</th>\n",
       "      <td>7.0</td>\n",
       "      <td>1</td>\n",
       "    </tr>\n",
       "    <tr>\n",
       "      <th>4</th>\n",
       "      <td>8.0</td>\n",
       "      <td>2</td>\n",
       "    </tr>\n",
       "  </tbody>\n",
       "</table>\n",
       "</div>"
      ],
      "text/plain": [
       "   minuto  t\n",
       "0     2.0  1\n",
       "1     4.0  2\n",
       "2     6.0  3\n",
       "3     7.0  1\n",
       "4     8.0  2"
      ]
     },
     "execution_count": 174,
     "metadata": {},
     "output_type": "execute_result"
    }
   ],
   "source": [
    "n_eventos_minuto.head()"
   ]
  },
  {
   "cell_type": "code",
   "execution_count": 175,
   "id": "29259989",
   "metadata": {
    "ExecuteTime": {
     "end_time": "2022-03-10T23:51:29.221152Z",
     "start_time": "2022-03-10T23:51:29.201204Z"
    }
   },
   "outputs": [],
   "source": [
    "tb_nev_min = pd.merge(tb_num_eventos, n_eventos_minuto, how = 'left', on = 'minuto')\n",
    "tb_nev_min = tb_nev_min.fillna(0)\n",
    "tb_nev_min = tb_nev_min.rename({'t' : 'num_chegadas'}, axis = 1)"
   ]
  },
  {
   "cell_type": "code",
   "execution_count": 177,
   "id": "de5f9280",
   "metadata": {
    "ExecuteTime": {
     "end_time": "2022-03-10T23:51:41.954452Z",
     "start_time": "2022-03-10T23:51:41.931513Z"
    }
   },
   "outputs": [
    {
     "data": {
      "text/html": [
       "<div>\n",
       "<style scoped>\n",
       "    .dataframe tbody tr th:only-of-type {\n",
       "        vertical-align: middle;\n",
       "    }\n",
       "\n",
       "    .dataframe tbody tr th {\n",
       "        vertical-align: top;\n",
       "    }\n",
       "\n",
       "    .dataframe thead th {\n",
       "        text-align: right;\n",
       "    }\n",
       "</style>\n",
       "<table border=\"1\" class=\"dataframe\">\n",
       "  <thead>\n",
       "    <tr style=\"text-align: right;\">\n",
       "      <th></th>\n",
       "      <th>minuto</th>\n",
       "      <th>num_chegadas</th>\n",
       "    </tr>\n",
       "  </thead>\n",
       "  <tbody>\n",
       "    <tr>\n",
       "      <th>0</th>\n",
       "      <td>0</td>\n",
       "      <td>0.0</td>\n",
       "    </tr>\n",
       "    <tr>\n",
       "      <th>1</th>\n",
       "      <td>1</td>\n",
       "      <td>0.0</td>\n",
       "    </tr>\n",
       "    <tr>\n",
       "      <th>2</th>\n",
       "      <td>2</td>\n",
       "      <td>1.0</td>\n",
       "    </tr>\n",
       "    <tr>\n",
       "      <th>3</th>\n",
       "      <td>3</td>\n",
       "      <td>0.0</td>\n",
       "    </tr>\n",
       "    <tr>\n",
       "      <th>4</th>\n",
       "      <td>4</td>\n",
       "      <td>2.0</td>\n",
       "    </tr>\n",
       "    <tr>\n",
       "      <th>5</th>\n",
       "      <td>5</td>\n",
       "      <td>0.0</td>\n",
       "    </tr>\n",
       "    <tr>\n",
       "      <th>6</th>\n",
       "      <td>6</td>\n",
       "      <td>3.0</td>\n",
       "    </tr>\n",
       "    <tr>\n",
       "      <th>7</th>\n",
       "      <td>7</td>\n",
       "      <td>1.0</td>\n",
       "    </tr>\n",
       "    <tr>\n",
       "      <th>8</th>\n",
       "      <td>8</td>\n",
       "      <td>2.0</td>\n",
       "    </tr>\n",
       "    <tr>\n",
       "      <th>9</th>\n",
       "      <td>9</td>\n",
       "      <td>3.0</td>\n",
       "    </tr>\n",
       "    <tr>\n",
       "      <th>10</th>\n",
       "      <td>10</td>\n",
       "      <td>0.0</td>\n",
       "    </tr>\n",
       "    <tr>\n",
       "      <th>11</th>\n",
       "      <td>11</td>\n",
       "      <td>3.0</td>\n",
       "    </tr>\n",
       "    <tr>\n",
       "      <th>12</th>\n",
       "      <td>12</td>\n",
       "      <td>1.0</td>\n",
       "    </tr>\n",
       "    <tr>\n",
       "      <th>13</th>\n",
       "      <td>13</td>\n",
       "      <td>1.0</td>\n",
       "    </tr>\n",
       "    <tr>\n",
       "      <th>14</th>\n",
       "      <td>14</td>\n",
       "      <td>2.0</td>\n",
       "    </tr>\n",
       "    <tr>\n",
       "      <th>15</th>\n",
       "      <td>15</td>\n",
       "      <td>1.0</td>\n",
       "    </tr>\n",
       "    <tr>\n",
       "      <th>16</th>\n",
       "      <td>16</td>\n",
       "      <td>1.0</td>\n",
       "    </tr>\n",
       "    <tr>\n",
       "      <th>17</th>\n",
       "      <td>17</td>\n",
       "      <td>1.0</td>\n",
       "    </tr>\n",
       "    <tr>\n",
       "      <th>18</th>\n",
       "      <td>18</td>\n",
       "      <td>4.0</td>\n",
       "    </tr>\n",
       "    <tr>\n",
       "      <th>19</th>\n",
       "      <td>19</td>\n",
       "      <td>2.0</td>\n",
       "    </tr>\n",
       "    <tr>\n",
       "      <th>20</th>\n",
       "      <td>20</td>\n",
       "      <td>0.0</td>\n",
       "    </tr>\n",
       "    <tr>\n",
       "      <th>21</th>\n",
       "      <td>21</td>\n",
       "      <td>3.0</td>\n",
       "    </tr>\n",
       "    <tr>\n",
       "      <th>22</th>\n",
       "      <td>22</td>\n",
       "      <td>2.0</td>\n",
       "    </tr>\n",
       "    <tr>\n",
       "      <th>23</th>\n",
       "      <td>23</td>\n",
       "      <td>0.0</td>\n",
       "    </tr>\n",
       "    <tr>\n",
       "      <th>24</th>\n",
       "      <td>24</td>\n",
       "      <td>1.0</td>\n",
       "    </tr>\n",
       "    <tr>\n",
       "      <th>25</th>\n",
       "      <td>25</td>\n",
       "      <td>2.0</td>\n",
       "    </tr>\n",
       "    <tr>\n",
       "      <th>26</th>\n",
       "      <td>26</td>\n",
       "      <td>0.0</td>\n",
       "    </tr>\n",
       "    <tr>\n",
       "      <th>27</th>\n",
       "      <td>27</td>\n",
       "      <td>4.0</td>\n",
       "    </tr>\n",
       "    <tr>\n",
       "      <th>28</th>\n",
       "      <td>28</td>\n",
       "      <td>0.0</td>\n",
       "    </tr>\n",
       "    <tr>\n",
       "      <th>29</th>\n",
       "      <td>29</td>\n",
       "      <td>2.0</td>\n",
       "    </tr>\n",
       "    <tr>\n",
       "      <th>30</th>\n",
       "      <td>30</td>\n",
       "      <td>2.0</td>\n",
       "    </tr>\n",
       "    <tr>\n",
       "      <th>31</th>\n",
       "      <td>31</td>\n",
       "      <td>2.0</td>\n",
       "    </tr>\n",
       "    <tr>\n",
       "      <th>32</th>\n",
       "      <td>32</td>\n",
       "      <td>3.0</td>\n",
       "    </tr>\n",
       "    <tr>\n",
       "      <th>33</th>\n",
       "      <td>33</td>\n",
       "      <td>2.0</td>\n",
       "    </tr>\n",
       "    <tr>\n",
       "      <th>34</th>\n",
       "      <td>34</td>\n",
       "      <td>2.0</td>\n",
       "    </tr>\n",
       "    <tr>\n",
       "      <th>35</th>\n",
       "      <td>35</td>\n",
       "      <td>0.0</td>\n",
       "    </tr>\n",
       "    <tr>\n",
       "      <th>36</th>\n",
       "      <td>36</td>\n",
       "      <td>2.0</td>\n",
       "    </tr>\n",
       "    <tr>\n",
       "      <th>37</th>\n",
       "      <td>37</td>\n",
       "      <td>1.0</td>\n",
       "    </tr>\n",
       "    <tr>\n",
       "      <th>38</th>\n",
       "      <td>38</td>\n",
       "      <td>3.0</td>\n",
       "    </tr>\n",
       "    <tr>\n",
       "      <th>39</th>\n",
       "      <td>39</td>\n",
       "      <td>2.0</td>\n",
       "    </tr>\n",
       "    <tr>\n",
       "      <th>40</th>\n",
       "      <td>40</td>\n",
       "      <td>3.0</td>\n",
       "    </tr>\n",
       "    <tr>\n",
       "      <th>41</th>\n",
       "      <td>41</td>\n",
       "      <td>1.0</td>\n",
       "    </tr>\n",
       "    <tr>\n",
       "      <th>42</th>\n",
       "      <td>42</td>\n",
       "      <td>3.0</td>\n",
       "    </tr>\n",
       "    <tr>\n",
       "      <th>43</th>\n",
       "      <td>43</td>\n",
       "      <td>1.0</td>\n",
       "    </tr>\n",
       "    <tr>\n",
       "      <th>44</th>\n",
       "      <td>44</td>\n",
       "      <td>4.0</td>\n",
       "    </tr>\n",
       "    <tr>\n",
       "      <th>45</th>\n",
       "      <td>45</td>\n",
       "      <td>2.0</td>\n",
       "    </tr>\n",
       "    <tr>\n",
       "      <th>46</th>\n",
       "      <td>46</td>\n",
       "      <td>4.0</td>\n",
       "    </tr>\n",
       "    <tr>\n",
       "      <th>47</th>\n",
       "      <td>47</td>\n",
       "      <td>2.0</td>\n",
       "    </tr>\n",
       "    <tr>\n",
       "      <th>48</th>\n",
       "      <td>48</td>\n",
       "      <td>4.0</td>\n",
       "    </tr>\n",
       "    <tr>\n",
       "      <th>49</th>\n",
       "      <td>49</td>\n",
       "      <td>1.0</td>\n",
       "    </tr>\n",
       "    <tr>\n",
       "      <th>50</th>\n",
       "      <td>50</td>\n",
       "      <td>2.0</td>\n",
       "    </tr>\n",
       "    <tr>\n",
       "      <th>51</th>\n",
       "      <td>51</td>\n",
       "      <td>3.0</td>\n",
       "    </tr>\n",
       "    <tr>\n",
       "      <th>52</th>\n",
       "      <td>52</td>\n",
       "      <td>2.0</td>\n",
       "    </tr>\n",
       "    <tr>\n",
       "      <th>53</th>\n",
       "      <td>53</td>\n",
       "      <td>5.0</td>\n",
       "    </tr>\n",
       "    <tr>\n",
       "      <th>54</th>\n",
       "      <td>54</td>\n",
       "      <td>2.0</td>\n",
       "    </tr>\n",
       "  </tbody>\n",
       "</table>\n",
       "</div>"
      ],
      "text/plain": [
       "    minuto  num_chegadas\n",
       "0        0           0.0\n",
       "1        1           0.0\n",
       "2        2           1.0\n",
       "3        3           0.0\n",
       "4        4           2.0\n",
       "5        5           0.0\n",
       "6        6           3.0\n",
       "7        7           1.0\n",
       "8        8           2.0\n",
       "9        9           3.0\n",
       "10      10           0.0\n",
       "11      11           3.0\n",
       "12      12           1.0\n",
       "13      13           1.0\n",
       "14      14           2.0\n",
       "15      15           1.0\n",
       "16      16           1.0\n",
       "17      17           1.0\n",
       "18      18           4.0\n",
       "19      19           2.0\n",
       "20      20           0.0\n",
       "21      21           3.0\n",
       "22      22           2.0\n",
       "23      23           0.0\n",
       "24      24           1.0\n",
       "25      25           2.0\n",
       "26      26           0.0\n",
       "27      27           4.0\n",
       "28      28           0.0\n",
       "29      29           2.0\n",
       "30      30           2.0\n",
       "31      31           2.0\n",
       "32      32           3.0\n",
       "33      33           2.0\n",
       "34      34           2.0\n",
       "35      35           0.0\n",
       "36      36           2.0\n",
       "37      37           1.0\n",
       "38      38           3.0\n",
       "39      39           2.0\n",
       "40      40           3.0\n",
       "41      41           1.0\n",
       "42      42           3.0\n",
       "43      43           1.0\n",
       "44      44           4.0\n",
       "45      45           2.0\n",
       "46      46           4.0\n",
       "47      47           2.0\n",
       "48      48           4.0\n",
       "49      49           1.0\n",
       "50      50           2.0\n",
       "51      51           3.0\n",
       "52      52           2.0\n",
       "53      53           5.0\n",
       "54      54           2.0"
      ]
     },
     "execution_count": 177,
     "metadata": {},
     "output_type": "execute_result"
    }
   ],
   "source": [
    "tb_nev_min"
   ]
  },
  {
   "cell_type": "code",
   "execution_count": 178,
   "id": "b485c500",
   "metadata": {
    "ExecuteTime": {
     "end_time": "2022-03-10T23:52:07.701158Z",
     "start_time": "2022-03-10T23:52:07.673201Z"
    }
   },
   "outputs": [
    {
     "data": {
      "text/html": [
       "<div>\n",
       "<style scoped>\n",
       "    .dataframe tbody tr th:only-of-type {\n",
       "        vertical-align: middle;\n",
       "    }\n",
       "\n",
       "    .dataframe tbody tr th {\n",
       "        vertical-align: top;\n",
       "    }\n",
       "\n",
       "    .dataframe thead th {\n",
       "        text-align: right;\n",
       "    }\n",
       "</style>\n",
       "<table border=\"1\" class=\"dataframe\">\n",
       "  <thead>\n",
       "    <tr style=\"text-align: right;\">\n",
       "      <th></th>\n",
       "      <th>num_chegadas</th>\n",
       "      <th>num_eventos</th>\n",
       "      <th>prob_real</th>\n",
       "      <th>prob_medida</th>\n",
       "    </tr>\n",
       "  </thead>\n",
       "  <tbody>\n",
       "    <tr>\n",
       "      <th>0</th>\n",
       "      <td>0.0</td>\n",
       "      <td>151</td>\n",
       "      <td>0.135335</td>\n",
       "      <td>0.101684</td>\n",
       "    </tr>\n",
       "    <tr>\n",
       "      <th>1</th>\n",
       "      <td>1.0</td>\n",
       "      <td>276</td>\n",
       "      <td>0.270671</td>\n",
       "      <td>0.185859</td>\n",
       "    </tr>\n",
       "    <tr>\n",
       "      <th>2</th>\n",
       "      <td>2.0</td>\n",
       "      <td>572</td>\n",
       "      <td>0.270671</td>\n",
       "      <td>0.385185</td>\n",
       "    </tr>\n",
       "    <tr>\n",
       "      <th>3</th>\n",
       "      <td>3.0</td>\n",
       "      <td>250</td>\n",
       "      <td>0.180447</td>\n",
       "      <td>0.168350</td>\n",
       "    </tr>\n",
       "    <tr>\n",
       "      <th>4</th>\n",
       "      <td>4.0</td>\n",
       "      <td>183</td>\n",
       "      <td>0.090224</td>\n",
       "      <td>0.123232</td>\n",
       "    </tr>\n",
       "    <tr>\n",
       "      <th>5</th>\n",
       "      <td>5.0</td>\n",
       "      <td>53</td>\n",
       "      <td>0.036089</td>\n",
       "      <td>0.035690</td>\n",
       "    </tr>\n",
       "  </tbody>\n",
       "</table>\n",
       "</div>"
      ],
      "text/plain": [
       "   num_chegadas  num_eventos  prob_real  prob_medida\n",
       "0           0.0          151   0.135335     0.101684\n",
       "1           1.0          276   0.270671     0.185859\n",
       "2           2.0          572   0.270671     0.385185\n",
       "3           3.0          250   0.180447     0.168350\n",
       "4           4.0          183   0.090224     0.123232\n",
       "5           5.0           53   0.036089     0.035690"
      ]
     },
     "execution_count": 178,
     "metadata": {},
     "output_type": "execute_result"
    }
   ],
   "source": [
    "tb_poiss_pro = tb_nev_min.groupby('num_chegadas').sum().reset_index()\n",
    "tb_poiss_pro = tb_poiss_pro.rename({'minuto' : 'num_eventos'}, axis = 1)\n",
    "tb_poiss_pro['prob_real'] = tb_poiss_pro['num_chegadas'].apply(dist_poisson.pmf)\n",
    "tb_poiss_pro['prob_medida'] = tb_poiss_pro['num_eventos']/sum(tb_poiss_pro['num_eventos'])\n",
    "tb_poiss_pro"
   ]
  },
  {
   "cell_type": "code",
   "execution_count": 179,
   "id": "1ac1a0ad",
   "metadata": {
    "ExecuteTime": {
     "end_time": "2022-03-10T23:52:08.725846Z",
     "start_time": "2022-03-10T23:52:08.532365Z"
    }
   },
   "outputs": [
    {
     "data": {
      "text/plain": [
       "<AxesSubplot:xlabel='num_chegadas', ylabel='prob_real'>"
      ]
     },
     "execution_count": 179,
     "metadata": {},
     "output_type": "execute_result"
    },
    {
     "data": {
      "image/png": "[encoded data removed]",
      "text/plain": [
       "<Figure size 432x288 with 1 Axes>"
      ]
     },
     "metadata": {
      "needs_background": "light"
     },
     "output_type": "display_data"
    }
   ],
   "source": [
    "sns.barplot(data = tb_poiss_pro, x = 'num_chegadas', y = 'prob_medida', color = 'blue')\n",
    "sns.pointplot(data = tb_poiss_pro, x = 'num_chegadas', y = 'prob_real', color='red')"
   ]
  },
  {
   "cell_type": "markdown",
   "id": "9c5b6769",
   "metadata": {},
   "source": [
    "### Teorema do Limite Central"
   ]
  },
  {
   "cell_type": "code",
   "execution_count": 180,
   "id": "a9d8bdde",
   "metadata": {
    "ExecuteTime": {
     "end_time": "2022-03-11T00:02:34.341885Z",
     "start_time": "2022-03-11T00:02:34.326919Z"
    }
   },
   "outputs": [
    {
     "data": {
      "text/plain": [
       "[8, 5, 5, 6, 4]"
      ]
     },
     "execution_count": 180,
     "metadata": {},
     "output_type": "execute_result"
    }
   ],
   "source": [
    "amostra_binomial_array = np.array(amostra_binomial[0:99])\n",
    "amostra_binomial[0:5]"
   ]
  },
  {
   "cell_type": "code",
   "execution_count": 181,
   "id": "af7c8f2a",
   "metadata": {
    "ExecuteTime": {
     "end_time": "2022-03-11T00:02:37.222067Z",
     "start_time": "2022-03-11T00:02:37.211123Z"
    }
   },
   "outputs": [
    {
     "data": {
      "text/plain": [
       "[1, 1, 2, 2, 1]"
      ]
     },
     "execution_count": 181,
     "metadata": {},
     "output_type": "execute_result"
    }
   ],
   "source": [
    "amostra_geo_array = np.array(amostra_geo[0:99])\n",
    "amostra_geo[0:5]"
   ]
  },
  {
   "cell_type": "code",
   "execution_count": 182,
   "id": "c6a83c62",
   "metadata": {
    "ExecuteTime": {
     "end_time": "2022-03-11T00:02:37.766822Z",
     "start_time": "2022-03-11T00:02:37.752840Z"
    }
   },
   "outputs": [
    {
     "data": {
      "text/plain": [
       "[3, 2, 2, 5, 2]"
      ]
     },
     "execution_count": 182,
     "metadata": {},
     "output_type": "execute_result"
    }
   ],
   "source": [
    "amostra_poi_array = np.array(amostra_poi[0:99])\n",
    "amostra_poi[0:5]"
   ]
  },
  {
   "cell_type": "code",
   "execution_count": 183,
   "id": "2de1ad1e",
   "metadata": {
    "ExecuteTime": {
     "end_time": "2022-03-11T00:02:38.326694Z",
     "start_time": "2022-03-11T00:02:38.315722Z"
    }
   },
   "outputs": [
    {
     "data": {
      "text/plain": [
       "array([2.41852665, 2.08239741, 0.1492403 , 1.78613964, 0.23203325])"
      ]
     },
     "execution_count": 183,
     "metadata": {},
     "output_type": "execute_result"
    }
   ],
   "source": [
    "amostra_exp_array = np.array(amostra_exp[0:99])\n",
    "amostra_exp[0:5]"
   ]
  },
  {
   "cell_type": "code",
   "execution_count": 184,
   "id": "72a509d2",
   "metadata": {
    "ExecuteTime": {
     "end_time": "2022-03-11T00:03:32.299658Z",
     "start_time": "2022-03-11T00:03:32.287628Z"
    }
   },
   "outputs": [],
   "source": [
    "def norm_array(arr):\n",
    "    mu_arr = np.mean(arr)\n",
    "    sd_arr = np.std(arr)\n",
    "    \n",
    "    return (arr - mu_arr)/sd_arr"
   ]
  },
  {
   "cell_type": "code",
   "execution_count": 185,
   "id": "e43ea14c",
   "metadata": {
    "ExecuteTime": {
     "end_time": "2022-03-11T00:03:56.646345Z",
     "start_time": "2022-03-11T00:03:56.639364Z"
    }
   },
   "outputs": [],
   "source": [
    "amostra_binomial_norm = norm_array(amostra_binomial_array)\n",
    "amostra_geo_array = norm_array(amostra_geo_array)\n",
    "amostra_poi_array = norm_array(amostra_poi_array)\n",
    "amostra_exp_array = norm_array(amostra_exp_array)"
   ]
  },
  {
   "cell_type": "code",
   "execution_count": 186,
   "id": "fa545b4d",
   "metadata": {
    "ExecuteTime": {
     "end_time": "2022-03-11T00:04:19.302728Z",
     "start_time": "2022-03-11T00:04:19.295745Z"
    }
   },
   "outputs": [],
   "source": [
    "amostra_norm = amostra_binomial_norm + amostra_geo_array + amostra_poi_array + amostra_exp_array"
   ]
  },
  {
   "cell_type": "code",
   "execution_count": 187,
   "id": "655f849a",
   "metadata": {
    "ExecuteTime": {
     "end_time": "2022-03-11T00:04:19.752792Z",
     "start_time": "2022-03-11T00:04:19.739826Z"
    }
   },
   "outputs": [
    {
     "data": {
      "text/plain": [
       "array([ 5.19502231e+00,  1.87721248e+00, -6.41813488e-01,  5.10497178e+00,\n",
       "       -1.99635050e+00, -1.52526646e+00,  1.36428689e+00, -2.59117300e+00,\n",
       "       -2.54680163e+00,  4.19138528e+00,  4.48305821e-01,  9.04849876e-01,\n",
       "        1.42863476e+00, -1.71769966e-01,  3.91066626e+00, -1.49879183e+00,\n",
       "       -6.50153065e-01,  4.05360971e-01, -1.11454432e+00, -1.02296684e+00,\n",
       "        5.27731544e-01, -8.60276708e-01, -2.01338455e+00, -4.94447904e-01,\n",
       "       -1.09075530e+00,  1.63583855e+00,  5.92133305e-01, -2.63131804e+00,\n",
       "        5.65639838e-01, -1.25219212e+00, -1.08838363e+00,  1.18662267e+00,\n",
       "       -2.40963284e+00,  4.91051152e+00, -1.39651838e+00,  1.95534596e+00,\n",
       "        8.05750005e-01,  5.32820969e-01, -2.92107650e+00, -1.59161862e+00,\n",
       "        1.62898635e+00,  3.73622019e-01, -5.88989241e-01,  6.14491039e-01,\n",
       "        1.79402433e+00,  6.07558706e-02, -3.17683022e-01, -1.90110266e-01,\n",
       "       -6.88118910e-01, -2.11170926e+00,  3.57700876e-02, -1.48361054e+00,\n",
       "       -5.96286332e-01,  1.06668542e-01,  2.63704167e+00, -6.14235568e-01,\n",
       "       -3.30205150e+00, -3.77776859e-01, -4.14554763e-01, -6.23271057e-01,\n",
       "       -1.48672593e+00, -9.41625706e-04,  1.67524221e-03, -6.48814871e-01,\n",
       "        5.77601434e-01,  2.59788218e+00,  5.32749943e-01,  3.40169152e-01,\n",
       "        1.45462562e+00,  1.50393143e+00,  7.10385336e-02,  1.35902599e+00,\n",
       "       -1.79610665e+00, -7.68962876e-01, -2.43004143e+00, -9.26882172e-01,\n",
       "       -7.07510848e-01, -8.96381044e-01,  3.60615934e+00,  9.14157636e-01,\n",
       "       -3.65188985e-01, -7.05201050e-01, -1.34984781e+00, -1.37158954e+00,\n",
       "       -2.58217123e+00, -6.57275960e-02,  3.34533109e+00,  7.21553251e-01,\n",
       "        5.16277163e-02, -1.16036644e+00,  2.21852663e+00, -7.51029823e-01,\n",
       "       -1.63686310e+00, -1.98855547e+00,  8.34385304e-01, -2.28803542e+00,\n",
       "       -2.91460305e+00, -1.58838890e+00,  6.32267769e+00])"
      ]
     },
     "execution_count": 187,
     "metadata": {},
     "output_type": "execute_result"
    }
   ],
   "source": [
    "amostra_norm"
   ]
  },
  {
   "cell_type": "code",
   "execution_count": 188,
   "id": "90124d02",
   "metadata": {
    "ExecuteTime": {
     "end_time": "2022-03-11T00:05:58.107577Z",
     "start_time": "2022-03-11T00:05:57.846277Z"
    }
   },
   "outputs": [
    {
     "data": {
      "image/png": "[encoded data removed]",
      "text/plain": [
       "<Figure size 432x288 with 1 Axes>"
      ]
     },
     "metadata": {
      "needs_background": "light"
     },
     "output_type": "display_data"
    }
   ],
   "source": [
    "dist_norm = sp.stats.norm(loc = np.mean(amostra_norm), scale = np.std(amostra_norm))\n",
    "random_sample = dist_norm.rvs(1000)\n",
    "sns.kdeplot(amostra_norm);\n",
    "sns.kdeplot(random_sample);"
   ]
  },
  {
   "cell_type": "markdown",
   "id": "855e03f2",
   "metadata": {},
   "source": [
    "# Intervalo de Confiaça e RMSE"
   ]
  },
  {
   "cell_type": "code",
   "execution_count": 20,
   "id": "3ad3cace",
   "metadata": {
    "ExecuteTime": {
     "end_time": "2022-03-11T00:39:36.409850Z",
     "start_time": "2022-03-11T00:39:36.402868Z"
    }
   },
   "outputs": [],
   "source": [
    "candidatos = ['A', 'B']\n",
    "def intencao_voto():\n",
    "    return np.random.choice(candidatos, p = [0.01, 0.99])"
   ]
  },
  {
   "cell_type": "code",
   "execution_count": 21,
   "id": "af5a328c",
   "metadata": {
    "ExecuteTime": {
     "end_time": "2022-03-11T00:39:36.938581Z",
     "start_time": "2022-03-11T00:39:36.928606Z"
    }
   },
   "outputs": [
    {
     "data": {
      "text/plain": [
       "'B'"
      ]
     },
     "execution_count": 21,
     "metadata": {},
     "output_type": "execute_result"
    }
   ],
   "source": [
    "intencao_voto()"
   ]
  },
  {
   "cell_type": "code",
   "execution_count": 22,
   "id": "a18f365a",
   "metadata": {
    "ExecuteTime": {
     "end_time": "2022-03-11T00:39:37.437147Z",
     "start_time": "2022-03-11T00:39:37.431162Z"
    }
   },
   "outputs": [],
   "source": [
    "def pesquisa_opiniao(tamanho_amostra):\n",
    "    pesquisa = [intencao_voto() for i in range(tamanho_amostra)]\n",
    "    c_pesq = Counter(pesquisa)\n",
    "    return c_pesq['A']/tamanho_amostra"
   ]
  },
  {
   "cell_type": "code",
   "execution_count": 23,
   "id": "71694181",
   "metadata": {
    "ExecuteTime": {
     "end_time": "2022-03-11T00:39:38.023111Z",
     "start_time": "2022-03-11T00:39:37.982221Z"
    }
   },
   "outputs": [
    {
     "data": {
      "text/plain": [
       "0.008"
      ]
     },
     "execution_count": 23,
     "metadata": {},
     "output_type": "execute_result"
    }
   ],
   "source": [
    "pesquisa_opiniao(1000)"
   ]
  },
  {
   "cell_type": "code",
   "execution_count": 24,
   "id": "2214a10f",
   "metadata": {
    "ExecuteTime": {
     "end_time": "2022-03-11T00:39:55.415480Z",
     "start_time": "2022-03-11T00:39:53.279139Z"
    }
   },
   "outputs": [],
   "source": [
    "lista_pesquisas = [pesquisa_opiniao(100) for i in range(1000)]"
   ]
  },
  {
   "cell_type": "code",
   "execution_count": 25,
   "id": "efe6d8d9",
   "metadata": {
    "ExecuteTime": {
     "end_time": "2022-03-11T00:39:55.536663Z",
     "start_time": "2022-03-11T00:39:55.417474Z"
    }
   },
   "outputs": [
    {
     "name": "stderr",
     "output_type": "stream",
     "text": [
      "C:\\ProgramData\\Anaconda3\\lib\\site-packages\\seaborn\\_decorators.py:36: FutureWarning: Pass the following variable as a keyword arg: x. From version 0.12, the only valid positional argument will be `data`, and passing other arguments without an explicit keyword will result in an error or misinterpretation.\n",
      "  warnings.warn(\n"
     ]
    },
    {
     "data": {
      "image/png": "[encoded data removed]",
      "text/plain": [
       "<Figure size 432x288 with 1 Axes>"
      ]
     },
     "metadata": {
      "needs_background": "light"
     },
     "output_type": "display_data"
    }
   ],
   "source": [
    "sns.boxplot(lista_pesquisas);"
   ]
  },
  {
   "cell_type": "code",
   "execution_count": 26,
   "id": "c0cf69aa",
   "metadata": {
    "ExecuteTime": {
     "end_time": "2022-03-11T00:42:53.910747Z",
     "start_time": "2022-03-11T00:42:50.086214Z"
    }
   },
   "outputs": [
    {
     "data": {
      "text/plain": [
       "<AxesSubplot:xlabel='age', ylabel='lm_pred'>"
      ]
     },
     "execution_count": 26,
     "metadata": {},
     "output_type": "execute_result"
    },
    {
     "data": {
      "image/png": "[encoded data removed]",
      "text/plain": [
       "<Figure size 432x288 with 1 Axes>"
      ]
     },
     "metadata": {
      "needs_background": "light"
     },
     "output_type": "display_data"
    }
   ],
   "source": [
    "tb_insu = pd.read_csv('data/tb_insurance.csv')\n",
    "tb_insu['out'] = np.where((tb_insu['expenses'] > 10000) & (tb_insu['smoker'] == 'no'),\n",
    "                          1, 0)\n",
    "tb_insu = tb_insu[tb_insu['out'] == 0].copy()\n",
    "tb_insu['obese'] = np.where(tb_insu['bmi'] >= 30, 'yes', 'no')\n",
    "tb_insu = tb_insu.join(pd.get_dummies(tb_insu['obese'], prefix = 'obese'))\n",
    "tb_insu = tb_insu.join(pd.get_dummies(tb_insu['smoker'], prefix = 'smoker'))\n",
    "tb_insu['obese_smoker'] = tb_insu['obese_yes'] * tb_insu['smoker_yes']\n",
    "tb_insu['bmi_smoker'] = tb_insu['bmi'] * tb_insu['smoker_yes']\n",
    "\n",
    "X = sm.add_constant(tb_insu[['obese_smoker', 'age', 'bmi_smoker', 'smoker_yes']])\n",
    "Y = tb_insu['expenses']\n",
    "modelo = sm.OLS(Y, X)\n",
    "lm_fit = modelo.fit()\n",
    "tb_insu['lm_pred'] = lm_fit.predict()\n",
    "sns.lineplot(data = tb_insu, x = 'age', y='lm_pred', hue = 'smoker', style = 'obese')\n",
    "sns.scatterplot(data = tb_insu, x = 'age', y='expenses', hue = 'smoker', style = 'obese')"
   ]
  },
  {
   "cell_type": "code",
   "execution_count": 27,
   "id": "ad77962a",
   "metadata": {
    "ExecuteTime": {
     "end_time": "2022-03-11T00:42:59.136180Z",
     "start_time": "2022-03-11T00:42:59.107258Z"
    }
   },
   "outputs": [
    {
     "data": {
      "text/html": [
       "<table class=\"simpletable\">\n",
       "<caption>OLS Regression Results</caption>\n",
       "<tr>\n",
       "  <th>Dep. Variable:</th>        <td>expenses</td>     <th>  R-squared:         </th> <td>   0.977</td> \n",
       "</tr>\n",
       "<tr>\n",
       "  <th>Model:</th>                   <td>OLS</td>       <th>  Adj. R-squared:    </th> <td>   0.977</td> \n",
       "</tr>\n",
       "<tr>\n",
       "  <th>Method:</th>             <td>Least Squares</td>  <th>  F-statistic:       </th> <td>1.065e+04</td>\n",
       "</tr>\n",
       "<tr>\n",
       "  <th>Date:</th>             <td>Thu, 10 Mar 2022</td> <th>  Prob (F-statistic):</th>  <td>  0.00</td>  \n",
       "</tr>\n",
       "<tr>\n",
       "  <th>Time:</th>                 <td>21:42:59</td>     <th>  Log-Likelihood:    </th> <td> -8916.8</td> \n",
       "</tr>\n",
       "<tr>\n",
       "  <th>No. Observations:</th>      <td>   986</td>      <th>  AIC:               </th> <td>1.784e+04</td>\n",
       "</tr>\n",
       "<tr>\n",
       "  <th>Df Residuals:</th>          <td>   981</td>      <th>  BIC:               </th> <td>1.787e+04</td>\n",
       "</tr>\n",
       "<tr>\n",
       "  <th>Df Model:</th>              <td>     4</td>      <th>                     </th>     <td> </td>    \n",
       "</tr>\n",
       "<tr>\n",
       "  <th>Covariance Type:</th>      <td>nonrobust</td>    <th>                     </th>     <td> </td>    \n",
       "</tr>\n",
       "</table>\n",
       "<table class=\"simpletable\">\n",
       "<tr>\n",
       "        <td></td>          <th>coef</th>     <th>std err</th>      <th>t</th>      <th>P>|t|</th>  <th>[0.025</th>    <th>0.975]</th>  \n",
       "</tr>\n",
       "<tr>\n",
       "  <th>const</th>        <td>-3003.6640</td> <td>  202.620</td> <td>  -14.824</td> <td> 0.000</td> <td>-3401.282</td> <td>-2606.046</td>\n",
       "</tr>\n",
       "<tr>\n",
       "  <th>obese_smoker</th> <td> 1.485e+04</td> <td>  420.570</td> <td>   35.312</td> <td> 0.000</td> <td>  1.4e+04</td> <td> 1.57e+04</td>\n",
       "</tr>\n",
       "<tr>\n",
       "  <th>age</th>          <td>  248.1286</td> <td>    5.664</td> <td>   43.805</td> <td> 0.000</td> <td>  237.013</td> <td>  259.244</td>\n",
       "</tr>\n",
       "<tr>\n",
       "  <th>bmi_smoker</th>   <td>  492.4567</td> <td>   33.282</td> <td>   14.796</td> <td> 0.000</td> <td>  427.144</td> <td>  557.769</td>\n",
       "</tr>\n",
       "<tr>\n",
       "  <th>smoker_yes</th>   <td> 2513.1394</td> <td>  864.965</td> <td>    2.905</td> <td> 0.004</td> <td>  815.744</td> <td> 4210.534</td>\n",
       "</tr>\n",
       "</table>\n",
       "<table class=\"simpletable\">\n",
       "<tr>\n",
       "  <th>Omnibus:</th>       <td>1048.831</td> <th>  Durbin-Watson:     </th> <td>   1.919</td> \n",
       "</tr>\n",
       "<tr>\n",
       "  <th>Prob(Omnibus):</th>  <td> 0.000</td>  <th>  Jarque-Bera (JB):  </th> <td>96166.509</td>\n",
       "</tr>\n",
       "<tr>\n",
       "  <th>Skew:</th>           <td> 4.926</td>  <th>  Prob(JB):          </th> <td>    0.00</td> \n",
       "</tr>\n",
       "<tr>\n",
       "  <th>Kurtosis:</th>       <td>50.368</td>  <th>  Cond. No.          </th> <td>    532.</td> \n",
       "</tr>\n",
       "</table><br/><br/>Notes:<br/>[1] Standard Errors assume that the covariance matrix of the errors is correctly specified."
      ],
      "text/plain": [
       "<class 'statsmodels.iolib.summary.Summary'>\n",
       "\"\"\"\n",
       "                            OLS Regression Results                            \n",
       "==============================================================================\n",
       "Dep. Variable:               expenses   R-squared:                       0.977\n",
       "Model:                            OLS   Adj. R-squared:                  0.977\n",
       "Method:                 Least Squares   F-statistic:                 1.065e+04\n",
       "Date:                Thu, 10 Mar 2022   Prob (F-statistic):               0.00\n",
       "Time:                        21:42:59   Log-Likelihood:                -8916.8\n",
       "No. Observations:                 986   AIC:                         1.784e+04\n",
       "Df Residuals:                     981   BIC:                         1.787e+04\n",
       "Df Model:                           4                                         \n",
       "Covariance Type:            nonrobust                                         \n",
       "================================================================================\n",
       "                   coef    std err          t      P>|t|      [0.025      0.975]\n",
       "--------------------------------------------------------------------------------\n",
       "const        -3003.6640    202.620    -14.824      0.000   -3401.282   -2606.046\n",
       "obese_smoker  1.485e+04    420.570     35.312      0.000     1.4e+04    1.57e+04\n",
       "age            248.1286      5.664     43.805      0.000     237.013     259.244\n",
       "bmi_smoker     492.4567     33.282     14.796      0.000     427.144     557.769\n",
       "smoker_yes    2513.1394    864.965      2.905      0.004     815.744    4210.534\n",
       "==============================================================================\n",
       "Omnibus:                     1048.831   Durbin-Watson:                   1.919\n",
       "Prob(Omnibus):                  0.000   Jarque-Bera (JB):            96166.509\n",
       "Skew:                           4.926   Prob(JB):                         0.00\n",
       "Kurtosis:                      50.368   Cond. No.                         532.\n",
       "==============================================================================\n",
       "\n",
       "Notes:\n",
       "[1] Standard Errors assume that the covariance matrix of the errors is correctly specified.\n",
       "\"\"\""
      ]
     },
     "execution_count": 27,
     "metadata": {},
     "output_type": "execute_result"
    }
   ],
   "source": [
    "lm_fit.summary()\n"
   ]
  },
  {
   "cell_type": "code",
   "execution_count": 28,
   "id": "af4b697b",
   "metadata": {
    "ExecuteTime": {
     "end_time": "2022-03-11T00:49:29.824691Z",
     "start_time": "2022-03-11T00:49:29.807631Z"
    }
   },
   "outputs": [],
   "source": [
    "tb_insu['resid'] = tb_insu['expenses'] - tb_insu['lm_pred']"
   ]
  },
  {
   "cell_type": "code",
   "execution_count": 29,
   "id": "4fe2c4ad",
   "metadata": {
    "ExecuteTime": {
     "end_time": "2022-03-11T00:49:30.635561Z",
     "start_time": "2022-03-11T00:49:30.211295Z"
    }
   },
   "outputs": [
    {
     "data": {
      "text/plain": [
       "<AxesSubplot:xlabel='resid', ylabel='Count'>"
      ]
     },
     "execution_count": 29,
     "metadata": {},
     "output_type": "execute_result"
    },
    {
     "data": {
      "image/png": "[encoded data removed]",
      "text/plain": [
       "<Figure size 432x288 with 1 Axes>"
      ]
     },
     "metadata": {
      "needs_background": "light"
     },
     "output_type": "display_data"
    }
   ],
   "source": [
    "sns.histplot(data = tb_insu, x = 'resid')"
   ]
  },
  {
   "cell_type": "code",
   "execution_count": 30,
   "id": "678615d4",
   "metadata": {
    "ExecuteTime": {
     "end_time": "2022-03-11T00:50:36.478007Z",
     "start_time": "2022-03-11T00:50:36.459056Z"
    }
   },
   "outputs": [],
   "source": [
    "rmse = np.sqrt(np.mean(tb_insu['resid']**2))"
   ]
  },
  {
   "cell_type": "code",
   "execution_count": 31,
   "id": "96b1ef3b",
   "metadata": {
    "ExecuteTime": {
     "end_time": "2022-03-11T00:50:36.854156Z",
     "start_time": "2022-03-11T00:50:36.839167Z"
    }
   },
   "outputs": [
    {
     "data": {
      "text/plain": [
       "2047.7924002302782"
      ]
     },
     "execution_count": 31,
     "metadata": {},
     "output_type": "execute_result"
    }
   ],
   "source": [
    "rmse"
   ]
  },
  {
   "cell_type": "code",
   "execution_count": 32,
   "id": "1de06d03",
   "metadata": {
    "ExecuteTime": {
     "end_time": "2022-03-11T00:51:52.048356Z",
     "start_time": "2022-03-11T00:51:52.028410Z"
    }
   },
   "outputs": [
    {
     "data": {
      "text/plain": [
       "2047.7924002302786"
      ]
     },
     "execution_count": 32,
     "metadata": {},
     "output_type": "execute_result"
    }
   ],
   "source": [
    "np.std(tb_insu['resid'])"
   ]
  },
  {
   "cell_type": "code",
   "execution_count": 33,
   "id": "3316221f",
   "metadata": {
    "ExecuteTime": {
     "end_time": "2022-03-11T00:52:59.189010Z",
     "start_time": "2022-03-11T00:52:58.937683Z"
    }
   },
   "outputs": [
    {
     "data": {
      "text/plain": [
       "<AxesSubplot:ylabel='Density'>"
      ]
     },
     "execution_count": 33,
     "metadata": {},
     "output_type": "execute_result"
    },
    {
     "data": {
      "image/png": "[encoded data removed]",
      "text/plain": [
       "<Figure size 432x288 with 1 Axes>"
      ]
     },
     "metadata": {
      "needs_background": "light"
     },
     "output_type": "display_data"
    }
   ],
   "source": [
    "norm_rmse =  sp.stats.norm(loc = 0, scale = rmse)\n",
    "rand_rmse = norm_rmse.rvs(10000)\n",
    "sns.kdeplot(rand_rmse)"
   ]
  },
  {
   "cell_type": "code",
   "execution_count": 37,
   "id": "7c4a5341",
   "metadata": {
    "ExecuteTime": {
     "end_time": "2022-03-11T00:54:28.668850Z",
     "start_time": "2022-03-11T00:54:28.648905Z"
    }
   },
   "outputs": [
    {
     "data": {
      "text/plain": [
       "7986.400647733823"
      ]
     },
     "execution_count": 37,
     "metadata": {},
     "output_type": "execute_result"
    }
   ],
   "source": [
    "12000 + norm_rmse.ppf(0.025)"
   ]
  },
  {
   "cell_type": "code",
   "execution_count": 42,
   "id": "83717611",
   "metadata": {
    "ExecuteTime": {
     "end_time": "2022-03-11T00:54:51.113991Z",
     "start_time": "2022-03-11T00:54:51.106011Z"
    }
   },
   "outputs": [
    {
     "data": {
      "text/plain": [
       "16013.599352266177"
      ]
     },
     "execution_count": 42,
     "metadata": {},
     "output_type": "execute_result"
    }
   ],
   "source": [
    "12000 + norm_rmse.ppf(0.975)"
   ]
  },
  {
   "cell_type": "markdown",
   "id": "d6b23b05",
   "metadata": {},
   "source": [
    "## RMSE e Complexidade"
   ]
  },
  {
   "cell_type": "code",
   "execution_count": 43,
   "id": "2eb18e57",
   "metadata": {
    "ExecuteTime": {
     "end_time": "2022-03-11T00:57:52.234348Z",
     "start_time": "2022-03-11T00:57:52.214406Z"
    }
   },
   "outputs": [],
   "source": [
    "def simular_dado(min_x, max_X, \n",
    "                 desvpad_E, A, B,\n",
    "                 samples):\n",
    "    x = np.random.uniform(min_x, max_X, size = samples)\n",
    "    E = np.random.normal(loc = 0, scale = desvpad_E, size = samples)\n",
    "    y = B + A * x + E\n",
    "    return pd.DataFrame({'x' : x, 'y' : y})\n",
    "\n",
    "tb_simul = simular_dado(0, 10, 15, 10, 10, 100)"
   ]
  },
  {
   "cell_type": "code",
   "execution_count": 44,
   "id": "b695e1d4",
   "metadata": {
    "ExecuteTime": {
     "end_time": "2022-03-11T00:57:53.509219Z",
     "start_time": "2022-03-11T00:57:53.323713Z"
    }
   },
   "outputs": [
    {
     "data": {
      "text/plain": [
       "<AxesSubplot:xlabel='x', ylabel='y'>"
      ]
     },
     "execution_count": 44,
     "metadata": {},
     "output_type": "execute_result"
    },
    {
     "data": {
      "image/png": "[encoded data removed]",
      "text/plain": [
       "<Figure size 432x288 with 1 Axes>"
      ]
     },
     "metadata": {
      "needs_background": "light"
     },
     "output_type": "display_data"
    }
   ],
   "source": [
    "sns.scatterplot(data = tb_simul, x = 'x', y = 'y')"
   ]
  },
  {
   "cell_type": "code",
   "execution_count": 45,
   "id": "59b414a4",
   "metadata": {
    "ExecuteTime": {
     "end_time": "2022-03-11T00:58:21.248572Z",
     "start_time": "2022-03-11T00:58:20.998729Z"
    }
   },
   "outputs": [
    {
     "data": {
      "image/png": "[encoded data removed]",
      "text/plain": [
       "<Figure size 432x288 with 1 Axes>"
      ]
     },
     "metadata": {
      "needs_background": "light"
     },
     "output_type": "display_data"
    }
   ],
   "source": [
    "modelo = LinearRegression()\n",
    "X = tb_simul[['x']]\n",
    "Y = tb_simul['y']\n",
    "modelo.fit(X, Y)\n",
    "\n",
    "tb_simul['pred'] = modelo.predict(X)\n",
    "tb_simul['erro_2'] = (tb_simul['pred'] - tb_simul['y'])**2\n",
    "rmse = np.sqrt(np.mean(tb_simul['erro_2']))\n",
    "sns.scatterplot(data = tb_simul, x = 'x', y = 'y');\n",
    "sns.lineplot(data = tb_simul, x = 'x', y = 'pred');\n",
    "plt.title(\"RMSE: \" + str(round(rmse, 2)));"
   ]
  },
  {
   "cell_type": "code",
   "execution_count": 46,
   "id": "61e45ca2",
   "metadata": {
    "ExecuteTime": {
     "end_time": "2022-03-11T00:58:59.369235Z",
     "start_time": "2022-03-11T00:58:59.346292Z"
    }
   },
   "outputs": [
    {
     "data": {
      "text/html": [
       "<div>\n",
       "<style scoped>\n",
       "    .dataframe tbody tr th:only-of-type {\n",
       "        vertical-align: middle;\n",
       "    }\n",
       "\n",
       "    .dataframe tbody tr th {\n",
       "        vertical-align: top;\n",
       "    }\n",
       "\n",
       "    .dataframe thead th {\n",
       "        text-align: right;\n",
       "    }\n",
       "</style>\n",
       "<table border=\"1\" class=\"dataframe\">\n",
       "  <thead>\n",
       "    <tr style=\"text-align: right;\">\n",
       "      <th></th>\n",
       "      <th>x</th>\n",
       "      <th>y</th>\n",
       "      <th>pred</th>\n",
       "      <th>erro_2</th>\n",
       "      <th>x_2</th>\n",
       "      <th>x_3</th>\n",
       "    </tr>\n",
       "  </thead>\n",
       "  <tbody>\n",
       "    <tr>\n",
       "      <th>0</th>\n",
       "      <td>3.878153</td>\n",
       "      <td>34.210025</td>\n",
       "      <td>50.042740</td>\n",
       "      <td>250.674854</td>\n",
       "      <td>15.040070</td>\n",
       "      <td>58.327694</td>\n",
       "    </tr>\n",
       "    <tr>\n",
       "      <th>1</th>\n",
       "      <td>8.108020</td>\n",
       "      <td>106.793389</td>\n",
       "      <td>92.802624</td>\n",
       "      <td>195.741500</td>\n",
       "      <td>65.739992</td>\n",
       "      <td>533.021179</td>\n",
       "    </tr>\n",
       "    <tr>\n",
       "      <th>2</th>\n",
       "      <td>8.409902</td>\n",
       "      <td>116.441403</td>\n",
       "      <td>95.854359</td>\n",
       "      <td>423.826411</td>\n",
       "      <td>70.726452</td>\n",
       "      <td>594.802528</td>\n",
       "    </tr>\n",
       "    <tr>\n",
       "      <th>3</th>\n",
       "      <td>2.713762</td>\n",
       "      <td>33.204391</td>\n",
       "      <td>38.271870</td>\n",
       "      <td>25.679340</td>\n",
       "      <td>7.364505</td>\n",
       "      <td>19.985515</td>\n",
       "    </tr>\n",
       "    <tr>\n",
       "      <th>4</th>\n",
       "      <td>4.743115</td>\n",
       "      <td>36.258523</td>\n",
       "      <td>58.786671</td>\n",
       "      <td>507.517465</td>\n",
       "      <td>22.497138</td>\n",
       "      <td>106.706510</td>\n",
       "    </tr>\n",
       "  </tbody>\n",
       "</table>\n",
       "</div>"
      ],
      "text/plain": [
       "          x           y       pred      erro_2        x_2         x_3\n",
       "0  3.878153   34.210025  50.042740  250.674854  15.040070   58.327694\n",
       "1  8.108020  106.793389  92.802624  195.741500  65.739992  533.021179\n",
       "2  8.409902  116.441403  95.854359  423.826411  70.726452  594.802528\n",
       "3  2.713762   33.204391  38.271870   25.679340   7.364505   19.985515\n",
       "4  4.743115   36.258523  58.786671  507.517465  22.497138  106.706510"
      ]
     },
     "execution_count": 46,
     "metadata": {},
     "output_type": "execute_result"
    }
   ],
   "source": [
    "modelo = LinearRegression()\n",
    "tb_simul['x_2'] = tb_simul['x'] ** 2\n",
    "tb_simul['x_3'] = tb_simul['x'] ** 3\n",
    "tb_simul.head()"
   ]
  },
  {
   "cell_type": "code",
   "execution_count": 47,
   "id": "fed3d753",
   "metadata": {
    "ExecuteTime": {
     "end_time": "2022-03-11T00:59:05.527301Z",
     "start_time": "2022-03-11T00:59:05.250047Z"
    }
   },
   "outputs": [
    {
     "data": {
      "image/png": "[encoded data removed]",
      "text/plain": [
       "<Figure size 432x288 with 1 Axes>"
      ]
     },
     "metadata": {
      "needs_background": "light"
     },
     "output_type": "display_data"
    }
   ],
   "source": [
    "X = tb_simul[['x', 'x_2', 'x_3']]\n",
    "Y = tb_simul['y']\n",
    "modelo.fit(X, Y)\n",
    "\n",
    "tb_simul['pred'] = modelo.predict(X)\n",
    "tb_simul['erro_2'] = (tb_simul['pred'] - tb_simul['y'])**2\n",
    "rmse = np.sqrt(np.mean(tb_simul['erro_2']))\n",
    "sns.scatterplot(data = tb_simul, x = 'x', y = 'y');\n",
    "sns.lineplot(data = tb_simul, x = 'x', y = 'pred');\n",
    "plt.title(\"RMSE: \" + str(round(rmse, 2)));"
   ]
  },
  {
   "cell_type": "code",
   "execution_count": 48,
   "id": "096463db",
   "metadata": {
    "ExecuteTime": {
     "end_time": "2022-03-11T00:59:36.623700Z",
     "start_time": "2022-03-11T00:59:36.600762Z"
    }
   },
   "outputs": [],
   "source": [
    "for i in range(4, 21):\n",
    "    tb_simul['x_' + str(i)] = tb_simul['x'] ** i"
   ]
  },
  {
   "cell_type": "code",
   "execution_count": 49,
   "id": "0e1c2331",
   "metadata": {
    "ExecuteTime": {
     "end_time": "2022-03-11T00:59:38.258108Z",
     "start_time": "2022-03-11T00:59:38.219213Z"
    }
   },
   "outputs": [
    {
     "data": {
      "text/html": [
       "<div>\n",
       "<style scoped>\n",
       "    .dataframe tbody tr th:only-of-type {\n",
       "        vertical-align: middle;\n",
       "    }\n",
       "\n",
       "    .dataframe tbody tr th {\n",
       "        vertical-align: top;\n",
       "    }\n",
       "\n",
       "    .dataframe thead th {\n",
       "        text-align: right;\n",
       "    }\n",
       "</style>\n",
       "<table border=\"1\" class=\"dataframe\">\n",
       "  <thead>\n",
       "    <tr style=\"text-align: right;\">\n",
       "      <th></th>\n",
       "      <th>x</th>\n",
       "      <th>y</th>\n",
       "      <th>pred</th>\n",
       "      <th>erro_2</th>\n",
       "      <th>x_2</th>\n",
       "      <th>x_3</th>\n",
       "      <th>x_4</th>\n",
       "      <th>x_5</th>\n",
       "      <th>x_6</th>\n",
       "      <th>x_7</th>\n",
       "      <th>...</th>\n",
       "      <th>x_11</th>\n",
       "      <th>x_12</th>\n",
       "      <th>x_13</th>\n",
       "      <th>x_14</th>\n",
       "      <th>x_15</th>\n",
       "      <th>x_16</th>\n",
       "      <th>x_17</th>\n",
       "      <th>x_18</th>\n",
       "      <th>x_19</th>\n",
       "      <th>x_20</th>\n",
       "    </tr>\n",
       "  </thead>\n",
       "  <tbody>\n",
       "    <tr>\n",
       "      <th>0</th>\n",
       "      <td>3.878153</td>\n",
       "      <td>34.210025</td>\n",
       "      <td>48.904698</td>\n",
       "      <td>215.933413</td>\n",
       "      <td>15.040070</td>\n",
       "      <td>58.327694</td>\n",
       "      <td>226.203719</td>\n",
       "      <td>877.252623</td>\n",
       "      <td>3402.119863</td>\n",
       "      <td>1.319394e+04</td>\n",
       "      <td>...</td>\n",
       "      <td>2.984519e+06</td>\n",
       "      <td>1.157442e+07</td>\n",
       "      <td>4.488737e+07</td>\n",
       "      <td>1.740801e+08</td>\n",
       "      <td>6.751092e+08</td>\n",
       "      <td>2.618177e+09</td>\n",
       "      <td>1.015369e+10</td>\n",
       "      <td>3.937756e+10</td>\n",
       "      <td>1.527122e+11</td>\n",
       "      <td>5.922413e+11</td>\n",
       "    </tr>\n",
       "    <tr>\n",
       "      <th>1</th>\n",
       "      <td>8.108020</td>\n",
       "      <td>106.793389</td>\n",
       "      <td>94.007057</td>\n",
       "      <td>163.490287</td>\n",
       "      <td>65.739992</td>\n",
       "      <td>533.021179</td>\n",
       "      <td>4321.746488</td>\n",
       "      <td>35040.807815</td>\n",
       "      <td>284111.577539</td>\n",
       "      <td>2.303582e+06</td>\n",
       "      <td>...</td>\n",
       "      <td>9.955499e+09</td>\n",
       "      <td>8.071939e+10</td>\n",
       "      <td>6.544744e+11</td>\n",
       "      <td>5.306492e+12</td>\n",
       "      <td>4.302514e+13</td>\n",
       "      <td>3.488487e+14</td>\n",
       "      <td>2.828473e+15</td>\n",
       "      <td>2.293331e+16</td>\n",
       "      <td>1.859438e+17</td>\n",
       "      <td>1.507636e+18</td>\n",
       "    </tr>\n",
       "    <tr>\n",
       "      <th>2</th>\n",
       "      <td>8.409902</td>\n",
       "      <td>116.441403</td>\n",
       "      <td>96.853459</td>\n",
       "      <td>383.687554</td>\n",
       "      <td>70.726452</td>\n",
       "      <td>594.802528</td>\n",
       "      <td>5002.230971</td>\n",
       "      <td>42068.272263</td>\n",
       "      <td>353790.047182</td>\n",
       "      <td>2.975340e+06</td>\n",
       "      <td>...</td>\n",
       "      <td>1.488334e+10</td>\n",
       "      <td>1.251674e+11</td>\n",
       "      <td>1.052646e+12</td>\n",
       "      <td>8.852646e+12</td>\n",
       "      <td>7.444988e+13</td>\n",
       "      <td>6.261162e+14</td>\n",
       "      <td>5.265576e+15</td>\n",
       "      <td>4.428298e+16</td>\n",
       "      <td>3.724155e+17</td>\n",
       "      <td>3.131978e+18</td>\n",
       "    </tr>\n",
       "    <tr>\n",
       "      <th>3</th>\n",
       "      <td>2.713762</td>\n",
       "      <td>33.204391</td>\n",
       "      <td>36.782801</td>\n",
       "      <td>12.805020</td>\n",
       "      <td>7.364505</td>\n",
       "      <td>19.985515</td>\n",
       "      <td>54.235935</td>\n",
       "      <td>147.183427</td>\n",
       "      <td>399.420814</td>\n",
       "      <td>1.083933e+03</td>\n",
       "      <td>...</td>\n",
       "      <td>5.878812e+04</td>\n",
       "      <td>1.595370e+05</td>\n",
       "      <td>4.329454e+05</td>\n",
       "      <td>1.174911e+06</td>\n",
       "      <td>3.188429e+06</td>\n",
       "      <td>8.652638e+06</td>\n",
       "      <td>2.348120e+07</td>\n",
       "      <td>6.372239e+07</td>\n",
       "      <td>1.729274e+08</td>\n",
       "      <td>4.692839e+08</td>\n",
       "    </tr>\n",
       "    <tr>\n",
       "      <th>4</th>\n",
       "      <td>4.743115</td>\n",
       "      <td>36.258523</td>\n",
       "      <td>58.322347</td>\n",
       "      <td>486.812357</td>\n",
       "      <td>22.497138</td>\n",
       "      <td>106.706510</td>\n",
       "      <td>506.121228</td>\n",
       "      <td>2400.591101</td>\n",
       "      <td>11386.279236</td>\n",
       "      <td>5.400643e+04</td>\n",
       "      <td>...</td>\n",
       "      <td>2.733380e+07</td>\n",
       "      <td>1.296474e+08</td>\n",
       "      <td>6.149323e+08</td>\n",
       "      <td>2.916694e+09</td>\n",
       "      <td>1.383422e+10</td>\n",
       "      <td>6.561728e+10</td>\n",
       "      <td>3.112303e+11</td>\n",
       "      <td>1.476201e+12</td>\n",
       "      <td>7.001791e+12</td>\n",
       "      <td>3.321030e+13</td>\n",
       "    </tr>\n",
       "  </tbody>\n",
       "</table>\n",
       "<p>5 rows × 23 columns</p>\n",
       "</div>"
      ],
      "text/plain": [
       "          x           y       pred      erro_2        x_2         x_3  \\\n",
       "0  3.878153   34.210025  48.904698  215.933413  15.040070   58.327694   \n",
       "1  8.108020  106.793389  94.007057  163.490287  65.739992  533.021179   \n",
       "2  8.409902  116.441403  96.853459  383.687554  70.726452  594.802528   \n",
       "3  2.713762   33.204391  36.782801   12.805020   7.364505   19.985515   \n",
       "4  4.743115   36.258523  58.322347  486.812357  22.497138  106.706510   \n",
       "\n",
       "           x_4           x_5            x_6           x_7  ...          x_11  \\\n",
       "0   226.203719    877.252623    3402.119863  1.319394e+04  ...  2.984519e+06   \n",
       "1  4321.746488  35040.807815  284111.577539  2.303582e+06  ...  9.955499e+09   \n",
       "2  5002.230971  42068.272263  353790.047182  2.975340e+06  ...  1.488334e+10   \n",
       "3    54.235935    147.183427     399.420814  1.083933e+03  ...  5.878812e+04   \n",
       "4   506.121228   2400.591101   11386.279236  5.400643e+04  ...  2.733380e+07   \n",
       "\n",
       "           x_12          x_13          x_14          x_15          x_16  \\\n",
       "0  1.157442e+07  4.488737e+07  1.740801e+08  6.751092e+08  2.618177e+09   \n",
       "1  8.071939e+10  6.544744e+11  5.306492e+12  4.302514e+13  3.488487e+14   \n",
       "2  1.251674e+11  1.052646e+12  8.852646e+12  7.444988e+13  6.261162e+14   \n",
       "3  1.595370e+05  4.329454e+05  1.174911e+06  3.188429e+06  8.652638e+06   \n",
       "4  1.296474e+08  6.149323e+08  2.916694e+09  1.383422e+10  6.561728e+10   \n",
       "\n",
       "           x_17          x_18          x_19          x_20  \n",
       "0  1.015369e+10  3.937756e+10  1.527122e+11  5.922413e+11  \n",
       "1  2.828473e+15  2.293331e+16  1.859438e+17  1.507636e+18  \n",
       "2  5.265576e+15  4.428298e+16  3.724155e+17  3.131978e+18  \n",
       "3  2.348120e+07  6.372239e+07  1.729274e+08  4.692839e+08  \n",
       "4  3.112303e+11  1.476201e+12  7.001791e+12  3.321030e+13  \n",
       "\n",
       "[5 rows x 23 columns]"
      ]
     },
     "execution_count": 49,
     "metadata": {},
     "output_type": "execute_result"
    }
   ],
   "source": [
    "tb_simul.head()"
   ]
  },
  {
   "cell_type": "code",
   "execution_count": 51,
   "id": "f657e343",
   "metadata": {
    "ExecuteTime": {
     "end_time": "2022-03-11T01:00:27.537385Z",
     "start_time": "2022-03-11T01:00:27.527411Z"
    }
   },
   "outputs": [],
   "source": [
    "def calcular_erro(dados, X_names, Y_name):\n",
    "    modelo = LinearRegression()\n",
    "    X = dados[X_names]\n",
    "    Y = dados[Y_name]\n",
    "    modelo.fit(X, Y)\n",
    "    \n",
    "    dados['pred'] = modelo.predict(X)\n",
    "    dados['erro_2'] = (dados['pred'] - dados[Y_name])**2\n",
    "    rmse = np.sqrt(np.mean(dados['erro_2']))\n",
    "    return round(rmse, 2)"
   ]
  },
  {
   "cell_type": "code",
   "execution_count": 52,
   "id": "c47def24",
   "metadata": {
    "ExecuteTime": {
     "end_time": "2022-03-11T01:00:28.122354Z",
     "start_time": "2022-03-11T01:00:27.991736Z"
    }
   },
   "outputs": [
    {
     "name": "stdout",
     "output_type": "stream",
     "text": [
      "Polinomio Grau:1 RMSE:15.32\n",
      "Polinomio Grau:2 RMSE:15.31\n",
      "Polinomio Grau:3 RMSE:15.28\n",
      "Polinomio Grau:4 RMSE:15.28\n",
      "Polinomio Grau:5 RMSE:15.25\n",
      "Polinomio Grau:6 RMSE:15.06\n",
      "Polinomio Grau:7 RMSE:15.03\n",
      "Polinomio Grau:8 RMSE:14.97\n",
      "Polinomio Grau:9 RMSE:14.9\n",
      "Polinomio Grau:10 RMSE:14.9\n",
      "Polinomio Grau:11 RMSE:14.88\n",
      "Polinomio Grau:12 RMSE:14.88\n",
      "Polinomio Grau:13 RMSE:14.75\n",
      "Polinomio Grau:14 RMSE:14.81\n",
      "Polinomio Grau:15 RMSE:14.72\n",
      "Polinomio Grau:16 RMSE:14.68\n",
      "Polinomio Grau:17 RMSE:14.76\n",
      "Polinomio Grau:18 RMSE:14.87\n",
      "Polinomio Grau:19 RMSE:15.3\n",
      "Polinomio Grau:20 RMSE:15.43\n"
     ]
    }
   ],
   "source": [
    "print(\"Polinomio Grau:\" + str(1) + \" RMSE:\" + str(calcular_erro(tb_simul, ['x'], 'y')))\n",
    "for poly in range(2, 21):\n",
    "    var_x = ['x_' + str(i) for i in range(2, poly+1)] + ['x']\n",
    "    print(\"Polinomio Grau:\" + str(poly) + \" RMSE:\" + str(calcular_erro(tb_simul, var_x, 'y')))"
   ]
  },
  {
   "cell_type": "code",
   "execution_count": 53,
   "id": "35c09c53",
   "metadata": {
    "ExecuteTime": {
     "end_time": "2022-03-11T01:01:24.367081Z",
     "start_time": "2022-03-11T01:01:24.123732Z"
    }
   },
   "outputs": [
    {
     "data": {
      "text/plain": [
       "Text(0.5, 1.0, 'RMSE: 14.87')"
      ]
     },
     "execution_count": 53,
     "metadata": {},
     "output_type": "execute_result"
    },
    {
     "data": {
      "image/png": "[encoded data removed]",
      "text/plain": [
       "<Figure size 432x288 with 1 Axes>"
      ]
     },
     "metadata": {
      "needs_background": "light"
     },
     "output_type": "display_data"
    }
   ],
   "source": [
    "X = tb_simul[[\n",
    "    'x', 'x_2', 'x_3', 'x_4', 'x_5', 'x_6', 'x_7', 'x_8', 'x_9', 'x_10',\n",
    "    'x_11', 'x_12', 'x_13', 'x_14', 'x_15', 'x_16', 'x_17', 'x_18'\n",
    "]]\n",
    "Y = tb_simul['y']\n",
    "modelo.fit(X, Y)\n",
    "\n",
    "tb_simul['pred'] = modelo.predict(X)\n",
    "tb_simul['erro_2'] = (tb_simul['pred'] - tb_simul['y'])**2\n",
    "rmse = np.sqrt(np.mean(tb_simul['erro_2']))\n",
    "sns.scatterplot(data=tb_simul, x='x', y='y')\n",
    "sns.lineplot(data=tb_simul, x='x', y='pred')\n",
    "plt.title(\"RMSE: \" + str(round(rmse, 2)))"
   ]
  },
  {
   "cell_type": "code",
   "execution_count": 60,
   "id": "c4b9331e",
   "metadata": {
    "ExecuteTime": {
     "end_time": "2022-03-11T01:15:54.138253Z",
     "start_time": "2022-03-11T01:15:54.125266Z"
    }
   },
   "outputs": [],
   "source": [
    "def calcular_erro_teste(dados, X_names, Y_name):\n",
    "    modelo = LinearRegression()\n",
    "    dados_train = dados[0:80].copy()\n",
    "    dados_teste = dados[80:].copy()\n",
    "    X = dados_train[X_names]\n",
    "    Y = dados_train[Y_name]\n",
    "    modelo.fit(X, Y)\n",
    "    \n",
    "    X_teste = dados_teste[X_names]\n",
    "    dados_teste['pred'] = modelo.predict(X_teste)\n",
    "    dados_teste['erro_2'] = (dados_teste['pred'] - dados_teste[Y_name])**2\n",
    "    rmse = np.sqrt(np.mean(dados_teste['erro_2']))\n",
    "    return rmse"
   ]
  },
  {
   "cell_type": "code",
   "execution_count": 61,
   "id": "8fbfbdf2",
   "metadata": {
    "ExecuteTime": {
     "end_time": "2022-03-11T01:15:54.795342Z",
     "start_time": "2022-03-11T01:15:54.651756Z"
    }
   },
   "outputs": [
    {
     "name": "stdout",
     "output_type": "stream",
     "text": [
      "Polinomio Grau:1 RMSE:15.32\n",
      "Polinomio Grau:2 RMSE:18.73484102258406\n",
      "Polinomio Grau:3 RMSE:20.217010043703873\n",
      "Polinomio Grau:4 RMSE:20.314708098551517\n",
      "Polinomio Grau:5 RMSE:20.367240519229227\n",
      "Polinomio Grau:6 RMSE:20.111711168836106\n",
      "Polinomio Grau:7 RMSE:20.21437237141245\n",
      "Polinomio Grau:8 RMSE:20.431379716070065\n",
      "Polinomio Grau:9 RMSE:20.301369684573952\n",
      "Polinomio Grau:10 RMSE:20.3913075223643\n",
      "Polinomio Grau:11 RMSE:20.327099269258383\n",
      "Polinomio Grau:12 RMSE:20.33476612790501\n",
      "Polinomio Grau:13 RMSE:20.19545666244763\n",
      "Polinomio Grau:14 RMSE:20.084626835643395\n",
      "Polinomio Grau:15 RMSE:19.481818984931724\n",
      "Polinomio Grau:16 RMSE:19.248915687366825\n",
      "Polinomio Grau:17 RMSE:19.353524706491665\n",
      "Polinomio Grau:18 RMSE:19.27718026400203\n",
      "Polinomio Grau:19 RMSE:19.527425316042876\n",
      "Polinomio Grau:20 RMSE:19.64725026629024\n"
     ]
    }
   ],
   "source": [
    "print(\"Polinomio Grau:\" + str(1) + \" RMSE:\" + str(calcular_erro(tb_simul, ['x'], 'y')))\n",
    "for poly in range(2, 21):\n",
    "    var_x = ['x_' + str(i) for i in range(2, poly+1)] + ['x']\n",
    "    print(\"Polinomio Grau:\" + str(poly) + \" RMSE:\" + str(calcular_erro_teste(tb_simul, var_x, 'y')))"
   ]
  },
  {
   "cell_type": "code",
   "execution_count": null,
   "id": "031e5e92",
   "metadata": {},
   "outputs": [],
   "source": []
  }
 ],
 "metadata": {
  "hide_input": false,
  "kernelspec": {
   "display_name": "Python 3",
   "language": "python",
   "name": "python3"
  },
  "language_info": {
   "codemirror_mode": {
    "name": "ipython",
    "version": 3
   },
   "file_extension": ".py",
   "mimetype": "text/x-python",
   "name": "python",
   "nbconvert_exporter": "python",
   "pygments_lexer": "ipython3",
   "version": "3.8.8"
  },
  "toc": {
   "base_numbering": 1,
   "nav_menu": {},
   "number_sections": true,
   "sideBar": true,
   "skip_h1_title": false,
   "title_cell": "Table of Contents",
   "title_sidebar": "Contents",
   "toc_cell": true,
   "toc_position": {
    "height": "calc(100% - 180px)",
    "left": "10px",
    "top": "150px",
    "width": "256px"
   },
   "toc_section_display": true,
   "toc_window_display": true
  }
 },
 "nbformat": 4,
 "nbformat_minor": 5
}
