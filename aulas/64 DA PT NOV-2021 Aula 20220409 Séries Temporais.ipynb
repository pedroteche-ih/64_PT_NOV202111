{
 "cells": [
  {
   "cell_type": "code",
   "execution_count": 1,
   "metadata": {},
   "outputs": [],
   "source": [
    "import pandas as pd\n",
    "import numpy as np\n",
    "import seaborn as sns\n",
    "import matplotlib.pyplot as plt\n",
    "import catboost as cat\n",
    "from sklearn import linear_model as lm\n",
    "from sklearn.preprocessing import SplineTransformer, OneHotEncoder, StandardScaler\n",
    "from sklearn.metrics import mean_squared_error\n"
   ]
  },
  {
   "cell_type": "markdown",
   "metadata": {},
   "source": [
    "# Séries Temporais\n",
    "No contexto de análise e ciência de dados, séries temporais são dados observados de forma sequencial, em intervalos regulares ou irregulares. Muitas vezes esses dados são resultado de agregações feitas por um campo de data: podemos construir a série temporal do número de itens vendidos pelo Olist por dia, ou então o número de ataques de tubarão for mês."
   ]
  },
  {
   "cell_type": "markdown",
   "metadata": {},
   "source": [
    "# Dataset\n",
    "\n",
    "Vamos continuar a análise do conjunto de dados de cancelamentos de reservas em 2 hotéis europeus. No entanto, enquanto no case de sábado passado fizemos uma análise baseada no dado transacional (cada individuo de nossa tabela era uma reserva) hoje agregaremos este dado e analisaremos o resultado agregado diário para um dos hotéis.\n",
    "\n",
    "Primeiro vamos carregar o conjunto de dados de hotéis e transformar a informação de data em campos datetime. Isso nos permitirá calcular a data na qual a reserva foi feita."
   ]
  },
  {
   "cell_type": "code",
   "execution_count": 3,
   "metadata": {},
   "outputs": [],
   "source": [
    "tb_hotel = pd.read_csv(\"data/tb_hotel_bookings_full.csv\")\n",
    "tb_hotel[\"arrival_dt\"] = pd.to_datetime(tb_hotel[\"arrival_date\"])\n",
    "tb_hotel[\"update_dt\"] = pd.to_datetime(tb_hotel[\"reservation_status_date\"])\n",
    "tb_hotel[\"reserva_dt\"] = tb_hotel[\"arrival_dt\"] - pd.to_timedelta(\n",
    "    tb_hotel[\"lead_time\"], unit=\"d\"\n",
    ")\n"
   ]
  },
  {
   "cell_type": "markdown",
   "metadata": {},
   "source": [
    "Para construir a série temporal de cancelamentos e reservas precisamos decidir por qual campo de data agregaremos nossos dados:\n",
    "\n",
    "1. **Data de Chegada**\n",
    "1. **Data da Reserva**\n",
    "1. **Data da Última Atualização da Reserva**\n",
    "\n",
    "Essa opção é algo comum quando construímos séries temporais (no âmbito de produtos por exemplo podemos ver as datas de compra, de faturamento e de entrega por exemplo). Por enquanto limitaremos a análise à **data de chegada**."
   ]
  },
  {
   "cell_type": "code",
   "execution_count": 4,
   "metadata": {},
   "outputs": [],
   "source": [
    "tb_resort = tb_hotel[tb_hotel[\"hotel\"] == \"Resort Hotel\"]\n",
    "tb_resort_ts = (\n",
    "    tb_resort.groupby(\"arrival_dt\")\n",
    "    .agg(\n",
    "        num_reservas=pd.NamedAgg(\"id_booking\", \"count\"),\n",
    "        num_canceladas=pd.NamedAgg(\"is_canceled\", \"sum\"),\n",
    "    )\n",
    "    .reset_index()\n",
    ")\n",
    "tb_resort_ts[\"per_canceladas\"] = (\n",
    "    tb_resort_ts[\"num_canceladas\"] / tb_resort_ts[\"num_reservas\"]\n",
    ")\n"
   ]
  },
  {
   "cell_type": "markdown",
   "metadata": {},
   "source": [
    "A forma mais comum de visualizar dados de série temporal é através de **lineplots** onde o tempo é colocado no eixo X e as variáveis a serem analisadas no eixo Y."
   ]
  },
  {
   "cell_type": "code",
   "execution_count": null,
   "metadata": {},
   "outputs": [],
   "source": [
    "fig, ax = plt.subplots(3, 1, figsize=(15, 8))\n",
    "sns.lineplot(data=tb_resort_ts, x=\"arrival_dt\", y=\"num_reservas\", ax=ax[0])\n",
    "sns.lineplot(data=tb_resort_ts, x=\"arrival_dt\", y=\"num_canceladas\", ax=ax[1])\n",
    "sns.lineplot(data=tb_resort_ts, x=\"arrival_dt\", y=\"per_canceladas\", ax=ax[2])\n",
    "ax[0].set_xlabel(\"\")\n",
    "ax[1].set_xlabel(\"\")\n",
    "fig.suptitle(\"Evolução de Reservas por Data de Chegada\", y=0.95)\n"
   ]
  },
  {
   "cell_type": "markdown",
   "metadata": {},
   "source": [
    "## Train & Test para séries temporais\n",
    "A nossa estratégia tradicional para divisão de um dataset em train e test não funciona em séries temporais: como elas são definidas pela sequencialidade das observações, remover pontos aleatórios de dentro da série seria estranho... A forma mais simples e tradicional de se fazer essa divisão é selecionando pontos no fim da série como nosso conjunto teste. No exemplo acima optei por formar o conjunto de train a partir dos dois primeiros anos continuos que temos na série (veremos porque quando olharmos componentes sazonais)."
   ]
  },
  {
   "cell_type": "code",
   "execution_count": null,
   "metadata": {},
   "outputs": [],
   "source": [
    "tb_resort_ts[\"arrival_dt\"].describe()\n"
   ]
  },
  {
   "cell_type": "markdown",
   "metadata": {},
   "source": [
    "Ao invés de realizar a transformação agora, vamos definir uma função que realiza essa divisão para nós. Dessa forma não precisamos replicar nosso feature engineering em 2 datasets o tempo todo."
   ]
  },
  {
   "cell_type": "code",
   "execution_count": null,
   "metadata": {},
   "outputs": [],
   "source": [
    "def split_hotel_ts(hotel_data):\n",
    "    train_data = hotel_data[hotel_data[\"arrival_dt\"] < \"2017-08-01\"].copy()\n",
    "    test_data = hotel_data[hotel_data[\"arrival_dt\"] >= \"2017-08-01\"].copy()\n",
    "    return train_data, test_data\n"
   ]
  },
  {
   "cell_type": "markdown",
   "metadata": {},
   "source": [
    "# Decomposição TCSI\n",
    "\n",
    "A forma mais tradicional de se analisar um série temporal é através da decomposição TCSI:\n",
    "\n",
    "1. **T - Componente de Tendência (Trend):** representação da evolução a longo prazo da série (*a taxa de cancelamento está crescendo ou caindo?*)\n",
    "1. **C - Componente Ciclico (Cyclic)** representação da evolução ciclica não periódicas (*depois de altas de cancelamento tenho baixas?*)\n",
    "1. **S - Componente Sazonal (Seasonal)** representação da peridiocidade sazonal (ciclo regular) (*temos mais cancelamento para reservas em junho? ou para reservas de segunda-feira? ou da última semana do mês?*)\n",
    "1. **I - Componente de Ruído (Irregular/Noise)** o que não é representado pelos três componentes acima."
   ]
  },
  {
   "cell_type": "markdown",
   "metadata": {},
   "source": [
    "## Componente de Tendência (Trend)"
   ]
  },
  {
   "cell_type": "code",
   "execution_count": null,
   "metadata": {},
   "outputs": [],
   "source": [
    "tb_resort_ts[\"t_dias\"] = (\n",
    "    tb_resort_ts[\"arrival_dt\"] - min(tb_resort_ts[\"arrival_dt\"])\n",
    ").dt.total_seconds() / (24 * 60 * 60)\n",
    "tb_resort_ts.head()\n"
   ]
  },
  {
   "cell_type": "markdown",
   "metadata": {},
   "source": [
    "### Estimativa de tendência linear"
   ]
  },
  {
   "cell_type": "code",
   "execution_count": null,
   "metadata": {},
   "outputs": [],
   "source": [
    "train_data, test_data = split_hotel_ts(tb_resort_ts)\n",
    "trend_fit = lm.LinearRegression()\n",
    "trend_fit.fit(train_data[[\"t_dias\"]], train_data[\"per_canceladas\"])\n"
   ]
  },
  {
   "cell_type": "code",
   "execution_count": null,
   "metadata": {},
   "outputs": [],
   "source": [
    "tb_resort_ts[\"pred_trend_linear\"] = trend_fit.predict(tb_resort_ts[[\"t_dias\"]])\n"
   ]
  },
  {
   "cell_type": "code",
   "execution_count": null,
   "metadata": {},
   "outputs": [],
   "source": [
    "fig, ax = plt.subplots(1, 1, figsize=(15, 3))\n",
    "sns.lineplot(data=tb_resort_ts, x=\"arrival_dt\", y=\"per_canceladas\")\n",
    "sns.lineplot(data=tb_resort_ts, x=\"arrival_dt\", y=\"pred_trend_linear\", color=\"red\")\n",
    "fig.suptitle(\"Evolução de Reservas por Data de Chegada\", y=0.95)\n"
   ]
  },
  {
   "cell_type": "markdown",
   "metadata": {},
   "source": [
    "## Componente Cíclico (Cycle)\n",
    "\n",
    "Como os ciclos representam variações não-periódicas é dificil separa-los da avaliação de tendência (principalmente em séries curtas). Vamos utilizar três técnicas para estimar variações em relação a tendência."
   ]
  },
  {
   "cell_type": "markdown",
   "metadata": {},
   "source": [
    "### Tendência Polinomial"
   ]
  },
  {
   "cell_type": "code",
   "execution_count": null,
   "metadata": {},
   "outputs": [],
   "source": [
    "from sklearn.preprocessing import PolynomialFeatures\n"
   ]
  },
  {
   "cell_type": "code",
   "execution_count": null,
   "metadata": {},
   "outputs": [],
   "source": [
    "poly_trans = PolynomialFeatures(degree=2)\n",
    "poly_trans.fit(train_data[[\"t_dias\"]])\n"
   ]
  },
  {
   "cell_type": "code",
   "execution_count": null,
   "metadata": {},
   "outputs": [],
   "source": [
    "poly_trans.n_output_features_\n"
   ]
  },
  {
   "cell_type": "code",
   "execution_count": null,
   "metadata": {},
   "outputs": [],
   "source": [
    "poly_names = [\"P\" + str(i) for i in range(poly_trans.n_output_features_)]\n",
    "tb_resort_ts_p = pd.concat(\n",
    "    [\n",
    "        tb_resort_ts,\n",
    "        pd.DataFrame(\n",
    "            poly_trans.transform(tb_resort_ts[[\"t_dias\"]]),\n",
    "            columns=poly_names,\n",
    "        ),\n",
    "    ],\n",
    "    axis=1,\n",
    ")\n",
    "tb_resort_ts_p.head()\n"
   ]
  },
  {
   "cell_type": "code",
   "execution_count": null,
   "metadata": {},
   "outputs": [],
   "source": [
    "train_data, test_data = split_hotel_ts(tb_resort_ts_p)\n",
    "poly_trend_fit = lm.LinearRegression()\n",
    "poly_trend_fit.fit(train_data[poly_names], train_data[\"per_canceladas\"])\n",
    "tb_resort_ts_p[\"pred_trend_poly\"] = poly_trend_fit.predict(tb_resort_ts_p[poly_names])\n",
    "\n",
    "fig, ax = plt.subplots(1, 1, figsize=(15, 3))\n",
    "sns.lineplot(data=tb_resort_ts_p, x=\"arrival_dt\", y=\"per_canceladas\")\n",
    "sns.lineplot(data=tb_resort_ts_p, x=\"arrival_dt\", y=\"pred_trend_linear\", color=\"red\")\n",
    "sns.lineplot(data=tb_resort_ts_p, x=\"arrival_dt\", y=\"pred_trend_poly\", color=\"black\")\n",
    "fig.suptitle(\n",
    "    f\"Evolução da Taxa de Cancelamentos\\ncom Tendências Linear e Polinomial de grau {poly_trans.degree}\",\n",
    "    y=1.05,\n",
    ")\n"
   ]
  },
  {
   "cell_type": "code",
   "execution_count": null,
   "metadata": {},
   "outputs": [],
   "source": [
    "test_data[\"pred_trend_linear\"] = trend_fit.predict(test_data[[\"t_dias\"]])\n",
    "test_data[\"pred_trend_poly\"] = poly_trend_fit.predict(test_data[poly_names])\n",
    "rmse_lin = np.sqrt(\n",
    "    mean_squared_error(test_data[\"per_canceladas\"], test_data[\"pred_trend_linear\"])\n",
    ")\n",
    "rmse_poly = np.sqrt(\n",
    "    mean_squared_error(test_data[\"per_canceladas\"], test_data[\"pred_trend_poly\"])\n",
    ")\n",
    "print(f\"Trend Lin.: {round(rmse_lin, 2)}\")\n",
    "print(f\"Trend Poly.: {round(rmse_poly, 2)}\")\n"
   ]
  },
  {
   "cell_type": "markdown",
   "metadata": {},
   "source": [
    "### B-Splines"
   ]
  },
  {
   "cell_type": "code",
   "execution_count": null,
   "metadata": {},
   "outputs": [],
   "source": [
    "spl_trans = SplineTransformer(n_knots=24, extrapolation=\"constant\")\n",
    "spl_trans.fit(train_data[[\"t_dias\"]])\n",
    "spl_names = [\"S\" + str(i) for i in range(spl_trans.n_features_out_)]\n",
    "tb_resort_ts_b = pd.concat(\n",
    "    [\n",
    "        tb_resort_ts,\n",
    "        pd.DataFrame(\n",
    "            spl_trans.transform(tb_resort_ts[[\"t_dias\"]]),\n",
    "            columns=spl_names,\n",
    "        ),\n",
    "    ],\n",
    "    axis=1,\n",
    ")\n",
    "tb_resort_ts_b.head()\n",
    "plt.plot(tb_resort_ts_b[\"S24\"])\n"
   ]
  },
  {
   "cell_type": "code",
   "execution_count": null,
   "metadata": {},
   "outputs": [],
   "source": [
    "train_data, test_data = split_hotel_ts(tb_resort_ts_b)\n",
    "spline_fit = lm.LinearRegression()\n",
    "spline_fit.fit(train_data[spl_names], train_data[\"per_canceladas\"])\n",
    "tb_resort_ts_b[\"pred_spline\"] = spline_fit.predict(tb_resort_ts_b[spl_names])\n",
    "\n",
    "fig, ax = plt.subplots(1, 1, figsize=(15, 3))\n",
    "sns.lineplot(data=tb_resort_ts_b, x=\"arrival_dt\", y=\"per_canceladas\")\n",
    "sns.lineplot(data=tb_resort_ts_b, x=\"arrival_dt\", y=\"pred_trend_linear\", color=\"red\")\n",
    "sns.lineplot(data=tb_resort_ts_b, x=\"arrival_dt\", y=\"pred_spline\", color=\"black\")\n",
    "fig.suptitle(\n",
    "    f\"Evolução da Taxa de Cancelamentos\\ncom Tendências Linear e de Splines\",\n",
    "    y=1.05,\n",
    ")\n"
   ]
  },
  {
   "cell_type": "code",
   "execution_count": null,
   "metadata": {},
   "outputs": [],
   "source": [
    "test_data[\"pred_trend_linear\"] = trend_fit.predict(test_data[[\"t_dias\"]])\n",
    "test_data[\"pred_trend_spline\"] = spline_fit.predict(test_data[spl_names])\n",
    "rmse_lin = np.sqrt(\n",
    "    mean_squared_error(test_data[\"per_canceladas\"], test_data[\"pred_trend_linear\"])\n",
    ")\n",
    "rmse_spl = np.sqrt(\n",
    "    mean_squared_error(test_data[\"per_canceladas\"], test_data[\"pred_trend_spline\"])\n",
    ")\n",
    "print(f\"Trend Lin.: {round(rmse_lin, 2)}\")\n",
    "print(f\"Trend Spline: {round(rmse_spl, 2)}\")\n"
   ]
  },
  {
   "cell_type": "markdown",
   "metadata": {},
   "source": [
    "O que podemos melhorar aqui?"
   ]
  },
  {
   "cell_type": "code",
   "execution_count": null,
   "metadata": {},
   "outputs": [],
   "source": [
    "train_data, test_data = split_hotel_ts(tb_resort_ts_b)\n",
    "spline_fit = lm.Ridge()\n",
    "spline_fit.fit(train_data[spl_names], train_data[\"per_canceladas\"])\n",
    "tb_resort_ts_b[\"pred_spline\"] = spline_fit.predict(tb_resort_ts_b[spl_names])\n",
    "\n",
    "fig, ax = plt.subplots(1, 1, figsize=(15, 3))\n",
    "sns.lineplot(data=tb_resort_ts_b, x=\"arrival_dt\", y=\"per_canceladas\")\n",
    "sns.lineplot(data=tb_resort_ts_b, x=\"arrival_dt\", y=\"pred_trend_linear\", color=\"red\")\n",
    "sns.lineplot(data=tb_resort_ts_b, x=\"arrival_dt\", y=\"pred_spline\", color=\"black\")\n",
    "fig.suptitle(\n",
    "    f\"Evolução da Taxa de Cancelamentos\\ncom Tendências Linear e de Splines\",\n",
    "    y=1.05,\n",
    ")\n"
   ]
  },
  {
   "cell_type": "code",
   "execution_count": null,
   "metadata": {},
   "outputs": [],
   "source": [
    "test_data[\"pred_trend_linear\"] = trend_fit.predict(test_data[[\"t_dias\"]])\n",
    "test_data[\"pred_trend_spline\"] = spline_fit.predict(test_data[spl_names])\n",
    "rmse_lin = np.sqrt(\n",
    "    mean_squared_error(test_data[\"per_canceladas\"], test_data[\"pred_trend_linear\"])\n",
    ")\n",
    "rmse_spl = np.sqrt(\n",
    "    mean_squared_error(test_data[\"per_canceladas\"], test_data[\"pred_trend_spline\"])\n",
    ")\n",
    "print(f\"Trend Lin.: {round(rmse_lin, 2)}\")\n",
    "print(f\"Trend Spline.: {round(rmse_spl, 2)}\")\n"
   ]
  },
  {
   "cell_type": "markdown",
   "metadata": {},
   "source": [
    "## Componente Sazonal"
   ]
  },
  {
   "cell_type": "markdown",
   "metadata": {},
   "source": [
    "### Variáveis Sazonais Contínuas"
   ]
  },
  {
   "cell_type": "code",
   "execution_count": null,
   "metadata": {},
   "outputs": [],
   "source": [
    "tb_resort_ts_b[\"s_semana\"] = np.sin(tb_resort_ts_b[\"t_dias\"] / (7 / np.pi))\n",
    "tb_resort_ts_b[\"c_semana\"] = np.cos(tb_resort_ts_b[\"t_dias\"] / (7 / np.pi))\n",
    "\n",
    "tb_resort_ts_b[\"s_mes\"] = np.sin(tb_resort_ts_b[\"t_dias\"] / (30.4 / np.pi))\n",
    "tb_resort_ts_b[\"c_mes\"] = np.cos(tb_resort_ts_b[\"t_dias\"] / (30.4 / np.pi))\n",
    "\n",
    "tb_resort_ts_b[\"s_ano\"] = np.sin(tb_resort_ts_b[\"t_dias\"] / (365 / np.pi))\n",
    "tb_resort_ts_b[\"c_ano\"] = np.cos(tb_resort_ts_b[\"t_dias\"] / (365 / np.pi))\n"
   ]
  },
  {
   "cell_type": "code",
   "execution_count": null,
   "metadata": {},
   "outputs": [],
   "source": [
    "fig, ax = plt.subplots(3, 1, figsize=(15, 8))\n",
    "sns.lineplot(data=tb_resort_ts_b, x=\"arrival_dt\", y=\"s_semana\", ax=ax[0])\n",
    "sns.lineplot(data=tb_resort_ts_b, x=\"arrival_dt\", y=\"c_semana\", ax=ax[0])\n",
    "\n",
    "sns.lineplot(data=tb_resort_ts_b, x=\"arrival_dt\", y=\"s_mes\", ax=ax[1])\n",
    "sns.lineplot(data=tb_resort_ts_b, x=\"arrival_dt\", y=\"c_mes\", ax=ax[1])\n",
    "\n",
    "sns.lineplot(data=tb_resort_ts_b, x=\"arrival_dt\", y=\"s_ano\", ax=ax[2])\n",
    "sns.lineplot(data=tb_resort_ts_b, x=\"arrival_dt\", y=\"c_ano\", ax=ax[2])\n",
    "\n",
    "ax[0].set_xlabel(\"\")\n",
    "ax[1].set_xlabel(\"\")\n",
    "fig.suptitle(\"Variáveis Contínuas Ciclicas\", y=0.95)\n"
   ]
  },
  {
   "cell_type": "code",
   "execution_count": null,
   "metadata": {},
   "outputs": [],
   "source": [
    "c_names = [\"c_semana\", \"s_semana\", \"c_mes\", \"s_mes\", \"c_ano\", \"s_ano\"]\n",
    "spl_cycle = spl_names + c_names\n",
    "train_data, test_data = split_hotel_ts(tb_resort_ts_b)\n",
    "spl_cycle_fit = lm.Ridge()\n",
    "spl_cycle_fit.fit(train_data[spl_cycle], train_data[\"per_canceladas\"])\n",
    "tb_resort_ts_b[\"pred_cycle_poly\"] = spl_cycle_fit.predict(tb_resort_ts_b[spl_cycle])\n",
    "\n",
    "fig, ax = plt.subplots(1, 1, figsize=(15, 3))\n",
    "sns.lineplot(data=tb_resort_ts_b, x=\"arrival_dt\", y=\"per_canceladas\")\n",
    "sns.lineplot(data=tb_resort_ts_b, x=\"arrival_dt\", y=\"pred_cycle_poly\", color=\"red\")\n",
    "sns.lineplot(data=tb_resort_ts_b, x=\"arrival_dt\", y=\"pred_spline\", color=\"black\")\n",
    "fig.suptitle(\n",
    "    f\"Evolução da Taxa de Cancelamentos\\ncom Tendências Linear e Polinomial de grau {poly_trans.degree}\",\n",
    "    y=1.05,\n",
    ")\n"
   ]
  },
  {
   "cell_type": "code",
   "execution_count": null,
   "metadata": {},
   "outputs": [],
   "source": [
    "test_data[\"pred_trend_linear\"] = trend_fit.predict(test_data[[\"t_dias\"]])\n",
    "test_data[\"pred_trend_spline\"] = spline_fit.predict(test_data[spl_names])\n",
    "test_data[\"pred_trend_cycle\"] = spl_cycle_fit.predict(test_data[spl_cycle])\n",
    "rmse_lin = np.sqrt(\n",
    "    mean_squared_error(test_data[\"per_canceladas\"], test_data[\"pred_trend_linear\"])\n",
    ")\n",
    "rmse_spline = np.sqrt(\n",
    "    mean_squared_error(test_data[\"per_canceladas\"], test_data[\"pred_trend_spline\"])\n",
    ")\n",
    "rmse_cycle = np.sqrt(\n",
    "    mean_squared_error(test_data[\"per_canceladas\"], test_data[\"pred_trend_cycle\"])\n",
    ")\n",
    "print(f\"Trend Lin.: {round(rmse_lin, 2)}\")\n",
    "print(f\"Trend Poly.: {round(rmse_spline, 2)}\")\n",
    "print(f\"Trend + Cycle: {round(rmse_cycle, 2)}\")\n"
   ]
  },
  {
   "cell_type": "markdown",
   "metadata": {},
   "source": [
    "### Variáveis Sazonais Dummy"
   ]
  },
  {
   "cell_type": "code",
   "execution_count": null,
   "metadata": {},
   "outputs": [],
   "source": [
    "tb_resort_ts_b[\"mes\"] = tb_resort_ts_b[\"arrival_dt\"].dt.month.astype(str)\n",
    "tb_resort_ts_b[\"dia_semana\"] = tb_resort_ts_b[\"arrival_dt\"].dt.weekday.astype(str)\n"
   ]
  },
  {
   "cell_type": "code",
   "execution_count": null,
   "metadata": {},
   "outputs": [],
   "source": [
    "tb_resort_ts_b[[\"mes\", \"dia_semana\"]]\n"
   ]
  },
  {
   "cell_type": "code",
   "execution_count": null,
   "metadata": {},
   "outputs": [],
   "source": [
    "ohe_fit = OneHotEncoder(drop=\"first\", sparse=False)\n",
    "ohe_fit.fit(tb_resort_ts_b[[\"mes\", \"dia_semana\"]])\n",
    "tb_resort_ts_d = pd.concat(\n",
    "    [\n",
    "        tb_resort_ts_b,\n",
    "        pd.DataFrame(\n",
    "            ohe_fit.transform(tb_resort_ts_b[[\"mes\", \"dia_semana\"]]),\n",
    "            columns=ohe_fit.get_feature_names_out(),\n",
    "        ),\n",
    "    ],\n",
    "    axis=1,\n",
    ")\n"
   ]
  },
  {
   "cell_type": "code",
   "execution_count": null,
   "metadata": {},
   "outputs": [],
   "source": [
    "tb_resort_ts_d.head()\n"
   ]
  },
  {
   "cell_type": "code",
   "execution_count": null,
   "metadata": {},
   "outputs": [],
   "source": [
    "train_data, test_data = split_hotel_ts(tb_resort_ts_d)\n",
    "dummy_names = list(ohe_fit.get_feature_names_out())\n",
    "var_names = [\"t_dias\"] + dummy_names\n",
    "season_trend_fit = lm.LinearRegression()\n",
    "season_trend_fit.fit(train_data[var_names], train_data[\"per_canceladas\"])\n",
    "\n",
    "tb_resort_ts_d[\"pred_trend_season\"] = season_trend_fit.predict(\n",
    "    tb_resort_ts_d[var_names]\n",
    ")\n",
    "\n",
    "fig, ax = plt.subplots(1, 1, figsize=(15, 3))\n",
    "sns.lineplot(data=tb_resort_ts_d, x=\"arrival_dt\", y=\"per_canceladas\")\n",
    "sns.lineplot(data=tb_resort_ts_d, x=\"arrival_dt\", y=\"pred_trend_linear\", color=\"red\")\n",
    "sns.lineplot(data=tb_resort_ts_d, x=\"arrival_dt\", y=\"pred_trend_season\", color=\"black\")\n",
    "fig.suptitle(\n",
    "    f\"Evolução da Taxa de Cancelamentos\\ncom Tendências Linear e Índices Sazonais\",\n",
    "    y=1.05,\n",
    ")\n"
   ]
  },
  {
   "cell_type": "code",
   "execution_count": null,
   "metadata": {},
   "outputs": [],
   "source": [
    "test_data[\"pred_trend_linear\"] = trend_fit.predict(test_data[[\"t_dias\"]])\n",
    "test_data[\"pred_trend_season\"] = season_trend_fit.predict(test_data[var_names])\n",
    "rmse_lin = np.sqrt(\n",
    "    mean_squared_error(test_data[\"per_canceladas\"], test_data[\"pred_trend_linear\"])\n",
    ")\n",
    "rmse_cycle = np.sqrt(\n",
    "    mean_squared_error(test_data[\"per_canceladas\"], test_data[\"pred_trend_season\"])\n",
    ")\n",
    "print(f\"Trend Lin.: {round(rmse_lin, 2)}\")\n",
    "print(f\"Trend + Season: {round(rmse_cycle, 2)}\")\n"
   ]
  },
  {
   "cell_type": "code",
   "execution_count": null,
   "metadata": {},
   "outputs": [],
   "source": [
    "train_data.columns\n"
   ]
  },
  {
   "cell_type": "code",
   "execution_count": null,
   "metadata": {},
   "outputs": [],
   "source": [
    "final_list = spl_names + dummy_names + [\"t_dias\"]\n",
    "X_train = train_data[final_list]\n",
    "X_test = test_data[final_list]\n",
    "y_train = train_data[\"per_canceladas\"]\n",
    "y_test = test_data[\"per_canceladas\"]\n",
    "scaler = StandardScaler()\n",
    "scaler.fit(X_train)\n",
    "cat_fit = cat.CatBoostRegressor(iterations=20000, depth=9, od_type=\"Iter\", od_wait=1500)\n",
    "cat_fit.fit(\n",
    "    scaler.transform(X_train), y_train, eval_set=(scaler.transform(X_test), y_test)\n",
    ")\n"
   ]
  },
  {
   "cell_type": "code",
   "execution_count": null,
   "metadata": {},
   "outputs": [],
   "source": []
  },
  {
   "cell_type": "code",
   "execution_count": null,
   "metadata": {},
   "outputs": [],
   "source": [
    "tb_resort_ts_d[\"pred_boosting\"] = cat_fit.predict(\n",
    "    scaler.transform(tb_resort_ts_d[final_list])\n",
    ")\n",
    "\n",
    "fig, ax = plt.subplots(1, 1, figsize=(15, 3))\n",
    "sns.lineplot(data=tb_resort_ts_d, x=\"arrival_dt\", y=\"per_canceladas\")\n",
    "sns.lineplot(data=tb_resort_ts_d, x=\"arrival_dt\", y=\"pred_boosting\", color=\"red\")\n",
    "fig.suptitle(\n",
    "    f\"Evolução da Taxa de Cancelamentos\\ncom Tendências Linear e Índices Sazonais utilizando Boosting\",\n",
    "    y=1.05,\n",
    ")\n"
   ]
  },
  {
   "cell_type": "markdown",
   "metadata": {},
   "source": [
    "## Exercício para tarde\n",
    "\n",
    "No modelo de boosting acima utilizamos apenas as variáveis de spline, o componente linear e a as dummies sazonais. Será que conseguimos adicionar variáveis sazonais continuas ao modelo acima? Quais períodos deveriamos utilizar para essas variáveis? Crie uma rotina que permita o teste rápido de permutações entre os diferentes componentes temporais que vimos até agora e utilize-a para decidir quais o melhor conjunto de variáveis para o nosso modelo."
   ]
  },
  {
   "cell_type": "markdown",
   "metadata": {},
   "source": [
    "# Processos Auto-regressivos"
   ]
  },
  {
   "cell_type": "markdown",
   "metadata": {},
   "source": [
    "## Autocorrelação e Autocorrelação Parcial"
   ]
  },
  {
   "cell_type": "code",
   "execution_count": null,
   "metadata": {},
   "outputs": [],
   "source": [
    "tb_resort_ts_d[\"resid\"] = (\n",
    "    tb_resort_ts_d[\"per_canceladas\"] - tb_resort_ts_d[\"pred_boosting\"]\n",
    ")\n",
    "\n",
    "fig, ax = plt.subplots(1, 1, figsize=(15, 3))\n",
    "sns.lineplot(data=tb_resort_ts_d, x=\"arrival_dt\", y=\"resid\")\n",
    "fig.suptitle(\n",
    "    f\"Evolução dos Resíduos\\nModelo de Boosting\",\n",
    "    y=1.05,\n",
    ")\n"
   ]
  },
  {
   "cell_type": "code",
   "execution_count": null,
   "metadata": {},
   "outputs": [],
   "source": [
    "tb_resort_ts_d[\"resid_lag\"] = tb_resort_ts_d[\"resid\"].shift(3)\n",
    "tb_resort_ts_d[[\"resid\", \"resid_lag\"]].head()\n"
   ]
  },
  {
   "cell_type": "code",
   "execution_count": null,
   "metadata": {},
   "outputs": [],
   "source": [
    "sns.lmplot(\n",
    "    data=tb_resort_ts_d[tb_resort_ts_d[\"arrival_dt\"] >= \"2017-08-01\"],\n",
    "    x=\"resid_lag\",\n",
    "    y=\"resid\",\n",
    ")\n",
    "fig.suptitle(f\"Diagrama de Fase dos Resíduos\\n L=1\", y=1.05)\n"
   ]
  },
  {
   "cell_type": "code",
   "execution_count": null,
   "metadata": {},
   "outputs": [],
   "source": [
    "from statsmodels.graphics.tsaplots import plot_acf\n",
    "from statsmodels.graphics.tsaplots import plot_pacf"
   ]
  },
  {
   "cell_type": "code",
   "execution_count": null,
   "metadata": {},
   "outputs": [],
   "source": [
    "plot_acf(tb_resort_ts_d[\"resid\"], lags = range(1, 15));"
   ]
  },
  {
   "cell_type": "code",
   "execution_count": null,
   "metadata": {},
   "outputs": [],
   "source": [
    "plot_pacf(tb_resort_ts_d[\"resid\"], lags = range(1, 15), method = 'ywm');"
   ]
  },
  {
   "cell_type": "markdown",
   "metadata": {},
   "source": [
    "## Os métodos Shift e Diff\n",
    "\n",
    "Uma forma de tratar a auto-correlação é utilizar o histórico da propria variável modelada como variável de entrada. Podemos fazer isso neutralizando essa autocorrelação através da diferenças (Hoje - Ontem), ou então adicionar a variável *Ontem* ao modelo. **Devemos tomar cuidado pois isso muda o horizonte preditivo de nosso modelo!!**"
   ]
  },
  {
   "cell_type": "code",
   "execution_count": null,
   "metadata": {},
   "outputs": [],
   "source": [
    "plot_acf(tb_resort_ts_d[\"per_canceladas\"], lags = range(1, 15));"
   ]
  },
  {
   "cell_type": "code",
   "execution_count": null,
   "metadata": {},
   "outputs": [],
   "source": [
    "tb_resort_ts_d[['per_canceladas']].diff().dropna()"
   ]
  },
  {
   "cell_type": "code",
   "execution_count": null,
   "metadata": {},
   "outputs": [],
   "source": [
    "plot_acf(tb_resort_ts_d[['per_canceladas']].diff().dropna(), lags = range(1, 15));"
   ]
  },
  {
   "cell_type": "markdown",
   "metadata": {},
   "source": [
    "## Modelos **A**(uto)**R**(egressive)**I**(ntegrated)**M**(oving)**A**(average)\n",
    "\n",
    "Os modelos ARIMA são modelos lineares que incorporam as idéias apresentadas acima em um framework único de modelagem."
   ]
  },
  {
   "cell_type": "code",
   "execution_count": null,
   "metadata": {},
   "outputs": [],
   "source": [
    "from statsmodels.tsa.arima.model import ARIMA"
   ]
  },
  {
   "cell_type": "code",
   "execution_count": null,
   "metadata": {},
   "outputs": [],
   "source": [
    "arima_model = ARIMA(train_data['per_canceladas'], exog = train_data[dummy_names], order = (1,0,1))\n",
    "arima_fit = arima_model.fit()\n",
    "arima_fit.summary()"
   ]
  },
  {
   "cell_type": "code",
   "execution_count": null,
   "metadata": {},
   "outputs": [],
   "source": [
    "tb_resort_ts_d['pred_arima'] = arima_fit.predict(exog = test_data[dummy_names])"
   ]
  }
 ],
 "metadata": {
  "interpreter": {
   "hash": "014f4a4a5af8f0104b12c029e500f4146d6d785e8cf714d2a35b7a9514230cd3"
  },
  "kernelspec": {
   "display_name": "Python 3 (ipykernel)",
   "language": "python",
   "name": "python3"
  },
  "language_info": {
   "codemirror_mode": {
    "name": "ipython",
    "version": 3
   },
   "file_extension": ".py",
   "mimetype": "text/x-python",
   "name": "python",
   "nbconvert_exporter": "python",
   "pygments_lexer": "ipython3",
   "version": "3.9.11"
  },
  "toc": {
   "base_numbering": 1,
   "nav_menu": {},
   "number_sections": true,
   "sideBar": true,
   "skip_h1_title": false,
   "title_cell": "Table of Contents",
   "title_sidebar": "Contents",
   "toc_cell": false,
   "toc_position": {},
   "toc_section_display": true,
   "toc_window_display": false
  }
 },
 "nbformat": 4,
 "nbformat_minor": 2
}
