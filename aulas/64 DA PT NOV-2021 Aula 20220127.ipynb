{
 "cells": [
  {
   "cell_type": "markdown",
   "metadata": {},
   "source": [
    "# Scraping Dynamic Content: Selenium"
   ]
  },
  {
   "cell_type": "code",
   "execution_count": null,
   "metadata": {
    "ExecuteTime": {
     "end_time": "2022-01-27T13:06:15.830807Z",
     "start_time": "2022-01-27T13:06:10.097048Z"
    }
   },
   "outputs": [],
   "source": [
    "!pip3 install selenium\n",
    "!pip3 install webdriver-manager"
   ]
  },
  {
   "cell_type": "code",
   "execution_count": 1,
   "metadata": {
    "ExecuteTime": {
     "end_time": "2022-01-27T22:39:41.797442Z",
     "start_time": "2022-01-27T22:39:41.103216Z"
    }
   },
   "outputs": [],
   "source": [
    "import pandas as pd\n",
    "from selenium import webdriver\n",
    "from selenium.webdriver.chrome.service import Service\n",
    "from webdriver_manager.chrome import ChromeDriverManager\n",
    "from webdriver_manager.firefox import GeckoDriverManager\n",
    "from selenium.webdriver.common.by import By\n",
    "from selenium.webdriver.common.keys import Keys\n",
    "from selenium.webdriver.common.action_chains import ActionChains"
   ]
  },
  {
   "cell_type": "code",
   "execution_count": 138,
   "metadata": {
    "ExecuteTime": {
     "end_time": "2022-01-28T00:56:23.923100Z",
     "start_time": "2022-01-28T00:56:17.042124Z"
    }
   },
   "outputs": [
    {
     "name": "stderr",
     "output_type": "stream",
     "text": [
      "\n",
      "\n",
      "====== WebDriver manager ======\n",
      "Current firefox version is 96.0\n",
      "Get LATEST geckodriver version for 96.0 firefox\n",
      "There is no [win64] geckodriver for browser  in cache\n",
      "Getting latest mozilla release info for v0.30.0\n",
      "Trying to download new driver from https://github.com/mozilla/geckodriver/releases/download/v0.30.0/geckodriver-v0.30.0-win64.zip\n",
      "Driver has been saved in cache [C:\\Users\\Pedro\\.wdm\\drivers\\geckodriver\\win64\\v0.30.0]\n",
      "<ipython-input-138-6392385d71b0>:2: DeprecationWarning: executable_path has been deprecated, please pass in a Service object\n",
      "  driver = webdriver.Firefox(executable_path=GeckoDriverManager().install())\n"
     ]
    },
    {
     "ename": "WebDriverException",
     "evalue": "Message: Process unexpectedly closed with status 0\n",
     "output_type": "error",
     "traceback": [
      "\u001b[1;31m---------------------------------------------------------------------------\u001b[0m",
      "\u001b[1;31mWebDriverException\u001b[0m                        Traceback (most recent call last)",
      "\u001b[1;32m<ipython-input-138-6392385d71b0>\u001b[0m in \u001b[0;36m<module>\u001b[1;34m\u001b[0m\n\u001b[0;32m      1\u001b[0m \u001b[1;32mfrom\u001b[0m \u001b[0mwebdriver_manager\u001b[0m\u001b[1;33m.\u001b[0m\u001b[0mfirefox\u001b[0m \u001b[1;32mimport\u001b[0m \u001b[0mGeckoDriverManager\u001b[0m\u001b[1;33m\u001b[0m\u001b[1;33m\u001b[0m\u001b[0m\n\u001b[1;32m----> 2\u001b[1;33m \u001b[0mdriver\u001b[0m \u001b[1;33m=\u001b[0m \u001b[0mwebdriver\u001b[0m\u001b[1;33m.\u001b[0m\u001b[0mFirefox\u001b[0m\u001b[1;33m(\u001b[0m\u001b[0mexecutable_path\u001b[0m\u001b[1;33m=\u001b[0m\u001b[0mGeckoDriverManager\u001b[0m\u001b[1;33m(\u001b[0m\u001b[1;33m)\u001b[0m\u001b[1;33m.\u001b[0m\u001b[0minstall\u001b[0m\u001b[1;33m(\u001b[0m\u001b[1;33m)\u001b[0m\u001b[1;33m)\u001b[0m\u001b[1;33m\u001b[0m\u001b[1;33m\u001b[0m\u001b[0m\n\u001b[0m",
      "\u001b[1;32mC:\\ProgramData\\Anaconda3\\lib\\site-packages\\selenium\\webdriver\\firefox\\webdriver.py\u001b[0m in \u001b[0;36m__init__\u001b[1;34m(self, firefox_profile, firefox_binary, capabilities, proxy, executable_path, options, service_log_path, service_args, service, desired_capabilities, log_path, keep_alive)\u001b[0m\n\u001b[0;32m    177\u001b[0m             \u001b[0mremote_server_addr\u001b[0m\u001b[1;33m=\u001b[0m\u001b[0mself\u001b[0m\u001b[1;33m.\u001b[0m\u001b[0mservice\u001b[0m\u001b[1;33m.\u001b[0m\u001b[0mservice_url\u001b[0m\u001b[1;33m,\u001b[0m\u001b[1;33m\u001b[0m\u001b[1;33m\u001b[0m\u001b[0m\n\u001b[0;32m    178\u001b[0m             ignore_proxy=options._ignore_local_proxy)\n\u001b[1;32m--> 179\u001b[1;33m         RemoteWebDriver.__init__(\n\u001b[0m\u001b[0;32m    180\u001b[0m             \u001b[0mself\u001b[0m\u001b[1;33m,\u001b[0m\u001b[1;33m\u001b[0m\u001b[1;33m\u001b[0m\u001b[0m\n\u001b[0;32m    181\u001b[0m             \u001b[0mcommand_executor\u001b[0m\u001b[1;33m=\u001b[0m\u001b[0mexecutor\u001b[0m\u001b[1;33m,\u001b[0m\u001b[1;33m\u001b[0m\u001b[1;33m\u001b[0m\u001b[0m\n",
      "\u001b[1;32mC:\\ProgramData\\Anaconda3\\lib\\site-packages\\selenium\\webdriver\\remote\\webdriver.py\u001b[0m in \u001b[0;36m__init__\u001b[1;34m(self, command_executor, desired_capabilities, browser_profile, proxy, keep_alive, file_detector, options)\u001b[0m\n\u001b[0;32m    266\u001b[0m         \u001b[0mself\u001b[0m\u001b[1;33m.\u001b[0m\u001b[0mfile_detector\u001b[0m \u001b[1;33m=\u001b[0m \u001b[0mfile_detector\u001b[0m \u001b[1;32mor\u001b[0m \u001b[0mLocalFileDetector\u001b[0m\u001b[1;33m(\u001b[0m\u001b[1;33m)\u001b[0m\u001b[1;33m\u001b[0m\u001b[1;33m\u001b[0m\u001b[0m\n\u001b[0;32m    267\u001b[0m         \u001b[0mself\u001b[0m\u001b[1;33m.\u001b[0m\u001b[0mstart_client\u001b[0m\u001b[1;33m(\u001b[0m\u001b[1;33m)\u001b[0m\u001b[1;33m\u001b[0m\u001b[1;33m\u001b[0m\u001b[0m\n\u001b[1;32m--> 268\u001b[1;33m         \u001b[0mself\u001b[0m\u001b[1;33m.\u001b[0m\u001b[0mstart_session\u001b[0m\u001b[1;33m(\u001b[0m\u001b[0mcapabilities\u001b[0m\u001b[1;33m,\u001b[0m \u001b[0mbrowser_profile\u001b[0m\u001b[1;33m)\u001b[0m\u001b[1;33m\u001b[0m\u001b[1;33m\u001b[0m\u001b[0m\n\u001b[0m\u001b[0;32m    269\u001b[0m \u001b[1;33m\u001b[0m\u001b[0m\n\u001b[0;32m    270\u001b[0m     \u001b[1;32mdef\u001b[0m \u001b[0m__repr__\u001b[0m\u001b[1;33m(\u001b[0m\u001b[0mself\u001b[0m\u001b[1;33m)\u001b[0m\u001b[1;33m:\u001b[0m\u001b[1;33m\u001b[0m\u001b[1;33m\u001b[0m\u001b[0m\n",
      "\u001b[1;32mC:\\ProgramData\\Anaconda3\\lib\\site-packages\\selenium\\webdriver\\remote\\webdriver.py\u001b[0m in \u001b[0;36mstart_session\u001b[1;34m(self, capabilities, browser_profile)\u001b[0m\n\u001b[0;32m    357\u001b[0m         parameters = {\"capabilities\": w3c_caps,\n\u001b[0;32m    358\u001b[0m                       \"desiredCapabilities\": capabilities}\n\u001b[1;32m--> 359\u001b[1;33m         \u001b[0mresponse\u001b[0m \u001b[1;33m=\u001b[0m \u001b[0mself\u001b[0m\u001b[1;33m.\u001b[0m\u001b[0mexecute\u001b[0m\u001b[1;33m(\u001b[0m\u001b[0mCommand\u001b[0m\u001b[1;33m.\u001b[0m\u001b[0mNEW_SESSION\u001b[0m\u001b[1;33m,\u001b[0m \u001b[0mparameters\u001b[0m\u001b[1;33m)\u001b[0m\u001b[1;33m\u001b[0m\u001b[1;33m\u001b[0m\u001b[0m\n\u001b[0m\u001b[0;32m    360\u001b[0m         \u001b[1;32mif\u001b[0m \u001b[1;34m'sessionId'\u001b[0m \u001b[1;32mnot\u001b[0m \u001b[1;32min\u001b[0m \u001b[0mresponse\u001b[0m\u001b[1;33m:\u001b[0m\u001b[1;33m\u001b[0m\u001b[1;33m\u001b[0m\u001b[0m\n\u001b[0;32m    361\u001b[0m             \u001b[0mresponse\u001b[0m \u001b[1;33m=\u001b[0m \u001b[0mresponse\u001b[0m\u001b[1;33m[\u001b[0m\u001b[1;34m'value'\u001b[0m\u001b[1;33m]\u001b[0m\u001b[1;33m\u001b[0m\u001b[1;33m\u001b[0m\u001b[0m\n",
      "\u001b[1;32mC:\\ProgramData\\Anaconda3\\lib\\site-packages\\selenium\\webdriver\\remote\\webdriver.py\u001b[0m in \u001b[0;36mexecute\u001b[1;34m(self, driver_command, params)\u001b[0m\n\u001b[0;32m    422\u001b[0m         \u001b[0mresponse\u001b[0m \u001b[1;33m=\u001b[0m \u001b[0mself\u001b[0m\u001b[1;33m.\u001b[0m\u001b[0mcommand_executor\u001b[0m\u001b[1;33m.\u001b[0m\u001b[0mexecute\u001b[0m\u001b[1;33m(\u001b[0m\u001b[0mdriver_command\u001b[0m\u001b[1;33m,\u001b[0m \u001b[0mparams\u001b[0m\u001b[1;33m)\u001b[0m\u001b[1;33m\u001b[0m\u001b[1;33m\u001b[0m\u001b[0m\n\u001b[0;32m    423\u001b[0m         \u001b[1;32mif\u001b[0m \u001b[0mresponse\u001b[0m\u001b[1;33m:\u001b[0m\u001b[1;33m\u001b[0m\u001b[1;33m\u001b[0m\u001b[0m\n\u001b[1;32m--> 424\u001b[1;33m             \u001b[0mself\u001b[0m\u001b[1;33m.\u001b[0m\u001b[0merror_handler\u001b[0m\u001b[1;33m.\u001b[0m\u001b[0mcheck_response\u001b[0m\u001b[1;33m(\u001b[0m\u001b[0mresponse\u001b[0m\u001b[1;33m)\u001b[0m\u001b[1;33m\u001b[0m\u001b[1;33m\u001b[0m\u001b[0m\n\u001b[0m\u001b[0;32m    425\u001b[0m             response['value'] = self._unwrap_value(\n\u001b[0;32m    426\u001b[0m                 response.get('value', None))\n",
      "\u001b[1;32mC:\\ProgramData\\Anaconda3\\lib\\site-packages\\selenium\\webdriver\\remote\\errorhandler.py\u001b[0m in \u001b[0;36mcheck_response\u001b[1;34m(self, response)\u001b[0m\n\u001b[0;32m    245\u001b[0m                 \u001b[0malert_text\u001b[0m \u001b[1;33m=\u001b[0m \u001b[0mvalue\u001b[0m\u001b[1;33m[\u001b[0m\u001b[1;34m'alert'\u001b[0m\u001b[1;33m]\u001b[0m\u001b[1;33m.\u001b[0m\u001b[0mget\u001b[0m\u001b[1;33m(\u001b[0m\u001b[1;34m'text'\u001b[0m\u001b[1;33m)\u001b[0m\u001b[1;33m\u001b[0m\u001b[1;33m\u001b[0m\u001b[0m\n\u001b[0;32m    246\u001b[0m             \u001b[1;32mraise\u001b[0m \u001b[0mexception_class\u001b[0m\u001b[1;33m(\u001b[0m\u001b[0mmessage\u001b[0m\u001b[1;33m,\u001b[0m \u001b[0mscreen\u001b[0m\u001b[1;33m,\u001b[0m \u001b[0mstacktrace\u001b[0m\u001b[1;33m,\u001b[0m \u001b[0malert_text\u001b[0m\u001b[1;33m)\u001b[0m  \u001b[1;31m# type: ignore[call-arg]  # mypy is not smart enough here\u001b[0m\u001b[1;33m\u001b[0m\u001b[1;33m\u001b[0m\u001b[0m\n\u001b[1;32m--> 247\u001b[1;33m         \u001b[1;32mraise\u001b[0m \u001b[0mexception_class\u001b[0m\u001b[1;33m(\u001b[0m\u001b[0mmessage\u001b[0m\u001b[1;33m,\u001b[0m \u001b[0mscreen\u001b[0m\u001b[1;33m,\u001b[0m \u001b[0mstacktrace\u001b[0m\u001b[1;33m)\u001b[0m\u001b[1;33m\u001b[0m\u001b[1;33m\u001b[0m\u001b[0m\n\u001b[0m\u001b[0;32m    248\u001b[0m \u001b[1;33m\u001b[0m\u001b[0m\n\u001b[0;32m    249\u001b[0m     \u001b[1;32mdef\u001b[0m \u001b[0m_value_or_default\u001b[0m\u001b[1;33m(\u001b[0m\u001b[0mself\u001b[0m\u001b[1;33m,\u001b[0m \u001b[0mobj\u001b[0m\u001b[1;33m:\u001b[0m \u001b[0mMapping\u001b[0m\u001b[1;33m[\u001b[0m\u001b[0m_KT\u001b[0m\u001b[1;33m,\u001b[0m \u001b[0m_VT\u001b[0m\u001b[1;33m]\u001b[0m\u001b[1;33m,\u001b[0m \u001b[0mkey\u001b[0m\u001b[1;33m:\u001b[0m \u001b[0m_KT\u001b[0m\u001b[1;33m,\u001b[0m \u001b[0mdefault\u001b[0m\u001b[1;33m:\u001b[0m \u001b[0m_VT\u001b[0m\u001b[1;33m)\u001b[0m \u001b[1;33m->\u001b[0m \u001b[0m_VT\u001b[0m\u001b[1;33m:\u001b[0m\u001b[1;33m\u001b[0m\u001b[1;33m\u001b[0m\u001b[0m\n",
      "\u001b[1;31mWebDriverException\u001b[0m: Message: Process unexpectedly closed with status 0\n"
     ]
    }
   ],
   "source": [
    "from webdriver_manager.firefox import GeckoDriverManager\n",
    "driver = webdriver.Firefox(executable_path=GeckoDriverManager().install())"
   ]
  },
  {
   "cell_type": "markdown",
   "metadata": {},
   "source": [
    "Install Selenium: \n",
    "\n",
    "`!pip install selenium`"
   ]
  },
  {
   "cell_type": "markdown",
   "metadata": {},
   "source": [
    "# First Steps"
   ]
  },
  {
   "cell_type": "code",
   "execution_count": 135,
   "metadata": {
    "ExecuteTime": {
     "end_time": "2022-01-28T00:54:58.925981Z",
     "start_time": "2022-01-28T00:54:58.900050Z"
    }
   },
   "outputs": [
    {
     "ename": "NameError",
     "evalue": "name 'FirefoxDriverManager' is not defined",
     "output_type": "error",
     "traceback": [
      "\u001b[1;31m---------------------------------------------------------------------------\u001b[0m",
      "\u001b[1;31mNameError\u001b[0m                                 Traceback (most recent call last)",
      "\u001b[1;32m<ipython-input-135-bb595f6aee44>\u001b[0m in \u001b[0;36m<module>\u001b[1;34m\u001b[0m\n\u001b[1;32m----> 1\u001b[1;33m \u001b[0ms\u001b[0m \u001b[1;33m=\u001b[0m \u001b[0mService\u001b[0m\u001b[1;33m(\u001b[0m\u001b[0mFirefoxDriverManager\u001b[0m\u001b[1;33m(\u001b[0m\u001b[1;33m)\u001b[0m\u001b[1;33m.\u001b[0m\u001b[0minstall\u001b[0m\u001b[1;33m(\u001b[0m\u001b[1;33m)\u001b[0m\u001b[1;33m)\u001b[0m\u001b[1;33m\u001b[0m\u001b[1;33m\u001b[0m\u001b[0m\n\u001b[0m\u001b[0;32m      2\u001b[0m \u001b[0mdriver\u001b[0m \u001b[1;33m=\u001b[0m \u001b[0mwebdriver\u001b[0m\u001b[1;33m.\u001b[0m\u001b[0mChrome\u001b[0m\u001b[1;33m(\u001b[0m\u001b[0mservice\u001b[0m\u001b[1;33m=\u001b[0m\u001b[0ms\u001b[0m\u001b[1;33m)\u001b[0m\u001b[1;33m\u001b[0m\u001b[1;33m\u001b[0m\u001b[0m\n\u001b[0;32m      3\u001b[0m \u001b[0mdriver\u001b[0m\u001b[1;33m.\u001b[0m\u001b[0mimplicitly_wait\u001b[0m\u001b[1;33m(\u001b[0m\u001b[1;36m0.5\u001b[0m\u001b[1;33m)\u001b[0m\u001b[1;33m\u001b[0m\u001b[1;33m\u001b[0m\u001b[0m\n",
      "\u001b[1;31mNameError\u001b[0m: name 'FirefoxDriverManager' is not defined"
     ]
    }
   ],
   "source": [
    "s = Service(FirefoxDriverManager().install())\n",
    "driver = webdriver.Chrome(service=s)\n",
    "driver.implicitly_wait(0.5)"
   ]
  },
  {
   "cell_type": "code",
   "execution_count": 20,
   "metadata": {
    "ExecuteTime": {
     "end_time": "2022-01-27T22:56:50.087082Z",
     "start_time": "2022-01-27T22:56:49.088177Z"
    }
   },
   "outputs": [],
   "source": [
    "driver.get(\"https://testpages.herokuapp.com/styled/index.html\")"
   ]
  },
  {
   "cell_type": "markdown",
   "metadata": {},
   "source": [
    "# Interactive content\n",
    "\n",
    "## Forms"
   ]
  },
  {
   "cell_type": "code",
   "execution_count": 21,
   "metadata": {
    "ExecuteTime": {
     "end_time": "2022-01-27T22:56:50.410127Z",
     "start_time": "2022-01-27T22:56:50.387158Z"
    }
   },
   "outputs": [],
   "source": [
    "link_htmlformtest = driver.find_element(By.XPATH, \"//a[@id='htmlformtest']\")"
   ]
  },
  {
   "cell_type": "code",
   "execution_count": 22,
   "metadata": {
    "ExecuteTime": {
     "end_time": "2022-01-27T22:56:51.247236Z",
     "start_time": "2022-01-27T22:56:51.235268Z"
    }
   },
   "outputs": [
    {
     "data": {
      "text/plain": [
       "selenium.webdriver.remote.webelement.WebElement"
      ]
     },
     "execution_count": 22,
     "metadata": {},
     "output_type": "execute_result"
    }
   ],
   "source": [
    "type(link_htmlformtest)"
   ]
  },
  {
   "cell_type": "code",
   "execution_count": 23,
   "metadata": {
    "ExecuteTime": {
     "end_time": "2022-01-27T22:56:51.950071Z",
     "start_time": "2022-01-27T22:56:51.919148Z"
    }
   },
   "outputs": [
    {
     "data": {
      "text/plain": [
       "'https://testpages.herokuapp.com/styled/basic-html-form-test.html'"
      ]
     },
     "execution_count": 23,
     "metadata": {},
     "output_type": "execute_result"
    }
   ],
   "source": [
    "link_htmlformtest.get_attribute('href')"
   ]
  },
  {
   "cell_type": "code",
   "execution_count": 24,
   "metadata": {
    "ExecuteTime": {
     "end_time": "2022-01-27T22:56:54.452767Z",
     "start_time": "2022-01-27T22:56:53.915490Z"
    }
   },
   "outputs": [],
   "source": [
    "link_htmlformtest.click()"
   ]
  },
  {
   "cell_type": "code",
   "execution_count": 26,
   "metadata": {
    "ExecuteTime": {
     "end_time": "2022-01-27T23:01:45.169159Z",
     "start_time": "2022-01-27T23:01:45.151207Z"
    }
   },
   "outputs": [],
   "source": [
    "input_username = driver.find_element(By.XPATH, \"//input[@name='username']\")"
   ]
  },
  {
   "cell_type": "code",
   "execution_count": 30,
   "metadata": {
    "ExecuteTime": {
     "end_time": "2022-01-27T23:06:27.435852Z",
     "start_time": "2022-01-27T23:06:27.401941Z"
    }
   },
   "outputs": [],
   "source": [
    "input_username.send_keys('aaaa')"
   ]
  },
  {
   "cell_type": "code",
   "execution_count": 31,
   "metadata": {
    "ExecuteTime": {
     "end_time": "2022-01-27T23:06:40.405099Z",
     "start_time": "2022-01-27T23:06:40.370149Z"
    }
   },
   "outputs": [],
   "source": [
    "input_username.clear()"
   ]
  },
  {
   "cell_type": "code",
   "execution_count": 32,
   "metadata": {
    "ExecuteTime": {
     "end_time": "2022-01-27T23:06:55.306843Z",
     "start_time": "2022-01-27T23:06:55.255977Z"
    }
   },
   "outputs": [],
   "source": [
    "input_username.send_keys('pedrotechel')"
   ]
  },
  {
   "cell_type": "code",
   "execution_count": 33,
   "metadata": {
    "ExecuteTime": {
     "end_time": "2022-01-27T23:08:29.585510Z",
     "start_time": "2022-01-27T23:08:29.558555Z"
    }
   },
   "outputs": [],
   "source": [
    "input_pswd = driver.find_element(By.XPATH, \"//input[@name='password']\")"
   ]
  },
  {
   "cell_type": "code",
   "execution_count": 35,
   "metadata": {
    "ExecuteTime": {
     "end_time": "2022-01-27T23:08:58.205130Z",
     "start_time": "2022-01-27T23:08:58.168196Z"
    }
   },
   "outputs": [],
   "source": [
    "input_pswd.send_keys('teste123')"
   ]
  },
  {
   "cell_type": "code",
   "execution_count": 38,
   "metadata": {
    "ExecuteTime": {
     "end_time": "2022-01-27T23:12:14.547972Z",
     "start_time": "2022-01-27T23:12:14.528046Z"
    }
   },
   "outputs": [],
   "source": [
    "input_comments = driver.find_element(By.XPATH, \"//textarea[@name='comments']\")"
   ]
  },
  {
   "cell_type": "code",
   "execution_count": 39,
   "metadata": {
    "ExecuteTime": {
     "end_time": "2022-01-27T23:12:15.548071Z",
     "start_time": "2022-01-27T23:12:15.517123Z"
    }
   },
   "outputs": [],
   "source": [
    "input_comments.clear()"
   ]
  },
  {
   "cell_type": "code",
   "execution_count": 40,
   "metadata": {
    "ExecuteTime": {
     "end_time": "2022-01-27T23:12:16.499462Z",
     "start_time": "2022-01-27T23:12:16.452576Z"
    }
   },
   "outputs": [],
   "source": [
    "input_comments.send_keys('Este é um comentário aleatório')"
   ]
  },
  {
   "cell_type": "code",
   "execution_count": 41,
   "metadata": {
    "ExecuteTime": {
     "end_time": "2022-01-27T23:15:42.031849Z",
     "start_time": "2022-01-27T23:15:42.011903Z"
    }
   },
   "outputs": [],
   "source": [
    "input_file = driver.find_element(By.XPATH, \"//input[@name='filename']\")"
   ]
  },
  {
   "cell_type": "code",
   "execution_count": 42,
   "metadata": {
    "ExecuteTime": {
     "end_time": "2022-01-27T23:15:42.982700Z",
     "start_time": "2022-01-27T23:15:42.944702Z"
    }
   },
   "outputs": [
    {
     "ename": "InvalidArgumentException",
     "evalue": "Message: invalid argument\n  (Session info: chrome=97.0.4692.99)\nStacktrace:\nBacktrace:\n\tOrdinal0 [0x0118FDC3+2555331]\n\tOrdinal0 [0x011277F1+2127857]\n\tOrdinal0 [0x01022CD0+1060048]\n\tOrdinal0 [0x010457C1+1202113]\n\tOrdinal0 [0x01067B0C+1342220]\n\tOrdinal0 [0x01044984+1198468]\n\tOrdinal0 [0x01067C14+1342484]\n\tOrdinal0 [0x010775FA+1406458]\n\tOrdinal0 [0x01067976+1341814]\n\tOrdinal0 [0x010436B6+1193654]\n\tOrdinal0 [0x01044546+1197382]\n\tGetHandleVerifier [0x01329622+1619522]\n\tGetHandleVerifier [0x013D882C+2336844]\n\tGetHandleVerifier [0x012223E1+541697]\n\tGetHandleVerifier [0x01221443+537699]\n\tOrdinal0 [0x0112D18E+2150798]\n\tOrdinal0 [0x01131518+2168088]\n\tOrdinal0 [0x01131660+2168416]\n\tOrdinal0 [0x0113B330+2208560]\n\tBaseThreadInitThunk [0x76C9FA29+25]\n\tRtlGetAppContainerNamedObjectPath [0x77107A9E+286]\n\tRtlGetAppContainerNamedObjectPath [0x77107A6E+238]\n",
     "output_type": "error",
     "traceback": [
      "\u001b[1;31m---------------------------------------------------------------------------\u001b[0m",
      "\u001b[1;31mInvalidArgumentException\u001b[0m                  Traceback (most recent call last)",
      "\u001b[1;32m<ipython-input-42-2ccdcc42cbe6>\u001b[0m in \u001b[0;36m<module>\u001b[1;34m\u001b[0m\n\u001b[1;32m----> 1\u001b[1;33m \u001b[0minput_file\u001b[0m\u001b[1;33m.\u001b[0m\u001b[0mclick\u001b[0m\u001b[1;33m(\u001b[0m\u001b[1;33m)\u001b[0m\u001b[1;33m\u001b[0m\u001b[1;33m\u001b[0m\u001b[0m\n\u001b[0m",
      "\u001b[1;32mC:\\ProgramData\\Anaconda3\\lib\\site-packages\\selenium\\webdriver\\remote\\webelement.py\u001b[0m in \u001b[0;36mclick\u001b[1;34m(self)\u001b[0m\n\u001b[0;32m     79\u001b[0m     \u001b[1;32mdef\u001b[0m \u001b[0mclick\u001b[0m\u001b[1;33m(\u001b[0m\u001b[0mself\u001b[0m\u001b[1;33m)\u001b[0m \u001b[1;33m->\u001b[0m \u001b[1;32mNone\u001b[0m\u001b[1;33m:\u001b[0m\u001b[1;33m\u001b[0m\u001b[1;33m\u001b[0m\u001b[0m\n\u001b[0;32m     80\u001b[0m         \u001b[1;34m\"\"\"Clicks the element.\"\"\"\u001b[0m\u001b[1;33m\u001b[0m\u001b[1;33m\u001b[0m\u001b[0m\n\u001b[1;32m---> 81\u001b[1;33m         \u001b[0mself\u001b[0m\u001b[1;33m.\u001b[0m\u001b[0m_execute\u001b[0m\u001b[1;33m(\u001b[0m\u001b[0mCommand\u001b[0m\u001b[1;33m.\u001b[0m\u001b[0mCLICK_ELEMENT\u001b[0m\u001b[1;33m)\u001b[0m\u001b[1;33m\u001b[0m\u001b[1;33m\u001b[0m\u001b[0m\n\u001b[0m\u001b[0;32m     82\u001b[0m \u001b[1;33m\u001b[0m\u001b[0m\n\u001b[0;32m     83\u001b[0m     \u001b[1;32mdef\u001b[0m \u001b[0msubmit\u001b[0m\u001b[1;33m(\u001b[0m\u001b[0mself\u001b[0m\u001b[1;33m)\u001b[0m\u001b[1;33m:\u001b[0m\u001b[1;33m\u001b[0m\u001b[1;33m\u001b[0m\u001b[0m\n",
      "\u001b[1;32mC:\\ProgramData\\Anaconda3\\lib\\site-packages\\selenium\\webdriver\\remote\\webelement.py\u001b[0m in \u001b[0;36m_execute\u001b[1;34m(self, command, params)\u001b[0m\n\u001b[0;32m    708\u001b[0m             \u001b[0mparams\u001b[0m \u001b[1;33m=\u001b[0m \u001b[1;33m{\u001b[0m\u001b[1;33m}\u001b[0m\u001b[1;33m\u001b[0m\u001b[1;33m\u001b[0m\u001b[0m\n\u001b[0;32m    709\u001b[0m         \u001b[0mparams\u001b[0m\u001b[1;33m[\u001b[0m\u001b[1;34m'id'\u001b[0m\u001b[1;33m]\u001b[0m \u001b[1;33m=\u001b[0m \u001b[0mself\u001b[0m\u001b[1;33m.\u001b[0m\u001b[0m_id\u001b[0m\u001b[1;33m\u001b[0m\u001b[1;33m\u001b[0m\u001b[0m\n\u001b[1;32m--> 710\u001b[1;33m         \u001b[1;32mreturn\u001b[0m \u001b[0mself\u001b[0m\u001b[1;33m.\u001b[0m\u001b[0m_parent\u001b[0m\u001b[1;33m.\u001b[0m\u001b[0mexecute\u001b[0m\u001b[1;33m(\u001b[0m\u001b[0mcommand\u001b[0m\u001b[1;33m,\u001b[0m \u001b[0mparams\u001b[0m\u001b[1;33m)\u001b[0m\u001b[1;33m\u001b[0m\u001b[1;33m\u001b[0m\u001b[0m\n\u001b[0m\u001b[0;32m    711\u001b[0m \u001b[1;33m\u001b[0m\u001b[0m\n\u001b[0;32m    712\u001b[0m     \u001b[1;32mdef\u001b[0m \u001b[0mfind_element\u001b[0m\u001b[1;33m(\u001b[0m\u001b[0mself\u001b[0m\u001b[1;33m,\u001b[0m \u001b[0mby\u001b[0m\u001b[1;33m=\u001b[0m\u001b[0mBy\u001b[0m\u001b[1;33m.\u001b[0m\u001b[0mID\u001b[0m\u001b[1;33m,\u001b[0m \u001b[0mvalue\u001b[0m\u001b[1;33m=\u001b[0m\u001b[1;32mNone\u001b[0m\u001b[1;33m)\u001b[0m\u001b[1;33m:\u001b[0m\u001b[1;33m\u001b[0m\u001b[1;33m\u001b[0m\u001b[0m\n",
      "\u001b[1;32mC:\\ProgramData\\Anaconda3\\lib\\site-packages\\selenium\\webdriver\\remote\\webdriver.py\u001b[0m in \u001b[0;36mexecute\u001b[1;34m(self, driver_command, params)\u001b[0m\n\u001b[0;32m    422\u001b[0m         \u001b[0mresponse\u001b[0m \u001b[1;33m=\u001b[0m \u001b[0mself\u001b[0m\u001b[1;33m.\u001b[0m\u001b[0mcommand_executor\u001b[0m\u001b[1;33m.\u001b[0m\u001b[0mexecute\u001b[0m\u001b[1;33m(\u001b[0m\u001b[0mdriver_command\u001b[0m\u001b[1;33m,\u001b[0m \u001b[0mparams\u001b[0m\u001b[1;33m)\u001b[0m\u001b[1;33m\u001b[0m\u001b[1;33m\u001b[0m\u001b[0m\n\u001b[0;32m    423\u001b[0m         \u001b[1;32mif\u001b[0m \u001b[0mresponse\u001b[0m\u001b[1;33m:\u001b[0m\u001b[1;33m\u001b[0m\u001b[1;33m\u001b[0m\u001b[0m\n\u001b[1;32m--> 424\u001b[1;33m             \u001b[0mself\u001b[0m\u001b[1;33m.\u001b[0m\u001b[0merror_handler\u001b[0m\u001b[1;33m.\u001b[0m\u001b[0mcheck_response\u001b[0m\u001b[1;33m(\u001b[0m\u001b[0mresponse\u001b[0m\u001b[1;33m)\u001b[0m\u001b[1;33m\u001b[0m\u001b[1;33m\u001b[0m\u001b[0m\n\u001b[0m\u001b[0;32m    425\u001b[0m             response['value'] = self._unwrap_value(\n\u001b[0;32m    426\u001b[0m                 response.get('value', None))\n",
      "\u001b[1;32mC:\\ProgramData\\Anaconda3\\lib\\site-packages\\selenium\\webdriver\\remote\\errorhandler.py\u001b[0m in \u001b[0;36mcheck_response\u001b[1;34m(self, response)\u001b[0m\n\u001b[0;32m    245\u001b[0m                 \u001b[0malert_text\u001b[0m \u001b[1;33m=\u001b[0m \u001b[0mvalue\u001b[0m\u001b[1;33m[\u001b[0m\u001b[1;34m'alert'\u001b[0m\u001b[1;33m]\u001b[0m\u001b[1;33m.\u001b[0m\u001b[0mget\u001b[0m\u001b[1;33m(\u001b[0m\u001b[1;34m'text'\u001b[0m\u001b[1;33m)\u001b[0m\u001b[1;33m\u001b[0m\u001b[1;33m\u001b[0m\u001b[0m\n\u001b[0;32m    246\u001b[0m             \u001b[1;32mraise\u001b[0m \u001b[0mexception_class\u001b[0m\u001b[1;33m(\u001b[0m\u001b[0mmessage\u001b[0m\u001b[1;33m,\u001b[0m \u001b[0mscreen\u001b[0m\u001b[1;33m,\u001b[0m \u001b[0mstacktrace\u001b[0m\u001b[1;33m,\u001b[0m \u001b[0malert_text\u001b[0m\u001b[1;33m)\u001b[0m  \u001b[1;31m# type: ignore[call-arg]  # mypy is not smart enough here\u001b[0m\u001b[1;33m\u001b[0m\u001b[1;33m\u001b[0m\u001b[0m\n\u001b[1;32m--> 247\u001b[1;33m         \u001b[1;32mraise\u001b[0m \u001b[0mexception_class\u001b[0m\u001b[1;33m(\u001b[0m\u001b[0mmessage\u001b[0m\u001b[1;33m,\u001b[0m \u001b[0mscreen\u001b[0m\u001b[1;33m,\u001b[0m \u001b[0mstacktrace\u001b[0m\u001b[1;33m)\u001b[0m\u001b[1;33m\u001b[0m\u001b[1;33m\u001b[0m\u001b[0m\n\u001b[0m\u001b[0;32m    248\u001b[0m \u001b[1;33m\u001b[0m\u001b[0m\n\u001b[0;32m    249\u001b[0m     \u001b[1;32mdef\u001b[0m \u001b[0m_value_or_default\u001b[0m\u001b[1;33m(\u001b[0m\u001b[0mself\u001b[0m\u001b[1;33m,\u001b[0m \u001b[0mobj\u001b[0m\u001b[1;33m:\u001b[0m \u001b[0mMapping\u001b[0m\u001b[1;33m[\u001b[0m\u001b[0m_KT\u001b[0m\u001b[1;33m,\u001b[0m \u001b[0m_VT\u001b[0m\u001b[1;33m]\u001b[0m\u001b[1;33m,\u001b[0m \u001b[0mkey\u001b[0m\u001b[1;33m:\u001b[0m \u001b[0m_KT\u001b[0m\u001b[1;33m,\u001b[0m \u001b[0mdefault\u001b[0m\u001b[1;33m:\u001b[0m \u001b[0m_VT\u001b[0m\u001b[1;33m)\u001b[0m \u001b[1;33m->\u001b[0m \u001b[0m_VT\u001b[0m\u001b[1;33m:\u001b[0m\u001b[1;33m\u001b[0m\u001b[1;33m\u001b[0m\u001b[0m\n",
      "\u001b[1;31mInvalidArgumentException\u001b[0m: Message: invalid argument\n  (Session info: chrome=97.0.4692.99)\nStacktrace:\nBacktrace:\n\tOrdinal0 [0x0118FDC3+2555331]\n\tOrdinal0 [0x011277F1+2127857]\n\tOrdinal0 [0x01022CD0+1060048]\n\tOrdinal0 [0x010457C1+1202113]\n\tOrdinal0 [0x01067B0C+1342220]\n\tOrdinal0 [0x01044984+1198468]\n\tOrdinal0 [0x01067C14+1342484]\n\tOrdinal0 [0x010775FA+1406458]\n\tOrdinal0 [0x01067976+1341814]\n\tOrdinal0 [0x010436B6+1193654]\n\tOrdinal0 [0x01044546+1197382]\n\tGetHandleVerifier [0x01329622+1619522]\n\tGetHandleVerifier [0x013D882C+2336844]\n\tGetHandleVerifier [0x012223E1+541697]\n\tGetHandleVerifier [0x01221443+537699]\n\tOrdinal0 [0x0112D18E+2150798]\n\tOrdinal0 [0x01131518+2168088]\n\tOrdinal0 [0x01131660+2168416]\n\tOrdinal0 [0x0113B330+2208560]\n\tBaseThreadInitThunk [0x76C9FA29+25]\n\tRtlGetAppContainerNamedObjectPath [0x77107A9E+286]\n\tRtlGetAppContainerNamedObjectPath [0x77107A6E+238]\n"
     ]
    }
   ],
   "source": [
    "input_file.click()"
   ]
  },
  {
   "cell_type": "code",
   "execution_count": 43,
   "metadata": {
    "ExecuteTime": {
     "end_time": "2022-01-27T23:16:15.265527Z",
     "start_time": "2022-01-27T23:16:15.248574Z"
    }
   },
   "outputs": [],
   "source": [
    "input_file = driver.find_element(By.XPATH, \"//input[@name='filename']\")"
   ]
  },
  {
   "cell_type": "code",
   "execution_count": 44,
   "metadata": {
    "ExecuteTime": {
     "end_time": "2022-01-27T23:16:46.646987Z",
     "start_time": "2022-01-27T23:16:46.607094Z"
    }
   },
   "outputs": [],
   "source": [
    "input_file.send_keys('C:/Users/Pedro/Documents/Ironhack/aulas_git/64_PT_NOV202111/aulas/sleeper.py')"
   ]
  },
  {
   "cell_type": "code",
   "execution_count": 45,
   "metadata": {
    "ExecuteTime": {
     "end_time": "2022-01-27T23:20:03.495486Z",
     "start_time": "2022-01-27T23:20:03.454594Z"
    }
   },
   "outputs": [],
   "source": [
    "input_chkbx1 = driver.find_element(By.XPATH, \"//input[@type='checkbox'][@value='cb1']\")\n",
    "input_chkbx2 = driver.find_element(By.XPATH, \"//input[@type='checkbox'][@value='cb2']\")\n",
    "input_chkbx3 = driver.find_element(By.XPATH, \"//input[@type='checkbox'][@value='cb3']\")"
   ]
  },
  {
   "cell_type": "code",
   "execution_count": 51,
   "metadata": {
    "ExecuteTime": {
     "end_time": "2022-01-27T23:20:48.108061Z",
     "start_time": "2022-01-27T23:20:48.020299Z"
    }
   },
   "outputs": [],
   "source": [
    "input_chkbx1.click()\n",
    "input_chkbx2.click()\n",
    "input_chkbx3.click()"
   ]
  },
  {
   "cell_type": "code",
   "execution_count": 52,
   "metadata": {
    "ExecuteTime": {
     "end_time": "2022-01-27T23:21:15.725337Z",
     "start_time": "2022-01-27T23:21:15.680458Z"
    }
   },
   "outputs": [],
   "source": [
    "input_rdbx1 = driver.find_element(By.XPATH, \"//input[@type='radio'][@value='rd1']\")\n",
    "input_rdbx2 = driver.find_element(By.XPATH, \"//input[@type='radio'][@value='rd2']\")\n",
    "input_rdbx3 = driver.find_element(By.XPATH, \"//input[@type='radio'][@value='rd3']\")"
   ]
  },
  {
   "cell_type": "code",
   "execution_count": 57,
   "metadata": {
    "ExecuteTime": {
     "end_time": "2022-01-27T23:21:33.497186Z",
     "start_time": "2022-01-27T23:21:33.426360Z"
    }
   },
   "outputs": [],
   "source": [
    "input_rdbx1.click()\n",
    "input_rdbx2.click()\n",
    "input_rdbx3.click()"
   ]
  },
  {
   "cell_type": "code",
   "execution_count": 62,
   "metadata": {
    "ExecuteTime": {
     "end_time": "2022-01-27T23:23:01.552836Z",
     "start_time": "2022-01-27T23:23:01.488013Z"
    }
   },
   "outputs": [],
   "source": [
    "input_opt1 = driver.find_element(By.XPATH, \"//option[@value='ms1']\")\n",
    "input_opt2 = driver.find_element(By.XPATH, \"//option[@value='ms2']\")\n",
    "input_opt3 = driver.find_element(By.XPATH, \"//option[@value='ms3']\")\n",
    "input_opt4 = driver.find_element(By.XPATH, \"//option[@value='ms4']\")"
   ]
  },
  {
   "cell_type": "code",
   "execution_count": 66,
   "metadata": {
    "ExecuteTime": {
     "end_time": "2022-01-27T23:23:08.795034Z",
     "start_time": "2022-01-27T23:23:08.715934Z"
    }
   },
   "outputs": [],
   "source": [
    "input_opt1.click()\n",
    "input_opt2.click()\n",
    "input_opt3.click()\n",
    "input_opt4.click()"
   ]
  },
  {
   "cell_type": "code",
   "execution_count": 67,
   "metadata": {
    "ExecuteTime": {
     "end_time": "2022-01-27T23:24:27.878831Z",
     "start_time": "2022-01-27T23:24:27.839906Z"
    }
   },
   "outputs": [],
   "source": [
    "input_dd1 = driver.find_element(By.XPATH, \"//option[@value='dd1']\")\n",
    "input_dd2 = driver.find_element(By.XPATH, \"//option[@value='dd2']\")\n",
    "input_dd3 = driver.find_element(By.XPATH, \"//option[@value='dd3']\")"
   ]
  },
  {
   "cell_type": "code",
   "execution_count": 68,
   "metadata": {
    "ExecuteTime": {
     "end_time": "2022-01-27T23:24:35.143229Z",
     "start_time": "2022-01-27T23:24:35.103974Z"
    }
   },
   "outputs": [],
   "source": [
    "input_dd1.click()"
   ]
  },
  {
   "cell_type": "code",
   "execution_count": 74,
   "metadata": {
    "ExecuteTime": {
     "end_time": "2022-01-27T23:27:23.865628Z",
     "start_time": "2022-01-27T23:27:23.849670Z"
    }
   },
   "outputs": [],
   "source": [
    "botao_enviar = driver.find_element(By.XPATH, \"submitbutton\")"
   ]
  },
  {
   "cell_type": "code",
   "execution_count": 75,
   "metadata": {
    "ExecuteTime": {
     "end_time": "2022-01-27T23:27:24.192080Z",
     "start_time": "2022-01-27T23:27:24.157144Z"
    }
   },
   "outputs": [],
   "source": [
    "botao_enviar.click()"
   ]
  },
  {
   "cell_type": "markdown",
   "metadata": {},
   "source": [
    "## Website interaction"
   ]
  },
  {
   "cell_type": "code",
   "execution_count": 84,
   "metadata": {
    "ExecuteTime": {
     "end_time": "2022-01-27T23:40:49.437371Z",
     "start_time": "2022-01-27T23:40:49.423438Z"
    }
   },
   "outputs": [],
   "source": [
    "driver.implicitly_wait(10)"
   ]
  },
  {
   "cell_type": "code",
   "execution_count": 85,
   "metadata": {
    "ExecuteTime": {
     "end_time": "2022-01-27T23:40:51.497587Z",
     "start_time": "2022-01-27T23:40:50.537860Z"
    }
   },
   "outputs": [],
   "source": [
    "driver.get(\"https://testpages.herokuapp.com/styled/basic-ajax-test.html\")"
   ]
  },
  {
   "cell_type": "code",
   "execution_count": 86,
   "metadata": {
    "ExecuteTime": {
     "end_time": "2022-01-27T23:40:53.274719Z",
     "start_time": "2022-01-27T23:40:53.207285Z"
    }
   },
   "outputs": [],
   "source": [
    "cat_select = driver.find_element(By.XPATH, \"//select[@name='id']\")\n",
    "server_cat = cat_select.find_element(By.XPATH, \"//option[@value='3']\")\n",
    "server_cat.click()"
   ]
  },
  {
   "cell_type": "code",
   "execution_count": 87,
   "metadata": {
    "ExecuteTime": {
     "end_time": "2022-01-27T23:40:55.571459Z",
     "start_time": "2022-01-27T23:40:53.893376Z"
    }
   },
   "outputs": [],
   "source": [
    "lang_select = driver.find_element(By.XPATH, \"//select[@name='language_id']\")\n",
    "java_lang = lang_select.find_element(By.XPATH, \"//option[@value='23']\")\n",
    "java_lang.click()"
   ]
  },
  {
   "cell_type": "code",
   "execution_count": 88,
   "metadata": {
    "ExecuteTime": {
     "end_time": "2022-01-27T23:41:51.211747Z",
     "start_time": "2022-01-27T23:41:50.651823Z"
    }
   },
   "outputs": [],
   "source": [
    "button = driver.find_element(By.XPATH, \"//input[@name='submitbutton']\")\n",
    "button.click()"
   ]
  },
  {
   "cell_type": "markdown",
   "metadata": {},
   "source": [
    "### Navegando no MercadoLivre"
   ]
  },
  {
   "cell_type": "code",
   "execution_count": 89,
   "metadata": {
    "ExecuteTime": {
     "end_time": "2022-01-27T23:43:12.257786Z",
     "start_time": "2022-01-27T23:43:10.744672Z"
    }
   },
   "outputs": [],
   "source": [
    "driver.get(\"https://www.mercadolivre.com.br/\")\n",
    "driver.implicitly_wait(10)"
   ]
  },
  {
   "cell_type": "code",
   "execution_count": 94,
   "metadata": {
    "ExecuteTime": {
     "end_time": "2022-01-27T23:45:33.184829Z",
     "start_time": "2022-01-27T23:45:31.231573Z"
    }
   },
   "outputs": [],
   "source": [
    "barra_busca = driver.find_element(By.XPATH, \"//input[@class='nav-search-input']\")\n",
    "barra_busca.clear()\n",
    "barra_busca.send_keys('azeite')\n",
    "barra_busca.send_keys(Keys.ENTER)"
   ]
  },
  {
   "cell_type": "code",
   "execution_count": 95,
   "metadata": {
    "ExecuteTime": {
     "end_time": "2022-01-27T23:47:44.407210Z",
     "start_time": "2022-01-27T23:47:44.364326Z"
    }
   },
   "outputs": [],
   "source": [
    "painel_produtos = driver.find_element(By.XPATH, \"//ol[@class='ui-search-layout ui-search-layout--stack']\")"
   ]
  },
  {
   "cell_type": "code",
   "execution_count": 96,
   "metadata": {
    "ExecuteTime": {
     "end_time": "2022-01-27T23:52:05.437284Z",
     "start_time": "2022-01-27T23:52:05.399382Z"
    }
   },
   "outputs": [],
   "source": [
    "produtos = painel_produtos.find_elements(By.XPATH, \"//a[@class='ui-search-item__group__element ui-search-link']\")"
   ]
  },
  {
   "cell_type": "code",
   "execution_count": 97,
   "metadata": {
    "ExecuteTime": {
     "end_time": "2022-01-27T23:52:10.888154Z",
     "start_time": "2022-01-27T23:52:10.881172Z"
    }
   },
   "outputs": [
    {
     "data": {
      "text/plain": [
       "<selenium.webdriver.remote.webelement.WebElement (session=\"1d8699432b1b9ea2e7895f395fdb456d\", element=\"c71810ed-ca8e-474c-997d-3063e9aad949\")>"
      ]
     },
     "execution_count": 97,
     "metadata": {},
     "output_type": "execute_result"
    }
   ],
   "source": [
    "produtos[0]"
   ]
  },
  {
   "cell_type": "code",
   "execution_count": 100,
   "metadata": {
    "ExecuteTime": {
     "end_time": "2022-01-27T23:53:24.967772Z",
     "start_time": "2022-01-27T23:53:24.945833Z"
    }
   },
   "outputs": [
    {
     "data": {
      "text/plain": [
       "'https://www.mercadolivre.com.br/azeite-de-oliva-extra-virgem-portugus-andorinha-classicos-vidro-500ml/p/MLB18405804?pdp_filters=category:MLB1423#searchVariation=MLB18405804&position=1&search_layout=stack&type=product&tracking_id=98ca5f5f-ef33-41ca-a4cc-0c7a16a57622'"
      ]
     },
     "execution_count": 100,
     "metadata": {},
     "output_type": "execute_result"
    }
   ],
   "source": [
    "produtos[0].get_attribute('href')"
   ]
  },
  {
   "cell_type": "code",
   "execution_count": 101,
   "metadata": {
    "ExecuteTime": {
     "end_time": "2022-01-27T23:53:39.344493Z",
     "start_time": "2022-01-27T23:53:38.631806Z"
    }
   },
   "outputs": [],
   "source": [
    "lista_links = [produto.get_attribute('href') for produto in produtos]"
   ]
  },
  {
   "cell_type": "code",
   "execution_count": 105,
   "metadata": {
    "ExecuteTime": {
     "end_time": "2022-01-27T23:53:52.668527Z",
     "start_time": "2022-01-27T23:53:52.659553Z"
    }
   },
   "outputs": [
    {
     "data": {
      "text/plain": [
       "'https://www.mercadolivre.com.br/azeite-italiano-extra-virgem-filippo-berio-500ml/p/MLB18405446?pdp_filters=category:MLB1423#searchVariation=MLB18405446&position=4&search_layout=stack&type=product&tracking_id=98ca5f5f-ef33-41ca-a4cc-0c7a16a57622'"
      ]
     },
     "execution_count": 105,
     "metadata": {},
     "output_type": "execute_result"
    }
   ],
   "source": [
    "lista_links[3]"
   ]
  },
  {
   "cell_type": "code",
   "execution_count": 111,
   "metadata": {
    "ExecuteTime": {
     "end_time": "2022-01-27T23:57:38.079924Z",
     "start_time": "2022-01-27T23:57:38.006121Z"
    }
   },
   "outputs": [],
   "source": [
    "driver.get(lista_links[0])"
   ]
  },
  {
   "cell_type": "code",
   "execution_count": 123,
   "metadata": {
    "ExecuteTime": {
     "end_time": "2022-01-28T00:37:34.931323Z",
     "start_time": "2022-01-28T00:37:24.886724Z"
    }
   },
   "outputs": [
    {
     "ename": "NoSuchElementException",
     "evalue": "Message: no such element: Unable to locate element: {\"method\":\"xpath\",\"selector\":\"//a[@class='ui-pdp-review__label ui-pdp-review__label--link']\"}\n  (Session info: chrome=97.0.4692.99)\nStacktrace:\nBacktrace:\n\tOrdinal0 [0x0118FDC3+2555331]\n\tOrdinal0 [0x011277F1+2127857]\n\tOrdinal0 [0x01022E08+1060360]\n\tOrdinal0 [0x0104E49E+1238174]\n\tOrdinal0 [0x0104E69B+1238683]\n\tOrdinal0 [0x01079252+1413714]\n\tOrdinal0 [0x01067B54+1342292]\n\tOrdinal0 [0x010775FA+1406458]\n\tOrdinal0 [0x01067976+1341814]\n\tOrdinal0 [0x010436B6+1193654]\n\tOrdinal0 [0x01044546+1197382]\n\tGetHandleVerifier [0x01329622+1619522]\n\tGetHandleVerifier [0x013D882C+2336844]\n\tGetHandleVerifier [0x012223E1+541697]\n\tGetHandleVerifier [0x01221443+537699]\n\tOrdinal0 [0x0112D18E+2150798]\n\tOrdinal0 [0x01131518+2168088]\n\tOrdinal0 [0x01131660+2168416]\n\tOrdinal0 [0x0113B330+2208560]\n\tBaseThreadInitThunk [0x76C9FA29+25]\n\tRtlGetAppContainerNamedObjectPath [0x77107A9E+286]\n\tRtlGetAppContainerNamedObjectPath [0x77107A6E+238]\n",
     "output_type": "error",
     "traceback": [
      "\u001b[1;31m---------------------------------------------------------------------------\u001b[0m",
      "\u001b[1;31mNoSuchElementException\u001b[0m                    Traceback (most recent call last)",
      "\u001b[1;32m<ipython-input-123-cfbf9bf2ee3c>\u001b[0m in \u001b[0;36m<module>\u001b[1;34m\u001b[0m\n\u001b[1;32m----> 1\u001b[1;33m \u001b[0mbotao_review\u001b[0m \u001b[1;33m=\u001b[0m \u001b[0mdriver\u001b[0m\u001b[1;33m.\u001b[0m\u001b[0mfind_element\u001b[0m\u001b[1;33m(\u001b[0m\u001b[0mBy\u001b[0m\u001b[1;33m.\u001b[0m\u001b[0mXPATH\u001b[0m\u001b[1;33m,\u001b[0m \u001b[1;34m\"//a[@class='ui-pdp-review__label ui-pdp-review__label--link']\"\u001b[0m\u001b[1;33m)\u001b[0m\u001b[1;33m\u001b[0m\u001b[1;33m\u001b[0m\u001b[0m\n\u001b[0m\u001b[0;32m      2\u001b[0m \u001b[0mbotao_review\u001b[0m\u001b[1;33m.\u001b[0m\u001b[0mclick\u001b[0m\u001b[1;33m(\u001b[0m\u001b[1;33m)\u001b[0m\u001b[1;33m\u001b[0m\u001b[1;33m\u001b[0m\u001b[0m\n",
      "\u001b[1;32mC:\\ProgramData\\Anaconda3\\lib\\site-packages\\selenium\\webdriver\\remote\\webdriver.py\u001b[0m in \u001b[0;36mfind_element\u001b[1;34m(self, by, value)\u001b[0m\n\u001b[0;32m   1242\u001b[0m             \u001b[0mvalue\u001b[0m \u001b[1;33m=\u001b[0m \u001b[1;34m'[name=\"%s\"]'\u001b[0m \u001b[1;33m%\u001b[0m \u001b[0mvalue\u001b[0m\u001b[1;33m\u001b[0m\u001b[1;33m\u001b[0m\u001b[0m\n\u001b[0;32m   1243\u001b[0m \u001b[1;33m\u001b[0m\u001b[0m\n\u001b[1;32m-> 1244\u001b[1;33m         return self.execute(Command.FIND_ELEMENT, {\n\u001b[0m\u001b[0;32m   1245\u001b[0m             \u001b[1;34m'using'\u001b[0m\u001b[1;33m:\u001b[0m \u001b[0mby\u001b[0m\u001b[1;33m,\u001b[0m\u001b[1;33m\u001b[0m\u001b[1;33m\u001b[0m\u001b[0m\n\u001b[0;32m   1246\u001b[0m             'value': value})['value']\n",
      "\u001b[1;32mC:\\ProgramData\\Anaconda3\\lib\\site-packages\\selenium\\webdriver\\remote\\webdriver.py\u001b[0m in \u001b[0;36mexecute\u001b[1;34m(self, driver_command, params)\u001b[0m\n\u001b[0;32m    422\u001b[0m         \u001b[0mresponse\u001b[0m \u001b[1;33m=\u001b[0m \u001b[0mself\u001b[0m\u001b[1;33m.\u001b[0m\u001b[0mcommand_executor\u001b[0m\u001b[1;33m.\u001b[0m\u001b[0mexecute\u001b[0m\u001b[1;33m(\u001b[0m\u001b[0mdriver_command\u001b[0m\u001b[1;33m,\u001b[0m \u001b[0mparams\u001b[0m\u001b[1;33m)\u001b[0m\u001b[1;33m\u001b[0m\u001b[1;33m\u001b[0m\u001b[0m\n\u001b[0;32m    423\u001b[0m         \u001b[1;32mif\u001b[0m \u001b[0mresponse\u001b[0m\u001b[1;33m:\u001b[0m\u001b[1;33m\u001b[0m\u001b[1;33m\u001b[0m\u001b[0m\n\u001b[1;32m--> 424\u001b[1;33m             \u001b[0mself\u001b[0m\u001b[1;33m.\u001b[0m\u001b[0merror_handler\u001b[0m\u001b[1;33m.\u001b[0m\u001b[0mcheck_response\u001b[0m\u001b[1;33m(\u001b[0m\u001b[0mresponse\u001b[0m\u001b[1;33m)\u001b[0m\u001b[1;33m\u001b[0m\u001b[1;33m\u001b[0m\u001b[0m\n\u001b[0m\u001b[0;32m    425\u001b[0m             response['value'] = self._unwrap_value(\n\u001b[0;32m    426\u001b[0m                 response.get('value', None))\n",
      "\u001b[1;32mC:\\ProgramData\\Anaconda3\\lib\\site-packages\\selenium\\webdriver\\remote\\errorhandler.py\u001b[0m in \u001b[0;36mcheck_response\u001b[1;34m(self, response)\u001b[0m\n\u001b[0;32m    245\u001b[0m                 \u001b[0malert_text\u001b[0m \u001b[1;33m=\u001b[0m \u001b[0mvalue\u001b[0m\u001b[1;33m[\u001b[0m\u001b[1;34m'alert'\u001b[0m\u001b[1;33m]\u001b[0m\u001b[1;33m.\u001b[0m\u001b[0mget\u001b[0m\u001b[1;33m(\u001b[0m\u001b[1;34m'text'\u001b[0m\u001b[1;33m)\u001b[0m\u001b[1;33m\u001b[0m\u001b[1;33m\u001b[0m\u001b[0m\n\u001b[0;32m    246\u001b[0m             \u001b[1;32mraise\u001b[0m \u001b[0mexception_class\u001b[0m\u001b[1;33m(\u001b[0m\u001b[0mmessage\u001b[0m\u001b[1;33m,\u001b[0m \u001b[0mscreen\u001b[0m\u001b[1;33m,\u001b[0m \u001b[0mstacktrace\u001b[0m\u001b[1;33m,\u001b[0m \u001b[0malert_text\u001b[0m\u001b[1;33m)\u001b[0m  \u001b[1;31m# type: ignore[call-arg]  # mypy is not smart enough here\u001b[0m\u001b[1;33m\u001b[0m\u001b[1;33m\u001b[0m\u001b[0m\n\u001b[1;32m--> 247\u001b[1;33m         \u001b[1;32mraise\u001b[0m \u001b[0mexception_class\u001b[0m\u001b[1;33m(\u001b[0m\u001b[0mmessage\u001b[0m\u001b[1;33m,\u001b[0m \u001b[0mscreen\u001b[0m\u001b[1;33m,\u001b[0m \u001b[0mstacktrace\u001b[0m\u001b[1;33m)\u001b[0m\u001b[1;33m\u001b[0m\u001b[1;33m\u001b[0m\u001b[0m\n\u001b[0m\u001b[0;32m    248\u001b[0m \u001b[1;33m\u001b[0m\u001b[0m\n\u001b[0;32m    249\u001b[0m     \u001b[1;32mdef\u001b[0m \u001b[0m_value_or_default\u001b[0m\u001b[1;33m(\u001b[0m\u001b[0mself\u001b[0m\u001b[1;33m,\u001b[0m \u001b[0mobj\u001b[0m\u001b[1;33m:\u001b[0m \u001b[0mMapping\u001b[0m\u001b[1;33m[\u001b[0m\u001b[0m_KT\u001b[0m\u001b[1;33m,\u001b[0m \u001b[0m_VT\u001b[0m\u001b[1;33m]\u001b[0m\u001b[1;33m,\u001b[0m \u001b[0mkey\u001b[0m\u001b[1;33m:\u001b[0m \u001b[0m_KT\u001b[0m\u001b[1;33m,\u001b[0m \u001b[0mdefault\u001b[0m\u001b[1;33m:\u001b[0m \u001b[0m_VT\u001b[0m\u001b[1;33m)\u001b[0m \u001b[1;33m->\u001b[0m \u001b[0m_VT\u001b[0m\u001b[1;33m:\u001b[0m\u001b[1;33m\u001b[0m\u001b[1;33m\u001b[0m\u001b[0m\n",
      "\u001b[1;31mNoSuchElementException\u001b[0m: Message: no such element: Unable to locate element: {\"method\":\"xpath\",\"selector\":\"//a[@class='ui-pdp-review__label ui-pdp-review__label--link']\"}\n  (Session info: chrome=97.0.4692.99)\nStacktrace:\nBacktrace:\n\tOrdinal0 [0x0118FDC3+2555331]\n\tOrdinal0 [0x011277F1+2127857]\n\tOrdinal0 [0x01022E08+1060360]\n\tOrdinal0 [0x0104E49E+1238174]\n\tOrdinal0 [0x0104E69B+1238683]\n\tOrdinal0 [0x01079252+1413714]\n\tOrdinal0 [0x01067B54+1342292]\n\tOrdinal0 [0x010775FA+1406458]\n\tOrdinal0 [0x01067976+1341814]\n\tOrdinal0 [0x010436B6+1193654]\n\tOrdinal0 [0x01044546+1197382]\n\tGetHandleVerifier [0x01329622+1619522]\n\tGetHandleVerifier [0x013D882C+2336844]\n\tGetHandleVerifier [0x012223E1+541697]\n\tGetHandleVerifier [0x01221443+537699]\n\tOrdinal0 [0x0112D18E+2150798]\n\tOrdinal0 [0x01131518+2168088]\n\tOrdinal0 [0x01131660+2168416]\n\tOrdinal0 [0x0113B330+2208560]\n\tBaseThreadInitThunk [0x76C9FA29+25]\n\tRtlGetAppContainerNamedObjectPath [0x77107A9E+286]\n\tRtlGetAppContainerNamedObjectPath [0x77107A6E+238]\n"
     ]
    }
   ],
   "source": [
    "botao_review = driver.find_element(By.XPATH, \"//a[@class='ui-pdp-review__label ui-pdp-review__label--link']\")\n",
    "botao_review.click()"
   ]
  },
  {
   "cell_type": "code",
   "execution_count": 113,
   "metadata": {
    "ExecuteTime": {
     "end_time": "2022-01-27T23:57:53.217386Z",
     "start_time": "2022-01-27T23:57:43.159078Z"
    }
   },
   "outputs": [],
   "source": [
    "reviews = driver.find_elements(By.XPATH, \"//article\")"
   ]
  },
  {
   "cell_type": "code",
   "execution_count": 114,
   "metadata": {
    "ExecuteTime": {
     "end_time": "2022-01-27T23:58:08.175459Z",
     "start_time": "2022-01-27T23:58:08.163494Z"
    }
   },
   "outputs": [
    {
     "data": {
      "text/plain": [
       "[]"
      ]
     },
     "execution_count": 114,
     "metadata": {},
     "output_type": "execute_result"
    }
   ],
   "source": [
    "reviews"
   ]
  },
  {
   "cell_type": "code",
   "execution_count": 124,
   "metadata": {
    "ExecuteTime": {
     "end_time": "2022-01-28T00:51:12.766735Z",
     "start_time": "2022-01-28T00:51:01.883082Z"
    }
   },
   "outputs": [
    {
     "ename": "NoSuchElementException",
     "evalue": "Message: no such element: Unable to locate element: {\"method\":\"xpath\",\"selector\":\"//div[@class='andes-modal ui-pdp-iframe-reviews andes-modal--small']\"}\n  (Session info: chrome=97.0.4692.99)\nStacktrace:\nBacktrace:\n\tOrdinal0 [0x0118FDC3+2555331]\n\tOrdinal0 [0x011277F1+2127857]\n\tOrdinal0 [0x01022E08+1060360]\n\tOrdinal0 [0x0104E49E+1238174]\n\tOrdinal0 [0x0104E69B+1238683]\n\tOrdinal0 [0x01079252+1413714]\n\tOrdinal0 [0x01067B54+1342292]\n\tOrdinal0 [0x010775FA+1406458]\n\tOrdinal0 [0x01067976+1341814]\n\tOrdinal0 [0x010436B6+1193654]\n\tOrdinal0 [0x01044546+1197382]\n\tGetHandleVerifier [0x01329622+1619522]\n\tGetHandleVerifier [0x013D882C+2336844]\n\tGetHandleVerifier [0x012223E1+541697]\n\tGetHandleVerifier [0x01221443+537699]\n\tOrdinal0 [0x0112D18E+2150798]\n\tOrdinal0 [0x01131518+2168088]\n\tOrdinal0 [0x01131660+2168416]\n\tOrdinal0 [0x0113B330+2208560]\n\tBaseThreadInitThunk [0x76C9FA29+25]\n\tRtlGetAppContainerNamedObjectPath [0x77107A9E+286]\n\tRtlGetAppContainerNamedObjectPath [0x77107A6E+238]\n",
     "output_type": "error",
     "traceback": [
      "\u001b[1;31m---------------------------------------------------------------------------\u001b[0m",
      "\u001b[1;31mNoSuchElementException\u001b[0m                    Traceback (most recent call last)",
      "\u001b[1;32m<ipython-input-124-9ab062420b97>\u001b[0m in \u001b[0;36m<module>\u001b[1;34m\u001b[0m\n\u001b[0;32m      1\u001b[0m \u001b[0mdriver\u001b[0m\u001b[1;33m.\u001b[0m\u001b[0mget\u001b[0m\u001b[1;33m(\u001b[0m\u001b[1;34m\"https://www.mercadolivre.com.br/suplemento-em-barra-max-titanium-power-protein-bar-proteina-sabor-dark-chocolate-truffle-em-caixa-de-492g-12-un/p/MLB18478297?pdp_filters=category:MLB122102#searchVariation=MLB18478297&position=1&search_layout=stack&type=product&tracking_id=c705945a-4570-419d-bd38-c031dc6522bf\"\u001b[0m\u001b[1;33m)\u001b[0m\u001b[1;33m\u001b[0m\u001b[1;33m\u001b[0m\u001b[0m\n\u001b[1;32m----> 2\u001b[1;33m \u001b[0mbox_review\u001b[0m \u001b[1;33m=\u001b[0m \u001b[0mdriver\u001b[0m\u001b[1;33m.\u001b[0m\u001b[0mfind_element\u001b[0m\u001b[1;33m(\u001b[0m\u001b[0mBy\u001b[0m\u001b[1;33m.\u001b[0m\u001b[0mXPATH\u001b[0m\u001b[1;33m,\u001b[0m \u001b[1;34m\"//div[@class='andes-modal ui-pdp-iframe-reviews andes-modal--small']\"\u001b[0m\u001b[1;33m)\u001b[0m\u001b[1;33m\u001b[0m\u001b[1;33m\u001b[0m\u001b[0m\n\u001b[0m\u001b[0;32m      3\u001b[0m \u001b[0miframe\u001b[0m \u001b[1;33m=\u001b[0m \u001b[0mbox_review\u001b[0m\u001b[1;33m.\u001b[0m\u001b[0mfind_element\u001b[0m\u001b[1;33m(\u001b[0m\u001b[0mBy\u001b[0m\u001b[1;33m.\u001b[0m\u001b[0mXPATH\u001b[0m\u001b[1;33m,\u001b[0m \u001b[1;34m\"//iframe[@class='ui-pdp-iframe-reviews__content']\"\u001b[0m\u001b[1;33m)\u001b[0m\u001b[1;33m\u001b[0m\u001b[1;33m\u001b[0m\u001b[0m\n",
      "\u001b[1;32mC:\\ProgramData\\Anaconda3\\lib\\site-packages\\selenium\\webdriver\\remote\\webdriver.py\u001b[0m in \u001b[0;36mfind_element\u001b[1;34m(self, by, value)\u001b[0m\n\u001b[0;32m   1242\u001b[0m             \u001b[0mvalue\u001b[0m \u001b[1;33m=\u001b[0m \u001b[1;34m'[name=\"%s\"]'\u001b[0m \u001b[1;33m%\u001b[0m \u001b[0mvalue\u001b[0m\u001b[1;33m\u001b[0m\u001b[1;33m\u001b[0m\u001b[0m\n\u001b[0;32m   1243\u001b[0m \u001b[1;33m\u001b[0m\u001b[0m\n\u001b[1;32m-> 1244\u001b[1;33m         return self.execute(Command.FIND_ELEMENT, {\n\u001b[0m\u001b[0;32m   1245\u001b[0m             \u001b[1;34m'using'\u001b[0m\u001b[1;33m:\u001b[0m \u001b[0mby\u001b[0m\u001b[1;33m,\u001b[0m\u001b[1;33m\u001b[0m\u001b[1;33m\u001b[0m\u001b[0m\n\u001b[0;32m   1246\u001b[0m             'value': value})['value']\n",
      "\u001b[1;32mC:\\ProgramData\\Anaconda3\\lib\\site-packages\\selenium\\webdriver\\remote\\webdriver.py\u001b[0m in \u001b[0;36mexecute\u001b[1;34m(self, driver_command, params)\u001b[0m\n\u001b[0;32m    422\u001b[0m         \u001b[0mresponse\u001b[0m \u001b[1;33m=\u001b[0m \u001b[0mself\u001b[0m\u001b[1;33m.\u001b[0m\u001b[0mcommand_executor\u001b[0m\u001b[1;33m.\u001b[0m\u001b[0mexecute\u001b[0m\u001b[1;33m(\u001b[0m\u001b[0mdriver_command\u001b[0m\u001b[1;33m,\u001b[0m \u001b[0mparams\u001b[0m\u001b[1;33m)\u001b[0m\u001b[1;33m\u001b[0m\u001b[1;33m\u001b[0m\u001b[0m\n\u001b[0;32m    423\u001b[0m         \u001b[1;32mif\u001b[0m \u001b[0mresponse\u001b[0m\u001b[1;33m:\u001b[0m\u001b[1;33m\u001b[0m\u001b[1;33m\u001b[0m\u001b[0m\n\u001b[1;32m--> 424\u001b[1;33m             \u001b[0mself\u001b[0m\u001b[1;33m.\u001b[0m\u001b[0merror_handler\u001b[0m\u001b[1;33m.\u001b[0m\u001b[0mcheck_response\u001b[0m\u001b[1;33m(\u001b[0m\u001b[0mresponse\u001b[0m\u001b[1;33m)\u001b[0m\u001b[1;33m\u001b[0m\u001b[1;33m\u001b[0m\u001b[0m\n\u001b[0m\u001b[0;32m    425\u001b[0m             response['value'] = self._unwrap_value(\n\u001b[0;32m    426\u001b[0m                 response.get('value', None))\n",
      "\u001b[1;32mC:\\ProgramData\\Anaconda3\\lib\\site-packages\\selenium\\webdriver\\remote\\errorhandler.py\u001b[0m in \u001b[0;36mcheck_response\u001b[1;34m(self, response)\u001b[0m\n\u001b[0;32m    245\u001b[0m                 \u001b[0malert_text\u001b[0m \u001b[1;33m=\u001b[0m \u001b[0mvalue\u001b[0m\u001b[1;33m[\u001b[0m\u001b[1;34m'alert'\u001b[0m\u001b[1;33m]\u001b[0m\u001b[1;33m.\u001b[0m\u001b[0mget\u001b[0m\u001b[1;33m(\u001b[0m\u001b[1;34m'text'\u001b[0m\u001b[1;33m)\u001b[0m\u001b[1;33m\u001b[0m\u001b[1;33m\u001b[0m\u001b[0m\n\u001b[0;32m    246\u001b[0m             \u001b[1;32mraise\u001b[0m \u001b[0mexception_class\u001b[0m\u001b[1;33m(\u001b[0m\u001b[0mmessage\u001b[0m\u001b[1;33m,\u001b[0m \u001b[0mscreen\u001b[0m\u001b[1;33m,\u001b[0m \u001b[0mstacktrace\u001b[0m\u001b[1;33m,\u001b[0m \u001b[0malert_text\u001b[0m\u001b[1;33m)\u001b[0m  \u001b[1;31m# type: ignore[call-arg]  # mypy is not smart enough here\u001b[0m\u001b[1;33m\u001b[0m\u001b[1;33m\u001b[0m\u001b[0m\n\u001b[1;32m--> 247\u001b[1;33m         \u001b[1;32mraise\u001b[0m \u001b[0mexception_class\u001b[0m\u001b[1;33m(\u001b[0m\u001b[0mmessage\u001b[0m\u001b[1;33m,\u001b[0m \u001b[0mscreen\u001b[0m\u001b[1;33m,\u001b[0m \u001b[0mstacktrace\u001b[0m\u001b[1;33m)\u001b[0m\u001b[1;33m\u001b[0m\u001b[1;33m\u001b[0m\u001b[0m\n\u001b[0m\u001b[0;32m    248\u001b[0m \u001b[1;33m\u001b[0m\u001b[0m\n\u001b[0;32m    249\u001b[0m     \u001b[1;32mdef\u001b[0m \u001b[0m_value_or_default\u001b[0m\u001b[1;33m(\u001b[0m\u001b[0mself\u001b[0m\u001b[1;33m,\u001b[0m \u001b[0mobj\u001b[0m\u001b[1;33m:\u001b[0m \u001b[0mMapping\u001b[0m\u001b[1;33m[\u001b[0m\u001b[0m_KT\u001b[0m\u001b[1;33m,\u001b[0m \u001b[0m_VT\u001b[0m\u001b[1;33m]\u001b[0m\u001b[1;33m,\u001b[0m \u001b[0mkey\u001b[0m\u001b[1;33m:\u001b[0m \u001b[0m_KT\u001b[0m\u001b[1;33m,\u001b[0m \u001b[0mdefault\u001b[0m\u001b[1;33m:\u001b[0m \u001b[0m_VT\u001b[0m\u001b[1;33m)\u001b[0m \u001b[1;33m->\u001b[0m \u001b[0m_VT\u001b[0m\u001b[1;33m:\u001b[0m\u001b[1;33m\u001b[0m\u001b[1;33m\u001b[0m\u001b[0m\n",
      "\u001b[1;31mNoSuchElementException\u001b[0m: Message: no such element: Unable to locate element: {\"method\":\"xpath\",\"selector\":\"//div[@class='andes-modal ui-pdp-iframe-reviews andes-modal--small']\"}\n  (Session info: chrome=97.0.4692.99)\nStacktrace:\nBacktrace:\n\tOrdinal0 [0x0118FDC3+2555331]\n\tOrdinal0 [0x011277F1+2127857]\n\tOrdinal0 [0x01022E08+1060360]\n\tOrdinal0 [0x0104E49E+1238174]\n\tOrdinal0 [0x0104E69B+1238683]\n\tOrdinal0 [0x01079252+1413714]\n\tOrdinal0 [0x01067B54+1342292]\n\tOrdinal0 [0x010775FA+1406458]\n\tOrdinal0 [0x01067976+1341814]\n\tOrdinal0 [0x010436B6+1193654]\n\tOrdinal0 [0x01044546+1197382]\n\tGetHandleVerifier [0x01329622+1619522]\n\tGetHandleVerifier [0x013D882C+2336844]\n\tGetHandleVerifier [0x012223E1+541697]\n\tGetHandleVerifier [0x01221443+537699]\n\tOrdinal0 [0x0112D18E+2150798]\n\tOrdinal0 [0x01131518+2168088]\n\tOrdinal0 [0x01131660+2168416]\n\tOrdinal0 [0x0113B330+2208560]\n\tBaseThreadInitThunk [0x76C9FA29+25]\n\tRtlGetAppContainerNamedObjectPath [0x77107A9E+286]\n\tRtlGetAppContainerNamedObjectPath [0x77107A6E+238]\n"
     ]
    }
   ],
   "source": [
    "driver.get(\"https://www.mercadolivre.com.br/suplemento-em-barra-max-titanium-power-protein-bar-proteina-sabor-dark-chocolate-truffle-em-caixa-de-492g-12-un/p/MLB18478297?pdp_filters=category:MLB122102#searchVariation=MLB18478297&position=1&search_layout=stack&type=product&tracking_id=c705945a-4570-419d-bd38-c031dc6522bf\")\n",
    "box_review = driver.find_element(By.XPATH, \"//div[@class='andes-modal ui-pdp-iframe-reviews andes-modal--small']\")\n",
    "iframe = box_review.find_element(By.XPATH, \"//iframe[@class='ui-pdp-iframe-reviews__content']\")"
   ]
  },
  {
   "cell_type": "code",
   "execution_count": 132,
   "metadata": {
    "ExecuteTime": {
     "end_time": "2022-01-28T00:53:20.842342Z",
     "start_time": "2022-01-28T00:53:19.553668Z"
    }
   },
   "outputs": [],
   "source": [
    "s = Service(ChromeDriverManager().install())\n",
    "driver = webdriver.Chrome(service=s)\n",
    "driver.implicitly_wait(0.5)\n",
    "driver.get(\"https://www.mercadolivre.com.br/suplemento-em-barra-max-titanium-power-protein-bar-proteina-sabor-dark-chocolate-truffle-em-caixa-de-492g-12-un/p/MLB18478297?pdp_filters=category:MLB122102#searchVariation=MLB18478297&position=1&search_layout=stack&type=product&tracking_id=c705945a-4570-419d-bd38-c031dc6522bf\")\n",
    "botao_review = driver.find_element(By.XPATH, \"//a[@class='ui-pdp-review__label ui-pdp-review__label--link']\")\n",
    "botao_review.click()\n",
    "box_review = driver.find_element(By.XPATH, \"//div[@class='andes-modal ui-pdp-iframe-reviews andes-modal--small']\")\n",
    "iframe = box_review.find_element(By.XPATH, \"//iframe[@class='ui-pdp-iframe-reviews__content']\")"
   ]
  },
  {
   "cell_type": "code",
   "execution_count": 133,
   "metadata": {
    "ExecuteTime": {
     "end_time": "2022-01-28T00:53:22.208585Z",
     "start_time": "2022-01-28T00:53:22.172701Z"
    }
   },
   "outputs": [],
   "source": [
    "box_review = driver.find_element(By.XPATH, \"//div[@class='andes-modal ui-pdp-iframe-reviews andes-modal--small']\")\n",
    "iframe = box_review.find_element(By.XPATH, \"//iframe[@class='ui-pdp-iframe-reviews__content']\")"
   ]
  },
  {
   "cell_type": "code",
   "execution_count": 134,
   "metadata": {
    "ExecuteTime": {
     "end_time": "2022-01-28T00:53:44.172677Z",
     "start_time": "2022-01-28T00:53:43.782720Z"
    }
   },
   "outputs": [],
   "source": [
    "driver.get(iframe.get_attribute('src'))"
   ]
  },
  {
   "cell_type": "code",
   "execution_count": 117,
   "metadata": {
    "ExecuteTime": {
     "end_time": "2022-01-28T00:00:49.720184Z",
     "start_time": "2022-01-28T00:00:49.689264Z"
    }
   },
   "outputs": [],
   "source": [
    "reviews = driver.find_elements(By.XPATH, \"//article\")"
   ]
  },
  {
   "cell_type": "code",
   "execution_count": 118,
   "metadata": {
    "ExecuteTime": {
     "end_time": "2022-01-28T00:00:56.578318Z",
     "start_time": "2022-01-28T00:00:56.367631Z"
    }
   },
   "outputs": [],
   "source": [
    "review_texts = [rev.text for rev in reviews]"
   ]
  },
  {
   "cell_type": "code",
   "execution_count": 119,
   "metadata": {
    "ExecuteTime": {
     "end_time": "2022-01-28T00:01:03.828228Z",
     "start_time": "2022-01-28T00:01:03.819252Z"
    }
   },
   "outputs": [
    {
     "name": "stdout",
     "output_type": "stream",
     "text": [
      "excelente\n",
      "Sou uma pessoa idosa e meu médico receitou-me sempre usar azeite de oliva e me sinto muito bem. Há 2 dias\n",
      "0 0\n"
     ]
    }
   ],
   "source": [
    "print(review_texts[3])"
   ]
  },
  {
   "cell_type": "code",
   "execution_count": null,
   "metadata": {
    "ExecuteTime": {
     "end_time": "2022-01-27T21:15:53.241242Z",
     "start_time": "2022-01-27T21:14:48.269915Z"
    }
   },
   "outputs": [],
   "source": [
    "# EXERCICIO\n",
    "# Crie uma função que 'empacote' o código acima - retornando uma lista dos textos de reviews\n",
    "# a partir de um link de produto do MercadoLivre\n",
    "# BONUS - teste essa função em alguns produtos diferentes e veja se existem variações\n",
    "# na forma como a página de produto é construída"
   ]
  },
  {
   "cell_type": "markdown",
   "metadata": {},
   "source": [
    "# VOLTAMOS 21h25"
   ]
  },
  {
   "cell_type": "markdown",
   "metadata": {},
   "source": [
    "# Headless Chrome"
   ]
  },
  {
   "cell_type": "code",
   "execution_count": null,
   "metadata": {
    "ExecuteTime": {
     "end_time": "2021-02-03T00:32:34.339041Z",
     "start_time": "2021-02-03T00:32:34.333058Z"
    }
   },
   "outputs": [],
   "source": [
    "# Your code here!"
   ]
  }
 ],
 "metadata": {
  "hide_input": false,
  "kernelspec": {
   "display_name": "Python 3",
   "language": "python",
   "name": "python3"
  },
  "language_info": {
   "codemirror_mode": {
    "name": "ipython",
    "version": 3
   },
   "file_extension": ".py",
   "mimetype": "text/x-python",
   "name": "python",
   "nbconvert_exporter": "python",
   "pygments_lexer": "ipython3",
   "version": "3.8.8"
  },
  "toc": {
   "base_numbering": 1,
   "nav_menu": {},
   "number_sections": true,
   "sideBar": true,
   "skip_h1_title": false,
   "title_cell": "Table of Contents",
   "title_sidebar": "Contents",
   "toc_cell": false,
   "toc_position": {},
   "toc_section_display": true,
   "toc_window_display": false
  },
  "varInspector": {
   "cols": {
    "lenName": 16,
    "lenType": 16,
    "lenVar": 40
   },
   "kernels_config": {
    "python": {
     "delete_cmd_postfix": "",
     "delete_cmd_prefix": "del ",
     "library": "var_list.py",
     "varRefreshCmd": "print(var_dic_list())"
    },
    "r": {
     "delete_cmd_postfix": ") ",
     "delete_cmd_prefix": "rm(",
     "library": "var_list.r",
     "varRefreshCmd": "cat(var_dic_list()) "
    }
   },
   "types_to_exclude": [
    "module",
    "function",
    "builtin_function_or_method",
    "instance",
    "_Feature"
   ],
   "window_display": false
  }
 },
 "nbformat": 4,
 "nbformat_minor": 4
}
