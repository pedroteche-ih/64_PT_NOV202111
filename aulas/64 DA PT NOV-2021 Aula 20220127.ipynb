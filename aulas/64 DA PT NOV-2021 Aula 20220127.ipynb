{
 "cells": [
  {
   "cell_type": "markdown",
   "metadata": {},
   "source": [
    "# Scraping Dynamic Content: Selenium"
   ]
  },
  {
   "cell_type": "code",
   "execution_count": null,
   "metadata": {
    "ExecuteTime": {
     "end_time": "2022-01-27T13:06:15.830807Z",
     "start_time": "2022-01-27T13:06:10.097048Z"
    }
   },
   "outputs": [],
   "source": [
    "!pip3 install selenium\n",
    "!pip3 install webdriver-manager"
   ]
  },
  {
   "cell_type": "code",
   "execution_count": null,
   "metadata": {
    "ExecuteTime": {
     "end_time": "2022-01-27T21:01:45.087810Z",
     "start_time": "2022-01-27T21:01:44.561442Z"
    }
   },
   "outputs": [],
   "source": [
    "import pandas as pd\n",
    "from selenium import webdriver\n",
    "from selenium.webdriver.chrome.service import Service\n",
    "from webdriver_manager.chrome import ChromeDriverManager\n",
    "from selenium.webdriver.common.by import By\n",
    "from selenium.webdriver.common.keys import Keys\n",
    "from selenium.webdriver.common.action_chains import ActionChains"
   ]
  },
  {
   "cell_type": "markdown",
   "metadata": {},
   "source": [
    "Install Selenium: \n",
    "\n",
    "`!pip install selenium`"
   ]
  },
  {
   "cell_type": "markdown",
   "metadata": {},
   "source": [
    "# First Steps"
   ]
  },
  {
   "cell_type": "code",
   "execution_count": null,
   "metadata": {
    "ExecuteTime": {
     "end_time": "2022-01-27T21:01:47.706038Z",
     "start_time": "2022-01-27T21:01:46.496963Z"
    }
   },
   "outputs": [],
   "source": [
    "s = Service(ChromeDriverManager().install())\n",
    "driver = webdriver.Chrome(service=s)\n",
    "driver.implicitly_wait(0.5)"
   ]
  },
  {
   "cell_type": "code",
   "execution_count": null,
   "metadata": {
    "ExecuteTime": {
     "end_time": "2022-01-27T20:06:25.195367Z",
     "start_time": "2022-01-27T20:06:23.936631Z"
    }
   },
   "outputs": [],
   "source": [
    "driver.get(\"https://testpages.herokuapp.com/styled/index.html\")"
   ]
  },
  {
   "cell_type": "markdown",
   "metadata": {},
   "source": [
    "# Interactive content\n",
    "\n",
    "## Forms"
   ]
  },
  {
   "cell_type": "code",
   "execution_count": null,
   "metadata": {
    "ExecuteTime": {
     "end_time": "2022-01-27T20:06:25.431113Z",
     "start_time": "2022-01-27T20:06:25.409199Z"
    }
   },
   "outputs": [],
   "source": [
    "link_htmlformtest = driver.find_element(By.XPATH, \"//a[@id='htmlformtest']\")"
   ]
  },
  {
   "cell_type": "code",
   "execution_count": null,
   "metadata": {
    "ExecuteTime": {
     "end_time": "2022-01-27T20:06:26.849758Z",
     "start_time": "2022-01-27T20:06:26.319461Z"
    }
   },
   "outputs": [],
   "source": [
    "link_htmlformtest.click()"
   ]
  },
  {
   "cell_type": "code",
   "execution_count": null,
   "metadata": {
    "ExecuteTime": {
     "end_time": "2022-01-27T20:06:27.587138Z",
     "start_time": "2022-01-27T20:06:27.574152Z"
    }
   },
   "outputs": [],
   "source": [
    "input_username = driver.find_element(By.XPATH, \"//input[@name='username']\")"
   ]
  },
  {
   "cell_type": "code",
   "execution_count": null,
   "metadata": {
    "ExecuteTime": {
     "end_time": "2022-01-27T20:06:28.349976Z",
     "start_time": "2022-01-27T20:06:28.294826Z"
    }
   },
   "outputs": [],
   "source": [
    "input_username.send_keys('pedrotechel123')"
   ]
  },
  {
   "cell_type": "code",
   "execution_count": null,
   "metadata": {
    "ExecuteTime": {
     "end_time": "2022-01-27T20:06:28.929886Z",
     "start_time": "2022-01-27T20:06:28.897429Z"
    }
   },
   "outputs": [],
   "source": [
    "input_username.clear()"
   ]
  },
  {
   "cell_type": "code",
   "execution_count": null,
   "metadata": {
    "ExecuteTime": {
     "end_time": "2022-01-27T20:06:29.490611Z",
     "start_time": "2022-01-27T20:06:29.453663Z"
    }
   },
   "outputs": [],
   "source": [
    "input_username.send_keys('pedrotechel')"
   ]
  },
  {
   "cell_type": "code",
   "execution_count": null,
   "metadata": {
    "ExecuteTime": {
     "end_time": "2022-01-27T20:06:30.084914Z",
     "start_time": "2022-01-27T20:06:30.064976Z"
    }
   },
   "outputs": [],
   "source": [
    "input_pswd = driver.find_element(By.XPATH, \"//input[@name='password']\")"
   ]
  },
  {
   "cell_type": "code",
   "execution_count": null,
   "metadata": {
    "ExecuteTime": {
     "end_time": "2022-01-27T20:06:30.475185Z",
     "start_time": "2022-01-27T20:06:30.424474Z"
    }
   },
   "outputs": [],
   "source": [
    "input_pswd.send_keys('teste123')"
   ]
  },
  {
   "cell_type": "code",
   "execution_count": null,
   "metadata": {
    "ExecuteTime": {
     "end_time": "2022-01-27T20:06:30.773348Z",
     "start_time": "2022-01-27T20:06:30.747105Z"
    }
   },
   "outputs": [],
   "source": [
    "input_comments = driver.find_element(By.XPATH, \"//textarea[@name='comments']\")"
   ]
  },
  {
   "cell_type": "code",
   "execution_count": null,
   "metadata": {
    "ExecuteTime": {
     "end_time": "2022-01-27T20:06:31.098862Z",
     "start_time": "2022-01-27T20:06:31.046421Z"
    }
   },
   "outputs": [],
   "source": [
    "input_comments.send_keys('Este é um comentário aleatório')"
   ]
  },
  {
   "cell_type": "code",
   "execution_count": null,
   "metadata": {
    "ExecuteTime": {
     "end_time": "2022-01-27T20:06:31.378747Z",
     "start_time": "2022-01-27T20:06:31.364753Z"
    }
   },
   "outputs": [],
   "source": [
    "input_file = driver.find_element(By.XPATH, \"//input[@name='filename']\")"
   ]
  },
  {
   "cell_type": "code",
   "execution_count": null,
   "metadata": {
    "ExecuteTime": {
     "end_time": "2022-01-27T20:06:32.362166Z",
     "start_time": "2022-01-27T20:06:32.091650Z"
    }
   },
   "outputs": [],
   "source": [
    "input_file.click()"
   ]
  },
  {
   "cell_type": "code",
   "execution_count": null,
   "metadata": {
    "ExecuteTime": {
     "end_time": "2022-01-27T20:06:42.157408Z",
     "start_time": "2022-01-27T20:06:42.134468Z"
    }
   },
   "outputs": [],
   "source": [
    "input_file = driver.find_element(By.XPATH, \"//input[@name='filename']\")"
   ]
  },
  {
   "cell_type": "code",
   "execution_count": null,
   "metadata": {
    "ExecuteTime": {
     "end_time": "2022-01-27T20:06:43.003422Z",
     "start_time": "2022-01-27T20:06:42.972189Z"
    }
   },
   "outputs": [],
   "source": [
    "input_file.send_keys('C:/Users/Pedro/Documents/Ironhack/aulas_git/64_PT_NOV202111/aulas/sleeper.py')"
   ]
  },
  {
   "cell_type": "code",
   "execution_count": null,
   "metadata": {
    "ExecuteTime": {
     "end_time": "2022-01-27T20:06:43.945965Z",
     "start_time": "2022-01-27T20:06:43.917199Z"
    }
   },
   "outputs": [],
   "source": [
    "input_chkbx1 = driver.find_element(By.XPATH, \"//input[@type='checkbox'][@value='cb1']\")\n",
    "input_chkbx2 = driver.find_element(By.XPATH, \"//input[@type='checkbox'][@value='cb2']\")\n",
    "input_chkbx3 = driver.find_element(By.XPATH, \"//input[@type='checkbox'][@value='cb3']\")"
   ]
  },
  {
   "cell_type": "code",
   "execution_count": null,
   "metadata": {
    "ExecuteTime": {
     "end_time": "2022-01-27T20:06:45.060662Z",
     "start_time": "2022-01-27T20:06:44.965823Z"
    }
   },
   "outputs": [],
   "source": [
    "input_chkbx1.click()\n",
    "input_chkbx2.click()\n",
    "input_chkbx3.click()"
   ]
  },
  {
   "cell_type": "code",
   "execution_count": null,
   "metadata": {
    "ExecuteTime": {
     "end_time": "2022-01-27T20:06:45.418669Z",
     "start_time": "2022-01-27T20:06:45.379538Z"
    }
   },
   "outputs": [],
   "source": [
    "input_rdbx1 = driver.find_element(By.XPATH, \"//input[@type='radio'][@value='rd1']\")\n",
    "input_rdbx2 = driver.find_element(By.XPATH, \"//input[@type='radio'][@value='rd2']\")\n",
    "input_rdbx3 = driver.find_element(By.XPATH, \"//input[@type='radio'][@value='rd3']\")"
   ]
  },
  {
   "cell_type": "code",
   "execution_count": null,
   "metadata": {
    "ExecuteTime": {
     "end_time": "2022-01-27T20:06:45.919572Z",
     "start_time": "2022-01-27T20:06:45.822646Z"
    }
   },
   "outputs": [],
   "source": [
    "input_rdbx1.click()\n",
    "input_rdbx2.click()\n",
    "input_rdbx3.click()"
   ]
  },
  {
   "cell_type": "code",
   "execution_count": null,
   "metadata": {
    "ExecuteTime": {
     "end_time": "2022-01-27T20:06:46.393964Z",
     "start_time": "2022-01-27T20:06:46.355569Z"
    }
   },
   "outputs": [],
   "source": [
    "input_opt1 = driver.find_element(By.XPATH, \"//option[@value='ms1']\")\n",
    "input_opt2 = driver.find_element(By.XPATH, \"//option[@value='ms2']\")\n",
    "input_opt3 = driver.find_element(By.XPATH, \"//option[@value='ms3']\")"
   ]
  },
  {
   "cell_type": "code",
   "execution_count": null,
   "metadata": {
    "ExecuteTime": {
     "end_time": "2022-01-27T20:06:46.941706Z",
     "start_time": "2022-01-27T20:06:46.875111Z"
    }
   },
   "outputs": [],
   "source": [
    "input_opt1.click()\n",
    "input_opt2.click()\n",
    "input_opt3.click()"
   ]
  },
  {
   "cell_type": "code",
   "execution_count": null,
   "metadata": {
    "ExecuteTime": {
     "end_time": "2022-01-27T20:06:47.739421Z",
     "start_time": "2022-01-27T20:06:47.697899Z"
    }
   },
   "outputs": [],
   "source": [
    "input_dd1 = driver.find_element(By.XPATH, \"//option[@value='dd1']\")\n",
    "input_dd2 = driver.find_element(By.XPATH, \"//option[@value='dd2']\")\n",
    "input_dd3 = driver.find_element(By.XPATH, \"//option[@value='dd3']\")"
   ]
  },
  {
   "cell_type": "code",
   "execution_count": null,
   "metadata": {
    "ExecuteTime": {
     "end_time": "2022-01-27T20:06:48.163467Z",
     "start_time": "2022-01-27T20:06:48.123439Z"
    }
   },
   "outputs": [],
   "source": [
    "input_dd3.click()"
   ]
  },
  {
   "cell_type": "markdown",
   "metadata": {},
   "source": [
    "## Website interaction"
   ]
  },
  {
   "cell_type": "code",
   "execution_count": null,
   "metadata": {
    "ExecuteTime": {
     "end_time": "2022-01-27T20:48:00.252809Z",
     "start_time": "2022-01-27T20:48:00.242816Z"
    }
   },
   "outputs": [],
   "source": [
    "driver.implicitly_wait(10)"
   ]
  },
  {
   "cell_type": "code",
   "execution_count": null,
   "metadata": {
    "ExecuteTime": {
     "end_time": "2022-01-27T20:48:01.603471Z",
     "start_time": "2022-01-27T20:48:00.655427Z"
    }
   },
   "outputs": [],
   "source": [
    "driver.get(\"https://testpages.herokuapp.com/styled/basic-ajax-test.html\")"
   ]
  },
  {
   "cell_type": "code",
   "execution_count": null,
   "metadata": {
    "ExecuteTime": {
     "end_time": "2022-01-27T20:07:14.914711Z",
     "start_time": "2022-01-27T20:07:14.872850Z"
    }
   },
   "outputs": [],
   "source": [
    "cat_select = driver.find_element(By.XPATH, \"//select[@name='id']\")\n",
    "server_cat = cat_select.find_element(By.XPATH, \"//option[@value='3']\")\n",
    "server_cat.click()"
   ]
  },
  {
   "cell_type": "code",
   "execution_count": null,
   "metadata": {
    "ExecuteTime": {
     "end_time": "2022-01-27T20:07:44.966573Z",
     "start_time": "2022-01-27T20:07:44.924260Z"
    }
   },
   "outputs": [],
   "source": [
    "lang_select = driver.find_element(By.XPATH, \"//select[@name='language_id']\")\n",
    "java_lang = lang_select.find_element(By.XPATH, \"//option[@value='23']\")\n",
    "java_lang.click()"
   ]
  },
  {
   "cell_type": "code",
   "execution_count": null,
   "metadata": {
    "ExecuteTime": {
     "end_time": "2022-01-27T20:07:49.247987Z",
     "start_time": "2022-01-27T20:07:48.513869Z"
    }
   },
   "outputs": [],
   "source": [
    "button = driver.find_element(By.XPATH, \"//input[@name='submitbutton']\")\n",
    "button.click()"
   ]
  },
  {
   "cell_type": "markdown",
   "metadata": {},
   "source": [
    "### Navegando no MercadoLivre"
   ]
  },
  {
   "cell_type": "code",
   "execution_count": null,
   "metadata": {
    "ExecuteTime": {
     "end_time": "2022-01-27T21:24:55.475684Z",
     "start_time": "2022-01-27T21:24:54.229970Z"
    }
   },
   "outputs": [],
   "source": [
    "driver.get(\"https://www.mercadolivre.com.br/\")\n",
    "driver.implicitly_wait(10)"
   ]
  },
  {
   "cell_type": "code",
   "execution_count": null,
   "metadata": {
    "ExecuteTime": {
     "end_time": "2022-01-27T21:24:57.758948Z",
     "start_time": "2022-01-27T21:24:56.324403Z"
    }
   },
   "outputs": [],
   "source": [
    "barra_busca = driver.find_element(By.XPATH, \"//input[@class='nav-search-input']\")\n",
    "barra_busca.send_keys('azeite')\n",
    "barra_busca.send_keys(Keys.ENTER)"
   ]
  },
  {
   "cell_type": "code",
   "execution_count": null,
   "metadata": {
    "ExecuteTime": {
     "end_time": "2022-01-27T21:25:00.112932Z",
     "start_time": "2022-01-27T21:25:00.084554Z"
    }
   },
   "outputs": [],
   "source": [
    "painel_produtos = driver.find_element(By.XPATH, \"//ol[@class='ui-search-layout ui-search-layout--stack']\")"
   ]
  },
  {
   "cell_type": "code",
   "execution_count": null,
   "metadata": {
    "ExecuteTime": {
     "end_time": "2022-01-27T21:25:00.801701Z",
     "start_time": "2022-01-27T21:25:00.779257Z"
    }
   },
   "outputs": [],
   "source": [
    "produtos = painel_produtos.find_elements(By.XPATH, \"//a[@class='ui-search-item__group__element ui-search-link']\")"
   ]
  },
  {
   "cell_type": "code",
   "execution_count": null,
   "metadata": {
    "ExecuteTime": {
     "end_time": "2022-01-27T21:25:04.016548Z",
     "start_time": "2022-01-27T21:25:03.999594Z"
    }
   },
   "outputs": [],
   "source": [
    "produtos"
   ]
  },
  {
   "cell_type": "code",
   "execution_count": null,
   "metadata": {
    "ExecuteTime": {
     "end_time": "2022-01-27T21:25:04.328085Z",
     "start_time": "2022-01-27T21:25:04.316091Z"
    }
   },
   "outputs": [],
   "source": [
    "produtos[0].get_attribute('href')"
   ]
  },
  {
   "cell_type": "code",
   "execution_count": null,
   "metadata": {
    "ExecuteTime": {
     "end_time": "2022-01-27T21:25:06.171215Z",
     "start_time": "2022-01-27T21:25:05.618887Z"
    }
   },
   "outputs": [],
   "source": [
    "lista_links = [produto.get_attribute('href') for produto in produtos]"
   ]
  },
  {
   "cell_type": "code",
   "execution_count": null,
   "metadata": {
    "ExecuteTime": {
     "end_time": "2022-01-27T21:25:08.334745Z",
     "start_time": "2022-01-27T21:25:07.090463Z"
    }
   },
   "outputs": [],
   "source": [
    "driver.get(lista_links[1])"
   ]
  },
  {
   "cell_type": "code",
   "execution_count": null,
   "metadata": {
    "ExecuteTime": {
     "end_time": "2022-01-27T21:25:11.083553Z",
     "start_time": "2022-01-27T21:25:10.924976Z"
    }
   },
   "outputs": [],
   "source": [
    "botao_review = driver.find_element(By.XPATH, \"//a[@class='ui-pdp-review__label ui-pdp-review__label--link']\")\n",
    "botao_review.click()"
   ]
  },
  {
   "cell_type": "code",
   "execution_count": null,
   "metadata": {
    "ExecuteTime": {
     "end_time": "2022-01-27T21:21:44.835847Z",
     "start_time": "2022-01-27T21:21:34.766911Z"
    }
   },
   "outputs": [],
   "source": [
    "reviews = driver.find_elements(By.XPATH, \"//article\")"
   ]
  },
  {
   "cell_type": "code",
   "execution_count": null,
   "metadata": {
    "ExecuteTime": {
     "end_time": "2022-01-27T21:30:31.917225Z",
     "start_time": "2022-01-27T21:30:31.878263Z"
    }
   },
   "outputs": [],
   "source": [
    "box_review = driver.find_element(By.XPATH, \"//div[@class='andes-modal ui-pdp-iframe-reviews andes-modal--small']\")\n",
    "iframe = box_review.find_element(By.XPATH, \"//iframe[@class='ui-pdp-iframe-reviews__content']\")"
   ]
  },
  {
   "cell_type": "code",
   "execution_count": null,
   "metadata": {
    "ExecuteTime": {
     "end_time": "2022-01-27T21:31:07.073072Z",
     "start_time": "2022-01-27T21:31:06.598348Z"
    }
   },
   "outputs": [],
   "source": [
    "driver.get(iframe.get_attribute('src'))"
   ]
  },
  {
   "cell_type": "code",
   "execution_count": null,
   "metadata": {
    "ExecuteTime": {
     "end_time": "2022-01-27T21:31:37.834819Z",
     "start_time": "2022-01-27T21:31:37.812860Z"
    }
   },
   "outputs": [],
   "source": [
    "reviews = driver.find_elements(By.XPATH, \"//article\")"
   ]
  },
  {
   "cell_type": "code",
   "execution_count": null,
   "metadata": {
    "ExecuteTime": {
     "end_time": "2022-01-27T21:31:53.170358Z",
     "start_time": "2022-01-27T21:31:52.998399Z"
    }
   },
   "outputs": [],
   "source": [
    "review_texts = [rev.text for rev in reviews]"
   ]
  },
  {
   "cell_type": "code",
   "execution_count": null,
   "metadata": {
    "ExecuteTime": {
     "end_time": "2022-01-27T21:15:53.241242Z",
     "start_time": "2022-01-27T21:14:48.269915Z"
    }
   },
   "outputs": [],
   "source": [
    "# EXERCICIO\n",
    "# Crie uma função que 'empacote' o código acima - retornando uma lista dos textos de reviews\n",
    "# a partir de um link de produto do MercadoLivre\n",
    "# BONUS - teste essa função em alguns produtos diferentes e veja se existem variações\n",
    "# na forma como a página de produto é construída"
   ]
  },
  {
   "cell_type": "markdown",
   "metadata": {},
   "source": [
    "# Headless Chrome"
   ]
  },
  {
   "cell_type": "code",
   "execution_count": null,
   "metadata": {
    "ExecuteTime": {
     "end_time": "2021-02-03T00:32:34.339041Z",
     "start_time": "2021-02-03T00:32:34.333058Z"
    }
   },
   "outputs": [],
   "source": [
    "# Your code here!"
   ]
  }
 ],
 "metadata": {
  "hide_input": false,
  "kernelspec": {
   "display_name": "Python 3",
   "language": "python",
   "name": "python3"
  },
  "language_info": {
   "codemirror_mode": {
    "name": "ipython",
    "version": 3
   },
   "file_extension": ".py",
   "mimetype": "text/x-python",
   "name": "python",
   "nbconvert_exporter": "python",
   "pygments_lexer": "ipython3",
   "version": "3.8.8"
  },
  "toc": {
   "base_numbering": 1,
   "nav_menu": {},
   "number_sections": true,
   "sideBar": true,
   "skip_h1_title": false,
   "title_cell": "Table of Contents",
   "title_sidebar": "Contents",
   "toc_cell": false,
   "toc_position": {},
   "toc_section_display": true,
   "toc_window_display": false
  },
  "varInspector": {
   "cols": {
    "lenName": 16,
    "lenType": 16,
    "lenVar": 40
   },
   "kernels_config": {
    "python": {
     "delete_cmd_postfix": "",
     "delete_cmd_prefix": "del ",
     "library": "var_list.py",
     "varRefreshCmd": "print(var_dic_list())"
    },
    "r": {
     "delete_cmd_postfix": ") ",
     "delete_cmd_prefix": "rm(",
     "library": "var_list.r",
     "varRefreshCmd": "cat(var_dic_list()) "
    }
   },
   "types_to_exclude": [
    "module",
    "function",
    "builtin_function_or_method",
    "instance",
    "_Feature"
   ],
   "window_display": false
  }
 },
 "nbformat": 4,
 "nbformat_minor": 4
}
