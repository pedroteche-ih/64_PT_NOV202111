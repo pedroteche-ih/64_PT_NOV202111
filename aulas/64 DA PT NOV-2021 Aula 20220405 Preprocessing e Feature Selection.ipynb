{
 "cells": [
  {
   "cell_type": "code",
   "execution_count": 1,
   "metadata": {},
   "outputs": [],
   "source": [
    "import pandas as pd\n",
    "import numpy as np\n",
    "import matplotlib.pyplot as plt\n",
    "import seaborn as sns\n"
   ]
  },
  {
   "cell_type": "markdown",
   "metadata": {},
   "source": [
    "# Pré-processamento e seleção de features"
   ]
  },
  {
   "cell_type": "code",
   "execution_count": 2,
   "metadata": {},
   "outputs": [],
   "source": [
    "tb_hotel = pd.read_csv(\"data/tb_hotel_traintest.csv\")\n"
   ]
  },
  {
   "cell_type": "code",
   "execution_count": 3,
   "metadata": {},
   "outputs": [
    {
     "name": "stdout",
     "output_type": "stream",
     "text": [
      "<class 'pandas.core.frame.DataFrame'>\n",
      "RangeIndex: 113409 entries, 0 to 113408\n",
      "Data columns (total 29 columns):\n",
      " #   Column                          Non-Null Count   Dtype  \n",
      "---  ------                          --------------   -----  \n",
      " 0   hotel                           113409 non-null  object \n",
      " 1   is_cancelled                    113409 non-null  int64  \n",
      " 2   lead_time                       113409 non-null  int64  \n",
      " 3   stays_in_weekend_nights         113409 non-null  int64  \n",
      " 4   stays_in_week_nights            113409 non-null  int64  \n",
      " 5   adults                          113409 non-null  int64  \n",
      " 6   children                        113406 non-null  float64\n",
      " 7   babies                          113409 non-null  int64  \n",
      " 8   meal                            113409 non-null  object \n",
      " 9   country                         112951 non-null  object \n",
      " 10  market_segment                  113409 non-null  object \n",
      " 11  distribution_channel            113409 non-null  object \n",
      " 12  is_repeated_guest               113409 non-null  int64  \n",
      " 13  previous_cancellations          113409 non-null  int64  \n",
      " 14  previous_bookings_not_canceled  113409 non-null  int64  \n",
      " 15  reserved_room_type              113409 non-null  object \n",
      " 16  assigned_room_type              113409 non-null  object \n",
      " 17  booking_changes                 113409 non-null  int64  \n",
      " 18  deposit_type                    113409 non-null  object \n",
      " 19  agent                           97918 non-null   float64\n",
      " 20  company                         6437 non-null    float64\n",
      " 21  days_in_waiting_list            113409 non-null  int64  \n",
      " 22  customer_type                   113409 non-null  object \n",
      " 23  adr                             113409 non-null  float64\n",
      " 24  required_car_parking_spaces     113409 non-null  int64  \n",
      " 25  total_of_special_requests       113409 non-null  int64  \n",
      " 26  reservation_status_date         113409 non-null  object \n",
      " 27  arrival_date                    113409 non-null  object \n",
      " 28  id_booking                      113409 non-null  int64  \n",
      "dtypes: float64(4), int64(14), object(11)\n",
      "memory usage: 25.1+ MB\n"
     ]
    }
   ],
   "source": [
    "tb_hotel.info()\n"
   ]
  },
  {
   "cell_type": "markdown",
   "metadata": {},
   "source": [
    "## Tratando variáveis categóricas"
   ]
  },
  {
   "cell_type": "markdown",
   "metadata": {},
   "source": [
    "### Usando tabelas para explorar relações entre variáveis categóricas e contínuas"
   ]
  },
  {
   "cell_type": "markdown",
   "metadata": {},
   "source": [
    "Primeiro podemos utilizar o value_counts() para ver os elementos únicos da variável"
   ]
  },
  {
   "cell_type": "code",
   "execution_count": 4,
   "metadata": {},
   "outputs": [
    {
     "data": {
      "text/plain": [
       "No Deposit    99350\n",
       "Non Refund    13905\n",
       "Refundable      154\n",
       "Name: deposit_type, dtype: int64"
      ]
     },
     "execution_count": 4,
     "metadata": {},
     "output_type": "execute_result"
    }
   ],
   "source": [
    "tb_hotel[\"deposit_type\"].value_counts()\n"
   ]
  },
  {
   "cell_type": "markdown",
   "metadata": {},
   "source": [
    "Podemos utilizar o value_counts() para gerar tabelas simples"
   ]
  },
  {
   "cell_type": "code",
   "execution_count": 5,
   "metadata": {},
   "outputs": [
    {
     "data": {
      "text/plain": [
       "deposit_type  hotel       \n",
       "No Deposit    City Hotel      63119\n",
       "              Resort Hotel    36231\n",
       "Non Refund    City Hotel      12280\n",
       "              Resort Hotel     1625\n",
       "Refundable    Resort Hotel      135\n",
       "              City Hotel         19\n",
       "dtype: int64"
      ]
     },
     "execution_count": 5,
     "metadata": {},
     "output_type": "execute_result"
    }
   ],
   "source": [
    "tb_hotel[[\"deposit_type\", \"hotel\"]].value_counts()\n"
   ]
  },
  {
   "cell_type": "markdown",
   "metadata": {},
   "source": [
    "Ou então o cross-tab para uma visualização mais simples:"
   ]
  },
  {
   "cell_type": "code",
   "execution_count": 6,
   "metadata": {},
   "outputs": [
    {
     "data": {
      "text/html": [
       "<div>\n",
       "<style scoped>\n",
       "    .dataframe tbody tr th:only-of-type {\n",
       "        vertical-align: middle;\n",
       "    }\n",
       "\n",
       "    .dataframe tbody tr th {\n",
       "        vertical-align: top;\n",
       "    }\n",
       "\n",
       "    .dataframe thead th {\n",
       "        text-align: right;\n",
       "    }\n",
       "</style>\n",
       "<table border=\"1\" class=\"dataframe\">\n",
       "  <thead>\n",
       "    <tr style=\"text-align: right;\">\n",
       "      <th>deposit_type</th>\n",
       "      <th>No Deposit</th>\n",
       "      <th>Non Refund</th>\n",
       "      <th>Refundable</th>\n",
       "    </tr>\n",
       "    <tr>\n",
       "      <th>hotel</th>\n",
       "      <th></th>\n",
       "      <th></th>\n",
       "      <th></th>\n",
       "    </tr>\n",
       "  </thead>\n",
       "  <tbody>\n",
       "    <tr>\n",
       "      <th>City Hotel</th>\n",
       "      <td>63119</td>\n",
       "      <td>12280</td>\n",
       "      <td>19</td>\n",
       "    </tr>\n",
       "    <tr>\n",
       "      <th>Resort Hotel</th>\n",
       "      <td>36231</td>\n",
       "      <td>1625</td>\n",
       "      <td>135</td>\n",
       "    </tr>\n",
       "  </tbody>\n",
       "</table>\n",
       "</div>"
      ],
      "text/plain": [
       "deposit_type  No Deposit  Non Refund  Refundable\n",
       "hotel                                           \n",
       "City Hotel         63119       12280          19\n",
       "Resort Hotel       36231        1625         135"
      ]
     },
     "execution_count": 6,
     "metadata": {},
     "output_type": "execute_result"
    }
   ],
   "source": [
    "pd.crosstab(tb_hotel[\"hotel\"], tb_hotel[\"deposit_type\"])\n"
   ]
  },
  {
   "cell_type": "markdown",
   "metadata": {},
   "source": [
    "o parâmetro `margins` adiciona totais de linhas e colunas:"
   ]
  },
  {
   "cell_type": "code",
   "execution_count": 7,
   "metadata": {},
   "outputs": [
    {
     "data": {
      "text/html": [
       "<div>\n",
       "<style scoped>\n",
       "    .dataframe tbody tr th:only-of-type {\n",
       "        vertical-align: middle;\n",
       "    }\n",
       "\n",
       "    .dataframe tbody tr th {\n",
       "        vertical-align: top;\n",
       "    }\n",
       "\n",
       "    .dataframe thead th {\n",
       "        text-align: right;\n",
       "    }\n",
       "</style>\n",
       "<table border=\"1\" class=\"dataframe\">\n",
       "  <thead>\n",
       "    <tr style=\"text-align: right;\">\n",
       "      <th>deposit_type</th>\n",
       "      <th>No Deposit</th>\n",
       "      <th>Non Refund</th>\n",
       "      <th>Refundable</th>\n",
       "      <th>All</th>\n",
       "    </tr>\n",
       "    <tr>\n",
       "      <th>hotel</th>\n",
       "      <th></th>\n",
       "      <th></th>\n",
       "      <th></th>\n",
       "      <th></th>\n",
       "    </tr>\n",
       "  </thead>\n",
       "  <tbody>\n",
       "    <tr>\n",
       "      <th>City Hotel</th>\n",
       "      <td>63119</td>\n",
       "      <td>12280</td>\n",
       "      <td>19</td>\n",
       "      <td>75418</td>\n",
       "    </tr>\n",
       "    <tr>\n",
       "      <th>Resort Hotel</th>\n",
       "      <td>36231</td>\n",
       "      <td>1625</td>\n",
       "      <td>135</td>\n",
       "      <td>37991</td>\n",
       "    </tr>\n",
       "    <tr>\n",
       "      <th>All</th>\n",
       "      <td>99350</td>\n",
       "      <td>13905</td>\n",
       "      <td>154</td>\n",
       "      <td>113409</td>\n",
       "    </tr>\n",
       "  </tbody>\n",
       "</table>\n",
       "</div>"
      ],
      "text/plain": [
       "deposit_type  No Deposit  Non Refund  Refundable     All\n",
       "hotel                                                   \n",
       "City Hotel         63119       12280          19   75418\n",
       "Resort Hotel       36231        1625         135   37991\n",
       "All                99350       13905         154  113409"
      ]
     },
     "execution_count": 7,
     "metadata": {},
     "output_type": "execute_result"
    }
   ],
   "source": [
    "pd.crosstab(tb_hotel[\"hotel\"], tb_hotel[\"deposit_type\"], margins=True)\n"
   ]
  },
  {
   "cell_type": "markdown",
   "metadata": {},
   "source": [
    "enquanto o parâmetro `normalize` permite calcular a % por colunas (`normalize = 'columns'`)"
   ]
  },
  {
   "cell_type": "code",
   "execution_count": 8,
   "metadata": {},
   "outputs": [
    {
     "data": {
      "text/html": [
       "<div>\n",
       "<style scoped>\n",
       "    .dataframe tbody tr th:only-of-type {\n",
       "        vertical-align: middle;\n",
       "    }\n",
       "\n",
       "    .dataframe tbody tr th {\n",
       "        vertical-align: top;\n",
       "    }\n",
       "\n",
       "    .dataframe thead th {\n",
       "        text-align: right;\n",
       "    }\n",
       "</style>\n",
       "<table border=\"1\" class=\"dataframe\">\n",
       "  <thead>\n",
       "    <tr style=\"text-align: right;\">\n",
       "      <th>deposit_type</th>\n",
       "      <th>No Deposit</th>\n",
       "      <th>Non Refund</th>\n",
       "      <th>Refundable</th>\n",
       "      <th>All</th>\n",
       "    </tr>\n",
       "    <tr>\n",
       "      <th>hotel</th>\n",
       "      <th></th>\n",
       "      <th></th>\n",
       "      <th></th>\n",
       "      <th></th>\n",
       "    </tr>\n",
       "  </thead>\n",
       "  <tbody>\n",
       "    <tr>\n",
       "      <th>City Hotel</th>\n",
       "      <td>0.63532</td>\n",
       "      <td>0.883136</td>\n",
       "      <td>0.123377</td>\n",
       "      <td>0.665009</td>\n",
       "    </tr>\n",
       "    <tr>\n",
       "      <th>Resort Hotel</th>\n",
       "      <td>0.36468</td>\n",
       "      <td>0.116864</td>\n",
       "      <td>0.876623</td>\n",
       "      <td>0.334991</td>\n",
       "    </tr>\n",
       "  </tbody>\n",
       "</table>\n",
       "</div>"
      ],
      "text/plain": [
       "deposit_type  No Deposit  Non Refund  Refundable       All\n",
       "hotel                                                     \n",
       "City Hotel       0.63532    0.883136    0.123377  0.665009\n",
       "Resort Hotel     0.36468    0.116864    0.876623  0.334991"
      ]
     },
     "execution_count": 8,
     "metadata": {},
     "output_type": "execute_result"
    }
   ],
   "source": [
    "pd.crosstab(\n",
    "    tb_hotel[\"hotel\"], tb_hotel[\"deposit_type\"], margins=True, normalize=\"columns\"\n",
    ")\n"
   ]
  },
  {
   "cell_type": "markdown",
   "metadata": {},
   "source": [
    "ou por linhas (`normalize = 'index'`)"
   ]
  },
  {
   "cell_type": "code",
   "execution_count": 9,
   "metadata": {},
   "outputs": [
    {
     "data": {
      "text/html": [
       "<div>\n",
       "<style scoped>\n",
       "    .dataframe tbody tr th:only-of-type {\n",
       "        vertical-align: middle;\n",
       "    }\n",
       "\n",
       "    .dataframe tbody tr th {\n",
       "        vertical-align: top;\n",
       "    }\n",
       "\n",
       "    .dataframe thead th {\n",
       "        text-align: right;\n",
       "    }\n",
       "</style>\n",
       "<table border=\"1\" class=\"dataframe\">\n",
       "  <thead>\n",
       "    <tr style=\"text-align: right;\">\n",
       "      <th>deposit_type</th>\n",
       "      <th>No Deposit</th>\n",
       "      <th>Non Refund</th>\n",
       "      <th>Refundable</th>\n",
       "    </tr>\n",
       "    <tr>\n",
       "      <th>hotel</th>\n",
       "      <th></th>\n",
       "      <th></th>\n",
       "      <th></th>\n",
       "    </tr>\n",
       "  </thead>\n",
       "  <tbody>\n",
       "    <tr>\n",
       "      <th>City Hotel</th>\n",
       "      <td>0.836922</td>\n",
       "      <td>0.162826</td>\n",
       "      <td>0.000252</td>\n",
       "    </tr>\n",
       "    <tr>\n",
       "      <th>Resort Hotel</th>\n",
       "      <td>0.953673</td>\n",
       "      <td>0.042773</td>\n",
       "      <td>0.003553</td>\n",
       "    </tr>\n",
       "    <tr>\n",
       "      <th>All</th>\n",
       "      <td>0.876033</td>\n",
       "      <td>0.122609</td>\n",
       "      <td>0.001358</td>\n",
       "    </tr>\n",
       "  </tbody>\n",
       "</table>\n",
       "</div>"
      ],
      "text/plain": [
       "deposit_type  No Deposit  Non Refund  Refundable\n",
       "hotel                                           \n",
       "City Hotel      0.836922    0.162826    0.000252\n",
       "Resort Hotel    0.953673    0.042773    0.003553\n",
       "All             0.876033    0.122609    0.001358"
      ]
     },
     "execution_count": 9,
     "metadata": {},
     "output_type": "execute_result"
    }
   ],
   "source": [
    "pd.crosstab(\n",
    "    tb_hotel[\"hotel\"], tb_hotel[\"deposit_type\"], margins=True, normalize=\"index\"\n",
    ")\n"
   ]
  },
  {
   "cell_type": "markdown",
   "metadata": {},
   "source": [
    "ou pelo total geral (`normalize = True`)"
   ]
  },
  {
   "cell_type": "code",
   "execution_count": 10,
   "metadata": {},
   "outputs": [
    {
     "data": {
      "text/html": [
       "<div>\n",
       "<style scoped>\n",
       "    .dataframe tbody tr th:only-of-type {\n",
       "        vertical-align: middle;\n",
       "    }\n",
       "\n",
       "    .dataframe tbody tr th {\n",
       "        vertical-align: top;\n",
       "    }\n",
       "\n",
       "    .dataframe thead th {\n",
       "        text-align: right;\n",
       "    }\n",
       "</style>\n",
       "<table border=\"1\" class=\"dataframe\">\n",
       "  <thead>\n",
       "    <tr style=\"text-align: right;\">\n",
       "      <th>deposit_type</th>\n",
       "      <th>No Deposit</th>\n",
       "      <th>Non Refund</th>\n",
       "      <th>Refundable</th>\n",
       "      <th>All</th>\n",
       "    </tr>\n",
       "    <tr>\n",
       "      <th>hotel</th>\n",
       "      <th></th>\n",
       "      <th></th>\n",
       "      <th></th>\n",
       "      <th></th>\n",
       "    </tr>\n",
       "  </thead>\n",
       "  <tbody>\n",
       "    <tr>\n",
       "      <th>City Hotel</th>\n",
       "      <td>0.556561</td>\n",
       "      <td>0.108281</td>\n",
       "      <td>0.000168</td>\n",
       "      <td>0.665009</td>\n",
       "    </tr>\n",
       "    <tr>\n",
       "      <th>Resort Hotel</th>\n",
       "      <td>0.319472</td>\n",
       "      <td>0.014329</td>\n",
       "      <td>0.001190</td>\n",
       "      <td>0.334991</td>\n",
       "    </tr>\n",
       "    <tr>\n",
       "      <th>All</th>\n",
       "      <td>0.876033</td>\n",
       "      <td>0.122609</td>\n",
       "      <td>0.001358</td>\n",
       "      <td>1.000000</td>\n",
       "    </tr>\n",
       "  </tbody>\n",
       "</table>\n",
       "</div>"
      ],
      "text/plain": [
       "deposit_type  No Deposit  Non Refund  Refundable       All\n",
       "hotel                                                     \n",
       "City Hotel      0.556561    0.108281    0.000168  0.665009\n",
       "Resort Hotel    0.319472    0.014329    0.001190  0.334991\n",
       "All             0.876033    0.122609    0.001358  1.000000"
      ]
     },
     "execution_count": 10,
     "metadata": {},
     "output_type": "execute_result"
    }
   ],
   "source": [
    "pd.crosstab(tb_hotel[\"hotel\"], tb_hotel[\"deposit_type\"], margins=True, normalize=True)\n"
   ]
  },
  {
   "cell_type": "markdown",
   "metadata": {},
   "source": [
    "Podemos analisar a distribuição das variáveis continuas por duas variáveis categóricas através do método `pivot_table`"
   ]
  },
  {
   "cell_type": "code",
   "execution_count": 11,
   "metadata": {},
   "outputs": [
    {
     "data": {
      "text/html": [
       "<div>\n",
       "<style scoped>\n",
       "    .dataframe tbody tr th:only-of-type {\n",
       "        vertical-align: middle;\n",
       "    }\n",
       "\n",
       "    .dataframe tbody tr th {\n",
       "        vertical-align: top;\n",
       "    }\n",
       "\n",
       "    .dataframe thead tr th {\n",
       "        text-align: left;\n",
       "    }\n",
       "\n",
       "    .dataframe thead tr:last-of-type th {\n",
       "        text-align: right;\n",
       "    }\n",
       "</style>\n",
       "<table border=\"1\" class=\"dataframe\">\n",
       "  <thead>\n",
       "    <tr>\n",
       "      <th></th>\n",
       "      <th colspan=\"2\" halign=\"left\">adr</th>\n",
       "      <th colspan=\"2\" halign=\"left\">adults</th>\n",
       "      <th colspan=\"2\" halign=\"left\">agent</th>\n",
       "      <th colspan=\"2\" halign=\"left\">babies</th>\n",
       "      <th colspan=\"2\" halign=\"left\">booking_changes</th>\n",
       "      <th>...</th>\n",
       "      <th colspan=\"2\" halign=\"left\">previous_cancellations</th>\n",
       "      <th colspan=\"2\" halign=\"left\">required_car_parking_spaces</th>\n",
       "      <th colspan=\"2\" halign=\"left\">stays_in_week_nights</th>\n",
       "      <th colspan=\"2\" halign=\"left\">stays_in_weekend_nights</th>\n",
       "      <th colspan=\"2\" halign=\"left\">total_of_special_requests</th>\n",
       "    </tr>\n",
       "    <tr>\n",
       "      <th>hotel</th>\n",
       "      <th>City Hotel</th>\n",
       "      <th>Resort Hotel</th>\n",
       "      <th>City Hotel</th>\n",
       "      <th>Resort Hotel</th>\n",
       "      <th>City Hotel</th>\n",
       "      <th>Resort Hotel</th>\n",
       "      <th>City Hotel</th>\n",
       "      <th>Resort Hotel</th>\n",
       "      <th>City Hotel</th>\n",
       "      <th>Resort Hotel</th>\n",
       "      <th>...</th>\n",
       "      <th>City Hotel</th>\n",
       "      <th>Resort Hotel</th>\n",
       "      <th>City Hotel</th>\n",
       "      <th>Resort Hotel</th>\n",
       "      <th>City Hotel</th>\n",
       "      <th>Resort Hotel</th>\n",
       "      <th>City Hotel</th>\n",
       "      <th>Resort Hotel</th>\n",
       "      <th>City Hotel</th>\n",
       "      <th>Resort Hotel</th>\n",
       "    </tr>\n",
       "    <tr>\n",
       "      <th>deposit_type</th>\n",
       "      <th></th>\n",
       "      <th></th>\n",
       "      <th></th>\n",
       "      <th></th>\n",
       "      <th></th>\n",
       "      <th></th>\n",
       "      <th></th>\n",
       "      <th></th>\n",
       "      <th></th>\n",
       "      <th></th>\n",
       "      <th></th>\n",
       "      <th></th>\n",
       "      <th></th>\n",
       "      <th></th>\n",
       "      <th></th>\n",
       "      <th></th>\n",
       "      <th></th>\n",
       "      <th></th>\n",
       "      <th></th>\n",
       "      <th></th>\n",
       "      <th></th>\n",
       "    </tr>\n",
       "  </thead>\n",
       "  <tbody>\n",
       "    <tr>\n",
       "      <th>No Deposit</th>\n",
       "      <td>107.768445</td>\n",
       "      <td>96.295776</td>\n",
       "      <td>1.860898</td>\n",
       "      <td>1.868455</td>\n",
       "      <td>25.239155</td>\n",
       "      <td>219.341904</td>\n",
       "      <td>0.005957</td>\n",
       "      <td>0.014601</td>\n",
       "      <td>0.221581</td>\n",
       "      <td>0.298087</td>\n",
       "      <td>...</td>\n",
       "      <td>0.045375</td>\n",
       "      <td>0.036516</td>\n",
       "      <td>0.029246</td>\n",
       "      <td>0.143717</td>\n",
       "      <td>2.219569</td>\n",
       "      <td>3.147139</td>\n",
       "      <td>0.840714</td>\n",
       "      <td>1.197593</td>\n",
       "      <td>0.653638</td>\n",
       "      <td>0.649251</td>\n",
       "    </tr>\n",
       "    <tr>\n",
       "      <th>Non Refund</th>\n",
       "      <td>93.144518</td>\n",
       "      <td>66.231748</td>\n",
       "      <td>1.803583</td>\n",
       "      <td>1.869538</td>\n",
       "      <td>42.781233</td>\n",
       "      <td>168.045690</td>\n",
       "      <td>0.000000</td>\n",
       "      <td>0.000000</td>\n",
       "      <td>0.008876</td>\n",
       "      <td>0.041231</td>\n",
       "      <td>...</td>\n",
       "      <td>0.255945</td>\n",
       "      <td>1.568000</td>\n",
       "      <td>0.000000</td>\n",
       "      <td>0.000615</td>\n",
       "      <td>1.989577</td>\n",
       "      <td>2.820308</td>\n",
       "      <td>0.559772</td>\n",
       "      <td>1.078769</td>\n",
       "      <td>0.001629</td>\n",
       "      <td>0.001846</td>\n",
       "    </tr>\n",
       "    <tr>\n",
       "      <th>Refundable</th>\n",
       "      <td>115.818421</td>\n",
       "      <td>71.215333</td>\n",
       "      <td>1.947368</td>\n",
       "      <td>1.911111</td>\n",
       "      <td>21.000000</td>\n",
       "      <td>282.800000</td>\n",
       "      <td>0.000000</td>\n",
       "      <td>0.000000</td>\n",
       "      <td>0.210526</td>\n",
       "      <td>0.651852</td>\n",
       "      <td>...</td>\n",
       "      <td>0.000000</td>\n",
       "      <td>0.000000</td>\n",
       "      <td>0.052632</td>\n",
       "      <td>0.133333</td>\n",
       "      <td>3.315789</td>\n",
       "      <td>2.814815</td>\n",
       "      <td>1.315789</td>\n",
       "      <td>0.933333</td>\n",
       "      <td>0.631579</td>\n",
       "      <td>0.081481</td>\n",
       "    </tr>\n",
       "  </tbody>\n",
       "</table>\n",
       "<p>3 rows × 36 columns</p>\n",
       "</div>"
      ],
      "text/plain": [
       "                     adr                  adults                   agent  \\\n",
       "hotel         City Hotel Resort Hotel City Hotel Resort Hotel City Hotel   \n",
       "deposit_type                                                               \n",
       "No Deposit    107.768445    96.295776   1.860898     1.868455  25.239155   \n",
       "Non Refund     93.144518    66.231748   1.803583     1.869538  42.781233   \n",
       "Refundable    115.818421    71.215333   1.947368     1.911111  21.000000   \n",
       "\n",
       "                              babies              booking_changes  \\\n",
       "hotel        Resort Hotel City Hotel Resort Hotel      City Hotel   \n",
       "deposit_type                                                        \n",
       "No Deposit     219.341904   0.005957     0.014601        0.221581   \n",
       "Non Refund     168.045690   0.000000     0.000000        0.008876   \n",
       "Refundable     282.800000   0.000000     0.000000        0.210526   \n",
       "\n",
       "                           ... previous_cancellations               \\\n",
       "hotel        Resort Hotel  ...             City Hotel Resort Hotel   \n",
       "deposit_type               ...                                       \n",
       "No Deposit       0.298087  ...               0.045375     0.036516   \n",
       "Non Refund       0.041231  ...               0.255945     1.568000   \n",
       "Refundable       0.651852  ...               0.000000     0.000000   \n",
       "\n",
       "             required_car_parking_spaces              stays_in_week_nights  \\\n",
       "hotel                         City Hotel Resort Hotel           City Hotel   \n",
       "deposit_type                                                                 \n",
       "No Deposit                      0.029246     0.143717             2.219569   \n",
       "Non Refund                      0.000000     0.000615             1.989577   \n",
       "Refundable                      0.052632     0.133333             3.315789   \n",
       "\n",
       "                          stays_in_weekend_nights               \\\n",
       "hotel        Resort Hotel              City Hotel Resort Hotel   \n",
       "deposit_type                                                     \n",
       "No Deposit       3.147139                0.840714     1.197593   \n",
       "Non Refund       2.820308                0.559772     1.078769   \n",
       "Refundable       2.814815                1.315789     0.933333   \n",
       "\n",
       "             total_of_special_requests               \n",
       "hotel                       City Hotel Resort Hotel  \n",
       "deposit_type                                         \n",
       "No Deposit                    0.653638     0.649251  \n",
       "Non Refund                    0.001629     0.001846  \n",
       "Refundable                    0.631579     0.081481  \n",
       "\n",
       "[3 rows x 36 columns]"
      ]
     },
     "execution_count": 11,
     "metadata": {},
     "output_type": "execute_result"
    }
   ],
   "source": [
    "tb_hotel.pivot_table(index=\"deposit_type\", columns=\"hotel\")\n"
   ]
  },
  {
   "cell_type": "markdown",
   "metadata": {},
   "source": [
    "O comportamento do método é calcular a média de cada variável numérica pela combinação das variáveis do `index` (linhas) e `columns` (colunas). Podemos alterar esse comportamento utilizando os argumentos:\n",
    "* `values` para mostrar apenas uma (ou mais) variáveis continuas;\n",
    "* `aggfunc` para trocar a função de agregação."
   ]
  },
  {
   "cell_type": "code",
   "execution_count": 12,
   "metadata": {},
   "outputs": [
    {
     "data": {
      "text/html": [
       "<div>\n",
       "<style scoped>\n",
       "    .dataframe tbody tr th:only-of-type {\n",
       "        vertical-align: middle;\n",
       "    }\n",
       "\n",
       "    .dataframe tbody tr th {\n",
       "        vertical-align: top;\n",
       "    }\n",
       "\n",
       "    .dataframe thead th {\n",
       "        text-align: right;\n",
       "    }\n",
       "</style>\n",
       "<table border=\"1\" class=\"dataframe\">\n",
       "  <thead>\n",
       "    <tr style=\"text-align: right;\">\n",
       "      <th>hotel</th>\n",
       "      <th>City Hotel</th>\n",
       "      <th>Resort Hotel</th>\n",
       "    </tr>\n",
       "    <tr>\n",
       "      <th>deposit_type</th>\n",
       "      <th></th>\n",
       "      <th></th>\n",
       "    </tr>\n",
       "  </thead>\n",
       "  <tbody>\n",
       "    <tr>\n",
       "      <th>No Deposit</th>\n",
       "      <td>107.768445</td>\n",
       "      <td>96.295776</td>\n",
       "    </tr>\n",
       "    <tr>\n",
       "      <th>Non Refund</th>\n",
       "      <td>93.144518</td>\n",
       "      <td>66.231748</td>\n",
       "    </tr>\n",
       "    <tr>\n",
       "      <th>Refundable</th>\n",
       "      <td>115.818421</td>\n",
       "      <td>71.215333</td>\n",
       "    </tr>\n",
       "  </tbody>\n",
       "</table>\n",
       "</div>"
      ],
      "text/plain": [
       "hotel         City Hotel  Resort Hotel\n",
       "deposit_type                          \n",
       "No Deposit    107.768445     96.295776\n",
       "Non Refund     93.144518     66.231748\n",
       "Refundable    115.818421     71.215333"
      ]
     },
     "execution_count": 12,
     "metadata": {},
     "output_type": "execute_result"
    }
   ],
   "source": [
    "tb_hotel.pivot_table(index=\"deposit_type\", columns=\"hotel\", values=\"adr\")\n"
   ]
  },
  {
   "cell_type": "code",
   "execution_count": 13,
   "metadata": {},
   "outputs": [
    {
     "data": {
      "text/html": [
       "<div>\n",
       "<style scoped>\n",
       "    .dataframe tbody tr th:only-of-type {\n",
       "        vertical-align: middle;\n",
       "    }\n",
       "\n",
       "    .dataframe tbody tr th {\n",
       "        vertical-align: top;\n",
       "    }\n",
       "\n",
       "    .dataframe thead tr th {\n",
       "        text-align: left;\n",
       "    }\n",
       "\n",
       "    .dataframe thead tr:last-of-type th {\n",
       "        text-align: right;\n",
       "    }\n",
       "</style>\n",
       "<table border=\"1\" class=\"dataframe\">\n",
       "  <thead>\n",
       "    <tr>\n",
       "      <th></th>\n",
       "      <th colspan=\"2\" halign=\"left\">adr</th>\n",
       "      <th colspan=\"2\" halign=\"left\">booking_changes</th>\n",
       "    </tr>\n",
       "    <tr>\n",
       "      <th>hotel</th>\n",
       "      <th>City Hotel</th>\n",
       "      <th>Resort Hotel</th>\n",
       "      <th>City Hotel</th>\n",
       "      <th>Resort Hotel</th>\n",
       "    </tr>\n",
       "    <tr>\n",
       "      <th>deposit_type</th>\n",
       "      <th></th>\n",
       "      <th></th>\n",
       "      <th></th>\n",
       "      <th></th>\n",
       "    </tr>\n",
       "  </thead>\n",
       "  <tbody>\n",
       "    <tr>\n",
       "      <th>No Deposit</th>\n",
       "      <td>107.768445</td>\n",
       "      <td>96.295776</td>\n",
       "      <td>0.221581</td>\n",
       "      <td>0.298087</td>\n",
       "    </tr>\n",
       "    <tr>\n",
       "      <th>Non Refund</th>\n",
       "      <td>93.144518</td>\n",
       "      <td>66.231748</td>\n",
       "      <td>0.008876</td>\n",
       "      <td>0.041231</td>\n",
       "    </tr>\n",
       "    <tr>\n",
       "      <th>Refundable</th>\n",
       "      <td>115.818421</td>\n",
       "      <td>71.215333</td>\n",
       "      <td>0.210526</td>\n",
       "      <td>0.651852</td>\n",
       "    </tr>\n",
       "  </tbody>\n",
       "</table>\n",
       "</div>"
      ],
      "text/plain": [
       "                     adr              booking_changes             \n",
       "hotel         City Hotel Resort Hotel      City Hotel Resort Hotel\n",
       "deposit_type                                                      \n",
       "No Deposit    107.768445    96.295776        0.221581     0.298087\n",
       "Non Refund     93.144518    66.231748        0.008876     0.041231\n",
       "Refundable    115.818421    71.215333        0.210526     0.651852"
      ]
     },
     "execution_count": 13,
     "metadata": {},
     "output_type": "execute_result"
    }
   ],
   "source": [
    "tb_hotel.pivot_table(\n",
    "    index=\"deposit_type\", columns=\"hotel\", values=[\"adr\", \"booking_changes\"]\n",
    ")\n"
   ]
  },
  {
   "cell_type": "code",
   "execution_count": 14,
   "metadata": {},
   "outputs": [
    {
     "data": {
      "text/html": [
       "<div>\n",
       "<style scoped>\n",
       "    .dataframe tbody tr th:only-of-type {\n",
       "        vertical-align: middle;\n",
       "    }\n",
       "\n",
       "    .dataframe tbody tr th {\n",
       "        vertical-align: top;\n",
       "    }\n",
       "\n",
       "    .dataframe thead tr th {\n",
       "        text-align: left;\n",
       "    }\n",
       "\n",
       "    .dataframe thead tr:last-of-type th {\n",
       "        text-align: right;\n",
       "    }\n",
       "</style>\n",
       "<table border=\"1\" class=\"dataframe\">\n",
       "  <thead>\n",
       "    <tr>\n",
       "      <th></th>\n",
       "      <th colspan=\"2\" halign=\"left\">adr</th>\n",
       "      <th colspan=\"2\" halign=\"left\">booking_changes</th>\n",
       "    </tr>\n",
       "    <tr>\n",
       "      <th>hotel</th>\n",
       "      <th>City Hotel</th>\n",
       "      <th>Resort Hotel</th>\n",
       "      <th>City Hotel</th>\n",
       "      <th>Resort Hotel</th>\n",
       "    </tr>\n",
       "    <tr>\n",
       "      <th>deposit_type</th>\n",
       "      <th></th>\n",
       "      <th></th>\n",
       "      <th></th>\n",
       "      <th></th>\n",
       "    </tr>\n",
       "  </thead>\n",
       "  <tbody>\n",
       "    <tr>\n",
       "      <th>No Deposit</th>\n",
       "      <td>101.5</td>\n",
       "      <td>76.5</td>\n",
       "      <td>0</td>\n",
       "      <td>0</td>\n",
       "    </tr>\n",
       "    <tr>\n",
       "      <th>Non Refund</th>\n",
       "      <td>90.0</td>\n",
       "      <td>70.0</td>\n",
       "      <td>0</td>\n",
       "      <td>0</td>\n",
       "    </tr>\n",
       "    <tr>\n",
       "      <th>Refundable</th>\n",
       "      <td>100.0</td>\n",
       "      <td>66.0</td>\n",
       "      <td>0</td>\n",
       "      <td>0</td>\n",
       "    </tr>\n",
       "  </tbody>\n",
       "</table>\n",
       "</div>"
      ],
      "text/plain": [
       "                    adr              booking_changes             \n",
       "hotel        City Hotel Resort Hotel      City Hotel Resort Hotel\n",
       "deposit_type                                                     \n",
       "No Deposit        101.5         76.5               0            0\n",
       "Non Refund         90.0         70.0               0            0\n",
       "Refundable        100.0         66.0               0            0"
      ]
     },
     "execution_count": 14,
     "metadata": {},
     "output_type": "execute_result"
    }
   ],
   "source": [
    "tb_hotel.pivot_table(\n",
    "    index=\"deposit_type\",\n",
    "    columns=\"hotel\",\n",
    "    values=[\"adr\", \"booking_changes\"],\n",
    "    aggfunc=\"median\",\n",
    ")\n"
   ]
  },
  {
   "cell_type": "markdown",
   "metadata": {},
   "source": [
    "### Entrada de variáveis categóricas em modelos\n",
    "\n",
    "**Variáveis categóricas só podem entrar como features de um modelo** através de alguma estratégia para **transforma-las em variáveis continuas**. Podemos adotar **duas estratégias distintas**:\n",
    "\n",
    "* **Ordinal encoding**, onde convertemos uma escala categórica em uma escala numérica.\n",
    "* **One hot encoding**, onde utilizamos variáveis dummy binárias para representar cada nível de uma categoria;\n",
    "\n",
    "A escolha de uma estratégia **depende da variável que queremos transformar**."
   ]
  },
  {
   "cell_type": "markdown",
   "metadata": {},
   "source": [
    "#### Variáveis Ordinais\n",
    "\n",
    "A conversão de variáveis categóricas em ordinais parte de duas premissas:\n",
    "\n",
    "* Os níveis da categoria podem ser **ordenados** (A < B < C);\n",
    "* As diferenças entre os níveis são equiparáveis (de A para B é o mesmo salto que de B para C).\n",
    "\n",
    "Um exemplo comum que comporta essa premissa é a classificação em *Muito Ruim, Ruim, Indiferente, Bom, Muito Bom* convertida em uma escala numérica de 0 à 4 ou de 1 à 5.\n",
    "\n",
    "Vamos utilizar como exemplo as variáveis de `room_type` para construir uma variável ordinal partindo da premissa que o quarto A é inferior ao B, que é inferior ao C e assim por diante."
   ]
  },
  {
   "cell_type": "code",
   "execution_count": 15,
   "metadata": {},
   "outputs": [
    {
     "data": {
      "text/plain": [
       "A    81682\n",
       "D    18255\n",
       "E     6173\n",
       "F     2759\n",
       "G     1988\n",
       "B     1070\n",
       "C      889\n",
       "H      576\n",
       "P       11\n",
       "L        6\n",
       "Name: reserved_room_type, dtype: int64"
      ]
     },
     "execution_count": 15,
     "metadata": {},
     "output_type": "execute_result"
    }
   ],
   "source": [
    "tb_hotel['reserved_room_type'].value_counts()"
   ]
  },
  {
   "cell_type": "markdown",
   "metadata": {},
   "source": [
    "Primeiro vamos utilizar a biblioteca `string`, do Python nativo, para construirmos um mapa entre carácteres e números."
   ]
  },
  {
   "cell_type": "code",
   "execution_count": 16,
   "metadata": {},
   "outputs": [],
   "source": [
    "import string"
   ]
  },
  {
   "cell_type": "code",
   "execution_count": 17,
   "metadata": {},
   "outputs": [
    {
     "name": "stdout",
     "output_type": "stream",
     "text": [
      "ABCDEFGHIJKLMNOPQRSTUVWXYZ\n"
     ]
    }
   ],
   "source": [
    "lista_uppercase = string.ascii_uppercase\n",
    "print(lista_uppercase)"
   ]
  },
  {
   "cell_type": "markdown",
   "metadata": {},
   "source": [
    "Vamos utilizar um loop para construir um dicionário mapeando cada carácter do string acima para um número de acordo com sua posição no alfabeto."
   ]
  },
  {
   "cell_type": "code",
   "execution_count": 18,
   "metadata": {},
   "outputs": [
    {
     "name": "stdout",
     "output_type": "stream",
     "text": [
      "{'A': 0, 'B': 1, 'C': 2, 'D': 3, 'E': 4, 'F': 5, 'G': 6, 'H': 7, 'I': 8, 'J': 9, 'K': 10, 'L': 11, 'M': 12, 'N': 13, 'O': 14, 'P': 15, 'Q': 16, 'R': 17, 'S': 18, 'T': 19, 'U': 20, 'V': 21, 'W': 22, 'X': 23, 'Y': 24, 'Z': 25}\n"
     ]
    }
   ],
   "source": [
    "dict_room_type = dict()\n",
    "i = 0\n",
    "for letter in lista_uppercase:\n",
    "    dict_room_type[letter] = i\n",
    "    i += 1\n",
    "print(dict_room_type)"
   ]
  },
  {
   "cell_type": "markdown",
   "metadata": {},
   "source": [
    "Agora vamos utilizar o método map, de uma coluna de DataFrame, para criar uma nova coluna com esse encoding."
   ]
  },
  {
   "cell_type": "code",
   "execution_count": 19,
   "metadata": {},
   "outputs": [],
   "source": [
    "tb_hotel['ord_reserved_room_type'] = tb_hotel['reserved_room_type'].map(dict_room_type)"
   ]
  },
  {
   "cell_type": "markdown",
   "metadata": {},
   "source": [
    "A nova variável contem a informação do tipo de quarto reservado como uma variável numérica, adotando a premissa que os diferentes carácteres nessa coluna indicam um ordenamento de qualidade dos quartos."
   ]
  },
  {
   "cell_type": "code",
   "execution_count": 20,
   "metadata": {},
   "outputs": [
    {
     "data": {
      "text/plain": [
       "count    113409.000000\n",
       "mean          0.990142\n",
       "std           1.701876\n",
       "min           0.000000\n",
       "25%           0.000000\n",
       "50%           0.000000\n",
       "75%           3.000000\n",
       "max          15.000000\n",
       "Name: ord_reserved_room_type, dtype: float64"
      ]
     },
     "execution_count": 20,
     "metadata": {},
     "output_type": "execute_result"
    }
   ],
   "source": [
    "tb_hotel['ord_reserved_room_type'].describe()"
   ]
  },
  {
   "cell_type": "code",
   "execution_count": 21,
   "metadata": {},
   "outputs": [
    {
     "data": {
      "text/html": [
       "<div>\n",
       "<style scoped>\n",
       "    .dataframe tbody tr th:only-of-type {\n",
       "        vertical-align: middle;\n",
       "    }\n",
       "\n",
       "    .dataframe tbody tr th {\n",
       "        vertical-align: top;\n",
       "    }\n",
       "\n",
       "    .dataframe thead th {\n",
       "        text-align: right;\n",
       "    }\n",
       "</style>\n",
       "<table border=\"1\" class=\"dataframe\">\n",
       "  <thead>\n",
       "    <tr style=\"text-align: right;\">\n",
       "      <th></th>\n",
       "      <th>reserved_room_type</th>\n",
       "      <th>ord_reserved_room_type</th>\n",
       "    </tr>\n",
       "  </thead>\n",
       "  <tbody>\n",
       "    <tr>\n",
       "      <th>113404</th>\n",
       "      <td>A</td>\n",
       "      <td>0</td>\n",
       "    </tr>\n",
       "    <tr>\n",
       "      <th>113405</th>\n",
       "      <td>E</td>\n",
       "      <td>4</td>\n",
       "    </tr>\n",
       "    <tr>\n",
       "      <th>113406</th>\n",
       "      <td>D</td>\n",
       "      <td>3</td>\n",
       "    </tr>\n",
       "    <tr>\n",
       "      <th>113407</th>\n",
       "      <td>A</td>\n",
       "      <td>0</td>\n",
       "    </tr>\n",
       "    <tr>\n",
       "      <th>113408</th>\n",
       "      <td>A</td>\n",
       "      <td>0</td>\n",
       "    </tr>\n",
       "  </tbody>\n",
       "</table>\n",
       "</div>"
      ],
      "text/plain": [
       "       reserved_room_type  ord_reserved_room_type\n",
       "113404                  A                       0\n",
       "113405                  E                       4\n",
       "113406                  D                       3\n",
       "113407                  A                       0\n",
       "113408                  A                       0"
      ]
     },
     "execution_count": 21,
     "metadata": {},
     "output_type": "execute_result"
    }
   ],
   "source": [
    "tb_hotel[['reserved_room_type', 'ord_reserved_room_type']].tail()"
   ]
  },
  {
   "cell_type": "markdown",
   "metadata": {},
   "source": [
    "#### Variáveis dummy"
   ]
  },
  {
   "cell_type": "markdown",
   "metadata": {},
   "source": [
    "A **forma mais simples** de transformar uma variável categórica em variáveis dummies é atrvés da função `pd.get_dummies()`."
   ]
  },
  {
   "cell_type": "code",
   "execution_count": 22,
   "metadata": {},
   "outputs": [
    {
     "data": {
      "text/html": [
       "<div>\n",
       "<style scoped>\n",
       "    .dataframe tbody tr th:only-of-type {\n",
       "        vertical-align: middle;\n",
       "    }\n",
       "\n",
       "    .dataframe tbody tr th {\n",
       "        vertical-align: top;\n",
       "    }\n",
       "\n",
       "    .dataframe thead th {\n",
       "        text-align: right;\n",
       "    }\n",
       "</style>\n",
       "<table border=\"1\" class=\"dataframe\">\n",
       "  <thead>\n",
       "    <tr style=\"text-align: right;\">\n",
       "      <th></th>\n",
       "      <th>No Deposit</th>\n",
       "      <th>Non Refund</th>\n",
       "      <th>Refundable</th>\n",
       "    </tr>\n",
       "  </thead>\n",
       "  <tbody>\n",
       "    <tr>\n",
       "      <th>0</th>\n",
       "      <td>1</td>\n",
       "      <td>0</td>\n",
       "      <td>0</td>\n",
       "    </tr>\n",
       "    <tr>\n",
       "      <th>1</th>\n",
       "      <td>1</td>\n",
       "      <td>0</td>\n",
       "      <td>0</td>\n",
       "    </tr>\n",
       "    <tr>\n",
       "      <th>2</th>\n",
       "      <td>1</td>\n",
       "      <td>0</td>\n",
       "      <td>0</td>\n",
       "    </tr>\n",
       "    <tr>\n",
       "      <th>3</th>\n",
       "      <td>1</td>\n",
       "      <td>0</td>\n",
       "      <td>0</td>\n",
       "    </tr>\n",
       "    <tr>\n",
       "      <th>4</th>\n",
       "      <td>1</td>\n",
       "      <td>0</td>\n",
       "      <td>0</td>\n",
       "    </tr>\n",
       "    <tr>\n",
       "      <th>...</th>\n",
       "      <td>...</td>\n",
       "      <td>...</td>\n",
       "      <td>...</td>\n",
       "    </tr>\n",
       "    <tr>\n",
       "      <th>113404</th>\n",
       "      <td>1</td>\n",
       "      <td>0</td>\n",
       "      <td>0</td>\n",
       "    </tr>\n",
       "    <tr>\n",
       "      <th>113405</th>\n",
       "      <td>1</td>\n",
       "      <td>0</td>\n",
       "      <td>0</td>\n",
       "    </tr>\n",
       "    <tr>\n",
       "      <th>113406</th>\n",
       "      <td>1</td>\n",
       "      <td>0</td>\n",
       "      <td>0</td>\n",
       "    </tr>\n",
       "    <tr>\n",
       "      <th>113407</th>\n",
       "      <td>1</td>\n",
       "      <td>0</td>\n",
       "      <td>0</td>\n",
       "    </tr>\n",
       "    <tr>\n",
       "      <th>113408</th>\n",
       "      <td>1</td>\n",
       "      <td>0</td>\n",
       "      <td>0</td>\n",
       "    </tr>\n",
       "  </tbody>\n",
       "</table>\n",
       "<p>113409 rows × 3 columns</p>\n",
       "</div>"
      ],
      "text/plain": [
       "        No Deposit  Non Refund  Refundable\n",
       "0                1           0           0\n",
       "1                1           0           0\n",
       "2                1           0           0\n",
       "3                1           0           0\n",
       "4                1           0           0\n",
       "...            ...         ...         ...\n",
       "113404           1           0           0\n",
       "113405           1           0           0\n",
       "113406           1           0           0\n",
       "113407           1           0           0\n",
       "113408           1           0           0\n",
       "\n",
       "[113409 rows x 3 columns]"
      ]
     },
     "execution_count": 22,
     "metadata": {},
     "output_type": "execute_result"
    }
   ],
   "source": [
    "pd.get_dummies(tb_hotel[\"deposit_type\"])\n"
   ]
  },
  {
   "cell_type": "code",
   "execution_count": 23,
   "metadata": {},
   "outputs": [
    {
     "data": {
      "text/plain": [
       "No Deposit    0.876033\n",
       "Non Refund    0.122609\n",
       "Refundable    0.001358\n",
       "dtype: float64"
      ]
     },
     "execution_count": 23,
     "metadata": {},
     "output_type": "execute_result"
    }
   ],
   "source": [
    "pd.get_dummies(tb_hotel[\"deposit_type\"]).mean()\n"
   ]
  },
  {
   "cell_type": "markdown",
   "metadata": {},
   "source": [
    "Ao passarmos um **DataFrame**, *não uma série*, a função automaticamente cria um **prefixo para cada variável** categórica transformada (*evitando colisão entre variáveis que tenham níveis com o mesmo nome* )"
   ]
  },
  {
   "cell_type": "code",
   "execution_count": 24,
   "metadata": {},
   "outputs": [
    {
     "data": {
      "text/html": [
       "<div>\n",
       "<style scoped>\n",
       "    .dataframe tbody tr th:only-of-type {\n",
       "        vertical-align: middle;\n",
       "    }\n",
       "\n",
       "    .dataframe tbody tr th {\n",
       "        vertical-align: top;\n",
       "    }\n",
       "\n",
       "    .dataframe thead th {\n",
       "        text-align: right;\n",
       "    }\n",
       "</style>\n",
       "<table border=\"1\" class=\"dataframe\">\n",
       "  <thead>\n",
       "    <tr style=\"text-align: right;\">\n",
       "      <th></th>\n",
       "      <th>deposit_type_No Deposit</th>\n",
       "      <th>deposit_type_Non Refund</th>\n",
       "      <th>deposit_type_Refundable</th>\n",
       "      <th>hotel_City Hotel</th>\n",
       "      <th>hotel_Resort Hotel</th>\n",
       "    </tr>\n",
       "  </thead>\n",
       "  <tbody>\n",
       "    <tr>\n",
       "      <th>0</th>\n",
       "      <td>1</td>\n",
       "      <td>0</td>\n",
       "      <td>0</td>\n",
       "      <td>0</td>\n",
       "      <td>1</td>\n",
       "    </tr>\n",
       "    <tr>\n",
       "      <th>1</th>\n",
       "      <td>1</td>\n",
       "      <td>0</td>\n",
       "      <td>0</td>\n",
       "      <td>0</td>\n",
       "      <td>1</td>\n",
       "    </tr>\n",
       "    <tr>\n",
       "      <th>2</th>\n",
       "      <td>1</td>\n",
       "      <td>0</td>\n",
       "      <td>0</td>\n",
       "      <td>0</td>\n",
       "      <td>1</td>\n",
       "    </tr>\n",
       "    <tr>\n",
       "      <th>3</th>\n",
       "      <td>1</td>\n",
       "      <td>0</td>\n",
       "      <td>0</td>\n",
       "      <td>0</td>\n",
       "      <td>1</td>\n",
       "    </tr>\n",
       "    <tr>\n",
       "      <th>4</th>\n",
       "      <td>1</td>\n",
       "      <td>0</td>\n",
       "      <td>0</td>\n",
       "      <td>0</td>\n",
       "      <td>1</td>\n",
       "    </tr>\n",
       "    <tr>\n",
       "      <th>...</th>\n",
       "      <td>...</td>\n",
       "      <td>...</td>\n",
       "      <td>...</td>\n",
       "      <td>...</td>\n",
       "      <td>...</td>\n",
       "    </tr>\n",
       "    <tr>\n",
       "      <th>113404</th>\n",
       "      <td>1</td>\n",
       "      <td>0</td>\n",
       "      <td>0</td>\n",
       "      <td>1</td>\n",
       "      <td>0</td>\n",
       "    </tr>\n",
       "    <tr>\n",
       "      <th>113405</th>\n",
       "      <td>1</td>\n",
       "      <td>0</td>\n",
       "      <td>0</td>\n",
       "      <td>1</td>\n",
       "      <td>0</td>\n",
       "    </tr>\n",
       "    <tr>\n",
       "      <th>113406</th>\n",
       "      <td>1</td>\n",
       "      <td>0</td>\n",
       "      <td>0</td>\n",
       "      <td>1</td>\n",
       "      <td>0</td>\n",
       "    </tr>\n",
       "    <tr>\n",
       "      <th>113407</th>\n",
       "      <td>1</td>\n",
       "      <td>0</td>\n",
       "      <td>0</td>\n",
       "      <td>1</td>\n",
       "      <td>0</td>\n",
       "    </tr>\n",
       "    <tr>\n",
       "      <th>113408</th>\n",
       "      <td>1</td>\n",
       "      <td>0</td>\n",
       "      <td>0</td>\n",
       "      <td>1</td>\n",
       "      <td>0</td>\n",
       "    </tr>\n",
       "  </tbody>\n",
       "</table>\n",
       "<p>113409 rows × 5 columns</p>\n",
       "</div>"
      ],
      "text/plain": [
       "        deposit_type_No Deposit  deposit_type_Non Refund  \\\n",
       "0                             1                        0   \n",
       "1                             1                        0   \n",
       "2                             1                        0   \n",
       "3                             1                        0   \n",
       "4                             1                        0   \n",
       "...                         ...                      ...   \n",
       "113404                        1                        0   \n",
       "113405                        1                        0   \n",
       "113406                        1                        0   \n",
       "113407                        1                        0   \n",
       "113408                        1                        0   \n",
       "\n",
       "        deposit_type_Refundable  hotel_City Hotel  hotel_Resort Hotel  \n",
       "0                             0                 0                   1  \n",
       "1                             0                 0                   1  \n",
       "2                             0                 0                   1  \n",
       "3                             0                 0                   1  \n",
       "4                             0                 0                   1  \n",
       "...                         ...               ...                 ...  \n",
       "113404                        0                 1                   0  \n",
       "113405                        0                 1                   0  \n",
       "113406                        0                 1                   0  \n",
       "113407                        0                 1                   0  \n",
       "113408                        0                 1                   0  \n",
       "\n",
       "[113409 rows x 5 columns]"
      ]
     },
     "execution_count": 24,
     "metadata": {},
     "output_type": "execute_result"
    }
   ],
   "source": [
    "pd.get_dummies(tb_hotel[[\"deposit_type\", \"hotel\"]])\n"
   ]
  },
  {
   "cell_type": "markdown",
   "metadata": {},
   "source": [
    "Podemos re-agregar as variáveis ao nosso DataFrame utilizando a função `pd.concat`:"
   ]
  },
  {
   "cell_type": "code",
   "execution_count": 25,
   "metadata": {},
   "outputs": [],
   "source": [
    "tb_hotel_enriq = pd.concat(\n",
    "    [tb_hotel, pd.get_dummies(tb_hotel[[\"deposit_type\", \"hotel\"]])], axis=1\n",
    ")\n"
   ]
  },
  {
   "cell_type": "code",
   "execution_count": 26,
   "metadata": {},
   "outputs": [
    {
     "data": {
      "text/html": [
       "<div>\n",
       "<style scoped>\n",
       "    .dataframe tbody tr th:only-of-type {\n",
       "        vertical-align: middle;\n",
       "    }\n",
       "\n",
       "    .dataframe tbody tr th {\n",
       "        vertical-align: top;\n",
       "    }\n",
       "\n",
       "    .dataframe thead th {\n",
       "        text-align: right;\n",
       "    }\n",
       "</style>\n",
       "<table border=\"1\" class=\"dataframe\">\n",
       "  <thead>\n",
       "    <tr style=\"text-align: right;\">\n",
       "      <th></th>\n",
       "      <th>deposit_type_No Deposit</th>\n",
       "    </tr>\n",
       "  </thead>\n",
       "  <tbody>\n",
       "    <tr>\n",
       "      <th>0</th>\n",
       "      <td>1</td>\n",
       "    </tr>\n",
       "    <tr>\n",
       "      <th>1</th>\n",
       "      <td>1</td>\n",
       "    </tr>\n",
       "    <tr>\n",
       "      <th>2</th>\n",
       "      <td>1</td>\n",
       "    </tr>\n",
       "    <tr>\n",
       "      <th>3</th>\n",
       "      <td>1</td>\n",
       "    </tr>\n",
       "    <tr>\n",
       "      <th>4</th>\n",
       "      <td>1</td>\n",
       "    </tr>\n",
       "    <tr>\n",
       "      <th>...</th>\n",
       "      <td>...</td>\n",
       "    </tr>\n",
       "    <tr>\n",
       "      <th>113404</th>\n",
       "      <td>1</td>\n",
       "    </tr>\n",
       "    <tr>\n",
       "      <th>113405</th>\n",
       "      <td>1</td>\n",
       "    </tr>\n",
       "    <tr>\n",
       "      <th>113406</th>\n",
       "      <td>1</td>\n",
       "    </tr>\n",
       "    <tr>\n",
       "      <th>113407</th>\n",
       "      <td>1</td>\n",
       "    </tr>\n",
       "    <tr>\n",
       "      <th>113408</th>\n",
       "      <td>1</td>\n",
       "    </tr>\n",
       "  </tbody>\n",
       "</table>\n",
       "<p>113409 rows × 1 columns</p>\n",
       "</div>"
      ],
      "text/plain": [
       "        deposit_type_No Deposit\n",
       "0                             1\n",
       "1                             1\n",
       "2                             1\n",
       "3                             1\n",
       "4                             1\n",
       "...                         ...\n",
       "113404                        1\n",
       "113405                        1\n",
       "113406                        1\n",
       "113407                        1\n",
       "113408                        1\n",
       "\n",
       "[113409 rows x 1 columns]"
      ]
     },
     "execution_count": 26,
     "metadata": {},
     "output_type": "execute_result"
    }
   ],
   "source": [
    "tb_hotel_enriq[[\"deposit_type_No Deposit\"]]\n"
   ]
  },
  {
   "cell_type": "markdown",
   "metadata": {},
   "source": [
    "Variáveis categóricas transformadas em variáveis dummies dessa forma são completamente colineares entre si: **a soma entre as variáveis dummies representando uma única categórica sempre sera 1**. Como vimos antes, colinearidades deste tipo **são um problema sério** (em geral fatal) para maior parte dos algoritmos de ML.\n",
    "\n",
    "Para tratar isso podemos utilizar o argumento `drop_first = True`, que criará `n-1` variáveis dummy para uma categoria com `n` níveis."
   ]
  },
  {
   "cell_type": "code",
   "execution_count": 27,
   "metadata": {},
   "outputs": [
    {
     "data": {
      "text/html": [
       "<div>\n",
       "<style scoped>\n",
       "    .dataframe tbody tr th:only-of-type {\n",
       "        vertical-align: middle;\n",
       "    }\n",
       "\n",
       "    .dataframe tbody tr th {\n",
       "        vertical-align: top;\n",
       "    }\n",
       "\n",
       "    .dataframe thead th {\n",
       "        text-align: right;\n",
       "    }\n",
       "</style>\n",
       "<table border=\"1\" class=\"dataframe\">\n",
       "  <thead>\n",
       "    <tr style=\"text-align: right;\">\n",
       "      <th></th>\n",
       "      <th>No Deposit</th>\n",
       "      <th>Non Refund</th>\n",
       "      <th>Refundable</th>\n",
       "    </tr>\n",
       "  </thead>\n",
       "  <tbody>\n",
       "    <tr>\n",
       "      <th>0</th>\n",
       "      <td>1</td>\n",
       "      <td>0</td>\n",
       "      <td>0</td>\n",
       "    </tr>\n",
       "    <tr>\n",
       "      <th>1</th>\n",
       "      <td>1</td>\n",
       "      <td>0</td>\n",
       "      <td>0</td>\n",
       "    </tr>\n",
       "    <tr>\n",
       "      <th>2</th>\n",
       "      <td>1</td>\n",
       "      <td>0</td>\n",
       "      <td>0</td>\n",
       "    </tr>\n",
       "    <tr>\n",
       "      <th>3</th>\n",
       "      <td>1</td>\n",
       "      <td>0</td>\n",
       "      <td>0</td>\n",
       "    </tr>\n",
       "    <tr>\n",
       "      <th>4</th>\n",
       "      <td>1</td>\n",
       "      <td>0</td>\n",
       "      <td>0</td>\n",
       "    </tr>\n",
       "    <tr>\n",
       "      <th>...</th>\n",
       "      <td>...</td>\n",
       "      <td>...</td>\n",
       "      <td>...</td>\n",
       "    </tr>\n",
       "    <tr>\n",
       "      <th>113404</th>\n",
       "      <td>1</td>\n",
       "      <td>0</td>\n",
       "      <td>0</td>\n",
       "    </tr>\n",
       "    <tr>\n",
       "      <th>113405</th>\n",
       "      <td>1</td>\n",
       "      <td>0</td>\n",
       "      <td>0</td>\n",
       "    </tr>\n",
       "    <tr>\n",
       "      <th>113406</th>\n",
       "      <td>1</td>\n",
       "      <td>0</td>\n",
       "      <td>0</td>\n",
       "    </tr>\n",
       "    <tr>\n",
       "      <th>113407</th>\n",
       "      <td>1</td>\n",
       "      <td>0</td>\n",
       "      <td>0</td>\n",
       "    </tr>\n",
       "    <tr>\n",
       "      <th>113408</th>\n",
       "      <td>1</td>\n",
       "      <td>0</td>\n",
       "      <td>0</td>\n",
       "    </tr>\n",
       "  </tbody>\n",
       "</table>\n",
       "<p>113409 rows × 3 columns</p>\n",
       "</div>"
      ],
      "text/plain": [
       "        No Deposit  Non Refund  Refundable\n",
       "0                1           0           0\n",
       "1                1           0           0\n",
       "2                1           0           0\n",
       "3                1           0           0\n",
       "4                1           0           0\n",
       "...            ...         ...         ...\n",
       "113404           1           0           0\n",
       "113405           1           0           0\n",
       "113406           1           0           0\n",
       "113407           1           0           0\n",
       "113408           1           0           0\n",
       "\n",
       "[113409 rows x 3 columns]"
      ]
     },
     "execution_count": 27,
     "metadata": {},
     "output_type": "execute_result"
    }
   ],
   "source": [
    "pd.get_dummies(tb_hotel[\"deposit_type\"])\n"
   ]
  },
  {
   "cell_type": "code",
   "execution_count": 28,
   "metadata": {},
   "outputs": [
    {
     "data": {
      "text/html": [
       "<div>\n",
       "<style scoped>\n",
       "    .dataframe tbody tr th:only-of-type {\n",
       "        vertical-align: middle;\n",
       "    }\n",
       "\n",
       "    .dataframe tbody tr th {\n",
       "        vertical-align: top;\n",
       "    }\n",
       "\n",
       "    .dataframe thead th {\n",
       "        text-align: right;\n",
       "    }\n",
       "</style>\n",
       "<table border=\"1\" class=\"dataframe\">\n",
       "  <thead>\n",
       "    <tr style=\"text-align: right;\">\n",
       "      <th></th>\n",
       "      <th>B</th>\n",
       "      <th>C</th>\n",
       "      <th>D</th>\n",
       "      <th>E</th>\n",
       "      <th>F</th>\n",
       "      <th>G</th>\n",
       "      <th>H</th>\n",
       "      <th>L</th>\n",
       "      <th>P</th>\n",
       "    </tr>\n",
       "  </thead>\n",
       "  <tbody>\n",
       "    <tr>\n",
       "      <th>0</th>\n",
       "      <td>0</td>\n",
       "      <td>1</td>\n",
       "      <td>0</td>\n",
       "      <td>0</td>\n",
       "      <td>0</td>\n",
       "      <td>0</td>\n",
       "      <td>0</td>\n",
       "      <td>0</td>\n",
       "      <td>0</td>\n",
       "    </tr>\n",
       "    <tr>\n",
       "      <th>1</th>\n",
       "      <td>0</td>\n",
       "      <td>1</td>\n",
       "      <td>0</td>\n",
       "      <td>0</td>\n",
       "      <td>0</td>\n",
       "      <td>0</td>\n",
       "      <td>0</td>\n",
       "      <td>0</td>\n",
       "      <td>0</td>\n",
       "    </tr>\n",
       "    <tr>\n",
       "      <th>2</th>\n",
       "      <td>0</td>\n",
       "      <td>0</td>\n",
       "      <td>0</td>\n",
       "      <td>0</td>\n",
       "      <td>0</td>\n",
       "      <td>0</td>\n",
       "      <td>0</td>\n",
       "      <td>0</td>\n",
       "      <td>0</td>\n",
       "    </tr>\n",
       "    <tr>\n",
       "      <th>3</th>\n",
       "      <td>0</td>\n",
       "      <td>0</td>\n",
       "      <td>0</td>\n",
       "      <td>0</td>\n",
       "      <td>0</td>\n",
       "      <td>0</td>\n",
       "      <td>0</td>\n",
       "      <td>0</td>\n",
       "      <td>0</td>\n",
       "    </tr>\n",
       "    <tr>\n",
       "      <th>4</th>\n",
       "      <td>0</td>\n",
       "      <td>0</td>\n",
       "      <td>0</td>\n",
       "      <td>0</td>\n",
       "      <td>0</td>\n",
       "      <td>0</td>\n",
       "      <td>0</td>\n",
       "      <td>0</td>\n",
       "      <td>0</td>\n",
       "    </tr>\n",
       "    <tr>\n",
       "      <th>...</th>\n",
       "      <td>...</td>\n",
       "      <td>...</td>\n",
       "      <td>...</td>\n",
       "      <td>...</td>\n",
       "      <td>...</td>\n",
       "      <td>...</td>\n",
       "      <td>...</td>\n",
       "      <td>...</td>\n",
       "      <td>...</td>\n",
       "    </tr>\n",
       "    <tr>\n",
       "      <th>113404</th>\n",
       "      <td>0</td>\n",
       "      <td>0</td>\n",
       "      <td>0</td>\n",
       "      <td>0</td>\n",
       "      <td>0</td>\n",
       "      <td>0</td>\n",
       "      <td>0</td>\n",
       "      <td>0</td>\n",
       "      <td>0</td>\n",
       "    </tr>\n",
       "    <tr>\n",
       "      <th>113405</th>\n",
       "      <td>0</td>\n",
       "      <td>0</td>\n",
       "      <td>0</td>\n",
       "      <td>1</td>\n",
       "      <td>0</td>\n",
       "      <td>0</td>\n",
       "      <td>0</td>\n",
       "      <td>0</td>\n",
       "      <td>0</td>\n",
       "    </tr>\n",
       "    <tr>\n",
       "      <th>113406</th>\n",
       "      <td>0</td>\n",
       "      <td>0</td>\n",
       "      <td>1</td>\n",
       "      <td>0</td>\n",
       "      <td>0</td>\n",
       "      <td>0</td>\n",
       "      <td>0</td>\n",
       "      <td>0</td>\n",
       "      <td>0</td>\n",
       "    </tr>\n",
       "    <tr>\n",
       "      <th>113407</th>\n",
       "      <td>0</td>\n",
       "      <td>0</td>\n",
       "      <td>0</td>\n",
       "      <td>0</td>\n",
       "      <td>0</td>\n",
       "      <td>0</td>\n",
       "      <td>0</td>\n",
       "      <td>0</td>\n",
       "      <td>0</td>\n",
       "    </tr>\n",
       "    <tr>\n",
       "      <th>113408</th>\n",
       "      <td>0</td>\n",
       "      <td>0</td>\n",
       "      <td>0</td>\n",
       "      <td>0</td>\n",
       "      <td>0</td>\n",
       "      <td>0</td>\n",
       "      <td>0</td>\n",
       "      <td>0</td>\n",
       "      <td>0</td>\n",
       "    </tr>\n",
       "  </tbody>\n",
       "</table>\n",
       "<p>113409 rows × 9 columns</p>\n",
       "</div>"
      ],
      "text/plain": [
       "        B  C  D  E  F  G  H  L  P\n",
       "0       0  1  0  0  0  0  0  0  0\n",
       "1       0  1  0  0  0  0  0  0  0\n",
       "2       0  0  0  0  0  0  0  0  0\n",
       "3       0  0  0  0  0  0  0  0  0\n",
       "4       0  0  0  0  0  0  0  0  0\n",
       "...    .. .. .. .. .. .. .. .. ..\n",
       "113404  0  0  0  0  0  0  0  0  0\n",
       "113405  0  0  0  1  0  0  0  0  0\n",
       "113406  0  0  1  0  0  0  0  0  0\n",
       "113407  0  0  0  0  0  0  0  0  0\n",
       "113408  0  0  0  0  0  0  0  0  0\n",
       "\n",
       "[113409 rows x 9 columns]"
      ]
     },
     "execution_count": 28,
     "metadata": {},
     "output_type": "execute_result"
    }
   ],
   "source": [
    "pd.get_dummies(tb_hotel[\"reserved_room_type\"], drop_first=True)\n"
   ]
  },
  {
   "cell_type": "markdown",
   "metadata": {},
   "source": [
    "Embora a função `pd.get_dummies` seja muito simples de se utilizar ela tem um problema quando estamos lidando com modelos preditivos: os dados que vamos prever podem contem menos níveis das variáveis categóricas, levando a construção de menos colunas:"
   ]
  },
  {
   "cell_type": "code",
   "execution_count": 29,
   "metadata": {},
   "outputs": [],
   "source": [
    "samp = tb_hotel[0:1]\n"
   ]
  },
  {
   "cell_type": "code",
   "execution_count": 30,
   "metadata": {},
   "outputs": [
    {
     "data": {
      "text/html": [
       "<div>\n",
       "<style scoped>\n",
       "    .dataframe tbody tr th:only-of-type {\n",
       "        vertical-align: middle;\n",
       "    }\n",
       "\n",
       "    .dataframe tbody tr th {\n",
       "        vertical-align: top;\n",
       "    }\n",
       "\n",
       "    .dataframe thead th {\n",
       "        text-align: right;\n",
       "    }\n",
       "</style>\n",
       "<table border=\"1\" class=\"dataframe\">\n",
       "  <thead>\n",
       "    <tr style=\"text-align: right;\">\n",
       "      <th></th>\n",
       "      <th>reserved_room_type_C</th>\n",
       "      <th>hotel_Resort Hotel</th>\n",
       "    </tr>\n",
       "  </thead>\n",
       "  <tbody>\n",
       "    <tr>\n",
       "      <th>0</th>\n",
       "      <td>1</td>\n",
       "      <td>1</td>\n",
       "    </tr>\n",
       "  </tbody>\n",
       "</table>\n",
       "</div>"
      ],
      "text/plain": [
       "   reserved_room_type_C  hotel_Resort Hotel\n",
       "0                     1                   1"
      ]
     },
     "execution_count": 30,
     "metadata": {},
     "output_type": "execute_result"
    }
   ],
   "source": [
    "pd.get_dummies(samp[[\"reserved_room_type\", \"hotel\"]]).head()\n"
   ]
  },
  {
   "cell_type": "markdown",
   "metadata": {},
   "source": [
    "Os modelos preditivos esperam sempre o mesmo número de colunas que alimentamos na fase de treinamento... Precisamos de uma forma de criar colunas para cada nível que tinhamos no conjunto original, mesmo que elas sejam 0 por completo.\n",
    "\n",
    "A forma mais segura de construir isso é através do objeto `OneHotEncoder` da `sklearn.preprocessing`."
   ]
  },
  {
   "cell_type": "code",
   "execution_count": 31,
   "metadata": {},
   "outputs": [],
   "source": [
    "from sklearn.preprocessing import OneHotEncoder\n"
   ]
  },
  {
   "cell_type": "markdown",
   "metadata": {},
   "source": [
    "Vamos criar o objeto com dois argumentos:\n",
    "\n",
    "* `sparse = False` para que ele retorne um array e não uma matriz esparsa\n",
    "* `drop = 'First'` para que ele não crie dummies colineares\n",
    "\n",
    "Utilizamos o argumento `sparse` apenas se vamos transformar o dado em um DataFrame. Caso vá ser alimentado diretamente ao modelo, náo precisamos adicionar isso."
   ]
  },
  {
   "cell_type": "code",
   "execution_count": 32,
   "metadata": {},
   "outputs": [
    {
     "data": {
      "text/plain": [
       "OneHotEncoder(drop='first', sparse=False)"
      ]
     },
     "execution_count": 32,
     "metadata": {},
     "output_type": "execute_result"
    }
   ],
   "source": [
    "ohe_fit = OneHotEncoder(sparse=False, drop=\"first\")\n",
    "ohe_fit.fit(tb_hotel[[\"deposit_type\", \"hotel\"]])\n"
   ]
  },
  {
   "cell_type": "code",
   "execution_count": 33,
   "metadata": {},
   "outputs": [
    {
     "data": {
      "text/plain": [
       "array([[0., 0., 1.],\n",
       "       [0., 0., 1.],\n",
       "       [0., 0., 1.],\n",
       "       ...,\n",
       "       [0., 0., 0.],\n",
       "       [0., 0., 0.],\n",
       "       [0., 0., 0.]])"
      ]
     },
     "execution_count": 33,
     "metadata": {},
     "output_type": "execute_result"
    }
   ],
   "source": [
    "ohe_fit.transform(tb_hotel[[\"deposit_type\", \"hotel\"]])\n"
   ]
  },
  {
   "cell_type": "markdown",
   "metadata": {},
   "source": [
    "O `OneHotEncoder` produz um array sem os nomes das colunas criadas! Caso queiramos recriar o comportamento da `pd.get_dummies` precisamos extrair o nome das colunas e criar um **DataFrame** com isso."
   ]
  },
  {
   "cell_type": "code",
   "execution_count": 34,
   "metadata": {},
   "outputs": [
    {
     "data": {
      "text/html": [
       "<div>\n",
       "<style scoped>\n",
       "    .dataframe tbody tr th:only-of-type {\n",
       "        vertical-align: middle;\n",
       "    }\n",
       "\n",
       "    .dataframe tbody tr th {\n",
       "        vertical-align: top;\n",
       "    }\n",
       "\n",
       "    .dataframe thead th {\n",
       "        text-align: right;\n",
       "    }\n",
       "</style>\n",
       "<table border=\"1\" class=\"dataframe\">\n",
       "  <thead>\n",
       "    <tr style=\"text-align: right;\">\n",
       "      <th></th>\n",
       "      <th>deposit_type_Non Refund</th>\n",
       "      <th>deposit_type_Refundable</th>\n",
       "      <th>hotel_Resort Hotel</th>\n",
       "    </tr>\n",
       "  </thead>\n",
       "  <tbody>\n",
       "    <tr>\n",
       "      <th>0</th>\n",
       "      <td>0.0</td>\n",
       "      <td>0.0</td>\n",
       "      <td>1.0</td>\n",
       "    </tr>\n",
       "    <tr>\n",
       "      <th>1</th>\n",
       "      <td>0.0</td>\n",
       "      <td>0.0</td>\n",
       "      <td>1.0</td>\n",
       "    </tr>\n",
       "    <tr>\n",
       "      <th>2</th>\n",
       "      <td>0.0</td>\n",
       "      <td>0.0</td>\n",
       "      <td>1.0</td>\n",
       "    </tr>\n",
       "    <tr>\n",
       "      <th>3</th>\n",
       "      <td>0.0</td>\n",
       "      <td>0.0</td>\n",
       "      <td>1.0</td>\n",
       "    </tr>\n",
       "    <tr>\n",
       "      <th>4</th>\n",
       "      <td>0.0</td>\n",
       "      <td>0.0</td>\n",
       "      <td>1.0</td>\n",
       "    </tr>\n",
       "    <tr>\n",
       "      <th>...</th>\n",
       "      <td>...</td>\n",
       "      <td>...</td>\n",
       "      <td>...</td>\n",
       "    </tr>\n",
       "    <tr>\n",
       "      <th>113404</th>\n",
       "      <td>0.0</td>\n",
       "      <td>0.0</td>\n",
       "      <td>0.0</td>\n",
       "    </tr>\n",
       "    <tr>\n",
       "      <th>113405</th>\n",
       "      <td>0.0</td>\n",
       "      <td>0.0</td>\n",
       "      <td>0.0</td>\n",
       "    </tr>\n",
       "    <tr>\n",
       "      <th>113406</th>\n",
       "      <td>0.0</td>\n",
       "      <td>0.0</td>\n",
       "      <td>0.0</td>\n",
       "    </tr>\n",
       "    <tr>\n",
       "      <th>113407</th>\n",
       "      <td>0.0</td>\n",
       "      <td>0.0</td>\n",
       "      <td>0.0</td>\n",
       "    </tr>\n",
       "    <tr>\n",
       "      <th>113408</th>\n",
       "      <td>0.0</td>\n",
       "      <td>0.0</td>\n",
       "      <td>0.0</td>\n",
       "    </tr>\n",
       "  </tbody>\n",
       "</table>\n",
       "<p>113409 rows × 3 columns</p>\n",
       "</div>"
      ],
      "text/plain": [
       "        deposit_type_Non Refund  deposit_type_Refundable  hotel_Resort Hotel\n",
       "0                           0.0                      0.0                 1.0\n",
       "1                           0.0                      0.0                 1.0\n",
       "2                           0.0                      0.0                 1.0\n",
       "3                           0.0                      0.0                 1.0\n",
       "4                           0.0                      0.0                 1.0\n",
       "...                         ...                      ...                 ...\n",
       "113404                      0.0                      0.0                 0.0\n",
       "113405                      0.0                      0.0                 0.0\n",
       "113406                      0.0                      0.0                 0.0\n",
       "113407                      0.0                      0.0                 0.0\n",
       "113408                      0.0                      0.0                 0.0\n",
       "\n",
       "[113409 rows x 3 columns]"
      ]
     },
     "execution_count": 34,
     "metadata": {},
     "output_type": "execute_result"
    }
   ],
   "source": [
    "pd.DataFrame(\n",
    "    ohe_fit.transform(tb_hotel[[\"deposit_type\", \"hotel\"]]),  # Matriz de dados\n",
    "    columns=ohe_fit.get_feature_names_out(),\n",
    ")\n"
   ]
  },
  {
   "cell_type": "markdown",
   "metadata": {},
   "source": [
    "Vamos confirmar como o `OneHotEncoder` se comporta em nossos dados que não tem todos níveis de cada categoria."
   ]
  },
  {
   "cell_type": "code",
   "execution_count": 35,
   "metadata": {},
   "outputs": [
    {
     "data": {
      "text/html": [
       "<div>\n",
       "<style scoped>\n",
       "    .dataframe tbody tr th:only-of-type {\n",
       "        vertical-align: middle;\n",
       "    }\n",
       "\n",
       "    .dataframe tbody tr th {\n",
       "        vertical-align: top;\n",
       "    }\n",
       "\n",
       "    .dataframe thead th {\n",
       "        text-align: right;\n",
       "    }\n",
       "</style>\n",
       "<table border=\"1\" class=\"dataframe\">\n",
       "  <thead>\n",
       "    <tr style=\"text-align: right;\">\n",
       "      <th></th>\n",
       "      <th>deposit_type_Non Refund</th>\n",
       "      <th>deposit_type_Refundable</th>\n",
       "      <th>hotel_Resort Hotel</th>\n",
       "    </tr>\n",
       "  </thead>\n",
       "  <tbody>\n",
       "    <tr>\n",
       "      <th>0</th>\n",
       "      <td>0.0</td>\n",
       "      <td>0.0</td>\n",
       "      <td>1.0</td>\n",
       "    </tr>\n",
       "  </tbody>\n",
       "</table>\n",
       "</div>"
      ],
      "text/plain": [
       "   deposit_type_Non Refund  deposit_type_Refundable  hotel_Resort Hotel\n",
       "0                      0.0                      0.0                 1.0"
      ]
     },
     "execution_count": 35,
     "metadata": {},
     "output_type": "execute_result"
    }
   ],
   "source": [
    "pd.DataFrame(\n",
    "    ohe_fit.transform(samp[[\"deposit_type\", \"hotel\"]]),  # Matriz de dados\n",
    "    columns=ohe_fit.get_feature_names_out(),\n",
    ").head()\n"
   ]
  },
  {
   "cell_type": "markdown",
   "metadata": {},
   "source": [
    "Perfeito! Quando utilizamos um ou o outro? A função `pd.get_dummies` é utilizada para uma exploração mais rápida, enquanto o objeto `OneHotEncoder` é utilizado em pipelines preditivas."
   ]
  },
  {
   "cell_type": "markdown",
   "metadata": {},
   "source": [
    "#### Redução de features categóricas"
   ]
  },
  {
   "cell_type": "markdown",
   "metadata": {},
   "source": [
    "A estratégia de one hot encoding produz muitos features - para cada variável categórica tratada dessa maneira acabamos incorporando `n` novas variáveis, onde `n` é o número de níveis (valor únicos) da categoria transformada.\n",
    "\n",
    "Será que podemos utilizar um algoritmo de redução de features, como PCA, para reduzir esse número de variáveis?"
   ]
  },
  {
   "cell_type": "code",
   "execution_count": 36,
   "metadata": {},
   "outputs": [],
   "source": [
    "from sklearn.decomposition import PCA\n"
   ]
  },
  {
   "cell_type": "markdown",
   "metadata": {},
   "source": [
    "Primeiro precisamos criar a tabela de variáveis dummies a partir das categorias de nosso dataset"
   ]
  },
  {
   "cell_type": "code",
   "execution_count": 37,
   "metadata": {},
   "outputs": [
    {
     "name": "stdout",
     "output_type": "stream",
     "text": [
      "<class 'pandas.core.frame.DataFrame'>\n",
      "RangeIndex: 113409 entries, 0 to 113408\n",
      "Data columns (total 11 columns):\n",
      " #   Column                   Non-Null Count   Dtype \n",
      "---  ------                   --------------   ----- \n",
      " 0   hotel                    113409 non-null  object\n",
      " 1   meal                     113409 non-null  object\n",
      " 2   country                  112951 non-null  object\n",
      " 3   market_segment           113409 non-null  object\n",
      " 4   distribution_channel     113409 non-null  object\n",
      " 5   reserved_room_type       113409 non-null  object\n",
      " 6   assigned_room_type       113409 non-null  object\n",
      " 7   deposit_type             113409 non-null  object\n",
      " 8   customer_type            113409 non-null  object\n",
      " 9   reservation_status_date  113409 non-null  object\n",
      " 10  arrival_date             113409 non-null  object\n",
      "dtypes: object(11)\n",
      "memory usage: 9.5+ MB\n"
     ]
    }
   ],
   "source": [
    "tb_hotel.select_dtypes(object).info()\n"
   ]
  },
  {
   "cell_type": "markdown",
   "metadata": {},
   "source": [
    "Utilizando o método `select_dtypes` podemos ver todas as variáveis não-numéricas do dataset. Além das duas datas, todas as outras são variáveis categóricas. Antes de utilizar o método acima, no entanto, precisamos garantir que o dataset em questão não tenha variáveis categóricas aparecendo numericamente."
   ]
  },
  {
   "cell_type": "code",
   "execution_count": 38,
   "metadata": {},
   "outputs": [
    {
     "name": "stdout",
     "output_type": "stream",
     "text": [
      "(113409, 215)\n"
     ]
    }
   ],
   "source": [
    "# Vamos montar um DataFrame apenas com as variáveis categóricas combinando select_dtypes com drop\n",
    "tb_hotel_cat = (\n",
    "    tb_hotel.select_dtypes(object)\n",
    "    .drop([\"reservation_status_date\", \"arrival_date\"], axis=1)\n",
    "    .copy()\n",
    ")\n",
    "# Agora vamos utilizar o OneHotEncoder para converter este dataframe em um novo dataframe com as\n",
    "# variáveis dummies\n",
    "hotel_encoder = OneHotEncoder(drop=\"first\", sparse=False)\n",
    "tb_hotel_dum = pd.DataFrame(\n",
    "    hotel_encoder.fit_transform(tb_hotel_cat),\n",
    "    columns=hotel_encoder.get_feature_names_out(),\n",
    ")\n",
    "print(tb_hotel_dum.shape)\n"
   ]
  },
  {
   "cell_type": "code",
   "execution_count": 39,
   "metadata": {},
   "outputs": [
    {
     "data": {
      "text/html": [
       "<div>\n",
       "<style scoped>\n",
       "    .dataframe tbody tr th:only-of-type {\n",
       "        vertical-align: middle;\n",
       "    }\n",
       "\n",
       "    .dataframe tbody tr th {\n",
       "        vertical-align: top;\n",
       "    }\n",
       "\n",
       "    .dataframe thead th {\n",
       "        text-align: right;\n",
       "    }\n",
       "</style>\n",
       "<table border=\"1\" class=\"dataframe\">\n",
       "  <thead>\n",
       "    <tr style=\"text-align: right;\">\n",
       "      <th></th>\n",
       "      <th>hotel_Resort Hotel</th>\n",
       "      <th>meal_FB</th>\n",
       "      <th>meal_HB</th>\n",
       "      <th>meal_SC</th>\n",
       "      <th>meal_Undefined</th>\n",
       "      <th>country_AGO</th>\n",
       "      <th>country_AIA</th>\n",
       "      <th>country_ALB</th>\n",
       "      <th>country_AND</th>\n",
       "      <th>country_ARE</th>\n",
       "      <th>...</th>\n",
       "      <th>assigned_room_type_H</th>\n",
       "      <th>assigned_room_type_I</th>\n",
       "      <th>assigned_room_type_K</th>\n",
       "      <th>assigned_room_type_L</th>\n",
       "      <th>assigned_room_type_P</th>\n",
       "      <th>deposit_type_Non Refund</th>\n",
       "      <th>deposit_type_Refundable</th>\n",
       "      <th>customer_type_Group</th>\n",
       "      <th>customer_type_Transient</th>\n",
       "      <th>customer_type_Transient-Party</th>\n",
       "    </tr>\n",
       "  </thead>\n",
       "  <tbody>\n",
       "    <tr>\n",
       "      <th>0</th>\n",
       "      <td>1.0</td>\n",
       "      <td>0.0</td>\n",
       "      <td>0.0</td>\n",
       "      <td>0.0</td>\n",
       "      <td>0.0</td>\n",
       "      <td>0.0</td>\n",
       "      <td>0.0</td>\n",
       "      <td>0.0</td>\n",
       "      <td>0.0</td>\n",
       "      <td>0.0</td>\n",
       "      <td>...</td>\n",
       "      <td>0.0</td>\n",
       "      <td>0.0</td>\n",
       "      <td>0.0</td>\n",
       "      <td>0.0</td>\n",
       "      <td>0.0</td>\n",
       "      <td>0.0</td>\n",
       "      <td>0.0</td>\n",
       "      <td>0.0</td>\n",
       "      <td>1.0</td>\n",
       "      <td>0.0</td>\n",
       "    </tr>\n",
       "    <tr>\n",
       "      <th>1</th>\n",
       "      <td>1.0</td>\n",
       "      <td>0.0</td>\n",
       "      <td>0.0</td>\n",
       "      <td>0.0</td>\n",
       "      <td>0.0</td>\n",
       "      <td>0.0</td>\n",
       "      <td>0.0</td>\n",
       "      <td>0.0</td>\n",
       "      <td>0.0</td>\n",
       "      <td>0.0</td>\n",
       "      <td>...</td>\n",
       "      <td>0.0</td>\n",
       "      <td>0.0</td>\n",
       "      <td>0.0</td>\n",
       "      <td>0.0</td>\n",
       "      <td>0.0</td>\n",
       "      <td>0.0</td>\n",
       "      <td>0.0</td>\n",
       "      <td>0.0</td>\n",
       "      <td>1.0</td>\n",
       "      <td>0.0</td>\n",
       "    </tr>\n",
       "    <tr>\n",
       "      <th>2</th>\n",
       "      <td>1.0</td>\n",
       "      <td>0.0</td>\n",
       "      <td>0.0</td>\n",
       "      <td>0.0</td>\n",
       "      <td>0.0</td>\n",
       "      <td>0.0</td>\n",
       "      <td>0.0</td>\n",
       "      <td>0.0</td>\n",
       "      <td>0.0</td>\n",
       "      <td>0.0</td>\n",
       "      <td>...</td>\n",
       "      <td>0.0</td>\n",
       "      <td>0.0</td>\n",
       "      <td>0.0</td>\n",
       "      <td>0.0</td>\n",
       "      <td>0.0</td>\n",
       "      <td>0.0</td>\n",
       "      <td>0.0</td>\n",
       "      <td>0.0</td>\n",
       "      <td>1.0</td>\n",
       "      <td>0.0</td>\n",
       "    </tr>\n",
       "    <tr>\n",
       "      <th>3</th>\n",
       "      <td>1.0</td>\n",
       "      <td>0.0</td>\n",
       "      <td>0.0</td>\n",
       "      <td>0.0</td>\n",
       "      <td>0.0</td>\n",
       "      <td>0.0</td>\n",
       "      <td>0.0</td>\n",
       "      <td>0.0</td>\n",
       "      <td>0.0</td>\n",
       "      <td>0.0</td>\n",
       "      <td>...</td>\n",
       "      <td>0.0</td>\n",
       "      <td>0.0</td>\n",
       "      <td>0.0</td>\n",
       "      <td>0.0</td>\n",
       "      <td>0.0</td>\n",
       "      <td>0.0</td>\n",
       "      <td>0.0</td>\n",
       "      <td>0.0</td>\n",
       "      <td>1.0</td>\n",
       "      <td>0.0</td>\n",
       "    </tr>\n",
       "    <tr>\n",
       "      <th>4</th>\n",
       "      <td>1.0</td>\n",
       "      <td>0.0</td>\n",
       "      <td>0.0</td>\n",
       "      <td>0.0</td>\n",
       "      <td>0.0</td>\n",
       "      <td>0.0</td>\n",
       "      <td>0.0</td>\n",
       "      <td>0.0</td>\n",
       "      <td>0.0</td>\n",
       "      <td>0.0</td>\n",
       "      <td>...</td>\n",
       "      <td>0.0</td>\n",
       "      <td>0.0</td>\n",
       "      <td>0.0</td>\n",
       "      <td>0.0</td>\n",
       "      <td>0.0</td>\n",
       "      <td>0.0</td>\n",
       "      <td>0.0</td>\n",
       "      <td>0.0</td>\n",
       "      <td>1.0</td>\n",
       "      <td>0.0</td>\n",
       "    </tr>\n",
       "    <tr>\n",
       "      <th>...</th>\n",
       "      <td>...</td>\n",
       "      <td>...</td>\n",
       "      <td>...</td>\n",
       "      <td>...</td>\n",
       "      <td>...</td>\n",
       "      <td>...</td>\n",
       "      <td>...</td>\n",
       "      <td>...</td>\n",
       "      <td>...</td>\n",
       "      <td>...</td>\n",
       "      <td>...</td>\n",
       "      <td>...</td>\n",
       "      <td>...</td>\n",
       "      <td>...</td>\n",
       "      <td>...</td>\n",
       "      <td>...</td>\n",
       "      <td>...</td>\n",
       "      <td>...</td>\n",
       "      <td>...</td>\n",
       "      <td>...</td>\n",
       "      <td>...</td>\n",
       "    </tr>\n",
       "    <tr>\n",
       "      <th>113404</th>\n",
       "      <td>0.0</td>\n",
       "      <td>0.0</td>\n",
       "      <td>0.0</td>\n",
       "      <td>0.0</td>\n",
       "      <td>0.0</td>\n",
       "      <td>0.0</td>\n",
       "      <td>0.0</td>\n",
       "      <td>0.0</td>\n",
       "      <td>0.0</td>\n",
       "      <td>0.0</td>\n",
       "      <td>...</td>\n",
       "      <td>0.0</td>\n",
       "      <td>0.0</td>\n",
       "      <td>0.0</td>\n",
       "      <td>0.0</td>\n",
       "      <td>0.0</td>\n",
       "      <td>0.0</td>\n",
       "      <td>0.0</td>\n",
       "      <td>0.0</td>\n",
       "      <td>1.0</td>\n",
       "      <td>0.0</td>\n",
       "    </tr>\n",
       "    <tr>\n",
       "      <th>113405</th>\n",
       "      <td>0.0</td>\n",
       "      <td>0.0</td>\n",
       "      <td>0.0</td>\n",
       "      <td>0.0</td>\n",
       "      <td>0.0</td>\n",
       "      <td>0.0</td>\n",
       "      <td>0.0</td>\n",
       "      <td>0.0</td>\n",
       "      <td>0.0</td>\n",
       "      <td>0.0</td>\n",
       "      <td>...</td>\n",
       "      <td>0.0</td>\n",
       "      <td>0.0</td>\n",
       "      <td>0.0</td>\n",
       "      <td>0.0</td>\n",
       "      <td>0.0</td>\n",
       "      <td>0.0</td>\n",
       "      <td>0.0</td>\n",
       "      <td>0.0</td>\n",
       "      <td>1.0</td>\n",
       "      <td>0.0</td>\n",
       "    </tr>\n",
       "    <tr>\n",
       "      <th>113406</th>\n",
       "      <td>0.0</td>\n",
       "      <td>0.0</td>\n",
       "      <td>0.0</td>\n",
       "      <td>0.0</td>\n",
       "      <td>0.0</td>\n",
       "      <td>0.0</td>\n",
       "      <td>0.0</td>\n",
       "      <td>0.0</td>\n",
       "      <td>0.0</td>\n",
       "      <td>0.0</td>\n",
       "      <td>...</td>\n",
       "      <td>0.0</td>\n",
       "      <td>0.0</td>\n",
       "      <td>0.0</td>\n",
       "      <td>0.0</td>\n",
       "      <td>0.0</td>\n",
       "      <td>0.0</td>\n",
       "      <td>0.0</td>\n",
       "      <td>0.0</td>\n",
       "      <td>1.0</td>\n",
       "      <td>0.0</td>\n",
       "    </tr>\n",
       "    <tr>\n",
       "      <th>113407</th>\n",
       "      <td>0.0</td>\n",
       "      <td>0.0</td>\n",
       "      <td>0.0</td>\n",
       "      <td>0.0</td>\n",
       "      <td>0.0</td>\n",
       "      <td>0.0</td>\n",
       "      <td>0.0</td>\n",
       "      <td>0.0</td>\n",
       "      <td>0.0</td>\n",
       "      <td>0.0</td>\n",
       "      <td>...</td>\n",
       "      <td>0.0</td>\n",
       "      <td>0.0</td>\n",
       "      <td>0.0</td>\n",
       "      <td>0.0</td>\n",
       "      <td>0.0</td>\n",
       "      <td>0.0</td>\n",
       "      <td>0.0</td>\n",
       "      <td>0.0</td>\n",
       "      <td>1.0</td>\n",
       "      <td>0.0</td>\n",
       "    </tr>\n",
       "    <tr>\n",
       "      <th>113408</th>\n",
       "      <td>0.0</td>\n",
       "      <td>0.0</td>\n",
       "      <td>1.0</td>\n",
       "      <td>0.0</td>\n",
       "      <td>0.0</td>\n",
       "      <td>0.0</td>\n",
       "      <td>0.0</td>\n",
       "      <td>0.0</td>\n",
       "      <td>0.0</td>\n",
       "      <td>0.0</td>\n",
       "      <td>...</td>\n",
       "      <td>0.0</td>\n",
       "      <td>0.0</td>\n",
       "      <td>0.0</td>\n",
       "      <td>0.0</td>\n",
       "      <td>0.0</td>\n",
       "      <td>0.0</td>\n",
       "      <td>0.0</td>\n",
       "      <td>0.0</td>\n",
       "      <td>1.0</td>\n",
       "      <td>0.0</td>\n",
       "    </tr>\n",
       "  </tbody>\n",
       "</table>\n",
       "<p>113409 rows × 215 columns</p>\n",
       "</div>"
      ],
      "text/plain": [
       "        hotel_Resort Hotel  meal_FB  meal_HB  meal_SC  meal_Undefined  \\\n",
       "0                      1.0      0.0      0.0      0.0             0.0   \n",
       "1                      1.0      0.0      0.0      0.0             0.0   \n",
       "2                      1.0      0.0      0.0      0.0             0.0   \n",
       "3                      1.0      0.0      0.0      0.0             0.0   \n",
       "4                      1.0      0.0      0.0      0.0             0.0   \n",
       "...                    ...      ...      ...      ...             ...   \n",
       "113404                 0.0      0.0      0.0      0.0             0.0   \n",
       "113405                 0.0      0.0      0.0      0.0             0.0   \n",
       "113406                 0.0      0.0      0.0      0.0             0.0   \n",
       "113407                 0.0      0.0      0.0      0.0             0.0   \n",
       "113408                 0.0      0.0      1.0      0.0             0.0   \n",
       "\n",
       "        country_AGO  country_AIA  country_ALB  country_AND  country_ARE  ...  \\\n",
       "0               0.0          0.0          0.0          0.0          0.0  ...   \n",
       "1               0.0          0.0          0.0          0.0          0.0  ...   \n",
       "2               0.0          0.0          0.0          0.0          0.0  ...   \n",
       "3               0.0          0.0          0.0          0.0          0.0  ...   \n",
       "4               0.0          0.0          0.0          0.0          0.0  ...   \n",
       "...             ...          ...          ...          ...          ...  ...   \n",
       "113404          0.0          0.0          0.0          0.0          0.0  ...   \n",
       "113405          0.0          0.0          0.0          0.0          0.0  ...   \n",
       "113406          0.0          0.0          0.0          0.0          0.0  ...   \n",
       "113407          0.0          0.0          0.0          0.0          0.0  ...   \n",
       "113408          0.0          0.0          0.0          0.0          0.0  ...   \n",
       "\n",
       "        assigned_room_type_H  assigned_room_type_I  assigned_room_type_K  \\\n",
       "0                        0.0                   0.0                   0.0   \n",
       "1                        0.0                   0.0                   0.0   \n",
       "2                        0.0                   0.0                   0.0   \n",
       "3                        0.0                   0.0                   0.0   \n",
       "4                        0.0                   0.0                   0.0   \n",
       "...                      ...                   ...                   ...   \n",
       "113404                   0.0                   0.0                   0.0   \n",
       "113405                   0.0                   0.0                   0.0   \n",
       "113406                   0.0                   0.0                   0.0   \n",
       "113407                   0.0                   0.0                   0.0   \n",
       "113408                   0.0                   0.0                   0.0   \n",
       "\n",
       "        assigned_room_type_L  assigned_room_type_P  deposit_type_Non Refund  \\\n",
       "0                        0.0                   0.0                      0.0   \n",
       "1                        0.0                   0.0                      0.0   \n",
       "2                        0.0                   0.0                      0.0   \n",
       "3                        0.0                   0.0                      0.0   \n",
       "4                        0.0                   0.0                      0.0   \n",
       "...                      ...                   ...                      ...   \n",
       "113404                   0.0                   0.0                      0.0   \n",
       "113405                   0.0                   0.0                      0.0   \n",
       "113406                   0.0                   0.0                      0.0   \n",
       "113407                   0.0                   0.0                      0.0   \n",
       "113408                   0.0                   0.0                      0.0   \n",
       "\n",
       "        deposit_type_Refundable  customer_type_Group  customer_type_Transient  \\\n",
       "0                           0.0                  0.0                      1.0   \n",
       "1                           0.0                  0.0                      1.0   \n",
       "2                           0.0                  0.0                      1.0   \n",
       "3                           0.0                  0.0                      1.0   \n",
       "4                           0.0                  0.0                      1.0   \n",
       "...                         ...                  ...                      ...   \n",
       "113404                      0.0                  0.0                      1.0   \n",
       "113405                      0.0                  0.0                      1.0   \n",
       "113406                      0.0                  0.0                      1.0   \n",
       "113407                      0.0                  0.0                      1.0   \n",
       "113408                      0.0                  0.0                      1.0   \n",
       "\n",
       "        customer_type_Transient-Party  \n",
       "0                                 0.0  \n",
       "1                                 0.0  \n",
       "2                                 0.0  \n",
       "3                                 0.0  \n",
       "4                                 0.0  \n",
       "...                               ...  \n",
       "113404                            0.0  \n",
       "113405                            0.0  \n",
       "113406                            0.0  \n",
       "113407                            0.0  \n",
       "113408                            0.0  \n",
       "\n",
       "[113409 rows x 215 columns]"
      ]
     },
     "execution_count": 39,
     "metadata": {},
     "output_type": "execute_result"
    }
   ],
   "source": [
    "tb_hotel_dum"
   ]
  },
  {
   "cell_type": "markdown",
   "metadata": {},
   "source": [
    "Como podemos ver, ao converter as 9 variáveis categóricas em dummies geramos um total de 215 variáveis! Vamos investigar como o PCA destas 215 variáveis se comporta."
   ]
  },
  {
   "cell_type": "code",
   "execution_count": 40,
   "metadata": {},
   "outputs": [
    {
     "data": {
      "text/plain": [
       "Text(0.5, 0.9, 'Screeplot da PCA de Variáveis Dummies')"
      ]
     },
     "execution_count": 40,
     "metadata": {},
     "output_type": "execute_result"
    },
    {
     "data": {
      "image/png": "[encoded data removed]",
      "text/plain": [
       "<Figure size 720x720 with 1 Axes>"
      ]
     },
     "metadata": {
      "needs_background": "light"
     },
     "output_type": "display_data"
    }
   ],
   "source": [
    "# Inicializamos o PCA e fittamos a tabela com variáveis dummies\n",
    "pca_dum = PCA()\n",
    "pca_dum.fit(tb_hotel_dum)\n",
    "# Vamos ver a contribuição dos 50 primeiros componentes\n",
    "fig, ax = plt.subplots(figsize=(10, 10))\n",
    "ax.plot(np.cumsum(pca_dum.explained_variance_ratio_[0:50]))\n",
    "ax.set_xlabel(\"# do Componente\")\n",
    "ax.set_ylabel(\"Proporção Acumulada da Variância Representada\")\n",
    "fig.suptitle(\"Screeplot da PCA de Variáveis Dummies\", y=0.9)\n"
   ]
  },
  {
   "cell_type": "markdown",
   "metadata": {},
   "source": [
    "A primeira vista, utilizando PCA conseguiremos reduzir este número de novas variáveis para algo mais tratável. Vamos utilizar a biblioteca `kneed` para estimar precisamente o número de componentes."
   ]
  },
  {
   "cell_type": "code",
   "execution_count": 41,
   "metadata": {},
   "outputs": [
    {
     "name": "stdout",
     "output_type": "stream",
     "text": [
      "13 componentes representando 81.38% da variância\n"
     ]
    },
    {
     "data": {
      "image/png": "[encoded data removed]",
      "text/plain": [
       "<Figure size 432x432 with 1 Axes>"
      ]
     },
     "metadata": {
      "needs_background": "light"
     },
     "output_type": "display_data"
    }
   ],
   "source": [
    "from kneed import KneeLocator\n",
    "\n",
    "kl = KneeLocator(\n",
    "    range(0, 50), np.cumsum(pca_dum.explained_variance_ratio_[0:50]), curve=\"concave\"\n",
    ")\n",
    "kl.plot_knee_normalized()\n",
    "print(f\"{kl.knee} componentes representando {round(kl.knee_y*100, 2)}% da variância\")\n"
   ]
  },
  {
   "cell_type": "markdown",
   "metadata": {},
   "source": [
    "Como podemos testar se a rotina acima representou bem as variáveis categóricas nestes 13 componentes? Como estamos tratando de um problema de classificação podemos testar o resultado de dois classificadores 1NN: um utilizando as variáveis dummy e o outro os componentes da PCA e comparar o erro entre eles."
   ]
  },
  {
   "cell_type": "code",
   "execution_count": 42,
   "metadata": {},
   "outputs": [],
   "source": [
    "from sklearn.model_selection import train_test_split\n",
    "from sklearn.neighbors import KNeighborsClassifier\n",
    "from sklearn.metrics import f1_score\n"
   ]
  },
  {
   "cell_type": "code",
   "execution_count": 43,
   "metadata": {},
   "outputs": [
    {
     "name": "stdout",
     "output_type": "stream",
     "text": [
      "Resultado KNN Original: 0.65\n",
      "Resultado KNN PCA: 0.64\n"
     ]
    }
   ],
   "source": [
    "# Primeiro dividimos as nossas variáveis em train e test\n",
    "X_train, X_test, y_train, y_test = train_test_split(\n",
    "    tb_hotel_dum, tb_hotel[\"is_cancelled\"], test_size=0.2\n",
    ")\n",
    "# Fitamos o PCA de 13 componentes sobre o conjunto X_train\n",
    "pca_fit = PCA(n_components=13)\n",
    "pca_train = pca_fit.fit_transform(X_train)\n",
    "# Geramos a pca_test utilizando o mesmo pca_fit\n",
    "pca_test = pca_fit.transform(X_test)\n",
    "# Inicializamos os dois modelos KNN\n",
    "knn_org = KNeighborsClassifier(n_neighbors=1)\n",
    "knn_pca = KNeighborsClassifier(n_neighbors=1)\n",
    "# Fitamos o modelo knn_org nos dados originais e o knn_pca nos dados da PCA\n",
    "knn_org.fit(X_train, y_train)\n",
    "knn_pca.fit(pca_train, y_train)\n",
    "# Avaliamos o erro de cada modelo sobre o conjunto teste\n",
    "f1_org = f1_score(y_test, knn_org.predict(X_test))\n",
    "f1_pca = f1_score(y_test, knn_pca.predict(pca_test))\n",
    "print(f\"Resultado KNN Original: {round(f1_org, 2)}\")\n",
    "print(f\"Resultado KNN PCA: {round(f1_pca, 2)}\")\n"
   ]
  },
  {
   "cell_type": "markdown",
   "metadata": {},
   "source": [
    "Podemos ver acima que, de um ponto de vista puramente preditivo, os dois resultados são praticamente equivalentes!\n",
    "\n",
    "Existem outras transformações que, para variáveis binarias (como as variáveis dummy) ou variáveis de contagem são mais efetivas que o PCA. Uma técnica tradicional utilizada é o NMF (fatoração de matrizes não-negativas)"
   ]
  },
  {
   "cell_type": "code",
   "execution_count": 44,
   "metadata": {},
   "outputs": [],
   "source": [
    "from sklearn.decomposition import NMF\n"
   ]
  },
  {
   "cell_type": "code",
   "execution_count": 46,
   "metadata": {},
   "outputs": [
    {
     "name": "stderr",
     "output_type": "stream",
     "text": [
      "/Users/pedroteche/opt/anaconda3/lib/python3.9/site-packages/sklearn/decomposition/_nmf.py:289: FutureWarning: The 'init' value, when 'init=None' and n_components is less than n_samples and n_features, will be changed from 'nndsvd' to 'nndsvda' in 1.1 (renaming of 0.26).\n",
      "  warnings.warn(\n"
     ]
    },
    {
     "name": "stdout",
     "output_type": "stream",
     "text": [
      "Resultado KNN Original: 0.65\n",
      "Resultado KNN PCA: 0.64\n",
      "Resultado KNN NMF: 0.64\n"
     ]
    }
   ],
   "source": [
    "nmf_fit = NMF(n_components=15)\n",
    "nmf_train = nmf_fit.fit_transform(X_train)\n",
    "nmf_test = nmf_fit.transform(X_test)\n",
    "knn_nmf = KNeighborsClassifier(n_neighbors=1)\n",
    "knn_nmf.fit(nmf_train, y_train)\n",
    "f1_nmf = f1_score(y_test, knn_nmf.predict(nmf_test))\n",
    "print(f\"Resultado KNN Original: {round(f1_org, 2)}\")\n",
    "print(f\"Resultado KNN PCA: {round(f1_pca, 2)}\")\n",
    "print(f\"Resultado KNN NMF: {round(f1_nmf, 2)}\")"
   ]
  },
  {
   "cell_type": "markdown",
   "metadata": {},
   "source": [
    "No entanto a escolha do número de componentes em um NMF é muito mais complexa que a escolha dos componentes do PCA - na construção de modelos preditivios podemos utilizar uma rotina semelhante a que utilizamos acima só que ao invés de comparar 3 dados diferentes (original, PCA e NMF) comparamos a performance utilizando diferentes números de componentes."
   ]
  },
  {
   "cell_type": "markdown",
   "metadata": {},
   "source": [
    "## Tratando variáveis datetime\n",
    "O primeiro passo para tratar variáveis de data (e datetime) é converte-las em objetos datetime."
   ]
  },
  {
   "cell_type": "code",
   "execution_count": 50,
   "metadata": {},
   "outputs": [
    {
     "data": {
      "text/plain": [
       "0    2015-07-01\n",
       "1    2015-07-01\n",
       "2    2015-07-01\n",
       "3    2015-07-01\n",
       "4    2015-07-01\n",
       "Name: arrival_date, dtype: object"
      ]
     },
     "execution_count": 50,
     "metadata": {},
     "output_type": "execute_result"
    }
   ],
   "source": [
    "tb_hotel[\"arrival_date\"].head()"
   ]
  },
  {
   "cell_type": "code",
   "execution_count": 47,
   "metadata": {},
   "outputs": [],
   "source": [
    "tb_hotel[\"arrival_dt\"] = pd.to_datetime(tb_hotel[\"arrival_date\"])\n",
    "tb_hotel[\"update_dt\"] = pd.to_datetime(tb_hotel[\"reservation_status_date\"])"
   ]
  },
  {
   "cell_type": "markdown",
   "metadata": {},
   "source": [
    "Variáveis de data são algo entre variáveis continuas e variáveis categóricas - muitas vezes utilizamos as duas interpretações em um mesmo problema!"
   ]
  },
  {
   "cell_type": "code",
   "execution_count": 48,
   "metadata": {},
   "outputs": [
    {
     "data": {
      "text/plain": [
       "count                           113409\n",
       "mean     2016-08-28 11:29:34.240139520\n",
       "min                2015-07-01 00:00:00\n",
       "25%                2016-03-13 00:00:00\n",
       "50%                2016-09-05 00:00:00\n",
       "75%                2017-03-18 00:00:00\n",
       "max                2017-08-31 00:00:00\n",
       "Name: arrival_dt, dtype: object"
      ]
     },
     "execution_count": 48,
     "metadata": {},
     "output_type": "execute_result"
    }
   ],
   "source": [
    "tb_hotel[\"arrival_dt\"].describe(datetime_is_numeric=True)\n"
   ]
  },
  {
   "cell_type": "code",
   "execution_count": 49,
   "metadata": {},
   "outputs": [
    {
     "data": {
      "text/plain": [
       "count                           113409\n",
       "mean     2016-07-29 17:37:03.537814528\n",
       "min                2014-10-17 00:00:00\n",
       "25%                2016-02-01 00:00:00\n",
       "50%                2016-08-06 00:00:00\n",
       "75%                2017-02-08 00:00:00\n",
       "max                2017-09-14 00:00:00\n",
       "Name: update_dt, dtype: object"
      ]
     },
     "execution_count": 49,
     "metadata": {},
     "output_type": "execute_result"
    }
   ],
   "source": [
    "tb_hotel[\"update_dt\"].describe(datetime_is_numeric=True)\n"
   ]
  },
  {
   "cell_type": "markdown",
   "metadata": {},
   "source": [
    "Uma tarefa comum é calcular o tempo elapsado entre duas variáveis de data em alguma unidade de tempo (dias, horas, segundos, etc...)."
   ]
  },
  {
   "cell_type": "code",
   "execution_count": 51,
   "metadata": {},
   "outputs": [
    {
     "data": {
      "text/plain": [
       "count                        113409\n",
       "mean     29 days 17:52:30.702325212\n",
       "std      70 days 03:33:11.023735685\n",
       "min              -69 days +00:00:00\n",
       "25%               -3 days +00:00:00\n",
       "50%               -1 days +00:00:00\n",
       "75%                26 days 00:00:00\n",
       "max               526 days 00:00:00\n",
       "Name: diff_reserva_arrival, dtype: object"
      ]
     },
     "execution_count": 51,
     "metadata": {},
     "output_type": "execute_result"
    }
   ],
   "source": [
    "tb_hotel[\"diff_reserva_arrival\"] = tb_hotel[\"arrival_dt\"] - tb_hotel[\"update_dt\"]\n",
    "tb_hotel[\"diff_reserva_arrival\"].describe()\n"
   ]
  },
  {
   "cell_type": "markdown",
   "metadata": {},
   "source": [
    "Como podemos ver acima, o objeto resultante da subtração de datas é um objeto difftime. Podemos usar o atributo `.dt` para acessar os métodos de datas sem precisar construir um `apply` para converte-lo em uma variável numérica."
   ]
  },
  {
   "cell_type": "code",
   "execution_count": 52,
   "metadata": {},
   "outputs": [
    {
     "data": {
      "text/plain": [
       "0              0.0\n",
       "1              0.0\n",
       "2         -86400.0\n",
       "3         -86400.0\n",
       "4        -172800.0\n",
       "            ...   \n",
       "113404   -604800.0\n",
       "113405   -604800.0\n",
       "113406   -604800.0\n",
       "113407   -604800.0\n",
       "113408   -777600.0\n",
       "Name: sec_upd_arriv, Length: 113409, dtype: float64"
      ]
     },
     "execution_count": 52,
     "metadata": {},
     "output_type": "execute_result"
    }
   ],
   "source": [
    "tb_hotel[\"sec_upd_arriv\"] = tb_hotel[\"diff_reserva_arrival\"].dt.total_seconds()\n",
    "tb_hotel[\"sec_upd_arriv\"]\n"
   ]
  },
  {
   "cell_type": "markdown",
   "metadata": {},
   "source": [
    "O método `total_seconds()` converte uma diferença entre datas em uma variável numérica contendo o número de segundos. Podemos utilizar essa variável para calcular outras unidades de tempo continuo (como horas e dias). \n",
    "\n",
    "Outra operação comum é adicionar (ou subtrair) uma variável numérica de uma data (conhecendo a unidade da variável numérica). Para essa tarefa utilizaremos a função `pd.to_timedelta`."
   ]
  },
  {
   "cell_type": "code",
   "execution_count": 53,
   "metadata": {},
   "outputs": [
    {
     "data": {
      "text/html": [
       "<div>\n",
       "<style scoped>\n",
       "    .dataframe tbody tr th:only-of-type {\n",
       "        vertical-align: middle;\n",
       "    }\n",
       "\n",
       "    .dataframe tbody tr th {\n",
       "        vertical-align: top;\n",
       "    }\n",
       "\n",
       "    .dataframe thead th {\n",
       "        text-align: right;\n",
       "    }\n",
       "</style>\n",
       "<table border=\"1\" class=\"dataframe\">\n",
       "  <thead>\n",
       "    <tr style=\"text-align: right;\">\n",
       "      <th></th>\n",
       "      <th>reserva_dt</th>\n",
       "      <th>lead_time</th>\n",
       "      <th>arrival_dt</th>\n",
       "    </tr>\n",
       "  </thead>\n",
       "  <tbody>\n",
       "    <tr>\n",
       "      <th>0</th>\n",
       "      <td>2014-07-24</td>\n",
       "      <td>342</td>\n",
       "      <td>2015-07-01</td>\n",
       "    </tr>\n",
       "    <tr>\n",
       "      <th>1</th>\n",
       "      <td>2013-06-24</td>\n",
       "      <td>737</td>\n",
       "      <td>2015-07-01</td>\n",
       "    </tr>\n",
       "    <tr>\n",
       "      <th>2</th>\n",
       "      <td>2015-06-24</td>\n",
       "      <td>7</td>\n",
       "      <td>2015-07-01</td>\n",
       "    </tr>\n",
       "    <tr>\n",
       "      <th>3</th>\n",
       "      <td>2015-06-18</td>\n",
       "      <td>13</td>\n",
       "      <td>2015-07-01</td>\n",
       "    </tr>\n",
       "    <tr>\n",
       "      <th>4</th>\n",
       "      <td>2015-06-17</td>\n",
       "      <td>14</td>\n",
       "      <td>2015-07-01</td>\n",
       "    </tr>\n",
       "    <tr>\n",
       "      <th>...</th>\n",
       "      <td>...</td>\n",
       "      <td>...</td>\n",
       "      <td>...</td>\n",
       "    </tr>\n",
       "    <tr>\n",
       "      <th>113404</th>\n",
       "      <td>2017-08-07</td>\n",
       "      <td>23</td>\n",
       "      <td>2017-08-30</td>\n",
       "    </tr>\n",
       "    <tr>\n",
       "      <th>113405</th>\n",
       "      <td>2017-05-21</td>\n",
       "      <td>102</td>\n",
       "      <td>2017-08-31</td>\n",
       "    </tr>\n",
       "    <tr>\n",
       "      <th>113406</th>\n",
       "      <td>2017-07-28</td>\n",
       "      <td>34</td>\n",
       "      <td>2017-08-31</td>\n",
       "    </tr>\n",
       "    <tr>\n",
       "      <th>113407</th>\n",
       "      <td>2017-05-14</td>\n",
       "      <td>109</td>\n",
       "      <td>2017-08-31</td>\n",
       "    </tr>\n",
       "    <tr>\n",
       "      <th>113408</th>\n",
       "      <td>2017-02-05</td>\n",
       "      <td>205</td>\n",
       "      <td>2017-08-29</td>\n",
       "    </tr>\n",
       "  </tbody>\n",
       "</table>\n",
       "<p>113409 rows × 3 columns</p>\n",
       "</div>"
      ],
      "text/plain": [
       "       reserva_dt  lead_time arrival_dt\n",
       "0      2014-07-24        342 2015-07-01\n",
       "1      2013-06-24        737 2015-07-01\n",
       "2      2015-06-24          7 2015-07-01\n",
       "3      2015-06-18         13 2015-07-01\n",
       "4      2015-06-17         14 2015-07-01\n",
       "...           ...        ...        ...\n",
       "113404 2017-08-07         23 2017-08-30\n",
       "113405 2017-05-21        102 2017-08-31\n",
       "113406 2017-07-28         34 2017-08-31\n",
       "113407 2017-05-14        109 2017-08-31\n",
       "113408 2017-02-05        205 2017-08-29\n",
       "\n",
       "[113409 rows x 3 columns]"
      ]
     },
     "execution_count": 53,
     "metadata": {},
     "output_type": "execute_result"
    }
   ],
   "source": [
    "# Vamos calcular a data na qual foi feita a reserva a partir da data de chegada e o lead time.\n",
    "tb_hotel[\"reserva_dt\"] = tb_hotel[\"arrival_dt\"] - pd.to_timedelta(\n",
    "    tb_hotel[\"lead_time\"], unit=\"d\"\n",
    ")\n",
    "tb_hotel[[\"reserva_dt\", \"lead_time\", \"arrival_dt\"]]\n"
   ]
  },
  {
   "cell_type": "markdown",
   "metadata": {},
   "source": [
    "Como podemos ver, utilizamos a `pd.to_timedelta` para converter o `lead_time` em uma diferença de dias (especificado pelo argumento `unit = \"d\"`).\n",
    "\n",
    "Outra transformação comum aplicada à datas é a transformação para variáveis categóricas (como por exemplo mês do ano, dia do mês e semana do ano). Para essas conversões utilizamos os diferentes métodos presentes no atributo `.dt`."
   ]
  },
  {
   "cell_type": "code",
   "execution_count": 54,
   "metadata": {},
   "outputs": [
    {
     "data": {
      "text/plain": [
       "0         7\n",
       "1         6\n",
       "2         6\n",
       "3         6\n",
       "4         6\n",
       "         ..\n",
       "113404    8\n",
       "113405    5\n",
       "113406    7\n",
       "113407    5\n",
       "113408    2\n",
       "Name: mes_reserva, Length: 113409, dtype: object"
      ]
     },
     "execution_count": 54,
     "metadata": {},
     "output_type": "execute_result"
    }
   ],
   "source": [
    "# Aqui utilizamos o método astype para converter o mês numérico em categoria.\n",
    "tb_hotel['mes_reserva'] = tb_hotel[\"reserva_dt\"].dt.month.astype(str)\n",
    "tb_hotel['mes_reserva']"
   ]
  },
  {
   "cell_type": "code",
   "execution_count": 55,
   "metadata": {},
   "outputs": [
    {
     "name": "stderr",
     "output_type": "stream",
     "text": [
      "/var/folders/c2/4vv1dtt97gl9bn1lvw8rf0k40000gn/T/ipykernel_5154/2761786052.py:2: FutureWarning: Series.dt.weekofyear and Series.dt.week have been deprecated. Please use Series.dt.isocalendar().week instead.\n",
      "  tb_hotel['semana_reserva'] = tb_hotel[\"reserva_dt\"].dt.week.astype(str)\n"
     ]
    },
    {
     "data": {
      "text/plain": [
       "0         30\n",
       "1         26\n",
       "2         26\n",
       "3         25\n",
       "4         25\n",
       "          ..\n",
       "113404    32\n",
       "113405    20\n",
       "113406    30\n",
       "113407    19\n",
       "113408     5\n",
       "Name: semana_reserva, Length: 113409, dtype: object"
      ]
     },
     "execution_count": 55,
     "metadata": {},
     "output_type": "execute_result"
    }
   ],
   "source": [
    "# O atributo week nos retorna o número da semana no ano\n",
    "tb_hotel['semana_reserva'] = tb_hotel[\"reserva_dt\"].dt.week.astype(str)\n",
    "tb_hotel['semana_reserva']"
   ]
  },
  {
   "cell_type": "code",
   "execution_count": 56,
   "metadata": {},
   "outputs": [
    {
     "data": {
      "text/plain": [
       "0         3\n",
       "1         0\n",
       "2         2\n",
       "3         3\n",
       "4         2\n",
       "         ..\n",
       "113404    0\n",
       "113405    6\n",
       "113406    4\n",
       "113407    6\n",
       "113408    6\n",
       "Name: dia_semana_reserva, Length: 113409, dtype: object"
      ]
     },
     "execution_count": 56,
     "metadata": {},
     "output_type": "execute_result"
    }
   ],
   "source": [
    "# O atributo weekday extrai o dia da semana (segunda, terça, etc...)\n",
    "tb_hotel['dia_semana_reserva'] = tb_hotel[\"reserva_dt\"].dt.weekday.astype(str)\n",
    "tb_hotel['dia_semana_reserva']"
   ]
  },
  {
   "cell_type": "markdown",
   "metadata": {},
   "source": [
    "## Tratamentos gerais\n",
    "\n",
    "Além dos tratamentos específicos para colunas categóricas e de data, temos diversos tratamentos à variaveis continuas como a normalização (em suas varias formas) e as transformações de potência. Além disso podemos utilizar algumas funções para construir uma limpeza de outlier simples mas eficiente."
   ]
  },
  {
   "cell_type": "markdown",
   "metadata": {},
   "source": [
    "### Normalização\n",
    "\n",
    "A normalização busca restringir uma variável à um espaço delimitado (entre -3 e 3 mais ou menos). O objetivo da normalização é remover variações de unidades que impactam muitos modelos (especialmente aqueles baseados em distância, como DBSCAN, KNN e PCA). É sempre uma boa prática alimentar as variáveis para diferentes modelos após algum tratamento de normalização. Vamos começar vendo o tratamento mais simples fornecido pela SKLEARN - o StandardScaler."
   ]
  },
  {
   "cell_type": "code",
   "execution_count": 57,
   "metadata": {},
   "outputs": [],
   "source": [
    "from sklearn.preprocessing import StandardScaler"
   ]
  },
  {
   "cell_type": "markdown",
   "metadata": {},
   "source": [
    "O objeto StandardScaler realiza a normalização da forma mais direta possível: subtraindo a média e dividindo pelo desvio padrão. Vamos visualizar o efeito que essa normalização tem sobre uma variável."
   ]
  },
  {
   "cell_type": "code",
   "execution_count": 58,
   "metadata": {},
   "outputs": [
    {
     "data": {
      "text/plain": [
       "Text(0.5, 0, 'Segundos')"
      ]
     },
     "execution_count": 58,
     "metadata": {},
     "output_type": "execute_result"
    },
    {
     "data": {
      "image/png": "[encoded data removed]",
      "text/plain": [
       "<Figure size 432x288 with 1 Axes>"
      ]
     },
     "metadata": {
      "needs_background": "light"
     },
     "output_type": "display_data"
    }
   ],
   "source": [
    "g= sns.kdeplot(data = tb_hotel, x = 'sec_upd_arriv');\n",
    "g.set_title(\"Distribuição de Segundos\\nentre Atualização da Reserva e Chegada\");\n",
    "g.set_xlabel(\"Segundos\")"
   ]
  },
  {
   "cell_type": "markdown",
   "metadata": {},
   "source": [
    "No gráfico acima podemos ver a distribuição original dessa variável, indo de um pouco abaixo de zero à 20.000.000 de segundos. Vamos fitar um objeto StandardScaler"
   ]
  },
  {
   "cell_type": "code",
   "execution_count": 59,
   "metadata": {},
   "outputs": [
    {
     "data": {
      "text/plain": [
       "StandardScaler()"
      ]
     },
     "execution_count": 59,
     "metadata": {},
     "output_type": "execute_result"
    }
   ],
   "source": [
    "scaler_supd = StandardScaler()\n",
    "scaler_supd.fit(tb_hotel[['sec_upd_arriv']])"
   ]
  },
  {
   "cell_type": "markdown",
   "metadata": {},
   "source": [
    "Como esse objeto utiliza a média e desvio padrão para normalizar a variável em questão, podemos acessar esses atributos através das variáveis `mean_` e `scale_`"
   ]
  },
  {
   "cell_type": "code",
   "execution_count": 60,
   "metadata": {},
   "outputs": [
    {
     "name": "stdout",
     "output_type": "stream",
     "text": [
      "Média encontrada: [2569950.70232521]\n",
      "Desvio padrão encontrado: [6060764.30273301]\n"
     ]
    }
   ],
   "source": [
    "print(f\"Média encontrada: {scaler_supd.mean_}\")\n",
    "print(f\"Desvio padrão encontrado: {scaler_supd.scale_}\")"
   ]
  },
  {
   "cell_type": "markdown",
   "metadata": {},
   "source": [
    "Para obter a variável transformada podemos utilizar o método `transform`."
   ]
  },
  {
   "cell_type": "code",
   "execution_count": 61,
   "metadata": {},
   "outputs": [
    {
     "data": {
      "text/plain": [
       "Text(0.5, 0, 'Desvios Padrões')"
      ]
     },
     "execution_count": 61,
     "metadata": {},
     "output_type": "execute_result"
    },
    {
     "data": {
      "image/png": "[encoded data removed]",
      "text/plain": [
       "<Figure size 432x288 with 1 Axes>"
      ]
     },
     "metadata": {
      "needs_background": "light"
     },
     "output_type": "display_data"
    }
   ],
   "source": [
    "tb_hotel['norm_supd'] = scaler_supd.transform(tb_hotel[['sec_upd_arriv']])\n",
    "g= sns.kdeplot(data = tb_hotel, x = 'norm_supd');\n",
    "g.set_title(\"Distribuição Normalizada de Segundos\\nentre Atualização da Reserva e Chegada\");\n",
    "g.set_xlabel(\"Desvios Padrões\")"
   ]
  },
  {
   "cell_type": "markdown",
   "metadata": {},
   "source": [
    "No gráfico acima podemos ver que o StandardScaler não altera a forma da distribuição. Podemos utilizar um scaler para tratar multiplas variáveis ao mesmo tempo: ele calculará a média e o desvio padrão para cada variável, normalizando-as individualmente."
   ]
  },
  {
   "cell_type": "code",
   "execution_count": 62,
   "metadata": {},
   "outputs": [
    {
     "data": {
      "text/plain": [
       "array([[-0.42403079,  2.22547699,  0.24444682, -0.26123803],\n",
       "       [-0.42403079,  5.92071425,  0.24444682, -0.26123803],\n",
       "       [-0.43828642, -0.9084584 , -1.46861438, -0.26123803],\n",
       "       ...,\n",
       "       [-0.52382019, -0.65587257,  0.24444682, -0.26123803],\n",
       "       [-0.52382019,  0.04575476,  0.24444682, -0.26123803],\n",
       "       [-0.55233144,  0.94383774,  0.24444682, -0.26123803]])"
      ]
     },
     "execution_count": 62,
     "metadata": {},
     "output_type": "execute_result"
    }
   ],
   "source": [
    "scaler = StandardScaler()\n",
    "var_norm = scaler.fit_transform(tb_hotel[['sec_upd_arriv', 'lead_time', 'adults', 'children']])\n",
    "var_norm"
   ]
  },
  {
   "cell_type": "markdown",
   "metadata": {},
   "source": [
    "Se nossos dados tem uma variância muito grande, como no caso acima, com muitos eventos mais do que 3 desvios padrões da média, podemos utilizar uma transformação de potência (power transform) para *encolher* essa variação. Essa transformação é uma extensão da utilização do logaritmo para tratar variáveis e, como o logaritmo, muda a relação entre diferentes variáveis após a transformação (o que pode ser desejável)."
   ]
  },
  {
   "cell_type": "code",
   "execution_count": 63,
   "metadata": {},
   "outputs": [],
   "source": [
    "from sklearn.preprocessing import PowerTransformer"
   ]
  },
  {
   "cell_type": "code",
   "execution_count": 64,
   "metadata": {},
   "outputs": [
    {
     "data": {
      "image/png": "[encoded data removed]",
      "text/plain": [
       "<Figure size 432x288 with 1 Axes>"
      ]
     },
     "metadata": {
      "needs_background": "light"
     },
     "output_type": "display_data"
    }
   ],
   "source": [
    "yeo_scaler = PowerTransformer()\n",
    "tb_hotel['yeo_supd'] = yeo_scaler.fit_transform(tb_hotel[['sec_upd_arriv']])\n",
    "g= sns.kdeplot(data = tb_hotel, x = 'yeo_supd');\n",
    "g.set_title(\"Distribuição Transformada de Segundos\\nentre Atualização da Reserva e Chegada\");\n",
    "g.set_xlabel(\"Valor Transformado\");"
   ]
  },
  {
   "cell_type": "markdown",
   "metadata": {},
   "source": [
    "Como podemos ver no gráfico acima, a transformação mudou a distribuição da variável original, tornando-a mais próxima de uma distribuição normal."
   ]
  },
  {
   "cell_type": "code",
   "execution_count": 65,
   "metadata": {},
   "outputs": [
    {
     "data": {
      "image/png": "[encoded data removed]",
      "text/plain": [
       "<Figure size 432x288 with 1 Axes>"
      ]
     },
     "metadata": {
      "needs_background": "light"
     },
     "output_type": "display_data"
    }
   ],
   "source": [
    "g= sns.scatterplot(data = tb_hotel, x = 'sec_upd_arriv', y = 'yeo_supd')\n",
    "g.set_title(\"Relação entre variável Original e Transformada\");\n",
    "g.set_xlabel(\"Valor Original\");\n",
    "g.set_ylabel(\"Valor Transformado\");"
   ]
  },
  {
   "cell_type": "markdown",
   "metadata": {},
   "source": [
    "Vimos acima duas formas distintas de transformar os dados: a normalização e a transformação de potência. Quando utilizamos cada uma?\n",
    "\n",
    "* **StandardScaler**: sempre antes de alimentar dados à diferentes algoritmos, quando queremos remover a unidade da variável original e medi-la em desvios padrão.\n",
    "* **PowerTransform**: quando percebemos que uma relação que queremos modelar segue uma curva exponencial, ou quando queremos remover/reduzir efeitos de outliers."
   ]
  },
  {
   "cell_type": "markdown",
   "metadata": {},
   "source": [
    "#### Limpeza de Outliers\n",
    "\n",
    "Como vimos acima, podemos usar a PowerTransform para tratar outliers de uma maneira inclusiva. No entanto, muitas vezes outliers são elementos que não representam o processo real dos dados (podem ser erros de digitação, ou mesmo de sistema por exemplo). Nesses casos é melhor excluirmos os pontos ofensores para que estes não impactem nossos modelos e análises. Vamos utilizar uma rotina simples para remover pontos dessa forma para limpar a variável `sec_upd_arriv` da nossa tabela."
   ]
  },
  {
   "cell_type": "code",
   "execution_count": 67,
   "metadata": {},
   "outputs": [
    {
     "name": "stdout",
     "output_type": "stream",
     "text": [
      "Limite inferior: -1209600.0\n",
      "Limite superior: 31536000.000000004\n"
     ]
    }
   ],
   "source": [
    "p = 0.005\n",
    "q_inf = np.quantile(tb_hotel['sec_upd_arriv'], p)\n",
    "q_sup = np.quantile(tb_hotel['sec_upd_arriv'], 1 - p)\n",
    "print(f\"Limite inferior: {q_inf}\")\n",
    "print(f\"Limite superior: {q_sup}\")"
   ]
  },
  {
   "cell_type": "markdown",
   "metadata": {},
   "source": [
    "Utilizando a função `np.quantiles` podemos calcular limites inferiores e superiores para nossa variável através de seus quantis. Agora vamos utilizar esses limites para construir uma máscara e aplica-la ao nosso data frame."
   ]
  },
  {
   "cell_type": "code",
   "execution_count": 68,
   "metadata": {},
   "outputs": [
    {
     "name": "stdout",
     "output_type": "stream",
     "text": [
      "Removemos 746 de 113409 linhas\n"
     ]
    }
   ],
   "source": [
    "outlier_mask = (tb_hotel['sec_upd_arriv'] < q_inf) | (tb_hotel['sec_upd_arriv'] > q_sup)\n",
    "tb_hotel_nout = tb_hotel[~outlier_mask]\n",
    "print(f\"Removemos {tb_hotel.shape[0] - tb_hotel_nout.shape[0]} de {tb_hotel.shape[0]} linhas\")"
   ]
  },
  {
   "cell_type": "code",
   "execution_count": 69,
   "metadata": {},
   "outputs": [
    {
     "data": {
      "text/plain": [
       "count    1.126630e+05\n",
       "mean     2.406082e+06\n",
       "std      5.560664e+06\n",
       "min     -1.209600e+06\n",
       "25%     -2.592000e+05\n",
       "50%     -8.640000e+04\n",
       "75%      2.160000e+06\n",
       "max      3.153600e+07\n",
       "Name: sec_upd_arriv, dtype: float64"
      ]
     },
     "execution_count": 69,
     "metadata": {},
     "output_type": "execute_result"
    }
   ],
   "source": [
    "tb_hotel_nout['sec_upd_arriv'].describe()"
   ]
  },
  {
   "cell_type": "code",
   "execution_count": 70,
   "metadata": {},
   "outputs": [
    {
     "data": {
      "text/plain": [
       "count    1.134090e+05\n",
       "mean     2.569951e+06\n",
       "std      6.060791e+06\n",
       "min     -5.961600e+06\n",
       "25%     -2.592000e+05\n",
       "50%     -8.640000e+04\n",
       "75%      2.246400e+06\n",
       "max      4.544640e+07\n",
       "Name: sec_upd_arriv, dtype: float64"
      ]
     },
     "execution_count": 70,
     "metadata": {},
     "output_type": "execute_result"
    }
   ],
   "source": [
    "tb_hotel['sec_upd_arriv'].describe()"
   ]
  },
  {
   "cell_type": "markdown",
   "metadata": {},
   "source": [
    "Esse tipo de tratamento controla o quão agressivo somos com a exclusão através do parâmetro `p`: sempre vamos excluir `2*p%` das linhas da base. Como saber se devemos ou não excluir outliers?\n",
    "\n",
    "* **Conhecimento dos dados**: o conhecimento empirico dos dados sempre nos ajuda a saber se certos valores de uma variável são absurdos;\n",
    "* **Performance de Modelo Preditivo**: no caso de estarmos construindo um modelo preditivo, podemos variar o parâmetro `p` e mensurar o erro do nosso modelo, estimando empiracamente um patamar de exclusão que mais beneficie nosso modelo."
   ]
  },
  {
   "cell_type": "markdown",
   "metadata": {},
   "source": [
    "## Seleção automática de features\n",
    "Uma etapa importante em modelos completamente automáticos é a seleção automática de features. Quanto mais features um modelo tem, mais complexo ele é e mais sensível aos erros de estimativa. Sempre buscamos o modelo mais simples (tanto em features quanto em técnicas) que traga o erro necessário para o negócio. Modelos mais simples também são mais estáveis e tem uma perenidade maior.\n",
    "\n",
    "Até agora vimos como utilizar transformações de variáveis (`PCA` e `NMF`) para reduzir nosso feature set sem perder capacidade preditiva. No entanto, podemos utilizar técnicas de seleção automática de variáveis para excluir features que sejam redundantes (seja pela sua baixa capacidade preditiva seja pela alta colinearidade com outras variáveis). Para isso vamos utilizar a biblioteca `yellowbrick` (embora tenhamos funções semelhantes na SKLEARN dentro do submodulo `sklearn.feature_selection`)."
   ]
  },
  {
   "cell_type": "code",
   "execution_count": 71,
   "metadata": {},
   "outputs": [],
   "source": [
    "from yellowbrick.model_selection import RFECV\n",
    "from sklearn.model_selection import StratifiedKFold\n",
    "from sklearn.linear_model import LogisticRegression"
   ]
  },
  {
   "cell_type": "code",
   "execution_count": 79,
   "metadata": {},
   "outputs": [
    {
     "data": {
      "text/plain": [
       "Index(['hotel', 'is_cancelled', 'lead_time', 'stays_in_weekend_nights',\n",
       "       'stays_in_week_nights', 'adults', 'children', 'babies', 'meal',\n",
       "       'country', 'market_segment', 'distribution_channel',\n",
       "       'is_repeated_guest', 'previous_cancellations',\n",
       "       'previous_bookings_not_canceled', 'reserved_room_type',\n",
       "       'assigned_room_type', 'booking_changes', 'deposit_type', 'agent',\n",
       "       'company', 'days_in_waiting_list', 'customer_type', 'adr',\n",
       "       'required_car_parking_spaces', 'total_of_special_requests',\n",
       "       'reservation_status_date', 'arrival_date', 'id_booking',\n",
       "       'ord_reserved_room_type', 'arrival_dt', 'update_dt',\n",
       "       'diff_reserva_arrival', 'sec_upd_arriv', 'reserva_dt', 'mes_reserva',\n",
       "       'semana_reserva', 'dia_semana_reserva', 'norm_supd', 'yeo_supd'],\n",
       "      dtype='object')"
      ]
     },
     "execution_count": 79,
     "metadata": {},
     "output_type": "execute_result"
    }
   ],
   "source": [
    "tb_hotel.columns"
   ]
  },
  {
   "cell_type": "markdown",
   "metadata": {},
   "source": [
    "Vamos utilizar o objeto `rfecv` que utiliza a técnica de eliminação recursiva de variáveis com cross-validation para escolher o melhor subconjunto de features. Vamos testa-lo sobre o nosso problema de variáveis dummies visto acima."
   ]
  },
  {
   "cell_type": "code",
   "execution_count": 112,
   "metadata": {
    "scrolled": false
   },
   "outputs": [
    {
     "name": "stderr",
     "output_type": "stream",
     "text": [
      "/Users/pedroteche/opt/anaconda3/lib/python3.9/site-packages/sklearn/linear_model/_logistic.py:814: ConvergenceWarning: lbfgs failed to converge (status=2):\n",
      "ABNORMAL_TERMINATION_IN_LNSRCH.\n",
      "\n",
      "Increase the number of iterations (max_iter) or scale the data as shown in:\n",
      "    https://scikit-learn.org/stable/modules/preprocessing.html\n",
      "Please also refer to the documentation for alternative solver options:\n",
      "    https://scikit-learn.org/stable/modules/linear_model.html#logistic-regression\n",
      "  n_iter_i = _check_optimize_result(\n",
      "/Users/pedroteche/opt/anaconda3/lib/python3.9/site-packages/sklearn/linear_model/_logistic.py:814: ConvergenceWarning: lbfgs failed to converge (status=2):\n",
      "ABNORMAL_TERMINATION_IN_LNSRCH.\n",
      "\n",
      "Increase the number of iterations (max_iter) or scale the data as shown in:\n",
      "    https://scikit-learn.org/stable/modules/preprocessing.html\n",
      "Please also refer to the documentation for alternative solver options:\n",
      "    https://scikit-learn.org/stable/modules/linear_model.html#logistic-regression\n",
      "  n_iter_i = _check_optimize_result(\n",
      "/Users/pedroteche/opt/anaconda3/lib/python3.9/site-packages/sklearn/linear_model/_logistic.py:814: ConvergenceWarning: lbfgs failed to converge (status=2):\n",
      "ABNORMAL_TERMINATION_IN_LNSRCH.\n",
      "\n",
      "Increase the number of iterations (max_iter) or scale the data as shown in:\n",
      "    https://scikit-learn.org/stable/modules/preprocessing.html\n",
      "Please also refer to the documentation for alternative solver options:\n",
      "    https://scikit-learn.org/stable/modules/linear_model.html#logistic-regression\n",
      "  n_iter_i = _check_optimize_result(\n",
      "/Users/pedroteche/opt/anaconda3/lib/python3.9/site-packages/sklearn/linear_model/_logistic.py:814: ConvergenceWarning: lbfgs failed to converge (status=2):\n",
      "ABNORMAL_TERMINATION_IN_LNSRCH.\n",
      "\n",
      "Increase the number of iterations (max_iter) or scale the data as shown in:\n",
      "    https://scikit-learn.org/stable/modules/preprocessing.html\n",
      "Please also refer to the documentation for alternative solver options:\n",
      "    https://scikit-learn.org/stable/modules/linear_model.html#logistic-regression\n",
      "  n_iter_i = _check_optimize_result(\n",
      "/Users/pedroteche/opt/anaconda3/lib/python3.9/site-packages/sklearn/linear_model/_logistic.py:814: ConvergenceWarning: lbfgs failed to converge (status=2):\n",
      "ABNORMAL_TERMINATION_IN_LNSRCH.\n",
      "\n",
      "Increase the number of iterations (max_iter) or scale the data as shown in:\n",
      "    https://scikit-learn.org/stable/modules/preprocessing.html\n",
      "Please also refer to the documentation for alternative solver options:\n",
      "    https://scikit-learn.org/stable/modules/linear_model.html#logistic-regression\n",
      "  n_iter_i = _check_optimize_result(\n",
      "/Users/pedroteche/opt/anaconda3/lib/python3.9/site-packages/sklearn/linear_model/_logistic.py:814: ConvergenceWarning: lbfgs failed to converge (status=2):\n",
      "ABNORMAL_TERMINATION_IN_LNSRCH.\n",
      "\n",
      "Increase the number of iterations (max_iter) or scale the data as shown in:\n",
      "    https://scikit-learn.org/stable/modules/preprocessing.html\n",
      "Please also refer to the documentation for alternative solver options:\n",
      "    https://scikit-learn.org/stable/modules/linear_model.html#logistic-regression\n",
      "  n_iter_i = _check_optimize_result(\n",
      "/Users/pedroteche/opt/anaconda3/lib/python3.9/site-packages/sklearn/linear_model/_logistic.py:814: ConvergenceWarning: lbfgs failed to converge (status=2):\n",
      "ABNORMAL_TERMINATION_IN_LNSRCH.\n",
      "\n",
      "Increase the number of iterations (max_iter) or scale the data as shown in:\n",
      "    https://scikit-learn.org/stable/modules/preprocessing.html\n",
      "Please also refer to the documentation for alternative solver options:\n",
      "    https://scikit-learn.org/stable/modules/linear_model.html#logistic-regression\n",
      "  n_iter_i = _check_optimize_result(\n",
      "/Users/pedroteche/opt/anaconda3/lib/python3.9/site-packages/sklearn/linear_model/_logistic.py:814: ConvergenceWarning: lbfgs failed to converge (status=2):\n",
      "ABNORMAL_TERMINATION_IN_LNSRCH.\n",
      "\n",
      "Increase the number of iterations (max_iter) or scale the data as shown in:\n",
      "    https://scikit-learn.org/stable/modules/preprocessing.html\n",
      "Please also refer to the documentation for alternative solver options:\n",
      "    https://scikit-learn.org/stable/modules/linear_model.html#logistic-regression\n",
      "  n_iter_i = _check_optimize_result(\n",
      "/Users/pedroteche/opt/anaconda3/lib/python3.9/site-packages/sklearn/linear_model/_logistic.py:814: ConvergenceWarning: lbfgs failed to converge (status=2):\n",
      "ABNORMAL_TERMINATION_IN_LNSRCH.\n",
      "\n",
      "Increase the number of iterations (max_iter) or scale the data as shown in:\n",
      "    https://scikit-learn.org/stable/modules/preprocessing.html\n",
      "Please also refer to the documentation for alternative solver options:\n",
      "    https://scikit-learn.org/stable/modules/linear_model.html#logistic-regression\n",
      "  n_iter_i = _check_optimize_result(\n",
      "/Users/pedroteche/opt/anaconda3/lib/python3.9/site-packages/sklearn/linear_model/_logistic.py:814: ConvergenceWarning: lbfgs failed to converge (status=2):\n",
      "ABNORMAL_TERMINATION_IN_LNSRCH.\n",
      "\n",
      "Increase the number of iterations (max_iter) or scale the data as shown in:\n",
      "    https://scikit-learn.org/stable/modules/preprocessing.html\n",
      "Please also refer to the documentation for alternative solver options:\n",
      "    https://scikit-learn.org/stable/modules/linear_model.html#logistic-regression\n",
      "  n_iter_i = _check_optimize_result(\n",
      "/Users/pedroteche/opt/anaconda3/lib/python3.9/site-packages/sklearn/linear_model/_logistic.py:814: ConvergenceWarning: lbfgs failed to converge (status=2):\n",
      "ABNORMAL_TERMINATION_IN_LNSRCH.\n",
      "\n",
      "Increase the number of iterations (max_iter) or scale the data as shown in:\n",
      "    https://scikit-learn.org/stable/modules/preprocessing.html\n",
      "Please also refer to the documentation for alternative solver options:\n",
      "    https://scikit-learn.org/stable/modules/linear_model.html#logistic-regression\n",
      "  n_iter_i = _check_optimize_result(\n",
      "/Users/pedroteche/opt/anaconda3/lib/python3.9/site-packages/sklearn/linear_model/_logistic.py:814: ConvergenceWarning: lbfgs failed to converge (status=2):\n",
      "ABNORMAL_TERMINATION_IN_LNSRCH.\n",
      "\n",
      "Increase the number of iterations (max_iter) or scale the data as shown in:\n",
      "    https://scikit-learn.org/stable/modules/preprocessing.html\n",
      "Please also refer to the documentation for alternative solver options:\n",
      "    https://scikit-learn.org/stable/modules/linear_model.html#logistic-regression\n",
      "  n_iter_i = _check_optimize_result(\n",
      "/Users/pedroteche/opt/anaconda3/lib/python3.9/site-packages/sklearn/linear_model/_logistic.py:814: ConvergenceWarning: lbfgs failed to converge (status=2):\n",
      "ABNORMAL_TERMINATION_IN_LNSRCH.\n",
      "\n",
      "Increase the number of iterations (max_iter) or scale the data as shown in:\n",
      "    https://scikit-learn.org/stable/modules/preprocessing.html\n",
      "Please also refer to the documentation for alternative solver options:\n",
      "    https://scikit-learn.org/stable/modules/linear_model.html#logistic-regression\n",
      "  n_iter_i = _check_optimize_result(\n",
      "/Users/pedroteche/opt/anaconda3/lib/python3.9/site-packages/sklearn/linear_model/_logistic.py:814: ConvergenceWarning: lbfgs failed to converge (status=2):\n",
      "ABNORMAL_TERMINATION_IN_LNSRCH.\n",
      "\n",
      "Increase the number of iterations (max_iter) or scale the data as shown in:\n",
      "    https://scikit-learn.org/stable/modules/preprocessing.html\n",
      "Please also refer to the documentation for alternative solver options:\n",
      "    https://scikit-learn.org/stable/modules/linear_model.html#logistic-regression\n",
      "  n_iter_i = _check_optimize_result(\n",
      "/Users/pedroteche/opt/anaconda3/lib/python3.9/site-packages/sklearn/linear_model/_logistic.py:814: ConvergenceWarning: lbfgs failed to converge (status=2):\n",
      "ABNORMAL_TERMINATION_IN_LNSRCH.\n",
      "\n",
      "Increase the number of iterations (max_iter) or scale the data as shown in:\n",
      "    https://scikit-learn.org/stable/modules/preprocessing.html\n",
      "Please also refer to the documentation for alternative solver options:\n",
      "    https://scikit-learn.org/stable/modules/linear_model.html#logistic-regression\n",
      "  n_iter_i = _check_optimize_result(\n",
      "/Users/pedroteche/opt/anaconda3/lib/python3.9/site-packages/sklearn/linear_model/_logistic.py:814: ConvergenceWarning: lbfgs failed to converge (status=2):\n",
      "ABNORMAL_TERMINATION_IN_LNSRCH.\n",
      "\n",
      "Increase the number of iterations (max_iter) or scale the data as shown in:\n",
      "    https://scikit-learn.org/stable/modules/preprocessing.html\n",
      "Please also refer to the documentation for alternative solver options:\n",
      "    https://scikit-learn.org/stable/modules/linear_model.html#logistic-regression\n",
      "  n_iter_i = _check_optimize_result(\n",
      "/Users/pedroteche/opt/anaconda3/lib/python3.9/site-packages/sklearn/linear_model/_logistic.py:814: ConvergenceWarning: lbfgs failed to converge (status=2):\n",
      "ABNORMAL_TERMINATION_IN_LNSRCH.\n",
      "\n",
      "Increase the number of iterations (max_iter) or scale the data as shown in:\n",
      "    https://scikit-learn.org/stable/modules/preprocessing.html\n",
      "Please also refer to the documentation for alternative solver options:\n",
      "    https://scikit-learn.org/stable/modules/linear_model.html#logistic-regression\n",
      "  n_iter_i = _check_optimize_result(\n",
      "/Users/pedroteche/opt/anaconda3/lib/python3.9/site-packages/sklearn/linear_model/_logistic.py:814: ConvergenceWarning: lbfgs failed to converge (status=2):\n",
      "ABNORMAL_TERMINATION_IN_LNSRCH.\n",
      "\n",
      "Increase the number of iterations (max_iter) or scale the data as shown in:\n",
      "    https://scikit-learn.org/stable/modules/preprocessing.html\n",
      "Please also refer to the documentation for alternative solver options:\n",
      "    https://scikit-learn.org/stable/modules/linear_model.html#logistic-regression\n",
      "  n_iter_i = _check_optimize_result(\n"
     ]
    },
    {
     "name": "stderr",
     "output_type": "stream",
     "text": [
      "/Users/pedroteche/opt/anaconda3/lib/python3.9/site-packages/sklearn/linear_model/_logistic.py:814: ConvergenceWarning: lbfgs failed to converge (status=2):\n",
      "ABNORMAL_TERMINATION_IN_LNSRCH.\n",
      "\n",
      "Increase the number of iterations (max_iter) or scale the data as shown in:\n",
      "    https://scikit-learn.org/stable/modules/preprocessing.html\n",
      "Please also refer to the documentation for alternative solver options:\n",
      "    https://scikit-learn.org/stable/modules/linear_model.html#logistic-regression\n",
      "  n_iter_i = _check_optimize_result(\n",
      "/Users/pedroteche/opt/anaconda3/lib/python3.9/site-packages/sklearn/linear_model/_logistic.py:814: ConvergenceWarning: lbfgs failed to converge (status=2):\n",
      "ABNORMAL_TERMINATION_IN_LNSRCH.\n",
      "\n",
      "Increase the number of iterations (max_iter) or scale the data as shown in:\n",
      "    https://scikit-learn.org/stable/modules/preprocessing.html\n",
      "Please also refer to the documentation for alternative solver options:\n",
      "    https://scikit-learn.org/stable/modules/linear_model.html#logistic-regression\n",
      "  n_iter_i = _check_optimize_result(\n",
      "/Users/pedroteche/opt/anaconda3/lib/python3.9/site-packages/sklearn/linear_model/_logistic.py:814: ConvergenceWarning: lbfgs failed to converge (status=2):\n",
      "ABNORMAL_TERMINATION_IN_LNSRCH.\n",
      "\n",
      "Increase the number of iterations (max_iter) or scale the data as shown in:\n",
      "    https://scikit-learn.org/stable/modules/preprocessing.html\n",
      "Please also refer to the documentation for alternative solver options:\n",
      "    https://scikit-learn.org/stable/modules/linear_model.html#logistic-regression\n",
      "  n_iter_i = _check_optimize_result(\n"
     ]
    },
    {
     "data": {
      "image/png": "[encoded data removed]",
      "text/plain": [
       "<Figure size 576x396 with 1 Axes>"
      ]
     },
     "metadata": {},
     "output_type": "display_data"
    },
    {
     "data": {
      "text/plain": [
       "<AxesSubplot:title={'center':'RFECV for LogisticRegression'}, xlabel='Number of Features Selected', ylabel='Score'>"
      ]
     },
     "execution_count": 112,
     "metadata": {},
     "output_type": "execute_result"
    }
   ],
   "source": [
    "\n",
    "colunas = ['lead_time', 'lead_time_2', 'lead_time_3','lead_time_4','lead_time_5','lead_time_6']\n",
    "tb_hotel['lead_time_2'] = tb_hotel['lead_time']**2\n",
    "tb_hotel['lead_time_3'] = tb_hotel['lead_time']**3\n",
    "tb_hotel['lead_time_4'] = tb_hotel['lead_time']**4\n",
    "tb_hotel['lead_time_5'] = tb_hotel['lead_time']**5\n",
    "tb_hotel['lead_time_6'] = tb_hotel['lead_time']**6\n",
    "X_train, X_test, y_train, y_test = train_test_split(tb_hotel[colunas],\n",
    "                                                    tb_hotel[\"is_cancelled\"],\n",
    "                                                    test_size=0.2)\n",
    "\n",
    "\n",
    "cv = StratifiedKFold(3)\n",
    "log_fit = LogisticRegression()\n",
    "rfecv_fit = RFECV(log_fit, cv=cv, scoring='f1')\n",
    "rfecv_fit.fit(X_train, y_train)\n",
    "rfecv_fit.show()"
   ]
  },
  {
   "cell_type": "code",
   "execution_count": 113,
   "metadata": {},
   "outputs": [
    {
     "data": {
      "text/plain": [
       "array(['x5'], dtype=object)"
      ]
     },
     "execution_count": 113,
     "metadata": {},
     "output_type": "execute_result"
    }
   ],
   "source": [
    "rfecv_fit.rfe_estimator_.get_feature_names_out()"
   ]
  },
  {
   "cell_type": "code",
   "execution_count": 114,
   "metadata": {},
   "outputs": [],
   "source": [
    "## Extraindo colunas dos Previsores\n",
    "\n",
    "## Pegando as features que foram selecionadas (.support)\n",
    "temp = pd.Series(rfecv_fit.support_,index=colunas)\n"
   ]
  },
  {
   "cell_type": "code",
   "execution_count": 115,
   "metadata": {},
   "outputs": [
    {
     "data": {
      "text/plain": [
       "lead_time      False\n",
       "lead_time_2    False\n",
       "lead_time_3    False\n",
       "lead_time_4    False\n",
       "lead_time_5    False\n",
       "lead_time_6     True\n",
       "dtype: bool"
      ]
     },
     "execution_count": 115,
     "metadata": {},
     "output_type": "execute_result"
    }
   ],
   "source": [
    "temp"
   ]
  },
  {
   "cell_type": "code",
   "execution_count": null,
   "metadata": {},
   "outputs": [],
   "source": [
    "## Observando as melhores (.index)\n",
    "features_selecionadas_rfe = temp[temp==True].index\n",
    "print(features_selecionadas_rfe)\n",
    "\n"
   ]
  }
 ],
 "metadata": {
  "interpreter": {
   "hash": "014f4a4a5af8f0104b12c029e500f4146d6d785e8cf714d2a35b7a9514230cd3"
  },
  "kernelspec": {
   "display_name": "Python 3 (ipykernel)",
   "language": "python",
   "name": "python3"
  },
  "language_info": {
   "codemirror_mode": {
    "name": "ipython",
    "version": 3
   },
   "file_extension": ".py",
   "mimetype": "text/x-python",
   "name": "python",
   "nbconvert_exporter": "python",
   "pygments_lexer": "ipython3",
   "version": "3.9.11"
  },
  "toc": {
   "base_numbering": 1,
   "nav_menu": {},
   "number_sections": true,
   "sideBar": true,
   "skip_h1_title": false,
   "title_cell": "Table of Contents",
   "title_sidebar": "Contents",
   "toc_cell": false,
   "toc_position": {},
   "toc_section_display": true,
   "toc_window_display": false
  }
 },
 "nbformat": 4,
 "nbformat_minor": 2
}
