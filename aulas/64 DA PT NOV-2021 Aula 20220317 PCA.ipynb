{
 "cells": [
  {
   "cell_type": "markdown",
   "id": "59268f5f",
   "metadata": {
    "toc": true
   },
   "source": [
    "<h1>Table of Contents<span class=\"tocSkip\"></span></h1>\n",
    "<div class=\"toc\"><ul class=\"toc-item\"><li><span><a href=\"#Principal-Component-Analysis\" data-toc-modified-id=\"Principal-Component-Analysis-1\"><span class=\"toc-item-num\">1&nbsp;&nbsp;</span>Principal Component Analysis</a></span><ul class=\"toc-item\"><li><span><a href=\"#Application-1:-Diamonds\" data-toc-modified-id=\"Application-1:-Diamonds-1.1\"><span class=\"toc-item-num\">1.1&nbsp;&nbsp;</span>Application 1: Diamonds</a></span><ul class=\"toc-item\"><li><span><a href=\"#Etapa-1:-Carregar-e-transformar-os-Dados\" data-toc-modified-id=\"Etapa-1:-Carregar-e-transformar-os-Dados-1.1.1\"><span class=\"toc-item-num\">1.1.1&nbsp;&nbsp;</span>Etapa 1: Carregar e transformar os Dados</a></span></li><li><span><a href=\"#Etapa-2:-Normalizar-os-dados\" data-toc-modified-id=\"Etapa-2:-Normalizar-os-dados-1.1.2\"><span class=\"toc-item-num\">1.1.2&nbsp;&nbsp;</span>Etapa 2: Normalizar os dados</a></span></li><li><span><a href=\"#Etapa-3:-PCA-Projection-to-2D\" data-toc-modified-id=\"Etapa-3:-PCA-Projection-to-2D-1.1.3\"><span class=\"toc-item-num\">1.1.3&nbsp;&nbsp;</span>Etapa 3: PCA Projection to 2D</a></span></li><li><span><a href=\"#Etapa-4:-Análise\" data-toc-modified-id=\"Etapa-4:-Análise-1.1.4\"><span class=\"toc-item-num\">1.1.4&nbsp;&nbsp;</span>Etapa 4: Análise</a></span><ul class=\"toc-item\"><li><span><a href=\"#Visualização-de-dados\" data-toc-modified-id=\"Visualização-de-dados-1.1.4.1\"><span class=\"toc-item-num\">1.1.4.1&nbsp;&nbsp;</span>Visualização de dados</a></span></li><li><span><a href=\"#Variância-Explicada\" data-toc-modified-id=\"Variância-Explicada-1.1.4.2\"><span class=\"toc-item-num\">1.1.4.2&nbsp;&nbsp;</span>Variância Explicada</a></span></li><li><span><a href=\"#Análise-dos-Loadings\" data-toc-modified-id=\"Análise-dos-Loadings-1.1.4.3\"><span class=\"toc-item-num\">1.1.4.3&nbsp;&nbsp;</span>Análise dos Loadings</a></span></li></ul></li></ul></li><li><span><a href=\"#Application-2:-Simulation\" data-toc-modified-id=\"Application-2:-Simulation-1.2\"><span class=\"toc-item-num\">1.2&nbsp;&nbsp;</span>Application 2: Simulation</a></span><ul class=\"toc-item\"><li><span><a href=\"#Simulando-os-dados\" data-toc-modified-id=\"Simulando-os-dados-1.2.1\"><span class=\"toc-item-num\">1.2.1&nbsp;&nbsp;</span>Simulando os dados</a></span></li><li><span><a href=\"#Modelando\" data-toc-modified-id=\"Modelando-1.2.2\"><span class=\"toc-item-num\">1.2.2&nbsp;&nbsp;</span>Modelando</a></span></li><li><span><a href=\"#O-que-está-acontecendo?\" data-toc-modified-id=\"O-que-está-acontecendo?-1.2.3\"><span class=\"toc-item-num\">1.2.3&nbsp;&nbsp;</span>O que está acontecendo?</a></span></li></ul></li><li><span><a href=\"#Application-3:-NLP\" data-toc-modified-id=\"Application-3:-NLP-1.3\"><span class=\"toc-item-num\">1.3&nbsp;&nbsp;</span>Application 3: NLP</a></span><ul class=\"toc-item\"><li><span><a href=\"#Carregando-dados\" data-toc-modified-id=\"Carregando-dados-1.3.1\"><span class=\"toc-item-num\">1.3.1&nbsp;&nbsp;</span>Carregando dados</a></span></li><li><span><a href=\"#Conhecendo-o-CountVectorizer\" data-toc-modified-id=\"Conhecendo-o-CountVectorizer-1.3.2\"><span class=\"toc-item-num\">1.3.2&nbsp;&nbsp;</span>Conhecendo o CountVectorizer</a></span></li><li><span><a href=\"#Reduzindo-o-vocabulário\" data-toc-modified-id=\"Reduzindo-o-vocabulário-1.3.3\"><span class=\"toc-item-num\">1.3.3&nbsp;&nbsp;</span>Reduzindo o vocabulário</a></span></li><li><span><a href=\"#Modelando\" data-toc-modified-id=\"Modelando-1.3.4\"><span class=\"toc-item-num\">1.3.4&nbsp;&nbsp;</span>Modelando</a></span></li></ul></li></ul></li></ul></div>"
   ]
  },
  {
   "cell_type": "code",
   "execution_count": null,
   "id": "7ec04ab4",
   "metadata": {
    "ExecuteTime": {
     "end_time": "2022-03-17T19:49:44.936718Z",
     "start_time": "2022-03-17T19:49:43.273547Z"
    }
   },
   "outputs": [],
   "source": [
    "import psycopg2, random\n",
    "import numpy as np\n",
    "import seaborn as sns\n",
    "import pandas as pd\n",
    "from matplotlib import pyplot as plt"
   ]
  },
  {
   "cell_type": "markdown",
   "id": "77d1fa69",
   "metadata": {},
   "source": [
    "# Principal Component Analysis \n",
    "PCA is fundamentally a dimensionality reduction algorithm, but it can also be useful as a tool for visualization, for noise filtering, for feature extraction and engineering, and much more."
   ]
  },
  {
   "cell_type": "code",
   "execution_count": null,
   "id": "52ef0366",
   "metadata": {
    "ExecuteTime": {
     "end_time": "2022-03-17T21:44:31.431051Z",
     "start_time": "2022-03-17T21:44:31.418100Z"
    },
    "code_folding": []
   },
   "outputs": [],
   "source": [
    "def simular_dado_mv_x(parametros_x1, parametros_x2, samples):\n",
    "    x1 = np.random.normal(loc=parametros_x1[0],\n",
    "                          scale=parametros_x1[1],\n",
    "                          size=samples)\n",
    "    x2 = x1 + np.random.normal(loc=parametros_x2[0], \n",
    "                               scale=parametros_x2[1], \n",
    "                               size=samples)\n",
    "    return pd.DataFrame({'x1': x1, 'x2': x2,})"
   ]
  },
  {
   "cell_type": "code",
   "execution_count": null,
   "id": "d8773685",
   "metadata": {
    "ExecuteTime": {
     "end_time": "2022-03-17T21:44:31.588146Z",
     "start_time": "2022-03-17T21:44:31.577153Z"
    }
   },
   "outputs": [],
   "source": [
    "tb_simul_x = simular_dado_mv_x((0, 5), (0, 2), 100)"
   ]
  },
  {
   "cell_type": "code",
   "execution_count": null,
   "id": "8ee518bd",
   "metadata": {
    "ExecuteTime": {
     "end_time": "2022-03-17T21:44:51.535189Z",
     "start_time": "2022-03-17T21:44:51.333846Z"
    }
   },
   "outputs": [],
   "source": [
    "sns.scatterplot(data = tb_simul_x, x = 'x1', y = 'x2')"
   ]
  },
  {
   "cell_type": "code",
   "execution_count": null,
   "id": "042b00a0",
   "metadata": {
    "ExecuteTime": {
     "end_time": "2022-03-17T21:45:27.190961Z",
     "start_time": "2022-03-17T21:45:27.168025Z"
    }
   },
   "outputs": [],
   "source": [
    "from sklearn.decomposition import PCA\n",
    "\n",
    "pca_t = PCA(n_components = 2)\n",
    "\n",
    "pca_t.fit(tb_simul_x)\n",
    "\n",
    "pca_X_norm = pca_t.transform(tb_simul_x)"
   ]
  },
  {
   "cell_type": "code",
   "execution_count": null,
   "id": "9c431129",
   "metadata": {
    "ExecuteTime": {
     "end_time": "2022-03-17T21:46:01.598992Z",
     "start_time": "2022-03-17T21:46:01.593036Z"
    }
   },
   "outputs": [],
   "source": [
    "pca_X_norm[0:5,:]"
   ]
  },
  {
   "cell_type": "code",
   "execution_count": null,
   "id": "45d09873",
   "metadata": {
    "ExecuteTime": {
     "end_time": "2022-03-17T21:48:14.830782Z",
     "start_time": "2022-03-17T21:48:14.814824Z"
    }
   },
   "outputs": [],
   "source": [
    "tb_pca_x = pd.DataFrame(pca_X_norm, columns = ['PC1', 'PC2'])\n",
    "tb_full_x = pd.concat([tb_pca_x, tb_simul_x], axis = 1)"
   ]
  },
  {
   "cell_type": "code",
   "execution_count": null,
   "id": "75822f3a",
   "metadata": {
    "ExecuteTime": {
     "end_time": "2022-03-17T21:49:13.527623Z",
     "start_time": "2022-03-17T21:49:13.297212Z"
    }
   },
   "outputs": [],
   "source": [
    "sns.scatterplot(data = tb_full_x, x = 'PC1', y = 'PC2')"
   ]
  },
  {
   "cell_type": "markdown",
   "id": "4351b02d",
   "metadata": {},
   "source": [
    "## Application 1: Diamonds"
   ]
  },
  {
   "cell_type": "markdown",
   "id": "9a076c85",
   "metadata": {},
   "source": [
    "### Etapa 1: Carregar e transformar os Dados"
   ]
  },
  {
   "cell_type": "code",
   "execution_count": null,
   "id": "fa0e77ee",
   "metadata": {
    "ExecuteTime": {
     "end_time": "2022-03-17T21:02:34.092843Z",
     "start_time": "2022-03-17T21:02:34.083866Z"
    },
    "code_folding": []
   },
   "outputs": [],
   "source": [
    "def etl_diamonds(diamonds):\n",
    "    x_0 = diamonds['x'] == 0\n",
    "    y_0 = diamonds['y'] == 0\n",
    "    z_0 = diamonds['z'] == 0\n",
    "    dim_0 = x_0 | y_0 | z_0\n",
    "    diamonds_c = diamonds[~dim_0].copy()\n",
    "    print('Linhas na etapa atual:', str(len(diamonds_c)))\n",
    "    dict_clarity = {\n",
    "        'I1': 0,\n",
    "        'SI2': 1,\n",
    "        'SI1': 2,\n",
    "        'VS2': 3,\n",
    "        'VS1': 4,\n",
    "        'VVS2': 5,\n",
    "        'VVS1': 6,\n",
    "        'IF': 7\n",
    "    }\n",
    "    diamonds_c['clarity_num'] = diamonds_c['clarity'].map(dict_clarity)\n",
    "    dict_color = {\n",
    "        'D': 0,\n",
    "        'E': 1,\n",
    "        'F': 2,\n",
    "        'G': 3,\n",
    "        'H': 4,\n",
    "        'I': 5,\n",
    "        'J': 6,\n",
    "    }\n",
    "    diamonds_c['color_num'] = diamonds_c['color'].map(dict_color)\n",
    "    dict_cut = {\n",
    "        'Fair': 0,\n",
    "        'Good': 1,\n",
    "        'Very Good': 2,\n",
    "        'Premium': 3,\n",
    "        'Ideal': 4,\n",
    "    }\n",
    "    diamonds_c['cut_num'] = diamonds_c['cut'].map(dict_cut)\n",
    "    diamonds_c['volume'] = diamonds_c['x'] * diamonds_c['y'] * diamonds_c['z']\n",
    "    diamonds_c['price_k'] = diamonds_c['price']/diamonds_c['carat']\n",
    "    diamonds_c['density'] = diamonds_c['carat']/diamonds_c['volume']\n",
    "    pricek_inf = np.quantile(diamonds_c['price_k'], 0.01)\n",
    "    pricek_sup = np.quantile(diamonds_c['price_k'], 0.99)\n",
    "    density_inf = np.quantile(diamonds_c['density'], 0.01)\n",
    "    density_sup = np.quantile(diamonds_c['density'], 0.99)\n",
    "    pricek_in = (pricek_inf < diamonds_c['price_k']) &  (diamonds_c['price_k'] < pricek_sup)\n",
    "    density_in = (density_inf < diamonds_c['density']) &  (diamonds_c['density'] < density_sup)\n",
    "    diamonds_c = diamonds_c[pricek_in & density_in].copy()\n",
    "    \n",
    "    diamonds_c['log_carat'] = np.log(diamonds_c['carat'])\n",
    "    diamonds_c['log_price'] = np.log(diamonds_c['price'])\n",
    "    diamonds_c = diamonds_c.drop(['cut', 'color', 'price', 'clarity', 'price_k', 'density', 'carat', 'clarity'],\n",
    "                                axis = 1)\n",
    "    return diamonds_c"
   ]
  },
  {
   "cell_type": "code",
   "execution_count": null,
   "id": "323ef2c8",
   "metadata": {
    "ExecuteTime": {
     "end_time": "2022-03-17T21:02:35.446865Z",
     "start_time": "2022-03-17T21:02:35.359074Z"
    }
   },
   "outputs": [],
   "source": [
    "diamonds = pd.read_csv('data/tb_diamantes.csv')\n",
    "diamonds_c = etl_diamonds(diamonds)\n",
    "diamonds_c.columns"
   ]
  },
  {
   "cell_type": "code",
   "execution_count": null,
   "id": "930cefaf",
   "metadata": {
    "ExecuteTime": {
     "end_time": "2022-03-17T21:02:36.929613Z",
     "start_time": "2022-03-17T21:02:36.903651Z"
    }
   },
   "outputs": [],
   "source": [
    "diamonds_c.head()"
   ]
  },
  {
   "cell_type": "markdown",
   "id": "dc901b1e",
   "metadata": {},
   "source": [
    "### Etapa 2: Normalizar os dados"
   ]
  },
  {
   "cell_type": "code",
   "execution_count": null,
   "id": "3ec84540",
   "metadata": {
    "ExecuteTime": {
     "end_time": "2022-03-17T21:02:37.789167Z",
     "start_time": "2022-03-17T21:02:37.785178Z"
    }
   },
   "outputs": [],
   "source": [
    "from sklearn.preprocessing import StandardScaler"
   ]
  },
  {
   "cell_type": "code",
   "execution_count": null,
   "id": "7203e323",
   "metadata": {
    "ExecuteTime": {
     "end_time": "2022-03-17T21:02:38.400836Z",
     "start_time": "2022-03-17T21:02:38.374600Z"
    }
   },
   "outputs": [],
   "source": [
    "X = diamonds_c[['depth', 'table', 'x', 'y', 'z', 'clarity_num', 'color_num',\n",
    "       'cut_num', 'volume', 'log_carat']]\n",
    "norm = StandardScaler().fit(X)\n",
    "X_norm = norm.transform(X)"
   ]
  },
  {
   "cell_type": "code",
   "execution_count": null,
   "id": "8fe5c6de",
   "metadata": {
    "ExecuteTime": {
     "end_time": "2022-03-17T21:02:39.071019Z",
     "start_time": "2022-03-17T21:02:39.062043Z"
    }
   },
   "outputs": [],
   "source": [
    "X_norm.shape"
   ]
  },
  {
   "cell_type": "code",
   "execution_count": null,
   "id": "6ec66e5f",
   "metadata": {
    "ExecuteTime": {
     "end_time": "2022-03-17T21:02:39.586592Z",
     "start_time": "2022-03-17T21:02:39.567580Z"
    }
   },
   "outputs": [],
   "source": [
    "diamonds_c_norm = np.append(X_norm, diamonds_c[['log_price']].to_numpy(), axis = 1)"
   ]
  },
  {
   "cell_type": "code",
   "execution_count": null,
   "id": "b9aa5129",
   "metadata": {
    "ExecuteTime": {
     "end_time": "2022-03-17T21:02:40.168341Z",
     "start_time": "2022-03-17T21:02:40.154372Z"
    }
   },
   "outputs": [],
   "source": [
    "tb_diamonds_norm = pd.DataFrame(diamonds_c_norm,\n",
    "                            columns=diamonds_c.columns)"
   ]
  },
  {
   "cell_type": "code",
   "execution_count": null,
   "id": "a8b92890",
   "metadata": {
    "ExecuteTime": {
     "end_time": "2022-03-17T21:03:24.594183Z",
     "start_time": "2022-03-17T21:02:41.936976Z"
    }
   },
   "outputs": [],
   "source": [
    "sns.pairplot(tb_diamonds_norm)"
   ]
  },
  {
   "cell_type": "markdown",
   "id": "452421af",
   "metadata": {},
   "source": [
    "### Etapa 3: PCA Projection to 2D\n",
    "* 4 dimensions -> 2 dimensions\n",
    "* You lose some of the variance (information) when you do this"
   ]
  },
  {
   "cell_type": "code",
   "execution_count": null,
   "id": "33bab86b",
   "metadata": {
    "ExecuteTime": {
     "end_time": "2022-03-17T21:03:24.672971Z",
     "start_time": "2022-03-17T21:03:24.596177Z"
    }
   },
   "outputs": [],
   "source": [
    "from sklearn.decomposition import PCA\n",
    "\n",
    "X = tb_diamonds_norm.drop('log_price', axis = 1)\n",
    "pca_t = PCA(n_components = 2)\n",
    "pca_t.fit(X)\n",
    "pca_X_norm = pca_t.transform(X)"
   ]
  },
  {
   "cell_type": "code",
   "execution_count": null,
   "id": "7377ebbe",
   "metadata": {
    "ExecuteTime": {
     "end_time": "2022-03-17T21:03:24.687932Z",
     "start_time": "2022-03-17T21:03:24.674968Z"
    }
   },
   "outputs": [],
   "source": [
    "tb_pca_diam = pd.DataFrame(pca_X_norm, columns = ['PC1', 'PC2'])\n",
    "tb_pca_diam['log_price'] = tb_diamonds_norm['log_price']"
   ]
  },
  {
   "cell_type": "markdown",
   "id": "db13cf67",
   "metadata": {},
   "source": [
    "### Etapa 4: Análise"
   ]
  },
  {
   "cell_type": "markdown",
   "id": "61defac2",
   "metadata": {},
   "source": [
    "#### Visualização de dados"
   ]
  },
  {
   "cell_type": "code",
   "execution_count": null,
   "id": "1cee55ac",
   "metadata": {
    "ExecuteTime": {
     "end_time": "2022-03-17T21:03:25.953628Z",
     "start_time": "2022-03-17T21:03:24.689927Z"
    }
   },
   "outputs": [],
   "source": [
    "sns.scatterplot(data = tb_pca_diam, x = 'PC1', y = 'PC2', hue = 'log_price')"
   ]
  },
  {
   "cell_type": "code",
   "execution_count": null,
   "id": "5e5f8eb9",
   "metadata": {
    "ExecuteTime": {
     "end_time": "2022-03-17T21:03:29.422815Z",
     "start_time": "2022-03-17T21:03:25.954629Z"
    }
   },
   "outputs": [],
   "source": [
    "sns.pairplot(tb_pca_diam)"
   ]
  },
  {
   "cell_type": "markdown",
   "id": "39bbfaca",
   "metadata": {},
   "source": [
    "#### Variância Explicada"
   ]
  },
  {
   "cell_type": "code",
   "execution_count": null,
   "id": "387e7132",
   "metadata": {
    "ExecuteTime": {
     "end_time": "2022-03-17T21:03:29.438384Z",
     "start_time": "2022-03-17T21:03:29.423792Z"
    }
   },
   "outputs": [],
   "source": [
    "pca_t.explained_variance_ratio_"
   ]
  },
  {
   "cell_type": "code",
   "execution_count": null,
   "id": "bde1f59b",
   "metadata": {
    "ExecuteTime": {
     "end_time": "2022-03-17T21:03:29.453437Z",
     "start_time": "2022-03-17T21:03:29.439380Z"
    }
   },
   "outputs": [],
   "source": [
    "sum(pca_t.explained_variance_ratio_)"
   ]
  },
  {
   "cell_type": "code",
   "execution_count": null,
   "id": "03e988e4",
   "metadata": {
    "ExecuteTime": {
     "end_time": "2022-03-17T21:03:29.469497Z",
     "start_time": "2022-03-17T21:03:29.455348Z"
    }
   },
   "outputs": [],
   "source": [
    "2/(len(tb_diamonds_norm.columns) - 1)"
   ]
  },
  {
   "cell_type": "markdown",
   "id": "ef1d9044",
   "metadata": {
    "ExecuteTime": {
     "end_time": "2022-03-17T21:00:09.578776Z",
     "start_time": "2022-03-17T21:00:09.573788Z"
    }
   },
   "source": [
    "#### Análise dos Loadings"
   ]
  },
  {
   "cell_type": "code",
   "execution_count": null,
   "id": "3c8ce12b",
   "metadata": {
    "ExecuteTime": {
     "end_time": "2022-03-17T21:03:29.485258Z",
     "start_time": "2022-03-17T21:03:29.471325Z"
    }
   },
   "outputs": [],
   "source": [
    "loadings = pd.DataFrame(pca_t.components_.T, \n",
    "                        columns=['PC1', 'PC2'], \n",
    "                        index=X.columns)\n",
    "loadings"
   ]
  },
  {
   "cell_type": "code",
   "execution_count": null,
   "id": "26fee922",
   "metadata": {
    "ExecuteTime": {
     "end_time": "2022-03-17T21:03:29.748757Z",
     "start_time": "2022-03-17T21:03:29.486255Z"
    }
   },
   "outputs": [],
   "source": [
    "plt.figure(figsize = (7,7))\n",
    "p1 = sns.scatterplot(data=loadings, x='PC1', y='PC2')\n",
    "for line in range(0, loadings.shape[0]):\n",
    "    p1.text(loadings.iloc[line, 0] + 0.05,\n",
    "            loadings.iloc[line, 1],\n",
    "            loadings.index[line],\n",
    "            horizontalalignment='left',\n",
    "            size='medium',\n",
    "            color='black')"
   ]
  },
  {
   "cell_type": "markdown",
   "id": "b28b0bc7",
   "metadata": {},
   "source": [
    "## Application 2: Simulation\n",
    "\n",
    "The PCA algorithm will try to find the directions in which the most information is contained. By information, we always mean to say - variance.\n",
    "\n",
    "Rather than attempting to *predict* the y values from the x values, the unsupervised learning problem attempts to learn about the *relationship* between your features (your `X`).\n",
    "\n",
    "In principal component analysis, this relationship is quantified by finding a list of the *principal axes* in the data, and using those axes to describe the dataset."
   ]
  },
  {
   "cell_type": "markdown",
   "id": "c6d3afdf",
   "metadata": {},
   "source": [
    "### Simulando os dados"
   ]
  },
  {
   "cell_type": "code",
   "execution_count": null,
   "id": "217f609c",
   "metadata": {
    "ExecuteTime": {
     "end_time": "2022-03-17T21:06:35.762046Z",
     "start_time": "2022-03-17T21:06:35.750078Z"
    },
    "code_folding": []
   },
   "outputs": [],
   "source": [
    "def simular_dado_mv(parametros_x1, parametros_x2, desvpad_E, samples):\n",
    "    x1 = np.random.normal(loc=parametros_x1[0],\n",
    "                          scale=parametros_x1[1],\n",
    "                          size=samples)\n",
    "    x2 = x1 + np.random.normal(loc=parametros_x2[0], \n",
    "                               scale=parametros_x2[1], \n",
    "                               size=samples)\n",
    "    E = np.random.normal(loc=0, scale=desvpad_E, size=samples)\n",
    "    y = parametros_x1[2] * x1 + parametros_x2[2] * x2 + E\n",
    "    x3 = (desvpad_E/2)*y + np.random.normal(loc = 0, scale = desvpad_E * 3, size = samples)\n",
    "    return pd.DataFrame({'y': y, 'x1': x1, 'x2': x2, 'x3' : x3})"
   ]
  },
  {
   "cell_type": "code",
   "execution_count": null,
   "id": "6c37092c",
   "metadata": {
    "ExecuteTime": {
     "end_time": "2022-03-17T21:06:44.553473Z",
     "start_time": "2022-03-17T21:06:44.547489Z"
    }
   },
   "outputs": [],
   "source": [
    "tb_sim = simular_dado_mv((0, 10, 2), (0, 5, -2), 4, 100)"
   ]
  },
  {
   "cell_type": "code",
   "execution_count": null,
   "id": "5b5df0f0",
   "metadata": {
    "ExecuteTime": {
     "end_time": "2022-03-17T21:10:28.072006Z",
     "start_time": "2022-03-17T21:10:22.972990Z"
    }
   },
   "outputs": [],
   "source": [
    "sns.pairplot(tb_sim)"
   ]
  },
  {
   "cell_type": "markdown",
   "id": "a2ec66c1",
   "metadata": {},
   "source": [
    "### Modelando"
   ]
  },
  {
   "cell_type": "code",
   "execution_count": null,
   "id": "81d7ed8b",
   "metadata": {
    "ExecuteTime": {
     "end_time": "2022-03-17T21:11:31.072135Z",
     "start_time": "2022-03-17T21:11:30.671753Z"
    }
   },
   "outputs": [],
   "source": [
    "import statsmodels.api as sm"
   ]
  },
  {
   "cell_type": "code",
   "execution_count": null,
   "id": "09e98d6d",
   "metadata": {
    "ExecuteTime": {
     "end_time": "2022-03-17T21:11:31.088092Z",
     "start_time": "2022-03-17T21:11:31.075128Z"
    }
   },
   "outputs": [],
   "source": [
    "X = sm.add_constant(tb_sim[['x3']])\n",
    "Y = tb_sim['y']\n",
    "reg = sm.OLS(Y, X)\n",
    "lm_fit_x3 = reg.fit()\n",
    "print(\"RMSE: \", str(round(np.std(lm_fit.resid), 2)))"
   ]
  },
  {
   "cell_type": "code",
   "execution_count": null,
   "id": "9a616b31",
   "metadata": {
    "ExecuteTime": {
     "end_time": "2022-03-17T21:11:32.801504Z",
     "start_time": "2022-03-17T21:11:32.782579Z"
    }
   },
   "outputs": [],
   "source": [
    "X = sm.add_constant(tb_sim[['x1', 'x2']])\n",
    "Y = tb_sim['y']\n",
    "reg = sm.OLS(Y, X)\n",
    "lm_fit_x12 = reg.fit()\n",
    "print(\"RMSE: \", str(round(np.std(lm_fit.resid), 2)))"
   ]
  },
  {
   "cell_type": "markdown",
   "id": "cf18a806",
   "metadata": {},
   "source": [
    "### O que está acontecendo?"
   ]
  },
  {
   "cell_type": "code",
   "execution_count": null,
   "id": "b24932c6",
   "metadata": {
    "ExecuteTime": {
     "end_time": "2022-03-17T21:11:35.549002Z",
     "start_time": "2022-03-17T21:11:35.532065Z"
    }
   },
   "outputs": [],
   "source": [
    "lm_fit_x12.summary()"
   ]
  },
  {
   "cell_type": "code",
   "execution_count": null,
   "id": "9c760dad",
   "metadata": {
    "ExecuteTime": {
     "end_time": "2022-03-17T21:11:52.827906Z",
     "start_time": "2022-03-17T21:11:52.806963Z"
    }
   },
   "outputs": [],
   "source": [
    "norm = StandardScaler().fit(tb_sim[['x1', 'x2']])\n",
    "pca_t = PCA(n_components = 2)\n",
    "pca_t.fit(norm.transform(tb_sim[['x1', 'x2']]))"
   ]
  },
  {
   "cell_type": "code",
   "execution_count": null,
   "id": "119bcc2c",
   "metadata": {
    "ExecuteTime": {
     "end_time": "2022-03-17T21:11:53.324882Z",
     "start_time": "2022-03-17T21:11:53.310920Z"
    }
   },
   "outputs": [],
   "source": [
    "np.cumsum(pca_t.explained_variance_)"
   ]
  },
  {
   "cell_type": "code",
   "execution_count": null,
   "id": "bf149801",
   "metadata": {
    "ExecuteTime": {
     "end_time": "2022-03-17T21:11:53.835748Z",
     "start_time": "2022-03-17T21:11:53.814808Z"
    }
   },
   "outputs": [],
   "source": [
    "loadings = pd.DataFrame(pca_t.components_.T)\n",
    "loadings"
   ]
  },
  {
   "cell_type": "code",
   "execution_count": null,
   "id": "f38d02df",
   "metadata": {
    "ExecuteTime": {
     "end_time": "2022-03-17T21:12:05.731070Z",
     "start_time": "2022-03-17T21:11:54.439902Z"
    }
   },
   "outputs": [],
   "source": [
    "X_pca = pd.DataFrame(pca_t.transform(tb_sim[['x1', 'x2']]))\n",
    "tb_sim_pca = pd.concat([tb_sim, X_pca], axis = 1)\n",
    "sns.pairplot(tb_sim_pca)"
   ]
  },
  {
   "cell_type": "markdown",
   "id": "ce3f3974",
   "metadata": {},
   "source": [
    "## Application 3: NLP"
   ]
  },
  {
   "cell_type": "code",
   "execution_count": null,
   "id": "f8c7341f",
   "metadata": {
    "ExecuteTime": {
     "end_time": "2022-03-17T21:12:57.797941Z",
     "start_time": "2022-03-17T21:12:57.785973Z"
    }
   },
   "outputs": [],
   "source": [
    "from sklearn.feature_extraction.text import CountVectorizer"
   ]
  },
  {
   "cell_type": "markdown",
   "id": "5fbb2b61",
   "metadata": {},
   "source": [
    "### Carregando dados"
   ]
  },
  {
   "cell_type": "code",
   "execution_count": null,
   "id": "f4addd90",
   "metadata": {
    "ExecuteTime": {
     "end_time": "2022-03-17T21:50:00.249429Z",
     "start_time": "2022-03-17T21:50:00.219508Z"
    }
   },
   "outputs": [],
   "source": [
    "food = pd.read_csv('data/Food Composition.csv')"
   ]
  },
  {
   "cell_type": "code",
   "execution_count": null,
   "id": "21b35fbc",
   "metadata": {
    "ExecuteTime": {
     "end_time": "2022-03-17T21:50:00.717924Z",
     "start_time": "2022-03-17T21:50:00.698956Z"
    }
   },
   "outputs": [],
   "source": [
    "food.head()"
   ]
  },
  {
   "cell_type": "code",
   "execution_count": null,
   "id": "b60c9c27",
   "metadata": {
    "ExecuteTime": {
     "end_time": "2022-03-17T21:50:01.358784Z",
     "start_time": "2022-03-17T21:50:01.348785Z"
    }
   },
   "outputs": [],
   "source": [
    "food['text'] = food['Food Name'] + \" \" + food['Food Description']"
   ]
  },
  {
   "cell_type": "markdown",
   "id": "dcf0687c",
   "metadata": {},
   "source": [
    "### Conhecendo o CountVectorizer"
   ]
  },
  {
   "cell_type": "code",
   "execution_count": null,
   "id": "c58ca75b",
   "metadata": {
    "ExecuteTime": {
     "end_time": "2022-03-17T21:50:02.404525Z",
     "start_time": "2022-03-17T21:50:02.354628Z"
    }
   },
   "outputs": [],
   "source": [
    "ck = CountVectorizer(stop_words = 'english')\n",
    "ck_fit = ck.fit_transform(food['text'])\n",
    "X = ck_fit.toarray()"
   ]
  },
  {
   "cell_type": "markdown",
   "id": "6d1a9946",
   "metadata": {},
   "source": [
    "### Reduzindo o vocabulário"
   ]
  },
  {
   "cell_type": "code",
   "execution_count": null,
   "id": "da3064dc",
   "metadata": {
    "ExecuteTime": {
     "end_time": "2022-03-17T21:50:03.667736Z",
     "start_time": "2022-03-17T21:50:03.532069Z"
    }
   },
   "outputs": [],
   "source": [
    "norm = Normalizer().fit(X)\n",
    "pca_t = PCA(n_components = 30)\n",
    "pca_t.fit(norm.transform(X))"
   ]
  },
  {
   "cell_type": "code",
   "execution_count": null,
   "id": "fa20c46f",
   "metadata": {
    "ExecuteTime": {
     "end_time": "2022-03-17T21:50:04.499721Z",
     "start_time": "2022-03-17T21:50:04.478782Z"
    }
   },
   "outputs": [],
   "source": [
    "np.cumsum(pca_t.explained_variance_)"
   ]
  },
  {
   "cell_type": "code",
   "execution_count": null,
   "id": "04f76748",
   "metadata": {
    "ExecuteTime": {
     "end_time": "2022-03-17T21:50:05.267739Z",
     "start_time": "2022-03-17T21:50:05.238787Z"
    }
   },
   "outputs": [],
   "source": [
    "loadings = pd.DataFrame(pca_t.components_.T, \n",
    "                        index=ck.get_feature_names())\n",
    "loadings.sort_values(0, ascending = False).head(10)"
   ]
  },
  {
   "cell_type": "markdown",
   "id": "fa421ce8",
   "metadata": {},
   "source": [
    "### Modelando"
   ]
  },
  {
   "cell_type": "code",
   "execution_count": null,
   "id": "287ba1f3",
   "metadata": {
    "ExecuteTime": {
     "end_time": "2022-03-17T21:50:06.515883Z",
     "start_time": "2022-03-17T21:50:06.477985Z"
    }
   },
   "outputs": [],
   "source": [
    "X_pca = pd.DataFrame(pca_t.transform(X))\n",
    "X_pca['fat'] = food['Fat Factor']\n",
    "fat_pca = X_pca[X_pca['fat'] > 0].copy()"
   ]
  },
  {
   "cell_type": "code",
   "execution_count": null,
   "id": "d3ccbfaa",
   "metadata": {
    "ExecuteTime": {
     "end_time": "2022-03-17T21:50:07.141316Z",
     "start_time": "2022-03-17T21:50:07.128360Z"
    }
   },
   "outputs": [],
   "source": [
    "X = sm.add_constant(fat_pca[range(30)])\n",
    "Y = fat_pca['fat']"
   ]
  },
  {
   "cell_type": "code",
   "execution_count": null,
   "id": "c7aeea54",
   "metadata": {
    "ExecuteTime": {
     "end_time": "2022-03-17T21:50:07.686012Z",
     "start_time": "2022-03-17T21:50:07.656092Z"
    }
   },
   "outputs": [],
   "source": [
    "reg = sm.OLS(Y, X)\n",
    "lm_fit = reg.fit()\n",
    "lm_fit.summary()"
   ]
  },
  {
   "cell_type": "code",
   "execution_count": null,
   "id": "66b94038",
   "metadata": {
    "ExecuteTime": {
     "end_time": "2022-03-17T21:50:33.252763Z",
     "start_time": "2022-03-17T21:50:33.245785Z"
    }
   },
   "outputs": [],
   "source": [
    "fat_pca['pred_fat'] = lm_fit.predict()"
   ]
  },
  {
   "cell_type": "code",
   "execution_count": null,
   "id": "8554cc57",
   "metadata": {
    "ExecuteTime": {
     "end_time": "2022-03-17T21:50:59.141652Z",
     "start_time": "2022-03-17T21:50:59.123676Z"
    }
   },
   "outputs": [],
   "source": [
    "fat_pca['ape'] = abs(fat_pca['pred_fat'] - fat_pca['fat'])/fat_pca['fat']"
   ]
  },
  {
   "cell_type": "code",
   "execution_count": null,
   "id": "223fbf10",
   "metadata": {
    "ExecuteTime": {
     "end_time": "2022-03-17T21:51:04.030940Z",
     "start_time": "2022-03-17T21:51:04.010964Z"
    }
   },
   "outputs": [],
   "source": [
    "np.mean(fat_pca['ape'])"
   ]
  },
  {
   "cell_type": "code",
   "execution_count": null,
   "id": "d72572d7",
   "metadata": {
    "ExecuteTime": {
     "end_time": "2022-03-17T21:51:26.266380Z",
     "start_time": "2022-03-17T21:51:26.015599Z"
    }
   },
   "outputs": [],
   "source": [
    "sns.histplot(data = fat_pca, x ='ape')"
   ]
  },
  {
   "cell_type": "code",
   "execution_count": null,
   "id": "7ec10e18",
   "metadata": {},
   "outputs": [],
   "source": []
  }
 ],
 "metadata": {
  "hide_input": false,
  "kernelspec": {
   "display_name": "Python 3",
   "language": "python",
   "name": "python3"
  },
  "language_info": {
   "codemirror_mode": {
    "name": "ipython",
    "version": 3
   },
   "file_extension": ".py",
   "mimetype": "text/x-python",
   "name": "python",
   "nbconvert_exporter": "python",
   "pygments_lexer": "ipython3",
   "version": "3.8.8"
  },
  "toc": {
   "base_numbering": 1,
   "nav_menu": {},
   "number_sections": true,
   "sideBar": true,
   "skip_h1_title": false,
   "title_cell": "Table of Contents",
   "title_sidebar": "Contents",
   "toc_cell": true,
   "toc_position": {
    "height": "calc(100% - 180px)",
    "left": "10px",
    "top": "150px",
    "width": "337px"
   },
   "toc_section_display": true,
   "toc_window_display": true
  }
 },
 "nbformat": 4,
 "nbformat_minor": 5
}
